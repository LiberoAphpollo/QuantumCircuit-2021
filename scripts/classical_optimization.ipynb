{
 "cells": [
  {
   "cell_type": "markdown",
   "metadata": {},
   "source": [
    "<img src=\"./images/QISKit-c.gif\" alt=\"Note: In order for images to show up in this jupyter notebook you need to select File => Trusted Notebook\" width=\"250 px\" align=\"left\">"
   ]
  },
  {
   "cell_type": "markdown",
   "metadata": {},
   "source": [
    "## _*Classical Optimization*_ \n",
    "\n",
    "The latest version of this notebook is available on https://github.com/IBM/qiskit-sdk-py/tree/master/scripts.\n",
    "\n",
    "For more information about how to use the Quantum Experience consult the [Quantum Experience tutorials](https://quantumexperience.ng.bluemix.net/qstage/#/tutorial?sectionId=c59b3710b928891a1420190148a72cce&pageIndex=0) or check-out the [community](https://quantumexperience.ng.bluemix.net/qstage/#/community).\n",
    "\n",
    "***\n",
    "### Contributors\n",
    "Jay Gambetta, Antonio Mezzacapo"
   ]
  },
  {
   "cell_type": "markdown",
   "metadata": {},
   "source": [
    "## Introduction\n",
    "\n",
    "NP-Complete problems are very important. Here we show a method that is very similar to CITE[Fahri] recent paper. \n",
    "\n",
    "Here we propose that we map the cost function of the problem to a Hamiltonian of the form\n",
    "\n",
    "$$ H = \\alpha_i Z_i + \\beta_{i,j} Z_jZ_i + \\gamma_{i,j,k}Z_kZ_jZ_i +... $$\n",
    "\n",
    "and the goal is to find the configuration that minimizes the energy.\n",
    "\n",
    "The trial functions we propose using are of the form \n",
    "\n",
    "$$|\\psi(\\theta)\\rangle  = [U_\\mathrm{single}(\\theta) U_\\mathrm{entangler}]^m |+\\rangle$$\n",
    "\n",
    "where $U_\\mathrm{entangler}$ is a function of cPhase gates and $U_\\mathrm{single}(\\theta) = X(\\theta)^{\\otimes n}$"
   ]
  },
  {
   "cell_type": "code",
   "execution_count": 2,
   "metadata": {
    "collapsed": false
   },
   "outputs": [],
   "source": [
    "#Checking the version of PYTHON we only support 3 at the moment\n",
    "import sys\n",
    "if sys.version_info < (3,0):\n",
    "    raise Exception(\"Please use Python version 3 or greater.\")\n",
    "    \n",
    "#usefull additional packages \n",
    "import matplotlib.pyplot as plt\n",
    "import numpy as np\n",
    "import scipy as sp\n",
    "import scipy.linalg\n",
    "%matplotlib inline\n",
    "import time\n",
    "\n",
    "#importing the QX and QISKit \n",
    "from IBMQuantumExperience import IBMQuantumExperience\n",
    "import sys\n",
    "sys.path.append(\"..\")\n",
    "from qiskit import QuantumRegister, ClassicalRegister, QuantumCircuit\n",
    "from qiskit.extensions.standard import x, h, cx, s, u3, barrier, cz\n",
    "\n",
    "#some usefull functions for running a program, plotting, and getting the data\n",
    "from qhelpers.misc import run_program\n",
    "from qhelpers.misc import program_to_text\n",
    "from qhelpers.misc import combine_jobs\n",
    "from qhelpers.misc import get_data\n",
    "from qhelpers.basicplotter import plot_histogram\n",
    "from qhelpers.misc import average_data\n",
    "from tools.quantum_optimization import cost_classical\n",
    "\n",
    "#Set up the API to communitcate to the QX\n",
    "import Qconfig\n",
    "api = IBMQuantumExperience.IBMQuantumExperience(Qconfig.APItoken, Qconfig.config)"
   ]
  },
  {
   "cell_type": "code",
   "execution_count": 6,
   "metadata": {
    "collapsed": false
   },
   "outputs": [
    {
     "name": "stdout",
     "output_type": "stream",
     "text": [
      "status = {'RUNNING': 1} (0 seconds)\n",
      "status = {'COMPLETED': 1} (20 seconds)\n"
     ]
    },
    {
     "data": {
      "text/plain": [
       "-4.0"
      ]
     },
     "execution_count": 6,
     "metadata": {},
     "output_type": "execute_result"
    }
   ],
   "source": [
    "n=5 #number of qubits\n",
    "device = 'simulator' # the device to run on\n",
    "shots = 1024    #the number of shots in the experiment. \n",
    "\n",
    "#making a classical trial function \n",
    "q = QuantumRegister(\"q\", n)\n",
    "c = ClassicalRegister(\"c\", n)\n",
    "trial_circuit = QuantumCircuit(q, c)\n",
    "trial_circuit.x(q[0])\n",
    "trial_circuit.x(q[3])\n",
    "trial_circuit.x(q[4])\n",
    "for j in range (n):\n",
    "    trial_circuit.measure(q[j], c[j])\n",
    "\n",
    "\n",
    "#making a program to run\n",
    "program = [trial_circuit]\n",
    "out = run_program(program,api,device,shots,max_credits=3)\n",
    "jobids=[out['id']]\n",
    "results=combine_jobs(jobids, api, wait=20, timeout=240)  \n",
    "\n",
    "#cost function\n",
    "alpha = np.zeros(5)\n",
    "alpha[4] = 1\n",
    "beta = np.zeros((5,5))\n",
    "beta[0,1]=0.5\n",
    "beta[1,0]=0.5\n",
    "beta[0,2]=0.5\n",
    "beta[2,0]=0.5\n",
    "beta[1,2]=0.5\n",
    "beta[2,1]=0.5\n",
    "beta[1,3]=0.5\n",
    "beta[3,1]=0.5\n",
    "beta[2,3]=0.5\n",
    "beta[3,2]=0.5\n",
    "\n",
    "data=get_data(results,0)\n",
    "cost_classical(data,n,alpha,beta)"
   ]
  },
  {
   "cell_type": "code",
   "execution_count": 3,
   "metadata": {
    "collapsed": true
   },
   "outputs": [],
   "source": [
    "def trial_funtion_optimization(q,c,n,m,theta):\n",
    "    \"\"\"trial function. \n",
    "    q = quantum register \n",
    "    c = classical register \n",
    "    n = number of qubits\n",
    "    m = depth\n",
    "    theta = control vectors n*i+j where j counts the qubits and i the depth \n",
    "    \"\"\"\n",
    "    trial_circuit = QuantumCircuit(q, c)\n",
    "    trial_circuit.h(q)\n",
    "    for i in range (m):\n",
    "        trial_circuit.barrier(q)\n",
    "        trial_circuit.cz(q[0],q[2])\n",
    "        trial_circuit.cz(q[1],q[2])\n",
    "        trial_circuit.cz(q[3],q[2])\n",
    "        trial_circuit.cz(q[4],q[2])\n",
    "        for j in range (n):\n",
    "            trial_circuit.u3(theta[n*i+j],-np.pi/2,np.pi/2,q[j])\n",
    "    for j in range (n):\n",
    "        trial_circuit.measure(q[j], c[j])\n",
    "    return trial_circuit"
   ]
  },
  {
   "cell_type": "code",
   "execution_count": 8,
   "metadata": {
    "collapsed": false
   },
   "outputs": [
    {
     "name": "stdout",
     "output_type": "stream",
     "text": [
      "status = {'RUNNING': 1} (0 seconds)\n",
      "status = {'COMPLETED': 1} (20 seconds)\n"
     ]
    },
    {
     "data": {
      "text/plain": [
       "-0.01953125"
      ]
     },
     "execution_count": 8,
     "metadata": {},
     "output_type": "execute_result"
    }
   ],
   "source": [
    "device = 'simulator' # the device to run on\n",
    "shots = 1024    #the number of shots in the experiment. \n",
    "\n",
    "#quantum circuit \n",
    "n=5 # number of qubits has to be 5. I fix this later\n",
    "q = QuantumRegister(\"q\", n)\n",
    "c = ClassicalRegister(\"c\", n)\n",
    "m = 1 # the depth of the circuit\n",
    "\n",
    "theta = np.zeros(m*n)\n",
    "trial_circuit = trial_funtion_optimization(q,c,n,m,theta)\n",
    "\n",
    "program = [trial_circuit]\n",
    "\n",
    "out = run_program(program,api,device,shots,max_credits=3)\n",
    "jobids=[out['id']]\n",
    "results=combine_jobs(jobids, api, wait=20, timeout=240)  \n",
    "cost_classical(get_data(results,0),n,alpha,beta)"
   ]
  },
  {
   "cell_type": "code",
   "execution_count": 45,
   "metadata": {
    "collapsed": false
   },
   "outputs": [
    {
     "name": "stdout",
     "output_type": "stream",
     "text": [
      "trial 0 of 50\n",
      "status = {'RUNNING': 1} (0 seconds)\n",
      "status = {'COMPLETED': 1} (20 seconds)\n",
      "trial 1 of 50\n",
      "status = {'RUNNING': 1} (0 seconds)\n",
      "status = {'COMPLETED': 1} (20 seconds)\n",
      "trial 2 of 50\n",
      "status = {'RUNNING': 1} (0 seconds)\n",
      "status = {'COMPLETED': 1} (20 seconds)\n",
      "trial 3 of 50\n",
      "status = {'RUNNING': 1} (0 seconds)\n",
      "status = {'COMPLETED': 1} (20 seconds)\n",
      "trial 4 of 50\n",
      "status = {'RUNNING': 1} (0 seconds)\n",
      "status = {'COMPLETED': 1} (20 seconds)\n",
      "trial 5 of 50\n",
      "status = {'RUNNING': 1} (0 seconds)\n",
      "status = {'COMPLETED': 1} (20 seconds)\n",
      "trial 6 of 50\n",
      "status = {'RUNNING': 1} (0 seconds)\n",
      "status = {'COMPLETED': 1} (20 seconds)\n",
      "trial 7 of 50\n",
      "status = {'RUNNING': 1} (0 seconds)\n",
      "status = {'COMPLETED': 1} (20 seconds)\n",
      "trial 8 of 50\n",
      "status = {'RUNNING': 1} (0 seconds)\n",
      "status = {'COMPLETED': 1} (20 seconds)\n",
      "trial 9 of 50\n",
      "status = {'RUNNING': 1} (0 seconds)\n",
      "status = {'COMPLETED': 1} (20 seconds)\n",
      "trial 10 of 50\n",
      "status = {'RUNNING': 1} (0 seconds)\n",
      "status = {'COMPLETED': 1} (20 seconds)\n",
      "trial 11 of 50\n",
      "status = {'RUNNING': 1} (0 seconds)\n",
      "status = {'COMPLETED': 1} (20 seconds)\n",
      "trial 12 of 50\n",
      "status = {'RUNNING': 1} (0 seconds)\n",
      "status = {'COMPLETED': 1} (20 seconds)\n",
      "trial 13 of 50\n",
      "status = {'RUNNING': 1} (0 seconds)\n",
      "status = {'COMPLETED': 1} (20 seconds)\n",
      "trial 14 of 50\n",
      "status = {'RUNNING': 1} (0 seconds)\n",
      "status = {'COMPLETED': 1} (20 seconds)\n",
      "trial 15 of 50\n",
      "status = {'RUNNING': 1} (0 seconds)\n",
      "status = {'COMPLETED': 1} (20 seconds)\n",
      "trial 16 of 50\n",
      "status = {'RUNNING': 1} (0 seconds)\n",
      "status = {'COMPLETED': 1} (20 seconds)\n",
      "trial 17 of 50\n",
      "status = {'RUNNING': 1} (0 seconds)\n",
      "status = {'COMPLETED': 1} (20 seconds)\n",
      "trial 18 of 50\n",
      "status = {'RUNNING': 1} (0 seconds)\n",
      "status = {'COMPLETED': 1} (20 seconds)\n",
      "trial 19 of 50\n",
      "status = {'RUNNING': 1} (0 seconds)\n",
      "status = {'COMPLETED': 1} (20 seconds)\n",
      "trial 20 of 50\n",
      "status = {'RUNNING': 1} (0 seconds)\n",
      "status = {'COMPLETED': 1} (20 seconds)\n",
      "trial 21 of 50\n",
      "status = {'RUNNING': 1} (0 seconds)\n",
      "status = {'COMPLETED': 1} (20 seconds)\n",
      "trial 22 of 50\n",
      "status = {'RUNNING': 1} (0 seconds)\n",
      "status = {'COMPLETED': 1} (20 seconds)\n",
      "trial 23 of 50\n",
      "status = {'RUNNING': 1} (0 seconds)\n",
      "status = {'COMPLETED': 1} (20 seconds)\n",
      "trial 24 of 50\n",
      "status = {'RUNNING': 1} (0 seconds)\n",
      "status = {'COMPLETED': 1} (20 seconds)\n",
      "trial 25 of 50\n",
      "status = {'RUNNING': 1} (0 seconds)\n",
      "status = {'COMPLETED': 1} (20 seconds)\n",
      "trial 26 of 50\n",
      "status = {'RUNNING': 1} (0 seconds)\n",
      "status = {'COMPLETED': 1} (20 seconds)\n",
      "trial 27 of 50\n",
      "status = {'RUNNING': 1} (0 seconds)\n",
      "status = {'COMPLETED': 1} (20 seconds)\n",
      "trial 28 of 50\n",
      "status = {'RUNNING': 1} (0 seconds)\n",
      "status = {'COMPLETED': 1} (20 seconds)\n",
      "trial 29 of 50\n",
      "status = {'RUNNING': 1} (0 seconds)\n",
      "status = {'COMPLETED': 1} (20 seconds)\n",
      "trial 30 of 50\n",
      "status = {'RUNNING': 1} (0 seconds)\n",
      "status = {'COMPLETED': 1} (20 seconds)\n",
      "trial 31 of 50\n",
      "status = {'RUNNING': 1} (0 seconds)\n",
      "status = {'COMPLETED': 1} (20 seconds)\n",
      "trial 32 of 50\n",
      "status = {'RUNNING': 1} (0 seconds)\n",
      "status = {'COMPLETED': 1} (20 seconds)\n",
      "trial 33 of 50\n",
      "status = {'RUNNING': 1} (0 seconds)\n",
      "status = {'COMPLETED': 1} (20 seconds)\n",
      "trial 34 of 50\n",
      "status = {'RUNNING': 1} (0 seconds)\n",
      "status = {'COMPLETED': 1} (20 seconds)\n",
      "trial 35 of 50\n",
      "status = {'RUNNING': 1} (0 seconds)\n",
      "status = {'COMPLETED': 1} (20 seconds)\n",
      "trial 36 of 50\n",
      "status = {'RUNNING': 1} (0 seconds)\n",
      "status = {'COMPLETED': 1} (20 seconds)\n",
      "trial 37 of 50\n",
      "status = {'RUNNING': 1} (0 seconds)\n",
      "status = {'COMPLETED': 1} (20 seconds)\n",
      "trial 38 of 50\n",
      "status = {'RUNNING': 1} (0 seconds)\n",
      "status = {'COMPLETED': 1} (20 seconds)\n",
      "trial 39 of 50\n",
      "status = {'RUNNING': 1} (0 seconds)\n",
      "status = {'COMPLETED': 1} (20 seconds)\n",
      "trial 40 of 50\n",
      "status = {'RUNNING': 1} (0 seconds)\n",
      "status = {'COMPLETED': 1} (20 seconds)\n",
      "trial 41 of 50\n",
      "status = {'RUNNING': 1} (0 seconds)\n",
      "status = {'COMPLETED': 1} (20 seconds)\n",
      "trial 42 of 50\n",
      "status = {'RUNNING': 1} (0 seconds)\n",
      "status = {'COMPLETED': 1} (20 seconds)\n",
      "trial 43 of 50\n",
      "status = {'RUNNING': 1} (0 seconds)\n",
      "status = {'COMPLETED': 1} (20 seconds)\n",
      "trial 44 of 50\n",
      "status = {'RUNNING': 1} (0 seconds)\n",
      "status = {'COMPLETED': 1} (20 seconds)\n",
      "trial 45 of 50\n",
      "status = {'RUNNING': 1} (0 seconds)\n",
      "status = {'COMPLETED': 1} (20 seconds)\n",
      "trial 46 of 50\n",
      "status = {'RUNNING': 1} (0 seconds)\n",
      "status = {'COMPLETED': 1} (20 seconds)\n",
      "trial 47 of 50\n",
      "status = {'RUNNING': 1} (0 seconds)\n",
      "status = {'COMPLETED': 1} (20 seconds)\n",
      "trial 48 of 50\n",
      "status = {'RUNNING': 1} (0 seconds)\n",
      "status = {'COMPLETED': 1} (20 seconds)\n",
      "trial 49 of 50\n",
      "status = {'RUNNING': 1} (0 seconds)\n",
      "status = {'COMPLETED': 1} (20 seconds)\n",
      "status = {'RUNNING': 1} (0 seconds)\n",
      "status = {'COMPLETED': 1} (20 seconds)\n"
     ]
    }
   ],
   "source": [
    "device = 'simulator' # the device to run on\n",
    "shots = 8192    #the number of shots in the experiment. \n",
    "\n",
    "\n",
    "#quantum circuit \n",
    "n=5 # number of qubits has to be 5. I fix this later\n",
    "q = QuantumRegister(\"q\", n)\n",
    "c = ClassicalRegister(\"c\", n)\n",
    "m = 1 # the depth of the circuit\n",
    "\n",
    "SPSA_parameters = np.array([2,0.602,0,.1,0.101]) #[a, alpha, A, c, gamma]\n",
    "theta_start = np.zeros(m*n)+np.pi/2 # intial controls \n",
    "max_trials = 50;\n",
    "# k loop\n",
    "theta = theta_start\n",
    "cost_plus=np.zeros(max_trials)\n",
    "cost_minus=np.zeros(max_trials)\n",
    "for k in range(max_trials):\n",
    "    print('trial ' + str(k) + \" of \" + str(max_trials))\n",
    "    a_spsa = float(SPSA_parameters[0])/np.power(k+1+SPSA_parameters[2], SPSA_parameters[1])\n",
    "    c_spsa = float(SPSA_parameters[3])/np.power(k+1, SPSA_parameters[4])\n",
    "\n",
    "    Delta = 2*np.random.randint(2,size=n*m)-1 # \\pm 1 random distribution \n",
    "    theta_plus = theta + c_spsa*Delta\n",
    "    theta_minus = theta - c_spsa*Delta\n",
    "\n",
    "    trial_circuit_plus = trial_funtion_optimization(q,c,n,m,theta_plus)\n",
    "    trial_circuit_minus = trial_funtion_optimization(q,c,n,m,theta_minus)\n",
    "\n",
    "    program = [trial_circuit_plus,trial_circuit_minus]\n",
    "    out = run_program(program,api,device,shots,max_credits=3)\n",
    "    results=combine_jobs([out['id']], api, wait=20, timeout=240)  \n",
    "    cost_plus[k] = cost_classical(get_data(results,0),n,alpha,beta)\n",
    "    cost_minus[k] = cost_classical(get_data(results,1),n,alpha,beta)\n",
    "    g_spsa = (cost_plus[k]-cost_minus[k])*Delta/(2.0*c_spsa)\n",
    "    theta = theta - a_spsa*g_spsa\n",
    "\n",
    "trial_circuit =  trial_funtion_optimization(q,c,n,m,theta) \n",
    "program = [trial_circuit]\n",
    "out = run_program(program,api,device,shots,max_credits=3)\n",
    "results=combine_jobs([out['id']], api, wait=20, timeout=240)  \n",
    "cost = cost_classical(get_data(results,0),n,alpha,beta)"
   ]
  },
  {
   "cell_type": "code",
   "execution_count": 46,
   "metadata": {
    "collapsed": false
   },
   "outputs": [
    {
     "name": "stdout",
     "output_type": "stream",
     "text": [
      "-0.0234375\n"
     ]
    },
    {
     "data": {
      "image/png": "[encoded data removed]",
      "text/plain": [
       "<matplotlib.figure.Figure at 0x1106b2c50>"
      ]
     },
     "metadata": {},
     "output_type": "display_data"
    }
   ],
   "source": [
    "plt.plot(range(max_trials), cost_plus,range(max_trials),cost_minus)\n",
    "print(cost)"
   ]
  },
  {
   "cell_type": "code",
   "execution_count": null,
   "metadata": {
    "collapsed": true
   },
   "outputs": [],
   "source": []
  }
 ],
 "metadata": {
  "anaconda-cloud": {},
  "kernelspec": {
   "display_name": "Python [default]",
   "language": "python",
   "name": "python3"
  },
  "language_info": {
   "codemirror_mode": {
    "name": "ipython",
    "version": 3
   },
   "file_extension": ".py",
   "mimetype": "text/x-python",
   "name": "python",
   "nbconvert_exporter": "python",
   "pygments_lexer": "ipython3",
   "version": "3.5.2"
  }
 },
 "nbformat": 4,
 "nbformat_minor": 1
}
