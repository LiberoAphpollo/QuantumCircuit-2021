{
 "cells": [
  {
   "cell_type": "markdown",
   "metadata": {},
   "source": [
    "<img src=\"./images/QISKit-c.gif\" alt=\"Note: In order for images to show up in this jupyter notebook you need to select File => Trusted Notebook\" width=\"250 px\" align=\"left\">"
   ]
  },
  {
   "cell_type": "markdown",
   "metadata": {},
   "source": [
    "## _*Classical Optimization*_ \n",
    "\n",
    "The latest version of this notebook is available on https://github.com/IBM/qiskit-sdk-py/tree/master/scripts.\n",
    "\n",
    "For more information about how to use the Quantum Experience consult the [Quantum Experience tutorials](https://quantumexperience.ng.bluemix.net/qstage/#/tutorial?sectionId=c59b3710b928891a1420190148a72cce&pageIndex=0) or check-out the [community](https://quantumexperience.ng.bluemix.net/qstage/#/community).\n",
    "\n",
    "***\n",
    "### Contributors\n",
    "Jay Gambetta, Antonio Mezzacapo"
   ]
  },
  {
   "cell_type": "markdown",
   "metadata": {},
   "source": [
    "## Introduction\n",
    "\n",
    "Many problems in finance and optimization can be casted into classical Ising models. Here we show a method that is very similar to Ref. [Fahri] for finding the ground state of the Ising problem using short depth quantum circuits. \n",
    "\n",
    "Here we propose that we map the cost function of the problem to a Hamiltonian of the form\n",
    "\n",
    "$$ H_\\mathrm{Ising} = \\alpha_i Z_i + \\beta_{i,j} Z_jZ_i$$\n",
    "\n",
    "and the goal is to find the configuration that minimizes the energy.\n",
    "\n",
    "\n",
    "Pseudo code\n",
    "\n",
    "```\n",
    "set the maximul control updates max_trials \n",
    "set initial controls u\n",
    "loop through the max_trials\n",
    "    prepare trial state |psi(u)> \n",
    "    \n",
    "    Evaluate cost funtion C = <H> \n",
    "    \n",
    "    Evaluate grad_u C (control update direction)\n",
    "    \n",
    "    update controls u -> u - grad_u C\n",
    "    \n",
    "    break if you find a good solution\n",
    "    \n",
    "return |<z|psi>|^2\n",
    "```\n",
    "\n",
    "The trial functions we propose using are of the form \n",
    "\n",
    "$$|\\psi(\\theta)\\rangle  = [U_\\mathrm{single}(\\theta) U_\\mathrm{entangler}]^m |+\\rangle$$\n",
    "\n",
    "where $U_\\mathrm{entangler}$ is a function of cPhase gates and $U_\\mathrm{single}(\\theta) = Y(\\theta)^{\\otimes n}$ where $n$ is the number of qubits and $m$ is the depth of the quantum circuit.\n",
    "\n",
    "This can esaily be extended \n",
    "\n",
    "$$H = H_\\mathrm{Ising}+ \\gamma_{i,j,k}Z_kZ_jZ_i +... $$ \n",
    "\n",
    "and below we have show how different problems can be mapped to the Ising model.\n",
    "\n",
    "ADD"
   ]
  },
  {
   "cell_type": "code",
   "execution_count": null,
   "metadata": {
    "collapsed": false
   },
   "outputs": [],
   "source": [
    "# Checking the version of PYTHON we only support 3 at the moment\n",
    "import sys\n",
    "if sys.version_info < (3,0):\n",
    "    raise Exception(\"Please use Python version 3 or greater.\")\n",
    "    \n",
    "# usefull additional packages \n",
    "import matplotlib.pyplot as plt\n",
    "import numpy as np\n",
    "import scipy as sp\n",
    "import scipy.linalg\n",
    "%matplotlib inline\n",
    "import time\n",
    "\n",
    "# importing the QX and QISKit \n",
    "from IBMQuantumExperience import IBMQuantumExperience\n",
    "import sys\n",
    "sys.path.append(\"..\")\n",
    "from qiskit import QuantumRegister, ClassicalRegister, QuantumCircuit\n",
    "from qiskit.extensions.standard import x, h, cx, s, u3, barrier, cz\n",
    "\n",
    "# some usefull functions for running a program, plotting, and getting the data\n",
    "from qhelpers.misc import run_program\n",
    "from qhelpers.misc import program_to_text\n",
    "from qhelpers.misc import combine_jobs\n",
    "from qhelpers.misc import get_data\n",
    "from qhelpers.basicplotter import plot_histogram\n",
    "from qhelpers.misc import average_data\n",
    "from tools.quantum_optimization import cost_classical\n",
    "from tools.quantum_optimization import trial_funtion_optimization\n",
    "\n",
    "\n",
    "# set up the api to communitcate to the QX\n",
    "import Qconfig\n",
    "api = IBMQuantumExperience.IBMQuantumExperience(Qconfig.APItoken, Qconfig.config)"
   ]
  },
  {
   "cell_type": "markdown",
   "metadata": {},
   "source": [
    "Enter the cost function below that you would like to minimize"
   ]
  },
  {
   "cell_type": "code",
   "execution_count": 2,
   "metadata": {
    "collapsed": true
   },
   "outputs": [],
   "source": [
    "# cost function H = alpha_i z_i + beta_ij z_i z_j\n",
    "alpha = np.zeros(5)\n",
    "alpha[4] = 1\n",
    "beta = np.zeros((5, 5))\n",
    "beta[0, 1] = 0.5\n",
    "beta[1, 0] = 0.5\n",
    "beta[0, 2] = 0.5\n",
    "beta[2, 0] = 0.5\n",
    "beta[1, 2] = 0.5\n",
    "beta[2, 1] = 0.5\n",
    "beta[1, 3] = 0.5\n",
    "beta[3, 1] = 0.5\n",
    "beta[2, 3] = 0.5\n",
    "beta[3, 2] = 0.5"
   ]
  },
  {
   "cell_type": "markdown",
   "metadata": {},
   "source": [
    "## Simulation"
   ]
  },
  {
   "cell_type": "code",
   "execution_count": 3,
   "metadata": {
    "collapsed": false
   },
   "outputs": [
    {
     "name": "stdout",
     "output_type": "stream",
     "text": [
      "status = {'RUNNING': 1} (0 seconds)\n",
      "status = {'COMPLETED': 1} (20 seconds)\n"
     ]
    },
    {
     "data": {
      "text/plain": [
       "-4.0"
      ]
     },
     "execution_count": 3,
     "metadata": {},
     "output_type": "execute_result"
    }
   ],
   "source": [
    "# making a classical trial function \n",
    "n=5 # number of qubits\n",
    "device = 'simulator' # the device to run on\n",
    "shots = 1024    # the number of shots in the experiment. \n",
    "\n",
    "q = QuantumRegister(\"q\", n)\n",
    "c = ClassicalRegister(\"c\", n)\n",
    "trial_circuit = QuantumCircuit(q, c)\n",
    "trial_circuit.x(q[0])\n",
    "trial_circuit.x(q[3])\n",
    "trial_circuit.x(q[4])\n",
    "for j in range (n):\n",
    "    trial_circuit.measure(q[j], c[j])\n",
    "\n",
    "\n",
    "# running the program\n",
    "program = [trial_circuit]\n",
    "out = run_program(program,api,device,shots,max_credits=3)\n",
    "results=combine_jobs([out['id']], api, wait=20, timeout=240) \n",
    "\n",
    "# calculating the cost for this trial function\n",
    "cost_classical(get_data(results,0),n,alpha,beta)"
   ]
  },
  {
   "cell_type": "code",
   "execution_count": 4,
   "metadata": {
    "collapsed": false
   },
   "outputs": [
    {
     "name": "stdout",
     "output_type": "stream",
     "text": [
      "status = {'RUNNING': 1} (0 seconds)\n",
      "status = {'COMPLETED': 1} (20 seconds)\n"
     ]
    },
    {
     "data": {
      "text/plain": [
       "-0.01953125"
      ]
     },
     "execution_count": 4,
     "metadata": {},
     "output_type": "execute_result"
    }
   ],
   "source": [
    "# making a quantum trial function \n",
    "m = 1 # the depth \n",
    "entangler_map = {0: [2], 1: [2], 3: [2], 4: [2]} # the map of two qubit gates with control at key and target at values\n",
    "theta = np.zeros(m*n) #the single qubit Y rotation angle \n",
    "trial_circuit = trial_funtion_optimization(n,m,theta,entangler_map) # generating the trial function\n",
    " \n",
    "# running the program\n",
    "program = [trial_circuit]\n",
    "out = run_program(program,api,device,shots,max_credits=3)\n",
    "results=combine_jobs([out['id']], api, wait=20, timeout=240)  \n",
    "\n",
    "# calculating the cost for this trial function\n",
    "cost_classical(get_data(results,0),n,alpha,beta)"
   ]
  },
  {
   "cell_type": "code",
   "execution_count": null,
   "metadata": {
    "collapsed": false
   },
   "outputs": [
    {
     "name": "stdout",
     "output_type": "stream",
     "text": [
      "trial 0 of 100\n",
      "status = {'RUNNING': 1} (0 seconds)\n",
      "status = {'COMPLETED': 1} (20 seconds)\n",
      "trial 1 of 100\n",
      "status = {'RUNNING': 1} (0 seconds)\n",
      "status = {'COMPLETED': 1} (20 seconds)\n",
      "trial 2 of 100\n",
      "status = {'RUNNING': 1} (0 seconds)\n",
      "status = {'COMPLETED': 1} (20 seconds)\n",
      "trial 3 of 100\n",
      "status = {'RUNNING': 1} (0 seconds)\n",
      "status = {'COMPLETED': 1} (20 seconds)\n",
      "trial 4 of 100\n",
      "status = {'RUNNING': 1} (0 seconds)\n",
      "status = {'COMPLETED': 1} (20 seconds)\n",
      "trial 5 of 100\n",
      "status = {'RUNNING': 1} (0 seconds)\n",
      "status = {'COMPLETED': 1} (20 seconds)\n",
      "trial 6 of 100\n",
      "status = {'RUNNING': 1} (0 seconds)\n",
      "status = {'COMPLETED': 1} (20 seconds)\n",
      "trial 7 of 100\n",
      "status = {'RUNNING': 1} (0 seconds)\n",
      "status = {'COMPLETED': 1} (20 seconds)\n",
      "trial 8 of 100\n",
      "status = {'RUNNING': 1} (0 seconds)\n",
      "status = {'COMPLETED': 1} (20 seconds)\n",
      "trial 9 of 100\n",
      "status = {'RUNNING': 1} (0 seconds)\n",
      "status = {'COMPLETED': 1} (20 seconds)\n",
      "trial 10 of 100\n",
      "status = {'RUNNING': 1} (0 seconds)\n",
      "status = {'COMPLETED': 1} (20 seconds)\n",
      "trial 11 of 100\n",
      "status = {'RUNNING': 1} (0 seconds)\n",
      "status = {'COMPLETED': 1} (20 seconds)\n",
      "trial 12 of 100\n",
      "status = {'RUNNING': 1} (0 seconds)\n",
      "status = {'COMPLETED': 1} (20 seconds)\n",
      "trial 13 of 100\n",
      "status = {'RUNNING': 1} (0 seconds)\n",
      "status = {'COMPLETED': 1} (20 seconds)\n",
      "trial 14 of 100\n",
      "status = {'RUNNING': 1} (0 seconds)\n",
      "status = {'COMPLETED': 1} (20 seconds)\n",
      "trial 15 of 100\n",
      "status = {'RUNNING': 1} (0 seconds)\n",
      "status = {'COMPLETED': 1} (20 seconds)\n",
      "trial 16 of 100\n",
      "status = {'RUNNING': 1} (0 seconds)\n",
      "status = {'COMPLETED': 1} (20 seconds)\n",
      "trial 17 of 100\n",
      "status = {'RUNNING': 1} (0 seconds)\n",
      "status = {'COMPLETED': 1} (20 seconds)\n",
      "trial 18 of 100\n",
      "status = {'RUNNING': 1} (0 seconds)\n",
      "status = {'COMPLETED': 1} (20 seconds)\n",
      "trial 19 of 100\n",
      "status = {'RUNNING': 1} (0 seconds)\n",
      "status = {'COMPLETED': 1} (20 seconds)\n",
      "trial 20 of 100\n",
      "status = {'RUNNING': 1} (0 seconds)\n",
      "status = {'COMPLETED': 1} (20 seconds)\n",
      "trial 21 of 100\n",
      "status = {'RUNNING': 1} (0 seconds)\n",
      "status = {'COMPLETED': 1} (20 seconds)\n",
      "trial 22 of 100\n",
      "status = {'RUNNING': 1} (0 seconds)\n",
      "status = {'COMPLETED': 1} (20 seconds)\n",
      "trial 23 of 100\n",
      "status = {'RUNNING': 1} (0 seconds)\n",
      "status = {'COMPLETED': 1} (20 seconds)\n",
      "trial 24 of 100\n",
      "status = {'RUNNING': 1} (0 seconds)\n",
      "status = {'COMPLETED': 1} (20 seconds)\n",
      "trial 25 of 100\n",
      "status = {'RUNNING': 1} (0 seconds)\n",
      "status = {'COMPLETED': 1} (20 seconds)\n",
      "trial 26 of 100\n",
      "status = {'RUNNING': 1} (0 seconds)\n",
      "status = {'COMPLETED': 1} (20 seconds)\n",
      "trial 27 of 100\n",
      "status = {'RUNNING': 1} (0 seconds)\n",
      "status = {'COMPLETED': 1} (20 seconds)\n",
      "trial 28 of 100\n",
      "status = {'RUNNING': 1} (0 seconds)\n",
      "status = {'COMPLETED': 1} (20 seconds)\n",
      "trial 29 of 100\n",
      "status = {'RUNNING': 1} (0 seconds)\n",
      "status = {'COMPLETED': 1} (20 seconds)\n",
      "trial 30 of 100\n",
      "status = {'RUNNING': 1} (0 seconds)\n",
      "status = {'COMPLETED': 1} (20 seconds)\n",
      "trial 31 of 100\n",
      "status = {'RUNNING': 1} (0 seconds)\n",
      "status = {'COMPLETED': 1} (20 seconds)\n",
      "trial 32 of 100\n",
      "status = {'RUNNING': 1} (0 seconds)\n",
      "status = {'COMPLETED': 1} (20 seconds)\n",
      "trial 33 of 100\n",
      "status = {'RUNNING': 1} (0 seconds)\n",
      "status = {'COMPLETED': 1} (20 seconds)\n",
      "trial 34 of 100\n",
      "status = {'RUNNING': 1} (0 seconds)\n",
      "status = {'COMPLETED': 1} (20 seconds)\n",
      "trial 35 of 100\n",
      "status = {'RUNNING': 1} (0 seconds)\n",
      "status = {'COMPLETED': 1} (20 seconds)\n",
      "trial 36 of 100\n",
      "status = {'RUNNING': 1} (0 seconds)\n",
      "status = {'COMPLETED': 1} (20 seconds)\n",
      "trial 37 of 100\n",
      "status = {'RUNNING': 1} (0 seconds)\n",
      "status = {'COMPLETED': 1} (20 seconds)\n",
      "trial 38 of 100\n",
      "status = {'RUNNING': 1} (0 seconds)\n",
      "status = {'COMPLETED': 1} (20 seconds)\n",
      "trial 39 of 100\n",
      "status = {'RUNNING': 1} (0 seconds)\n",
      "status = {'COMPLETED': 1} (20 seconds)\n",
      "trial 40 of 100\n",
      "status = {'RUNNING': 1} (0 seconds)\n",
      "status = {'COMPLETED': 1} (20 seconds)\n",
      "trial 41 of 100\n",
      "status = {'RUNNING': 1} (0 seconds)\n",
      "status = {'COMPLETED': 1} (20 seconds)\n",
      "trial 42 of 100\n",
      "status = {'RUNNING': 1} (0 seconds)\n"
     ]
    }
   ],
   "source": [
    "# quantum circuit parameters\n",
    "device = 'simulator' # the device to run on\n",
    "shots = 8192    #the number of shots in the experiment. \n",
    "n=5 # number of qubits\n",
    "entangler_map = {0: [2], 1: [2], 3: [2], 4: [2]} # the map of two qubit gates with control at key and target at values\n",
    "\n",
    "# Numerical parameters \n",
    "SPSA_parameters = np.array([.3,0.602,0,.1,0.101]) #[a, alpha, A, c, gamma]\n",
    "max_trials = 100;\n",
    "theta_depth_1 = np.random.randn(1*n) # intial controls \n",
    "theta_depth_2 = np.random.randn(2*n) # intial controls \n",
    "theta_depth_3 = np.random.randn(3*n) # intial controls \n",
    "\n",
    "cost_plus_depth_1=np.zeros(max_trials)\n",
    "cost_minus_depth_1=np.zeros(max_trials)\n",
    "cost_plus_depth_2=np.zeros(max_trials)\n",
    "cost_minus_depth_2=np.zeros(max_trials)\n",
    "cost_plus_depth_3=np.zeros(max_trials)\n",
    "cost_minus_depth_3=np.zeros(max_trials)\n",
    "\n",
    "for k in range(max_trials):\n",
    "    print('trial ' + str(k) + \" of \" + str(max_trials))\n",
    "    a_spsa = float(SPSA_parameters[0])/np.power(k+1+SPSA_parameters[2], SPSA_parameters[1])\n",
    "    c_spsa = float(SPSA_parameters[3])/np.power(k+1, SPSA_parameters[4])\n",
    "\n",
    "    Delta_depth_1 = 2*np.random.randint(2,size=n*1)-1 # \\pm 1 random distribution \n",
    "    Delta_depth_2 = 2*np.random.randint(2,size=n*2)-1 # \\pm 1 random distribution \n",
    "    Delta_depth_3 = 2*np.random.randint(2,size=n*3)-1 # \\pm 1 random distribution \n",
    "    \n",
    "    theta_plus_depth_1 = theta_depth_1 + c_spsa*Delta_depth_1\n",
    "    theta_minus_depth_1 = theta_depth_1 - c_spsa*Delta_depth_1\n",
    "    theta_plus_depth_2 = theta_depth_2 + c_spsa*Delta_depth_2\n",
    "    theta_minus_depth_2 = theta_depth_2 - c_spsa*Delta_depth_2\n",
    "    theta_plus_depth_3 = theta_depth_3 + c_spsa*Delta_depth_3\n",
    "    theta_minus_depth_3 = theta_depth_3 - c_spsa*Delta_depth_3\n",
    "\n",
    "    trial_circuit_plus_depth_1 = trial_funtion_optimization(n,1,theta_plus_depth_3,entangler_map) \n",
    "    trial_circuit_minus_depth_1 = trial_funtion_optimization(n,1,theta_minus_depth_1,entangler_map) \n",
    "    trial_circuit_plus_depth_2 = trial_funtion_optimization(n,2,theta_plus_depth_3,entangler_map) \n",
    "    trial_circuit_minus_depth_2 = trial_funtion_optimization(n,2,theta_minus_depth_2,entangler_map)\n",
    "    trial_circuit_plus_depth_3 = trial_funtion_optimization(n,3,theta_plus_depth_3,entangler_map) \n",
    "    trial_circuit_minus_depth_3 = trial_funtion_optimization(n,3,theta_minus_depth_3,entangler_map)\n",
    "    \n",
    "    program = [trial_circuit_plus_depth_1,trial_circuit_minus_depth_1,trial_circuit_plus_depth_2\n",
    "               ,trial_circuit_minus_depth_2,trial_circuit_plus_depth_3,trial_circuit_minus_depth_3]\n",
    "    out = run_program(program,api,device,shots,max_credits=3)\n",
    "    results=combine_jobs([out['id']], api, wait=20, timeout=240)\n",
    "    \n",
    "    cost_plus_depth_1[k] = cost_classical(get_data(results,0),n,alpha,beta)\n",
    "    cost_minus_depth_1[k] = cost_classical(get_data(results,1),n,alpha,beta)\n",
    "    cost_plus_depth_2[k] = cost_classical(get_data(results,2),n,alpha,beta)\n",
    "    cost_minus_depth_2[k] = cost_classical(get_data(results,3),n,alpha,beta)\n",
    "    cost_plus_depth_3[k] = cost_classical(get_data(results,4),n,alpha,beta)\n",
    "    cost_minus_depth_3[k] = cost_classical(get_data(results,5),n,alpha,beta)\n",
    "    \n",
    "    g_spsa_depth_1 = (cost_plus_depth_1[k]-cost_minus_depth_1[k])*Delta_depth_1/(2.0*c_spsa)\n",
    "    g_spsa_depth_2 = (cost_plus_depth_2[k]-cost_minus_depth_2[k])*Delta_depth_2/(2.0*c_spsa)\n",
    "    g_spsa_depth_3 = (cost_plus_depth_3[k]-cost_minus_depth_3[k])*Delta_depth_3/(2.0*c_spsa)\n",
    "\n",
    "    theta_depth_1 = theta_depth_1 - a_spsa*g_spsa_depth_1\n",
    "    theta_depth_2 = theta_depth_2 - a_spsa*g_spsa_depth_2\n",
    "    theta_depth_3 = theta_depth_3 - a_spsa*g_spsa_depth_3\n",
    "\n",
    "trial_circuit_depth_1 =  trial_funtion_optimization(n,1,theta_depth_1,entangler_map) \n",
    "trial_circuit_depth_2 =  trial_funtion_optimization(n,2,theta_depth_2,entangler_map) \n",
    "trial_circuit_depth_3 =  trial_funtion_optimization(n,3,theta_depth_3,entangler_map) \n",
    "\n",
    "program = [trial_circuit_depth_1,trial_circuit_depth_2,trial_circuit_depth_3]\n",
    "out = run_program(program,api,device,shots,max_credits=3)\n",
    "results=combine_jobs([out['id']], api, wait=20, timeout=240)  \n",
    "cost_depth_1 = cost_classical(get_data(results,0),n,alpha,beta)\n",
    "cost_depth_2 = cost_classical(get_data(results,1),n,alpha,beta)\n",
    "cost_depth_3 = cost_classical(get_data(results,2),n,alpha,beta)\n",
    "print('m=1 ' + str(cost_depth_1) + ' m=2 ' + str(cost_depth_2) + 'm=3 ' + str(cost_depth_3))"
   ]
  },
  {
   "cell_type": "code",
   "execution_count": null,
   "metadata": {
    "collapsed": false
   },
   "outputs": [],
   "source": [
    "# plotting up data\n",
    "plt.plot(range(max_trials), cost_plus_depth_1, range(max_trials), cost_minus_depth_1)\n",
    "plot_histogram(get_data(results,0),n)\n",
    "plt.plot(range(max_trials), cost_plus_depth_2, range(max_trials), cost_minus_depth_2)\n",
    "plot_histogram(get_data(results,1),n)\n",
    "plt.plot(range(max_trials), cost_plus_depth_3, range(max_trials), cost_minus_depth_3)\n",
    "plot_histogram(get_data(results,2),n)"
   ]
  },
  {
   "cell_type": "markdown",
   "metadata": {},
   "source": [
    "## Real"
   ]
  },
  {
   "cell_type": "code",
   "execution_count": null,
   "metadata": {
    "collapsed": false
   },
   "outputs": [],
   "source": [
    "# making a classical trial function \n",
    "n=5 # number of qubits\n",
    "device = 'real' # the device to run on\n",
    "shots = 8192    # the number of shots in the experiment. \n",
    "\n",
    "q = QuantumRegister(\"q\", n)\n",
    "c = ClassicalRegister(\"c\", n)\n",
    "trial_circuit = QuantumCircuit(q, c)\n",
    "trial_circuit.x(q[0])\n",
    "trial_circuit.x(q[3])\n",
    "trial_circuit.x(q[4])\n",
    "for j in range (n):\n",
    "    trial_circuit.measure(q[j], c[j])\n",
    "\n",
    "\n",
    "# running the program\n",
    "program = [trial_circuit]\n",
    "out = run_program(program,api,device,shots,max_credits=3)\n",
    "results=combine_jobs([out['id']], api, wait=20, timeout=240) \n",
    "\n",
    "# calculating the cost for this trial function\n",
    "cost_classical(get_data(results,0),n,alpha,beta)"
   ]
  },
  {
   "cell_type": "code",
   "execution_count": null,
   "metadata": {
    "collapsed": false
   },
   "outputs": [],
   "source": [
    "out"
   ]
  },
  {
   "cell_type": "code",
   "execution_count": null,
   "metadata": {
    "collapsed": false
   },
   "outputs": [],
   "source": [
    "# making a quantum trial function \n",
    "m = 1 # the depth \n",
    "entangler_map = {0: [2], 1: [2], 3: [2], 4: [2]} # the map of two qubit gates with control at key and target at values\n",
    "theta = np.zeros(m*n) #the single qubit Y rotation angle \n",
    "trial_circuit = trial_funtion_optimization(n,m,theta,entangler_map) # generating the trial function\n",
    " \n",
    "# running the program\n",
    "program = [trial_circuit]\n",
    "out = run_program(program,api,device,shots,max_credits=3)\n",
    "results=combine_jobs([out['id']], api, wait=20, timeout=240)  \n",
    "\n",
    "# calculating the cost for this trial function\n",
    "cost_classical(get_data(results,0),n,alpha,beta)"
   ]
  },
  {
   "cell_type": "code",
   "execution_count": null,
   "metadata": {
    "collapsed": false
   },
   "outputs": [],
   "source": [
    "# quantum circuit parameters\n",
    "device = 'real' # the device to run on\n",
    "shots = 1024    #the number of shots in the experiment. \n",
    "n=5 # number of qubits\n",
    "entangler_map = {0: [2], 1: [2], 3: [2], 4: [2]} # the map of two qubit gates with control at key and target at values\n",
    "\n",
    "# Numerical parameters \n",
    "SPSA_parameters = np.array([.3,0.602,0,.1,0.101]) #[a, alpha, A, c, gamma]\n",
    "max_trials = 25;\n",
    "theta_depth_1 = np.random.randn(1*n) # intial controls \n",
    "theta_depth_2 = np.random.randn(2*n) # intial controls \n",
    "theta_depth_3 = np.random.randn(3*n) # intial controls \n",
    "\n",
    "cost_plus_depth_1=np.zeros(max_trials)\n",
    "cost_minus_depth_1=np.zeros(max_trials)\n",
    "cost_plus_depth_2=np.zeros(max_trials)\n",
    "cost_minus_depth_2=np.zeros(max_trials)\n",
    "cost_plus_depth_3=np.zeros(max_trials)\n",
    "cost_minus_depth_3=np.zeros(max_trials)\n",
    "\n",
    "for k in range(max_trials):\n",
    "    print('trial ' + str(k) + \" of \" + str(max_trials))\n",
    "    a_spsa = float(SPSA_parameters[0])/np.power(k+1+SPSA_parameters[2], SPSA_parameters[1])\n",
    "    c_spsa = float(SPSA_parameters[3])/np.power(k+1, SPSA_parameters[4])\n",
    "\n",
    "    Delta_depth_1 = 2*np.random.randint(2,size=n*1)-1 # \\pm 1 random distribution \n",
    "    Delta_depth_2 = 2*np.random.randint(2,size=n*2)-1 # \\pm 1 random distribution \n",
    "    Delta_depth_3 = 2*np.random.randint(2,size=n*3)-1 # \\pm 1 random distribution \n",
    "    \n",
    "    theta_plus_depth_1 = theta_depth_1 + c_spsa*Delta_depth_1\n",
    "    theta_minus_depth_1 = theta_depth_1 - c_spsa*Delta_depth_1\n",
    "    theta_plus_depth_2 = theta_depth_2 + c_spsa*Delta_depth_2\n",
    "    theta_minus_depth_2 = theta_depth_2 - c_spsa*Delta_depth_2\n",
    "    theta_plus_depth_3 = theta_depth_3 + c_spsa*Delta_depth_3\n",
    "    theta_minus_depth_3 = theta_depth_3 - c_spsa*Delta_depth_3\n",
    "\n",
    "    trial_circuit_plus_depth_1 = trial_funtion_optimization(n,1,theta_plus_depth_3,entangler_map) \n",
    "    trial_circuit_minus_depth_1 = trial_funtion_optimization(n,1,theta_minus_depth_1,entangler_map) \n",
    "    trial_circuit_plus_depth_2 = trial_funtion_optimization(n,2,theta_plus_depth_3,entangler_map) \n",
    "    trial_circuit_minus_depth_2 = trial_funtion_optimization(n,2,theta_minus_depth_2,entangler_map)\n",
    "    trial_circuit_plus_depth_3 = trial_funtion_optimization(n,3,theta_plus_depth_3,entangler_map) \n",
    "    trial_circuit_minus_depth_3 = trial_funtion_optimization(n,3,theta_minus_depth_3,entangler_map)\n",
    "    \n",
    "    program = [trial_circuit_plus_depth_1,trial_circuit_minus_depth_1,trial_circuit_plus_depth_2\n",
    "               ,trial_circuit_minus_depth_2,trial_circuit_plus_depth_3,trial_circuit_minus_depth_3]\n",
    "    out = run_program(program,api,device,shots,max_credits=3)\n",
    "    results=combine_jobs([out['id']], api, wait=20, timeout=240)\n",
    "    \n",
    "    cost_plus_depth_1[k] = cost_classical(get_data(results,0),n,alpha,beta)\n",
    "    cost_minus_depth_1[k] = cost_classical(get_data(results,1),n,alpha,beta)\n",
    "    cost_plus_depth_2[k] = cost_classical(get_data(results,2),n,alpha,beta)\n",
    "    cost_minus_depth_2[k] = cost_classical(get_data(results,3),n,alpha,beta)\n",
    "    cost_plus_depth_3[k] = cost_classical(get_data(results,4),n,alpha,beta)\n",
    "    cost_minus_depth_3[k] = cost_classical(get_data(results,5),n,alpha,beta)\n",
    "    \n",
    "    g_spsa_depth_1 = (cost_plus_depth_1[k]-cost_minus_depth_1[k])*Delta_depth_1/(2.0*c_spsa)\n",
    "    g_spsa_depth_2 = (cost_plus_depth_2[k]-cost_minus_depth_2[k])*Delta_depth_2/(2.0*c_spsa)\n",
    "    g_spsa_depth_3 = (cost_plus_depth_3[k]-cost_minus_depth_3[k])*Delta_depth_3/(2.0*c_spsa)\n",
    "\n",
    "    theta_depth_1 = theta_depth_1 - a_spsa*g_spsa_depth_1\n",
    "    theta_depth_2 = theta_depth_2 - a_spsa*g_spsa_depth_2\n",
    "    theta_depth_3 = theta_depth_3 - a_spsa*g_spsa_depth_3\n",
    "\n",
    "trial_circuit_depth_1 =  trial_funtion_optimization(n,1,theta_depth_1,entangler_map) \n",
    "trial_circuit_depth_2 =  trial_funtion_optimization(n,2,theta_depth_2,entangler_map) \n",
    "trial_circuit_depth_3 =  trial_funtion_optimization(n,3,theta_depth_3,entangler_map) \n",
    "\n",
    "program = [trial_circuit_depth_1,trial_circuit_depth_2,trial_circuit_depth_3]\n",
    "out = run_program(program,api,device,shots,max_credits=3)\n",
    "results=combine_jobs([out['id']], api, wait=20, timeout=240)  \n",
    "cost_depth_1 = cost_classical(get_data(results,0),n,alpha,beta)\n",
    "cost_depth_2 = cost_classical(get_data(results,1),n,alpha,beta)\n",
    "cost_depth_3 = cost_classical(get_data(results,2),n,alpha,beta)\n",
    "print('m=1 ' + str(cost_depth_1) + ' m=2 ' + str(cost_depth_2) + 'm=3 ' + str(cost_depth_3))"
   ]
  },
  {
   "cell_type": "code",
   "execution_count": null,
   "metadata": {
    "collapsed": false
   },
   "outputs": [],
   "source": [
    "# plotting up data\n",
    "plt.plot(range(max_trials), cost_plus_depth_1, range(max_trials), cost_minus_depth_1)\n",
    "plot_histogram(get_data(results,0),n)\n",
    "plt.plot(range(max_trials), cost_plus_depth_2, range(max_trials), cost_minus_depth_2)\n",
    "plot_histogram(get_data(results,1),n)\n",
    "plt.plot(range(max_trials), cost_plus_depth_3, range(max_trials), cost_minus_depth_3)\n",
    "plot_histogram(get_data(results,2),n)"
   ]
  },
  {
   "cell_type": "code",
   "execution_count": null,
   "metadata": {
    "collapsed": false
   },
   "outputs": [],
   "source": []
  },
  {
   "cell_type": "code",
   "execution_count": null,
   "metadata": {
    "collapsed": true
   },
   "outputs": [],
   "source": []
  }
 ],
 "metadata": {
  "anaconda-cloud": {},
  "kernelspec": {
   "display_name": "Python [default]",
   "language": "python",
   "name": "python3"
  },
  "language_info": {
   "codemirror_mode": {
    "name": "ipython",
    "version": 3
   },
   "file_extension": ".py",
   "mimetype": "text/x-python",
   "name": "python",
   "nbconvert_exporter": "python",
   "pygments_lexer": "ipython3",
   "version": "3.5.2"
  }
 },
 "nbformat": 4,
 "nbformat_minor": 1
}
