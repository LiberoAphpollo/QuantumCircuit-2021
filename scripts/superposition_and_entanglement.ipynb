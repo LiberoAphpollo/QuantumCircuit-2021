{
 "cells": [
  {
   "cell_type": "markdown",
   "metadata": {},
   "source": [
    "<img src=\"./images/QISKit-c.gif\" alt=\"Note: In order for images to show up in this jupyter notebook you need to select File => Trusted Notebook\" width=\"250 px\" align=\"left\">"
   ]
  },
  {
   "cell_type": "markdown",
   "metadata": {},
   "source": [
    "## _*Superposition and Entanglement*_ \n",
    "\n",
    "The latest version of this notebook is available on https://github.com/IBM/qiskit-sdk-py/tree/master/scripts.\n",
    "\n",
    "For more information about how to use the Quantum Experience consult the [Quantum Experience tutorials](https://quantumexperience.ng.bluemix.net/qstage/#/tutorial?sectionId=c59b3710b928891a1420190148a72cce&pageIndex=0) or check-out the [community](https://quantumexperience.ng.bluemix.net/qstage/#/community).\n",
    "\n",
    "***\n",
    "### Contributors\n",
    "Jay Gambetta, Antonio Córcoles"
   ]
  },
  {
   "cell_type": "markdown",
   "metadata": {},
   "source": [
    "## Introduction\n",
    "Many people tend to think quantum physics is hard math. This is actually not true, quantum concepts are very similar to linear algebra classes you probably did in first year university or even at high school. What is hard about quantum physics is that there is no simple underlying theory. Instead, you need to accept counter-intuitive ideas. In putting together the QX, we feel that you can get far by understanding two principles. \n",
    "1. A physical system in a perfectly definite state can still behave randomly.\n",
    "2. Two systems that are too far apart to influence each other can nevertheless behave in ways that, though individually random, are somehow strongly correlated."
   ]
  },
  {
   "cell_type": "markdown",
   "metadata": {},
   "source": [
    "## Getting Started\n",
    "Please see the [Getting Started with the Quantum Experience Web API](scripts/getting_started_with_the_qx_api.ipynb) if you would like to understand the API better. However for this script simply import the following preamble once you have made your own Qconfig.py file containing your token from Quantum Experience. "
   ]
  },
  {
   "cell_type": "code",
   "execution_count": 1,
   "metadata": {
    "collapsed": false
   },
   "outputs": [],
   "source": [
    "#Checking the version of PYTHON we only support 3 at the moment\n",
    "import sys\n",
    "if sys.version_info < (3,0):\n",
    "    raise Exception(\"Please use Python version 3 or greater.\")\n",
    "    \n",
    "#usefull additional packages \n",
    "import matplotlib.pyplot as plt\n",
    "import numpy as np\n",
    "import scipy as sp\n",
    "import scipy.linalg\n",
    "%matplotlib inline\n",
    "import time\n",
    "\n",
    "#importing the QX and QISKit \n",
    "from IBMQuantumExperience import IBMQuantumExperience\n",
    "import sys\n",
    "sys.path.append(\"..\")\n",
    "from qiskit import QuantumRegister, ClassicalRegister, QuantumCircuit\n",
    "from qiskit.extensions.standard import x, h, cx, barrier\n",
    "\n",
    "#some usefull functions for running a program, plotting, and getting the data\n",
    "from qhelpers.misc import run_program\n",
    "from qhelpers.misc import program_to_text\n",
    "from qhelpers.misc import combine_jobs\n",
    "from qhelpers.misc import get_data\n",
    "from qhelpers.basicplotter import plot_histogram\n",
    "\n",
    "#Set up the API to communitcate to the QX\n",
    "import Qconfig\n",
    "api = IBMQuantumExperience.IBMQuantumExperience(Qconfig.APItoken, Qconfig.config)"
   ]
  },
  {
   "cell_type": "markdown",
   "metadata": {},
   "source": [
    "## Quantum States - basis states and superpositions\n",
    "\n",
    "Principle 1 says that by measuring quantum states in different bases, we can get results that can be random or deterministic. To show this, we will start by introducing the computational basis (or standard basis) for a qubit. \n",
    "\n",
    "The computational (or standard) basis for a qubit is $\\{|0\\rangle,|1\\rangle\\}$, which correspond to the following vectors: \n",
    "\n",
    "$$|0\\rangle =\\begin{pmatrix} 1 \\\\ 0 \\end{pmatrix}$$\n",
    "$$|1\\rangle =\\begin{pmatrix} 0 \\\\ 1 \\end{pmatrix}$$\n",
    "\n",
    "In python these are represented by"
   ]
  },
  {
   "cell_type": "code",
   "execution_count": 2,
   "metadata": {
    "collapsed": false
   },
   "outputs": [],
   "source": [
    "zero = np.array([[1],[0]])\n",
    "one = np.array([[0],[1]])"
   ]
  },
  {
   "cell_type": "markdown",
   "metadata": {},
   "source": [
    "In our system and many physical devices it is natural for all the qubits to start in the $|0\\rangle$ state which is often called the ground state. To make the $|1\\rangle$ state (or excited state) we use the operator \n",
    "\n",
    "$$ X =\\begin{pmatrix} 0 & 1 \\\\ 1 & 0 \\end{pmatrix}$$\n",
    "\n",
    "which is often called a bit-flip because it implements exactly this:\n",
    "\n",
    "$$X: |0\\rangle  \\rightarrow  |1\\rangle$$\n",
    "$$X: |1\\rangle \\rightarrow |0\\rangle$$\n",
    "\n",
    "In python this can be represented by the following "
   ]
  },
  {
   "cell_type": "code",
   "execution_count": 3,
   "metadata": {
    "collapsed": false
   },
   "outputs": [
    {
     "name": "stdout",
     "output_type": "stream",
     "text": [
      "[[0]\n",
      " [1]]\n",
      "[[1]\n",
      " [0]]\n"
     ]
    }
   ],
   "source": [
    "X = np.array([[0,1],[1,0]])\n",
    "print(np.dot(X,zero))\n",
    "print(np.dot(X,one))"
   ]
  },
  {
   "cell_type": "markdown",
   "metadata": {},
   "source": [
    "Bellow we give the two quantum circuits for making the ground and exicted state using the QX. The first part uses QISKit to make the two circuits"
   ]
  },
  {
   "cell_type": "code",
   "execution_count": 4,
   "metadata": {
    "collapsed": false
   },
   "outputs": [
    {
     "name": "stdout",
     "output_type": "stream",
     "text": [
      "OPENQASM 2.0;\n",
      "include \"qelib1.inc\";\n",
      "qreg q[1];\n",
      "creg c[1];\n",
      "measure q[0] -> c[0];\n",
      "\n",
      "\n",
      "OPENQASM 2.0;\n",
      "include \"qelib1.inc\";\n",
      "qreg q[1];\n",
      "creg c[1];\n",
      "u3(3.141592653589793,0.0,3.141592653589793) q[0];\n",
      "measure q[0] -> c[0];\n",
      "\n",
      "\n",
      "\n"
     ]
    }
   ],
   "source": [
    "device = 'real' # the device to run on\n",
    "shots = 1024    #the number of shots in the experiment. \n",
    "\n",
    "#Quantum circuit ground \n",
    "q = QuantumRegister(\"q\", 1)\n",
    "c = ClassicalRegister(\"c\", 1)\n",
    "qc_ground = QuantumCircuit(q, c)\n",
    "qc_ground.measure(q[0], c[0])\n",
    "\n",
    "#Quantum circuit ground\n",
    "qc_excited = QuantumCircuit(q, c)\n",
    "qc_excited.x(q)\n",
    "qc_excited.measure(q[0], c[0])\n",
    "\n",
    "program = [qc_ground,qc_excited]\n",
    "\n",
    "print(program_to_text(program))"
   ]
  },
  {
   "cell_type": "markdown",
   "metadata": {},
   "source": [
    "Next we run the batched jobs on the QX"
   ]
  },
  {
   "cell_type": "code",
   "execution_count": 5,
   "metadata": {
    "collapsed": false
   },
   "outputs": [
    {
     "name": "stdout",
     "output_type": "stream",
     "text": [
      "status = {'RUNNING': 1} (0 seconds)\n",
      "status = {'COMPLETED': 1} (20 seconds)\n"
     ]
    }
   ],
   "source": [
    "out = run_program(program,api,device,shots,max_credits=3)\n",
    "jobids=[out['id']]\n",
    "results=combine_jobs(jobids, api, wait=20, timeout=240)"
   ]
  },
  {
   "cell_type": "markdown",
   "metadata": {},
   "source": [
    "Next the data is extracted from the API output and plotted"
   ]
  },
  {
   "cell_type": "code",
   "execution_count": 6,
   "metadata": {
    "collapsed": false
   },
   "outputs": [
    {
     "data": {
      "image/png": "[encoded data removed]",
      "text/plain": [
       "<matplotlib.figure.Figure at 0x104831400>"
      ]
     },
     "metadata": {},
     "output_type": "display_data"
    },
    {
     "data": {
      "image/png": "[encoded data removed]",
      "text/plain": [
       "<matplotlib.figure.Figure at 0x10efeb160>"
      ]
     },
     "metadata": {},
     "output_type": "display_data"
    }
   ],
   "source": [
    "data0=get_data(results,0)\n",
    "plot_histogram(data0)\n",
    "data1=get_data(results,1)\n",
    "plot_histogram(data1)"
   ]
  },
  {
   "cell_type": "markdown",
   "metadata": {},
   "source": [
    "Here we see that with high probability the qubit is either in the $|0\\rangle$ or $|1\\rangle$ state respectively. The difference is a combination of measurement error, preparation error, and gate error (for the $|1\\rangle$ state). \n",
    "\n",
    "So far there is nothing different to what you would expect classically. This is because we have not made a superpostion. To do this we indroduce the Hadamard gate, $H$. Let's assume for now that this gate is like flipping a coin. It has two outcomes and each occurs with equal probability. If we do this thought experiment, we say that on average we will measure as many heads as we do tails. Let heads be $|0\\rangle$ and $|1\\rangle$ be tails. \n",
    "\n",
    "Let's run the quantum version of this experiment. \n",
    "\n",
    "The experiment consists of first preparing the qubit in the ground state, then applying the Hadamard gate (coin flip), and then measuring the state of the qubit. Repeat the experiment 1024 times (shots). Correctly, you will predict half the outcomes will be in the $|0\\rangle$ state and half will be in the $|1\\rangle$ state.\n",
    "\n",
    "Try the program below."
   ]
  },
  {
   "cell_type": "code",
   "execution_count": 7,
   "metadata": {
    "collapsed": false
   },
   "outputs": [
    {
     "name": "stdout",
     "output_type": "stream",
     "text": [
      "OPENQASM 2.0;\n",
      "include \"qelib1.inc\";\n",
      "qreg q[1];\n",
      "creg c[1];\n",
      "u2(0.0,3.141592653589793) q[0];\n",
      "measure q[0] -> c[0];\n",
      "\n",
      "\n",
      "\n",
      "status = {'RUNNING': 1} (0 seconds)\n",
      "status = {'COMPLETED': 1} (20 seconds)\n"
     ]
    },
    {
     "data": {
      "image/png": "[encoded data removed]",
      "text/plain": [
       "<matplotlib.figure.Figure at 0x10efabc50>"
      ]
     },
     "metadata": {},
     "output_type": "display_data"
    }
   ],
   "source": [
    "qc = QuantumCircuit(q, c)\n",
    "qc.h(q)\n",
    "qc.measure(q[0], c[0])\n",
    "\n",
    "program=[qc]\n",
    "\n",
    "print(program_to_text(program))\n",
    "\n",
    "out = run_program(program,api,device,shots,max_credits=3)\n",
    "jobids=[out['id']]\n",
    "results=combine_jobs(jobids, api, wait=20, timeout=240)\n",
    "data=get_data(results,0)\n",
    "plot_histogram(data)"
   ]
  },
  {
   "cell_type": "markdown",
   "metadata": {},
   "source": [
    "Here we see that, much like a coin flip, we get 50/50 within projective noise. Now let's run an experiment with two $H$ gates. If this was a coin flip, we would still predict a 50/50 distribution. Let's try the experiment!"
   ]
  },
  {
   "cell_type": "code",
   "execution_count": 8,
   "metadata": {
    "collapsed": false
   },
   "outputs": [
    {
     "name": "stdout",
     "output_type": "stream",
     "text": [
      "OPENQASM 2.0;\n",
      "include \"qelib1.inc\";\n",
      "qreg q[1];\n",
      "creg c[1];\n",
      "u2(0.0,3.141592653589793) q[0];\n",
      "barrier q[0];\n",
      "u2(0.0,3.141592653589793) q[0];\n",
      "measure q[0] -> c[0];\n",
      "\n",
      "\n",
      "\n",
      "status = {'RUNNING': 1} (0 seconds)\n",
      "status = {'COMPLETED': 1} (20 seconds)\n"
     ]
    },
    {
     "data": {
      "image/png": "[encoded data removed]",
      "text/plain": [
       "<matplotlib.figure.Figure at 0x10efa9240>"
      ]
     },
     "metadata": {},
     "output_type": "display_data"
    }
   ],
   "source": [
    "qc = QuantumCircuit(q, c)\n",
    "qc.h(q[0])\n",
    "qc.barrier()\n",
    "qc.h(q[0])\n",
    "qc.measure(q[0], c[0])\n",
    "\n",
    "program=[qc]\n",
    "\n",
    "print(program_to_text(program))\n",
    "out = run_program(program,api,device,shots,max_credits=3)\n",
    "\n",
    "jobids=[out['id']]\n",
    "results=combine_jobs(jobids, api, wait=20, timeout=240)   \n",
    "data=get_data(results,0)\n",
    "plot_histogram(data)"
   ]
  },
  {
   "cell_type": "markdown",
   "metadata": {},
   "source": [
    "Here we see that, unlike the classical case, with high probability the outcome is all in the $|0\\rangle$ state. This shows that quantum randomness is not like a classical coin flip. In both cases, the system (without noise) is in a definite state but only the first case behaves randomly. This is because, in the first case, we make a uniform superposition $(|0\\rangle+|1\\rangle)/\\sqrt{2}$ and measure in the computational basis. In the second case, you can think of the second $H$ as changing the measurement basis from the computational to the superposition basis.\n",
    "$$H: |0\\rangle  \\rightarrow  |+\\rangle=\\frac{|0\\rangle+|1\\rangle}{\\sqrt{2}}$$\n",
    "$$H: |1\\rangle \\rightarrow |-\\rangle=\\frac{|0\\rangle-|1\\rangle}{\\sqrt{2}}$$\n",
    "Therefore, if the measurement gives 0, we can conclude that the system was in the $|+\\rangle$ state before the second $H$ gate, and if we obtain 1, it means the system was in the $|-\\rangle$ state. In the above experiment we see that the outcome is mainly 0, suggesting that our system was in the $|+\\rangle$ superposition state before the second $H$ gate. \n",
    "\n",
    "\n",
    "The math is best understood if we represent the quantum superpostion state $|+\\rangle$ and $|-\\rangle$ by \n",
    "\n",
    "$$|+\\rangle =\\frac{1}{\\sqrt{2}}\\begin{pmatrix} 1 \\\\ 1 \\end{pmatrix}$$\n",
    "$$|-\\rangle =\\frac{1}{\\sqrt{2}}\\begin{pmatrix} 1 \\\\ -1 \\end{pmatrix}$$\n",
    "\n",
    "A standard measurement, known in quantum mechanics as a projective or von Neumann measurement, takes any superposition state of the qubit and projects it to either the state $|0\\rangle$  or the state $|1\\rangle$ with a probability determined by:\n",
    "\n",
    "$$P(i|\\psi) = |\\langle i|\\psi\\rangle|^2$$ \n",
    "\n",
    "where $P(i|\\psi)$ is the probability of measuring the system in state $i$ given preparation $\\psi$.\n",
    "\n",
    "We have written the Python function StateOverlap to return this: "
   ]
  },
  {
   "cell_type": "code",
   "execution_count": 9,
   "metadata": {
    "collapsed": false
   },
   "outputs": [],
   "source": [
    "state_overlap = lambda state1, state2: np.absolute(np.dot(state1.conj().T,state2))**2"
   ]
  },
  {
   "cell_type": "markdown",
   "metadata": {},
   "source": [
    "Now that we have a simple way of going from a state to the probability distribution of a standard measurement, we can go back to the case of a superposition made from the Hadamard gate. The Hadamard gate is defined by the matrix:\n",
    "\n",
    "$$ H =\\frac{1}{\\sqrt{2}}\\begin{pmatrix} 1 & 1 \\\\ 1 & -1 \\end{pmatrix}$$\n",
    "\n",
    "The $H$ gate acting on the state $|0\\rangle$ gives:"
   ]
  },
  {
   "cell_type": "code",
   "execution_count": 10,
   "metadata": {
    "collapsed": false
   },
   "outputs": [
    {
     "data": {
      "image/png": "[encoded data removed]",
      "text/plain": [
       "<matplotlib.figure.Figure at 0x10f1a7be0>"
      ]
     },
     "metadata": {},
     "output_type": "display_data"
    }
   ],
   "source": [
    "Hadamard = np.array([[1,1],[1,-1]],dtype=complex)/np.sqrt(2)\n",
    "psi1 = np.dot(Hadamard,zero)\n",
    "P0 = state_overlap(zero,psi1)\n",
    "P1 = state_overlap(one,psi1)\n",
    "plot_histogram({'0' : P0, '1' : P1})"
   ]
  },
  {
   "cell_type": "markdown",
   "metadata": {},
   "source": [
    "which is the ideal version of the first experiment. \n",
    "\n",
    "The second experiment involves applying the Hadamard gate twice. While matrix multiplication shows that the product of two Hadamards is the identity operator, meaning that the state $|0\\rangle$ remains unchanged, here we would rather interpret this as doing a measurement in the superposition basis. Using the above definitions, you can show that H transforms the computational basis to the superposition basis."
   ]
  },
  {
   "cell_type": "code",
   "execution_count": 11,
   "metadata": {
    "collapsed": false
   },
   "outputs": [
    {
     "name": "stdout",
     "output_type": "stream",
     "text": [
      "[[ 0.70710678+0.j]\n",
      " [ 0.70710678+0.j]]\n",
      "[[ 0.70710678+0.j]\n",
      " [-0.70710678+0.j]]\n"
     ]
    }
   ],
   "source": [
    "print(np.dot(Hadamard,zero))\n",
    "print(np.dot(Hadamard,one))"
   ]
  },
  {
   "cell_type": "markdown",
   "metadata": {},
   "source": [
    "## Entanglement\n",
    "\n",
    "The core idea behind principle 2 is entanglement. Entanglement is not just perfect (classical) correlation. If you and I read the same paper we will have the same information, and if a third person comes along and reads the same paper they <i>also</i> will have this information. All these people are perfectly correlated. If we separate them, they will still remain correlated. \n",
    "\n",
    "If you and I read a quantum paper we will not learn what the paper says until we get together and share our information. However, when we are together we can ask more questions about this information than we initially thought possible. Thus, quantum entanglement goes much further than perfect correlation.\n",
    "\n",
    "To demonstrate this we need to define the CNOT gate and the composition of two systems. The convention we use in the Quantum Experience is to label states by writing the first qubit's name in the rightmost position, thereby allowing us to easily convert from binary to decimal. This results in us defining the tensor product between operators $q_0$ and $q_1$ by $q_1\\otimes q_0$. \n",
    "\n",
    "Taking $q_0$ as the control and $q_1$ as the target, the CNOT with this representation is given by\n",
    "\n",
    "$$ CNOT =\\begin{pmatrix} 1 & 0 & 0 & 0\\\\ 0 & 0 & 0 & 1\\\\0& 0& 1 & 0\\\\0 & 1 & 0 & 0 \\end{pmatrix},$$\n",
    "\n",
    "which is non-standard in the quantum community but allows the best connection to classical computing, where the LSB is typically on the right.\n"
   ]
  },
  {
   "cell_type": "markdown",
   "metadata": {},
   "source": [
    "Let's start by asking questions about the state of the qubits. The questions we can ask are:\n",
    "* What is the state of the first qubit in the standard basis?\n",
    "* What is the state of the first qubit in the superpostion basis?\n",
    "* What is the state of the second qubit in the standard basis?\n",
    "* What is the state of the second qubit in the superpostion basis?\n",
    "* What is the state of both qubits in the standard basis?\n",
    "* what is the staet of both qubits in the superpostion basis?\n",
    "\n",
    "Below we have made a program that has 6 different circuits for these different questions"
   ]
  },
  {
   "cell_type": "code",
   "execution_count": 12,
   "metadata": {
    "collapsed": false
   },
   "outputs": [],
   "source": [
    "#quantum circuit to make bell state \n",
    "q2 = QuantumRegister(\"q\", 2)\n",
    "c2 = ClassicalRegister(\"c\", 2)\n",
    "bell = QuantumCircuit(q2, c2)\n",
    "bell.h(q2[0])\n",
    "bell.cx(q2[0],q2[1])\n",
    "\n",
    "#quantum circuit to measure q0 in standard basis\n",
    "measureIZ = QuantumCircuit(q2, c2)\n",
    "measureIZ.measure(q2[0], c2[0])\n",
    "\n",
    "#quantum circuit to measure q0 in superposition basis \n",
    "measureIX = QuantumCircuit(q2, c2)\n",
    "measureIX.h(q2[0])\n",
    "measureIX.measure(q2[0], c2[0])\n",
    "\n",
    "#quantum circuit to measure q1 in standard basis\n",
    "measureZI = QuantumCircuit(q2, c2)\n",
    "measureZI.measure(q2[1], c2[1])\n",
    "\n",
    "#quantum circuit to measure q1 in superposition basis \n",
    "measureXI = QuantumCircuit(q2, c2)\n",
    "measureXI.h(q2[1])\n",
    "measureXI.measure(q2[1], c2[1])\n",
    "\n",
    "# quantum circuit to measure q in standard basis \n",
    "measureZZ = QuantumCircuit(q2, c2)\n",
    "measureZZ.measure(q2[0], c2[0])\n",
    "measureZZ.measure(q2[1], c2[1])\n",
    "\n",
    "# quantum circuit to measure q in superposition basis \n",
    "measureXX = QuantumCircuit(q2, c2)\n",
    "measureXX.h(q2[0])\n",
    "measureXX.h(q2[1])\n",
    "measureXX.measure(q2[0], c2[0])\n",
    "measureXX.measure(q2[1], c2[1])\n",
    "\n",
    "program = [bell+measureIZ, bell+measureIX, bell+measureZI, bell+measureXI, bell+measureZZ, bell+measureXX]"
   ]
  },
  {
   "cell_type": "markdown",
   "metadata": {},
   "source": [
    "Lets start by running the first two questions"
   ]
  },
  {
   "cell_type": "code",
   "execution_count": 13,
   "metadata": {
    "collapsed": false
   },
   "outputs": [
    {
     "name": "stdout",
     "output_type": "stream",
     "text": [
      "OPENQASM 2.0;\n",
      "include \"qelib1.inc\";\n",
      "qreg q[2];\n",
      "creg c[2];\n",
      "u2(0.0,3.141592653589793) q[0];\n",
      "cx q[0],q[1];\n",
      "measure q[0] -> c[0];\n",
      "\n",
      "\n",
      "OPENQASM 2.0;\n",
      "include \"qelib1.inc\";\n",
      "qreg q[2];\n",
      "creg c[2];\n",
      "u2(0.0,3.141592653589793) q[0];\n",
      "cx q[0],q[1];\n",
      "u2(0.0,3.141592653589793) q[0];\n",
      "measure q[0] -> c[0];\n",
      "\n",
      "\n",
      "\n",
      "status = {'RUNNING': 1} (0 seconds)\n",
      "status = {'COMPLETED': 1} (20 seconds)\n"
     ]
    },
    {
     "data": {
      "image/png": "[encoded data removed]",
      "text/plain": [
       "<matplotlib.figure.Figure at 0x1100126a0>"
      ]
     },
     "metadata": {},
     "output_type": "display_data"
    }
   ],
   "source": [
    "print(program_to_text(program[0:2]))\n",
    "\n",
    "out = run_program(program[0:2],api,device,shots,max_credits=3)\n",
    "jobids=[out['id']]\n",
    "results=combine_jobs(jobids, api, wait=20, timeout=240)   \n",
    "\n",
    "data=get_data(results,0)\n",
    "plot_histogram(data)"
   ]
  },
  {
   "cell_type": "markdown",
   "metadata": {},
   "source": [
    "Here we see that it is random. Half the time it is in the $|0\\rangle$ and the other half is in the $|1\\rangle$ state. But maybe it is like the superposition. Maybe the qubit has a perfectly definite state and we were measuring in another basis.  What would you expect if you did the experiment and measured in the superposition basis? Recall we do this by adding a $H$ gate before the measurement. Lets try it."
   ]
  },
  {
   "cell_type": "code",
   "execution_count": 14,
   "metadata": {
    "collapsed": false
   },
   "outputs": [
    {
     "data": {
      "image/png": "[encoded data removed]",
      "text/plain": [
       "<matplotlib.figure.Figure at 0x10f42e780>"
      ]
     },
     "metadata": {},
     "output_type": "display_data"
    }
   ],
   "source": [
    "data=get_data(results,1)\n",
    "plot_histogram(data)"
   ]
  },
  {
   "cell_type": "markdown",
   "metadata": {},
   "source": [
    "Here we see again it is random. So it is both random when we measure the first qubit in the standard basis and in the superpostion basis. We know nothing about the first qubit. What about the second qubit? Below we run experiments that measure in the computational and superpostion basis of the second qubit."
   ]
  },
  {
   "cell_type": "code",
   "execution_count": 15,
   "metadata": {
    "collapsed": false
   },
   "outputs": [
    {
     "name": "stdout",
     "output_type": "stream",
     "text": [
      "OPENQASM 2.0;\n",
      "include \"qelib1.inc\";\n",
      "qreg q[2];\n",
      "creg c[2];\n",
      "u2(0.0,3.141592653589793) q[0];\n",
      "cx q[0],q[1];\n",
      "measure q[1] -> c[1];\n",
      "\n",
      "\n",
      "OPENQASM 2.0;\n",
      "include \"qelib1.inc\";\n",
      "qreg q[2];\n",
      "creg c[2];\n",
      "u2(0.0,3.141592653589793) q[0];\n",
      "cx q[0],q[1];\n",
      "u2(0.0,3.141592653589793) q[1];\n",
      "measure q[1] -> c[1];\n",
      "\n",
      "\n",
      "\n",
      "status = {'RUNNING': 1} (0 seconds)\n",
      "status = {'COMPLETED': 1} (20 seconds)\n"
     ]
    },
    {
     "data": {
      "image/png": "[encoded data removed]",
      "text/plain": [
       "<matplotlib.figure.Figure at 0x110012be0>"
      ]
     },
     "metadata": {},
     "output_type": "display_data"
    },
    {
     "data": {
      "image/png": "[encoded data removed]",
      "text/plain": [
       "<matplotlib.figure.Figure at 0x10efbd6d8>"
      ]
     },
     "metadata": {},
     "output_type": "display_data"
    }
   ],
   "source": [
    "print(program_to_text(program[2:4]))\n",
    "out = run_program(program[2:4],api,device,shots,max_credits=3)\n",
    "jobids=[out['id']]\n",
    "results=combine_jobs(jobids, api, wait=20, timeout=240)   \n",
    "\n",
    "data=get_data(results,0)\n",
    "plot_histogram(data)\n",
    "\n",
    "data=get_data(results,1)\n",
    "plot_histogram(data)"
   ]
  },
  {
   "cell_type": "markdown",
   "metadata": {},
   "source": [
    "Again all the experiments give random outcomes. It seems we know nothing about our system. In the analogy above, this would be two different readers reading a quantum paper and extracting no information whatsoever from it.\n",
    "\n",
    "However, if they'd get together and both measure in the computation basis what do you expect? "
   ]
  },
  {
   "cell_type": "code",
   "execution_count": 16,
   "metadata": {
    "collapsed": false
   },
   "outputs": [
    {
     "name": "stdout",
     "output_type": "stream",
     "text": [
      "OPENQASM 2.0;\n",
      "include \"qelib1.inc\";\n",
      "qreg q[2];\n",
      "creg c[2];\n",
      "u2(0.0,3.141592653589793) q[0];\n",
      "cx q[0],q[1];\n",
      "measure q[1] -> c[1];\n",
      "measure q[0] -> c[0];\n",
      "\n",
      "\n",
      "OPENQASM 2.0;\n",
      "include \"qelib1.inc\";\n",
      "qreg q[2];\n",
      "creg c[2];\n",
      "u2(0.0,3.141592653589793) q[0];\n",
      "cx q[0],q[1];\n",
      "u2(0.0,3.141592653589793) q[0];\n",
      "u2(0.0,3.141592653589793) q[1];\n",
      "measure q[1] -> c[1];\n",
      "measure q[0] -> c[0];\n",
      "\n",
      "\n",
      "\n",
      "status = {'RUNNING': 1} (0 seconds)\n",
      "status = {'COMPLETED': 1} (20 seconds)\n"
     ]
    }
   ],
   "source": [
    "print(program_to_text(program[4:6]))\n",
    "out = run_program(program[4:6],api,device,shots,max_credits=3)\n",
    "jobids=[out['id']]\n",
    "results=combine_jobs(jobids, api, wait=20, timeout=240)   "
   ]
  },
  {
   "cell_type": "code",
   "execution_count": 17,
   "metadata": {
    "collapsed": false
   },
   "outputs": [
    {
     "data": {
      "image/png": "[encoded data removed]",
      "text/plain": [
       "<matplotlib.figure.Figure at 0x10f1bda20>"
      ]
     },
     "metadata": {},
     "output_type": "display_data"
    }
   ],
   "source": [
    "data=get_data(results,0)\n",
    "plot_histogram(data)"
   ]
  },
  {
   "cell_type": "markdown",
   "metadata": {},
   "source": [
    "Here we see that if with high probability if $q_0$ is in state 0 so is $q_1$ and same for state 1. They are perfectly correlated.\n",
    "\n",
    "What about in the superposition basis? Lets run the experiment and see. "
   ]
  },
  {
   "cell_type": "code",
   "execution_count": 18,
   "metadata": {
    "collapsed": false
   },
   "outputs": [
    {
     "data": {
      "image/png": "[encoded data removed]",
      "text/plain": [
       "<matplotlib.figure.Figure at 0x10f6c3978>"
      ]
     },
     "metadata": {},
     "output_type": "display_data"
    }
   ],
   "source": [
    "data=get_data(results,1)\n",
    "plot_histogram(data)"
   ]
  },
  {
   "cell_type": "markdown",
   "metadata": {
    "collapsed": false
   },
   "source": [
    "Here we see that (up to experimental noise) the system has perfect correlations in both the computation basis and the superpostion basis. This means that if $q_0$ is measured in state $|0\\rangle$ then we know $q_1$ is in this state, and furthermore if $q_0$ is measured in state $|+\\rangle$ then we know $q_1$ is in this state. These correlations have lead to a lot of confusion in science mainly because we try to find analogies between the weird concept of quantum entanglement and everyday experiences and this leads inevitably to many inconsistencies."
   ]
  }
 ],
 "metadata": {
  "anaconda-cloud": {},
  "kernelspec": {
   "display_name": "Python [default]",
   "language": "python",
   "name": "python3"
  },
  "language_info": {
   "codemirror_mode": {
    "name": "ipython",
    "version": 3
   },
   "file_extension": ".py",
   "mimetype": "text/x-python",
   "name": "python",
   "nbconvert_exporter": "python",
   "pygments_lexer": "ipython3",
   "version": "3.5.2"
  }
 },
 "nbformat": 4,
 "nbformat_minor": 0
}
