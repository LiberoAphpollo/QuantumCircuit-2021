{
 "cells": [
  {
   "cell_type": "markdown",
   "metadata": {},
   "source": [
    "<img src=\"./images/QISKit-c.gif\" alt=\"Note: In order for images to show up in this jupyter notebook you need to select File => Trusted Notebook\" width=\"250 px\" align=\"left\">"
   ]
  },
  {
   "cell_type": "markdown",
   "metadata": {},
   "source": [
    "## _*Single-qubit Quantum Random Access Coding (QRAC)*_ \n",
    "\n",
    "\n",
    "***\n",
    "### Contributors\n",
    "Rudy Raymond, Takashi Imamichi"
   ]
  },
  {
   "cell_type": "markdown",
   "metadata": {},
   "source": [
    "## Introduction\n",
    "\n",
    "Random Access Coding (RAC) is one of few examples where a small number of quantum bits can exhibit properties that cannot be achieved by the same amount of classical bits. To demonstrate the power of Quantum RAC with a single qubit, consider a case where the sender, say, Alice, wants to encode $n$ bits of information into a qubit. The qubit is then sent to the receiver, say, Bob, who will decode it to obtain one bit (out of $n$ bits sent by Alice) of his choice (which is unknown to Alice). It is known that there is no way for Alice to encode her $2$ bits into one classical bit so that Bob can then recover any bit with success probability better than half. \n",
    "\n",
    "On the other hand, with a single qubit it is possible to encode up to $3$ bits of information such that the receiver is quaranteed to observe his choice of bit with probability better than random guessing. The encoding and decoding scheme for encoding 2 bits and 3 bits of information into 1 qubit are denoted as, respectively, $(2,1)$-QRAC and $(3,1)$-QRAC.   \n",
    "\n",
    "Here, we describe how to construct the $(2,1)$-QRAC, i.e., encoding $2$ bits of information into $1$ qubit so that any bit can be recovered with probability at least $0.85$, as well as the $(3,1)$-QRAC, i.e., encoding $3$-bits of information into $1$ qubit so that any bit can be recovered with probability at least $0.78$ by using single qubit unitary gates and measurements. All unitary gates and measurements can be realized by the $u3$ rotation gates included in the [qelib1.inc](https://github.com/IBM/qiskit-openqasm/blob/master/examples/qelib1.inc) whose mathematical definition can be found [here](https://github.com/IBM/qiskit-openqasm/blob/master/spec/qasm2.pdf).\n",
    "\n",
    "First, as usual we prepare the environment."
   ]
  },
  {
   "cell_type": "code",
   "execution_count": 1,
   "metadata": {
    "collapsed": true
   },
   "outputs": [],
   "source": [
    "import sys\n",
    "if sys.version_info < (3,0):\n",
    "    raise Exception(\"Please use Python version 3 or greater.\")\n",
    "\n",
    "\n",
    "import matplotlib.pyplot as plt\n",
    "import numpy as np\n",
    "import scipy as sp\n",
    "import scipy.linalg\n",
    "%matplotlib inline\n",
    "import time\n",
    "\n",
    "from IBMQuantumExperience import IBMQuantumExperience\n",
    "import Qconfig\n",
    "from qhelpers.basicplotter import plot_histogram\n",
    "from qhelpers.misc import get_data\n",
    "from qhelpers.misc import combine_jobs\n",
    "from qhelpers.misc import average_data\n",
    "\n",
    "\n",
    "api = IBMQuantumExperience.IBMQuantumExperience(Qconfig.APItoken,Qconfig.config)"
   ]
  },
  {
   "cell_type": "markdown",
   "metadata": {},
   "source": [
    "## Encoding 2 bits into 1 qubit with $(2,1)$-QRAC\n",
    "We follow Example 1 described in the paper [here](http://iopscience.iop.org/article/10.1088/1367-2630/8/8/129/meta). Alice encodes her $2$ bits $x_1x_2$ by preparing the following 1-qubit states $\\left|\\phi_{x_1x_2}\\right>$.\n",
    "\\begin{eqnarray}\n",
    "\\left|\\phi_{00}\\right> &=& \\cos\\left(\\pi/8\\right)\\left|0\\right> + \\sin\\left(\\pi/8\\right)\\left|1\\right>\\\\\n",
    "\\left|\\phi_{10}\\right> &=& \\cos\\left(3\\pi/8\\right)\\left|0\\right> + \\sin\\left(3\\pi/8\\right)\\left|1\\right>\\\\\n",
    "\\left|\\phi_{11}\\right> &=& \\cos\\left(5\\pi/8\\right)\\left|0\\right> + \\sin\\left(5\\pi/8\\right)\\left|1\\right>\\\\\n",
    "\\left|\\phi_{01}\\right> &=& \\cos\\left(7\\pi/8\\right)\\left|0\\right> + \\sin\\left(7\\pi/8\\right)\\left|1\\right>\\\\\n",
    "\\end{eqnarray}\n",
    "\n",
    "Bob recovers his choice of bit by measuring the qubit in the following way. If he wants to recover the first bit (i.e., $x_1$), he measures the qubit in the $\\left\\{\\left|0\\right>, \\left|1\\right>\\right\\}$ basis, namely, he concludes $0$ if he observes $\\left|0\\right>$, and $1$ otherwise. On the other hand, if he wants to recover the second bit (i.e., $x_2$), he measures the qubit in the $\\left\\{\\left|+\\right>, \\left|-\\right>\\right\\}$ basis, where $\\left|+\\right> = 1/\\sqrt{2}\\left(\\left|0\\right> + \\left|1\\right>\\right)$, and $\\left|-\\right> = 1/\\sqrt{2}\\left(\\left|0\\right> - \\left|1\\right>\\right)$. \n",
    "\n",
    "Below is the QASM source of gates for decoding and encoding of $(2,1)$-QRAC along with examples encoding $10$ and measuring the qubit to obtain the first bit on the simulator. Notice that because in the IBMQuantumExperience we can only perform measurement in the $\\left\\{\\left|0\\right>, \\left|1\\right>\\right\\}$ basis, the measurement in the $\\left\\{\\left|+\\right>, \\left|-\\right>\\right\\}$ basis is performed by first applying the Hadamard gate.  "
   ]
  },
  {
   "cell_type": "code",
   "execution_count": 2,
   "metadata": {},
   "outputs": [
    {
     "name": "stdout",
     "output_type": "stream",
     "text": [
      "status = {'RUNNING': 1} (0 seconds)\n",
      "status = {'RUNNING': 1} (2 seconds)\n",
      "status = {'COMPLETED': 1} (4 seconds)\n"
     ]
    },
    {
     "data": {
      "image/png": "[encoded data removed]",
      "text/plain": [
       "<matplotlib.figure.Figure at 0x10e2c5198>"
      ]
     },
     "metadata": {},
     "output_type": "display_data"
    }
   ],
   "source": [
    "qrac21=\"\"\"\n",
    "OPENQASM 2.0;\n",
    "include \"qelib1.inc\";\n",
    "//(2,1)-QRAC encoding for 00\n",
    "gate encode00 q\n",
    "{\n",
    "  u3(pi/4,0,0) q;\n",
    "}\n",
    "\n",
    "//(2,1)-QRAC encoding for 10\n",
    "gate encode10 q\n",
    "{\n",
    "  u3(3*pi/4,0,0) q;\n",
    "}\n",
    "\n",
    "//(2,1)-QRAC encoding for 11\n",
    "gate encode11 q\n",
    "{\n",
    "  u3(5*pi/4,0,0) q;\n",
    "}\n",
    "\n",
    "//(2,1)-QRAC encoding for 01\n",
    "gate encode01 q\n",
    "{\n",
    "  u3(7*pi/4,0,0) q;\n",
    "}\n",
    "\n",
    "//(2,1)-QRAC decoding for the first bit\n",
    "gate decodeFirst q\n",
    "{\n",
    "  id q;\n",
    "}\n",
    "\n",
    "//(2,1)-QRAC decoding for the second bit\n",
    "gate decodeSecond q\n",
    "{\n",
    "  h q;\n",
    "}\n",
    "\n",
    "//example of encoding 10 and measuring the first\n",
    "qreg q[1];\n",
    "creg c[1];\n",
    "\n",
    "encode10 q[0];\n",
    "barrier q[0]; //barrier for emphasizing the difference the encoding and decoding\n",
    "decodeFirst q[0];\n",
    "measure q[0] -> c[0];\n",
    "\"\"\"\n",
    "qasms = [{'qasm' : qrac21}]\n",
    "out = api.run_job(qasms=qasms,device='simulator',shots=1000,max_credits=3)\n",
    "jobids=[out['id']]\n",
    "results=combine_jobs(jobids, api, wait=2, timeout=240)\n",
    "data=get_data(results,0)\n",
    "plot_histogram(data)"
   ]
  },
  {
   "cell_type": "markdown",
   "metadata": {},
   "source": [
    "From the above simulation, we can see that the first bit is decoded with probability closed to the theoretical value. We can perform various experiments of $(2,1)$-QRAC on the simulator by the above code: encoding any two bits and decoding any bit (first or second as counted from left to right) by, respectively, adjusting the line ```encode10 q[0];``` and the line ```decodeFirst q[0]```. \n",
    "\n",
    "We can also run an equivalent code on the real IBM Q and obtain similar success probability as predicted by the theory. Notice that because as of March 2017 it does not support the `gate` syntax, we rewrite the above code as follows."
   ]
  },
  {
   "cell_type": "code",
   "execution_count": null,
   "metadata": {
    "collapsed": true
   },
   "outputs": [],
   "source": [
    "qrac21=\"\"\"\n",
    "// qasm/qrac2_1.qasm\n",
    "OPENQASM 2.0;\n",
    "include \"qelib1.inc\";\n",
    "qreg q[1];\n",
    "creg c[1];\n",
    "\n",
    "// change the coefficient of pi/4 for different bit patterns\n",
    "// 1: 00\n",
    "// 7: 01\n",
    "// 3: 10\n",
    "// 5: 11\n",
    "u3(3*pi/4,0,0) q;\n",
    "\n",
    "// change the gate to extract a particular bit\n",
    "// id q[0]: first bit\n",
    "// h q[0]: second bit\n",
    "id q[0];\n",
    "measure q -> c;\n",
    "\"\"\"\n",
    "qasms = [{'qasm' : qrac21}]\n",
    "out = api.run_job(qasms=qasms,device='qx5q',shots=1000,max_credits=3)\n",
    "jobids=[out['id']]\n",
    "results=combine_jobs(jobids, api, wait=2, timeout=240)\n",
    "data=get_data(results,0)\n",
    "plot_histogram(data)"
   ]
  },
  {
   "cell_type": "markdown",
   "metadata": {},
   "source": [
    "## Encoding 3 bits into 1 qubit with $(3,1)$-QRAC\n",
    "We follow Example 2 described in the paper [here](http://iopscience.iop.org/article/10.1088/1367-2630/8/8/129/meta). \n",
    "Alice encodes her $3$ bits $x_1x_2x_3$ by preparing the following 1-qubit states $\\left|\\phi_{x_1x_2x_3}\\right>$ as below, where $\\cos^2\\left(\\theta\\right) = 1/2 + \\sqrt{3}/6 > 0.788$.   \n",
    "\n",
    "\\begin{eqnarray}\n",
    "\\left|\\phi_{000}\\right> &=& \\cos\\left(\\theta\\right)\\left|0\\right> + e^{i\\pi/4}\\sin\\left(\\theta\\right)\\left|1\\right>\\\\\n",
    "\\left|\\phi_{001}\\right> &=& \\cos\\left(\\theta\\right)\\left|0\\right> + e^{-i\\pi/4}\\sin\\left(\\theta\\right)\\left|1\\right>\\\\\n",
    "\\left|\\phi_{010}\\right> &=& \\cos\\left(\\theta\\right)\\left|0\\right> + e^{3i\\pi/4}\\sin\\left(\\theta\\right)\\left|1\\right>\\\\\n",
    "\\left|\\phi_{011}\\right> &=& \\cos\\left(\\theta\\right)\\left|0\\right> + e^{-3i\\pi/4}\\sin\\left(\\theta\\right)\\left|1\\right>\\\\\n",
    "\\left|\\phi_{100}\\right> &=& \\sin\\left(\\theta\\right)\\left|0\\right> + e^{i\\pi/4}\\cos\\left(\\theta\\right)\\left|1\\right>\\\\\n",
    "\\left|\\phi_{101}\\right> &=& \\sin\\left(\\theta\\right)\\left|0\\right> + e^{-i\\pi/4}\\cos\\left(\\theta\\right)\\left|1\\right>\\\\\n",
    "\\left|\\phi_{110}\\right> &=& \\sin\\left(\\theta\\right)\\left|0\\right> + e^{3i\\pi/4}\\cos\\left(\\theta\\right)\\left|1\\right>\\\\\n",
    "\\left|\\phi_{111}\\right> &=& \\sin\\left(\\theta\\right)\\left|0\\right> + e^{-i\\pi/4}\\cos\\left(\\theta\\right)\\left|1\\right>\\\\\n",
    "\\end{eqnarray}\n",
    "\n",
    "Bob recover his choice of bit by measuring the qubit similarly as in the $(2,1,0.85)$-QRAC for the first and second bit, and to recover the third bit, he measures the qubit in the $\\left\\{\\left|+'\\right>, \\left|-'\\right>\\right\\}$ basis, where $\\left|+'\\right> = 1/\\sqrt{2}\\left(\\left|0\\right> + i \\left|1\\right>\\right)$, and $\\left|-'\\right> = 1/\\sqrt{2}\\left(\\left|0\\right> - i \\left|1\\right>\\right)$. \n",
    "\n",
    "Intuitively, the encoding of $(3,1)$-QRAC correspond to assigning the $8$ states to the corners of the unit cube inside the Bloch Sphere as depicted in the figure below. \n",
    "<img src=\"./images/blochsphere31.png\" alt=\"Note: In order for images to show up in this jupyter notebook you need to select File => Trusted Notebook\" width=\"300 px\" align=\"center\">\n",
    "\n",
    "Below is the QASM source of gates for decoding and encoding of $(3,1)$-QRAC along with examples encoding $101$ and measuring the qubit to obtain the first bit that can be run on the simulator of IBM Q. We can see that the first bit is recovered with probability closed to that predicted by the theory. "
   ]
  },
  {
   "cell_type": "code",
   "execution_count": 3,
   "metadata": {
    "scrolled": false
   },
   "outputs": [
    {
     "name": "stdout",
     "output_type": "stream",
     "text": [
      "status = {'RUNNING': 1} (0 seconds)\n",
      "status = {'RUNNING': 1} (2 seconds)\n",
      "status = {'COMPLETED': 1} (4 seconds)\n"
     ]
    },
    {
     "data": {
      "image/png": "[encoded data removed]",
      "text/plain": [
       "<matplotlib.figure.Figure at 0x11673c5f8>"
      ]
     },
     "metadata": {},
     "output_type": "display_data"
    }
   ],
   "source": [
    "qrac31=\"\"\"\n",
    "OPENQASM 2.0;\n",
    "include \"qelib1.inc\";\n",
    "//(3,1)-QRAC encoding for 000\n",
    "gate encode000 q\n",
    "{\n",
    "  u3(2*0.152043362*pi, pi/4, -pi/4) q;\n",
    "}\n",
    "\n",
    "//(3,1)-QRAC encoding for 010\n",
    "gate encode010 q\n",
    "{\n",
    "  u3(2*0.152043362*pi, 3*pi/4, -3*pi/4) q;\n",
    "}\n",
    "\n",
    "//(3,1)-QRAC encoding for 100\n",
    "gate encode100 q\n",
    "{\n",
    "  u3(pi-2*0.152043362*pi, pi/4, -pi/4) q;\n",
    "}\n",
    "\n",
    "//(3,1)-QRAC encoding for 110\n",
    "gate encode110 q\n",
    "{\n",
    "  u3(pi-2*0.152043362*pi, 3*pi/4, -3*pi/4) q;\n",
    "}\n",
    "\n",
    "//(3,1)-QRAC encoding for 001\n",
    "gate encode001 q\n",
    "{\n",
    "  u3(2*0.152043362*pi, -pi/4, pi/4) q;\n",
    "}\n",
    "\n",
    "//(3,1)-QRAC encoding for 011\n",
    "gate encode011 q\n",
    "{\n",
    "  u3(2*0.152043362*pi, -3*pi/4, 3*pi/4) q;\n",
    "}\n",
    "\n",
    "//(3,1)-QRAC encoding for 101\n",
    "gate encode101 q\n",
    "{\n",
    "  u3(pi-2*0.152043362*pi, -pi/4, pi/4) q;\n",
    "}\n",
    "\n",
    "//(3,1)-QRAC encoding for 111\n",
    "gate encode111 q\n",
    "{\n",
    "  u3(pi-2*0.152043362*pi, -3*pi/4, 3*pi/4) q;\n",
    "}\n",
    "\n",
    "//(3,1)-QRAC decoding for the first bit\n",
    "gate decodeFirst q\n",
    "{\n",
    "  id q;\n",
    "}\n",
    "\n",
    "//(3,1)-QRAC decoding for the second bit\n",
    "gate decodeSecond q\n",
    "{\n",
    "  h q;\n",
    "}\n",
    "\n",
    "//(3,1)-QRAC decoding for the third bit\n",
    "gate decodeThird q\n",
    "{\n",
    "  u3(pi/2, -pi/2, pi/2) q;\n",
    "}\n",
    "\n",
    "//example of encoding 101 and measuring the first\n",
    "qreg q[1];\n",
    "creg c[1];\n",
    "\n",
    "encode101 q[0];\n",
    "barrier q[0];\n",
    "decodeFirst q[0];\n",
    "measure q[0] -> c[0];\n",
    "\"\"\"\n",
    "qasms = [{'qasm' : qrac31}]\n",
    "out = api.run_job(qasms=qasms,device='simulator',shots=1000,max_credits=3)\n",
    "jobids=[out['id']]\n",
    "results=combine_jobs(jobids, api, wait=2, timeout=240)\n",
    "data=get_data(results,0)\n",
    "plot_histogram(data)"
   ]
  },
  {
   "cell_type": "markdown",
   "metadata": {},
   "source": [
    "Similarly as before, we can run an equivalent code without the `gate` syntax on the real IBM Q, and observe that the bit of interest is retrieved with probability closed to that from the simulation."
   ]
  },
  {
   "cell_type": "code",
   "execution_count": null,
   "metadata": {},
   "outputs": [],
   "source": [
    "qrac31=\"\"\"\n",
    "// qasm/qrac3_1.qasm\n",
    "OPENQASM 2.0;\n",
    "include \"qelib1.inc\";\n",
    "qreg q[1];\n",
    "creg c[1];\n",
    "\n",
    "//example of encoding 101 and measuring the first bit\n",
    "\n",
    "//(3,1)-QRAC encoding\n",
    "//\n",
    "//u3(2*0.152043362*pi, pi/4, -pi/4) q;          // 000\n",
    "//u3(2*0.152043362*pi, 3*pi/4, -3*pi/4) q;      // 010\n",
    "//u3(pi-2*0.152043362*pi, pi/4, -pi/4) q;       // 100\n",
    "//u3(pi-2*0.152043362*pi, 3*pi/4, -3*pi/4) q;   // 110\n",
    "//u3(2*0.152043362*pi, -pi/4, pi/4) q;          // 001\n",
    "//u3(2*0.152043362*pi, -3*pi/4, 3*pi/4) q;      // 011\n",
    "u3(pi-2*0.152043362*pi, -pi/4, pi/4) q;       // 101\n",
    "//u3(pi-2*0.152043362*pi, -3*pi/4, 3*pi/4) q;   // 111\n",
    "\n",
    "//(3,1)-QRAC decoding\n",
    "//\n",
    "id q;                     // first bit\n",
    "//h q;                      // second bit\n",
    "//u3(pi/2, -pi/2, pi/2) q;  // third bit\n",
    "\n",
    "measure q -> c;\n",
    "\n",
    "\"\"\"\n",
    "qasms = [{'qasm' : qrac31}]\n",
    "out = api.run_job(qasms=qasms,device='qx5q',shots=1000,max_credits=3)\n",
    "jobids=[out['id']]\n",
    "results=combine_jobs(jobids, api, wait=2, timeout=240)\n",
    "data=get_data(results,0)\n",
    "plot_histogram(data)"
   ]
  },
  {
   "cell_type": "markdown",
   "metadata": {},
   "source": [
    "## About Quantum Random Access Coding\n",
    "The notion of Quantum RAC was first presented [here](https://arxiv.org/abs/quant-ph/9804043) along with the concrete example of $(2,1)$-QRAC which apparently was discovered much earlier in 1983 by [Wiesner](http://dl.acm.org/citation.cfm?doid=1008908.1008920). The idea of the $(3,1)$-QRAC appeared in the [classic book of Mike and Ike](https://www.amazon.com/Quantum-Computation-Information-10th-Anniversary/dp/1107002176). The first experiments on $(2,1)$-QRAC and $(3,1)$-QRAC were presented [here](https://arxiv.org/abs/0805.1463). It is not possible to perform $(4,1)$-QRAC as shown [here](http://iopscience.iop.org/article/10.1088/1367-2630/8/8/129/meta).  "
   ]
  },
  {
   "cell_type": "code",
   "execution_count": null,
   "metadata": {
    "collapsed": true
   },
   "outputs": [],
   "source": []
  }
 ],
 "metadata": {
  "anaconda-cloud": {},
  "kernelspec": {
   "display_name": "Python 3",
   "language": "python",
   "name": "python3"
  },
  "language_info": {
   "codemirror_mode": {
    "name": "ipython",
    "version": 3
   },
   "file_extension": ".py",
   "mimetype": "text/x-python",
   "name": "python",
   "nbconvert_exporter": "python",
   "pygments_lexer": "ipython3",
   "version": "3.6.1"
  }
 },
 "nbformat": 4,
 "nbformat_minor": 1
}
