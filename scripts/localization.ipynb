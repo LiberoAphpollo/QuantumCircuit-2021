{
 "cells": [
  {
   "cell_type": "markdown",
   "metadata": {},
   "source": [
    "<img src=\"./images/QISKit-c.gif\" alt=\"Note: In order for images to show up in this jupyter notebook you need to select File => Trusted Notebook\" width=\"250 px\" align=\"left\">"
   ]
  },
  {
   "cell_type": "markdown",
   "metadata": {},
   "source": [
    "## _*Localizing a quantum circuit*_ <br />\n",
    "© IBM Research\n",
    "\n",
    "Boilerplate.\n",
    "\n",
    "***\n",
    "### Contributors\n",
    "Andrew Cross"
   ]
  },
  {
   "cell_type": "markdown",
   "metadata": {},
   "source": [
    "## Introduction\n",
    "\n",
    "Real quantum computers have limitations on connectivity and parallelism. Superconducting qubits are coupled by circuit elements and typically do not implement all-to-all connectivity. An important practical task is taking an abstract all-to-all quantum circuit and mapping it to a circuit that respects the available coupling. This means inserting additional gates to move quantum information.\n",
    "\n",
    "Solving this problem optimally in general is likely to be computationally hard, but we can resort to different algorithms for small and large systems and heuristics are likely to work rather well."
   ]
  },
  {
   "cell_type": "code",
   "execution_count": 3,
   "metadata": {
    "collapsed": false
   },
   "outputs": [],
   "source": [
    "import sys\n",
    "sys.path.append(\"..\")\n",
    "\n",
    "from qiskit import QuantumRegister, ClassicalRegister, QuantumCircuit\n",
    "from qiskit.extensions.standard import h, cx\n",
    "\n",
    "import qiskit.localize as localize\n",
    "\n",
    "from IBMQuantumExperience import IBMQuantumExperience\n",
    "import Qconfig\n",
    "\n",
    "from qhelpers.bloch import make_unrolled_circuit"
   ]
  },
  {
   "cell_type": "code",
   "execution_count": 6,
   "metadata": {
    "collapsed": false,
    "scrolled": false
   },
   "outputs": [
    {
     "name": "stdout",
     "output_type": "stream",
     "text": [
      "got coupling = \n",
      "{('q', 3): 5, ('q', 4): 2, ('q', 1): 3, ('q', 2): 4, ('q', 0): 1}\n",
      "[(1, 2), (3, 2), (4, 2), (5, 2)]\n",
      "coup.connected() = True\n",
      "got circuit = \n",
      "OPENQASM 2.0;\n",
      "include \"qelib1.inc\";\n",
      "qreg q[3];\n",
      "qreg r[2];\n",
      "u2(0.0,3.141592653589793) r[1];\n",
      "u2(0.0,3.141592653589793) r[0];\n",
      "u2(0.0,3.141592653589793) q[2];\n",
      "u2(0.0,3.141592653589793) q[1];\n",
      "u2(0.0,3.141592653589793) q[0];\n",
      "cx q[0],q[1];\n",
      "cx q[1],q[2];\n",
      "cx q[2],r[0];\n",
      "cx r[0],r[1];\n",
      "\n",
      "('q', 3) -> ('q', 3): 0.000000\n",
      "('q', 3) -> ('q', 4): 1.000000\n",
      "('q', 3) -> ('q', 1): 2.000000\n",
      "('q', 3) -> ('q', 2): 2.000000\n",
      "('q', 3) -> ('q', 0): 2.000000\n",
      "('q', 4) -> ('q', 3): 1.000000\n",
      "('q', 4) -> ('q', 4): 0.000000\n",
      "('q', 4) -> ('q', 1): 1.000000\n",
      "('q', 4) -> ('q', 2): 1.000000\n",
      "('q', 4) -> ('q', 0): 1.000000\n",
      "('q', 1) -> ('q', 3): 2.000000\n",
      "('q', 1) -> ('q', 4): 1.000000\n",
      "('q', 1) -> ('q', 1): 0.000000\n",
      "('q', 1) -> ('q', 2): 2.000000\n",
      "('q', 1) -> ('q', 0): 2.000000\n",
      "('q', 2) -> ('q', 3): 2.000000\n",
      "('q', 2) -> ('q', 4): 1.000000\n",
      "('q', 2) -> ('q', 1): 2.000000\n",
      "('q', 2) -> ('q', 2): 0.000000\n",
      "('q', 2) -> ('q', 0): 2.000000\n",
      "('q', 0) -> ('q', 3): 2.000000\n",
      "('q', 0) -> ('q', 4): 1.000000\n",
      "('q', 0) -> ('q', 1): 2.000000\n",
      "('q', 0) -> ('q', 2): 2.000000\n",
      "('q', 0) -> ('q', 0): 0.000000\n",
      "[[[('r', 0)], [('q', 1)], [('q', 2)], [('q', 0)], [('r', 1)]], [[('q', 1), ('q', 0)]], [[('q', 1), ('q', 2)]], [[('q', 2), ('r', 0)]], [[('r', 1), ('r', 0)]]]\n"
     ]
    },
    {
     "name": "stderr",
     "output_type": "stream",
     "text": [
      "Generating LALR tables\n"
     ]
    }
   ],
   "source": [
    "basis = \"u1,u2,u3,cx\"\n",
    "coupling = \"q,0:q,4;q,1:q,4;q,2:q,4;q,3:q,4\"\n",
    "\n",
    "q = QuantumRegister(\"q\", 3)\n",
    "r = QuantumRegister(\"r\", 2)\n",
    "p = QuantumCircuit(q, r)\n",
    "q.h()\n",
    "r.h()\n",
    "q.cx(0, 1)\n",
    "q.cx(1, 2)\n",
    "p.cx(q[2], r[0])\n",
    "r.cx(0, 1)\n",
    "\n",
    "c = make_unrolled_circuit(p.qasm(), basis)\n",
    "\n",
    "coup = localize.Coupling(coupling)\n",
    "\n",
    "print(\"got coupling = \\n%s\"%coup)\n",
    "print(\"coup.connected() = %s\"%coup.connected())\n",
    "print(\"got circuit = \\n%s\"%c.qasm(True))\n",
    "\n",
    "coup.compute_distance()\n",
    "for q1 in coup.qubits.keys():\n",
    "    for q2 in coup.qubits.keys():\n",
    "        print(\"%s -> %s: %f\"%(q1,q2,coup.distance(q1,q2)))\n",
    "\n",
    "llist = c.layers()\n",
    "print(list(map(lambda x:x['partition'],llist)))\n",
    "\n"
   ]
  },
  {
   "cell_type": "code",
   "execution_count": null,
   "metadata": {
    "collapsed": true
   },
   "outputs": [],
   "source": []
  }
 ],
 "metadata": {
  "anaconda-cloud": {},
  "kernelspec": {
   "display_name": "Python [default]",
   "language": "python",
   "name": "python3"
  },
  "language_info": {
   "codemirror_mode": {
    "name": "ipython",
    "version": 3
   },
   "file_extension": ".py",
   "mimetype": "text/x-python",
   "name": "python",
   "nbconvert_exporter": "python",
   "pygments_lexer": "ipython3",
   "version": "3.5.2"
  }
 },
 "nbformat": 4,
 "nbformat_minor": 1
}
