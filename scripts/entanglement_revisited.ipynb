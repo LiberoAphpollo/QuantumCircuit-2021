{
 "cells": [
  {
   "cell_type": "markdown",
   "metadata": {},
   "source": [
    "<img src=\"./images/QISKit-c.gif\" alt=\"Note: In order for images to show up in this jupyter notebook you need to select File => Trusted Notebook\" width=\"250 px\" align=\"left\">"
   ]
  },
  {
   "cell_type": "markdown",
   "metadata": {},
   "source": [
    "## _*Entanglement revisited*_ \n",
    "\n",
    "The latest version of this notebook is available on https://github.com/IBM/qiskit-sdk-py/tree/master/scripts.\n",
    "\n",
    "For more information about how to use the Quantum Experience consult the [Quantum Experience tutorials](https://quantumexperience.ng.bluemix.net/qstage/#/tutorial?sectionId=c59b3710b928891a1420190148a72cce&pageIndex=0) or check-out the [community](https://quantumexperience.ng.bluemix.net/qstage/#/community).\n",
    "\n",
    "***\n",
    "### Contributors\n",
    "Jay Gambetta, Antonio Córcoles"
   ]
  },
  {
   "cell_type": "markdown",
   "metadata": {},
   "source": [
    "## Entanglement\n",
    "\n",
    "In [superposition and entanglement](scripts/superposition_and_entanglement.ipynb) we introduced you to the concept of entanglement. We made the quantum state $|\\psi\\rangle= (|00\\rangle+|11\\rangle)/\\sqrt{2}$ and showed that (up to experimental noise) the system has perfect correlations in both the computation basis and the superpostion basis. This means that if $q_0$ is measured in state $|0\\rangle$ then we know $q_1$ is in this state, and furthermore if $q_0$ is measured in state $|+\\rangle$ then we know $q_1$ is in this state.\n",
    "\n",
    "To understand the implications of this in a little bit more detail lets introduce the concept of an observable. An observable is a Hermitian matrix where the real eigenvalues represent the outcome of the experiment and the eigenvectors are the states the system is projected in under measurement. That is $ A$ is given by\n",
    "  \n",
    "\n",
    "$$  A = \\sum_j a_j|a_j\\rangle\\langle a_j|$$ \n",
    "\n",
    "where $|a_j\\rangle$ is the eigenvector of the observable with result $a_j$. This expectation value of this observable is given by \n",
    "\n",
    "$$\\langle  A \\rangle  = \\sum_j a_j |\\langle \\psi  |a_j\\rangle|^2  = \\sum_j a_j \\mathrm{Pr}(a_j|\\psi)$$\n",
    "\n",
    "and we see there is the standard relationship between average (expectation value) and probability. \n",
    "\n",
    "For a two qubit system the following important two-outcome ($\\pm1$) single qubit observables are \n",
    "\n",
    "$$ Z= |0\\rangle\\langle 0| - |1\\rangle\\langle 1|$$ \n",
    "$$ X= |+\\rangle\\langle +| - |-\\rangle\\langle -|$$ \n",
    "\n",
    "which can be extended to the two-qubit space to give \n",
    "\n",
    "$$\\langle  I\\otimes  Z\\rangle =\\mathrm{Pr}(00|\\psi) - \\mathrm{Pr}(01|\\psi) +  \\mathrm{Pr}(10|\\psi)- \\mathrm{Pr}(11|\\psi)$$ \n",
    "$$\\langle  Z\\otimes  I\\rangle =\\mathrm{Pr}(00|\\psi) + \\mathrm{Pr}(01|\\psi) -  \\mathrm{Pr}(10|\\psi)- \\mathrm{Pr}(11|\\psi)$$ \n",
    "$$\\langle  Z\\otimes  Z\\rangle =\\mathrm{Pr}(00|\\psi) - \\mathrm{Pr}(01|\\psi) -  \\mathrm{Pr}(10|\\psi)+ \\mathrm{Pr}(11|\\psi)$$ \n",
    "\n",
    "$$\\langle  I\\otimes  X\\rangle =\\mathrm{Pr}(++|\\psi) - \\mathrm{Pr}(+-|\\psi) +  \\mathrm{Pr}(-+|\\psi)- \\mathrm{Pr}(--|\\psi)$$ \n",
    "$$\\langle  X\\otimes  I\\rangle =\\mathrm{Pr}(++|\\psi) + \\mathrm{Pr}(+-|\\psi) -  \\mathrm{Pr}(-+|\\psi)- \\mathrm{Pr}(--|\\psi)$$ \n",
    "$$\\langle  X\\otimes  X\\rangle =\\mathrm{Pr}(++|\\psi) - \\mathrm{Pr}(+-|\\psi) -  \\mathrm{Pr}(-+|\\psi)+ \\mathrm{Pr}(--|\\psi)$$ \n",
    "\n",
    "\n",
    "$$\\langle  Z\\otimes  X\\rangle =\\mathrm{Pr}(0+|\\psi) - \\mathrm{Pr}(0-|\\psi) -  \\mathrm{Pr}(1+|\\psi)+ \\mathrm{Pr}(1-|\\psi)$$ \n",
    "$$\\langle  X\\otimes  Z\\rangle =\\mathrm{Pr}(+0|\\psi) - \\mathrm{Pr}(+1|\\psi) -  \\mathrm{Pr}(-0|\\psi)+ \\mathrm{Pr}(-1|\\psi)$$ "
   ]
  },
  {
   "cell_type": "code",
   "execution_count": 17,
   "metadata": {
    "collapsed": false
   },
   "outputs": [],
   "source": [
    "#Checking the version of PYTHON we only support 3 at the moment\n",
    "import sys\n",
    "if sys.version_info < (3,0):\n",
    "    raise Exception(\"Please use Python version 3 or greater.\")\n",
    "    \n",
    "#usefull additional packages \n",
    "import matplotlib.pyplot as plt\n",
    "import numpy as np\n",
    "import scipy as sp\n",
    "import scipy.linalg\n",
    "%matplotlib inline\n",
    "import time\n",
    "\n",
    "#importing the QX and QISKit \n",
    "from IBMQuantumExperience import IBMQuantumExperience\n",
    "import sys\n",
    "sys.path.append(\"..\")\n",
    "from qiskit import QuantumRegister, ClassicalRegister, QuantumCircuit\n",
    "from qiskit.extensions.standard import x, h, cx, s, u3, barrier\n",
    "\n",
    "#some usefull functions for running a program, plotting, and getting the data\n",
    "from qhelpers.misc import run_program\n",
    "from qhelpers.misc import program_to_text\n",
    "from qhelpers.misc import combine_jobs\n",
    "from qhelpers.misc import get_data\n",
    "from qhelpers.basicplotter import plot_histogram\n",
    "from qhelpers.misc import average_data\n",
    "\n",
    "#Set up the API to communitcate to the QX\n",
    "import Qconfig\n",
    "api = IBMQuantumExperience.IBMQuantumExperience(Qconfig.APItoken, Qconfig.config)"
   ]
  },
  {
   "cell_type": "markdown",
   "metadata": {},
   "source": [
    "Recall to make the Bell state $|\\psi\\rangle= (|00\\rangle+|11\\rangle)/\\sqrt{2}$ from the initial state $|00\\rangle$, the quantum circuit first applies a Hadmard on $q_0$ and then a CNOT from $q_0$ to $q_1$. On the Quantum Experience this is done by using the script for measurement of the above expectation values we have to run four different experiments with measurements in the standard basis, superposition basis, and a combination of both."
   ]
  },
  {
   "cell_type": "code",
   "execution_count": 2,
   "metadata": {
    "collapsed": false
   },
   "outputs": [
    {
     "name": "stdout",
     "output_type": "stream",
     "text": [
      "OPENQASM 2.0;\n",
      "include \"qelib1.inc\";\n",
      "qreg q[2];\n",
      "creg c[2];\n",
      "u2(0.0,3.141592653589793) q[0];\n",
      "cx q[0],q[1];\n",
      "measure q[1] -> c[1];\n",
      "measure q[0] -> c[0];\n",
      "\n",
      "\n",
      "OPENQASM 2.0;\n",
      "include \"qelib1.inc\";\n",
      "qreg q[2];\n",
      "creg c[2];\n",
      "u2(0.0,3.141592653589793) q[0];\n",
      "cx q[0],q[1];\n",
      "u2(0.0,3.141592653589793) q[0];\n",
      "measure q[1] -> c[1];\n",
      "measure q[0] -> c[0];\n",
      "\n",
      "\n",
      "OPENQASM 2.0;\n",
      "include \"qelib1.inc\";\n",
      "qreg q[2];\n",
      "creg c[2];\n",
      "u2(0.0,3.141592653589793) q[0];\n",
      "cx q[0],q[1];\n",
      "u2(0.0,3.141592653589793) q[0];\n",
      "u2(0.0,3.141592653589793) q[1];\n",
      "measure q[1] -> c[1];\n",
      "measure q[0] -> c[0];\n",
      "\n",
      "\n",
      "OPENQASM 2.0;\n",
      "include \"qelib1.inc\";\n",
      "qreg q[2];\n",
      "creg c[2];\n",
      "u2(0.0,3.141592653589793) q[0];\n",
      "cx q[0],q[1];\n",
      "u2(0.0,3.141592653589793) q[1];\n",
      "measure q[1] -> c[1];\n",
      "measure q[0] -> c[0];\n",
      "\n",
      "\n",
      "\n",
      "status = {'RUNNING': 1} (0 seconds)\n",
      "status = {'COMPLETED': 1} (20 seconds)\n"
     ]
    }
   ],
   "source": [
    "device = 'real' # the device to run on\n",
    "shots = 1024    #the number of shots in the experiment. \n",
    "\n",
    "#quantum circuit to make bell state \n",
    "q = QuantumRegister(\"q\", 2)\n",
    "c = ClassicalRegister(\"c\", 2)\n",
    "bell = QuantumCircuit(q, c)\n",
    "bell.h(q[0])\n",
    "bell.cx(q[0],q[1])\n",
    "\n",
    "# quantum circuit to measure q in standard basis \n",
    "measureZZ = QuantumCircuit(q, c)\n",
    "measureZZ.measure(q[0], c[0])\n",
    "measureZZ.measure(q[1], c[1])\n",
    "\n",
    "# quantum circuit to measure q in superposition basis \n",
    "measureXX = QuantumCircuit(q, c)\n",
    "measureXX.h(q[0])\n",
    "measureXX.h(q[1])\n",
    "measureXX.measure(q[0], c[0])\n",
    "measureXX.measure(q[1], c[1])\n",
    "\n",
    "# quantum circuit to measure ZX\n",
    "measureZX = QuantumCircuit(q, c)\n",
    "measureZX.h(q[0])\n",
    "measureZX.measure(q[0], c[0])\n",
    "measureZX.measure(q[1], c[1])\n",
    "\n",
    "# quantum circuit to measure XZ\n",
    "measureXZ = QuantumCircuit(q, c)\n",
    "measureXZ.h(q[1])\n",
    "measureXZ.measure(q[0], c[0])\n",
    "measureXZ.measure(q[1], c[1])\n",
    "\n",
    "program = [bell+measureZZ, bell+measureZX, bell+measureXX, bell+measureXZ]\n",
    "\n",
    "print(program_to_text(program))\n",
    "out = run_program(program,api,device,shots,max_credits=3)\n",
    "jobids=[out['id']]\n",
    "results=combine_jobs(jobids, api, wait=20, timeout=240)  "
   ]
  },
  {
   "cell_type": "code",
   "execution_count": 3,
   "metadata": {
    "collapsed": false
   },
   "outputs": [],
   "source": [
    "obsevableIZ ={'00000': 1, '00001': -1, '00010': 1, '00011': -1}\n",
    "obsevableZI ={'00000': 1, '00001': 1, '00010': -1, '00011': -1}\n",
    "obsevableZZ ={'00000': 1, '00001': -1, '00010': -1, '00011': 1}\n",
    "\n",
    "obsevableIZ_ideal ={'00': 1, '01': -1, '10': 1, '11': -1}\n",
    "obsevableZI_ideal ={'00': 1, '01': 1, '10': -1, '11': -1}\n",
    "obsevableZZ_ideal ={'00': 1, '01': -1, '10': -1, '11': 1}"
   ]
  },
  {
   "cell_type": "code",
   "execution_count": 4,
   "metadata": {
    "collapsed": false
   },
   "outputs": [
    {
     "name": "stdout",
     "output_type": "stream",
     "text": [
      "IZ = 0.0703125\n",
      "ZI = 0.107421875\n",
      "ZZ = 0.822265625\n",
      "IX = 0.1953125\n",
      "XI = 0.212890625\n",
      "XX = 0.826171875\n",
      "ZX = 0.0\n",
      "XZ = 0.0546875\n"
     ]
    }
   ],
   "source": [
    "print(\"IZ = \" + str(average_data(get_data(results,0),obsevableIZ)))\n",
    "print(\"ZI = \" + str(average_data(get_data(results,0),obsevableZI)))\n",
    "print(\"ZZ = \" + str(average_data(get_data(results,0),obsevableZZ)))\n",
    "\n",
    "print(\"IX = \" + str(average_data(get_data(results,2),obsevableIZ)))\n",
    "print(\"XI = \" + str(average_data(get_data(results,2),obsevableZI)))\n",
    "print(\"XX = \" + str(average_data(get_data(results,2),obsevableZZ)))\n",
    "\n",
    "print(\"ZX = \" + str(average_data(get_data(results,1),obsevableZZ)))\n",
    "print(\"XZ = \" + str(average_data(get_data(results,3),obsevableZZ)))"
   ]
  },
  {
   "cell_type": "markdown",
   "metadata": {},
   "source": [
    "Here we see that for the state $|\\psi\\rangle= (|00\\rangle+|11\\rangle)/\\sqrt{2}$ that within experimental error expectation values are\n",
    "\n",
    "\n",
    "Observable    | Expected value |Observable    | Expected value|Observable    | Expected value\n",
    "------------- | -------------  | ------------- | ------------- | ------------- | -------------\n",
    "ZZ  | 1   |XX  | 1  | ZX  | 0 \n",
    "ZI  | 0   |XI  | 0  | XZ  | 0\n",
    "IZ  | 0   |IX  | 0  |   |\n",
    "\n",
    "If we assume there is a hidden variable $\\lambda$ and the follow assumptions \n",
    "\n",
    "* _Locality_: No information can travel faster than the speed of light. There is a hidden variable $\\lambda$ that defines all the correlations so that  $$\\langle A\\otimes B\\rangle = \\sum_\\lambda P(\\lambda) A(\\lambda) B(\\lambda)$$ \n",
    "                      \n",
    "* _Realism_: All observables have a definite value independent of the measurement ($A(\\lambda)=\\pm1$ etc).\n",
    "\n",
    "can we describe these observations.  --- The answer is yes! \n",
    "\n",
    "Lets assume $\\lambda$ has two bits each occurring randomly with probably 1/4 then the following predefined table would explain all the above observables\n",
    "\n",
    "$\\lambda$    | Z (qubit 1) |Z (qubit 2)    | X (qubit 1)| X (qubit 2)   \n",
    "------------- | -------------  | ------------- | ------------- | ------------- \n",
    "00  | 1 | 1 | 1 | 1  \n",
    "01  | 1 | 1 |-1 |-1  \n",
    "10  |-1 |-1 |-1 |-1    \n",
    "11  |-1 |-1 | 1 | 1  \n",
    "\n",
    "however there are some states where this is not true. This was first observed by John Stewart Bell in 1964.  He proposed a theorem that suggests that there are no hidden variables in quantum mechanics. At the core of Bell's theorem is the famous Bell inequality. Here, we'll use a refined version of this inequality (known as the CHSH inequality, derived by John Clauser, Michael Horne, Abner Shimony, and Richard Holt in 1969) to demonstrate Bell's proposal "
   ]
  },
  {
   "cell_type": "markdown",
   "metadata": {},
   "source": [
    "## CHSH inequality \n",
    "\n",
    "\n",
    "In the CHSH inequality we measure the correlator of the four observables: $A$ and $A'$ on $q_0$ and $B$ and $B'$ on $q_1$ which have eigenvalues $\\pm 1$. The CHSH inequality says that no local hidden variable theory can have  \n",
    "\n",
    "$$|C|>2$$ \n",
    "\n",
    "where \n",
    "\n",
    "$$C = \\langle B\\otimes A\\rangle + \\langle B\\otimes A'\\rangle+\\langle B'\\otimes A'\\rangle-\\langle B'\\otimes A\\rangle$$\n",
    "\n",
    "Under the locality and realism assumtion above  $C$ becomes \n",
    "\n",
    "$$C = \\sum_\\lambda P(\\lambda) \\{ B(\\lambda) [ A(\\lambda)+A'(\\lambda)] + B'(\\lambda) [ A'(\\lambda)-A(\\lambda)]$$\n",
    "                      \n",
    "and $[A(\\lambda)+A'(\\lambda)]=2$ (or 0) while $[A'(\\lambda)-A(\\lambda)]=0$ (or 2) respectively. That is, $|C|=2$, and noise will only make this smaller. \n",
    " \n",
    "If we measure a number greater than 2 then the above assumptions can not be valid, and this is one of those astonishing counterintuitive ideas one must accept in the quantum world.\n",
    "\n",
    "For simplicity we choose these observables to be \n",
    "\n",
    " $$C = \\langle Z\\otimes Z\\rangle + \\langle Z\\otimes X\\rangle+\\langle X\\otimes X\\rangle-\\langle X\\otimes Z\\rangle$$\n",
    "\n",
    "Z is measured in the computational basis and X in the superposition basis ($H$ is applied before measurement) and the input state $$|\\psi(\\theta)\\rangle = I\\otimes Y(\\theta)\\frac{|00\\rangle + |11\\rangle}{\\sqrt(2)} = \\frac{\\cos(\\theta/2)|00\\rangle + \\cos(\\theta/2)|11\\rangle+\\sin(\\theta/2)|01\\rangle-\\sin(\\theta/2)|10\\rangle}{\\sqrt{2}}$$ is swept vs $\\theta$. \n",
    " \n",
    "Note that the following demonstration of CHSH is not loophole-free. "
   ]
  },
  {
   "cell_type": "code",
   "execution_count": 5,
   "metadata": {
    "collapsed": true
   },
   "outputs": [],
   "source": [
    "CHSH = lambda x : x[0]+x[1]+x[2]-x[3]"
   ]
  },
  {
   "cell_type": "code",
   "execution_count": 6,
   "metadata": {
    "collapsed": false
   },
   "outputs": [],
   "source": [
    "program = []\n",
    "xdata=[]\n",
    "\n",
    "program_end = [measureZZ, measureZX, measureXX, measureXZ]\n",
    "\n",
    "for jj in range(30):\n",
    "    theta = 2.0*np.pi*jj/30\n",
    "    bell_middle = QuantumCircuit(q, c)\n",
    "    bell_middle.u3(theta,0,0,q[0])\n",
    "    for i in range(4):\n",
    "        program.append(bell+bell_middle+program_end[i])\n",
    "    xdata.append(theta)\n",
    "    \n"
   ]
  },
  {
   "cell_type": "code",
   "execution_count": 7,
   "metadata": {
    "collapsed": false
   },
   "outputs": [
    {
     "name": "stdout",
     "output_type": "stream",
     "text": [
      "OPENQASM 2.0;\n",
      "include \"qelib1.inc\";\n",
      "qreg q[2];\n",
      "creg c[2];\n",
      "u2(0.0,3.141592653589793) q[0];\n",
      "cx q[0],q[1];\n",
      "u3(0.0,0.0,0.0) q[0];\n",
      "measure q[1] -> c[1];\n",
      "measure q[0] -> c[0];\n",
      "\n",
      "\n",
      "OPENQASM 2.0;\n",
      "include \"qelib1.inc\";\n",
      "qreg q[2];\n",
      "creg c[2];\n",
      "u2(0.0,3.141592653589793) q[0];\n",
      "cx q[0],q[1];\n",
      "u3(0.0,0.0,0.0) q[0];\n",
      "u2(0.0,3.141592653589793) q[0];\n",
      "measure q[1] -> c[1];\n",
      "measure q[0] -> c[0];\n",
      "\n",
      "\n",
      "OPENQASM 2.0;\n",
      "include \"qelib1.inc\";\n",
      "qreg q[2];\n",
      "creg c[2];\n",
      "u2(0.0,3.141592653589793) q[0];\n",
      "cx q[0],q[1];\n",
      "u3(0.0,0.0,0.0) q[0];\n",
      "u2(0.0,3.141592653589793) q[0];\n",
      "u2(0.0,3.141592653589793) q[1];\n",
      "measure q[1] -> c[1];\n",
      "measure q[0] -> c[0];\n",
      "\n",
      "\n",
      "OPENQASM 2.0;\n",
      "include \"qelib1.inc\";\n",
      "qreg q[2];\n",
      "creg c[2];\n",
      "u2(0.0,3.141592653589793) q[0];\n",
      "cx q[0],q[1];\n",
      "u3(0.0,0.0,0.0) q[0];\n",
      "u2(0.0,3.141592653589793) q[1];\n",
      "measure q[1] -> c[1];\n",
      "measure q[0] -> c[0];\n",
      "\n",
      "\n",
      "OPENQASM 2.0;\n",
      "include \"qelib1.inc\";\n",
      "qreg q[2];\n",
      "creg c[2];\n",
      "u2(0.0,3.141592653589793) q[0];\n",
      "cx q[0],q[1];\n",
      "u3(0.20943951023932,0.0,0.0) q[0];\n",
      "measure q[1] -> c[1];\n",
      "measure q[0] -> c[0];\n",
      "\n",
      "\n",
      "OPENQASM 2.0;\n",
      "include \"qelib1.inc\";\n",
      "qreg q[2];\n",
      "creg c[2];\n",
      "u2(0.0,3.141592653589793) q[0];\n",
      "cx q[0],q[1];\n",
      "u3(0.20943951023932,0.0,0.0) q[0];\n",
      "u2(0.0,3.141592653589793) q[0];\n",
      "measure q[1] -> c[1];\n",
      "measure q[0] -> c[0];\n",
      "\n",
      "\n",
      "OPENQASM 2.0;\n",
      "include \"qelib1.inc\";\n",
      "qreg q[2];\n",
      "creg c[2];\n",
      "u2(0.0,3.141592653589793) q[0];\n",
      "cx q[0],q[1];\n",
      "u3(0.20943951023932,0.0,0.0) q[0];\n",
      "u2(0.0,3.141592653589793) q[0];\n",
      "u2(0.0,3.141592653589793) q[1];\n",
      "measure q[1] -> c[1];\n",
      "measure q[0] -> c[0];\n",
      "\n",
      "\n",
      "OPENQASM 2.0;\n",
      "include \"qelib1.inc\";\n",
      "qreg q[2];\n",
      "creg c[2];\n",
      "u2(0.0,3.141592653589793) q[0];\n",
      "cx q[0],q[1];\n",
      "u3(0.20943951023932,0.0,0.0) q[0];\n",
      "u2(0.0,3.141592653589793) q[1];\n",
      "measure q[1] -> c[1];\n",
      "measure q[0] -> c[0];\n",
      "\n",
      "\n",
      "\n"
     ]
    }
   ],
   "source": [
    "print(program_to_text(program[0:8]))"
   ]
  },
  {
   "cell_type": "code",
   "execution_count": 8,
   "metadata": {
    "collapsed": false
   },
   "outputs": [
    {
     "name": "stdout",
     "output_type": "stream",
     "text": [
      "status = {'COMPLETED': 2, 'RUNNING': 1} (0 seconds)\n",
      "status = {'COMPLETED': 3} (5 seconds)\n"
     ]
    }
   ],
   "source": [
    "device = 'simulator'\n",
    "shots = 1024\n",
    "\n",
    "program_list=[program[0:40],program[40:80],program[80:120]]\n",
    "\n",
    "jobids = []\n",
    "for p in program_list:\n",
    "    out=run_program(p,api,device,shots,max_credits=3)\n",
    "    jobids.append(out['id'])\n",
    "    \n",
    "r=combine_jobs(jobids, api, wait=5, timeout=240)\n",
    "\n",
    "CHSH_data_sim = []\n",
    "for j in range(0,len(r['qasms']),4):\n",
    "    temp=[]\n",
    "    temp.append(average_data(get_data(r,j+0),obsevableZZ_ideal))\n",
    "    temp.append(average_data(get_data(r,j+1),obsevableZZ_ideal))\n",
    "    temp.append(average_data(get_data(r,j+2),obsevableZZ_ideal))\n",
    "    temp.append(average_data(get_data(r,j+3),obsevableZZ_ideal))\n",
    "    CHSH_data_sim.append(CHSH(temp))"
   ]
  },
  {
   "cell_type": "code",
   "execution_count": 9,
   "metadata": {
    "collapsed": false
   },
   "outputs": [
    {
     "name": "stdout",
     "output_type": "stream",
     "text": [
      "status = {'RUNNING': 1} (0 seconds)\n",
      "status = {'RUNNING': 1} (20 seconds)\n",
      "status = {'RUNNING': 1} (40 seconds)\n",
      "status = {'COMPLETED': 1} (60 seconds)\n"
     ]
    }
   ],
   "source": [
    "device = 'real'\n",
    "shots = 1024\n",
    "\n",
    "program = []\n",
    "xdata2=[]\n",
    "\n",
    "for jj in range(10):\n",
    "    theta = 2.0*np.pi*jj/10\n",
    "    bell_middle = QuantumCircuit(q, c)\n",
    "    bell_middle.u3(theta,0,0,q[0])\n",
    "    for i in range(4):\n",
    "        program.append(bell+bell_middle+program_end[i])\n",
    "    xdata2.append(theta)\n",
    "\n",
    "\n",
    "out = run_program(program,api,device,shots,max_credits=3)\n",
    "jobids=[out['id']]\n",
    "r=combine_jobs(jobids, api, wait=20, timeout=240)  \n",
    "\n",
    "CHSH_data_real = []\n",
    "for j in range(0, len(r['qasms']), 4):\n",
    "    temp=[]\n",
    "    temp.append(average_data(get_data(r,j+0),obsevableZZ))\n",
    "    temp.append(average_data(get_data(r,j+1),obsevableZZ))\n",
    "    temp.append(average_data(get_data(r,j+2),obsevableZZ))\n",
    "    temp.append(average_data(get_data(r,j+3),obsevableZZ))\n",
    "    CHSH_data_real.append(CHSH(temp))"
   ]
  },
  {
   "cell_type": "code",
   "execution_count": 10,
   "metadata": {
    "collapsed": false
   },
   "outputs": [
    {
     "data": {
      "image/png": "[encoded data removed]",
      "text/plain": [
       "<matplotlib.figure.Figure at 0x10f1467f0>"
      ]
     },
     "metadata": {},
     "output_type": "display_data"
    }
   ],
   "source": [
    "plt.plot(xdata, CHSH_data_sim, 'r-', xdata2, CHSH_data_real, 'bo')\n",
    "plt.plot([0, 2*np.pi], [2, 2], 'b-')\n",
    "plt.plot([0, 2*np.pi], [-2, -2], 'b-')\n",
    "plt.grid()\n",
    "plt.ylabel('CHSH', fontsize=20)\n",
    "plt.xlabel(r'$Y(\\theta)$', fontsize=20)\n",
    "plt.show()"
   ]
  },
  {
   "cell_type": "markdown",
   "metadata": {},
   "source": [
    "The graph created by running the next cell compares the simulated data (sinusoidal line) and the data from the real experiment. The graph also gives lines at $\\pm 2$ for reference."
   ]
  },
  {
   "cell_type": "markdown",
   "metadata": {
    "collapsed": false
   },
   "source": [
    "Here is the saved CHSH data. "
   ]
  },
  {
   "cell_type": "code",
   "execution_count": 11,
   "metadata": {
    "collapsed": false
   },
   "outputs": [
    {
     "name": "stdout",
     "output_type": "stream",
     "text": [
      "[1.603515625, 2.248046875, 1.994140625, 1.013671875, -0.330078125, -1.578125, -2.23046875, -1.97265625, -0.98828125, 0.32421875]\n"
     ]
    }
   ],
   "source": [
    "print(CHSH_data_real)"
   ]
  },
  {
   "cell_type": "markdown",
   "metadata": {},
   "source": [
    "Despite the presence of loopholes in our demonstration, we can see that this experiment is compatible with quantum mechanics as a theory with no local hidden variables."
   ]
  },
  {
   "cell_type": "markdown",
   "metadata": {},
   "source": [
    "## Mermin's test\n",
    "In case the violation of Bell's inequality (CHSH) by two qubits is not enough for you to believe in quantum mechanics, we can generalize to a more stringent set of tests with three qubits which can a single shot violation (rather than average). We can explore beyond two-qubit entanglement and generate Greenberger-Horne-Zeilinger states. A well-known three-qubit case is Mermin's inequality, and here in this notebook we work through such a test."
   ]
  },
  {
   "cell_type": "markdown",
   "metadata": {},
   "source": [
    "An example of a three-qubit GHZ state is $|\\psi\\rangle = \\left (|000\\rangle+|111\\rangle\\right)/\\sqrt{2}$. You can see this is a further generalization of a Bell-state and if measured, should give $|000\\rangle$ half the time and $|111 \\rangle$ the other half of the time."
   ]
  },
  {
   "cell_type": "code",
   "execution_count": 13,
   "metadata": {
    "collapsed": false
   },
   "outputs": [
    {
     "name": "stdout",
     "output_type": "stream",
     "text": [
      "OPENQASM 2.0;\n",
      "include \"qelib1.inc\";\n",
      "qreg q[3];\n",
      "creg c[3];\n",
      "u2(0.0,3.141592653589793) q[0];\n",
      "cx q[0],q[1];\n",
      "cx q[0],q[2];\n",
      "measure q[2] -> c[2];\n",
      "measure q[1] -> c[1];\n",
      "measure q[0] -> c[0];\n",
      "\n",
      "\n",
      "\n",
      "status = {'RUNNING': 1} (0 seconds)\n",
      "status = {'RUNNING': 1} (20 seconds)\n",
      "status = {'COMPLETED': 1} (40 seconds)\n"
     ]
    },
    {
     "data": {
      "image/png": "[encoded data removed]",
      "text/plain": [
       "<matplotlib.figure.Figure at 0x10cdcab38>"
      ]
     },
     "metadata": {},
     "output_type": "display_data"
    }
   ],
   "source": [
    "#quantum circuit to make GHZ state \n",
    "q = QuantumRegister(\"q\", 3)\n",
    "c = ClassicalRegister(\"c\", 3)\n",
    "ghz = QuantumCircuit(q, c)\n",
    "ghz.h(q[0])\n",
    "ghz.cx(q[0],q[1])\n",
    "ghz.cx(q[0],q[2])\n",
    "\n",
    "# quantum circuit to measure q in standard basis \n",
    "measureZZZ = QuantumCircuit(q, c)\n",
    "measureZZZ.measure(q[0], c[0])\n",
    "measureZZZ.measure(q[1], c[1])\n",
    "measureZZZ.measure(q[2], c[2])\n",
    "\n",
    "program = [ghz+measureZZZ]\n",
    "\n",
    "print(program_to_text(program))\n",
    "\n",
    "out = run_program(program,api,device,shots,max_credits=3)\n",
    "jobids=[out['id']]\n",
    "results=combine_jobs(jobids, api, wait=20, timeout=240)   \n",
    "\n",
    "data=get_data(results,0)\n",
    "plot_histogram(data)"
   ]
  },
  {
   "cell_type": "markdown",
   "metadata": {},
   "source": [
    "## Three-box game\n",
    "\n",
    "Now suppose we have three independent systems,$\\{A,B,C\\}$, for which we can query two particular questions $X$ and $Y$. In each case, either query can give $+1$ or $-1$. Is it possible to choose some state of the three boxes such that we can satisfy the following four conditions, $X_A Y_B Y_C = 1$, $Y_A X_B Y_C =1$, $Y_A Y_B X_C = 1$, and $X_A X_B X_C = -1$. Choosing classical states, this can be shown to be impossible. Yet a 3-qubit GHZ state can satsify all four conditions."
   ]
  },
  {
   "cell_type": "code",
   "execution_count": 14,
   "metadata": {
    "collapsed": true
   },
   "outputs": [],
   "source": [
    "MerminM = lambda x : x[0]*x[1]*x[2]*x[3]"
   ]
  },
  {
   "cell_type": "code",
   "execution_count": 15,
   "metadata": {
    "collapsed": true
   },
   "outputs": [],
   "source": [
    "observable ={'00000': 1, '00001': -1, '00010': -1, '00011': 1, '00100': -1, '00101': 1, '00110': 1, '00111': -1}"
   ]
  },
  {
   "cell_type": "code",
   "execution_count": 22,
   "metadata": {
    "collapsed": false
   },
   "outputs": [
    {
     "name": "stdout",
     "output_type": "stream",
     "text": [
      "status = {'RUNNING': 1} (0 seconds)\n",
      "status = {'COMPLETED': 1} (20 seconds)\n"
     ]
    }
   ],
   "source": [
    "# quantum circuit to measure q XXX \n",
    "measureXXX = QuantumCircuit(q, c)\n",
    "measureXXX.h(q[0])\n",
    "measureXXX.h(q[1])\n",
    "measureXXX.h(q[2])\n",
    "measureXXX.measure(q[0], c[0])\n",
    "measureXXX.measure(q[1], c[1])\n",
    "measureXXX.measure(q[2], c[2])\n",
    "\n",
    "# quantum circuit to measure q XYY\n",
    "measureXYY = QuantumCircuit(q, c)\n",
    "measureXYY.s(q[1]).inverse()\n",
    "measureXYY.s(q[2]).inverse()\n",
    "measureXYY.h(q[0])\n",
    "measureXYY.h(q[1])\n",
    "measureXYY.h(q[2])\n",
    "measureXYY.measure(q[0], c[0])\n",
    "measureXYY.measure(q[1], c[1])\n",
    "measureXYY.measure(q[2], c[2])\n",
    "\n",
    "# quantum circuit to measure q YXY\n",
    "measureYXY = QuantumCircuit(q, c)\n",
    "measureYXY.s(q[0]).inverse()\n",
    "measureYXY.s(q[2]).inverse()\n",
    "measureYXY.h(q[0])\n",
    "measureYXY.h(q[1])\n",
    "measureYXY.h(q[2])\n",
    "measureYXY.measure(q[0], c[0])\n",
    "measureYXY.measure(q[1], c[1])\n",
    "measureYXY.measure(q[2], c[2])\n",
    "\n",
    "# quantum circuit to measure q YYX\n",
    "measureYYX = QuantumCircuit(q, c)\n",
    "measureYYX.s(q[0]).inverse()\n",
    "measureYYX.s(q[1]).inverse()\n",
    "measureYYX.h(q[0])\n",
    "measureYYX.h(q[1])\n",
    "measureYYX.h(q[2])\n",
    "measureYYX.measure(q[0], c[0])\n",
    "measureYYX.measure(q[1], c[1])\n",
    "measureYYX.measure(q[2], c[2])\n",
    "\n",
    "program = [ghz+measureXXX,ghz+measureYYX,ghz+measureYXY,ghz+measureXYY]\n",
    "\n",
    "out = run_program(program,api,device,shots,max_credits=3)\n",
    "jobids=[out['id']]\n",
    "r=combine_jobs(jobids, api, wait=20, timeout=240)   "
   ]
  },
  {
   "cell_type": "code",
   "execution_count": 23,
   "metadata": {
    "collapsed": false
   },
   "outputs": [
    {
     "name": "stdout",
     "output_type": "stream",
     "text": [
      "[0.654296875, -0.56640625, -0.5234375, -0.54296875]\n",
      "-0.1053276879247278\n"
     ]
    }
   ],
   "source": [
    "temp=[]\n",
    "temp.append(average_data(get_data(r,0),observable))\n",
    "temp.append(average_data(get_data(r,1),observable))\n",
    "temp.append(average_data(get_data(r,2),observable))\n",
    "temp.append(average_data(get_data(r,3),observable))\n",
    "print(temp)\n",
    "print(MerminM(temp))"
   ]
  },
  {
   "cell_type": "markdown",
   "metadata": {},
   "source": [
    "The above shows that the average statistics are not consistent with a local hidden variable theory. To show it with single shots below we run 50 single experiments with each experiement is chosen randomly and the outcome is saved. If there was a local hidden variable theory all of these outcomes would be $+1$."
   ]
  },
  {
   "cell_type": "code",
   "execution_count": 53,
   "metadata": {
    "collapsed": false
   },
   "outputs": [],
   "source": [
    "device = 'real'\n",
    "program_singleshot=[]\n",
    "for j in range(0, 50):\n",
    "    r=np.random.randint(4)\n",
    "    program_singleshot.append(program[r])\n",
    "    "
   ]
  },
  {
   "cell_type": "code",
   "execution_count": 54,
   "metadata": {
    "collapsed": false
   },
   "outputs": [
    {
     "name": "stdout",
     "output_type": "stream",
     "text": [
      "status = {'RUNNING': 1} (0 seconds)\n",
      "status = {'COMPLETED': 1} (20 seconds)\n"
     ]
    }
   ],
   "source": [
    "out = run_program(program_singleshot,api,device,1,max_credits=3)\n",
    "jobids=[out['id']]\n",
    "r=combine_jobs(jobids, api, wait=20, timeout=240) "
   ]
  },
  {
   "cell_type": "code",
   "execution_count": 59,
   "metadata": {
    "collapsed": false
   },
   "outputs": [],
   "source": [
    "temp=[]\n",
    "for j in range(0, 50):\n",
    "    temp.append(average_data(get_data(r,j),observable))"
   ]
  },
  {
   "cell_type": "code",
   "execution_count": 69,
   "metadata": {
    "collapsed": false
   },
   "outputs": [
    {
     "data": {
      "text/plain": [
       "(array([34, 16]), array([-1.,  0.,  1.]))"
      ]
     },
     "execution_count": 69,
     "metadata": {},
     "output_type": "execute_result"
    }
   ],
   "source": [
    "outcomes = np.histogram(temp,bins=2)\n",
    "outcomes"
   ]
  },
  {
   "cell_type": "code",
   "execution_count": null,
   "metadata": {
    "collapsed": true
   },
   "outputs": [],
   "source": []
  }
 ],
 "metadata": {
  "anaconda-cloud": {},
  "kernelspec": {
   "display_name": "Python [default]",
   "language": "python",
   "name": "python3"
  },
  "language_info": {
   "codemirror_mode": {
    "name": "ipython",
    "version": 3
   },
   "file_extension": ".py",
   "mimetype": "text/x-python",
   "name": "python",
   "nbconvert_exporter": "python",
   "pygments_lexer": "ipython3",
   "version": "3.5.2"
  }
 },
 "nbformat": 4,
 "nbformat_minor": 0
}
