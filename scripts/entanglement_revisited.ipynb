{
 "cells": [
  {
   "cell_type": "markdown",
   "metadata": {},
   "source": [
    "<img src=\"./images/QISKit-c.gif\" alt=\"Note: In order for images to show up in this jupyter notebook you need to select File => Trusted Notebook\" width=\"250 px\" align=\"left\">"
   ]
  },
  {
   "cell_type": "markdown",
   "metadata": {},
   "source": [
    "## _*Entanglement revisited*_ \n",
    "\n",
    "The latest version of this notebook is available on https://github.com/IBM/qiskit-sdk-py/tree/master/scripts.\n",
    "\n",
    "For more information about how to use the Quantum Experience consult the [Quantum Experience tutorials](https://quantumexperience.ng.bluemix.net/qstage/#/tutorial?sectionId=c59b3710b928891a1420190148a72cce&pageIndex=0) or check-out the [community](https://quantumexperience.ng.bluemix.net/qstage/#/community).\n",
    "\n",
    "***\n",
    "### Contributors\n",
    "Jay Gambetta, Antonio Córcoles"
   ]
  },
  {
   "cell_type": "markdown",
   "metadata": {},
   "source": [
    "## Entanglement\n",
    "\n",
    "In [superposition and entanglement](scripts/superposition_and_entanglement.ipynb) we introduced you to the concept of entanglement. We made the quantum state $|\\psi\\rangle= (|00\\rangle+|11\\rangle)/\\sqrt{2}$ and showed that (up to experimental noise) the system has perfect correlations in both the computation basis and the superpostion basis. This means that if $q_0$ is measured in state $|0\\rangle$ then we know $q_1$ is in this state, and furthermore if $q_0$ is measured in state $|+\\rangle$ then we know $q_1$ is in this state.\n",
    "\n",
    "To understand the implications of this in a little bit more detail lets introduce the concept of an observable. An observable is a Hermitian matrix where the real eigenvalues represent the outcome of the experiment and the eigenvectors are the states the system is projected in under measurement. That is $ A$ is given by\n",
    "  \n",
    "\n",
    "$$  A = \\sum_j a_j|a_j\\rangle\\langle a_j|$$ \n",
    "\n",
    "where $|a_j\\rangle$ is the eigenvector of the observable with result $a_j$. This expectation value of this observable is given by \n",
    "\n",
    "$$\\langle  A \\rangle  = \\sum_j a_j |\\langle \\psi  |a_j\\rangle|^2  = \\sum_j a_j \\mathrm{Pr}(a_j|\\psi)$$\n",
    "\n",
    "and we see there is the standard relationship between average (expectation value) and probability. \n",
    "\n",
    "For a two qubit system the following important two-outcome ($\\pm1$) single qubit observables are \n",
    "\n",
    "$$ Z= |0\\rangle\\langle 0| - |1\\rangle\\langle 1|$$ \n",
    "$$ X= |+\\rangle\\langle +| - |-\\rangle\\langle -|$$ \n",
    "\n",
    "which can be extended to the two-qubit space to give \n",
    "\n",
    "$$\\langle  I\\otimes  Z\\rangle =\\mathrm{Pr}(00|\\psi) - \\mathrm{Pr}(01|\\psi) +  \\mathrm{Pr}(10|\\psi)- \\mathrm{Pr}(11|\\psi)$$ \n",
    "$$\\langle  Z\\otimes  I\\rangle =\\mathrm{Pr}(00|\\psi) + \\mathrm{Pr}(01|\\psi) -  \\mathrm{Pr}(10|\\psi)- \\mathrm{Pr}(11|\\psi)$$ \n",
    "$$\\langle  Z\\otimes  Z\\rangle =\\mathrm{Pr}(00|\\psi) - \\mathrm{Pr}(01|\\psi) -  \\mathrm{Pr}(10|\\psi)+ \\mathrm{Pr}(11|\\psi)$$ \n",
    "\n",
    "$$\\langle  I\\otimes  X\\rangle =\\mathrm{Pr}(++|\\psi) - \\mathrm{Pr}(+-|\\psi) +  \\mathrm{Pr}(-+|\\psi)- \\mathrm{Pr}(--|\\psi)$$ \n",
    "$$\\langle  X\\otimes  I\\rangle =\\mathrm{Pr}(++|\\psi) + \\mathrm{Pr}(+-|\\psi) -  \\mathrm{Pr}(-+|\\psi)- \\mathrm{Pr}(--|\\psi)$$ \n",
    "$$\\langle  X\\otimes  X\\rangle =\\mathrm{Pr}(++|\\psi) - \\mathrm{Pr}(+-|\\psi) -  \\mathrm{Pr}(-+|\\psi)+ \\mathrm{Pr}(--|\\psi)$$ \n",
    "\n",
    "\n",
    "$$\\langle  Z\\otimes  X\\rangle =\\mathrm{Pr}(0+|\\psi) - \\mathrm{Pr}(0-|\\psi) -  \\mathrm{Pr}(1+|\\psi)+ \\mathrm{Pr}(1-|\\psi)$$ \n",
    "$$\\langle  X\\otimes  Z\\rangle =\\mathrm{Pr}(+0|\\psi) - \\mathrm{Pr}(+1|\\psi) -  \\mathrm{Pr}(-0|\\psi)+ \\mathrm{Pr}(-1|\\psi)$$ "
   ]
  },
  {
   "cell_type": "code",
   "execution_count": 1,
   "metadata": {
    "collapsed": true
   },
   "outputs": [],
   "source": [
    "import sys\n",
    "if sys.version_info < (3,0):\n",
    "    raise Exception(\"Please use Python version 3 or greater.\")\n",
    "    \n",
    "import matplotlib.pyplot as plt\n",
    "import numpy as np\n",
    "import scipy as sp\n",
    "import scipy.linalg\n",
    "%matplotlib inline\n",
    "import time\n",
    "\n",
    "from IBMQuantumExperience import IBMQuantumExperience\n",
    "import sys\n",
    "sys.path.append(\"..\")\n",
    "from qiskit import QuantumRegister, ClassicalRegister, QuantumCircuit\n",
    "from qiskit.extensions.standard import x, h, cx, u3\n",
    "from qiskit.qasm import Qasm\n",
    "import qiskit.unroll as unroll\n",
    "\n",
    "from qhelpers.basicplotter import plot_histogram\n",
    "from qhelpers.misc import get_data\n",
    "from qhelpers.misc import average_data\n",
    "from qhelpers.misc import combine_jobs\n",
    "\n",
    "import Qconfig\n",
    "api = IBMQuantumExperience.IBMQuantumExperience(Qconfig.APItoken, Qconfig.config)"
   ]
  },
  {
   "cell_type": "markdown",
   "metadata": {},
   "source": [
    "Recall to make the Bell state $|\\psi\\rangle= (|00\\rangle+|11\\rangle)/\\sqrt{2}$ from the initial state $|00\\rangle$, the quantum circuit first applies a Hadmard on $q_0$ and then a CNOT from $q_0$ to $q_1$. On the Quantum Experience this is done by using the script for measurement of the above expectation values we have to run four different experiments with measurements in the standard basis, superposition basis, and a combination of both."
   ]
  },
  {
   "cell_type": "code",
   "execution_count": 2,
   "metadata": {
    "collapsed": false
   },
   "outputs": [
    {
     "name": "stderr",
     "output_type": "stream",
     "text": [
      "Generating LALR tables\n",
      "Generating LALR tables\n",
      "Generating LALR tables\n",
      "Generating LALR tables\n"
     ]
    },
    {
     "name": "stdout",
     "output_type": "stream",
     "text": [
      "status = {'RUNNING': 1} (0 seconds)\n",
      "status = {'COMPLETED': 1} (20 seconds)\n"
     ]
    }
   ],
   "source": [
    "device = 'real' # the device to run on\n",
    "shots = 1024    #the number of shots in the experiment. \n",
    "\n",
    "program = []\n",
    "for i in range(4):\n",
    "    q = QuantumRegister(\"q\", 2)\n",
    "    c = ClassicalRegister(\"c\", 2)\n",
    "    p = QuantumCircuit(q, c)\n",
    "    q.h(0)\n",
    "    q.cx(0,1)\n",
    "    if i == 0:\n",
    "        p.measure(q[0], c[0])\n",
    "        p.measure(q[1], c[1])\n",
    "    if i == 1:\n",
    "        q.h(0)\n",
    "        q.h(1)\n",
    "        p.measure(q[0], c[0])\n",
    "        p.measure(q[1], c[1])\n",
    "    if i == 2:\n",
    "        q.h(0)\n",
    "        p.measure(q[0], c[0])\n",
    "        p.measure(q[1], c[1])\n",
    "    if i == 3:\n",
    "        q.h(1)\n",
    "        p.measure(q[0], c[0])\n",
    "        p.measure(q[1], c[1])\n",
    "    program.append(p)\n",
    "\n",
    "#----- CAN WE HIDE THIS FROM THE USER FOR THE SCRIPTS ------ \n",
    "jobs =[]\n",
    "for p in program:\n",
    "    basis = \"u1,u2,u3,cx\"  # QE target basis\n",
    "    u = unroll.Unroller(Qasm(data=p.qasm()).parse(), unroll.CircuitBackend(basis.split(\",\")))\n",
    "    u.execute()\n",
    "    C = u.be.C  # circuit DAG\n",
    "\n",
    "    # Do stuff to circuit (not done yet) \n",
    "    jobs.append({'qasm' : C.qasm(qeflag=True)})  # this is what you send into the API   \n",
    "#-----------------------------------------------------------\n",
    "\n",
    "out = api.run_job(jobs,device,shots,max_credits=3)\n",
    "jobids=[out['id']]\n",
    "results=combine_jobs(jobids, api, wait=20, timeout=240) "
   ]
  },
  {
   "cell_type": "code",
   "execution_count": 3,
   "metadata": {
    "collapsed": false
   },
   "outputs": [],
   "source": [
    "obsevableIZ ={'00000': 1, '00001': -1, '00010': 1, '00011': -1}\n",
    "obsevableZI ={'00000': 1, '00001': 1, '00010': -1, '00011': -1}\n",
    "obsevableZZ ={'00000': 1, '00001': -1, '00010': -1, '00011': 1}\n",
    "\n",
    "obsevableIZ_ideal ={'00': 1, '01': -1, '10': 1, '11': -1}\n",
    "obsevableZI_ideal ={'00': 1, '01': 1, '10': -1, '11': -1}\n",
    "obsevableZZ_ideal ={'00': 1, '01': -1, '10': -1, '11': 1}"
   ]
  },
  {
   "cell_type": "code",
   "execution_count": 4,
   "metadata": {
    "collapsed": false
   },
   "outputs": [
    {
     "name": "stdout",
     "output_type": "stream",
     "text": [
      "IZ = 0.0703125\n",
      "ZI = 0.064453125\n",
      "ZZ = 0.755859375\n",
      "IX = 0.1171875\n",
      "XI = 0.08203125\n",
      "XX = 0.76171875\n",
      "ZX = -0.001953125\n",
      "XZ = -0.009765625\n"
     ]
    }
   ],
   "source": [
    "print(\"IZ = \" + str(average_data(get_data(results,0),obsevableIZ)))\n",
    "print(\"ZI = \" + str(average_data(get_data(results,0),obsevableZI)))\n",
    "print(\"ZZ = \" + str(average_data(get_data(results,0),obsevableZZ)))\n",
    "\n",
    "print(\"IX = \" + str(average_data(get_data(results,1),obsevableIZ)))\n",
    "print(\"XI = \" + str(average_data(get_data(results,1),obsevableZI)))\n",
    "print(\"XX = \" + str(average_data(get_data(results,1),obsevableZZ)))\n",
    "\n",
    "print(\"ZX = \" + str(average_data(get_data(results,2),obsevableZZ)))\n",
    "print(\"XZ = \" + str(average_data(get_data(results,3),obsevableZZ)))"
   ]
  },
  {
   "cell_type": "markdown",
   "metadata": {},
   "source": [
    "Here we see that for the state $|\\psi\\rangle= (|00\\rangle+|11\\rangle)/\\sqrt{2}$ that within experimental error expectation values are\n",
    "\n",
    "\\begin{tabular}{ l c r }\n",
    "  1 & 2 & 3 \\\\\n",
    "  4 & 5 & 6 \\\\\n",
    "  7 & 8 & 9 \\\\\n",
    "\\end{tabular}"
   ]
  },
  {
   "cell_type": "markdown",
   "metadata": {},
   "source": [
    "## CHSH inequality \n",
    "\n",
    "In classical physics there are phenomena that can appear random to an observer but are far from being so. For example, the single toss of a coin. Assuming a fair coin, of course, will that give a random outcome? It may appear so. But the apparent randomness stems simply from the fact that we cannot easily measure everything related to the toss of the coin: speed, angular momentum, ambient conditions ... with enough accuracy. These variables are 'hidden' to the classical observer. From the beginnings of quantum mechanics, some people pondered that the randomness inherent to the quantum theory might equally be due to hidden variables. This was for a while a very hot topic of discussion in quantum mechanics.\n",
    "\n",
    "In 1964, John Stewart Bell proposed a theorem that suggests that there are no hidden variables in quantum mechanics. It would not be crazy to state that Bell's theorem might be one of the most profound discoveries ever made in history of science. At the core of Bell's theorem is the famous Bell inequality. Here, we'll use a refined version of this inequality (known as the CHSH inequality, derived by John Clauser, Michael Horne, Abner Shimony, and Richard Holt in 1969) to demonstrate Bell's proposal \n",
    "\n",
    "In the CHSH inequality we measure the correlator of the four observables: $A$ and $A'$ on $q_0$ and $B$ and $B'$ on $q_1$ which have eigenvalues $\\pm 1$. The CHSH inequality says that no local hidden variable theory can have  \n",
    "\n",
    "$$|C|>2$$ \n",
    "\n",
    "where \n",
    "\n",
    "$$C = \\langle B\\otimes A\\rangle + \\langle B\\otimes A'\\rangle+\\langle B'\\otimes A'\\rangle-\\langle B'\\otimes A\\rangle$$\n",
    "\n",
    "\n",
    " \n",
    "* _Locality_: No information can travel faster than the speed of light. There is a hidden variable $\\lambda$ that defines all the correlations so that  $$\\langle A\\otimes B\\rangle = \\sum_\\lambda P(\\lambda) A(\\lambda) B(\\lambda)$$ and $C$ becomes \n",
    "$$C = \\sum_\\lambda P(\\lambda) \\{ B(\\lambda) [ A(\\lambda)+A'(\\lambda)] + B'(\\lambda) [ A'(\\lambda)-A(\\lambda)]$$\n",
    "                      \n",
    "* _Realism_: All observables have a definite value independent of the measurement (+1 or -1). This implies that either $[A(\\lambda)+A'(\\lambda)]=2$ (or 0) while $[A'(\\lambda)-A(\\lambda)]=0$ (or 2) respectively. That is, $|C|=2$, and noise will only make this smaller. \n",
    " \n",
    "If we measure a number greater than 2 then the above assumptions must not be valid, and this is one of those astonishing counterintuitive ideas one must accept in the quantum world.\n",
    "\n",
    "For simplicity we choose these observables to be \n",
    "\n",
    " $$C = \\langle Z\\otimes Z\\rangle + \\langle Z\\otimes X\\rangle+\\langle X\\otimes X\\rangle-\\langle X\\otimes Z\\rangle$$\n",
    "\n",
    "Z is measured in the computational basis and X in the superposition basis ($H$ is applied before measurement) and the input state $$|\\psi(\\theta)\\rangle = I\\otimes Y(\\theta)\\frac{|00\\rangle + |11\\rangle}{\\sqrt(2)}$$ is swept vs $\\theta$. \n",
    " \n",
    "Note that the following demonstration of CHSH is not loophole-free. "
   ]
  },
  {
   "cell_type": "code",
   "execution_count": 5,
   "metadata": {
    "collapsed": true
   },
   "outputs": [],
   "source": [
    "CHSH = lambda x : x[0]+x[1]+x[2]-x[3]"
   ]
  },
  {
   "cell_type": "code",
   "execution_count": 6,
   "metadata": {
    "collapsed": false
   },
   "outputs": [
    {
     "name": "stderr",
     "output_type": "stream",
     "text": [
      "Generating LALR tables\n",
      "Generating LALR tables\n",
      "Generating LALR tables\n",
      "Generating LALR tables\n",
      "Generating LALR tables\n",
      "Generating LALR tables\n",
      "Generating LALR tables\n",
      "Generating LALR tables\n",
      "Generating LALR tables\n",
      "Generating LALR tables\n",
      "Generating LALR tables\n",
      "Generating LALR tables\n",
      "Generating LALR tables\n",
      "Generating LALR tables\n",
      "Generating LALR tables\n",
      "Generating LALR tables\n",
      "Generating LALR tables\n",
      "Generating LALR tables\n",
      "Generating LALR tables\n",
      "Generating LALR tables\n",
      "Generating LALR tables\n",
      "Generating LALR tables\n",
      "Generating LALR tables\n",
      "Generating LALR tables\n",
      "Generating LALR tables\n",
      "Generating LALR tables\n",
      "Generating LALR tables\n",
      "Generating LALR tables\n",
      "Generating LALR tables\n",
      "Generating LALR tables\n",
      "Generating LALR tables\n",
      "Generating LALR tables\n",
      "Generating LALR tables\n",
      "Generating LALR tables\n",
      "Generating LALR tables\n",
      "Generating LALR tables\n",
      "Generating LALR tables\n",
      "Generating LALR tables\n",
      "Generating LALR tables\n",
      "Generating LALR tables\n",
      "Generating LALR tables\n",
      "Generating LALR tables\n",
      "Generating LALR tables\n",
      "Generating LALR tables\n",
      "Generating LALR tables\n",
      "Generating LALR tables\n",
      "Generating LALR tables\n",
      "Generating LALR tables\n",
      "Generating LALR tables\n",
      "Generating LALR tables\n",
      "Generating LALR tables\n",
      "Generating LALR tables\n",
      "Generating LALR tables\n",
      "Generating LALR tables\n",
      "Generating LALR tables\n",
      "Generating LALR tables\n",
      "Generating LALR tables\n",
      "Generating LALR tables\n",
      "Generating LALR tables\n",
      "Generating LALR tables\n",
      "Generating LALR tables\n",
      "Generating LALR tables\n",
      "Generating LALR tables\n",
      "Generating LALR tables\n",
      "Generating LALR tables\n",
      "Generating LALR tables\n",
      "Generating LALR tables\n",
      "Generating LALR tables\n",
      "Generating LALR tables\n",
      "Generating LALR tables\n",
      "Generating LALR tables\n",
      "Generating LALR tables\n",
      "Generating LALR tables\n",
      "Generating LALR tables\n",
      "Generating LALR tables\n",
      "Generating LALR tables\n",
      "Generating LALR tables\n",
      "Generating LALR tables\n",
      "Generating LALR tables\n",
      "Generating LALR tables\n",
      "Generating LALR tables\n",
      "Generating LALR tables\n",
      "Generating LALR tables\n",
      "Generating LALR tables\n",
      "Generating LALR tables\n",
      "Generating LALR tables\n",
      "Generating LALR tables\n",
      "Generating LALR tables\n",
      "Generating LALR tables\n",
      "Generating LALR tables\n",
      "Generating LALR tables\n",
      "Generating LALR tables\n",
      "Generating LALR tables\n",
      "Generating LALR tables\n",
      "Generating LALR tables\n",
      "Generating LALR tables\n",
      "Generating LALR tables\n",
      "Generating LALR tables\n",
      "Generating LALR tables\n",
      "Generating LALR tables\n",
      "Generating LALR tables\n",
      "Generating LALR tables\n",
      "Generating LALR tables\n",
      "Generating LALR tables\n",
      "Generating LALR tables\n",
      "Generating LALR tables\n",
      "Generating LALR tables\n",
      "Generating LALR tables\n",
      "Generating LALR tables\n",
      "Generating LALR tables\n",
      "Generating LALR tables\n",
      "Generating LALR tables\n",
      "Generating LALR tables\n",
      "Generating LALR tables\n",
      "Generating LALR tables\n",
      "Generating LALR tables\n",
      "Generating LALR tables\n",
      "Generating LALR tables\n",
      "Generating LALR tables\n",
      "Generating LALR tables\n"
     ]
    }
   ],
   "source": [
    "program = []\n",
    "xdata=[]\n",
    "for jj in range(30):\n",
    "    theta = 2.0*np.pi*jj/30\n",
    "    for i in range(4):\n",
    "        q = QuantumRegister(\"q\", 2)\n",
    "        c = ClassicalRegister(\"c\", 2)\n",
    "        p = QuantumCircuit(q, c)\n",
    "        q.h(0)\n",
    "        q.cx(0,1)\n",
    "        q.u3(theta,0,0,0)\n",
    "        if i == 0:\n",
    "            p.measure(q[0], c[0])\n",
    "            p.measure(q[1], c[1])\n",
    "        if i == 1:\n",
    "            q.h(0)\n",
    "            p.measure(q[0], c[0])\n",
    "            p.measure(q[1], c[1])\n",
    "        if i == 2:\n",
    "            q.h(0)\n",
    "            q.h(1)\n",
    "            p.measure(q[0], c[0])\n",
    "            p.measure(q[1], c[1])\n",
    "        if i == 3:\n",
    "            q.h(1)\n",
    "            p.measure(q[0], c[0])\n",
    "            p.measure(q[1], c[1])\n",
    "        program.append(p)\n",
    "    xdata.append(theta)\n",
    "    \n",
    "#----- CAN WE HIDE THIS FROM THE USER FOR THE SCRIPTS ------ \n",
    "jobs =[]\n",
    "for p in program:\n",
    "    basis = \"u1,u2,u3,cx\"  # QE target basis\n",
    "    u = unroll.Unroller(Qasm(data=p.qasm()).parse(), unroll.CircuitBackend(basis.split(\",\")))\n",
    "    u.execute()\n",
    "    C = u.be.C  # circuit DAG\n",
    "\n",
    "    # Do stuff to circuit (not done yet) \n",
    "    jobs.append({'qasm' : C.qasm(qeflag=True)})  # this is what you send into the API   \n",
    "#-----------------------------------------------------------"
   ]
  },
  {
   "cell_type": "code",
   "execution_count": 11,
   "metadata": {
    "collapsed": false
   },
   "outputs": [
    {
     "name": "stdout",
     "output_type": "stream",
     "text": [
      "status = {'COMPLETED': 2, 'RUNNING': 1} (0 seconds)\n",
      "status = {'COMPLETED': 2, 'RUNNING': 1} (5 seconds)\n",
      "status = {'COMPLETED': 2, 'RUNNING': 1} (10 seconds)\n",
      "status = {'COMPLETED': 2, 'RUNNING': 1} (15 seconds)\n",
      "status = {'COMPLETED': 2, 'RUNNING': 1} (20 seconds)\n",
      "status = {'COMPLETED': 2, 'RUNNING': 1} (25 seconds)\n",
      "status = {'COMPLETED': 2, 'RUNNING': 1} (30 seconds)\n",
      "status = {'COMPLETED': 2, 'RUNNING': 1} (35 seconds)\n",
      "status = {'COMPLETED': 2, 'RUNNING': 1} (40 seconds)\n",
      "status = {'COMPLETED': 2, 'RUNNING': 1} (45 seconds)\n",
      "status = {'COMPLETED': 2, 'RUNNING': 1} (50 seconds)\n",
      "status = {'COMPLETED': 2, 'RUNNING': 1} (55 seconds)\n",
      "status = {'COMPLETED': 2, 'RUNNING': 1} (60 seconds)\n"
     ]
    },
    {
     "ename": "KeyError",
     "evalue": "'result'",
     "output_type": "error",
     "traceback": [
      "\u001b[0;31m---------------------------------------------------------------------------\u001b[0m",
      "\u001b[0;31mKeyError\u001b[0m                                  Traceback (most recent call last)",
      "\u001b[0;32m<ipython-input-11-dfd54a491a8e>\u001b[0m in \u001b[0;36m<module>\u001b[0;34m()\u001b[0m\n\u001b[1;32m     17\u001b[0m     \u001b[0mtemp\u001b[0m\u001b[0;34m.\u001b[0m\u001b[0mappend\u001b[0m\u001b[0;34m(\u001b[0m\u001b[0maverage_data\u001b[0m\u001b[0;34m(\u001b[0m\u001b[0mget_data\u001b[0m\u001b[0;34m(\u001b[0m\u001b[0mr\u001b[0m\u001b[0;34m,\u001b[0m\u001b[0mj\u001b[0m\u001b[0;34m+\u001b[0m\u001b[0;36m1\u001b[0m\u001b[0;34m)\u001b[0m\u001b[0;34m,\u001b[0m\u001b[0mobsevableZZ_ideal\u001b[0m\u001b[0;34m)\u001b[0m\u001b[0;34m)\u001b[0m\u001b[0;34m\u001b[0m\u001b[0m\n\u001b[1;32m     18\u001b[0m     \u001b[0mtemp\u001b[0m\u001b[0;34m.\u001b[0m\u001b[0mappend\u001b[0m\u001b[0;34m(\u001b[0m\u001b[0maverage_data\u001b[0m\u001b[0;34m(\u001b[0m\u001b[0mget_data\u001b[0m\u001b[0;34m(\u001b[0m\u001b[0mr\u001b[0m\u001b[0;34m,\u001b[0m\u001b[0mj\u001b[0m\u001b[0;34m+\u001b[0m\u001b[0;36m2\u001b[0m\u001b[0;34m)\u001b[0m\u001b[0;34m,\u001b[0m\u001b[0mobsevableZZ_ideal\u001b[0m\u001b[0;34m)\u001b[0m\u001b[0;34m)\u001b[0m\u001b[0;34m\u001b[0m\u001b[0m\n\u001b[0;32m---> 19\u001b[0;31m     \u001b[0mtemp\u001b[0m\u001b[0;34m.\u001b[0m\u001b[0mappend\u001b[0m\u001b[0;34m(\u001b[0m\u001b[0maverage_data\u001b[0m\u001b[0;34m(\u001b[0m\u001b[0mget_data\u001b[0m\u001b[0;34m(\u001b[0m\u001b[0mr\u001b[0m\u001b[0;34m,\u001b[0m\u001b[0mj\u001b[0m\u001b[0;34m+\u001b[0m\u001b[0;36m3\u001b[0m\u001b[0;34m)\u001b[0m\u001b[0;34m,\u001b[0m\u001b[0mobsevableZZ_ideal\u001b[0m\u001b[0;34m)\u001b[0m\u001b[0;34m)\u001b[0m\u001b[0;34m\u001b[0m\u001b[0m\n\u001b[0m\u001b[1;32m     20\u001b[0m     \u001b[0mCHSH_data_sim\u001b[0m\u001b[0;34m.\u001b[0m\u001b[0mappend\u001b[0m\u001b[0;34m(\u001b[0m\u001b[0mCHSH\u001b[0m\u001b[0;34m(\u001b[0m\u001b[0mtemp\u001b[0m\u001b[0;34m)\u001b[0m\u001b[0;34m)\u001b[0m\u001b[0;34m\u001b[0m\u001b[0m\n",
      "\u001b[0;32m/Users/jmgambet/gitshare/qiskit-sdk-py-local/scripts/qhelpers/misc.py\u001b[0m in \u001b[0;36mget_data\u001b[0;34m(results, i)\u001b[0m\n\u001b[1;32m     13\u001b[0m \u001b[0;32mdef\u001b[0m \u001b[0mget_data\u001b[0m\u001b[0;34m(\u001b[0m\u001b[0mresults\u001b[0m\u001b[0;34m,\u001b[0m \u001b[0mi\u001b[0m\u001b[0;34m)\u001b[0m\u001b[0;34m:\u001b[0m\u001b[0;34m\u001b[0m\u001b[0m\n\u001b[1;32m     14\u001b[0m     \u001b[0;34m\"\"\"Get the dict of labels and counts from the output of get_job.\"\"\"\u001b[0m\u001b[0;34m\u001b[0m\u001b[0m\n\u001b[0;32m---> 15\u001b[0;31m     \u001b[0;32mreturn\u001b[0m \u001b[0mresults\u001b[0m\u001b[0;34m[\u001b[0m\u001b[0;34m'qasms'\u001b[0m\u001b[0;34m]\u001b[0m\u001b[0;34m[\u001b[0m\u001b[0mi\u001b[0m\u001b[0;34m]\u001b[0m\u001b[0;34m[\u001b[0m\u001b[0;34m'result'\u001b[0m\u001b[0;34m]\u001b[0m\u001b[0;34m[\u001b[0m\u001b[0;34m'data'\u001b[0m\u001b[0;34m]\u001b[0m\u001b[0;34m[\u001b[0m\u001b[0;34m'counts'\u001b[0m\u001b[0;34m]\u001b[0m\u001b[0;34m\u001b[0m\u001b[0m\n\u001b[0m\u001b[1;32m     16\u001b[0m \u001b[0;34m\u001b[0m\u001b[0m\n\u001b[1;32m     17\u001b[0m \u001b[0;34m\u001b[0m\u001b[0m\n",
      "\u001b[0;31mKeyError\u001b[0m: 'result'"
     ]
    }
   ],
   "source": [
    "device = 'simulator'\n",
    "shots = 1024\n",
    "\n",
    "jobs_list=[jobs[0:40],jobs[40:80],jobs[80:120]]\n",
    "\n",
    "jobids=[]\n",
    "for job in jobs_list:\n",
    "    out = api.run_job(job, device, shots, max_credits=3)\n",
    "    jobids.append(out['id'])\n",
    "    \n",
    "r=combine_jobs(jobids, api, wait=5, timeout=60)\n",
    "\n",
    "CHSH_data_sim = []\n",
    "for j in range(0,len(r['qasms']),4):\n",
    "    temp=[]\n",
    "    temp.append(average_data(get_data(r,j+0),obsevableZZ_ideal))\n",
    "    temp.append(average_data(get_data(r,j+1),obsevableZZ_ideal))\n",
    "    temp.append(average_data(get_data(r,j+2),obsevableZZ_ideal))\n",
    "    temp.append(average_data(get_data(r,j+3),obsevableZZ_ideal))\n",
    "    CHSH_data_sim.append(CHSH(temp))"
   ]
  },
  {
   "cell_type": "code",
   "execution_count": null,
   "metadata": {
    "collapsed": false
   },
   "outputs": [],
   "source": [
    "device = 'real'\n",
    "shots = 1024\n",
    "\n",
    "\n",
    "program = []\n",
    "xdata2=[]\n",
    "for jj in range(10):\n",
    "    theta = 2.0*np.pi*jj/10\n",
    "    for i in range(4):\n",
    "        q = QuantumRegister(\"q\", 2)\n",
    "        c = ClassicalRegister(\"c\", 2)\n",
    "        p = QuantumCircuit(q, c)\n",
    "        q.h(0)\n",
    "        q.cx(0,1)\n",
    "        q.u3(theta,0,0,0)\n",
    "        if i == 0:\n",
    "            p.measure(q[0], c[0])\n",
    "            p.measure(q[1], c[1])\n",
    "        if i == 1:\n",
    "            q.h(0)\n",
    "            p.measure(q[0], c[0])\n",
    "            p.measure(q[1], c[1])\n",
    "        if i == 2:\n",
    "            q.h(0)\n",
    "            q.h(1)\n",
    "            p.measure(q[0], c[0])\n",
    "            p.measure(q[1], c[1])\n",
    "        if i == 3:\n",
    "            q.h(1)\n",
    "            p.measure(q[0], c[0])\n",
    "            p.measure(q[1], c[1])\n",
    "        program.append(p)\n",
    "    xdata2.append(theta)\n",
    "    \n",
    "#----- CAN WE HIDE THIS FROM THE USER FOR THE SCRIPTS ------ \n",
    "jobs =[]\n",
    "for p in program:\n",
    "    basis = \"u1,u2,u3,cx\"  # QE target basis\n",
    "    u = unroll.Unroller(Qasm(data=p.qasm()).parse(), unroll.CircuitBackend(basis.split(\",\")))\n",
    "    u.execute()\n",
    "    C = u.be.C  # circuit DAG\n",
    "\n",
    "    # Do stuff to circuit (not done yet) \n",
    "    jobs.append({'qasm' : C.qasm(qeflag=True)})  # this is what you send into the API   \n",
    "#-----------------------------------------------------------\n",
    "\n",
    "jobids = []\n",
    "out = api.run_job(jobs, device, shots, max_credits=3)\n",
    "jobids.append(out['id'])\n",
    "r=combine_jobs(jobids, api, wait = 20, timeout = 240)\n",
    "\n",
    "CHSH_data_real = []\n",
    "for j in range(0, len(r['qasms']), 4):\n",
    "    temp=[]\n",
    "    temp.append(average_data(get_data(r,j+0),obsevableZZ))\n",
    "    temp.append(average_data(get_data(r,j+1),obsevableZZ))\n",
    "    temp.append(average_data(get_data(r,j+2),obsevableZZ))\n",
    "    temp.append(average_data(get_data(r,j+3),obsevableZZ))\n",
    "    CHSH_data_real.append(CHSH(temp))"
   ]
  },
  {
   "cell_type": "markdown",
   "metadata": {},
   "source": [
    "The graph created by running the next cell compares the simulated data (sinusoidal line) and the data from the real experiment. The graph also gives lines at $\\pm 2$ for reference."
   ]
  },
  {
   "cell_type": "code",
   "execution_count": null,
   "metadata": {
    "collapsed": false
   },
   "outputs": [],
   "source": [
    "plt.plot(xdata, CHSH_data_sim, 'r-', xdata2, CHSH_data_real, 'bo')\n",
    "plt.plot([0, 2*np.pi], [2, 2], 'b-')\n",
    "plt.plot([0, 2*np.pi], [-2, -2], 'b-')\n",
    "plt.grid()\n",
    "plt.ylabel('CHSH', fontsize=20)\n",
    "plt.xlabel(r'$Y(\\theta)$', fontsize=20)\n",
    "plt.show()"
   ]
  },
  {
   "cell_type": "markdown",
   "metadata": {
    "collapsed": false
   },
   "source": [
    "Here is the saved CHSH data. "
   ]
  },
  {
   "cell_type": "code",
   "execution_count": null,
   "metadata": {
    "collapsed": false
   },
   "outputs": [],
   "source": [
    "print(CHSH_data_real)"
   ]
  },
  {
   "cell_type": "markdown",
   "metadata": {},
   "source": [
    "Despite the presence of loopholes in our demonstration, we can see that this experiment is compatible with quantum mechanics as a theory with no local hidden variables."
   ]
  }
 ],
 "metadata": {
  "anaconda-cloud": {},
  "kernelspec": {
   "display_name": "Python [default]",
   "language": "python",
   "name": "python3"
  },
  "language_info": {
   "codemirror_mode": {
    "name": "ipython",
    "version": 3
   },
   "file_extension": ".py",
   "mimetype": "text/x-python",
   "name": "python",
   "nbconvert_exporter": "python",
   "pygments_lexer": "ipython3",
   "version": "3.5.2"
  }
 },
 "nbformat": 4,
 "nbformat_minor": 0
}
