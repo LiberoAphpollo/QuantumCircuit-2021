{
 "cells": [
  {
   "cell_type": "markdown",
   "metadata": {},
   "source": [
    "<img src=\"./scripts/images/QISKit-c.gif\" alt=\"Note: In order for images to show up in this jupyter notebook you need to select File => Trusted Notebook\" width=\"250 px\" align=\"left\">"
   ]
  },
  {
   "cell_type": "markdown",
   "metadata": {},
   "source": [
    "## _*QISKit *_ \n",
    "\n",
    "The latest version of this notebook is available on https://github.com/IBM/qiskit-sdk-py/tree/master/scripts.\n",
    "\n",
    "For more information about how to use the Quantum Experience consult the [Quantum Experience tutorials](https://quantumexperience.ng.bluemix.net/qstage/#/tutorial?sectionId=c59b3710b928891a1420190148a72cce&pageIndex=0) or check-out the [community](https://quantumexperience.ng.bluemix.net/qstage/#/community).\n",
    "\n",
    "***\n",
    "### Contributors\n",
    "Jay Gambetta, Andrew Cross, rest"
   ]
  },
  {
   "cell_type": "markdown",
   "metadata": {},
   "source": [
    "## Introduction\n",
    "QISKit is a simple set of tools for exporing quantum information science. We have put together a set of Jupyter notebooks to demonstrate how to use our tools and explore the quantum world.\n",
    "\n",
    "Currently we have organized these notebooks into the following topics:\n",
    "\n",
    "1. Introducing the tools. \n",
    "2. Exploring quantum physics \n",
    "3. Verification tools for quantum science \n",
    "4. Appications of short depth quantum computers"
   ]
  },
  {
   "cell_type": "markdown",
   "metadata": {},
   "source": [
    "## Introducing the tools\n",
    "\n",
    "These notebooks give an introduction to using the QISKit tools\n",
    "* [Getting Started with the Quantum Experience Web API](scripts/getting_started_with_the_qx_api.ipynb) shows how to use the API. "
   ]
  },
  {
   "cell_type": "markdown",
   "metadata": {},
   "source": [
    "## Exploring quantum physics \n",
    "\n",
    "The next set of notebooks shows how you explor some simple concepts of quantum information science. Currently we have:\n",
    "\n",
    "* [Superposition and entanglement](scripts/superposition_and_entanglement.ipynb) which illustrates how to make simple quantum states on one and two qubits and shows concepts such as a quantum superpositions and entanglement. \n",
    "* [Single qubit states: amplitude and phase](scripts/single_qubit_states_amplitude_and_phase.ipynb)\n",
    "* [Entanglement revisited](scripts/entanglement_revisited.ipynb) which illustrates the CHSH inequality and extensions for three qubits. "
   ]
  },
  {
   "cell_type": "code",
   "execution_count": null,
   "metadata": {
    "collapsed": true
   },
   "outputs": [],
   "source": []
  }
 ],
 "metadata": {
  "anaconda-cloud": {},
  "kernelspec": {
   "display_name": "Python [default]",
   "language": "python",
   "name": "python3"
  },
  "language_info": {
   "codemirror_mode": {
    "name": "ipython",
    "version": 3
   },
   "file_extension": ".py",
   "mimetype": "text/x-python",
   "name": "python",
   "nbconvert_exporter": "python",
   "pygments_lexer": "ipython3",
   "version": "3.5.2"
  }
 },
 "nbformat": 4,
 "nbformat_minor": 1
}
