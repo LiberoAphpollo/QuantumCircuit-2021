{
 "cells": [
  {
   "cell_type": "markdown",
   "metadata": {},
   "source": [
    "<img src=\"../../images/QISKit-c.gif\" alt=\"Note: In order for images to show up in this jupyter notebook you need to select File => Trusted Notebook\" width=\"250 px\" align=\"left\">"
   ]
  },
  {
   "cell_type": "markdown",
   "metadata": {},
   "source": [
    "## _*Getting Started with the Quantum Experience Web API*_ \n",
    "\n",
    "The latest version of this notebook is available on https://github.com/IBM/qiskit-sdk-py/tree/master/scripts.\n",
    "\n",
    "For more information about how to use the Quantum Experience consult the [Quantum Experience tutorials](https://quantumexperience.ng.bluemix.net/qstage/#/tutorial?sectionId=c59b3710b928891a1420190148a72cce&pageIndex=0) or check-out the [community](https://quantumexperience.ng.bluemix.net/qstage/#/community).\n",
    "\n",
    "***\n",
    "### Contributors\n",
    "Jay M. Gambetta, Andrew Cross, Andreas Fuhrer"
   ]
  },
  {
   "cell_type": "markdown",
   "metadata": {},
   "source": [
    "## About\n",
    "The is a simple example script illustrating the Python interface to the web API of the Quantum Experience. It allows you to run experiments on the Quantum Experience by submitting OpenQASM 2.0 code sequences and reading back the results of the experiments when they become available. "
   ]
  },
  {
   "cell_type": "markdown",
   "metadata": {},
   "source": [
    "## Installation\n",
    "If you have **not** yet installed the Python interface to the web API of the Quantum Experience you can download it from [here](https://github.com/IBM/qiskit-api-py). Alternatively you can install it using pip from the commandline or by executing (press shift + enter) the following cell:"
   ]
  },
  {
   "cell_type": "code",
   "execution_count": 1,
   "metadata": {
    "collapsed": false
   },
   "outputs": [
    {
     "name": "stdout",
     "output_type": "stream",
     "text": [
      "Collecting IBMQuantumExperience\n",
      "Collecting requests (from IBMQuantumExperience)\n",
      "  Using cached requests-2.14.2-py2.py3-none-any.whl\n",
      "Installing collected packages: requests, IBMQuantumExperience\n",
      "  Found existing installation: requests 2.12.4\n",
      "    Uninstalling requests-2.12.4:\n",
      "      Successfully uninstalled requests-2.12.4\n",
      "Successfully installed IBMQuantumExperience-1.3.1 requests-2.14.2\n"
     ]
    }
   ],
   "source": [
    "!pip install --upgrade IBMQuantumExperience"
   ]
  },
  {
   "cell_type": "markdown",
   "metadata": {},
   "source": [
    "Should you run into problems you can retry to install from the command line (without the leading '!') or by manually installing each package:<br />\n",
    "`! pip install --upgrade --no-deps IBMQuantumExperience` <br />\n",
    "`! pip install --upgrade --no-deps requests` <br />\n",
    "For some users, it may be necessary to install in user space using the \"--user\" option. If you prefer, as a final alternative, you can import and call the pip module directly within this notebook."
   ]
  },
  {
   "cell_type": "markdown",
   "metadata": {},
   "source": [
    "## Getting Started\n",
    "Now it's time to begin doing real work with Python and the Quantum Experience.\n",
    "First, we import the Python interface for web API:"
   ]
  },
  {
   "cell_type": "code",
   "execution_count": 1,
   "metadata": {
    "collapsed": false
   },
   "outputs": [],
   "source": [
    "import sys\n",
    "if sys.version_info < (3,0):\n",
    "    raise Exception(\"Please use Python version 3 or greater.\")\n",
    "from IBMQuantumExperience import IBMQuantumExperience"
   ]
  },
  {
   "cell_type": "markdown",
   "metadata": {},
   "source": [
    "Before we can start running experiments on the Quantum Experience, __the API needs to be configured with your personal APItoken__. This is done by  setting variables in the Qconfig.py file for accessing the Quantum Experience. You can begin by copying Qconfig.py.default into your own Qconfig.py. In this file, there is a line \"#APItoken = None\" that you need to uncomment. Then replace \"None\" with your personal access token which you can obtain from the Quantum Experience web site under the Accounts button."
   ]
  },
  {
   "cell_type": "code",
   "execution_count": 2,
   "metadata": {
    "collapsed": false
   },
   "outputs": [],
   "source": [
    "import sys\n",
    "sys.path.append(\"../../\")\n",
    "#importing the QISKit\n",
    "from qiskit import QuantumProgram\n",
    "import Qconfig\n",
    "\n",
    "api = IBMQuantumExperience.IBMQuantumExperience(Qconfig.APItoken, Qconfig.config)"
   ]
  },
  {
   "cell_type": "markdown",
   "metadata": {},
   "source": [
    "The API provides the following methods: `run_job,get_job`. The detailed specifications of the API are currently still changing as the Quantum Experience gets updated. However, some basic documentation of these commands can be found below:\n",
    "\n",
    "```python\n",
    "run_job(qasms, device, shots, max_credits)```\n",
    "> Runs a batch of quantum circuits written in QpenQASM 2.0 <br />\n",
    ">\n",
    "> **Parameters:**\n",
    ">\n",
    ">_qasms_: A list of objects with the OpenQASM 2.0 information. <br />\n",
    "e.g.: `qasms=[\n",
    "    { 'qasm': \n",
    "          'OPENQASM 2.0; \n",
    "           include \"qelib1.inc\"; \n",
    "           qreg q[5];\n",
    "           creg c[5]; \n",
    "           h q[0]; \n",
    "           cx q[0],q[2]; \n",
    "           measure q[0] -> c[0]; \n",
    "           measure q[2] -> c[1]; \n",
    "          '},\n",
    "   { 'qasm': \n",
    "          'OPENQASM 2.0;\n",
    "           include \"qelib1.inc\";\n",
    "           qreg q[5];\n",
    "           creg c[5];\n",
    "           x q[0];\n",
    "           measure q[0] -> c[0];\n",
    "          '}]`\n",
    ">\n",
    ">_device_: Type of device to run the experiment on. The two possible options are: _'simulator'_ or _'real'_.  <br />\n",
    ">     e.g.: `device = 'ibmqx2'`<br />\n",
    ">\n",
    ">_shots_: Number of shots of the experiments. Maximum 8192 shots.  <br />\n",
    ">     e.g.: `shots = 1024`<br />\n",
    ">\n",
    ">_maxCredits_: Maximum number of the credits to spend in the executions. If the executions are more expensives, the job is aborted.  <br /> \n",
    ">     e.g.: `max_credits = 3`<br />\n",
    ">\n",
    "> **Returns:** \n",
    ">\n",
    "> *out\\_dict* : dictionary with the keys:\n",
    ">\n",
    ">     'backend'       : which backend was used\n",
    ">     'id'            : id of job executions\n",
    ">     'maxCredits'   : the maximum number of credits set\n",
    ">     'qasms' : Array of the circuits that were ran on the chip + results added  ['result']['data']['counts']\n",
    ">     'shots'         : number of shots set\n",
    ">     'status'        : status of execution e.g. 'DONE'\n",
    ">     'usedCredits'  : the credits used\n",
    "> \n"
   ]
  },
  {
   "cell_type": "markdown",
   "metadata": {},
   "source": [
    "## Example\n",
    "\n",
    "Now that you are connected to the Quantum Experience, let's try some basic experiments.\n",
    "First we define a simple quantum circuit using QASM 2.0. We'll start by encoding a Bell state between qubit 0 and 2."
   ]
  },
  {
   "cell_type": "code",
   "execution_count": 3,
   "metadata": {
    "collapsed": false
   },
   "outputs": [],
   "source": [
    "make_bell = \"\"\"\n",
    "OPENQASM 2.0;\n",
    "include \"qelib1.inc\";\n",
    "qreg q[3];\n",
    "creg c[2];\n",
    "h q[0];\n",
    "cx q[0],q[2];\n",
    "measure q[0] -> c[0];\n",
    "measure q[2] -> c[1];\n",
    "\"\"\""
   ]
  },
  {
   "cell_type": "markdown",
   "metadata": {},
   "source": [
    "    Lines 1+2 of the QASM string specify code version and interface library. \n",
    "    Line 3 selects only 3 of the qubits in the quantum register\n",
    "    Line 4 chooses a 2-bit output register\n",
    "    Line 5 defines a Hadamard gate on qubit 0\n",
    "    Line 6 implements a CNOT between qubit 0 and qubit 2\n",
    "    Lines 7+8 specify the measurement of the qubits and which output bit should be targeted\n",
    "    \n",
    "Next we run the experiment 1024 times using simulation. If you replace `device = 'sim'` with `device = 'real'`, you can run it on the real device. Using the `out['status']` you can see that your job is running over the cloud."
   ]
  },
  {
   "cell_type": "code",
   "execution_count": 4,
   "metadata": {
    "collapsed": false
   },
   "outputs": [
    {
     "name": "stdout",
     "output_type": "stream",
     "text": [
      "RUNNING\n"
     ]
    }
   ],
   "source": [
    "out = api.run_job(qasms = [{'qasm' : make_bell}],device = 'simulator',shots = 1024, max_credits=3)\n",
    "print(out['status'])"
   ]
  },
  {
   "cell_type": "markdown",
   "metadata": {},
   "source": [
    "To check if your job has finished use the _getJob_ command using the job id that you sent to the Quantum Expereince "
   ]
  },
  {
   "cell_type": "code",
   "execution_count": 5,
   "metadata": {
    "collapsed": false
   },
   "outputs": [
    {
     "name": "stdout",
     "output_type": "stream",
     "text": [
      "RUNNING\n",
      "RUNNING\n",
      "COMPLETED\n"
     ]
    }
   ],
   "source": [
    "import time\n",
    "jobids=out['id']\n",
    "results = api.get_job(jobids)\n",
    "print(results['status'])\n",
    "while (results['status'] == 'RUNNING'):\n",
    "    time.sleep(2)\n",
    "    results = api.get_job(jobids)\n",
    "    print(results['status'])"
   ]
  },
  {
   "cell_type": "markdown",
   "metadata": {},
   "source": [
    "Now we can retrive the data using the function _getData_."
   ]
  },
  {
   "cell_type": "code",
   "execution_count": 6,
   "metadata": {
    "collapsed": false
   },
   "outputs": [],
   "source": [
    "data = results['qasms'][0]['result']['data']['counts']"
   ]
  },
  {
   "cell_type": "markdown",
   "metadata": {},
   "source": [
    "For visualizing the results of our simple calculation we define a helper function _plotHistogram_ that makes a barchart with the propabilities of the measurement outcomes. Then we plot the results."
   ]
  },
  {
   "cell_type": "code",
   "execution_count": 7,
   "metadata": {
    "collapsed": false
   },
   "outputs": [],
   "source": [
    "from qiskit.basicplotter import plot_histogram"
   ]
  },
  {
   "cell_type": "code",
   "execution_count": 8,
   "metadata": {
    "collapsed": false
   },
   "outputs": [
    {
     "data": {
      "image/png": "[encoded data removed]",
      "text/plain": [
       "<matplotlib.figure.Figure at 0x10ceba080>"
      ]
     },
     "metadata": {},
     "output_type": "display_data"
    }
   ],
   "source": [
    "plot_histogram(data)"
   ]
  },
  {
   "cell_type": "markdown",
   "metadata": {},
   "source": [
    "## Example 2\n",
    "\n",
    "Now that you have run a single job, we'll show you how to run a batch of jobs."
   ]
  },
  {
   "cell_type": "code",
   "execution_count": 9,
   "metadata": {
    "collapsed": true
   },
   "outputs": [],
   "source": [
    "make_ground = \"\"\"\n",
    "OPENQASM 2.0;\n",
    "include \"qelib1.inc\";\n",
    "qreg q[1];\n",
    "creg c[1];\n",
    "measure q[0] -> c[0];\n",
    "\"\"\"\n",
    "make_excited = \"\"\"\n",
    "OPENQASM 2.0;\n",
    "include \"qelib1.inc\";\n",
    "qreg q[1];\n",
    "creg c[1];\n",
    "x q[0];\n",
    "measure q[0] -> c[0];\n",
    "\"\"\"\n",
    "make_superposition = \"\"\"\n",
    "OPENQASM 2.0;\n",
    "include \"qelib1.inc\";\n",
    "qreg q[1];\n",
    "creg c[1];\n",
    "h q[0];\n",
    "measure q[0] -> c[0];\n",
    "\"\"\""
   ]
  },
  {
   "cell_type": "code",
   "execution_count": 10,
   "metadata": {
    "collapsed": false
   },
   "outputs": [
    {
     "name": "stdout",
     "output_type": "stream",
     "text": [
      "submitting 3 jobs ...\n",
      "RUNNING\n"
     ]
    }
   ],
   "source": [
    "jobs = [{ 'qasm': make_ground},{ 'qasm': make_excited},{'qasm': make_superposition}]\n",
    "\n",
    "print(\"submitting %d jobs ...\" % len(jobs))\n",
    "out = api.run_job(jobs, device = 'simulator',shots = 1024, max_credits=3)\n",
    "print(out['status'])"
   ]
  },
  {
   "cell_type": "code",
   "execution_count": 11,
   "metadata": {
    "collapsed": false
   },
   "outputs": [
    {
     "name": "stdout",
     "output_type": "stream",
     "text": [
      "RUNNING\n",
      "RUNNING\n",
      "RUNNING\n",
      "COMPLETED\n"
     ]
    }
   ],
   "source": [
    "jobids=out['id']\n",
    "results = api.get_job(jobids)\n",
    "print(results['status'])\n",
    "while (results['status'] == 'RUNNING'):\n",
    "    time.sleep(2)\n",
    "    results = api.get_job(jobids)\n",
    "    print(results['status'])"
   ]
  },
  {
   "cell_type": "code",
   "execution_count": 12,
   "metadata": {
    "collapsed": false
   },
   "outputs": [
    {
     "data": {
      "image/png": "[encoded data removed]",
      "text/plain": [
       "<matplotlib.figure.Figure at 0x10471aac8>"
      ]
     },
     "metadata": {},
     "output_type": "display_data"
    }
   ],
   "source": [
    "plot_histogram(results['qasms'][0]['result']['data']['counts'])"
   ]
  },
  {
   "cell_type": "code",
   "execution_count": 13,
   "metadata": {
    "collapsed": false
   },
   "outputs": [
    {
     "data": {
      "image/png": "[encoded data removed]",
      "text/plain": [
       "<matplotlib.figure.Figure at 0x10f29b898>"
      ]
     },
     "metadata": {},
     "output_type": "display_data"
    }
   ],
   "source": [
    "plot_histogram(results['qasms'][1]['result']['data']['counts'])"
   ]
  },
  {
   "cell_type": "code",
   "execution_count": 14,
   "metadata": {
    "collapsed": false
   },
   "outputs": [
    {
     "data": {
      "image/png": "[encoded data removed]",
      "text/plain": [
       "<matplotlib.figure.Figure at 0x10f5476d8>"
      ]
     },
     "metadata": {},
     "output_type": "display_data"
    }
   ],
   "source": [
    "plot_histogram(results['qasms'][2]['result']['data']['counts'])"
   ]
  },
  {
   "cell_type": "markdown",
   "metadata": {
    "collapsed": true
   },
   "source": [
    "## Example 3\n",
    "\n",
    "Now that you have run using the online simulator lets use the real chip."
   ]
  },
  {
   "cell_type": "code",
   "execution_count": 15,
   "metadata": {
    "collapsed": false
   },
   "outputs": [
    {
     "name": "stdout",
     "output_type": "stream",
     "text": [
      "submitting 3 jobs ...\n",
      "RUNNING\n"
     ]
    }
   ],
   "source": [
    "jobs = [{ 'qasm': make_ground},{ 'qasm': make_excited},{'qasm': make_superposition}]\n",
    "\n",
    "print(\"submitting %d jobs ...\" % len(jobs))\n",
    "out = api.run_job(jobs, device = 'IBMQX5qv2',shots = 1024, max_credits=3)\n",
    "print(out['status'])"
   ]
  },
  {
   "cell_type": "code",
   "execution_count": 16,
   "metadata": {
    "collapsed": false
   },
   "outputs": [
    {
     "name": "stdout",
     "output_type": "stream",
     "text": [
      "RUNNING\n",
      "COMPLETED\n"
     ]
    }
   ],
   "source": [
    "jobids=out['id']\n",
    "results = api.get_job(jobids)\n",
    "print(results['status'])\n",
    "while (results['status'] == 'RUNNING'):\n",
    "    time.sleep(20)\n",
    "    results = api.get_job(jobids)\n",
    "    print(results['status'])"
   ]
  },
  {
   "cell_type": "code",
   "execution_count": 17,
   "metadata": {
    "collapsed": false
   },
   "outputs": [
    {
     "data": {
      "image/png": "[encoded data removed]",
      "text/plain": [
       "<matplotlib.figure.Figure at 0x10f552358>"
      ]
     },
     "metadata": {},
     "output_type": "display_data"
    }
   ],
   "source": [
    "plot_histogram(results['qasms'][0]['result']['data']['counts'])"
   ]
  },
  {
   "cell_type": "code",
   "execution_count": 18,
   "metadata": {
    "collapsed": false
   },
   "outputs": [
    {
     "data": {
      "image/png": "[encoded data removed]",
      "text/plain": [
       "<matplotlib.figure.Figure at 0x10f690e10>"
      ]
     },
     "metadata": {},
     "output_type": "display_data"
    }
   ],
   "source": [
    "plot_histogram(results['qasms'][1]['result']['data']['counts'])"
   ]
  },
  {
   "cell_type": "code",
   "execution_count": 19,
   "metadata": {
    "collapsed": false
   },
   "outputs": [
    {
     "data": {
      "image/png": "[encoded data removed]",
      "text/plain": [
       "<matplotlib.figure.Figure at 0x10f810550>"
      ]
     },
     "metadata": {},
     "output_type": "display_data"
    }
   ],
   "source": [
    "plot_histogram(results['qasms'][2]['result']['data']['counts'])"
   ]
  }
 ],
 "metadata": {
  "anaconda-cloud": {},
  "kernelspec": {
   "display_name": "Python 3",
   "language": "python",
   "name": "python3"
  },
  "language_info": {
   "codemirror_mode": {
    "name": "ipython",
    "version": 3
   },
   "file_extension": ".py",
   "mimetype": "text/x-python",
   "name": "python",
   "nbconvert_exporter": "python",
   "pygments_lexer": "ipython3",
   "version": "3.6.0"
  },
  "latex_envs": {
   "bibliofile": "biblio.bib",
   "cite_by": "apalike",
   "current_citInitial": 1,
   "eqLabelWithNumbers": true,
   "eqNumInitial": 0
  },
  "nav_menu": {},
  "toc": {
   "navigate_menu": true,
   "number_sections": true,
   "sideBar": true,
   "threshold": 6,
   "toc_cell": false,
   "toc_section_display": "block",
   "toc_window_display": false
  }
 },
 "nbformat": 4,
 "nbformat_minor": 0
}
