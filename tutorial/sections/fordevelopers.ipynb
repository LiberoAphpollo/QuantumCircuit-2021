{
 "cells": [
  {
   "cell_type": "markdown",
   "metadata": {},
   "source": [
    "<img src=\"../images/QISKit-c.gif\" alt=\"Note: In order for images to show up in this jupyter notebook you need to select File => Trusted Notebook\" width=\"250 px\" align=\"left\">"
   ]
  },
  {
   "cell_type": "markdown",
   "metadata": {},
   "source": [
    "## _*Tutorial for Developers*_ \n",
    "\n",
    "For more information about how to use the Quantum Experience consult the [Quantum Experience tutorials](https://quantumexperience.ng.bluemix.net/qstage/#/tutorial?sectionId=c59b3710b928891a1420190148a72cce&pageIndex=0) or check-out the [community](https://quantumexperience.ng.bluemix.net/qstage/#/community).\n",
    "\n",
    "***\n",
    "### Contributors\n",
    "Ismael Faro, Jay M. Gambetta"
   ]
  },
  {
   "cell_type": "markdown",
   "metadata": {},
   "source": [
    "## Quantum QISKit SDK tutorial\n",
    "\n",
    "This tutorial focus is to explain how use the QISKit SDK, from a developer point of view. We review how install, and start to use the SDK tools.\n",
    "\n",
    "QISKIt is a Python software development kit (SDK), that you can use to create your Quantum programs, based in circuits over [OpenQASM 2.0](https://github.com/IBM/qiskit-openqasm) Specs, compile and execute it in several Backends (Real Chips, Simulators online and Simulators in local). For the online Backend QISKit use our [python API connector](https://github.com/IBM/qiskit-api-py) to the [IBM Quantum Experience API project (http://quantumexperience.ng.bluemix.net/).\n",
    "\n",
    "We have other tutorials that introduce you to more complex concepts directly related with the Quantum.\n",
    "\n",
    "more examples:\n",
    "[superposition and entanglement](superposition_and_entanglement.ipynb) we introduced you to the concept of entanglement.\n"
   ]
  },
  {
   "cell_type": "markdown",
   "metadata": {},
   "source": [
    "## Install QISKit\n",
    "\n",
    "the most easy way to install QISKit is using Anaconda python distribution.\n",
    "\n",
    "- Install Anaconda: https://www.continuum.io/downloads\n",
    "\n",
    "After that you need to install your QISKit from the git repository\n",
    "\n",
    "- Clone the repo:\n",
    "\n",
    "```sh\n",
    "git clone https://github.ibm.com/IBMQuantum/qiskit-sdk-py-dev\n",
    "cd qiskit-sdk-py-dev\n",
    "```\n",
    "\n",
    "- Create the environment with the dependencies:\n",
    "\n",
    "```sh\n",
    "make env\n",
    "```\n",
    "\n",
    "## Use\n",
    "\n",
    "You can use the examples in an easy way with Jupyter or Python\n",
    "\n",
    "Add your API token to the file \"Qconfig.py\" (get it from [IBM Quantum Experience](https://quantumexperience.ng.bluemix.net) > Account):\n",
    "\n",
    "```sh\n",
    "cp tutorial/Qconfig.py.default Qconfig.py\n",
    "```\n",
    "Run Jupyter notebook.\n",
    "- Run it:\n",
    "\n",
    "```sh\n",
    "make run\n",
    "```"
   ]
  },
  {
   "cell_type": "code",
   "execution_count": null,
   "metadata": {
    "collapsed": true
   },
   "outputs": [],
   "source": []
  }
 ],
 "metadata": {
  "anaconda-cloud": {},
  "kernelspec": {
   "display_name": "Python 3",
   "language": "python",
   "name": "python3"
  },
  "language_info": {
   "codemirror_mode": {
    "name": "ipython",
    "version": 3
   },
   "file_extension": ".py",
   "mimetype": "text/x-python",
   "name": "python",
   "nbconvert_exporter": "python",
   "pygments_lexer": "ipython3",
   "version": "3.6.0"
  }
 },
 "nbformat": 4,
 "nbformat_minor": 0
}
