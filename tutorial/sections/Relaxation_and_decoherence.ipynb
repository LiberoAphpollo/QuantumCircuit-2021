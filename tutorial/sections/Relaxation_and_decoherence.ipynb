{
 "cells": [
  {
   "cell_type": "markdown",
   "metadata": {},
   "source": [
    "<img src=\"images/QISKit-c.gif\" alt=\"Note: In order for images to show up in this jupyter notebook you need to select File => Trusted Notebook\" width=\"250 px\" align=\"left\">"
   ]
  },
  {
   "cell_type": "markdown",
   "metadata": {},
   "source": [
    "## _*Relaxation and Decoherence*_ \n",
    "\n",
    "For more information about how to use the IBM Q experience (QX), consult the [tutorials](https://quantumexperience.ng.bluemix.net/qstage/#/tutorial?sectionId=c59b3710b928891a1420190148a72cce&pageIndex=0), or check out the [community](https://quantumexperience.ng.bluemix.net/qstage/#/community).\n",
    "***\n",
    "### Contributors\n",
    "Martin Sandberg, Hanhee Paik and Antonio Córcoles"
   ]
  },
  {
   "cell_type": "markdown",
   "metadata": {},
   "source": [
    "## Introduction\n",
    "\n",
    "The interaction of quantum systems with their environment imposes certain limits and constrains in the study of their dynamics. The level of isolation of a quantum system dictates the rate at which it can exchange energy with its environment. This means that a quantum system will not hold a particular state for an arbitrary time, but will in general exchange energy with its environment and relax (or excite) to another state with different energy. This brings a trade-off in terms of controlability: a system that does not exchange much energy with the environment will keep its state for longer but it will be more difficult to access and manipulate. \n",
    "\n",
    "Interaction with the environment can also result in decoherence, a process that does not result in energy exchange but that transforms quantum coherent states into classical mixed states.\n",
    "\n",
    "These processes, energy relaxation and decoherence, are typically described by timescales referred to as $T_1$ and $T_2$, respectively.     "
   ]
  },
  {
   "cell_type": "code",
   "execution_count": 1,
   "metadata": {
    "collapsed": true
   },
   "outputs": [],
   "source": [
    "#packages we will need\n",
    "import sys\n",
    "if sys.version_info < (3,0):\n",
    "    raise Exception(\"Please use Python version 3 or greater.\")\n",
    "\n",
    "sys.path.append(\"../../\")\n",
    "\n",
    "from qiskit import QuantumProgram\n",
    "import Qconfig\n",
    "import numpy as np\n",
    "import qiskit.basicplotter as plt\n",
    "from scipy.optimize import curve_fit"
   ]
  },
  {
   "cell_type": "code",
   "execution_count": 2,
   "metadata": {
    "collapsed": true
   },
   "outputs": [],
   "source": [
    "# function used to fit the exponetial decay\n",
    "def exp_fit_fun(x,a,tau,c):\n",
    "    return a * np.exp(-x/tau) + c"
   ]
  },
  {
   "cell_type": "code",
   "execution_count": 3,
   "metadata": {
    "collapsed": true
   },
   "outputs": [],
   "source": [
    "# function used to fit the exponetial rise\n",
    "def exp_t2e_fit_fun(x,a,tau,c):\n",
    "    return a *(1.0- np.exp(-x/tau)) + c"
   ]
  },
  {
   "cell_type": "code",
   "execution_count": 4,
   "metadata": {
    "collapsed": true
   },
   "outputs": [],
   "source": [
    "# function used to fit the decay cosine\n",
    "def osc_fit_fun(x,a,tau,f,phi,c):\n",
    "    return a * np.exp(-x/tau)*np.cos(2*np.pi*f*x+phi) + c"
   ]
  },
  {
   "cell_type": "code",
   "execution_count": 5,
   "metadata": {
    "collapsed": true
   },
   "outputs": [],
   "source": [
    "#function for padding with QId gates\n",
    "def pad_QId(circuit,N,qr):\n",
    "    # ciruit to add to, N= number of QId gates to add, qr=qubit reg\n",
    "    for ii in range(N):\n",
    "        circuit.iden(qr)\n",
    "    return circuit    \n",
    "    "
   ]
  },
  {
   "cell_type": "code",
   "execution_count": 6,
   "metadata": {
    "collapsed": false
   },
   "outputs": [
    {
     "data": {
      "text/plain": [
       "True"
      ]
     },
     "execution_count": 6,
     "metadata": {},
     "output_type": "execute_result"
    }
   ],
   "source": [
    "#Device and token settings\n",
    "device = 'ibmqx2' # the device to run on\n",
    "#device = 'simulator'\n",
    "shots = 1024    # the number of shots in the experiment \n",
    "\n",
    "Q_program = QuantumProgram()\n",
    "Q_program.set_api(Qconfig.APItoken, Qconfig.config[\"url\"]) # set the APIToken and API url"
   ]
  },
  {
   "cell_type": "markdown",
   "metadata": {},
   "source": [
    "# Measure T1\n",
    "\n",
    "Let's measure the relaxation time ($T_1$ time) of one of our qubits. In order to do that we simply place the qubit in the excited state (state $|1\\rangle$) and measure after some variable delay. The probability of obtaining the state $|1\\rangle$ as a function of the delay gives us an exponential whose characteristic time is defined as $T_1$.\n",
    "\n",
    "We cannot add arbitrary delays currently in the Quantum Experience (will be able to do that soon), and therefore, for now, we just append identity operations after the initial excitation pulse. Each identity operation has the same duration of a single qubit gate time and is followed by a -shorter- buffer time. These parameters are backend-dependent."
   ]
  },
  {
   "cell_type": "code",
   "execution_count": 18,
   "metadata": {
    "collapsed": false
   },
   "outputs": [
    {
     "name": "stdout",
     "output_type": "stream",
     "text": [
      ">> quantum_registers created: qr 5\n",
      ">> classical_registers created: cr 5\n"
     ]
    }
   ],
   "source": [
    "# Select qubit to measure T1 on\n",
    "qubit=3\n",
    "\n",
    "# Creating registers\n",
    "qr = Q_program.create_quantum_registers(\"qr\", 5)\n",
    "cr = Q_program.create_classical_registers(\"cr\", 5)\n",
    "\n",
    "# the delay times are all set in terms of single qubit gates\n",
    "#so we need to caluclate the time from these parameters\n",
    "\n",
    "if device is'ibmqx2':\n",
    "    pulse_length=0.083 #single qubit gate time \n",
    "    buffer_length=0.0066 #spacing between pulses\n",
    "elif device is 'ibmqx3':\n",
    "    pulse_length=0.08 #single qubit gate time \n",
    "    buffer_length=0.01 #spacing between pulses\n",
    "else:\n",
    "    #use ibmqx2 parameters\n",
    "    pulse_length=0.083 #single qubit gate time \n",
    "    buffer_length=0.0066 #spacing between pulses\n",
    "        \n",
    "\n",
    "steps=10\n",
    "gates_per_step=80\n",
    "max_gates=(steps-1)*gates_per_step+1\n",
    "tot_length=buffer_length+pulse_length\n",
    "time_per_step=gates_per_step*tot_length\n",
    "qc_dict={}\n",
    "for ii in range(steps):\n",
    "    step_num='step_%s'%(str(ii))\n",
    "    qc_dict.update({step_num:Q_program.create_circuit(step_num, [\"qr\"], [\"cr\"])})\n",
    "    qc_dict[step_num].x(qr[qubit])\n",
    "    qc_dict[step_num]=pad_QId(qc_dict[step_num],gates_per_step*ii,qr[qubit])\n",
    "    qc_dict[step_num].measure(qr[qubit], cr[qubit])\n",
    "\n",
    "circuits=list(qc_dict)    \n",
    "#print(Q_program.get_qasms(circuits))"
   ]
  },
  {
   "cell_type": "code",
   "execution_count": 19,
   "metadata": {
    "collapsed": false
   },
   "outputs": [
    {
     "name": "stdout",
     "output_type": "stream",
     "text": [
      "running on backend: ibmqx2\n",
      "status = RUNNING (20 seconds)\n",
      "status = RUNNING (40 seconds)\n",
      "COMPLETED\n"
     ]
    }
   ],
   "source": [
    "# run the program on hardware/simulator\n",
    "try:\n",
    "    Q_status=Q_program.execute(circuits, device, shots, wait=20, timeout=600)\n",
    "    print(Q_status['status'])\n",
    "except:\n",
    "    print(\"Your max number of pulses %s might be too large, try reducing or/and restart kernel\"%(max_gates))"
   ]
  },
  {
   "cell_type": "code",
   "execution_count": 20,
   "metadata": {
    "collapsed": false
   },
   "outputs": [
    {
     "data": {
      "image/png": "[encoded data removed]",
      "text/plain": [
       "<matplotlib.figure.Figure at 0x114369cc0>"
      ]
     },
     "metadata": {},
     "output_type": "display_data"
    }
   ],
   "source": [
    "#arrange the data from the run\n",
    "\n",
    "keys_0_1=list(Q_program.get_counts('step_0').keys())# get the key of the excited state '00001' \n",
    "\n",
    "data=np.zeros(len(qc_dict.keys())) # nymphy aray for data\n",
    "xvals=time_per_step*np.linspace(0,len(qc_dict.keys()),len(qc_dict.keys())) # calculate the time steps \n",
    "\n",
    "for ii,key in enumerate(qc_dict.keys()):\n",
    "    # get the data in terms of counts for the excited state normalized to the total number of counts\n",
    "    data[ii]=float(Q_program.get_counts(key)[keys_0_1[1]])/shots\n",
    "\n",
    "#fit the data to an exponetial    \n",
    "fitT1, fcov = curve_fit(exp_fit_fun, xvals,data,bounds=(0, [1., 100, 0.1])) \n",
    "# here we use the qiskit plotter \n",
    "plt.plt.plot(xvals,data,marker='^',markersize=9,c='b',linestyle='')\n",
    "plt.plt.plot(xvals,exp_fit_fun(xvals,*fitT1), c='r',linestyle='--',label=' T1 = %s us'%(str(round(fitT1[1]))))\n",
    "plt.plt.xticks(fontsize=14)\n",
    "plt.plt.yticks(fontsize=14)\n",
    "plt.plt.xlabel('time (us)',fontsize=16)\n",
    "plt.plt.ylabel('P(1)',fontsize=16)\n",
    "plt.plt.title('T1 measurments of Q%s'%(str(qubit)),fontsize=18)\n",
    "plt.plt.legend(fontsize=12)\n",
    "plt.plt.show()"
   ]
  },
  {
   "cell_type": "markdown",
   "metadata": {},
   "source": [
    "# Measure T2*\n",
    "\n",
    "We can also measure the coherence time of our qubits. In order to do this, we place the qubit in a superposition state and let it evolve before measuring it in the $X$-basis. We will see that as time increases, the qubit evolves from a pure superposition state $|\\Psi_s\\rangle = |0 + 1\\rangle$ to a mixture state $|\\Psi_m\\rangle = |0\\rangle + |1\\rangle$ with no phase information. \n",
    "\n",
    "In the actual experiment we change the phase of the pulse before the measurement in order to create oscillations in the observed dynamics. If we just did two Hadamards gates separated by a delay we would observe a decay of characteristic time $T^*_2$ but with a strong dependence of our calibrated frequency. By implementing the qubit pulses with different phases we shift the frequency dependence into the oscillating feature of the dynamics and can fit the decaying envelope for a more faithful measure of the coherence time."
   ]
  },
  {
   "cell_type": "code",
   "execution_count": 21,
   "metadata": {
    "collapsed": false
   },
   "outputs": [
    {
     "name": "stdout",
     "output_type": "stream",
     "text": [
      ">> quantum_registers created: qr 5\n",
      ">> classical_registers created: cr 5\n"
     ]
    }
   ],
   "source": [
    "# Select qubit to measure T2* on\n",
    "qubit=0\n",
    "\n",
    "\n",
    "# Creating registers\n",
    "qr = Q_program.create_quantum_registers(\"qr\", 5)\n",
    "cr = Q_program.create_classical_registers(\"cr\", 5)\n",
    "\n",
    "\n",
    "if device is'ibmqx2':\n",
    "    pulse_length=0.083 #single qubit gate time \n",
    "    buffer_length=0.0066 #spacing between pulses\n",
    "elif device is 'ibmqx3':\n",
    "    pulse_length=0.08 #single qubit gate time \n",
    "    buffer_length=0.01 #spacing between pulses\n",
    "else:\n",
    "    #use ibmqx2 parameters\n",
    "    pulse_length=0.083 #single qubit gate time \n",
    "    buffer_length=0.0066 #spacing between pulses\n",
    "\n",
    "\n",
    "steps=40\n",
    "gates_per_step=5\n",
    "max_gates=(steps-1)*gates_per_step+2\n",
    "\n",
    "num_osc=4\n",
    "tot_length=buffer_length+pulse_length\n",
    "time_per_step=gates_per_step*tot_length\n",
    "f_set=(4.0/(steps*time_per_step)) #set frequency in MHz\n",
    "qc_dict={}\n",
    "for ii in range(steps):\n",
    "    step_num='step_%s'%(str(ii))\n",
    "    qc_dict.update({step_num:Q_program.create_circuit(step_num, [\"qr\"], [\"cr\"])})\n",
    "    qc_dict[step_num].h(qr[qubit])\n",
    "    qc_dict[step_num]=pad_QId(qc_dict[step_num],gates_per_step*ii,qr[qubit])\n",
    "    qc_dict[step_num].u1(2*np.pi*num_osc*ii/(steps-1),qr[qubit])\n",
    "    qc_dict[step_num].h(qr[qubit])\n",
    "    qc_dict[step_num].measure(qr[qubit], cr[qubit])\n",
    "circuits=list(qc_dict)    \n",
    "#print(Q_program.get_qasms(circuits))"
   ]
  },
  {
   "cell_type": "code",
   "execution_count": 22,
   "metadata": {
    "collapsed": false
   },
   "outputs": [
    {
     "name": "stdout",
     "output_type": "stream",
     "text": [
      "running on backend: ibmqx2\n",
      "status = RUNNING (20 seconds)\n",
      "status = RUNNING (40 seconds)\n",
      "status = RUNNING (60 seconds)\n",
      "status = RUNNING (80 seconds)\n",
      "COMPLETED\n"
     ]
    }
   ],
   "source": [
    "# run the program on hardware/simulator\n",
    "try:\n",
    "    Q_status=Q_program.execute(circuits, device, shots, wait=20, timeout=600)\n",
    "    print(Q_status['status'])\n",
    "except:\n",
    "    print(\"Your max number of pulses %s might be too large, try reducing or/and restart kernel\"%(max_gates))"
   ]
  },
  {
   "cell_type": "code",
   "execution_count": 23,
   "metadata": {
    "collapsed": false
   },
   "outputs": [
    {
     "data": {
      "image/png": "[encoded data removed]",
      "text/plain": [
       "<matplotlib.figure.Figure at 0x114471ac8>"
      ]
     },
     "metadata": {},
     "output_type": "display_data"
    }
   ],
   "source": [
    "#arrange the data from the run\n",
    "\n",
    "keys_0_1=list(Q_program.get_counts('step_0').keys())# get the key of the excited state '00001' \n",
    "\n",
    "data=np.zeros(len(qc_dict.keys())) # nymphy aray for data\n",
    "xvals=time_per_step*np.linspace(0,len(qc_dict.keys()),len(qc_dict.keys())) # calculate the time steps \n",
    "\n",
    "for ii,key in enumerate(qc_dict.keys()):\n",
    "    # get the data in terms of counts for the excited state normalized to the total number of counts\n",
    "    data[ii]=float(Q_program.get_counts(key)[keys_0_1[1]])/shots\n",
    "    \n",
    "fitT2s, fcov = curve_fit(osc_fit_fun, xvals,data,bounds=(0, [1., 200, 10*np.pi/xvals[len(xvals)-1],np.pi,1]))\n",
    "\n",
    "# plot the data and the fit together, here we use the qiskit plotter \n",
    "plt.plt.plot(xvals,data,marker='*',markersize=10,c='b',linestyle='')\n",
    "plt.plt.plot(xvals,osc_fit_fun(xvals,*fitT2s), c='r',linestyle='--',label='T2*= %s us \\n |df|= %s kHz'%(str(round(fitT2s[1])),str(round(np.abs((fitT2s[2]-f_set)*1e3)))))\n",
    "plt.plt.xticks(fontsize=14)\n",
    "plt.plt.yticks(fontsize=14)\n",
    "plt.plt.xlabel('time (us)',fontsize=16)\n",
    "plt.plt.ylabel('P(1)',fontsize=16)\n",
    "plt.plt.title('T2* measurments of Q%s'%(str(qubit)),fontsize=18)\n",
    "plt.plt.legend(fontsize=12)\n",
    "plt.plt.show()\n"
   ]
  },
  {
   "cell_type": "markdown",
   "metadata": {},
   "source": [
    "# Measure T2 Echo\n",
    "\n",
    "We have referred to the previous experiment characteristic time as $T^*_2$ and not $T_2$ by analogy to NMR. Indeed, one can isolate different frequency components to the decoherence process by devising increasingly elaborated pulse sequences. To illustrate the analogy with NMR, one can think about an ensemble of nuclear spins precesing in an external DC magnetic field. Due to field inhomogeneities, each spin might precess with a slightly different Larmoor frequency. This certainly will affect the observed coherence time of the ensemble. However it is possible to echo away this low frequency decoherent process by applying a pi-pulse to the system half-way through the delay. The effect of this pi-pulse is to reverse the direction of the precession of each individual spins due to field inhomogeneities. Thus, the spins that had precessed more now start precessing in the opposite direction faster than the spins that had precessed less and after an equal delay all the spins in the system recover the initial coherence, except for other, higher frequency, decoherence mechanisms.\n",
    "\n",
    "By running this $T_2$ echo sequence we can therefore remove low frequency components of the decoherence."
   ]
  },
  {
   "cell_type": "code",
   "execution_count": 33,
   "metadata": {
    "collapsed": false
   },
   "outputs": [
    {
     "name": "stdout",
     "output_type": "stream",
     "text": [
      ">> quantum_registers created: qr 5\n",
      ">> classical_registers created: cr 5\n"
     ]
    }
   ],
   "source": [
    "# Select qubit to measure T2 echo on\n",
    "qubit=3\n",
    "\n",
    "# Creating registers\n",
    "qr = Q_program.create_quantum_registers(\"qr\", 5)\n",
    "cr = Q_program.create_classical_registers(\"cr\", 5)\n",
    "\n",
    "\n",
    "\n",
    "if device is'ibmqx2':\n",
    "    pulse_length=0.083 #single qubit gate time \n",
    "    buffer_length=0.0066 #spacing between pulses\n",
    "elif device is 'ibmqx3':\n",
    "    pulse_length=0.08 #single qubit gate time \n",
    "    buffer_length=0.01 #spacing between pulses\n",
    "else:\n",
    "    #use ibmqx2 parameters\n",
    "    pulse_length=0.083 #single qubit gate time \n",
    "    buffer_length=0.0066 #spacing between pulses\n",
    "\n",
    "steps=20\n",
    "gates_per_step=20\n",
    "tot_length=buffer_length+pulse_length\n",
    "max_gates=(steps-1)*2*gates_per_step+3\n",
    "time_per_step=(2*gates_per_step)*tot_length\n",
    "qc_dict={}\n",
    "for ii in range(steps):\n",
    "    step_num='step_%s'%(str(ii))\n",
    "    qc_dict.update({step_num:Q_program.create_circuit(step_num, [\"qr\"], [\"cr\"])})\n",
    "    qc_dict[step_num].h(qr[qubit])\n",
    "    qc_dict[step_num]=pad_QId(qc_dict[step_num],gates_per_step*ii,qr[qubit])\n",
    "    qc_dict[step_num].x(qr[qubit])\n",
    "    qc_dict[step_num]=pad_QId(qc_dict[step_num],gates_per_step*ii,qr[qubit])\n",
    "    qc_dict[step_num].h(qr[qubit])\n",
    "    qc_dict[step_num].measure(qr[qubit], cr[qubit])\n",
    "circuits=list(qc_dict)    \n",
    "#print(Q_program.get_qasms(circuits))"
   ]
  },
  {
   "cell_type": "code",
   "execution_count": 34,
   "metadata": {
    "collapsed": false
   },
   "outputs": [
    {
     "name": "stdout",
     "output_type": "stream",
     "text": [
      "running on backend: ibmqx2\n",
      "status = RUNNING (20 seconds)\n",
      "status = RUNNING (40 seconds)\n",
      "status = RUNNING (60 seconds)\n",
      "COMPLETED\n"
     ]
    }
   ],
   "source": [
    "# run the program on hardware/simulator\n",
    "try:\n",
    "    Q_status=Q_program.execute(circuits, device, shots, wait=20, timeout=600)\n",
    "    print(Q_status['status'])\n",
    "except:\n",
    "    print(\"Your max number of pulses %s might be too large, try reducing or/and restart kernel\"%(max_gates))"
   ]
  },
  {
   "cell_type": "code",
   "execution_count": 35,
   "metadata": {
    "collapsed": false
   },
   "outputs": [
    {
     "data": {
      "image/png": "[encoded data removed]",
      "text/plain": [
       "<matplotlib.figure.Figure at 0x117a1b438>"
      ]
     },
     "metadata": {},
     "output_type": "display_data"
    }
   ],
   "source": [
    "#arrange the data from the run\n",
    "\n",
    "keys_0_1=list(Q_program.get_counts('step_0').keys())# get the key of the excited state '00001' \n",
    "\n",
    "data=np.zeros(len(qc_dict.keys())) # nymphy aray for data\n",
    "xvals=time_per_step*np.linspace(0,len(qc_dict.keys()),len(qc_dict.keys())) # calculate the time steps \n",
    "\n",
    "for ii,key in enumerate(qc_dict.keys()):\n",
    "    # get the data in terms of counts for the excited state normalized to the total number of counts\n",
    "    data[ii]=float(Q_program.get_counts(key)[keys_0_1[1]])/shots\n",
    "    \n",
    "fitT2e, fcov = curve_fit(exp_t2e_fit_fun, xvals,data,bounds=(0, [0.7, 200, 0.1])) \n",
    "\n",
    "# plot the data and the fit together, here we use the qiskit plotter \n",
    "plt.plt.plot(xvals,data,marker='^',markersize=9,c='b',linestyle='')\n",
    "plt.plt.plot(xvals,exp_t2e_fit_fun(xvals,*fitT2e), c='r',linestyle='--',label=' T2e = %s us'%(str(round(fitT2e[1]))))\n",
    "plt.plt.xticks(fontsize=14)\n",
    "plt.plt.yticks(fontsize=14)\n",
    "plt.plt.xlabel('time (us)',fontsize=16)\n",
    "plt.plt.ylabel('P(1)',fontsize=16)\n",
    "plt.plt.title('T2 Echo measurments of Q%s'%(str(qubit)),fontsize=18)\n",
    "plt.plt.legend(fontsize=12)\n",
    "plt.plt.show()"
   ]
  },
  {
   "cell_type": "markdown",
   "metadata": {},
   "source": [
    "## Measure CPMG\n",
    "\n",
    "As explained above, the echo sequence removes low frequency decoherence mechanisms. This noise filtering procedure can be extended with increased number of pi-pulses within the delay. In the following experiment we implement an echo experiment with 7 pi-pulses during the delay between the initial and final pulses. This kind of echo with several pi-pulses is referred to as a CPMG experiment, after Herman Carr, Edward Purcell, Saul Meiboom and Gill.  "
   ]
  },
  {
   "cell_type": "code",
   "execution_count": 27,
   "metadata": {
    "collapsed": false
   },
   "outputs": [
    {
     "name": "stdout",
     "output_type": "stream",
     "text": [
      ">> quantum_registers created: qr 5\n",
      ">> classical_registers created: cr 5\n"
     ]
    }
   ],
   "source": [
    "# Select qubit to measure T2 echo on\n",
    "qubit=3\n",
    "\n",
    "# Creating registers\n",
    "qr = Q_program.create_quantum_registers(\"qr\", 5)\n",
    "cr = Q_program.create_classical_registers(\"cr\", 5)\n",
    "\n",
    "\n",
    "\n",
    "if device is'ibmqx2':\n",
    "    pulse_length=0.083 #single qubit gate time \n",
    "    buffer_length=0.0066 #spacing between pulses\n",
    "elif device is 'ibmqx3':\n",
    "    pulse_length=0.08 #single qubit gate time \n",
    "    buffer_length=0.01 #spacing between pulses\n",
    "else:\n",
    "    #use ibmqx2 parameters\n",
    "    pulse_length=0.083 #single qubit gate time \n",
    "    buffer_length=0.0066 #spacing between pulses\n",
    "\n",
    "steps=17\n",
    "gates_per_step=6\n",
    "num_echo=7 # has to be odd number to end up in ground state at the end\n",
    "tot_length=buffer_length+pulse_length\n",
    "time_per_step=((num_echo+1)*gates_per_step+num_echo)*tot_length\n",
    "max_gates=num_echo*(steps-1)*gates_per_step+num_echo+2\n",
    "qc_dict={}\n",
    "for ii in range(steps):\n",
    "    step_num='step_%s'%(str(ii))\n",
    "    qc_dict.update({step_num:Q_program.create_circuit(step_num, [\"qr\"], [\"cr\"])})\n",
    "    qc_dict[step_num].h(qr[qubit])\n",
    "    for iii in range(num_echo):\n",
    "        qc_dict[step_num]=pad_QId(qc_dict[step_num],gates_per_step*ii,qr[qubit])\n",
    "        qc_dict[step_num].x(qr[qubit])\n",
    "    qc_dict[step_num]=pad_QId(qc_dict[step_num],gates_per_step*ii,qr[qubit])\n",
    "    qc_dict[step_num].h(qr[qubit])\n",
    "    qc_dict[step_num].measure(qr[qubit], cr[qubit])\n",
    "circuits=list(qc_dict)    \n",
    "#print(Q_program.get_qasms(circuits))"
   ]
  },
  {
   "cell_type": "code",
   "execution_count": 28,
   "metadata": {
    "collapsed": false
   },
   "outputs": [
    {
     "name": "stdout",
     "output_type": "stream",
     "text": [
      "running on backend: ibmqx2\n",
      "status = RUNNING (20 seconds)\n",
      "status = RUNNING (40 seconds)\n",
      "status = RUNNING (60 seconds)\n",
      "status = RUNNING (80 seconds)\n",
      "status = RUNNING (100 seconds)\n",
      "COMPLETED\n"
     ]
    }
   ],
   "source": [
    "# run the program on hardware/simulator\n",
    "try:\n",
    "    Q_status=Q_program.execute(circuits, device, shots, wait=20, timeout=600)\n",
    "    print(Q_status['status'])\n",
    "except:\n",
    "    print(\"Your max number of pulses %s might be too large, try reducing or/and restart kernel\"%(max_gates))"
   ]
  },
  {
   "cell_type": "code",
   "execution_count": 29,
   "metadata": {
    "collapsed": false
   },
   "outputs": [
    {
     "data": {
      "image/png": "[encoded data removed]",
      "text/plain": [
       "<matplotlib.figure.Figure at 0x113edee10>"
      ]
     },
     "metadata": {},
     "output_type": "display_data"
    }
   ],
   "source": [
    "#arrange the data from the run\n",
    "\n",
    "keys_0_1=list(Q_program.get_counts('step_0').keys())# get the key of the excited state '00001' \n",
    "\n",
    "data=np.zeros(len(qc_dict.keys())) # nymphy aray for data\n",
    "xvals=time_per_step*np.linspace(0,len(qc_dict.keys()),len(qc_dict.keys())) # calculate the time steps \n",
    "\n",
    "for ii,key in enumerate(qc_dict.keys()):\n",
    "    # get the data in terms of counts for the excited state normalized to the total number of counts\n",
    "    data[ii]=float(Q_program.get_counts(key)[keys_0_1[1]])/shots\n",
    "    \n",
    "fitT2e, fcov = curve_fit(exp_t2e_fit_fun, xvals,data,bounds=(0, [0.7, 200, 0.1])) \n",
    "\n",
    "# plot the data and the fit together, here we use the qiskit plotter \n",
    "plt.plt.plot(xvals,data,marker='^',markersize=9,c='b',linestyle='')\n",
    "plt.plt.plot(xvals,exp_t2e_fit_fun(xvals,*fitT2e), c='r',linestyle='--',label=' T2e = %s us'%(str(round(fitT2e[1]))))\n",
    "plt.plt.xticks(fontsize=14)\n",
    "plt.plt.yticks(fontsize=14)\n",
    "plt.plt.xlabel('time (us)',fontsize=16)\n",
    "plt.plt.ylabel('P(1)',fontsize=16)\n",
    "plt.plt.title('T2e measurments of Q%s'%(str(qubit)),fontsize=18)\n",
    "plt.plt.legend(fontsize=12)\n",
    "plt.plt.show()"
   ]
  }
 ],
 "metadata": {
  "kernelspec": {
   "display_name": "Python 3",
   "language": "python",
   "name": "python3"
  },
  "language_info": {
   "codemirror_mode": {
    "name": "ipython",
    "version": 3
   },
   "file_extension": ".py",
   "mimetype": "text/x-python",
   "name": "python",
   "nbconvert_exporter": "python",
   "pygments_lexer": "ipython3",
   "version": "3.6.0"
  }
 },
 "nbformat": 4,
 "nbformat_minor": 2
}
