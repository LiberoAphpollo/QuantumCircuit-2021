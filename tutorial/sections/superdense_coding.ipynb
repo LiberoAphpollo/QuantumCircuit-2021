{
 "cells": [
  {
   "cell_type": "markdown",
   "metadata": {},
   "source": [
    "<img src=\"../images/QISKit-c.gif\" alt=\"Note: In order for images to show up in this jupyter notebook you need to select File => Trusted Notebook\" width=\"250 px\" align=\"left\">"
   ]
  },
  {
   "cell_type": "markdown",
   "metadata": {},
   "source": [
    "## _*Quantum Superdense Coding*_ \n",
    "\n",
    "For more information about how to use the IBM Q experience (QX), consult the [tutorials](https://quantumexperience.ng.bluemix.net/qstage/#/tutorial?sectionId=c59b3710b928891a1420190148a72cce&pageIndex=0), or check out the [community](https://quantumexperience.ng.bluemix.net/qstage/#/community).\n",
    "***\n",
    "### Contributor\n",
    "Anna Phan"
   ]
  },
  {
   "cell_type": "markdown",
   "metadata": {},
   "source": [
    "## Introduction\n",
    "\n",
    "Superdense coding is a protocol to transmit two classical bits of information using only one qubit. It was devised by Charles Bennett (IBM) and Stephen Wiesner in [1992](https://journals.aps.org/prl/abstract/10.1103/PhysRevLett.69.2881). "
   ]
  },
  {
   "cell_type": "markdown",
   "metadata": {
    "collapsed": true
   },
   "source": [
    "The protocol starts out with a shared entangled state between the sender (Alice) and the receiver (Bob):\n",
    "$$|\\psi\\rangle = \\frac{1}{\\sqrt{2}}(|0_A 0_B\\rangle + |1_A 1_B\\rangle)$$\n",
    "The first qubit, denoted by subscript $A$, belongs to Alice and the second qubit, $B$, belongs to Bob."
   ]
  },
  {
   "cell_type": "markdown",
   "metadata": {
    "collapsed": true
   },
   "source": [
    "Alice wants to send a two bit message to Bob, 00, 01, 10, or 11.  She performs a single qubit operation on her qubit which transforms the entangled state according to which message she wants to send:\n",
    "- For a message of **00**: Alice applies $I = \\begin{bmatrix} 1 & 0 \\\\ 0 & 1 \\end{bmatrix}$. The resultant state would be $|\\psi_{00}\\rangle = \\frac{1}{\\sqrt{2}}(|0_A 0_B\\rangle + |1_A 1_B\\rangle)$\n",
    "- For a message of **01**: Alice applies $X = \\begin{bmatrix} 0 & 1 \\\\ 1 & 0 \\end{bmatrix}$. The resultant state would be $|\\psi_{01}\\rangle = \\frac{1}{\\sqrt{2}}(|1_A 0_B\\rangle + |0_A 1_B\\rangle)$  \n",
    "- For a message of **10**: Alice applies $Z = \\begin{bmatrix} 1 & 0 \\\\ 0 & -1 \\end{bmatrix}$. The resultant state would be $|\\psi_{10}\\rangle = \\frac{1}{\\sqrt{2}}(|0_A 0_B\\rangle - |1_A 1_B\\rangle)$ \n",
    "- For a message of **11**: Alice applies $XZ = \\begin{bmatrix} 0 & -1 \\\\ 1 & 0 \\end{bmatrix}$. The resultant state would be $|\\psi_{11}\\rangle = \\frac{1}{\\sqrt{2}}(- |1_A 0_B\\rangle + |0_A 1_B\\rangle $"
   ]
  },
  {
   "cell_type": "markdown",
   "metadata": {},
   "source": [
    "The key to superdense coding is that these four states, $|\\psi_{00}\\rangle, |\\psi_{01}\\rangle, |\\psi_{10}\\rangle, |\\psi_{11}\\rangle$ (otherwise known as the [Bell states](https://en.wikipedia.org/wiki/Bell_state)), are orthonormal and are hence distinguishable by a quantum measurement."
   ]
  },
  {
   "cell_type": "markdown",
   "metadata": {},
   "source": [
    "## Implementation\n",
    "\n",
    "The first step is to import the required packages to run the Quantum Experience and set up our quantum program."
   ]
  },
  {
   "cell_type": "code",
   "execution_count": 1,
   "metadata": {},
   "outputs": [
    {
     "data": {
      "text/plain": [
       "True"
      ]
     },
     "execution_count": 1,
     "metadata": {},
     "output_type": "execute_result"
    }
   ],
   "source": [
    "# Checking the version of Python; the Quantum Experience currently only supports version 3\n",
    "import sys\n",
    "if sys.version_info < (3,0):\n",
    "    raise Exception(\"Please use Python version 3 or greater.\")\n",
    "    \n",
    "# Importing QISKit\n",
    "import sys\n",
    "sys.path.append(\"../../\")\n",
    "from qiskit import QuantumCircuit, QuantumProgram\n",
    "import Qconfig\n",
    "\n",
    "# Import basic plotting tools\n",
    "from qiskit.basicplotter import plot_histogram\n",
    "\n",
    "# Quantum program setup \n",
    "Q_program = QuantumProgram()\n",
    "Q_program.set_api(Qconfig.APItoken, Qconfig.config[\"url\"]) # set the APIToken and API url"
   ]
  },
  {
   "cell_type": "markdown",
   "metadata": {},
   "source": [
    "Recall from [superposition and entanglement](superposition_and_entanglement.ipynb) and [entanglement revisited](entanglement_revisited.ipynb), the steps to make the shared entangled state $|\\psi\\rangle = \\frac{1}{\\sqrt{2}}(|0_A 0_B\\rangle + |1_A 1_B\\rangle)$ are:\n",
    "1. Start with an initial state $|0_A 0_B\\rangle$\n",
    "2. Apply $H = \\frac{1}{\\sqrt{2}}\\begin{bmatrix} 1 & 1 \\\\ 1 & -1 \\end{bmatrix}$ on $q_A$ \n",
    "3. Then a $CNOT = \\begin{bmatrix} 1 & 0 & 0 & 0\\\\ 0 & 0 & 0 & 1\\\\0& 0& 1 & 0\\\\0 & 1 & 0 & 0 \\end{bmatrix}$ from $q_A$ to $q_B$\n",
    "\n",
    "With $q_A = q_0$ and $q_B = q_1$, this looks like:"
   ]
  },
  {
   "cell_type": "code",
   "execution_count": 2,
   "metadata": {},
   "outputs": [
    {
     "name": "stdout",
     "output_type": "stream",
     "text": [
      ">> quantum_registers created: q 2\n",
      ">> classical_registers created: c 2\n"
     ]
    },
    {
     "data": {
      "text/plain": [
       "<qiskit.extensions.standard.cx.CnotGate at 0x118c40b70>"
      ]
     },
     "execution_count": 2,
     "metadata": {},
     "output_type": "execute_result"
    }
   ],
   "source": [
    "# Creating registers\n",
    "q = Q_program.create_quantum_registers(\"q\", 2)\n",
    "c = Q_program.create_classical_registers(\"c\", 2)\n",
    "\n",
    "# Quantum circuit to make the shared entangled state \n",
    "superdense = Q_program.create_circuit(\"superdense\", [\"q\"], [\"c\"])\n",
    "superdense.h(q[0])\n",
    "superdense.cx(q[0], q[1])"
   ]
  },
  {
   "cell_type": "markdown",
   "metadata": {},
   "source": [
    "Alice now needs to decide what two bit message she wants to transmit to Bob, ($00$, $01$, $10$, or $11$), and perform the corresponding to transformation ($I$, $X$, $Z$ or $XZ$ respectively) to her qubit $q_A$ ($q_0$). In this case, she encodes $11$:"
   ]
  },
  {
   "cell_type": "code",
   "execution_count": 3,
   "metadata": {},
   "outputs": [
    {
     "data": {
      "text/plain": [
       "<qiskit.extensions.standard.barrier.Barrier at 0x11096d518>"
      ]
     },
     "execution_count": 3,
     "metadata": {},
     "output_type": "execute_result"
    }
   ],
   "source": [
    "# For 00, do nothing\n",
    "\n",
    "# For 01, apply $X$\n",
    "#shared.x(q[0])\n",
    "\n",
    "# For 01, apply $Z$\n",
    "#shared.z(q[0])\n",
    "\n",
    "# For 11, apply $XZ$\n",
    "superdense.z(q[0]) \n",
    "superdense.x(q[0])\n",
    "superdense.barrier()"
   ]
  },
  {
   "cell_type": "markdown",
   "metadata": {},
   "source": [
    "Bob now needs to 'decode' the message that Alice sent him. Since measurement in the Quantum Experience is only possible in the standard computational basis, he does this by:\n",
    "1. Applying a $CNOT$ from $q_A$ to $q_B$\n",
    "2. Then a $H$ on $q_A$ \n",
    "3. And measuring $q_A$ and $q_B$\n",
    "\n",
    "Recalling that $q_A = q_0$ and $q_B = q_1$, this looks like:"
   ]
  },
  {
   "cell_type": "code",
   "execution_count": 4,
   "metadata": {},
   "outputs": [
    {
     "data": {
      "text/plain": [
       "<qiskit._measure.Measure at 0x118c40e80>"
      ]
     },
     "execution_count": 4,
     "metadata": {},
     "output_type": "execute_result"
    }
   ],
   "source": [
    "superdense.cx(q[0], q[1])\n",
    "superdense.h(q[0])\n",
    "superdense.measure(q[0], c[0])\n",
    "superdense.measure(q[1], c[1])"
   ]
  },
  {
   "cell_type": "markdown",
   "metadata": {},
   "source": [
    "Let's now create, execute the quantum circuits, and plot the results:"
   ]
  },
  {
   "cell_type": "code",
   "execution_count": 5,
   "metadata": {},
   "outputs": [
    {
     "data": {
      "text/plain": [
       "['OPENQASM 2.0;\\ninclude \"qelib1.inc\";\\nqreg q[2];\\ncreg c[2];\\nh q[0];\\ncx q[0],q[1];\\nz q[0];\\nx q[0];\\nbarrier q[0],q[1];\\ncx q[0],q[1];\\nh q[0];\\nmeasure q[0] -> c[0];\\nmeasure q[1] -> c[1];\\n']"
      ]
     },
     "execution_count": 5,
     "metadata": {},
     "output_type": "execute_result"
    }
   ],
   "source": [
    "circuits = [\"superdense\"]\n",
    "Q_program.get_qasms(circuits)"
   ]
  },
  {
   "cell_type": "code",
   "execution_count": 6,
   "metadata": {},
   "outputs": [
    {
     "name": "stdout",
     "output_type": "stream",
     "text": [
      "running on backend: ibmqx2\n",
      "status = RUNNING (10 seconds)\n",
      "status = RUNNING (20 seconds)\n"
     ]
    },
    {
     "data": {
      "text/plain": [
       "{'result': 'all done', 'status': 'COMPLETED'}"
      ]
     },
     "execution_count": 6,
     "metadata": {},
     "output_type": "execute_result"
    }
   ],
   "source": [
    "device = 'ibmqx2'  # the device to run on\n",
    "shots = 1024       # the number of shots in the experiment \n",
    "\n",
    "Q_program.execute(circuits, device, shots, max_credits=3, wait=10, timeout=240)"
   ]
  },
  {
   "cell_type": "code",
   "execution_count": 7,
   "metadata": {},
   "outputs": [
    {
     "data": {
      "image/png": "[encoded data removed]",
      "text/plain": [
       "<matplotlib.figure.Figure at 0x118d376d8>"
      ]
     },
     "metadata": {},
     "output_type": "display_data"
    }
   ],
   "source": [
    "plot_histogram(Q_program.get_counts(\"superdense\"))"
   ]
  },
  {
   "cell_type": "markdown",
   "metadata": {},
   "source": [
    "The state with the highest probability should match the message that Alice encoded earlier ($11$). Mathematically:\n",
    "- For a message of **00**: Bob received $|\\psi_{00}\\rangle = \\frac{1}{\\sqrt{2}}(|0_A 0_B\\rangle + |1_A 1_B\\rangle)$. Applying $CNOT$ gives: $\\frac{1}{\\sqrt{2}}(|0_A 0_B\\rangle + |1_A 0_B\\rangle)$. Applying $H$ on $q_A$ results in: $\\frac{1}{\\sqrt{2}}\\frac{1}{\\sqrt{2}}[(|0_A\\rangle + |1_A\\rangle)|0_B\\rangle + (|0_A\\rangle - |1_A\\rangle)|0_B\\rangle] = |0_A 0_B\\rangle$ \n",
    "- For a message of **01**: Bob received $|\\psi_{01}\\rangle = \\frac{1}{\\sqrt{2}}(|1_A 0_B\\rangle + |0_A 1_B\\rangle)$. Applying $CNOT$ gives: $\\frac{1}{\\sqrt{2}}(|0_A 1_B\\rangle)+ |1_A 1_B\\rangle$. Applying $H$ on $q_A$ results in: $\\frac{1}{\\sqrt{2}}\\frac{1}{\\sqrt{2}}[(|0_A\\rangle + |1_A\\rangle)|1_B\\rangle + (|0_A\\rangle - |1_A\\rangle)|1_B\\rangle + (|0_A\\rangle + |1_A\\rangle)|1_B\\rangle] = |0_A 1_B\\rangle$ \n",
    "- For a message of **10**: Bob received $|\\psi_{10}\\rangle = \\frac{1}{\\sqrt{2}}(|0_A 0_B\\rangle - |1_A 1_B\\rangle)$. Applying $CNOT$ gives: $\\frac{1}{\\sqrt{2}}(|0_A 0_B\\rangle - |1_A 0_B\\rangle)$. Applying $H$ on $q_A$ results in: $\\frac{1}{\\sqrt{2}}\\frac{1}{\\sqrt{2}}[(|0_A\\rangle + |1_A\\rangle)|0_B\\rangle - (|0_A\\rangle - |1_A\\rangle)|0_B\\rangle] = |1_A 0_B\\rangle$ \n",
    "- For a message of **11**: Bob received $|\\psi_{11}\\rangle = \\frac{1}{\\sqrt{2}}(- |1_A 0_B\\rangle + |0_A 1_B\\rangle $. Applying $CNOT$ gives: $\\frac{1}{\\sqrt{2}}(|0_A 1_B\\rangle - |1_A 1_B\\rangle)$. Applying $H$ on $q_A$ results in: $\\frac{1}{\\sqrt{2}}\\frac{1}{\\sqrt{2}}[(|0_A\\rangle + |1_A\\rangle)|1_B\\rangle - (|0_A\\rangle - |1_A\\rangle)|1_B\\rangle] = |1_A 1_B\\rangle$ "
   ]
  },
  {
   "cell_type": "code",
   "execution_count": null,
   "metadata": {
    "collapsed": true
   },
   "outputs": [],
   "source": []
  }
 ],
 "metadata": {
  "kernelspec": {
   "display_name": "Python 3",
   "language": "python",
   "name": "python3"
  },
  "language_info": {
   "codemirror_mode": {
    "name": "ipython",
    "version": 3
   },
   "file_extension": ".py",
   "mimetype": "text/x-python",
   "name": "python",
   "nbconvert_exporter": "python",
   "pygments_lexer": "ipython3",
   "version": "3.6.1"
  }
 },
 "nbformat": 4,
 "nbformat_minor": 2
}
