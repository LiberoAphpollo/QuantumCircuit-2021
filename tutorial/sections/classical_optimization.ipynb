{
 "cells": [
  {
   "cell_type": "markdown",
   "metadata": {},
   "source": [
    "<img src=\"../images/QISKit-c.gif\" alt=\"Note: In order for images to show up in this jupyter notebook you need to select File => Trusted Notebook\" width=\"250 px\" align=\"left\">"
   ]
  },
  {
   "cell_type": "markdown",
   "metadata": {},
   "source": [
    "## _*Classical Optimization*_ \n",
    "\n",
    "The latest version of this notebook is available on https://github.com/IBM/qiskit-sdk-py/tree/master/scripts.\n",
    "\n",
    "For more information about how to use the IBM Q Experience (QX), consult the [Quantum Experience tutorials](https://quantumexperience.ng.bluemix.net/qstage/#/tutorial?sectionId=c59b3710b928891a1420190148a72cce&pageIndex=0), or check out the [community](https://quantumexperience.ng.bluemix.net/qstage/#/community).\n",
    "\n",
    "***\n",
    "### Contributors\n",
    "Jay Gambetta, Antonio Mezzacapo, Ramis Movassagh, Kristan Temme"
   ]
  },
  {
   "cell_type": "markdown",
   "metadata": {},
   "source": [
    "## Introduction\n",
    "\n",
    "Many problems in finance and optimization can be cast into classical Ising models. Here we show a method that is very similar to Ref. [Fahri] for finding the ground state of the Ising problem using short depth quantum circuits. \n",
    "\n",
    "Here we propose that we map the cost function of the problem to a Hamiltonian of the form\n",
    "\n",
    "$$ H_\\mathrm{Ising} = \\alpha_i Z_i + \\beta_{i,j} Z_jZ_i,$$\n",
    "\n",
    "and the goal is to find the configuration that minimizes the energy.\n",
    "\n",
    "\n",
    "Pseudo code\n",
    "\n",
    "```\n",
    "set the maximal control updates max_trials \n",
    "set initial controls u\n",
    "loop through the max_trials\n",
    "    prepare trial state |psi(u)> \n",
    "    \n",
    "    Evaluate cost funtion C = <H> \n",
    "    \n",
    "    Evaluate grad_u C (control update direction)\n",
    "    \n",
    "    update controls u -> u - grad_u C\n",
    "    \n",
    "    break if you find a good solution\n",
    "    \n",
    "return |<z|psi>|^2\n",
    "```\n",
    "\n",
    "The trial functions we propose using are of the form \n",
    "\n",
    "$$|\\psi(\\theta)\\rangle  = [U_\\mathrm{single}(\\theta) U_\\mathrm{entangler}]^m |+\\rangle$$\n",
    "\n",
    "where $U_\\mathrm{entangler}$ is a function of cPhase gates, and $U_\\mathrm{single}(\\theta) = Y(\\theta)^{\\otimes n}$, where $n$ is the number of qubits and $m$ is the depth of the quantum circuit.\n",
    "\n",
    "This can easily be extended: \n",
    "\n",
    "$$H = H_\\mathrm{Ising}+ \\gamma_{i,j,k}Z_kZ_jZ_i +... $$ \n",
    "\n",
    "Below we have shown how different problems can be mapped to the Ising model.\n",
    "\n",
    "ADD"
   ]
  },
  {
   "cell_type": "code",
   "execution_count": 1,
   "metadata": {
    "collapsed": false
   },
   "outputs": [],
   "source": [
    "# Checking the version of PYTHON; we only support 3 at the moment\n",
    "import sys\n",
    "if sys.version_info < (3,0):\n",
    "    raise Exception(\"Please use Python version 3 or greater.\")\n",
    "    \n",
    "# useful additional packages \n",
    "import matplotlib.pyplot as plt\n",
    "%matplotlib inline\n",
    "import numpy as np\n",
    "from scipy import linalg as la\n",
    "\n",
    "import sys\n",
    "sys.path.append(\"../../\")\n",
    "# importing the QISKit\n",
    "from qiskit import QuantumCircuit, QuantumProgram\n",
    "import Qconfig\n",
    "\n",
    "# import basic plot tools\n",
    "from qiskit.basicplotter import plot_histogram\n",
    "\n",
    "# import optimization tools\n",
    "from tools.optimizationtools import trial_funtion_optimization\n",
    "from tools.optimizationtools import cost_function, make_Hamiltonian"
   ]
  },
  {
   "cell_type": "markdown",
   "metadata": {},
   "source": [
    "Enter the cost function below that you would like to minimize."
   ]
  },
  {
   "cell_type": "markdown",
   "metadata": {},
   "source": [
    "* [Max Cut](#sectionmaxcut)\n",
    " * [Two Qubits](#sectionmaxcuttwo)\n"
   ]
  },
  {
   "cell_type": "markdown",
   "metadata": {},
   "source": [
    "## Max Cut<a id='sectionmaxcut'></a>"
   ]
  },
  {
   "cell_type": "markdown",
   "metadata": {},
   "source": [
    "### Two Qubits<a id='sectionmaxcuttwo'></a>"
   ]
  },
  {
   "cell_type": "code",
   "execution_count": 2,
   "metadata": {
    "collapsed": false
   },
   "outputs": [],
   "source": [
    "# cost function H = alpha_i z_i + beta_ij z_i z_j\n",
    "n=2 # number of qubits\n",
    "\n",
    "alpha = np.zeros(n)\n",
    "beta = np.zeros((n, n))\n",
    "beta[0, 1] = 1"
   ]
  },
  {
   "cell_type": "code",
   "execution_count": 3,
   "metadata": {
    "collapsed": false
   },
   "outputs": [
    {
     "name": "stdout",
     "output_type": "stream",
     "text": [
      "[[ 1.+0.j  0.+0.j  0.+0.j  0.+0.j]\n",
      " [ 0.+0.j -1.+0.j  0.+0.j  0.+0.j]\n",
      " [ 0.+0.j  0.+0.j -1.+0.j  0.+0.j]\n",
      " [ 0.+0.j  0.+0.j  0.+0.j  1.+0.j]]\n",
      "Eigenvalue is -1.000000 and the state is\n",
      "[[ 0.+0.j]\n",
      " [ 0.+0.j]\n",
      " [ 1.+0.j]\n",
      " [ 0.+0.j]]\n"
     ]
    }
   ],
   "source": [
    "#Making the Hamiltonian in its full form and getting the lowest eigenvalue and egienvector\n",
    "H = make_Hamiltonian(n,alpha,beta)\n",
    "print(H)\n",
    "w, v = la.eigh(H, eigvals=(0, 0))\n",
    "print(\"Eigenvalue is %f and the state is\" %(w))\n",
    "print(v)"
   ]
  },
  {
   "cell_type": "code",
   "execution_count": 4,
   "metadata": {
    "collapsed": false
   },
   "outputs": [
    {
     "name": "stdout",
     "output_type": "stream",
     "text": [
      ">> quantum_registers created: q 2\n",
      ">> classical_registers created: c 2\n",
      "running on backend: local_qasm_simulator\n"
     ]
    },
    {
     "data": {
      "text/plain": [
       "-1.0"
      ]
     },
     "execution_count": 4,
     "metadata": {},
     "output_type": "execute_result"
    }
   ],
   "source": [
    "# making a classical trial function for the problem \n",
    "device = 'local_qasm_simulator' # the device to run on\n",
    "shots = 1024    # the number of shots in the experiment. \n",
    "\n",
    "Q_program = QuantumProgram()\n",
    "Q_program.set_api(Qconfig.APItoken, Qconfig.config[\"url\"]) # set the APIToken and API url\n",
    "\n",
    "# Creating registers\n",
    "q = Q_program.create_quantum_registers(\"q\", n)\n",
    "c = Q_program.create_classical_registers(\"c\", n)\n",
    "\n",
    "# Quantum circuit  \n",
    "trial_circuit = Q_program.create_circuit(\"trial_exact\", [\"q\"], [\"c\"])\n",
    "trial_circuit.x(q[1])\n",
    "\n",
    "for j in range (n):\n",
    "    trial_circuit.measure(q[j], c[j])\n",
    "\n",
    "circuits = [\"trial_exact\"]\n",
    "Q_program.execute(circuits, device, shots)\n",
    "\n",
    "# calculating the cost for this trial function\n",
    "cost_function(Q_program.get_counts(\"trial_exact\"),n,alpha,beta)"
   ]
  },
  {
   "cell_type": "code",
   "execution_count": null,
   "metadata": {
    "collapsed": false
   },
   "outputs": [
    {
     "name": "stdout",
     "output_type": "stream",
     "text": [
      "trial 0 of 100\n",
      "running on backend: local_qasm_simulator\n"
     ]
    }
   ],
   "source": [
    "# quantum circuit parameters\n",
    "device = 'local_qasm_simulator' # the device to run on\n",
    "shots = 8192    # the number of shots in the experiment. \n",
    "entangler_map = {0: [1]} # the map of two-qubit gates with control at key and target at values\n",
    "\n",
    "# Numerical parameters \n",
    "SPSA_parameters = np.array([.3,0.602,0,.1,0.101]) #[a, alpha, A, c, gamma]\n",
    "max_trials = 100;\n",
    "theta_depth_1 = np.random.randn(1*n) # initial controls \n",
    "theta_depth_2 = np.random.randn(2*n) # initial controls \n",
    "theta_depth_3 = np.random.randn(3*n) # initial controls \n",
    "\n",
    "cost_plus_depth_1=np.zeros(max_trials)\n",
    "cost_minus_depth_1=np.zeros(max_trials)\n",
    "cost_plus_depth_2=np.zeros(max_trials)\n",
    "cost_minus_depth_2=np.zeros(max_trials)\n",
    "cost_plus_depth_3=np.zeros(max_trials)\n",
    "cost_minus_depth_3=np.zeros(max_trials)\n",
    "\n",
    "for k in range(max_trials):\n",
    "    if k % 10 == 0:\n",
    "        print('trial ' + str(k) + \" of \" + str(max_trials))\n",
    "    a_spsa = float(SPSA_parameters[0])/np.power(k+1+SPSA_parameters[2], SPSA_parameters[1])\n",
    "    c_spsa = float(SPSA_parameters[3])/np.power(k+1, SPSA_parameters[4])\n",
    "\n",
    "    Delta_depth_1 = 2*np.random.randint(2,size=n*1)-1 # \\pm 1 random distribution \n",
    "    Delta_depth_2 = 2*np.random.randint(2,size=n*2)-1 # \\pm 1 random distribution \n",
    "    Delta_depth_3 = 2*np.random.randint(2,size=n*3)-1 # \\pm 1 random distribution \n",
    "    \n",
    "    theta_plus_depth_1 = theta_depth_1 + c_spsa*Delta_depth_1\n",
    "    theta_minus_depth_1 = theta_depth_1 - c_spsa*Delta_depth_1\n",
    "    theta_plus_depth_2 = theta_depth_2 + c_spsa*Delta_depth_2\n",
    "    theta_minus_depth_2 = theta_depth_2 - c_spsa*Delta_depth_2\n",
    "    theta_plus_depth_3 = theta_depth_3 + c_spsa*Delta_depth_3\n",
    "    theta_minus_depth_3 = theta_depth_3 - c_spsa*Delta_depth_3\n",
    "\n",
    "    trial_circuit_plus_depth_1 = trial_funtion_optimization(n,1,theta_plus_depth_3,entangler_map) \n",
    "    trial_circuit_minus_depth_1 = trial_funtion_optimization(n,1,theta_minus_depth_1,entangler_map) \n",
    "    trial_circuit_plus_depth_2 = trial_funtion_optimization(n,2,theta_plus_depth_3,entangler_map) \n",
    "    trial_circuit_minus_depth_2 = trial_funtion_optimization(n,2,theta_minus_depth_2,entangler_map)\n",
    "    trial_circuit_plus_depth_3 = trial_funtion_optimization(n,3,theta_plus_depth_3,entangler_map) \n",
    "    trial_circuit_minus_depth_3 = trial_funtion_optimization(n,3,theta_minus_depth_3,entangler_map)\n",
    "    \n",
    "    Q_program.add_circuit(\"trial_circuit_plus_depth_1\", trial_circuit_plus_depth_1)\n",
    "    Q_program.add_circuit(\"trial_circuit_minus_depth_1\", trial_circuit_minus_depth_1)\n",
    "    Q_program.add_circuit(\"trial_circuit_plus_depth_2\", trial_circuit_plus_depth_2)\n",
    "    Q_program.add_circuit(\"trial_circuit_minus_depth_2\", trial_circuit_minus_depth_2)\n",
    "    Q_program.add_circuit(\"trial_circuit_plus_depth_3\", trial_circuit_plus_depth_3)\n",
    "    Q_program.add_circuit(\"trial_circuit_minus_depth_3\", trial_circuit_minus_depth_3)\n",
    "    \n",
    "    circuits = [\"trial_circuit_plus_depth_1\", \"trial_circuit_minus_depth_1\",\"trial_circuit_plus_depth_2\", \"trial_circuit_minus_depth_2\",\"trial_circuit_plus_depth_3\", \"trial_circuit_minus_depth_3\"]\n",
    "    Q_program.execute(circuits, device, shots)\n",
    "    \n",
    "    cost_plus_depth_1[k] = cost_function(Q_program.get_counts(\"trial_circuit_plus_depth_1\"),n,alpha,beta)\n",
    "    cost_minus_depth_1[k] = cost_function(Q_program.get_counts(\"trial_circuit_minus_depth_1\"),n,alpha,beta)\n",
    "    cost_plus_depth_2[k] = cost_function(Q_program.get_counts(\"trial_circuit_plus_depth_2\"),n,alpha,beta)\n",
    "    cost_minus_depth_2[k] = cost_function(Q_program.get_counts(\"trial_circuit_minus_depth_2\"),n,alpha,beta)\n",
    "    cost_plus_depth_3[k] = cost_function(Q_program.get_counts(\"trial_circuit_plus_depth_3\"),n,alpha,beta)\n",
    "    cost_minus_depth_3[k] = cost_function(Q_program.get_counts(\"trial_circuit_minus_depth_3\"),n,alpha,beta)\n",
    "    \n",
    "    g_spsa_depth_1 = (cost_plus_depth_1[k]-cost_minus_depth_1[k])*Delta_depth_1/(2.0*c_spsa)\n",
    "    g_spsa_depth_2 = (cost_plus_depth_2[k]-cost_minus_depth_2[k])*Delta_depth_2/(2.0*c_spsa)\n",
    "    g_spsa_depth_3 = (cost_plus_depth_3[k]-cost_minus_depth_3[k])*Delta_depth_3/(2.0*c_spsa)\n",
    "\n",
    "    theta_depth_1 = theta_depth_1 - a_spsa*g_spsa_depth_1\n",
    "    theta_depth_2 = theta_depth_2 - a_spsa*g_spsa_depth_2\n",
    "    theta_depth_3 = theta_depth_3 - a_spsa*g_spsa_depth_3\n",
    "\n",
    "trial_circuit_depth_1 =  trial_funtion_optimization(n,1,theta_depth_1,entangler_map) \n",
    "trial_circuit_depth_2 =  trial_funtion_optimization(n,2,theta_depth_2,entangler_map) \n",
    "trial_circuit_depth_3 =  trial_funtion_optimization(n,3,theta_depth_3,entangler_map) \n",
    "\n",
    "Q_program.add_circuit(\"trial_circuit_depth_1\", trial_circuit_depth_1)\n",
    "Q_program.add_circuit(\"trial_circuit_depth_2\", trial_circuit_depth_2)\n",
    "Q_program.add_circuit(\"trial_circuit_depth_3\", trial_circuit_depth_3)\n",
    "\n",
    "circuits = [\"trial_circuit_depth_1\", \"trial_circuit_depth_2\",\"trial_circuit_depth_3\"]\n",
    "Q_program.execute(circuits, device, shots)\n",
    "\n",
    "cost_depth_1 = cost_function(Q_program.get_counts(\"trial_circuit_depth_1\"),n,alpha,beta)\n",
    "cost_depth_2 = cost_function(Q_program.get_counts(\"trial_circuit_depth_2\"),n,alpha,beta)\n",
    "cost_depth_3 = cost_function(Q_program.get_counts(\"trial_circuit_depth_3\"),n,alpha,beta)\n",
    "print('m=1 ' + str(cost_depth_1) + ' m=2 ' + str(cost_depth_2) + 'm=3 ' + str(cost_depth_3))"
   ]
  },
  {
   "cell_type": "code",
   "execution_count": null,
   "metadata": {
    "collapsed": false
   },
   "outputs": [],
   "source": [
    "# plotting data\n",
    "plt.plot(range(max_trials), cost_plus_depth_1, range(max_trials), cost_minus_depth_1)\n",
    "plot_histogram(Q_program.get_counts(\"trial_circuit_depth_1\"))\n",
    "plt.plot(range(max_trials), cost_plus_depth_2, range(max_trials), cost_minus_depth_2)\n",
    "plot_histogram(Q_program.get_counts(\"trial_circuit_depth_1\"))\n",
    "plt.plot(range(max_trials), cost_plus_depth_3, range(max_trials), cost_minus_depth_3)\n",
    "plot_histogram(Q_program.get_counts(\"trial_circuit_depth_1\"))"
   ]
  },
  {
   "cell_type": "markdown",
   "metadata": {},
   "source": [
    "### Three Qubits<a id='sectionmaxcutthree'></a>"
   ]
  },
  {
   "cell_type": "code",
   "execution_count": null,
   "metadata": {
    "collapsed": true
   },
   "outputs": [],
   "source": [
    "# cost function H = alpha_i z_i + beta_ij z_i z_j\n",
    "n = 3 \n",
    "alpha = np.zeros(n)\n",
    "beta = np.zeros((n, n))\n",
    "beta[0, 1] = 1\n",
    "beta[0, 2] = 1\n",
    "beta[1, 2] = 1"
   ]
  },
  {
   "cell_type": "code",
   "execution_count": null,
   "metadata": {
    "collapsed": true
   },
   "outputs": [],
   "source": [
    "#Making the Hamiltonian in its full form and getting the lowest eigenvalue and egienvector\n",
    "H = make_Hamiltonian(n,alpha,beta)\n",
    "print(H)\n",
    "w, v = la.eigh(H, eigvals=(0, 0))\n",
    "print(\"Eigenvalue is %f and the state is\" %(w))\n",
    "print(v)"
   ]
  },
  {
   "cell_type": "code",
   "execution_count": null,
   "metadata": {
    "collapsed": true
   },
   "outputs": [],
   "source": [
    "# making a classical trial function for the problem \n",
    "device = 'local_qasm_simulator' # the device to run on\n",
    "shots = 1024    # the number of shots in the experiment. \n",
    "\n",
    "Q_program = QuantumProgram()\n",
    "Q_program.set_api(Qconfig.APItoken, Qconfig.config[\"url\"]) # set the APIToken and API url\n",
    "\n",
    "# Creating registers\n",
    "q = Q_program.create_quantum_registers(\"q\", n)\n",
    "c = Q_program.create_classical_registers(\"c\", n)\n",
    "\n",
    "# Quantum circuit  \n",
    "trial_circuit = Q_program.create_circuit(\"trial_exact\", [\"q\"], [\"c\"])\n",
    "trial_circuit.x(q[1])\n",
    "\n",
    "for j in range (n):\n",
    "    trial_circuit.measure(q[j], c[j])\n",
    "\n",
    "circuits = [\"trial_exact\"]\n",
    "Q_program.execute(circuits, device, shots)\n",
    "\n",
    "# calculating the cost for this trial function\n",
    "cost_function(Q_program.get_counts(\"trial_exact\"),n,alpha,beta)"
   ]
  },
  {
   "cell_type": "code",
   "execution_count": null,
   "metadata": {
    "collapsed": false
   },
   "outputs": [],
   "source": [
    "# quantum circuit parameters\n",
    "device = 'local_qasm_simulator' # the device to run on\n",
    "shots = 8192    # the number of shots in the experiment. \n",
    "entangler_map = {0: [1]} # the map of two-qubit gates with control at key and target at values\n",
    "\n",
    "# Numerical parameters \n",
    "SPSA_parameters = np.array([.3,0.602,0,.1,0.101]) #[a, alpha, A, c, gamma]\n",
    "max_trials = 100;\n",
    "theta_depth_1 = np.random.randn(1*n) # initial controls \n",
    "theta_depth_2 = np.random.randn(2*n) # initial controls \n",
    "theta_depth_3 = np.random.randn(3*n) # initial controls \n",
    "\n",
    "cost_plus_depth_1=np.zeros(max_trials)\n",
    "cost_minus_depth_1=np.zeros(max_trials)\n",
    "cost_plus_depth_2=np.zeros(max_trials)\n",
    "cost_minus_depth_2=np.zeros(max_trials)\n",
    "cost_plus_depth_3=np.zeros(max_trials)\n",
    "cost_minus_depth_3=np.zeros(max_trials)\n",
    "\n",
    "for k in range(max_trials):\n",
    "    if k % 10 == 0:\n",
    "        print('trial ' + str(k) + \" of \" + str(max_trials))\n",
    "    a_spsa = float(SPSA_parameters[0])/np.power(k+1+SPSA_parameters[2], SPSA_parameters[1])\n",
    "    c_spsa = float(SPSA_parameters[3])/np.power(k+1, SPSA_parameters[4])\n",
    "\n",
    "    Delta_depth_1 = 2*np.random.randint(2,size=n*1)-1 # \\pm 1 random distribution \n",
    "    Delta_depth_2 = 2*np.random.randint(2,size=n*2)-1 # \\pm 1 random distribution \n",
    "    Delta_depth_3 = 2*np.random.randint(2,size=n*3)-1 # \\pm 1 random distribution \n",
    "    \n",
    "    theta_plus_depth_1 = theta_depth_1 + c_spsa*Delta_depth_1\n",
    "    theta_minus_depth_1 = theta_depth_1 - c_spsa*Delta_depth_1\n",
    "    theta_plus_depth_2 = theta_depth_2 + c_spsa*Delta_depth_2\n",
    "    theta_minus_depth_2 = theta_depth_2 - c_spsa*Delta_depth_2\n",
    "    theta_plus_depth_3 = theta_depth_3 + c_spsa*Delta_depth_3\n",
    "    theta_minus_depth_3 = theta_depth_3 - c_spsa*Delta_depth_3\n",
    "\n",
    "    trial_circuit_plus_depth_1 = trial_funtion_optimization(n,1,theta_plus_depth_3,entangler_map) \n",
    "    trial_circuit_minus_depth_1 = trial_funtion_optimization(n,1,theta_minus_depth_1,entangler_map) \n",
    "    trial_circuit_plus_depth_2 = trial_funtion_optimization(n,2,theta_plus_depth_3,entangler_map) \n",
    "    trial_circuit_minus_depth_2 = trial_funtion_optimization(n,2,theta_minus_depth_2,entangler_map)\n",
    "    trial_circuit_plus_depth_3 = trial_funtion_optimization(n,3,theta_plus_depth_3,entangler_map) \n",
    "    trial_circuit_minus_depth_3 = trial_funtion_optimization(n,3,theta_minus_depth_3,entangler_map)\n",
    "    \n",
    "    Q_program.add_circuit(\"trial_circuit_plus_depth_1\", trial_circuit_plus_depth_1)\n",
    "    Q_program.add_circuit(\"trial_circuit_minus_depth_1\", trial_circuit_minus_depth_1)\n",
    "    Q_program.add_circuit(\"trial_circuit_plus_depth_2\", trial_circuit_plus_depth_2)\n",
    "    Q_program.add_circuit(\"trial_circuit_minus_depth_2\", trial_circuit_minus_depth_2)\n",
    "    Q_program.add_circuit(\"trial_circuit_plus_depth_3\", trial_circuit_plus_depth_3)\n",
    "    Q_program.add_circuit(\"trial_circuit_minus_depth_3\", trial_circuit_minus_depth_3)\n",
    "    \n",
    "    circuits = [\"trial_circuit_plus_depth_1\", \"trial_circuit_minus_depth_1\",\"trial_circuit_plus_depth_2\", \"trial_circuit_minus_depth_2\",\"trial_circuit_plus_depth_3\", \"trial_circuit_minus_depth_3\"]\n",
    "    Q_program.execute(circuits, device, shots)\n",
    "    \n",
    "    cost_plus_depth_1[k] = cost_function(Q_program.get_counts(\"trial_circuit_plus_depth_1\"),n,alpha,beta)\n",
    "    cost_minus_depth_1[k] = cost_function(Q_program.get_counts(\"trial_circuit_minus_depth_1\"),n,alpha,beta)\n",
    "    cost_plus_depth_2[k] = cost_function(Q_program.get_counts(\"trial_circuit_plus_depth_2\"),n,alpha,beta)\n",
    "    cost_minus_depth_2[k] = cost_function(Q_program.get_counts(\"trial_circuit_minus_depth_2\"),n,alpha,beta)\n",
    "    cost_plus_depth_3[k] = cost_function(Q_program.get_counts(\"trial_circuit_plus_depth_3\"),n,alpha,beta)\n",
    "    cost_minus_depth_3[k] = cost_function(Q_program.get_counts(\"trial_circuit_minus_depth_3\"),n,alpha,beta)\n",
    "    \n",
    "    g_spsa_depth_1 = (cost_plus_depth_1[k]-cost_minus_depth_1[k])*Delta_depth_1/(2.0*c_spsa)\n",
    "    g_spsa_depth_2 = (cost_plus_depth_2[k]-cost_minus_depth_2[k])*Delta_depth_2/(2.0*c_spsa)\n",
    "    g_spsa_depth_3 = (cost_plus_depth_3[k]-cost_minus_depth_3[k])*Delta_depth_3/(2.0*c_spsa)\n",
    "\n",
    "    theta_depth_1 = theta_depth_1 - a_spsa*g_spsa_depth_1\n",
    "    theta_depth_2 = theta_depth_2 - a_spsa*g_spsa_depth_2\n",
    "    theta_depth_3 = theta_depth_3 - a_spsa*g_spsa_depth_3\n",
    "\n",
    "trial_circuit_depth_1 =  trial_funtion_optimization(n,1,theta_depth_1,entangler_map) \n",
    "trial_circuit_depth_2 =  trial_funtion_optimization(n,2,theta_depth_2,entangler_map) \n",
    "trial_circuit_depth_3 =  trial_funtion_optimization(n,3,theta_depth_3,entangler_map) \n",
    "\n",
    "Q_program.add_circuit(\"trial_circuit_depth_1\", trial_circuit_depth_1)\n",
    "Q_program.add_circuit(\"trial_circuit_depth_2\", trial_circuit_depth_2)\n",
    "Q_program.add_circuit(\"trial_circuit_depth_3\", trial_circuit_depth_3)\n",
    "\n",
    "circuits = [\"trial_circuit_depth_1\", \"trial_circuit_depth_2\",\"trial_circuit_depth_3\"]\n",
    "Q_program.execute(circuits, device, shots)\n",
    "\n",
    "cost_depth_1 = cost_function(Q_program.get_counts(\"trial_circuit_depth_1\"),n,alpha,beta)\n",
    "cost_depth_2 = cost_function(Q_program.get_counts(\"trial_circuit_depth_2\"),n,alpha,beta)\n",
    "cost_depth_3 = cost_function(Q_program.get_counts(\"trial_circuit_depth_3\"),n,alpha,beta)\n",
    "print('m=1 ' + str(cost_depth_1) + ' m=2 ' + str(cost_depth_2) + 'm=3 ' + str(cost_depth_3))"
   ]
  },
  {
   "cell_type": "code",
   "execution_count": null,
   "metadata": {
    "collapsed": false
   },
   "outputs": [],
   "source": [
    "# plotting data\n",
    "plt.plot(range(max_trials), cost_plus_depth_1, range(max_trials), cost_minus_depth_1)\n",
    "plot_histogram(get_data(results,0),n)\n",
    "plt.plot(range(max_trials), cost_plus_depth_2, range(max_trials), cost_minus_depth_2)\n",
    "plot_histogram(get_data(results,1),n)\n",
    "plt.plot(range(max_trials), cost_plus_depth_3, range(max_trials), cost_minus_depth_3)\n",
    "plot_histogram(get_data(results,2),n)"
   ]
  },
  {
   "cell_type": "markdown",
   "metadata": {},
   "source": [
    "## 4 qubit max cut"
   ]
  },
  {
   "cell_type": "code",
   "execution_count": null,
   "metadata": {
    "collapsed": false
   },
   "outputs": [],
   "source": [
    "# cost function H = alpha_i z_i + beta_ij z_i z_j\n",
    "n =4\n",
    "alpha = np.zeros(n)\n",
    "beta = np.zeros((n, n))\n",
    "beta[0, 1] = 0.5\n",
    "beta[1, 0] = 0.5\n",
    "beta[0, 2] = 0.5\n",
    "beta[2, 0] = 0.5\n",
    "beta[1, 2] = 0.5\n",
    "beta[2, 1] = 0.5\n",
    "beta[1, 3] = 0.5\n",
    "beta[3, 1] = 0.5\n",
    "beta[2, 3] = 0.5\n",
    "beta[3, 2] = 0.5"
   ]
  },
  {
   "cell_type": "code",
   "execution_count": null,
   "metadata": {
    "collapsed": false
   },
   "outputs": [],
   "source": [
    "# quantum circuit parameters\n",
    "device = 'simulator' # the device to run on\n",
    "shots = 8192    # the number of shots in the experiment \n",
    "entangler_map = {0: [1], 1: [2], 3: [2]} # the map of two-qubit gates with control at key and target at values\n",
    "\n",
    "# Numerical parameters \n",
    "SPSA_parameters = np.array([.3,0.602,0,.1,0.101]) #[a, alpha, A, c, gamma]\n",
    "max_trials = 100;\n",
    "theta_depth_1 = np.random.randn(1*n) # initial controls \n",
    "theta_depth_2 = np.random.randn(2*n) # initial controls \n",
    "theta_depth_3 = np.random.randn(3*n) # initial controls \n",
    "\n",
    "cost_plus_depth_1=np.zeros(max_trials)\n",
    "cost_minus_depth_1=np.zeros(max_trials)\n",
    "cost_plus_depth_2=np.zeros(max_trials)\n",
    "cost_minus_depth_2=np.zeros(max_trials)\n",
    "cost_plus_depth_3=np.zeros(max_trials)\n",
    "cost_minus_depth_3=np.zeros(max_trials)\n",
    "\n",
    "for k in range(max_trials):\n",
    "    print('trial ' + str(k) + \" of \" + str(max_trials))\n",
    "    a_spsa = float(SPSA_parameters[0])/np.power(k+1+SPSA_parameters[2], SPSA_parameters[1])\n",
    "    c_spsa = float(SPSA_parameters[3])/np.power(k+1, SPSA_parameters[4])\n",
    "\n",
    "    Delta_depth_1 = 2*np.random.randint(2,size=n*1)-1 # \\pm 1 random distribution \n",
    "    Delta_depth_2 = 2*np.random.randint(2,size=n*2)-1 # \\pm 1 random distribution \n",
    "    Delta_depth_3 = 2*np.random.randint(2,size=n*3)-1 # \\pm 1 random distribution \n",
    "    \n",
    "    theta_plus_depth_1 = theta_depth_1 + c_spsa*Delta_depth_1\n",
    "    theta_minus_depth_1 = theta_depth_1 - c_spsa*Delta_depth_1\n",
    "    theta_plus_depth_2 = theta_depth_2 + c_spsa*Delta_depth_2\n",
    "    theta_minus_depth_2 = theta_depth_2 - c_spsa*Delta_depth_2\n",
    "    theta_plus_depth_3 = theta_depth_3 + c_spsa*Delta_depth_3\n",
    "    theta_minus_depth_3 = theta_depth_3 - c_spsa*Delta_depth_3\n",
    "\n",
    "    trial_circuit_plus_depth_1 = trial_funtion_optimization(n,1,theta_plus_depth_3,entangler_map) \n",
    "    trial_circuit_minus_depth_1 = trial_funtion_optimization(n,1,theta_minus_depth_1,entangler_map) \n",
    "    trial_circuit_plus_depth_2 = trial_funtion_optimization(n,2,theta_plus_depth_3,entangler_map) \n",
    "    trial_circuit_minus_depth_2 = trial_funtion_optimization(n,2,theta_minus_depth_2,entangler_map)\n",
    "    trial_circuit_plus_depth_3 = trial_funtion_optimization(n,3,theta_plus_depth_3,entangler_map) \n",
    "    trial_circuit_minus_depth_3 = trial_funtion_optimization(n,3,theta_minus_depth_3,entangler_map)\n",
    "    \n",
    "    program = [trial_circuit_plus_depth_1,trial_circuit_minus_depth_1,trial_circuit_plus_depth_2\n",
    "               ,trial_circuit_minus_depth_2,trial_circuit_plus_depth_3,trial_circuit_minus_depth_3]\n",
    "    out = run_program(program,api,device,shots,max_credits=3)\n",
    "    results=combine_jobs([out['id']], api, wait=20, timeout=440)\n",
    "    \n",
    "    cost_plus_depth_1[k] = cost_classical(get_data(results,0),n,alpha,beta)\n",
    "    cost_minus_depth_1[k] = cost_classical(get_data(results,1),n,alpha,beta)\n",
    "    cost_plus_depth_2[k] = cost_classical(get_data(results,2),n,alpha,beta)\n",
    "    cost_minus_depth_2[k] = cost_classical(get_data(results,3),n,alpha,beta)\n",
    "    cost_plus_depth_3[k] = cost_classical(get_data(results,4),n,alpha,beta)\n",
    "    cost_minus_depth_3[k] = cost_classical(get_data(results,5),n,alpha,beta)\n",
    "    \n",
    "    g_spsa_depth_1 = (cost_plus_depth_1[k]-cost_minus_depth_1[k])*Delta_depth_1/(2.0*c_spsa)\n",
    "    g_spsa_depth_2 = (cost_plus_depth_2[k]-cost_minus_depth_2[k])*Delta_depth_2/(2.0*c_spsa)\n",
    "    g_spsa_depth_3 = (cost_plus_depth_3[k]-cost_minus_depth_3[k])*Delta_depth_3/(2.0*c_spsa)\n",
    "\n",
    "    theta_depth_1 = theta_depth_1 - a_spsa*g_spsa_depth_1\n",
    "    theta_depth_2 = theta_depth_2 - a_spsa*g_spsa_depth_2\n",
    "    theta_depth_3 = theta_depth_3 - a_spsa*g_spsa_depth_3\n",
    "\n",
    "trial_circuit_depth_1 =  trial_funtion_optimization(n,1,theta_depth_1,entangler_map) \n",
    "trial_circuit_depth_2 =  trial_funtion_optimization(n,2,theta_depth_2,entangler_map) \n",
    "trial_circuit_depth_3 =  trial_funtion_optimization(n,3,theta_depth_3,entangler_map) \n",
    "\n",
    "program = [trial_circuit_depth_1,trial_circuit_depth_2,trial_circuit_depth_3]\n",
    "out = run_program(program,api,device,shots,max_credits=3)\n",
    "results=combine_jobs([out['id']], api, wait=20, timeout=440)  \n",
    "cost_depth_1 = cost_classical(get_data(results,0),n,alpha,beta)\n",
    "cost_depth_2 = cost_classical(get_data(results,1),n,alpha,beta)\n",
    "cost_depth_3 = cost_classical(get_data(results,2),n,alpha,beta)\n",
    "print('m=1 ' + str(cost_depth_1) + ' m=2 ' + str(cost_depth_2) + 'm=3 ' + str(cost_depth_3))"
   ]
  },
  {
   "cell_type": "code",
   "execution_count": null,
   "metadata": {
    "collapsed": false
   },
   "outputs": [],
   "source": [
    "# plotting data\n",
    "plt.plot(range(max_trials), cost_plus_depth_1, range(max_trials), cost_minus_depth_1)\n",
    "plot_histogram(get_data(results,0),n)\n",
    "plt.plot(range(max_trials), cost_plus_depth_2, range(max_trials), cost_minus_depth_2)\n",
    "plot_histogram(get_data(results,1),n)\n",
    "plt.plot(range(max_trials), cost_plus_depth_3, range(max_trials), cost_minus_depth_3)\n",
    "plot_histogram(get_data(results,2),n)"
   ]
  },
  {
   "cell_type": "markdown",
   "metadata": {},
   "source": [
    "# 10 Qubit - Max Cut"
   ]
  },
  {
   "cell_type": "code",
   "execution_count": null,
   "metadata": {
    "collapsed": true
   },
   "outputs": [],
   "source": [
    "# cost function H = alpha_i z_i + beta_ij z_i z_j\n",
    "n = 10\n",
    "alpha = np.zeros(n)\n",
    "beta = np.random.choice([0, 0.5], size=(n,n), p=[1./3, 2./3])\n",
    "for i in range(n):\n",
    "    for j in range(i):\n",
    "        beta[j,i]=beta[i,j]\n",
    "for i in range(n):\n",
    "    beta[i,i]=0;"
   ]
  },
  {
   "cell_type": "code",
   "execution_count": null,
   "metadata": {
    "collapsed": false
   },
   "outputs": [],
   "source": [
    "# quantum circuit parameters\n",
    "device = 'simulator' # the device to run on\n",
    "shots = 8192    # the number of shots in the experiment \n",
    "entangler_map = {0: [1], 1: [2], 2: [3], 3: [4], 4: [5], 5: [6], 6: [7], 7: [8], 8: [9]} # the map of two-qubit gates with control at key and target at values\n",
    "\n",
    "# Numerical parameters \n",
    "SPSA_parameters = np.array([.3,0.602,0,.1,0.101]) # [a, alpha, A, c, gamma]\n",
    "max_trials = 100;\n",
    "theta_depth_1 = np.random.randn(1*n) # initial controls \n",
    "theta_depth_2 = np.random.randn(2*n) # initial controls \n",
    "theta_depth_3 = np.random.randn(3*n) # initial controls \n",
    "\n",
    "cost_plus_depth_1=np.zeros(max_trials)\n",
    "cost_minus_depth_1=np.zeros(max_trials)\n",
    "cost_plus_depth_2=np.zeros(max_trials)\n",
    "cost_minus_depth_2=np.zeros(max_trials)\n",
    "cost_plus_depth_3=np.zeros(max_trials)\n",
    "cost_minus_depth_3=np.zeros(max_trials)\n",
    "\n",
    "for k in range(max_trials):\n",
    "    print('trial ' + str(k) + \" of \" + str(max_trials))\n",
    "    a_spsa = float(SPSA_parameters[0])/np.power(k+1+SPSA_parameters[2], SPSA_parameters[1])\n",
    "    c_spsa = float(SPSA_parameters[3])/np.power(k+1, SPSA_parameters[4])\n",
    "\n",
    "    Delta_depth_1 = 2*np.random.randint(2,size=n*1)-1 # \\pm 1 random distribution \n",
    "    Delta_depth_2 = 2*np.random.randint(2,size=n*2)-1 # \\pm 1 random distribution \n",
    "    Delta_depth_3 = 2*np.random.randint(2,size=n*3)-1 # \\pm 1 random distribution \n",
    "    \n",
    "    theta_plus_depth_1 = theta_depth_1 + c_spsa*Delta_depth_1\n",
    "    theta_minus_depth_1 = theta_depth_1 - c_spsa*Delta_depth_1\n",
    "    theta_plus_depth_2 = theta_depth_2 + c_spsa*Delta_depth_2\n",
    "    theta_minus_depth_2 = theta_depth_2 - c_spsa*Delta_depth_2\n",
    "    theta_plus_depth_3 = theta_depth_3 + c_spsa*Delta_depth_3\n",
    "    theta_minus_depth_3 = theta_depth_3 - c_spsa*Delta_depth_3\n",
    "\n",
    "    trial_circuit_plus_depth_1 = trial_funtion_optimization(n,1,theta_plus_depth_3,entangler_map) \n",
    "    trial_circuit_minus_depth_1 = trial_funtion_optimization(n,1,theta_minus_depth_1,entangler_map) \n",
    "    trial_circuit_plus_depth_2 = trial_funtion_optimization(n,2,theta_plus_depth_3,entangler_map) \n",
    "    trial_circuit_minus_depth_2 = trial_funtion_optimization(n,2,theta_minus_depth_2,entangler_map)\n",
    "    trial_circuit_plus_depth_3 = trial_funtion_optimization(n,3,theta_plus_depth_3,entangler_map) \n",
    "    trial_circuit_minus_depth_3 = trial_funtion_optimization(n,3,theta_minus_depth_3,entangler_map)\n",
    "    \n",
    "    program = [trial_circuit_plus_depth_1,trial_circuit_minus_depth_1,trial_circuit_plus_depth_2\n",
    "               ,trial_circuit_minus_depth_2,trial_circuit_plus_depth_3,trial_circuit_minus_depth_3]\n",
    "    out = run_program(program,api,device,shots,max_credits=3)\n",
    "    results=combine_jobs([out['id']], api, wait=20, timeout=440)\n",
    "    \n",
    "    cost_plus_depth_1[k] = cost_classical(get_data(results,0),n,alpha,beta)\n",
    "    cost_minus_depth_1[k] = cost_classical(get_data(results,1),n,alpha,beta)\n",
    "    cost_plus_depth_2[k] = cost_classical(get_data(results,2),n,alpha,beta)\n",
    "    cost_minus_depth_2[k] = cost_classical(get_data(results,3),n,alpha,beta)\n",
    "    cost_plus_depth_3[k] = cost_classical(get_data(results,4),n,alpha,beta)\n",
    "    cost_minus_depth_3[k] = cost_classical(get_data(results,5),n,alpha,beta)\n",
    "    \n",
    "    g_spsa_depth_1 = (cost_plus_depth_1[k]-cost_minus_depth_1[k])*Delta_depth_1/(2.0*c_spsa)\n",
    "    g_spsa_depth_2 = (cost_plus_depth_2[k]-cost_minus_depth_2[k])*Delta_depth_2/(2.0*c_spsa)\n",
    "    g_spsa_depth_3 = (cost_plus_depth_3[k]-cost_minus_depth_3[k])*Delta_depth_3/(2.0*c_spsa)\n",
    "\n",
    "    theta_depth_1 = theta_depth_1 - a_spsa*g_spsa_depth_1\n",
    "    theta_depth_2 = theta_depth_2 - a_spsa*g_spsa_depth_2\n",
    "    theta_depth_3 = theta_depth_3 - a_spsa*g_spsa_depth_3\n",
    "\n",
    "trial_circuit_depth_1 =  trial_funtion_optimization(n,1,theta_depth_1,entangler_map) \n",
    "trial_circuit_depth_2 =  trial_funtion_optimization(n,2,theta_depth_2,entangler_map) \n",
    "trial_circuit_depth_3 =  trial_funtion_optimization(n,3,theta_depth_3,entangler_map) \n",
    "\n",
    "program = [trial_circuit_depth_1,trial_circuit_depth_2,trial_circuit_depth_3]\n",
    "out = run_program(program,api,device,shots,max_credits=3)\n",
    "results=combine_jobs([out['id']], api, wait=20, timeout=440)  \n",
    "cost_depth_1 = cost_classical(get_data(results,0),n,alpha,beta)\n",
    "cost_depth_2 = cost_classical(get_data(results,1),n,alpha,beta)\n",
    "cost_depth_3 = cost_classical(get_data(results,2),n,alpha,beta)\n",
    "print('m=1 ' + str(cost_depth_1) + ' m=2 ' + str(cost_depth_2) + 'm=3 ' + str(cost_depth_3))"
   ]
  },
  {
   "cell_type": "code",
   "execution_count": null,
   "metadata": {
    "collapsed": false
   },
   "outputs": [],
   "source": [
    "# plotting data\n",
    "plt.plot(range(max_trials), cost_plus_depth_1, range(max_trials), cost_minus_depth_1)\n",
    "plot_histogram(get_data(results,0),n)\n",
    "plt.plot(range(max_trials), cost_plus_depth_2, range(max_trials), cost_minus_depth_2)\n",
    "plot_histogram(get_data(results,1),n)\n",
    "plt.plot(range(max_trials), cost_plus_depth_3, range(max_trials), cost_minus_depth_3)\n",
    "plot_histogram(get_data(results,2),n)"
   ]
  },
  {
   "cell_type": "code",
   "execution_count": null,
   "metadata": {
    "collapsed": false
   },
   "outputs": [],
   "source": [
    "# cost function H = alpha_i z_i + beta_ij z_i z_j\n",
    "n = 10\n",
    "alpha = np.zeros(n)\n",
    "beta = np.random.choice([0, 0.5], size=(n,n), p=[1./3, 2./3])\n",
    "for i in range(n):\n",
    "    for j in range(i):\n",
    "        beta[j,i]=beta[i,j]\n",
    "for i in range(n):\n",
    "    beta[i,i]=0;"
   ]
  },
  {
   "cell_type": "code",
   "execution_count": null,
   "metadata": {
    "collapsed": false
   },
   "outputs": [],
   "source": [
    "# quantum circuit parameters\n",
    "device = 'simulator' # the device to run on\n",
    "shots = 8192    # the number of shots in the experiment \n",
    "entangler_map = {0: [1], 1: [2], 2: [3], 3: [4], 4: [5], 5: [6], 6: [7], 7: [8], 8: [9]} # the map of two-qubit gates with control at key and target at values\n",
    "\n",
    "# Numerical parameters \n",
    "SPSA_parameters = np.array([.3,0.602,0,.1,0.101]) #[a, alpha, A, c, gamma]\n",
    "max_trials = 100;\n",
    "theta_depth_1 = np.random.randn(1*n) # initial controls \n",
    "theta_depth_2 = np.random.randn(2*n) # initial controls \n",
    "theta_depth_3 = np.random.randn(3*n) # initial controls \n",
    "\n",
    "cost_plus_depth_1=np.zeros(max_trials)\n",
    "cost_minus_depth_1=np.zeros(max_trials)\n",
    "cost_plus_depth_2=np.zeros(max_trials)\n",
    "cost_minus_depth_2=np.zeros(max_trials)\n",
    "cost_plus_depth_3=np.zeros(max_trials)\n",
    "cost_minus_depth_3=np.zeros(max_trials)\n",
    "\n",
    "for k in range(max_trials):\n",
    "    print('trial ' + str(k) + \" of \" + str(max_trials))\n",
    "    a_spsa = float(SPSA_parameters[0])/np.power(k+1+SPSA_parameters[2], SPSA_parameters[1])\n",
    "    c_spsa = float(SPSA_parameters[3])/np.power(k+1, SPSA_parameters[4])\n",
    "\n",
    "    Delta_depth_1 = 2*np.random.randint(2,size=n*1)-1 # \\pm 1 random distribution \n",
    "    Delta_depth_2 = 2*np.random.randint(2,size=n*2)-1 # \\pm 1 random distribution \n",
    "    Delta_depth_3 = 2*np.random.randint(2,size=n*3)-1 # \\pm 1 random distribution \n",
    "    \n",
    "    theta_plus_depth_1 = theta_depth_1 + c_spsa*Delta_depth_1\n",
    "    theta_minus_depth_1 = theta_depth_1 - c_spsa*Delta_depth_1\n",
    "    theta_plus_depth_2 = theta_depth_2 + c_spsa*Delta_depth_2\n",
    "    theta_minus_depth_2 = theta_depth_2 - c_spsa*Delta_depth_2\n",
    "    theta_plus_depth_3 = theta_depth_3 + c_spsa*Delta_depth_3\n",
    "    theta_minus_depth_3 = theta_depth_3 - c_spsa*Delta_depth_3\n",
    "\n",
    "    trial_circuit_plus_depth_1 = trial_funtion_optimization(n,1,theta_plus_depth_3,entangler_map) \n",
    "    trial_circuit_minus_depth_1 = trial_funtion_optimization(n,1,theta_minus_depth_1,entangler_map) \n",
    "    trial_circuit_plus_depth_2 = trial_funtion_optimization(n,2,theta_plus_depth_3,entangler_map) \n",
    "    trial_circuit_minus_depth_2 = trial_funtion_optimization(n,2,theta_minus_depth_2,entangler_map)\n",
    "    trial_circuit_plus_depth_3 = trial_funtion_optimization(n,3,theta_plus_depth_3,entangler_map) \n",
    "    trial_circuit_minus_depth_3 = trial_funtion_optimization(n,3,theta_minus_depth_3,entangler_map)\n",
    "    \n",
    "    program = [trial_circuit_plus_depth_1,trial_circuit_minus_depth_1,trial_circuit_plus_depth_2\n",
    "               ,trial_circuit_minus_depth_2,trial_circuit_plus_depth_3,trial_circuit_minus_depth_3]\n",
    "    out = run_program(program,api,device,shots,max_credits=3)\n",
    "    results=combine_jobs([out['id']], api, wait=20, timeout=440)\n",
    "    \n",
    "    cost_plus_depth_1[k] = cost_classical(get_data(results,0),n,alpha,beta)\n",
    "    cost_minus_depth_1[k] = cost_classical(get_data(results,1),n,alpha,beta)\n",
    "    cost_plus_depth_2[k] = cost_classical(get_data(results,2),n,alpha,beta)\n",
    "    cost_minus_depth_2[k] = cost_classical(get_data(results,3),n,alpha,beta)\n",
    "    cost_plus_depth_3[k] = cost_classical(get_data(results,4),n,alpha,beta)\n",
    "    cost_minus_depth_3[k] = cost_classical(get_data(results,5),n,alpha,beta)\n",
    "    \n",
    "    g_spsa_depth_1 = (cost_plus_depth_1[k]-cost_minus_depth_1[k])*Delta_depth_1/(2.0*c_spsa)\n",
    "    g_spsa_depth_2 = (cost_plus_depth_2[k]-cost_minus_depth_2[k])*Delta_depth_2/(2.0*c_spsa)\n",
    "    g_spsa_depth_3 = (cost_plus_depth_3[k]-cost_minus_depth_3[k])*Delta_depth_3/(2.0*c_spsa)\n",
    "\n",
    "    theta_depth_1 = theta_depth_1 - a_spsa*g_spsa_depth_1\n",
    "    theta_depth_2 = theta_depth_2 - a_spsa*g_spsa_depth_2\n",
    "    theta_depth_3 = theta_depth_3 - a_spsa*g_spsa_depth_3\n",
    "    print(cost_minus_depth_3[k] +   cost_plus_depth_3[k])\n",
    "\n",
    "trial_circuit_depth_1 =  trial_funtion_optimization(n,1,theta_depth_1,entangler_map) \n",
    "trial_circuit_depth_2 =  trial_funtion_optimization(n,2,theta_depth_2,entangler_map) \n",
    "trial_circuit_depth_3 =  trial_funtion_optimization(n,3,theta_depth_3,entangler_map) \n",
    "\n",
    "program = [trial_circuit_depth_1,trial_circuit_depth_2,trial_circuit_depth_3]\n",
    "out = run_program(program,api,device,shots,max_credits=3)\n",
    "results=combine_jobs([out['id']], api, wait=20, timeout=440)  \n",
    "cost_depth_1 = cost_classical(get_data(results,0),n,alpha,beta)\n",
    "cost_depth_2 = cost_classical(get_data(results,1),n,alpha,beta)\n",
    "cost_depth_3 = cost_classical(get_data(results,2),n,alpha,beta)\n",
    "print('m=1 ' + str(cost_depth_1) + ' m=2 ' + str(cost_depth_2) + 'm=3 ' + str(cost_depth_3))"
   ]
  },
  {
   "cell_type": "code",
   "execution_count": null,
   "metadata": {
    "collapsed": false
   },
   "outputs": [],
   "source": [
    "# plotting data\n",
    "plt.plot(range(max_trials), cost_plus_depth_1, range(max_trials), cost_minus_depth_1)\n",
    "plot_histogram(get_data(results,0),n)\n",
    "plt.plot(range(max_trials), cost_plus_depth_2, range(max_trials), cost_minus_depth_2)\n",
    "plot_histogram(get_data(results,1),n)\n",
    "plt.plot(range(max_trials), cost_plus_depth_3, range(max_trials), cost_minus_depth_3)\n",
    "plot_histogram(get_data(results,2),n)"
   ]
  },
  {
   "cell_type": "markdown",
   "metadata": {},
   "source": [
    "## Max Cut (DONNA) "
   ]
  },
  {
   "cell_type": "code",
   "execution_count": null,
   "metadata": {
    "collapsed": true
   },
   "outputs": [],
   "source": [
    "# cost function H = alpha_i z_i + beta_ij z_i z_j\n",
    "n = 6\n",
    "alpha = np.zeros(n)\n",
    "beta = np.zeros((n, n))\n",
    "beta[0, 1] = 93/2\n",
    "beta[0, 4] = 17/2\n",
    "beta[0, 5] = 51/2\n",
    "beta[1, 0] = 93/2\n",
    "beta[1, 5] = 13/2\n",
    "beta[1, 2] = 77/2\n",
    "beta[2, 1] = 77/2\n",
    "beta[2, 3] = 31/2\n",
    "beta[2, 5] = 23/2\n",
    "beta[3,2] = 31/2\n",
    "beta[3,4] = 7/2\n",
    "beta[3,5] = 46/2\n",
    "beta[4,3] = 7/2\n",
    "beta[4,5] = 65/2\n",
    "beta[4,0] = 17/2\n",
    "\n",
    "beta[5,0] = 51/2\n",
    "beta[5,1] = 13/2\n",
    "beta[5,2] = 23/2\n",
    "beta[5,3] = 46/2\n",
    "beta[5,4] = 65/2"
   ]
  },
  {
   "cell_type": "code",
   "execution_count": null,
   "metadata": {
    "collapsed": false
   },
   "outputs": [],
   "source": [
    "# quantum circuit parameters\n",
    "device = 'simulator' # the device to run on\n",
    "shots = 8192    # the number of shots in the experiment \n",
    "entangler_map = {0: [1], 1: [2], 2: [3], 3: [4]} # the map of two-qubit gates with control at key and target at values\n",
    "\n",
    "# Numerical parameters \n",
    "SPSA_parameters = np.array([3,0.602,0,.3,0.101]) #[a, alpha, A, c, gamma]\n",
    "max_trials = 100;\n",
    "theta_depth_1 = np.random.randn(1*n) # initial controls \n",
    "theta_depth_2 = np.random.randn(2*n) # initial controls \n",
    "theta_depth_3 = np.random.randn(3*n) # initial controls \n",
    "\n",
    "cost_plus_depth_1=np.zeros(max_trials)\n",
    "cost_minus_depth_1=np.zeros(max_trials)\n",
    "cost_plus_depth_2=np.zeros(max_trials)\n",
    "cost_minus_depth_2=np.zeros(max_trials)\n",
    "cost_plus_depth_3=np.zeros(max_trials)\n",
    "cost_minus_depth_3=np.zeros(max_trials)\n",
    "\n",
    "for k in range(max_trials):\n",
    "    print('trial ' + str(k) + \" of \" + str(max_trials))\n",
    "    a_spsa = float(SPSA_parameters[0])/np.power(k+1+SPSA_parameters[2], SPSA_parameters[1])\n",
    "    c_spsa = float(SPSA_parameters[3])/np.power(k+1, SPSA_parameters[4])\n",
    "\n",
    "    Delta_depth_1 = 2*np.random.randint(2,size=n*1)-1 # \\pm 1 random distribution \n",
    "    Delta_depth_2 = 2*np.random.randint(2,size=n*2)-1 # \\pm 1 random distribution \n",
    "    Delta_depth_3 = 2*np.random.randint(2,size=n*3)-1 # \\pm 1 random distribution \n",
    "    \n",
    "    theta_plus_depth_1 = theta_depth_1 + c_spsa*Delta_depth_1\n",
    "    theta_minus_depth_1 = theta_depth_1 - c_spsa*Delta_depth_1\n",
    "    theta_plus_depth_2 = theta_depth_2 + c_spsa*Delta_depth_2\n",
    "    theta_minus_depth_2 = theta_depth_2 - c_spsa*Delta_depth_2\n",
    "    theta_plus_depth_3 = theta_depth_3 + c_spsa*Delta_depth_3\n",
    "    theta_minus_depth_3 = theta_depth_3 - c_spsa*Delta_depth_3\n",
    "\n",
    "    trial_circuit_plus_depth_1 = trial_funtion_optimization(n,1,theta_plus_depth_3,entangler_map) \n",
    "    trial_circuit_minus_depth_1 = trial_funtion_optimization(n,1,theta_minus_depth_1,entangler_map) \n",
    "    trial_circuit_plus_depth_2 = trial_funtion_optimization(n,2,theta_plus_depth_3,entangler_map) \n",
    "    trial_circuit_minus_depth_2 = trial_funtion_optimization(n,2,theta_minus_depth_2,entangler_map)\n",
    "    trial_circuit_plus_depth_3 = trial_funtion_optimization(n,3,theta_plus_depth_3,entangler_map) \n",
    "    trial_circuit_minus_depth_3 = trial_funtion_optimization(n,3,theta_minus_depth_3,entangler_map)\n",
    "    \n",
    "    program = [trial_circuit_plus_depth_1,trial_circuit_minus_depth_1,trial_circuit_plus_depth_2\n",
    "               ,trial_circuit_minus_depth_2,trial_circuit_plus_depth_3,trial_circuit_minus_depth_3]\n",
    "    out = run_program(program,api,device,shots,max_credits=3)\n",
    "    results=combine_jobs([out['id']], api, wait=20, timeout=440)\n",
    "    \n",
    "    cost_plus_depth_1[k] = cost_classical(get_data(results,0),n,alpha,beta)\n",
    "    cost_minus_depth_1[k] = cost_classical(get_data(results,1),n,alpha,beta)\n",
    "    cost_plus_depth_2[k] = cost_classical(get_data(results,2),n,alpha,beta)\n",
    "    cost_minus_depth_2[k] = cost_classical(get_data(results,3),n,alpha,beta)\n",
    "    cost_plus_depth_3[k] = cost_classical(get_data(results,4),n,alpha,beta)\n",
    "    cost_minus_depth_3[k] = cost_classical(get_data(results,5),n,alpha,beta)\n",
    "    \n",
    "    g_spsa_depth_1 = (cost_plus_depth_1[k]-cost_minus_depth_1[k])*Delta_depth_1/(2.0*c_spsa)\n",
    "    g_spsa_depth_2 = (cost_plus_depth_2[k]-cost_minus_depth_2[k])*Delta_depth_2/(2.0*c_spsa)\n",
    "    g_spsa_depth_3 = (cost_plus_depth_3[k]-cost_minus_depth_3[k])*Delta_depth_3/(2.0*c_spsa)\n",
    "\n",
    "    theta_depth_1 = theta_depth_1 - a_spsa*g_spsa_depth_1\n",
    "    theta_depth_2 = theta_depth_2 - a_spsa*g_spsa_depth_2\n",
    "    theta_depth_3 = theta_depth_3 - a_spsa*g_spsa_depth_3\n",
    "\n",
    "trial_circuit_depth_1 =  trial_funtion_optimization(n,1,theta_depth_1,entangler_map) \n",
    "trial_circuit_depth_2 =  trial_funtion_optimization(n,2,theta_depth_2,entangler_map) \n",
    "trial_circuit_depth_3 =  trial_funtion_optimization(n,3,theta_depth_3,entangler_map) \n",
    "\n",
    "program = [trial_circuit_depth_1,trial_circuit_depth_2,trial_circuit_depth_3]\n",
    "out = run_program(program,api,device,shots,max_credits=3)\n",
    "results=combine_jobs([out['id']], api, wait=20, timeout=440)  \n",
    "cost_depth_1 = cost_classical(get_data(results,0),n,alpha,beta)\n",
    "cost_depth_2 = cost_classical(get_data(results,1),n,alpha,beta)\n",
    "cost_depth_3 = cost_classical(get_data(results,2),n,alpha,beta)\n",
    "print('m=1 ' + str(cost_depth_1) + ' m=2 ' + str(cost_depth_2) + 'm=3 ' + str(cost_depth_3))"
   ]
  },
  {
   "cell_type": "code",
   "execution_count": null,
   "metadata": {
    "collapsed": false
   },
   "outputs": [],
   "source": [
    "# plotting data\n",
    "plt.plot(range(max_trials), cost_plus_depth_1, range(max_trials), cost_minus_depth_1)\n",
    "plot_histogram(get_data(results,0),n)\n",
    "plt.plot(range(max_trials), cost_plus_depth_2, range(max_trials), cost_minus_depth_2)\n",
    "plot_histogram(get_data(results,1),n)\n",
    "plt.plot(range(max_trials), cost_plus_depth_3, range(max_trials), cost_minus_depth_3)\n",
    "plot_histogram(get_data(results,2),n)"
   ]
  },
  {
   "cell_type": "markdown",
   "metadata": {},
   "source": [
    "## REAL"
   ]
  },
  {
   "cell_type": "code",
   "execution_count": null,
   "metadata": {
    "collapsed": false
   },
   "outputs": [],
   "source": [
    "# quantum circuit parameters\n",
    "device = 'real' # the device to run on\n",
    "shots = 8192    # the number of shots in the experiment\n",
    "n = 2\n",
    "entangler_map = {0: [1]} # the map of two-qubit gates with control at key and target at values\n",
    "\n",
    "# Numerical parameters \n",
    "SPSA_parameters = np.array([.3,0.602,0,.3,0.101]) #[a, alpha, A, c, gamma]\n",
    "max_trials = 100;\n",
    "theta_depth_1 = np.random.randn(1*n) # initial controls \n",
    "theta_depth_2 = np.random.randn(2*n) # initial controls \n",
    "theta_depth_3 = np.random.randn(3*n) # initial controls \n",
    "\n",
    "cost_plus_depth_1=np.zeros(max_trials)\n",
    "cost_minus_depth_1=np.zeros(max_trials)\n",
    "cost_plus_depth_2=np.zeros(max_trials)\n",
    "cost_minus_depth_2=np.zeros(max_trials)\n",
    "cost_plus_depth_3=np.zeros(max_trials)\n",
    "cost_minus_depth_3=np.zeros(max_trials)\n",
    "\n",
    "for k in range(max_trials):\n",
    "    print('trial ' + str(k) + \" of \" + str(max_trials))\n",
    "    a_spsa = float(SPSA_parameters[0])/np.power(k+1+SPSA_parameters[2], SPSA_parameters[1])\n",
    "    c_spsa = float(SPSA_parameters[3])/np.power(k+1, SPSA_parameters[4])\n",
    "\n",
    "    Delta_depth_1 = 2*np.random.randint(2,size=n*1)-1 # \\pm 1 random distribution \n",
    "    Delta_depth_2 = 2*np.random.randint(2,size=n*2)-1 # \\pm 1 random distribution \n",
    "    Delta_depth_3 = 2*np.random.randint(2,size=n*3)-1 # \\pm 1 random distribution \n",
    "    \n",
    "    theta_plus_depth_1 = theta_depth_1 + c_spsa*Delta_depth_1\n",
    "    theta_minus_depth_1 = theta_depth_1 - c_spsa*Delta_depth_1\n",
    "    theta_plus_depth_2 = theta_depth_2 + c_spsa*Delta_depth_2\n",
    "    theta_minus_depth_2 = theta_depth_2 - c_spsa*Delta_depth_2\n",
    "    theta_plus_depth_3 = theta_depth_3 + c_spsa*Delta_depth_3\n",
    "    theta_minus_depth_3 = theta_depth_3 - c_spsa*Delta_depth_3\n",
    "\n",
    "    trial_circuit_plus_depth_1 = trial_funtion_optimization(n,1,theta_plus_depth_3,entangler_map) \n",
    "    trial_circuit_minus_depth_1 = trial_funtion_optimization(n,1,theta_minus_depth_1,entangler_map) \n",
    "    trial_circuit_plus_depth_2 = trial_funtion_optimization(n,2,theta_plus_depth_3,entangler_map) \n",
    "    trial_circuit_minus_depth_2 = trial_funtion_optimization(n,2,theta_minus_depth_2,entangler_map)\n",
    "    trial_circuit_plus_depth_3 = trial_funtion_optimization(n,3,theta_plus_depth_3,entangler_map) \n",
    "    trial_circuit_minus_depth_3 = trial_funtion_optimization(n,3,theta_minus_depth_3,entangler_map)\n",
    "    \n",
    "    program = [trial_circuit_plus_depth_1,trial_circuit_minus_depth_1,trial_circuit_plus_depth_2\n",
    "               ,trial_circuit_minus_depth_2,trial_circuit_plus_depth_3,trial_circuit_minus_depth_3]\n",
    "    out = run_program(program,api,device,shots,max_credits=5)\n",
    "    results=combine_jobs([out['id']], api, wait=20, timeout=480)\n",
    "    \n",
    "    cost_plus_depth_1[k] = cost_classical(get_data(results,0),n,alpha,beta)\n",
    "    cost_minus_depth_1[k] = cost_classical(get_data(results,1),n,alpha,beta)\n",
    "    cost_plus_depth_2[k] = cost_classical(get_data(results,2),n,alpha,beta)\n",
    "    cost_minus_depth_2[k] = cost_classical(get_data(results,3),n,alpha,beta)\n",
    "    cost_plus_depth_3[k] = cost_classical(get_data(results,4),n,alpha,beta)\n",
    "    cost_minus_depth_3[k] = cost_classical(get_data(results,5),n,alpha,beta)\n",
    "    \n",
    "    g_spsa_depth_1 = (cost_plus_depth_1[k]-cost_minus_depth_1[k])*Delta_depth_1/(2.0*c_spsa)\n",
    "    g_spsa_depth_2 = (cost_plus_depth_2[k]-cost_minus_depth_2[k])*Delta_depth_2/(2.0*c_spsa)\n",
    "    g_spsa_depth_3 = (cost_plus_depth_3[k]-cost_minus_depth_3[k])*Delta_depth_3/(2.0*c_spsa)\n",
    "\n",
    "    theta_depth_1 = theta_depth_1 - a_spsa*g_spsa_depth_1\n",
    "    theta_depth_2 = theta_depth_2 - a_spsa*g_spsa_depth_2\n",
    "    theta_depth_3 = theta_depth_3 - a_spsa*g_spsa_depth_3\n",
    "\n",
    "trial_circuit_depth_1 =  trial_funtion_optimization(n,1,theta_depth_1,entangler_map) \n",
    "trial_circuit_depth_2 =  trial_funtion_optimization(n,2,theta_depth_2,entangler_map) \n",
    "trial_circuit_depth_3 =  trial_funtion_optimization(n,3,theta_depth_3,entangler_map) \n",
    "\n",
    "program = [trial_circuit_depth_1,trial_circuit_depth_2,trial_circuit_depth_3]\n",
    "out = run_program(program,api,device,shots,max_credits=5)\n",
    "results=combine_jobs([out['id']], api, wait=20, timeout=240)  \n",
    "cost_depth_1 = cost_classical(get_data(results,0),n,alpha,beta)\n",
    "cost_depth_2 = cost_classical(get_data(results,1),n,alpha,beta)\n",
    "cost_depth_3 = cost_classical(get_data(results,2),n,alpha,beta)\n",
    "print('m=1 ' + str(cost_depth_1) + ' m=2 ' + str(cost_depth_2) + 'm=3 ' + str(cost_depth_3))"
   ]
  },
  {
   "cell_type": "code",
   "execution_count": null,
   "metadata": {
    "collapsed": true
   },
   "outputs": [],
   "source": [
    "# plotting data\n",
    "plt.plot(range(max_trials), cost_plus_depth_1, range(max_trials), cost_minus_depth_1)\n",
    "plot_histogram(get_data(results,0),n)\n",
    "plt.plot(range(max_trials), cost_plus_depth_2, range(max_trials), cost_minus_depth_2)\n",
    "plot_histogram(get_data(results,1),n)\n",
    "plt.plot(range(max_trials), cost_plus_depth_3, range(max_trials), cost_minus_depth_3)\n",
    "plot_histogram(get_data(results,2),n)"
   ]
  },
  {
   "cell_type": "code",
   "execution_count": null,
   "metadata": {
    "collapsed": true
   },
   "outputs": [],
   "source": []
  }
 ],
 "metadata": {
  "anaconda-cloud": {},
  "kernelspec": {
   "display_name": "Python 3",
   "language": "python",
   "name": "python3"
  },
  "language_info": {
   "codemirror_mode": {
    "name": "ipython",
    "version": 3
   },
   "file_extension": ".py",
   "mimetype": "text/x-python",
   "name": "python",
   "nbconvert_exporter": "python",
   "pygments_lexer": "ipython3",
   "version": "3.6.0"
  }
 },
 "nbformat": 4,
 "nbformat_minor": 1
}
