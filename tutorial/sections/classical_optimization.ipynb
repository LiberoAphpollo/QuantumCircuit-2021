{
 "cells": [
  {
   "cell_type": "markdown",
   "metadata": {},
   "source": [
    "<img src=\"../images/QISKit-c.gif\" alt=\"Note: In order for images to show up in this jupyter notebook you need to select File => Trusted Notebook\" width=\"250 px\" align=\"left\">"
   ]
  },
  {
   "cell_type": "markdown",
   "metadata": {},
   "source": [
    "## _*VQE algorithm: application to optimization problems*_ \n",
    "\n",
    "The latest version of this notebook is available on https://github.com/IBM/qiskit-sdk-py/tree/master/scripts.\n",
    "\n",
    "For more information about how to use the IBM Q experience (QX), consult the [IBM Q experience tutorials](https://quantumexperience.ng.bluemix.net/qstage/#/tutorial?sectionId=c59b3710b928891a1420190148a72cce&pageIndex=0), or check out the [community](https://quantumexperience.ng.bluemix.net/qstage/#/community).\n",
    "\n",
    "***\n",
    "### Contributors\n",
    "Antonio Mezzacapo, Jay Gambetta, Kristan Temme, Ramis Movassagh"
   ]
  },
  {
   "cell_type": "markdown",
   "metadata": {},
   "source": [
    "## Introduction\n",
    "\n",
    "Many problems in quantitative fields such as finance and engineering are optimization problems. Optimization problems lay at the core of complex decision-making and definition of strategies. \n",
    "\n",
    "Optimization or combinatorial optimization means searching for an optimal solution in a finite or countably infinite set of potential solutions. Optimality is defined with respect to some criterion function, which is to be minimized or maximized. This is typically called the cost function or objective function. \n",
    "\n",
    "**Typical optimization problems**\n",
    "\n",
    "Minimization: cost, distance, length of a traversal, weight, processing time, material, energy consumption, number of objects\n",
    "\n",
    "Maximization: profit, value, output, return, yield, utility, efficiency, capacity, number of objects. \n",
    "\n",
    "We consider here two problems of practical interests in many fields, and show how they can mapped and soved on quantum computers.\n",
    "\n",
    "\n",
    "### MaxCut weigthed or like-maxcut examples:\n",
    "\n",
    "MaxCut is an NP-complete problem, with applications in clustering, network science, and statistical physics. To understand how practical applications are mapped into given MaxCut instances, consider a system of many people that can interact and influence each other. Individuals can be represented with vertices of a graph, and their interactions seen as pairwise connections between two vertices of the graph, or edges. With this representation in mind it is easy to model typical marketing problems. For example, suppose that it is assumed that individuals will influence each other's buying decisions, and knowledge is given about how strong they will influence each other, through weights assigned on each edge of the graph. It is possible then to predict the outcome of a marketing strategy in which products are offered for free to some individuals, and then ask which is the optimal subset of individuals that should get the free products, in order to maximize revenues.\n",
    "\n",
    "The formal definition of this problem is the following:\n",
    "\n",
    "Consider a $n$-node non-directed graph *G(V, E)* where *|V| = n* with edge weights $w_{ij}>0$ for $(i, j)\\in E$. A cut is defined as a partition of the original set V into two subsets. The cost function to be optimized is in this case the sum of weights of edges connecting points in the two different subsets, *crossing* the cut. By assigning $x_i=0$ or $x_i=1$ to each node $i$ one tries to maximize the global profit function\n",
    "\n",
    "$$C(\\textbf{x}) = \\sum_{i,j} w_{ij} x_i (1-x_j)$$\n",
    "\n",
    "In our simple marketing model, $w_{ij}$ represents the probability that the person $j$ will buy a product after $i$ gets a a free one. Note that the weights $w_{ij}$ can in principle be greater than $1$, corresponding to the case that the individual $j$ will buy more than one product. Maximizing the total buying probability corresponds to maximize the total future revenues: if the profit probability will be greater than the cost of the free samples, the strategy will be convenient. An extension to this model has the nodes themselves carry weights, which can be regarded, in our marketing model, as the likelihood that a person granted with a free sample of the product will buy it again in the future. With this additional information on our model, the objective function to maximize becomes \n",
    "\n",
    "$$C(\\textbf{x}) = \\sum_{i,j} w_{ij} x_i (1-x_j)+\\sum_i w_i x_i. $$\n",
    " \n",
    "In order to find a solution to this problem on a quantum computer, we need first to map it to an Ising Hamiltonian. This can be done easily with the assignment $x_i\\rightarrow (1-Z_i)/2$ where $Z_i$ is the Pauli Z operator that has eigenvalues $\\pm 1$. Doing this we find that \n",
    "\n",
    "$$C(\\textbf{Z}) = \\sum_{i<j} \\frac{w_{ij}}{2} (1-Z_i)(1+Z_j) + \\sum_i w_i (1-Z_i)/2 = -\\frac{1}{2}\\left( \\sum_{i<j} w_{ij} Z_iZ_j +\\sum_i w_i Z_i\\right)+\\mathrm{const},$$\n",
    "\n",
    "where const = $\\sum_{i<j}w_{ij}/2+\\sum_i w_i/2 $. That is the MaxCut is equivalent to minimizing the Ising Hamiltonian \n",
    "\n",
    "$$ H = \\sum_i w_i Z_i + \\sum_{i<j} w_{ij} Z_iZ_j.$$\n",
    "\n",
    "### Traveling Salesman Problem:\n",
    "\n",
    "In addition to being a notorious NP-complete problem that has drawn the attention of computer scientists and mathematician for over two centuries, the Traveling Salesman Problem (TSP) has important bearings on finance and marketing, as its name suggests. Colloquially speaking, the traveling salesman is a person that goes from city to city to sell a merchandise. The objective in this case is to find the shortest path that would enable the salesman to visit all the cities and return to its hometown, i.e. the city where he started travelling. This way the salesman gets to maximize its potential sales in the least amount of time. \n",
    "\n",
    "The problem derives its importance from its \"hardness\" and ubiquitous equivalence to other relevant combinatorial optimization problems that arise in practice.\n",
    " \n",
    "The mathematical formulation with some early analysis was proposed by W.R. Hamilton in the early 19th century. Mathematically the problem is, as in the case of max-cut, best abstracted in terms of graphs. The TSP on the nodes of a graph asks for the shortest *Hamiltonian cycle* that can be taken through each of the nodes. A Hamilton cycle is a closed path that uses every vertex of a graph once. The general solution is unknown and an algorithm that finds efficiently (e.g., in polynomial time) the solution is not expected to exist.\n",
    "\n",
    "Find the shortest Hamiltonian cycle in a graph $G=(V,E)$ with $n=|V|$ nodes and distances, $w_{ij}$ (distance from vertex $i$ to vertex $j$). A Hamiltonian cycle is described by $N^2$ variables $x_{i,p}$, where $i$ represents the node and p represents its order in a prospective cycle. The decision variable takes the value 1 if the solution occurs at node $i$ at time order $p$. We require that every node can only appear once in the cycle and for each time a node has to occur. This amounts to the two constraints\n",
    "\n",
    "$$\\sum_{i} x_{i,p} = 1 ~~\\forall p$$\n",
    "$$\\sum_{p} x_{i,p} = 1 ~~\\forall i.$$\n",
    "\n",
    "For nodes in our prospective ordering, if $x_{i,p}$ and $x_{j,p+1}$ are both 1, then there should be an energy penalty if $(i,j) \\notin E$ (not connected in the graph). The form of this penalty is \n",
    "\n",
    "$$\\sum_{i,j\\notin E}\\sum_{p} x_{i,p}x_{j,p+1}>0,$$ \n",
    "\n",
    "where it is assumed the boundary condition of the Hamiltonian cycle, $(p=N)\\equiv (p=0)$. However, here it will be assumed a fully connected graph and not include this term. The distance that needs to be minimized is \n",
    "\n",
    "$$C(\\textbf{x})=\\sum_{i,j}w_{ij}\\sum_{p} x_{i,p}x_{j,p+1}.$$\n",
    "\n",
    "Putting this all together in a single objective function to be minimized we get the following\n",
    "\n",
    "$$C(\\textbf{x})=\\sum_{i,j}w_{ij}\\sum_{p} x_{i,p}x_{j,p+1}+ A\\sum_p\\left(1- \\sum_i x_{i,p}\\right)^2+A\\sum_i\\left(1- \\sum_p x_{i,p}\\right)^2,$$\n",
    "\n",
    "where $A$ is a free parameter. One needs to ensure that A is large enough so that these constraints are respected. One way to do this is to choose A such that $A > \\mathrm{max}(w_{ij})$. Furthermore, since the problem has the salesperson returning to the original city it is possible, without loss of generality, to set $x_{00} = 1$, $x_{i0} = 0 \\; \\forall i\\neq 0$, and $x_{0p} = 0 \\;\\forall p\\neq 0$. Doing this the objective functions becomes \n",
    "\n",
    "$$C(\\textbf{x})=\\sum_{i,j=1}^{N-1}w_{ij}\\sum_{p=1}^{N-1} x_{i,p}x_{j,p+1}+\\sum_{j=1}^{N-1}w_{0j} x_{j,1}+\\sum_{i=1}^{N-1}w_{i0} x_{i,N-1}+ A\\sum_{p=1}^{N-1}\\left(1- \\sum_{i=1}^{N-1} x_{i,p}\\right)^2+A\\sum_{i=1}^{N-1}\\left(1- \\sum_{p=1}^{N-1} x_{i,p}\\right)^2.$$\n",
    "\n",
    "Once again, it is easy to map the problem in this form to a quantum computer, and the solution will be found by minimizing a Ising Hamiltonian. \n",
    "\n",
    "\n",
    "\n",
    "### Approximate Universal Quantum Computing for Optimization Problems\n",
    "\n",
    "There has been a considerable amount of interest in recent times about the use of quantum computers to find a solution to combinatorial problems. It is important to say that, given the classical nature of combinatorial problems, exponential speedup in using quantum computers compared to the best classical algorithms is not guaranteed. However, due to the nature and importance of the target problems, it is worth investigating heuristic approaches on a quantum computer that could indeed speed up some problem instances. Here it is shown a possible route for using quantum computers in this context, which we frame in the context of *approximate quantum computing*, given its heuristic nature. \n",
    "\n",
    "The Algorithm works as follows:\n",
    "1. Choose the $w_i$ and $w_{ij}$ in the target Ising problem. In principle even higher powers of Z are allowed.\n",
    "2. Choose the depth of the quantum circuit $m$. Note that the depth can be modified adaptively.\n",
    "3. Choose a set of controls $\\theta$ and make a trial function $|\\psi(\\theta)\\rangle$.\n",
    "4. Evaluate $C(\\theta) = \\langle\\psi(\\theta)~|H|~\\psi(\\theta)\\rangle = \\sum_i w_i \\langle\\psi(\\theta)~|Z_i|~\\psi(\\theta)\\rangle+ \\sum_{i<j} w_{ij} \\langle\\psi(\\theta)~|Z_iZ_j|~\\psi(\\theta)\\rangle$ by sampling the outcome of the circuit and adding the expectation values together. In general different control points around $\\theta$ have to be estimated, depending on the classical optimizer chosen. \n",
    "5. Use a classical optimizer to choose a new set of controls.\n",
    "6. Continue until $C(\\theta)$ reaches a minimum, close enough to the solution $\\theta^*$.\n",
    "7. Use $\\theta^*$ to generate a final set of samples from the distribution $|\\langle z_i~|\\psi(\\theta^*)\\rangle|^2\\;\\forall i$, to obtain the answer.\n",
    "    \n",
    "It is our belief the difficulty of finding good heuristic algorithms will come down to the choice of an appropriate trial wavefunction. For example, one could consider a trial function whose entanglement best aligns with the target problem, or simply make the amount of entanglement a variable. In this tutorial we will consider a simple trial function of the form\n",
    "\n",
    "$$|\\psi(\\theta)\\rangle  = [U_\\mathrm{single}(\\theta) U_\\mathrm{entangler}]^m |+\\rangle$$\n",
    "\n",
    "where $U_\\mathrm{entangler}$ is a function of cPhase gates (fully entangling gates), and $U_\\mathrm{single}(\\theta) = \\prod_{i=1}^n Y(\\theta_{i})$, where $n$ is the number of qubits and $m$ is the depth of the quantum circuit. The motivation for this choice is that for these classical problems this choice allows us to search over the space of quantum states that have only real coefficients, still exploiting the entanglement to potentially converge faster to the solution.\n",
    "\n",
    "One advantage of using this sampling method compared to adiabatic approaches is that the target Ising Hamiltonian does not have to be implemented directly on hardware, allowing this algorithm no to be limited to the connectivity of the device. Furthermore, higher orders terms in the cost function, such as $Z_iZ_jZ_k$, can also be sampled efficiently, whereas in adiabatic or annealing approaches they are generally impractical to deal with. "
   ]
  },
  {
   "cell_type": "code",
   "execution_count": 1,
   "metadata": {},
   "outputs": [],
   "source": [
    "# Checking the version of PYTHON; we only support 3 at the moment\n",
    "import sys\n",
    "if sys.version_info < (3,0):\n",
    "    raise Exception(\"Please use Python version 3 or greater.\")\n",
    "    \n",
    "# useful additional packages \n",
    "import matplotlib.pyplot as plt\n",
    "import matplotlib.axes as axes\n",
    "%matplotlib inline\n",
    "import numpy as np\n",
    "from scipy import linalg as la\n",
    "from itertools import permutations\n",
    "from functools import partial\n",
    "import networkx as nx\n",
    "\n",
    "import sys\n",
    "sys.path.append(\"../../\")\n",
    "# importing the QISKit\n",
    "from qiskit import QuantumCircuit, QuantumProgram\n",
    "import Qconfig\n",
    "\n",
    "# import basic plot tools\n",
    "from qiskit.basicplotter import plot_histogram\n",
    "\n",
    "# import optimization tools\n",
    "from tools.optimizationtools import trial_circuit_ry, SPSA_optimization, SPSA_calibration\n",
    "from tools.optimizationtools import Energy_Estimate, make_Hamiltonian\n",
    "from tools.pauli import Pauli"
   ]
  },
  {
   "cell_type": "code",
   "execution_count": 2,
   "metadata": {
    "collapsed": true
   },
   "outputs": [],
   "source": [
    "def obj_funct(Q_program, pauli_list, n, m, device, shots, theta):\n",
    "    \"\"\" Evaluate the objective function for a classical optimization problem.\n",
    "\n",
    "    Q_program is an instance object of the class quantum program\n",
    "    pauli_list defines the cost function as list of ising terms with weights\n",
    "    theta are the control parameters \n",
    "    n is the number of qubits\n",
    "    m is the depth of the trial function \n",
    "    device is the type of backend to run it on\n",
    "    shots is the number of shots to run. Taking shots = 1 only works in simulation\n",
    "    and computes an exact average of the cost function on the quantum state\n",
    "    \"\"\"\n",
    "    std_cost=0 # to add later\n",
    "    circuits = [\"trial_circuit\"] \n",
    "   \n",
    "        \n",
    "    if shots==1:  \n",
    "        Q_program.add_circuit(\"trial_circuit\", trial_circuit_ry(n, m, theta, entangler_map,None,False))\n",
    "        Q_program.execute(circuits, device, shots)\n",
    "        state = Q_program.get_data(\"trial_circuit\")['quantum_state']\n",
    "        H = pauli_list\n",
    "        cost = (np.inner(np.conjugate(state),np.dot(H,state))).real   \n",
    "    else:\n",
    "        Q_program.add_circuit(\"trial_circuit\", trial_circuit_ry(n, m, theta, entangler_map,None,True))\n",
    "        Q_program.execute(circuits, device, shots)\n",
    "        data = Q_program.get_counts(\"trial_circuit\")\n",
    "        cost = Energy_Estimate(data, pauli_list)\n",
    "       \n",
    "    \n",
    "    return cost, std_cost"
   ]
  },
  {
   "cell_type": "markdown",
   "metadata": {},
   "source": [
    "## MaxCut on 4 Qubits"
   ]
  },
  {
   "cell_type": "code",
   "execution_count": 18,
   "metadata": {},
   "outputs": [
    {
     "data": {
      "image/png": "[encoded data removed]",
      "text/plain": [
       "<matplotlib.figure.Figure at 0x11553bb38>"
      ]
     },
     "metadata": {},
     "output_type": "display_data"
    }
   ],
   "source": [
    "# Generating a graph of 4 nodes \n",
    "\n",
    "n =4 # Number of nodes in graph\n",
    "\n",
    "G=nx.Graph()\n",
    "G.add_nodes_from(np.arange(0,n,1))\n",
    "elist=[(0,1,1.0),(0,2,1.0),(0,3,1.0),(1,2,1.0),(2,3,1.0)]\n",
    "# tuple is (i,j,weight) where (i,j) is the edge\n",
    "G.add_weighted_edges_from(elist)\n",
    "\n",
    "colors = ['r' for node in G.nodes()]\n",
    "default_axes = plt.axes(frameon=True)\n",
    "default_axes.set_xlim(-0.1,1.1)\n",
    "default_axes.set_ylim(-0.1,1.1)\n",
    "nx.draw_networkx(G, node_color=colors, node_size=600, alpha = .8,ax=default_axes)\n"
   ]
  },
  {
   "cell_type": "code",
   "execution_count": 4,
   "metadata": {
    "collapsed": true
   },
   "outputs": [],
   "source": [
    "# Computing the weight matrix from the random graph\n",
    "\n",
    "w = np.zeros([n,n])\n",
    "for i in range(n):\n",
    "    for j in range(n):\n",
    "        temp = G.get_edge_data(i,j,default=0)\n",
    "        if temp != 0:\n",
    "            w[i,j] = temp['weight'] "
   ]
  },
  {
   "cell_type": "code",
   "execution_count": 5,
   "metadata": {},
   "outputs": [
    {
     "name": "stdout",
     "output_type": "stream",
     "text": [
      "[[ 0.  1.  1.  1.]\n",
      " [ 1.  0.  1.  0.]\n",
      " [ 1.  1.  0.  1.]\n",
      " [ 1.  0.  1.  0.]]\n"
     ]
    }
   ],
   "source": [
    "print(w)"
   ]
  },
  {
   "cell_type": "markdown",
   "metadata": {},
   "source": [
    "### Brute force approach\n",
    "\n",
    "Try all possible $2^n$ combinations. For $n = 4$ as in this example one deals with only 16 combinations, but for n = 1000 one has 1.071509e+30 combinations, which is impractical to deal with by using a brute force approach. "
   ]
  },
  {
   "cell_type": "code",
   "execution_count": 19,
   "metadata": {},
   "outputs": [
    {
     "name": "stdout",
     "output_type": "stream",
     "text": [
      "case = [0, 0, 0, 0] cost = 0.0\n",
      "case = [1, 0, 0, 0] cost = 15.5697234151\n",
      "case = [0, 1, 0, 0] cost = 26.4184204712\n",
      "case = [1, 1, 0, 0] cost = 25.0582352546\n",
      "case = [0, 0, 1, 0] cost = 14.2144422813\n",
      "case = [1, 0, 1, 0] cost = 27.4879794715\n",
      "case = [0, 1, 1, 0] cost = 24.1417089264\n",
      "case = [1, 1, 1, 0] cost = 20.485337485\n",
      "case = [0, 0, 0, 1] cost = 20.485337485\n",
      "case = [1, 0, 0, 1] cost = 24.1417089264\n",
      "case = [0, 1, 0, 1] cost = 27.4879794715\n",
      "case = [1, 1, 0, 1] cost = 14.2144422813\n",
      "case = [0, 0, 1, 1] cost = 25.0582352546\n",
      "case = [1, 0, 1, 1] cost = 26.4184204712\n",
      "case = [0, 1, 1, 1] cost = 15.5697234151\n",
      "case = [1, 1, 1, 1] cost = 0.0\n",
      "\n",
      "Best solution = [1, 0, 1, 0] cost = 27.4879794715\n"
     ]
    },
    {
     "data": {
      "image/png": "[encoded data removed]",
      "text/plain": [
       "<matplotlib.figure.Figure at 0x115400dd8>"
      ]
     },
     "metadata": {},
     "output_type": "display_data"
    }
   ],
   "source": [
    "best_cost = 0\n",
    "for b in range(2**n):\n",
    "    x = [int(t) for t in reversed(list(bin(b)[2:].zfill(n)))]\n",
    "    cost = 0\n",
    "    for i in range(n):\n",
    "        for j in range(n):\n",
    "            cost = cost + w[i,j]*x[i]*(1-x[j])\n",
    "    if best_cost < cost:\n",
    "        best_cost = cost\n",
    "        xbest = x \n",
    "    \n",
    "    print(\"case = \" + str(x)+ \" cost = \" + str(cost))\n",
    "\n",
    "colors = []\n",
    "for i in range(n):\n",
    "    if xbest[i] == 0:\n",
    "        colors.append('r')\n",
    "    else:\n",
    "        colors.append('b')\n",
    "nx.draw_networkx(G, node_color=colors, node_size=600, alpha = .8)\n",
    "#plt.show()\n",
    "print(\"\\nBest solution = \" +str(xbest)+ \" cost = \" + str(best_cost))    "
   ]
  },
  {
   "cell_type": "markdown",
   "metadata": {},
   "source": [
    "### Mapping to the Ising problem"
   ]
  },
  {
   "cell_type": "code",
   "execution_count": 7,
   "metadata": {},
   "outputs": [
    {
     "data": {
      "text/plain": [
       "5.0"
      ]
     },
     "execution_count": 7,
     "metadata": {},
     "output_type": "execute_result"
    }
   ],
   "source": [
    "# Determining the constant shift and initialize a pauli_list that contains the ZZ Ising terms\n",
    "\n",
    "pauli_list = []\n",
    "cost_shift = 0\n",
    "for i in range(n):\n",
    "        for j in range(i):\n",
    "            if w[i,j] != 0:\n",
    "                cost_shift = cost_shift + w[i,j]\n",
    "                wp = np.zeros(n)\n",
    "                vp = np.zeros(n)\n",
    "                vp[i] = 1\n",
    "                vp[j] = 1\n",
    "                pauli_list.append((w[i,j],Pauli(vp,wp)))\n",
    "cost_shift"
   ]
  },
  {
   "cell_type": "markdown",
   "metadata": {},
   "source": [
    "### Checking that the full Hamiltonian gives the right cost "
   ]
  },
  {
   "cell_type": "code",
   "execution_count": 8,
   "metadata": {},
   "outputs": [
    {
     "name": "stdout",
     "output_type": "stream",
     "text": [
      "4.0\n",
      "-3.0\n"
     ]
    }
   ],
   "source": [
    "#Making the Hamiltonian in its full form and get the lowest eigenvalue and eigenvector\n",
    "\n",
    "H = make_Hamiltonian(pauli_list)\n",
    "we, ve = la.eigh(H, eigvals=(0, 1))\n",
    "exact = we[0]\n",
    "exact_maxcut = -we[0]/2+cost_shift/2\n",
    "print(exact_maxcut)\n",
    "print(exact)"
   ]
  },
  {
   "cell_type": "markdown",
   "metadata": {},
   "source": [
    "### Running it on quantum computer\n",
    "\n",
    "We run the optimization routine using a feedback loop with a quantum computer that uses trial functions built with Y single-qubit rotations, $U_\\mathrm{single}(\\theta) = \\prod_{i=1}^n Y(\\theta_{i})$, and entangler steps $U_\\mathrm{entangler}$"
   ]
  },
  {
   "cell_type": "code",
   "execution_count": 9,
   "metadata": {},
   "outputs": [
    {
     "data": {
      "text/plain": [
       "True"
      ]
     },
     "execution_count": 9,
     "metadata": {},
     "output_type": "execute_result"
    }
   ],
   "source": [
    "#Setting up a quantum program and connecting to the Quantum Experience API\n",
    "Q_program = QuantumProgram()\n",
    "# set the APIToken and API url\n",
    "Q_program.set_api(Qconfig.APItoken, Qconfig.config[\"url\"])"
   ]
  },
  {
   "cell_type": "code",
   "execution_count": 12,
   "metadata": {},
   "outputs": [
    {
     "name": "stdout",
     "output_type": "stream",
     "text": [
      "calibration step # 0 of 25\n",
      "calibration step # 5 of 25\n",
      "calibration step # 10 of 25\n",
      "calibration step # 15 of 25\n",
      "calibration step # 20 of 25\n",
      "calibrated SPSA_parameters[0] is 0.33209224668\n",
      "SPSA parameters = [ 0.33209225  0.1         0.602       0.101       0.        ]\n",
      "Energy at theta+ for step # 0\n",
      "-0.22\n",
      "Energy at theta- for step # 0\n",
      "-0.74\n",
      "Energy at theta+ for step # 20\n",
      "-1.58\n",
      "Energy at theta- for step # 20\n",
      "-1.42\n",
      "Energy at theta+ for step # 40\n",
      "-1.8\n",
      "Energy at theta- for step # 40\n",
      "-1.8\n",
      "Energy at theta+ for step # 60\n",
      "-2.32\n",
      "Energy at theta- for step # 60\n",
      "-2.66\n",
      "Energy at theta+ for step # 80\n",
      "-2.64\n",
      "Energy at theta- for step # 80\n",
      "-2.6\n",
      "Final Energy is: -2.76\n"
     ]
    },
    {
     "data": {
      "text/plain": [
       "<matplotlib.text.Text at 0x11950a1d0>"
      ]
     },
     "execution_count": 12,
     "metadata": {},
     "output_type": "execute_result"
    },
    {
     "data": {
      "image/png": "[encoded data removed]",
      "text/plain": [
       "<matplotlib.figure.Figure at 0x1192d9c50>"
      ]
     },
     "metadata": {},
     "output_type": "display_data"
    }
   ],
   "source": [
    "# Testing Optimization on a quantum computer \n",
    "\n",
    "# Quantum circuit parameters:\n",
    "\n",
    "# the entangler step is made of two-qubit gates between a control and target qubit, control: [target]\n",
    "entangler_map = {0: [1], 1: [2], 2: [3]} \n",
    "# the backend used for the quantum computation\n",
    "device = 'local_qasm_simulator' \n",
    "# Total number of trial steps used in the optimization\n",
    "max_trials = 100; \n",
    "n = 4 # the number of qubits \n",
    "# Depth of the quantum circuit that prepares the trial state\n",
    "m = 3     \n",
    "# initial starting point for the control angles\n",
    "initial_theta=np.random.randn(m*n)   \n",
    "# number of shots for each evaluation of the cost function (shots=1 corresponds to perfect evaluation, \n",
    "# only available on the simulator)\n",
    "shots = 100\n",
    "# choose to plot the results of the optimizations every save_steps \n",
    "save_step = 20\n",
    "\n",
    "\n",
    "\"\"\" ##########################      RUN    OPTIMIZATION      #######################\"\"\"\n",
    "\n",
    "if shots == 1:\n",
    "    obj_funct_partial = partial(obj_funct, Q_program, H, n, m, device, shots)\n",
    "    initial_c=0.01\n",
    "else:\n",
    "    obj_funct_partial = partial(obj_funct, Q_program, pauli_list, n, m, device, shots)\n",
    "    initial_c=0.1\n",
    "\n",
    "target_update=2*np.pi*0.1\n",
    "SPSA_parameters=SPSA_calibration(obj_funct_partial,initial_theta,initial_c,target_update,25)\n",
    "print (\"SPSA parameters = \" + str(SPSA_parameters))\n",
    "\n",
    "output = SPSA_optimization(obj_funct_partial, initial_theta, SPSA_parameters, max_trials, save_step)\n",
    "\n",
    "plt.plot(np.arange(0, max_trials,save_step),output[2],label='C(theta_plus)')\n",
    "plt.plot(np.arange(0, max_trials,save_step),output[3],label='C(theta_minus)')\n",
    "plt.plot(np.arange(0, max_trials,save_step),np.ones(max_trials//save_step)*output[0], label='Final Optimized Cost')\n",
    "plt.plot(np.arange(0, max_trials,save_step),np.ones(max_trials//save_step)*exact, label='Exact Cost')\n",
    "plt.legend()\n",
    "plt.xlabel('Number of trials')\n",
    "plt.ylabel('Cost')"
   ]
  },
  {
   "cell_type": "code",
   "execution_count": 13,
   "metadata": {},
   "outputs": [
    {
     "data": {
      "image/png": "[encoded data removed]",
      "text/plain": [
       "<matplotlib.figure.Figure at 0x119996fd0>"
      ]
     },
     "metadata": {},
     "output_type": "display_data"
    }
   ],
   "source": [
    "shots = 5000\n",
    "circuits = [\"final_circuit\"]   \n",
    "Q_program.add_circuit(\"final_circuit\", trial_circuit_ry(n, m, output[1], entangler_map,None,True))\n",
    "Q_program.execute(circuits, device, shots)\n",
    "data = Q_program.get_counts(\"final_circuit\")\n",
    "plot_histogram(data,5)"
   ]
  },
  {
   "cell_type": "code",
   "execution_count": 21,
   "metadata": {
    "scrolled": true
   },
   "outputs": [
    {
     "name": "stdout",
     "output_type": "stream",
     "text": [
      "\n",
      "Best solution = [1, 0, 1, 0] cost = 4.0\n"
     ]
    },
    {
     "data": {
      "image/png": "[encoded data removed]",
      "text/plain": [
       "<matplotlib.figure.Figure at 0x11929fa90>"
      ]
     },
     "metadata": {},
     "output_type": "display_data"
    }
   ],
   "source": [
    "# Plotting the best solution from the quantum optimization\n",
    "\n",
    "max_value = max(data.values())  # maximum value\n",
    "max_keys = [k for k, v in data.items() if v == max_value] # getting all keys containing the `maximum`\n",
    "\n",
    "\n",
    "colors = []\n",
    "for i in range(n):\n",
    "    if max_keys[0][i] == '0':\n",
    "        colors.append('r')\n",
    "    else:\n",
    "        colors.append('b')\n",
    "nx.draw_networkx(G, node_color=colors, node_size=600, alpha = .8)\n",
    "print(\"\\nBest solution = \" +str(xbest)+ \" cost = \" + str(best_cost))    "
   ]
  },
  {
   "cell_type": "markdown",
   "metadata": {},
   "source": [
    "## Traveling Salesman for 4 cities (9 qubits)\n",
    "\n",
    "For the second problem we consider the traveling salesman problem on N=4 cities. In this case there are (N-1)! two different combinations."
   ]
  },
  {
   "cell_type": "code",
   "execution_count": 25,
   "metadata": {},
   "outputs": [
    {
     "data": {
      "image/png": "[encoded data removed]",
      "text/plain": [
       "<matplotlib.figure.Figure at 0x112ee8c50>"
      ]
     },
     "metadata": {},
     "output_type": "display_data"
    }
   ],
   "source": [
    "# Random choice of the cities/nodes \n",
    "N = 4\n",
    "xc = (np.random.rand(N)-0.5)*10\n",
    "yc = (np.random.rand(N)-0.5)*10\n",
    "\n",
    "plt.scatter(xc, yc, s=200)\n",
    "for i in range(len(xc)):\n",
    "    plt.annotate(i,(xc[i]+0.15,yc[i]),size=16,color='r')\n",
    "plt.show()"
   ]
  },
  {
   "cell_type": "code",
   "execution_count": 26,
   "metadata": {
    "collapsed": true
   },
   "outputs": [],
   "source": [
    "# Getting the distances \n",
    "w = np.zeros([N,N])\n",
    "for i in range(N):\n",
    "    for j in range(N):\n",
    "        w[i,j]= np.sqrt((xc[i]-xc[j])**2+(yc[i]-yc[j])**2)"
   ]
  },
  {
   "cell_type": "markdown",
   "metadata": {},
   "source": [
    "### Brute force approach\n",
    "\n",
    "The brute force approach consists in trying all the paths given by all the permutations of cities/nodes. The number of permutations of N cities/nodes is (N-1)! which gives for \n",
    "\n",
    "N = 4 # paths = 6\n",
    "\n",
    "N = 8 # paths = 5040\n",
    "\n",
    "N = 16 # paths = 1.3076744e+12"
   ]
  },
  {
   "cell_type": "code",
   "execution_count": 28,
   "metadata": {},
   "outputs": [
    {
     "name": "stdout",
     "output_type": "stream",
     "text": [
      "order = (0, 1, 2, 3) Distance = 28.7476810136\n",
      "order = (0, 1, 3, 2) Distance = 28.5739775569\n",
      "order = (0, 2, 1, 3) Distance = 32.0883815603\n",
      "order = (0, 2, 3, 1) Distance = 28.5739775569\n",
      "order = (0, 3, 1, 2) Distance = 32.0883815603\n",
      "order = (0, 3, 2, 1) Distance = 28.7476810136\n"
     ]
    },
    {
     "data": {
      "image/png": "[encoded data removed]",
      "text/plain": [
       "<matplotlib.figure.Figure at 0x112d5f710>"
      ]
     },
     "metadata": {},
     "output_type": "display_data"
    },
    {
     "name": "stdout",
     "output_type": "stream",
     "text": [
      "Best order from brute force = (0, 1, 3, 2) with total distance = 28.5739775569\n"
     ]
    }
   ],
   "source": [
    "a=list(permutations(range(1,N)))\n",
    "last_best_distance = 10000000\n",
    "for i in a:\n",
    "    distance = 0 \n",
    "    pre_j = 0\n",
    "    for j in i:\n",
    "        distance = distance + w[j,pre_j]\n",
    "        pre_j = j\n",
    "    distance = distance + w[0,pre_j]\n",
    "    order = (0,) + i\n",
    "    if distance < last_best_distance:\n",
    "        best_order = order\n",
    "        last_best_distance = distance\n",
    "    print(\"order = \" + str(order) + \" Distance = \" + str(distance))\n",
    "\n",
    "best_distance_brute = last_best_distance\n",
    "best_order_brute = best_order\n",
    "\n",
    "plt.scatter(xc, yc)\n",
    "xbest = np.array([xc[i] for i in best_order_brute])\n",
    "xbest=np.append(xbest,xbest[0])\n",
    "ybest = np.array([yc[i] for i in best_order_brute])\n",
    "ybest=np.append(ybest,ybest[0])\n",
    "plt.plot(xbest, ybest, 'b.-', ms = 40)\n",
    "plt.plot(xc[0], yc[0], 'r*', ms = 20)\n",
    "for i in range(len(xc)):\n",
    "    plt.annotate(i,(xc[i]+0.2,yc[i]),size=16,color='r')\n",
    "plt.show()\n",
    "print(\"Best order from brute force = \" + str(best_order_brute) + \" with total distance = \" + str(best_distance_brute))"
   ]
  },
  {
   "cell_type": "markdown",
   "metadata": {},
   "source": [
    "### Mapping to binary variables and simulated annealing "
   ]
  },
  {
   "cell_type": "markdown",
   "metadata": {},
   "source": [
    "Recall from the introduction that the cost function of the TSP mapped to binary variables is of the form:\n",
    "\n",
    "$$C(\\textbf{x})=\\sum_{i,j=1}^{N-1}w_{ij}\\sum_{p=1}^{N-1} x_{i,p}x_{j,p+1}+\\sum_{j=1}^{N-1}w_{0j} x_{j,1}+\\sum_{i=1}^{N-1}w_{i0} x_{i,N-1}+ A\\sum_{p=1}^{N-1}\\left(1- \\sum_{i=1}^{N-1} x_{i,p}\\right)^2+A\\sum_{i=1}^{N-1}\\left(1- \\sum_{p=1}^{N-1} x_{i,p}\\right)^2.$$"
   ]
  },
  {
   "cell_type": "code",
   "execution_count": 29,
   "metadata": {
    "code_folding": []
   },
   "outputs": [],
   "source": [
    "n=(N-1)**2 # number of qubits\n",
    "A = np.max(w)*100 # A parameter of cost function\n",
    "\n",
    "# takes the part of w matrix excluding the 0-th point, which is the starting one \n",
    "wsave = w[1:N,1:N]\n",
    "# nearest neighbor interaction matrix for the prospective cycle (p,p+1 interaction)\n",
    "shift = np.zeros([N-1,N-1])\n",
    "shift = la.toeplitz([0,1,0], [0,1,0])/2\n",
    "\n",
    "# the first and last point of the TSP problem are fixed by initial and final conditions \n",
    "firststep = np.zeros([N-1])\n",
    "firststep[0] = 1;\n",
    "laststep = np.zeros([N-1])\n",
    "laststep[N-2] = 1;\n",
    "\n",
    "# The binary variables that define a path live in a tensor product space of position and ordering indices\n",
    "\n",
    "# Q defines the interactions between variables \n",
    "Q = np.kron(shift,wsave) + np.kron(A*np.ones((N-1, N-1)), np.identity(N-1)) + np.kron(np.identity(N-1),A*np.ones((N-1, N-1)))\n",
    "# G defines the contribution from the individual variables \n",
    "G = np.kron(firststep,w[0,1:N]) + np.kron(laststep,w[1:N,0]) - 4*A*np.kron(np.ones(N-1),np.ones(N-1))\n",
    "# M is the constant offset \n",
    "M = 2*A*(N-1)\n",
    "\n",
    "# Evaluates the cost distance from a binary representation of a path \n",
    "fun = lambda x: np.dot(np.around(x),np.dot(Q,np.around(x)))+np.dot(G,np.around(x))+M\n",
    "\n",
    "def get_order_tsp(x):\n",
    "    # This function takes in a TSP state, an array of (N-1)^2 binary variables, and returns the \n",
    "    # corresponding travelling path associated to it \n",
    "    order = [0]\n",
    "    for p in range(N-1):\n",
    "        for j in range(N-1):\n",
    "            if x[(N-1)*j+p]==1:\n",
    "                order.append(j+1)\n",
    "    return order\n",
    "\n",
    "def get_x_tsp(order):\n",
    "    # This function takes in a travelling path and returns a TSP state, in the form of an array of (N-1)^2 \n",
    "    # binary variables \n",
    "    x = np.zeros((len(order)-1)**2)\n",
    "    for j in range(1,len(order)):\n",
    "        p=order[j]\n",
    "        x[(N-1)*(j-1)+(p-1)]=1\n",
    "    return x\n"
   ]
  },
  {
   "cell_type": "code",
   "execution_count": 44,
   "metadata": {},
   "outputs": [
    {
     "name": "stdout",
     "output_type": "stream",
     "text": [
      "Best path from brute force mapped to binary variables: \n",
      "\n",
      "[ 1.  0.  0.  0.  0.  1.  0.  1.  0.]\n",
      "\n",
      "Check with 10^5 random solutions: the brute-force solution mapped to binary variables is correct.\n",
      "\n",
      "Shortest path evaluated with binary variables: \n",
      "28.5739775569\n"
     ]
    }
   ],
   "source": [
    "# Checking if the best results from the brute force approach are correct for the mapped system of binary variables\n",
    "\n",
    "# Conversion from a path to a binary variable array\n",
    "xopt_brute =get_x_tsp(best_order_brute)\n",
    "\n",
    "print('Best path from brute force mapped to binary variables: \\n')\n",
    "print(xopt)\n",
    "\n",
    "flag=False\n",
    "for i in range(100000):\n",
    "    rd =  np.random.randint(2, size=n)\n",
    "    if fun(rd) < (best_distance_brute-0.0001):\n",
    "        print('\\n A random solution is better than the brute-force one. The path measures')\n",
    "        print(fun(rd))\n",
    "        flag=True\n",
    "\n",
    "if flag==False:\n",
    "    print('\\nCheck with 10^5 random solutions: the brute-force solution mapped to binary variables is correct.\\n')\n",
    "    \n",
    "print('Shortest path evaluated with binary variables: ')\n",
    "print(fun(xopt_brute))"
   ]
  },
  {
   "cell_type": "code",
   "execution_count": 32,
   "metadata": {},
   "outputs": [
    {
     "name": "stdout",
     "output_type": "stream",
     "text": [
      "distance = 28.5739775569 x_solution = [1 0 0 0 0 1 0 1 0], final temperature= 0.00045173345977048254\n"
     ]
    },
    {
     "data": {
      "image/png": "[encoded data removed]",
      "text/plain": [
       "<matplotlib.figure.Figure at 0x112d358d0>"
      ]
     },
     "metadata": {},
     "output_type": "display_data"
    },
    {
     "name": "stdout",
     "output_type": "stream",
     "text": [
      "Best order from simulated annealing = [0, 1, 3, 2] with total distance = 28.5739775569\n"
     ]
    }
   ],
   "source": [
    "# Optimization with simulated annealing \n",
    "\n",
    "initial_x = np.random.randint(2, size=n)\n",
    "\n",
    "cost = fun(initial_x)\n",
    "x = np.copy(initial_x)\n",
    "alpha = 0.999\n",
    "temp = 10\n",
    "for j in range(10000):\n",
    "    \n",
    "    # pick a random index and flip the bit associated to it  \n",
    "    flip=np.random.randint(len(x))\n",
    "    new_x = np.copy(x)\n",
    "    new_x[flip]=(x[flip]+1)%2\n",
    "    \n",
    "    # compute cost function with flipped bit \n",
    "    new_cost=fun(new_x)\n",
    "    if np.exp(-(new_cost-cost)/temp) > np.random.rand():\n",
    "        x = np.copy(new_x)\n",
    "        cost = new_cost\n",
    "    temp= temp*alpha\n",
    "print(\"distance = \" + str(cost) + \" x_solution = \" + str(x) + \", final temperature= \" + str(temp))\n",
    "\n",
    "best_order_sim_ann=get_order_tsp(x)\n",
    "\n",
    "plt.scatter(xc, yc)\n",
    "xbest = np.array([xc[i] for i in best_order_sim_ann])\n",
    "xbest=np.append(xbest,xbest[0])\n",
    "ybest = np.array([yc[i] for i in best_order_sim_ann])\n",
    "ybest=np.append(ybest,ybest[0])\n",
    "plt.plot(xbest, ybest, 'b.-', ms = 40)\n",
    "plt.plot(xc[0], yc[0], 'r*', ms = 20)\n",
    "for i in range(len(xc)):\n",
    "    plt.annotate(i,(xc[i]+0.15,yc[i]),size=16,color='r')\n",
    "plt.show()\n",
    "print(\"Best order from simulated annealing = \" + str(best_order_sim_ann) + \" with total distance = \" + str(cost))"
   ]
  },
  {
   "cell_type": "markdown",
   "metadata": {},
   "source": [
    "### Mapping to Z variables and simulation on a quantum computer"
   ]
  },
  {
   "cell_type": "code",
   "execution_count": 33,
   "metadata": {},
   "outputs": [],
   "source": [
    "# Defining the new matrices in the Z basis \n",
    "\n",
    "Iv=np.ones((N-1)**2)\n",
    "Qz = (Q/4)\n",
    "Gz =( -G/2-np.dot(Iv,Q/4)-np.dot(Q/4,Iv))\n",
    "Mz = (M+np.dot(G/2,Iv)+np.dot(Iv,np.dot(Q/4,Iv)))\n",
    "\n",
    "Mz = Mz + np.trace(Qz)\n",
    "Qz = Qz - np.diag(np.diag(Qz))\n",
    "\n",
    "# Recall the change of variables is \n",
    "# x = (1-z)/2\n",
    "# z = -2x+1\n",
    "z= -(2*xopt)+Iv\n",
    "\n",
    "for i in range(1000):\n",
    "    rd =  1-2*np.random.randint(2, size=n)\n",
    "    if np.dot(rd,np.dot(Qz,rd))+np.dot(Gz,rd)+Mz < (best_distance_brute-0.0001):\n",
    "        print(np.dot(rd,np.dot(Qz,rd))+np.dot(Gz,rd)+Mz)"
   ]
  },
  {
   "cell_type": "code",
   "execution_count": 34,
   "metadata": {},
   "outputs": [],
   "source": [
    "# Getting the Hamiltonian in the form of a list of Pauli terms \n",
    "\n",
    "pauli_list = []\n",
    "for i in range(n):\n",
    "    if Gz[i] != 0:\n",
    "        wp = np.zeros(n)\n",
    "        vp = np.zeros(n)\n",
    "        vp[i] = 1\n",
    "        pauli_list.append((Gz[i],Pauli(vp,wp)))\n",
    "for i in range(n):\n",
    "    for j in range(i):\n",
    "        if Qz[i,j] != 0:\n",
    "            wp = np.zeros(n)\n",
    "            vp = np.zeros(n)\n",
    "            vp[i] = 1\n",
    "            vp[j] = 1\n",
    "            pauli_list.append((2*Qz[i,j],Pauli(vp,wp)))\n",
    "            \n",
    "pauli_list.append((Mz,Pauli(np.zeros(n),np.zeros(n))))"
   ]
  },
  {
   "cell_type": "code",
   "execution_count": 35,
   "metadata": {},
   "outputs": [
    {
     "name": "stdout",
     "output_type": "stream",
     "text": [
      "28.5739775569\n"
     ]
    }
   ],
   "source": [
    "# Making the Hamiltonian as a full matrix and find its lowest eigenvalue\n",
    "\n",
    "H = make_Hamiltonian(pauli_list)\n",
    "we, v = la.eigh(H, eigvals=(0,0))\n",
    "exact = we[0]\n",
    "print(exact)"
   ]
  },
  {
   "cell_type": "code",
   "execution_count": 36,
   "metadata": {},
   "outputs": [
    {
     "data": {
      "text/plain": [
       "True"
      ]
     },
     "execution_count": 36,
     "metadata": {},
     "output_type": "execute_result"
    }
   ],
   "source": [
    "#Setting up a quantum program and connecting to the Quantum Experience API\n",
    "Q_program = QuantumProgram()\n",
    "# set the APIToken and API url\n",
    "Q_program.set_api(Qconfig.APItoken, Qconfig.config[\"url\"])"
   ]
  },
  {
   "cell_type": "code",
   "execution_count": 48,
   "metadata": {},
   "outputs": [
    {
     "name": "stdout",
     "output_type": "stream",
     "text": [
      "calibration step # 0 of 25\n",
      "calibration step # 5 of 25\n",
      "calibration step # 10 of 25\n",
      "calibration step # 15 of 25\n",
      "calibration step # 20 of 25\n",
      "calibrated SPSA_parameters[0] is 0.000229771614478\n",
      "SPSA parameters = [  2.29771614e-04   1.00000000e-02   6.02000000e-01   1.01000000e-01\n",
      "   0.00000000e+00]\n",
      "objective function at theta+ for step # 0\n",
      "6550.69225642\n",
      "objective function at theta- for step # 0\n",
      "6569.74522702\n",
      "objective function at theta+ for step # 20\n",
      "2706.73673655\n",
      "objective function at theta- for step # 20\n",
      "2685.60500826\n",
      "objective function at theta+ for step # 40\n",
      "1962.73889175\n",
      "objective function at theta- for step # 40\n",
      "1928.83523259\n",
      "objective function at theta+ for step # 60\n",
      "1555.61312107\n",
      "objective function at theta- for step # 60\n",
      "1546.49935922\n",
      "objective function at theta+ for step # 80\n",
      "800.717449089\n",
      "objective function at theta- for step # 80\n",
      "791.695547375\n",
      "objective function at theta+ for step # 100\n",
      "623.6638888\n",
      "objective function at theta- for step # 100\n",
      "620.653493889\n",
      "objective function at theta+ for step # 120\n",
      "430.127210726\n",
      "objective function at theta- for step # 120\n",
      "401.00778109\n",
      "objective function at theta+ for step # 140\n",
      "280.181217977\n",
      "objective function at theta- for step # 140\n",
      "285.14327917\n",
      "objective function at theta+ for step # 160\n",
      "241.702983659\n",
      "objective function at theta- for step # 160\n",
      "244.676971038\n",
      "objective function at theta+ for step # 180\n",
      "200.615186356\n",
      "objective function at theta- for step # 180\n",
      "207.877100046\n",
      "objective function at theta+ for step # 200\n",
      "170.131417325\n",
      "objective function at theta- for step # 200\n",
      "168.884583895\n",
      "objective function at theta+ for step # 220\n",
      "131.888699993\n",
      "objective function at theta- for step # 220\n",
      "137.843037309\n",
      "objective function at theta+ for step # 240\n",
      "105.1434214\n",
      "objective function at theta- for step # 240\n",
      "111.207946708\n",
      "objective function at theta+ for step # 260\n",
      "87.3880480148\n",
      "objective function at theta- for step # 260\n",
      "89.291671024\n",
      "objective function at theta+ for step # 280\n",
      "79.1535877163\n",
      "objective function at theta- for step # 280\n",
      "74.6767012178\n",
      "objective function at theta+ for step # 300\n",
      "71.396432994\n",
      "objective function at theta- for step # 300\n",
      "71.3130632608\n",
      "objective function at theta+ for step # 320\n",
      "63.2768246283\n",
      "objective function at theta- for step # 320\n",
      "62.7738238418\n",
      "objective function at theta+ for step # 340\n",
      "56.78052267\n",
      "objective function at theta- for step # 340\n",
      "55.1844817988\n",
      "objective function at theta+ for step # 360\n",
      "47.9653911959\n",
      "objective function at theta- for step # 360\n",
      "53.0548407548\n",
      "objective function at theta+ for step # 380\n",
      "47.499566962\n",
      "objective function at theta- for step # 380\n",
      "46.4100455283\n",
      "Final objective function is: 44.6417895819\n"
     ]
    },
    {
     "data": {
      "text/plain": [
       "<matplotlib.text.Text at 0x119be67b8>"
      ]
     },
     "execution_count": 48,
     "metadata": {},
     "output_type": "execute_result"
    },
    {
     "data": {
      "image/png": "[encoded data removed]",
      "text/plain": [
       "<matplotlib.figure.Figure at 0x112f05a20>"
      ]
     },
     "metadata": {},
     "output_type": "display_data"
    }
   ],
   "source": [
    "# Optimization of the TSP using a quantum computer \n",
    "\n",
    "# Quantum circuit parameters\n",
    "\n",
    "# the entangler step is made of two-qubit gates between a control and target qubit, control: [target]\n",
    "entangler_map = {0: [1], 1: [2], 2: [3], 3: [4], 4: [5], 5: [6], 6: [7], 7: [8]}\n",
    "# the backend used for the quantum computation\n",
    "device = 'local_qasm_simulator' \n",
    "# Total number of trial steps used in the optimization\n",
    "max_trials = 400; \n",
    "n = 9 # the number of qubits \n",
    "# Depth of the quantum circuit that prepares the trial state\n",
    "m = 3     \n",
    "# initial starting point for the control angles\n",
    "initial_theta=np.random.randn(m*n)   \n",
    "# number of shots for each evaluation of the cost function (shots=1 corresponds to perfect evaluation, \n",
    "# only available on the simulator)\n",
    "shots = 1\n",
    "# choose to plot the results of the optimizations every save_steps \n",
    "save_step = 20\n",
    "\n",
    "\n",
    "\n",
    "\"\"\" ##########################      RUN OPTIMIZATION      #######################\"\"\"\n",
    "\n",
    "if shots == 1:\n",
    "    obj_funct_partial = partial(obj_funct, Q_program, H, n, m, device, shots)\n",
    "    initial_c=0.01\n",
    "else:\n",
    "    obj_funct_partial = partial(obj_funct, Q_program, pauli_list, n, m, device, shots)\n",
    "    initial_c=0.1\n",
    "\n",
    "\n",
    "target_update=2*np.pi*0.1\n",
    "SPSA_parameters=SPSA_calibration(obj_funct_partial,initial_theta,initial_c,target_update,25)\n",
    "print (\"SPSA parameters = \" + str(SPSA_parameters))    \n",
    "    \n",
    "best_distance_quantum, best_theta, cost_plus, cost_minus,_,_ = SPSA_optimization(obj_funct_partial, initial_theta, SPSA_parameters, max_trials, save_step)\n",
    "\n",
    "\n",
    "\"\"\" ##########################       PLOT RESULTS         #######################\"\"\"\n",
    "\n",
    "plt.plot(np.arange(0, max_trials,save_step),cost_plus,label='C(theta_plus)')\n",
    "plt.plot(np.arange(0, max_trials,save_step),cost_minus,label='C(theta_minus)')\n",
    "plt.plot(np.arange(0, max_trials,save_step),(np.ones(max_trials//save_step)*best_distance_quantum), label='Final Cost')\n",
    "plt.plot(np.arange(0, max_trials,save_step),np.ones(max_trials//save_step)*exact, label='Exact Cost')\n",
    "plt.legend()\n",
    "plt.xlabel('Number of trials')\n",
    "plt.ylabel('Cost')"
   ]
  },
  {
   "cell_type": "code",
   "execution_count": 49,
   "metadata": {},
   "outputs": [
    {
     "data": {
      "image/png": "[encoded data removed]",
      "text/plain": [
       "<matplotlib.figure.Figure at 0x119f517f0>"
      ]
     },
     "metadata": {},
     "output_type": "display_data"
    }
   ],
   "source": [
    "# Sampling from the quantum state generated with the optimal angles from the quantum optimization\n",
    "\n",
    "shots = 100\n",
    "circuits = [\"final_circuit\"]   \n",
    "Q_program.add_circuit(\"final_circuit\", trial_circuit_ry(n, m, best_theta, entangler_map,None,True))\n",
    "Q_program.execute(circuits, device, shots)\n",
    "data = Q_program.get_counts(\"final_circuit\")\n",
    "plot_histogram(data,5)"
   ]
  },
  {
   "cell_type": "code",
   "execution_count": 68,
   "metadata": {},
   "outputs": [
    {
     "name": "stdout",
     "output_type": "stream",
     "text": [
      "[ 1.  0.  0.  0.  0.  1.  0.  1.  0.]\n",
      "28.5739775569\n"
     ]
    }
   ],
   "source": [
    "max_value = max(data.values())  # maximum value\n",
    "max_keys = [k for k, v in data.items() if v == max_value] # getting all keys containing the `maximum`\n",
    "\n",
    "x_quantum=np.zeros(n)\n",
    "for bit in range(n):\n",
    "    if max_keys[0][bit]=='1':\n",
    "        x_quantum[bit]=1\n",
    "print(x_quantum)\n",
    "    \n",
    "quantum_order = get_order_tsp(list(map(int, x_quantum)))\n",
    "print(fun(x_quantum))"
   ]
  },
  {
   "cell_type": "code",
   "execution_count": 66,
   "metadata": {},
   "outputs": [
    {
     "data": {
      "image/png": "[encoded data removed]",
      "text/plain": [
       "<matplotlib.figure.Figure at 0x11496c400>"
      ]
     },
     "metadata": {},
     "output_type": "display_data"
    },
    {
     "name": "stdout",
     "output_type": "stream",
     "text": [
      "Best order from quantum optimization is = [0, 1, 3, 2] with total distance = 44.6417895819\n"
     ]
    }
   ],
   "source": [
    "plt.scatter(xc, yc)\n",
    "xbest = np.array([xc[i] for i in quantum_order])\n",
    "xbest = np.append(xbest,xbest[0])\n",
    "ybest = np.array([yc[i] for i in quantum_order])\n",
    "ybest = np.append(ybest,ybest[0])\n",
    "plt.plot(xbest, ybest, 'b.-', ms = 40)\n",
    "plt.plot(xc[0], yc[0], 'r*', ms = 20)\n",
    "for i in range(len(xc)):\n",
    "    plt.annotate(i,(xc[i]+0.15,yc[i]),size=14,color='r')\n",
    "plt.show()\n",
    "print(\"Best order from quantum optimization is = \" + str(quantum_order) + \" with total distance = \" + str(best_distance_quantum))"
   ]
  }
 ],
 "metadata": {
  "anaconda-cloud": {},
  "kernelspec": {
   "display_name": "Python 3",
   "language": "python",
   "name": "python3"
  },
  "language_info": {
   "codemirror_mode": {
    "name": "ipython",
    "version": 3
   },
   "file_extension": ".py",
   "mimetype": "text/x-python",
   "name": "python",
   "nbconvert_exporter": "python",
   "pygments_lexer": "ipython3",
   "version": "3.6.1"
  }
 },
 "nbformat": 4,
 "nbformat_minor": 1
}
