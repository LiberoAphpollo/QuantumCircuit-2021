{
 "cells": [
  {
   "cell_type": "markdown",
   "metadata": {},
   "source": [
    "<img src=\"../images/QISKit-c.gif\" alt=\"Note: In order for images to show up in this jupyter notebook you need to select File => Trusted Notebook\" width=\"250 px\" align=\"left\">"
   ]
  },
  {
   "cell_type": "markdown",
   "metadata": {},
   "source": [
    "## _*VQE algorithm: application to optimization problems*_ \n",
    "\n",
    "The latest version of this notebook is available on https://github.com/IBM/qiskit-sdk-py/tree/master/scripts.\n",
    "\n",
    "For more information about how to use the IBM Q experience (QX), consult the [IBM Q experience tutorials](https://quantumexperience.ng.bluemix.net/qstage/#/tutorial?sectionId=c59b3710b928891a1420190148a72cce&pageIndex=0), or check out the [community](https://quantumexperience.ng.bluemix.net/qstage/#/community).\n",
    "\n",
    "***\n",
    "### Contributors\n",
    "Jay Gambetta, Antonio Mezzacapo, Ramis Movassagh, Kristan Temme"
   ]
  },
  {
   "cell_type": "markdown",
   "metadata": {},
   "source": [
    "## Introduction\n",
    "\n",
    "Many problems in finance and business are optimization problems. \n",
    "\n",
    "Optimization or combinatorial optimization means searching for an optimal solution in a finite or countably infinite set of potential solutions. Optimality is defined with respect to some criterion function, which is to be minimized or maximized. This is typically called the cost function or objective function. \n",
    "\n",
    "**Types of optimization problems**\n",
    "\n",
    "Minimization: cost, distance, length of a traversal, weight, processing time, material, energy consumption, number of objects\n",
    "\n",
    "Maximization: profit, value, output, return, yield, utility, efficiency, capacity, number of objects. \n",
    "\n",
    "The two problems that are consider in this notebook are:\n",
    "\n",
    "\n",
    "### MaxCut:\n",
    "MaxCut is an NP-Complete problem. MaxCut has applications in clustering, network science, and statistical physics. For example consider the problem of many different people (nodes) and how they can influence (weight) others, and you want to answer the question what is the best marketing stratety to maximize revenue by offering for free the product to one subset of buyers, while determining how to approach the remaining buyers with a particular price.(SHOULD WE ADD THAT APPROXIMATIONS ARE ALSO HARD). \n",
    "\n",
    "Consider a $n$-node undirectional graph *G(V, E)* where *|V| = n* with edge weights $w_{ij}>0$ for $(i, j)\\in E$. A cut is defined as the partitioning into two sets. We define the cost as the sum of weights of edges crossing the cut. By assigning $x_i=0$ or $x_i=1$ to each node $i$ depding on its location to the cut the maximum cut is a cut that maximizes\n",
    "\n",
    "$$C(\\textbf{x}) = \\sum_{i,j} w_{ij} x_i (1-x_j).$$\n",
    "\n",
    "An extension of the MaxCut problem is to let the nodes themselves carry weights, which can be regarded as the nodes having a preference on their location. Doing this the objective function becomes \n",
    "\n",
    "$$C(\\textbf{x}) = \\sum_i w_i x_i + \\sum_{i,j} w_{ij} x_i (1-x_j).$$\n",
    " \n",
    "Mapping this to a Quantum Hamiltonian is trival $x_i\\rightarrow (1-Z_i)/2$ where $Z_i$ is the Pauli Z operator that has eigenvalues $\\pm 1$. Doing this we find that \n",
    "\n",
    "$$C(\\textbf{Z}) = \\sum_i w_i (1-Z_i)/2 + \\sum_{i<j} \\frac{w_{ij}}{2} (1-Z_iZ_j)= \\frac{-1}{2}\\left(\\sum_i w_i Z_i + \\sum_{i<j} w_{ij} Z_iZ_j\\right)+\\mathrm{const},$$\n",
    "\n",
    "where const = $\\sum_i w_i/2 + \\sum_{i<j}w_{ij}/2$. That is the MaxCut is equivalent to minimizing the Ising Hamiltonian \n",
    "\n",
    "$$ H = \\sum_i w_i Z_i + \\sum_{i<j} w_{ij} Z_iZ_j.$$\n",
    "\n",
    "### Traveling Salesman Problem:\n",
    "\n",
    "In addition to being a notorious NP-complete problem that has drawn the attention of computer scientists and mathematician for over two centuries, as the name suggests, the Traveling Salesman Problem (TSP) has important bearings on finance and marketing. Colloquially, the traveling salesman is one who goes from city to city to sell a merchandise. His/her objective (TSP)  is to find the shortest path that would enable them to visit all the cities and return to their hometown (i.e., the city where he started). This way he/she gets to maximize their potential sales in the least amount of time. \n",
    " \n",
    "The problem derives its importance from its \"hardness\" and ubiquitous equivalence to other relevant combinatorial optimization problems that arise in practice.\n",
    " \n",
    "The mathematical formulation with some early analysis was proposed by W.R. Hamilton in early 19th century. Mathematically the problem is best abstracted in terms of graphs. The TSP on the nodes of a graph asks for the shortest Hamiltonian cycle that can be taken through each of the nodes. A *Hamilton cycle* is a cycle that uses every vertex of a graph once. The general solution is unknown and finding an efficient solution (e.g., a polynomial time algorithm) is expected to not exists.\n",
    "\n",
    "Find the shortest Hamiltonian cycle in a given *complete graph* (a graph with an edge between every two vertices) $G=(V,E)$ with $n=|V|$ vertices and distances, $w_{ij}$ (distance from vertex $i$ to vertex $j$). The decission variable $x_{ij}$ = 1 if the cycle goes along arc $i\\rightarrow j$ or 0 otherwise.\n",
    "\n",
    "The brute force approach is \n",
    "\n",
    "What we have just done is the Brute-Force Algorithm:\n",
    "  Make a list of all possible Hamilton circuits\n",
    "  Calculate the weight of each Hamilton circuit by adding up the weights of its edges.\n",
    "  Choose the Hamilton circuit with the smallest total weight.\n",
    " \n",
    " \n",
    "  The Brute-Force Algorithm is optimal: it is guaranteed to find a solution.\n",
    "  OTOH, the algorithm is inefficient: it has to look at all (N − 1)! Hamilton circuits, and this can take a long time.\n",
    " \n",
    "### Approximate Universal Quantum Computing for Optimization Problems\n",
    "\n",
    "Recently there has been interest in investgating approximate algorithims for optimization [ADD REFS]. Here we show a slight variation to them which we have been looking at under the general concept of approximate quantum computing.  In general we dont expect this to have a exponential speed up, but due to the nature and importance of these problems it is worth investigating heuristic approaches on a quantum computer which could speed up some instances. The hope is that that due to the large space of a quantum computer we can explore the problem by exploiting entanglement to trade exponential calls for quantum depth. \n",
    "\n",
    "The Algorithm works as follows:\n",
    "1. Choose the $w_i$ and $w_{ij}$ in Ising problem (can have higher powers of Z if needed).\n",
    "2. Choose the depth of the quantum circuit (this could be done adaptively).\n",
    "3. Choose a set of controls $\\theta$ and make a trial function $|\\psi(\\theta)\\rangle$.\n",
    "4. Evaluate $C(\\theta) = \\langle\\psi~|H|~\\psi\\rangle = \\sum_i w_i \\langle\\psi~|Z_i|~\\psi\\rangle+ \\sum_{i<j} w_{ij} \\langle\\psi~|Z_iZ_j|~\\psi\\rangle$ by sampling the outcome of the circuit and adding the expectation values together.\n",
    "5. Use a classical optimizer to choose a new set of controls.\n",
    "6. Continue until the $C(\\theta)$ has reach a minimium to determine $\\theta^*$\n",
    "7. Use $\\theta^*$ to generate samples from the distribution $|\\langle z~|\\psi\\rangle|^2$ to obtain the answer.\n",
    "    \n",
    "\n",
    "Not some benifits on this over making this is real hardware is we are not limited to the connectivity of the device and it is trival to map any optimization problems to a virtual Hamiltonain which we sample. Getting higher orders such as $Z_iZ_jZ_k$ is simple which in real hardware is generally possible. The noise is mainly due to the gates and if the depth is small enough we can perform this algorithm with high fidelity.\n",
    "\n",
    "It is our belief the difficult of finding good heuristic algorithms will come down ot the trial funcitons. Do we choose a trial function that has entanglement in a way that best aligns with the problem (as indicated in [REF])? or do we make the amount of entanglement a variable [REF]? These questions are beyond our goals here and we will consider only the simplie trial functions \n",
    "\n",
    "$$|\\psi(\\theta)\\rangle  = [U_\\mathrm{single}(\\theta) U_\\mathrm{entangler}]^m |+\\rangle$$\n",
    "\n",
    "where $U_\\mathrm{entangler}$ is a function of cPhase gates (fully entangling), and $U_\\mathrm{single}(\\theta) = Y(\\theta)^{\\otimes n}$, where $n$ is the number of qubits and $m$ is the depth of the quantum circuit. The motivation for this choice is that for these classical problems this choice allows us to search over the space of states that have only real superpostions and dont have to worry about refocusing out all the complex phases but still can exploit the entanglment to search for solutions potential faster (less calls to the objective function)."
   ]
  },
  {
   "cell_type": "code",
   "execution_count": 2,
   "metadata": {
    "collapsed": false
   },
   "outputs": [],
   "source": [
    "# Checking the version of PYTHON; we only support 3 at the moment\n",
    "import sys\n",
    "if sys.version_info < (3,0):\n",
    "    raise Exception(\"Please use Python version 3 or greater.\")\n",
    "    \n",
    "# useful additional packages \n",
    "import matplotlib.pyplot as plt\n",
    "%matplotlib inline\n",
    "import numpy as np\n",
    "from scipy import linalg as la\n",
    "\n",
    "import sys\n",
    "sys.path.append(\"../../\")\n",
    "# importing the QISKit\n",
    "from qiskit import QuantumCircuit, QuantumProgram\n",
    "import Qconfig\n",
    "\n",
    "# import basic plot tools\n",
    "from qiskit.basicplotter import plot_histogram\n",
    "\n",
    "# import optimization tools\n",
    "from tools.optimizationtools import trial_circuit_ryrz,trial_circuit_ry, SPSA_optimization\n",
    "from tools.optimizationtools import Energy_Estimate, Measure_pauli_z, Hamiltonian_from_file, make_Hamiltonian"
   ]
  },
  {
   "cell_type": "markdown",
   "metadata": {},
   "source": [
    "## MaxCut on 4 Qubits\n",
    "\n",
    "    Graph:   \n",
    "             X---X \n",
    "             | \\ |\n",
    "             X---X\n",
    "           \n",
    "The ground state is degenerate and is either $|0110\\rangle$ or $|1001\\rangle$."
   ]
  },
  {
   "cell_type": "code",
   "execution_count": null,
   "metadata": {
    "collapsed": true
   },
   "outputs": [],
   "source": [
    "Q_program = QuantumProgram()\n",
    "Q_program.set_api(Qconfig.APItoken,Qconfig.config[\"url\"])"
   ]
  },
  {
   "cell_type": "code",
   "execution_count": null,
   "metadata": {
    "collapsed": true
   },
   "outputs": [],
   "source": [
    "def evaluate_objective(Q_program,n,m,device,shots,theta,w1,w2):\n",
    "    cost=0\n",
    "    # STACK QUANTUM CIRCUITS ASSOCIATED TO EACH PAULI TERM AND EXECUTE THEM \n",
    "    if shots!=1:\n",
    "        \n",
    "        circuits=[]\n",
    "        trial_circuit=[]\n",
    "        \n",
    "        for i in range(len(ham_array)//2):     \n",
    "\n",
    "            trial_circuit.append(trial_circuit_ryrz(n,m,theta,entangler_map,ham_array[i*2],True))\n",
    "            circuits.append(\"trial_circuit_label\"+str(i))\n",
    "            Q_program.add_circuit(circuits[i],trial_circuit[i])\n",
    "\n",
    "\n",
    "        # EXECUTE THE CIRCUITS STACKED \n",
    "\n",
    "        Q_program.execute(circuits,device,shots)\n",
    "    \n",
    "    \n",
    "    \n",
    "        pauli_list=Hamiltonian_from_file(file_name)\n",
    "\n",
    "        for i in range(len(ham_array)//2):#loop over Pauli terms\n",
    "\n",
    "            pauli_avg=Energy_Estimate(Q_program.get_counts(\"trial_circuit_label\"+str(i)),pauli_list[i])\n",
    "            avg_energy+=pauli_avg\n",
    "    \n",
    "    else:\n",
    "    \n",
    "        circuit=['circuit']\n",
    "        Q_program.add_circuit(circuit[0],trial_circuit_ry(n,m,theta,entangler_map,None,False))\n",
    "        Q_program.execute(circuit,device,shots)\n",
    "        avg_energy=(np.inner(np.conjugate(Q_program.get_data(circuit[0])['quantum_state']),np.dot(H,Q_program.get_data(circuit[0])['quantum_state']))).real\n",
    "        \n",
    "    \n",
    "    return avg_energy,std_energy"
   ]
  },
  {
   "cell_type": "code",
   "execution_count": null,
   "metadata": {
    "collapsed": true
   },
   "outputs": [],
   "source": [
    "n=2\n",
    "m=\n",
    "device='local_qasm_simulator'\n",
    "SPSA_params=[1,.1,.602,.101,0]\n",
    "theta=np.zeros(2*n*m)\n",
    "entangler_map={0: [1]} # the map of two-qubit gates with control at key and target at values\n",
    "shots=1000\n",
    "max_trials=25\n",
    "\n",
    "#Exact Energy\n",
    "pauli_list=Hamiltonian_from_file('H2/H2Equilibrium.txt')\n",
    "eigen=la.eig(make_Hamiltonian(pauli_list))\n",
    "exact=np.amin(eigen[0])\n",
    "        \n",
    "# Optimization\n",
    "eval_hamiltonian_partial=partial(eval_hamiltonian,n,m,'H2/H2Equilibrium.txt',device,shots)\n",
    "output=SPSA_optimization(eval_hamiltonian_partial,theta,SPSA_params,max_trials,1);\n",
    "plt.plot(output[2],label='E(theta_plus)')\n",
    "plt.plot(output[3],label='E(theta_minus)')\n",
    "plt.plot(np.ones(max_trials)*output[0],label='Final Energy')\n",
    "plt.plot(np.ones(max_trials)*exact,label='Exact Energy')\n",
    "plt.legend()"
   ]
  },
  {
   "cell_type": "code",
   "execution_count": null,
   "metadata": {
    "collapsed": false
   },
   "outputs": [],
   "source": [
    "# cost function H = alpha_i z_i + beta_ij z_i z_j\n",
    "n =4\n",
    "alpha = np.zeros(n)\n",
    "beta = np.zeros((n, n))\n",
    "beta[0, 1] = 1\n",
    "beta[0, 2] = 1\n",
    "beta[1, 2] = 1\n",
    "beta[1, 3] = 1\n",
    "beta[2, 3] = 1"
   ]
  },
  {
   "cell_type": "code",
   "execution_count": null,
   "metadata": {
    "collapsed": true
   },
   "outputs": [],
   "source": [
    "#Setting up a quantum program and connecting to the Quantum Experience API\n",
    "Q_program = QuantumProgram()\n",
    "# set the APIToken and API url\n",
    "Q_program.set_api(Qconfig.APItoken, Qconfig.config[\"url\"])"
   ]
  },
  {
   "cell_type": "code",
   "execution_count": null,
   "metadata": {
    "collapsed": false
   },
   "outputs": [],
   "source": [
    "#Making the Hamiltonian in its full form and getting the lowest eigenvalue and egienvector\n",
    "H = make_Hamiltonian(n,alpha,beta)\n",
    "w, v = la.eigh(H, eigvals=(0, 1))\n",
    "print(w)\n",
    "v"
   ]
  },
  {
   "cell_type": "code",
   "execution_count": null,
   "metadata": {
    "collapsed": false
   },
   "outputs": [],
   "source": [
    "# Quantum circuit parameters\n",
    "device = 'local_qasm_simulator' # the device to run on\n",
    "shots = 8192    # the number of shots in the experiment. \n",
    "entangler_map = {0: [1], 1: [2], 2: [3]} # the map of two-qubit gates with control at key and target at values\n",
    "\n",
    "# Numerical parameters \n",
    "SPSA_parameters = np.array([.3,0.602,0,.1,0.101]) #[a, alpha, A, c, gamma]\n",
    "max_trials = 100;\n",
    "max_depth = 3\n",
    "\n",
    "cost, data_save, cost_save = SPSA_Minimization(Q_program, alpha, beta, n, device, shots, entangler_map, SPSA_parameters, max_trials, max_depth)\n",
    "\n",
    "print('m = 1 ' + str(cost[0]) + ' m = 2 ' + str(cost[1]) + 'm = 3 ' + str(cost[2]))"
   ]
  },
  {
   "cell_type": "code",
   "execution_count": null,
   "metadata": {
    "collapsed": false
   },
   "outputs": [],
   "source": [
    "# plotting data\n",
    "plt.plot(range(max_trials), cost_save[0])\n",
    "plot_histogram(data_save[0])\n",
    "\n",
    "plt.plot(range(max_trials), cost_save[1])\n",
    "plot_histogram(data_save[1])\n",
    "\n",
    "plt.plot(range(max_trials), cost_save[2])\n",
    "plot_histogram(data_save[2])"
   ]
  },
  {
   "cell_type": "markdown",
   "metadata": {},
   "source": [
    "## Four Qubits  (fast) <a id='sectionmaxcutfourfast'></a>\n",
    "\n",
    "    Graph:   \n",
    "             X---X \n",
    "             | \\ |\n",
    "             X---X\n",
    "           \n",
    "The ground state is degenerate and is either $|100\\rangle$, $|010\\rangle$ and $|001\\rangle$."
   ]
  },
  {
   "cell_type": "code",
   "execution_count": 9,
   "metadata": {
    "collapsed": true
   },
   "outputs": [],
   "source": [
    "# cost function H = alpha_i z_i + beta_ij z_i z_j\n",
    "n =4\n",
    "alpha = np.zeros(n)\n",
    "beta = np.zeros((n, n))\n",
    "beta[0, 1] = 1\n",
    "beta[0, 2] = 1\n",
    "beta[1, 2] = 1\n",
    "beta[1, 3] = 1\n",
    "beta[2, 3] = 1"
   ]
  },
  {
   "cell_type": "code",
   "execution_count": 10,
   "metadata": {
    "collapsed": false
   },
   "outputs": [
    {
     "name": "stdout",
     "output_type": "stream",
     "text": [
      "---- Error: Exception connect to servers ----\n"
     ]
    },
    {
     "data": {
      "text/plain": [
       "False"
      ]
     },
     "execution_count": 10,
     "metadata": {},
     "output_type": "execute_result"
    }
   ],
   "source": [
    "#Setting up a quantum program and connecting to the Quantum Experience API\n",
    "Q_program = QuantumProgram()\n",
    "# set the APIToken and API url\n",
    "Q_program.set_api(Qconfig.APItoken, Qconfig.config[\"url\"])"
   ]
  },
  {
   "cell_type": "code",
   "execution_count": 11,
   "metadata": {
    "collapsed": false
   },
   "outputs": [
    {
     "name": "stdout",
     "output_type": "stream",
     "text": [
      "trial 0 of 100 cost -0.943257454022\n",
      "trial 10 of 100 cost -2.20629876865\n",
      "trial 20 of 100 cost -2.7499512609\n",
      "trial 30 of 100 cost -2.84118948435\n",
      "trial 40 of 100 cost -2.88829727076\n",
      "trial 50 of 100 cost -2.9242398834\n",
      "trial 60 of 100 cost -2.96130416407\n",
      "trial 70 of 100 cost -2.93303732352\n",
      "trial 80 of 100 cost -2.94302575557\n",
      "trial 90 of 100 cost -2.93854780452\n",
      "m = 1 -2.015625 m = 2 -2.9921875m = 3 -2.99609375\n"
     ]
    }
   ],
   "source": [
    "# Quantum circuit parameters\n",
    "entangler_map = {0: [1], 1: [2], 2: [3]} # the map of two-qubit gates with control at key and target at values\n",
    "\n",
    "# Numerical parameters \n",
    "SPSA_parameters = np.array([.3,0.602,0,.1,0.101]) #[a, alpha, A, c, gamma]\n",
    "max_trials = 100;\n",
    "max_depth = 3\n",
    "\n",
    "cost, data_save, cost_save = SPSA_Minimization_fast(Q_program, alpha, beta, n, entangler_map, SPSA_parameters, max_trials, max_depth)\n",
    "\n",
    "print('m = 1 ' + str(cost[0]) + ' m = 2 ' + str(cost[1]) + 'm = 3 ' + str(cost[2]))"
   ]
  },
  {
   "cell_type": "code",
   "execution_count": 12,
   "metadata": {
    "collapsed": false
   },
   "outputs": [
    {
     "data": {
      "image/png": "[encoded data removed]",
      "text/plain": [
       "<matplotlib.figure.Figure at 0x110c92860>"
      ]
     },
     "metadata": {},
     "output_type": "display_data"
    },
    {
     "data": {
      "image/png": "[encoded data removed]",
      "text/plain": [
       "<matplotlib.figure.Figure at 0x114e48a58>"
      ]
     },
     "metadata": {},
     "output_type": "display_data"
    },
    {
     "data": {
      "image/png": "[encoded data removed]",
      "text/plain": [
       "<matplotlib.figure.Figure at 0x114e48b00>"
      ]
     },
     "metadata": {},
     "output_type": "display_data"
    },
    {
     "data": {
      "image/png": "[encoded data removed]",
      "text/plain": [
       "<matplotlib.figure.Figure at 0x111962198>"
      ]
     },
     "metadata": {},
     "output_type": "display_data"
    },
    {
     "data": {
      "image/png": "[encoded data removed]",
      "text/plain": [
       "<matplotlib.figure.Figure at 0x114e9b828>"
      ]
     },
     "metadata": {},
     "output_type": "display_data"
    },
    {
     "data": {
      "image/png": "[encoded data removed]",
      "text/plain": [
       "<matplotlib.figure.Figure at 0x111c05e10>"
      ]
     },
     "metadata": {},
     "output_type": "display_data"
    }
   ],
   "source": [
    "# plotting data\n",
    "plt.plot(range(max_trials), cost_save[0])\n",
    "plot_histogram(data_save[0])\n",
    "\n",
    "plt.plot(range(max_trials), cost_save[1])\n",
    "plot_histogram(data_save[1])\n",
    "\n",
    "plt.plot(range(max_trials), cost_save[2])\n",
    "plot_histogram(data_save[2])"
   ]
  },
  {
   "cell_type": "markdown",
   "metadata": {},
   "source": [
    "## 10 qubits<a id='sectionmaxcutten'></a>"
   ]
  },
  {
   "cell_type": "code",
   "execution_count": null,
   "metadata": {
    "collapsed": true
   },
   "outputs": [],
   "source": [
    "n = 10\n",
    "\n",
    "# cost function H = alpha_i z_i + beta_ij z_i z_j\n",
    "alpha = np.zeros(n)\n",
    "beta = np.random.choice([0, 0.5], size=(n,n), p=[1./3, 2./3])"
   ]
  },
  {
   "cell_type": "code",
   "execution_count": null,
   "metadata": {
    "collapsed": false
   },
   "outputs": [],
   "source": [
    "# quantum circuit parameters\n",
    "device = 'simulator' # the device to run on\n",
    "shots = 8192    # the number of shots in the experiment \n",
    "entangler_map = {0: [1], 1: [2], 2: [3], 3: [4], 4: [5], 5: [6], 6: [7], 7: [8], 8: [9]} # the map of two-qubit gates with control at key and target at values\n",
    "\n",
    "# Numerical parameters \n",
    "SPSA_parameters = np.array([.3,0.602,0,.1,0.101]) # [a, alpha, A, c, gamma]\n",
    "max_trials = 100;\n",
    "theta_depth_1 = np.random.randn(1*n) # initial controls \n",
    "theta_depth_2 = np.random.randn(2*n) # initial controls \n",
    "theta_depth_3 = np.random.randn(3*n) # initial controls \n",
    "\n",
    "\n",
    "\n",
    "trial_circuit_depth_1 =  trial_funtion_optimization(n,1,theta_depth_1,entangler_map) \n",
    "trial_circuit_depth_2 =  trial_funtion_optimization(n,2,theta_depth_2,entangler_map) \n",
    "trial_circuit_depth_3 =  trial_funtion_optimization(n,3,theta_depth_3,entangler_map) \n",
    "\n",
    "program = [trial_circuit_depth_1,trial_circuit_depth_2,trial_circuit_depth_3]\n",
    "out = run_program(program,api,device,shots,max_credits=3)\n",
    "results=combine_jobs([out['id']], api, wait=20, timeout=440)  \n",
    "cost_depth_1 = cost_classical(get_data(results,0),n,alpha,beta)\n",
    "cost_depth_2 = cost_classical(get_data(results,1),n,alpha,beta)\n",
    "cost_depth_3 = cost_classical(get_data(results,2),n,alpha,beta)\n",
    "print('m=1 ' + str(cost_depth_1) + ' m=2 ' + str(cost_depth_2) + 'm=3 ' + str(cost_depth_3))"
   ]
  },
  {
   "cell_type": "code",
   "execution_count": null,
   "metadata": {
    "collapsed": false
   },
   "outputs": [],
   "source": [
    "# plotting data\n",
    "plt.plot(range(max_trials), cost_plus_depth_1, range(max_trials), cost_minus_depth_1)\n",
    "plot_histogram(get_data(results,0),n)\n",
    "plt.plot(range(max_trials), cost_plus_depth_2, range(max_trials), cost_minus_depth_2)\n",
    "plot_histogram(get_data(results,1),n)\n",
    "plt.plot(range(max_trials), cost_plus_depth_3, range(max_trials), cost_minus_depth_3)\n",
    "plot_histogram(get_data(results,2),n)"
   ]
  },
  {
   "cell_type": "code",
   "execution_count": null,
   "metadata": {
    "collapsed": false
   },
   "outputs": [],
   "source": [
    "# cost function H = alpha_i z_i + beta_ij z_i z_j\n",
    "n = 10\n",
    "alpha = np.zeros(n)\n",
    "beta = np.random.choice([0, 0.5], size=(n,n), p=[1./3, 2./3])\n",
    "for i in range(n):\n",
    "    for j in range(i):\n",
    "        beta[j,i]=beta[i,j]\n",
    "for i in range(n):\n",
    "    beta[i,i]=0;"
   ]
  },
  {
   "cell_type": "code",
   "execution_count": null,
   "metadata": {
    "collapsed": false
   },
   "outputs": [],
   "source": [
    "# quantum circuit parameters\n",
    "device = 'simulator' # the device to run on\n",
    "shots = 8192    # the number of shots in the experiment \n",
    "entangler_map = {0: [1], 1: [2], 2: [3], 3: [4], 4: [5], 5: [6], 6: [7], 7: [8], 8: [9]} # the map of two-qubit gates with control at key and target at values\n",
    "\n",
    "# Numerical parameters \n",
    "SPSA_parameters = np.array([.3,0.602,0,.1,0.101]) #[a, alpha, A, c, gamma]\n",
    "max_trials = 100;\n",
    "theta_depth_1 = np.random.randn(1*n) # initial controls \n",
    "theta_depth_2 = np.random.randn(2*n) # initial controls \n",
    "theta_depth_3 = np.random.randn(3*n) # initial controls \n",
    "\n",
    "cost_plus_depth_1=np.zeros(max_trials)\n",
    "cost_minus_depth_1=np.zeros(max_trials)\n",
    "cost_plus_depth_2=np.zeros(max_trials)\n",
    "cost_minus_depth_2=np.zeros(max_trials)\n",
    "cost_plus_depth_3=np.zeros(max_trials)\n",
    "cost_minus_depth_3=np.zeros(max_trials)\n",
    "\n",
    "for k in range(max_trials):\n",
    "    print('trial ' + str(k) + \" of \" + str(max_trials))\n",
    "    a_spsa = float(SPSA_parameters[0])/np.power(k+1+SPSA_parameters[2], SPSA_parameters[1])\n",
    "    c_spsa = float(SPSA_parameters[3])/np.power(k+1, SPSA_parameters[4])\n",
    "\n",
    "    Delta_depth_1 = 2*np.random.randint(2,size=n*1)-1 # \\pm 1 random distribution \n",
    "    Delta_depth_2 = 2*np.random.randint(2,size=n*2)-1 # \\pm 1 random distribution \n",
    "    Delta_depth_3 = 2*np.random.randint(2,size=n*3)-1 # \\pm 1 random distribution \n",
    "    \n",
    "    theta_plus_depth_1 = theta_depth_1 + c_spsa*Delta_depth_1\n",
    "    theta_minus_depth_1 = theta_depth_1 - c_spsa*Delta_depth_1\n",
    "    theta_plus_depth_2 = theta_depth_2 + c_spsa*Delta_depth_2\n",
    "    theta_minus_depth_2 = theta_depth_2 - c_spsa*Delta_depth_2\n",
    "    theta_plus_depth_3 = theta_depth_3 + c_spsa*Delta_depth_3\n",
    "    theta_minus_depth_3 = theta_depth_3 - c_spsa*Delta_depth_3\n",
    "\n",
    "    trial_circuit_plus_depth_1 = trial_funtion_optimization(n,1,theta_plus_depth_3,entangler_map) \n",
    "    trial_circuit_minus_depth_1 = trial_funtion_optimization(n,1,theta_minus_depth_1,entangler_map) \n",
    "    trial_circuit_plus_depth_2 = trial_funtion_optimization(n,2,theta_plus_depth_3,entangler_map) \n",
    "    trial_circuit_minus_depth_2 = trial_funtion_optimization(n,2,theta_minus_depth_2,entangler_map)\n",
    "    trial_circuit_plus_depth_3 = trial_funtion_optimization(n,3,theta_plus_depth_3,entangler_map) \n",
    "    trial_circuit_minus_depth_3 = trial_funtion_optimization(n,3,theta_minus_depth_3,entangler_map)\n",
    "    \n",
    "    program = [trial_circuit_plus_depth_1,trial_circuit_minus_depth_1,trial_circuit_plus_depth_2\n",
    "               ,trial_circuit_minus_depth_2,trial_circuit_plus_depth_3,trial_circuit_minus_depth_3]\n",
    "    out = run_program(program,api,device,shots,max_credits=3)\n",
    "    results=combine_jobs([out['id']], api, wait=20, timeout=440)\n",
    "    \n",
    "    cost_plus_depth_1[k] = cost_classical(get_data(results,0),n,alpha,beta)\n",
    "    cost_minus_depth_1[k] = cost_classical(get_data(results,1),n,alpha,beta)\n",
    "    cost_plus_depth_2[k] = cost_classical(get_data(results,2),n,alpha,beta)\n",
    "    cost_minus_depth_2[k] = cost_classical(get_data(results,3),n,alpha,beta)\n",
    "    cost_plus_depth_3[k] = cost_classical(get_data(results,4),n,alpha,beta)\n",
    "    cost_minus_depth_3[k] = cost_classical(get_data(results,5),n,alpha,beta)\n",
    "    \n",
    "    g_spsa_depth_1 = (cost_plus_depth_1[k]-cost_minus_depth_1[k])*Delta_depth_1/(2.0*c_spsa)\n",
    "    g_spsa_depth_2 = (cost_plus_depth_2[k]-cost_minus_depth_2[k])*Delta_depth_2/(2.0*c_spsa)\n",
    "    g_spsa_depth_3 = (cost_plus_depth_3[k]-cost_minus_depth_3[k])*Delta_depth_3/(2.0*c_spsa)\n",
    "\n",
    "    theta_depth_1 = theta_depth_1 - a_spsa*g_spsa_depth_1\n",
    "    theta_depth_2 = theta_depth_2 - a_spsa*g_spsa_depth_2\n",
    "    theta_depth_3 = theta_depth_3 - a_spsa*g_spsa_depth_3\n",
    "    print(cost_minus_depth_3[k] +   cost_plus_depth_3[k])\n",
    "\n",
    "trial_circuit_depth_1 =  trial_funtion_optimization(n,1,theta_depth_1,entangler_map) \n",
    "trial_circuit_depth_2 =  trial_funtion_optimization(n,2,theta_depth_2,entangler_map) \n",
    "trial_circuit_depth_3 =  trial_funtion_optimization(n,3,theta_depth_3,entangler_map) \n",
    "\n",
    "program = [trial_circuit_depth_1,trial_circuit_depth_2,trial_circuit_depth_3]\n",
    "out = run_program(program,api,device,shots,max_credits=3)\n",
    "results=combine_jobs([out['id']], api, wait=20, timeout=440)  \n",
    "cost_depth_1 = cost_classical(get_data(results,0),n,alpha,beta)\n",
    "cost_depth_2 = cost_classical(get_data(results,1),n,alpha,beta)\n",
    "cost_depth_3 = cost_classical(get_data(results,2),n,alpha,beta)\n",
    "print('m=1 ' + str(cost_depth_1) + ' m=2 ' + str(cost_depth_2) + 'm=3 ' + str(cost_depth_3))"
   ]
  },
  {
   "cell_type": "code",
   "execution_count": null,
   "metadata": {
    "collapsed": false
   },
   "outputs": [],
   "source": [
    "# plotting data\n",
    "plt.plot(range(max_trials), cost_plus_depth_1, range(max_trials), cost_minus_depth_1)\n",
    "plot_histogram(get_data(results,0),n)\n",
    "plt.plot(range(max_trials), cost_plus_depth_2, range(max_trials), cost_minus_depth_2)\n",
    "plot_histogram(get_data(results,1),n)\n",
    "plt.plot(range(max_trials), cost_plus_depth_3, range(max_trials), cost_minus_depth_3)\n",
    "plot_histogram(get_data(results,2),n)"
   ]
  },
  {
   "cell_type": "markdown",
   "metadata": {},
   "source": [
    "## Max Cut (DONNA) "
   ]
  },
  {
   "cell_type": "code",
   "execution_count": null,
   "metadata": {
    "collapsed": true
   },
   "outputs": [],
   "source": [
    "# cost function H = alpha_i z_i + beta_ij z_i z_j\n",
    "n = 6\n",
    "alpha = np.zeros(n)\n",
    "beta = np.zeros((n, n))\n",
    "beta[0, 1] = 93/2\n",
    "beta[0, 4] = 17/2\n",
    "beta[0, 5] = 51/2\n",
    "beta[1, 0] = 93/2\n",
    "beta[1, 5] = 13/2\n",
    "beta[1, 2] = 77/2\n",
    "beta[2, 1] = 77/2\n",
    "beta[2, 3] = 31/2\n",
    "beta[2, 5] = 23/2\n",
    "beta[3,2] = 31/2\n",
    "beta[3,4] = 7/2\n",
    "beta[3,5] = 46/2\n",
    "beta[4,3] = 7/2\n",
    "beta[4,5] = 65/2\n",
    "beta[4,0] = 17/2\n",
    "\n",
    "beta[5,0] = 51/2\n",
    "beta[5,1] = 13/2\n",
    "beta[5,2] = 23/2\n",
    "beta[5,3] = 46/2\n",
    "beta[5,4] = 65/2"
   ]
  },
  {
   "cell_type": "code",
   "execution_count": null,
   "metadata": {
    "collapsed": false
   },
   "outputs": [],
   "source": [
    "# quantum circuit parameters\n",
    "device = 'simulator' # the device to run on\n",
    "shots = 8192    # the number of shots in the experiment \n",
    "entangler_map = {0: [1], 1: [2], 2: [3], 3: [4]} # the map of two-qubit gates with control at key and target at values\n",
    "\n",
    "# Numerical parameters \n",
    "SPSA_parameters = np.array([3,0.602,0,.3,0.101]) #[a, alpha, A, c, gamma]\n",
    "max_trials = 100;\n",
    "theta_depth_1 = np.random.randn(1*n) # initial controls \n",
    "theta_depth_2 = np.random.randn(2*n) # initial controls \n",
    "theta_depth_3 = np.random.randn(3*n) # initial controls \n",
    "\n",
    "cost_plus_depth_1=np.zeros(max_trials)\n",
    "cost_minus_depth_1=np.zeros(max_trials)\n",
    "cost_plus_depth_2=np.zeros(max_trials)\n",
    "cost_minus_depth_2=np.zeros(max_trials)\n",
    "cost_plus_depth_3=np.zeros(max_trials)\n",
    "cost_minus_depth_3=np.zeros(max_trials)\n",
    "\n",
    "for k in range(max_trials):\n",
    "    print('trial ' + str(k) + \" of \" + str(max_trials))\n",
    "    a_spsa = float(SPSA_parameters[0])/np.power(k+1+SPSA_parameters[2], SPSA_parameters[1])\n",
    "    c_spsa = float(SPSA_parameters[3])/np.power(k+1, SPSA_parameters[4])\n",
    "\n",
    "    Delta_depth_1 = 2*np.random.randint(2,size=n*1)-1 # \\pm 1 random distribution \n",
    "    Delta_depth_2 = 2*np.random.randint(2,size=n*2)-1 # \\pm 1 random distribution \n",
    "    Delta_depth_3 = 2*np.random.randint(2,size=n*3)-1 # \\pm 1 random distribution \n",
    "    \n",
    "    theta_plus_depth_1 = theta_depth_1 + c_spsa*Delta_depth_1\n",
    "    theta_minus_depth_1 = theta_depth_1 - c_spsa*Delta_depth_1\n",
    "    theta_plus_depth_2 = theta_depth_2 + c_spsa*Delta_depth_2\n",
    "    theta_minus_depth_2 = theta_depth_2 - c_spsa*Delta_depth_2\n",
    "    theta_plus_depth_3 = theta_depth_3 + c_spsa*Delta_depth_3\n",
    "    theta_minus_depth_3 = theta_depth_3 - c_spsa*Delta_depth_3\n",
    "\n",
    "    trial_circuit_plus_depth_1 = trial_funtion_optimization(n,1,theta_plus_depth_3,entangler_map) \n",
    "    trial_circuit_minus_depth_1 = trial_funtion_optimization(n,1,theta_minus_depth_1,entangler_map) \n",
    "    trial_circuit_plus_depth_2 = trial_funtion_optimization(n,2,theta_plus_depth_3,entangler_map) \n",
    "    trial_circuit_minus_depth_2 = trial_funtion_optimization(n,2,theta_minus_depth_2,entangler_map)\n",
    "    trial_circuit_plus_depth_3 = trial_funtion_optimization(n,3,theta_plus_depth_3,entangler_map) \n",
    "    trial_circuit_minus_depth_3 = trial_funtion_optimization(n,3,theta_minus_depth_3,entangler_map)\n",
    "    \n",
    "    program = [trial_circuit_plus_depth_1,trial_circuit_minus_depth_1,trial_circuit_plus_depth_2\n",
    "               ,trial_circuit_minus_depth_2,trial_circuit_plus_depth_3,trial_circuit_minus_depth_3]\n",
    "    out = run_program(program,api,device,shots,max_credits=3)\n",
    "    results=combine_jobs([out['id']], api, wait=20, timeout=440)\n",
    "    \n",
    "    cost_plus_depth_1[k] = cost_classical(get_data(results,0),n,alpha,beta)\n",
    "    cost_minus_depth_1[k] = cost_classical(get_data(results,1),n,alpha,beta)\n",
    "    cost_plus_depth_2[k] = cost_classical(get_data(results,2),n,alpha,beta)\n",
    "    cost_minus_depth_2[k] = cost_classical(get_data(results,3),n,alpha,beta)\n",
    "    cost_plus_depth_3[k] = cost_classical(get_data(results,4),n,alpha,beta)\n",
    "    cost_minus_depth_3[k] = cost_classical(get_data(results,5),n,alpha,beta)\n",
    "    \n",
    "    g_spsa_depth_1 = (cost_plus_depth_1[k]-cost_minus_depth_1[k])*Delta_depth_1/(2.0*c_spsa)\n",
    "    g_spsa_depth_2 = (cost_plus_depth_2[k]-cost_minus_depth_2[k])*Delta_depth_2/(2.0*c_spsa)\n",
    "    g_spsa_depth_3 = (cost_plus_depth_3[k]-cost_minus_depth_3[k])*Delta_depth_3/(2.0*c_spsa)\n",
    "\n",
    "    theta_depth_1 = theta_depth_1 - a_spsa*g_spsa_depth_1\n",
    "    theta_depth_2 = theta_depth_2 - a_spsa*g_spsa_depth_2\n",
    "    theta_depth_3 = theta_depth_3 - a_spsa*g_spsa_depth_3\n",
    "\n",
    "trial_circuit_depth_1 =  trial_funtion_optimization(n,1,theta_depth_1,entangler_map) \n",
    "trial_circuit_depth_2 =  trial_funtion_optimization(n,2,theta_depth_2,entangler_map) \n",
    "trial_circuit_depth_3 =  trial_funtion_optimization(n,3,theta_depth_3,entangler_map) \n",
    "\n",
    "program = [trial_circuit_depth_1,trial_circuit_depth_2,trial_circuit_depth_3]\n",
    "out = run_program(program,api,device,shots,max_credits=3)\n",
    "results=combine_jobs([out['id']], api, wait=20, timeout=440)  \n",
    "cost_depth_1 = cost_classical(get_data(results,0),n,alpha,beta)\n",
    "cost_depth_2 = cost_classical(get_data(results,1),n,alpha,beta)\n",
    "cost_depth_3 = cost_classical(get_data(results,2),n,alpha,beta)\n",
    "print('m=1 ' + str(cost_depth_1) + ' m=2 ' + str(cost_depth_2) + 'm=3 ' + str(cost_depth_3))"
   ]
  },
  {
   "cell_type": "code",
   "execution_count": null,
   "metadata": {
    "collapsed": false
   },
   "outputs": [],
   "source": [
    "# plotting data\n",
    "plt.plot(range(max_trials), cost_plus_depth_1, range(max_trials), cost_minus_depth_1)\n",
    "plot_histogram(get_data(results,0),n)\n",
    "plt.plot(range(max_trials), cost_plus_depth_2, range(max_trials), cost_minus_depth_2)\n",
    "plot_histogram(get_data(results,1),n)\n",
    "plt.plot(range(max_trials), cost_plus_depth_3, range(max_trials), cost_minus_depth_3)\n",
    "plot_histogram(get_data(results,2),n)"
   ]
  },
  {
   "cell_type": "markdown",
   "metadata": {},
   "source": [
    "## REAL"
   ]
  },
  {
   "cell_type": "code",
   "execution_count": null,
   "metadata": {
    "collapsed": false
   },
   "outputs": [],
   "source": [
    "# quantum circuit parameters\n",
    "device = 'real' # the device to run on\n",
    "shots = 8192    # the number of shots in the experiment\n",
    "n = 2\n",
    "entangler_map = {0: [1]} # the map of two-qubit gates with control at key and target at values\n",
    "\n",
    "# Numerical parameters \n",
    "SPSA_parameters = np.array([.3,0.602,0,.3,0.101]) #[a, alpha, A, c, gamma]\n",
    "max_trials = 100;\n",
    "theta_depth_1 = np.random.randn(1*n) # initial controls \n",
    "theta_depth_2 = np.random.randn(2*n) # initial controls \n",
    "theta_depth_3 = np.random.randn(3*n) # initial controls \n",
    "\n",
    "cost_plus_depth_1=np.zeros(max_trials)\n",
    "cost_minus_depth_1=np.zeros(max_trials)\n",
    "cost_plus_depth_2=np.zeros(max_trials)\n",
    "cost_minus_depth_2=np.zeros(max_trials)\n",
    "cost_plus_depth_3=np.zeros(max_trials)\n",
    "cost_minus_depth_3=np.zeros(max_trials)\n",
    "\n",
    "for k in range(max_trials):\n",
    "    print('trial ' + str(k) + \" of \" + str(max_trials))\n",
    "    a_spsa = float(SPSA_parameters[0])/np.power(k+1+SPSA_parameters[2], SPSA_parameters[1])\n",
    "    c_spsa = float(SPSA_parameters[3])/np.power(k+1, SPSA_parameters[4])\n",
    "\n",
    "    Delta_depth_1 = 2*np.random.randint(2,size=n*1)-1 # \\pm 1 random distribution \n",
    "    Delta_depth_2 = 2*np.random.randint(2,size=n*2)-1 # \\pm 1 random distribution \n",
    "    Delta_depth_3 = 2*np.random.randint(2,size=n*3)-1 # \\pm 1 random distribution \n",
    "    \n",
    "    theta_plus_depth_1 = theta_depth_1 + c_spsa*Delta_depth_1\n",
    "    theta_minus_depth_1 = theta_depth_1 - c_spsa*Delta_depth_1\n",
    "    theta_plus_depth_2 = theta_depth_2 + c_spsa*Delta_depth_2\n",
    "    theta_minus_depth_2 = theta_depth_2 - c_spsa*Delta_depth_2\n",
    "    theta_plus_depth_3 = theta_depth_3 + c_spsa*Delta_depth_3\n",
    "    theta_minus_depth_3 = theta_depth_3 - c_spsa*Delta_depth_3\n",
    "\n",
    "    trial_circuit_plus_depth_1 = trial_funtion_optimization(n,1,theta_plus_depth_3,entangler_map) \n",
    "    trial_circuit_minus_depth_1 = trial_funtion_optimization(n,1,theta_minus_depth_1,entangler_map) \n",
    "    trial_circuit_plus_depth_2 = trial_funtion_optimization(n,2,theta_plus_depth_3,entangler_map) \n",
    "    trial_circuit_minus_depth_2 = trial_funtion_optimization(n,2,theta_minus_depth_2,entangler_map)\n",
    "    trial_circuit_plus_depth_3 = trial_funtion_optimization(n,3,theta_plus_depth_3,entangler_map) \n",
    "    trial_circuit_minus_depth_3 = trial_funtion_optimization(n,3,theta_minus_depth_3,entangler_map)\n",
    "    \n",
    "    program = [trial_circuit_plus_depth_1,trial_circuit_minus_depth_1,trial_circuit_plus_depth_2\n",
    "               ,trial_circuit_minus_depth_2,trial_circuit_plus_depth_3,trial_circuit_minus_depth_3]\n",
    "    out = run_program(program,api,device,shots,max_credits=5)\n",
    "    results=combine_jobs([out['id']], api, wait=20, timeout=480)\n",
    "    \n",
    "    cost_plus_depth_1[k] = cost_classical(get_data(results,0),n,alpha,beta)\n",
    "    cost_minus_depth_1[k] = cost_classical(get_data(results,1),n,alpha,beta)\n",
    "    cost_plus_depth_2[k] = cost_classical(get_data(results,2),n,alpha,beta)\n",
    "    cost_minus_depth_2[k] = cost_classical(get_data(results,3),n,alpha,beta)\n",
    "    cost_plus_depth_3[k] = cost_classical(get_data(results,4),n,alpha,beta)\n",
    "    cost_minus_depth_3[k] = cost_classical(get_data(results,5),n,alpha,beta)\n",
    "    \n",
    "    g_spsa_depth_1 = (cost_plus_depth_1[k]-cost_minus_depth_1[k])*Delta_depth_1/(2.0*c_spsa)\n",
    "    g_spsa_depth_2 = (cost_plus_depth_2[k]-cost_minus_depth_2[k])*Delta_depth_2/(2.0*c_spsa)\n",
    "    g_spsa_depth_3 = (cost_plus_depth_3[k]-cost_minus_depth_3[k])*Delta_depth_3/(2.0*c_spsa)\n",
    "\n",
    "    theta_depth_1 = theta_depth_1 - a_spsa*g_spsa_depth_1\n",
    "    theta_depth_2 = theta_depth_2 - a_spsa*g_spsa_depth_2\n",
    "    theta_depth_3 = theta_depth_3 - a_spsa*g_spsa_depth_3\n",
    "\n",
    "trial_circuit_depth_1 =  trial_funtion_optimization(n,1,theta_depth_1,entangler_map) \n",
    "trial_circuit_depth_2 =  trial_funtion_optimization(n,2,theta_depth_2,entangler_map) \n",
    "trial_circuit_depth_3 =  trial_funtion_optimization(n,3,theta_depth_3,entangler_map) \n",
    "\n",
    "program = [trial_circuit_depth_1,trial_circuit_depth_2,trial_circuit_depth_3]\n",
    "out = run_program(program,api,device,shots,max_credits=5)\n",
    "results=combine_jobs([out['id']], api, wait=20, timeout=240)  \n",
    "cost_depth_1 = cost_classical(get_data(results,0),n,alpha,beta)\n",
    "cost_depth_2 = cost_classical(get_data(results,1),n,alpha,beta)\n",
    "cost_depth_3 = cost_classical(get_data(results,2),n,alpha,beta)\n",
    "print('m=1 ' + str(cost_depth_1) + ' m=2 ' + str(cost_depth_2) + 'm=3 ' + str(cost_depth_3))"
   ]
  },
  {
   "cell_type": "code",
   "execution_count": null,
   "metadata": {
    "collapsed": true
   },
   "outputs": [],
   "source": [
    "# plotting data\n",
    "plt.plot(range(max_trials), cost_plus_depth_1, range(max_trials), cost_minus_depth_1)\n",
    "plot_histogram(get_data(results,0),n)\n",
    "plt.plot(range(max_trials), cost_plus_depth_2, range(max_trials), cost_minus_depth_2)\n",
    "plot_histogram(get_data(results,1),n)\n",
    "plt.plot(range(max_trials), cost_plus_depth_3, range(max_trials), cost_minus_depth_3)\n",
    "plot_histogram(get_data(results,2),n)"
   ]
  },
  {
   "cell_type": "code",
   "execution_count": null,
   "metadata": {
    "collapsed": true
   },
   "outputs": [],
   "source": []
  }
 ],
 "metadata": {
  "anaconda-cloud": {},
  "kernelspec": {
   "display_name": "Python 3",
   "language": "python",
   "name": "python3"
  },
  "language_info": {
   "codemirror_mode": {
    "name": "ipython",
    "version": 3
   },
   "file_extension": ".py",
   "mimetype": "text/x-python",
   "name": "python",
   "nbconvert_exporter": "python",
   "pygments_lexer": "ipython3",
   "version": "3.6.0"
  }
 },
 "nbformat": 4,
 "nbformat_minor": 1
}
