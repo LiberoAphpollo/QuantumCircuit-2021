{
 "cells": [
  {
   "cell_type": "markdown",
   "metadata": {},
   "source": [
    "<img src=\"../images/QISKit-c.gif\" alt=\"Note: In order for images to show up in this jupyter notebook you need to select File => Trusted Notebook\" width=\"250 px\" align=\"left\">"
   ]
  },
  {
   "cell_type": "markdown",
   "metadata": {},
   "source": [
    "## _*VQE algorithm: application to optimization problems*_ \n",
    "\n",
    "The latest version of this notebook is available on https://github.com/IBM/qiskit-sdk-py/tree/master/scripts.\n",
    "\n",
    "For more information about how to use the IBM Q experience (QX), consult the [IBM Q experience tutorials](https://quantumexperience.ng.bluemix.net/qstage/#/tutorial?sectionId=c59b3710b928891a1420190148a72cce&pageIndex=0), or check out the [community](https://quantumexperience.ng.bluemix.net/qstage/#/community).\n",
    "\n",
    "***\n",
    "### Contributors\n",
    "Jay Gambetta, Antonio Mezzacapo, Ramis Movassagh, Kristan Temme"
   ]
  },
  {
   "cell_type": "markdown",
   "metadata": {},
   "source": [
    "## Introduction\n",
    "\n",
    "Many problems in finance and business are optimization problems. \n",
    "\n",
    "Optimization or combinatorial optimization means searching for an optimal solution in a finite or countably infinite set of potential solutions. Optimality is defined with respect to some criterion function, which is to be minimized or maximized. This is typically called the cost function or objective function. \n",
    "\n",
    "**Types of optimization problems**\n",
    "\n",
    "Minimization: cost, distance, length of a traversal, weight, processing time, material, energy consumption, number of objects\n",
    "\n",
    "Maximization: profit, value, output, return, yield, utility, efficiency, capacity, number of objects. \n",
    "\n",
    "The two problems that are consider in this notebook are:\n",
    "\n",
    "\n",
    "### MaxCut:\n",
    "\n",
    "MaxCut is an NP-Complete problem. MaxCut has applications in clustering, network science, and statistical physics. For example consider the problem of many different people (nodes) and how they can influence (weight) others, and you want to answer the question what is the best marketing strategy to maximize revenue by offering for free the product to one subset of buyers, while determining how to approach the remaining buyers with a particular price.(SHOULD WE ADD THAT APPROXIMATIONS ARE ALSO HARD). \n",
    "\n",
    "Consider a $n$-node unidirectional graph *G(V, E)* where *|V| = N* with edge weights $w_{ij}>0$ for $(i, j)\\in E$. A cut is defined as the partitioning into two sets. We define the cost as the sum of weights of edges crossing the cut. By assigning $x_i=0$ or $x_i=1$ to each node $i$ depending on its location to the cut the maximum cut is a cut that maximizes\n",
    "\n",
    "$$C(\\textbf{x}) = \\sum_{i,j} w_{ij} x_i (1-x_j).$$\n",
    "\n",
    "An extension of the MaxCut problem is to let the nodes themselves carry weights, which can be regarded as the nodes having a preference on their location. Doing this the objective function becomes \n",
    "\n",
    "$$C(\\textbf{x}) = \\sum_i w_i x_i + \\sum_{i,j} w_{ij} x_i (1-x_j).$$\n",
    " \n",
    "Mapping this to a Quantum Hamiltonian is trival $x_i\\rightarrow (1-Z_i)/2$ where $Z_i$ is the Pauli Z operator that has eigenvalues $\\pm 1$. Doing this we find that \n",
    "\n",
    "$$C(\\textbf{Z}) = \\sum_i w_i (1-Z_i)/2 + \\sum_{i<j} \\frac{w_{ij}}{2} (1-Z_iZ_j)= \\frac{-1}{2}\\left(\\sum_i w_i Z_i + \\sum_{i<j} w_{ij} Z_iZ_j\\right)+\\mathrm{const},$$\n",
    "\n",
    "where const = $\\sum_i w_i/2 + \\sum_{i<j}w_{ij}/2$. That is the MaxCut is equivalent to minimizing the Ising Hamiltonian \n",
    "\n",
    "$$ H = \\sum_i w_i Z_i + \\sum_{i<j} w_{ij} Z_iZ_j.$$\n",
    "\n",
    "### Traveling Salesman Problem:\n",
    "\n",
    "In addition to being a notorious NP-complete problem that has drawn the attention of computer scientists and mathematician for over two centuries, as the name suggests, the Traveling Salesman Problem (TSP) has important bearings on finance and marketing. Colloquially, the traveling salesman is one who goes from city to city to sell a merchandise. His/her objective (TSP)  is to find the shortest path that would enable them to visit all the cities and return to their hometown (i.e., the city where he started). This way he/she gets to maximize their potential sales in the least amount of time. \n",
    " \n",
    "The problem derives its importance from its \"hardness\" and ubiquitous equivalence to other relevant combinatorial optimization problems that arise in practice.\n",
    " \n",
    "The mathematical formulation with some early analysis was proposed by W.R. Hamilton in early 19th century. Mathematically the problem is best abstracted in terms of graphs. The TSP on the nodes of a graph asks for the shortest Hamiltonian cycle that can be taken through each of the nodes. A *Hamilton cycle* is a cycle that uses every vertex of a graph once. The general solution is unknown and finding an efficient solution (e.g., a polynomial time algorithm) is expected to not exists.\n",
    "\n",
    "Find the shortest Hamiltonian cycle in a graph $G=(V,E)$ with $N=|V|$ nodes and distances, $w_{ij}$ (distance from vertex $i$ to vertex $j$). As in many optimization problems the solution will use $N^2$ variables $x_{i,p}$, where $i$ represents the node and p represents its order in a prospective cycle. The decision variable takes the value 1 if the solution occurs at node $i$ at time order $p$. We require that every node can only appear once in the cycle and for each time a node has to occur. This amounts to the two constraints\n",
    "\n",
    "$$\\sum_i x_{i,p} = 1 ~~\\forall p$$\n",
    "$$\\sum_p x_{i,p} = 1 ~~\\forall i.$$\n",
    "\n",
    "For nodes in our prospective ordering, if $x_{i,p}$ and $x_{j,p+1}$ are both 1, then there should be an energy penalty if $(i,j) \\notin E$ (not connected in the graph). The form of this penalty is \n",
    "\n",
    "$$\\sum_{(i,j)\\notin E}\\sum_p x_{i,p}x_{j,p+1}>0.$$ \n",
    "\n",
    "However, here we will assume a fully connected graph and not include this term. The distance that needs to be minimized is \n",
    "\n",
    "$$C(\\textbf{x})=\\sum_{(i,j)\\in E}w_{ij}\\sum_p x_{i,p}x_{j,p+1}.$$\n",
    "\n",
    "Puttling this all together in a single objective function to be minimized we get the following\n",
    "\n",
    "$$C(\\textbf{x})=\\sum_{(i,j)\\in E}w_{ij}\\sum_p x_{i,p}x_{j,p+1}+ A\\sum_p\\left(1- \\sum_i x_{i,p}\\right)^2+A\\sum_i\\left(1- \\sum_p x_{i,p}\\right)^2,$$\n",
    "\n",
    "where $A$ is a free parameter. We need to ensure that A is large enough that it is never violate the constraints. One way to do this is to choose A such that $A > \\mathrm{max}(w_{ij})$. Furthermore, since the problem has the salesperson returning to the original city we can without loss of generality set $x_{00} = 1$ and $x_{i0} = 0$ and $x_{0p} = 0$. Doing this the objective functions becomes \n",
    "\n",
    "$$C(\\textbf{x})=\\sum_{(i,j)\\in E}w_{ij}\\sum_{p=1}^{N-2} x_{i,p}x_{j,p+1}+\\sum_{(0,j)\\in E}w_{0j} x_{j,1}+\\sum_{(i,0)\\in E}w_{i0} x_{i,N-1}+ A\\sum_{p=1}^{N-1}\\left(1- \\sum_{i=1}^{N-1} x_{i,p}\\right)^2+A\\sum_i\\left(1- \\sum_{p=1}^{N-1} x_{i,p}\\right)^2.$$\n",
    "\n",
    "Again mapping this to a quantum problem is trivial and is again equivalent to minimizing a Ising Hamiltonian. \n",
    "\n",
    "\n",
    "\n",
    "### Approximate Universal Quantum Computing for Optimization Problems\n",
    "\n",
    "Recently there has been interest in investigating approximate algorithms for optimization [ADD REFS]. Here we show a slight variation to them which we have been looking at under the general concept of approximate quantum computing.  In general, we don’t expect this to have an exponential speed up, but due to the nature and importance of these problems it is worth investigating heuristic approaches on a quantum computer which could speed up some instances. The hope is that that due to the large space of a quantum computer we can explore the problem by exploiting entanglement to trade exponential calls for quantum depth. \n",
    "\n",
    "The Algorithm works as follows:\n",
    "1. Choose the $w_i$ and $w_{ij}$ in Ising problem (can have higher powers of Z if needed).\n",
    "2. Choose the depth of the quantum circuit (this could be done adaptively).\n",
    "3. Choose a set of controls $\\theta$ and make a trial function $|\\psi(\\theta)\\rangle$.\n",
    "4. Evaluate $C(\\theta) = \\langle\\psi~|H|~\\psi\\rangle = \\sum_i w_i \\langle\\psi~|Z_i|~\\psi\\rangle+ \\sum_{i<j} w_{ij} \\langle\\psi~|Z_iZ_j|~\\psi\\rangle$ by sampling the outcome of the circuit and adding the expectation values together.\n",
    "5. Use a classical optimizer to choose a new set of controls.\n",
    "6. Continue until the $C(\\theta)$ has reach a minimum to determine $\\theta^*$\n",
    "7. Use $\\theta^*$ to generate samples from the distribution $|\\langle z~|\\psi\\rangle|^2$ to obtain the answer.\n",
    "    \n",
    "It is our belief the difficulty of finding good heuristic algorithms will come down to the choice of the trial functions. Do we choose a trial function that has entanglement in a way that best aligns with the problem (as indicated in [REF])? or do we make the amount of entanglement a variable [REF]? These questions are beyond our goals here and we will consider only the simple trial functions \n",
    "\n",
    "$$|\\psi(\\theta)\\rangle  = [U_\\mathrm{single}(\\theta) U_\\mathrm{entangler}]^m |+\\rangle$$\n",
    "\n",
    "where $U_\\mathrm{entangler}$ is a function of cPhase gates (fully entangling), and $U_\\mathrm{single}(\\theta) = Y(\\theta)^{\\otimes n}$, where $n$ is the number of qubits and $m$ is the depth of the quantum circuit. The motivation for this choice is that for these classical problems this choice allows us to search over the space of states that have only quantum states with real coefficients and we don’t have to worry about refocusing out all the complex phases but still can exploit the entanglement to search for solutions potential faster (less calls to the objective function).\n",
    "\n",
    "Note a benefit on this over making this is real hardware is we are not limited to the connectivity of the device and it is trivial to map any optimization problems to a virtual Hamiltonian which we sample. Getting higher orders such as $Z_iZ_jZ_k$ is also simple which in real hardware is generally impractical. The noise is mainly due to the gates and if the depth is small enough we can perform this algorithm with high fidelity."
   ]
  },
  {
   "cell_type": "code",
   "execution_count": null,
   "metadata": {
    "collapsed": true
   },
   "outputs": [],
   "source": [
    "# Checking the version of PYTHON; we only support 3 at the moment\n",
    "import sys\n",
    "if sys.version_info < (3,0):\n",
    "    raise Exception(\"Please use Python version 3 or greater.\")\n",
    "    \n",
    "# useful additional packages \n",
    "import matplotlib.pyplot as plt\n",
    "%matplotlib inline\n",
    "import numpy as np\n",
    "from scipy import linalg as la\n",
    "from itertools import permutations\n",
    "from functools import partial\n",
    "\n",
    "import sys\n",
    "sys.path.append(\"../../\")\n",
    "# importing the QISKit\n",
    "from qiskit import QuantumCircuit, QuantumProgram\n",
    "import Qconfig\n",
    "\n",
    "# import basic plot tools\n",
    "from qiskit.basicplotter import plot_histogram\n",
    "\n",
    "# import optimization tools\n",
    "from tools.optimizationtools import trial_circuit_ry, SPSA_optimization\n",
    "from tools.optimizationtools import Energy_Estimate, make_Hamiltonian\n",
    "from tools.pauli import Pauli\n"
   ]
  },
  {
   "cell_type": "code",
   "execution_count": null,
   "metadata": {
    "collapsed": true
   },
   "outputs": [],
   "source": [
    "def obj_funct(Q_program, pauli_list_temp, n, max_depth, device, shots, theta):\n",
    "    \"\"\" Evaluate the objective function for an classical optimization problem.\n",
    "\n",
    "    Q_program is the quantum program object\n",
    "    pauli_list defines the cost function which for shots = 1 give the Hamiltonian \n",
    "    theta are the control parameters \n",
    "    n is the number of qubits\n",
    "    m is the depth of the trial function \n",
    "    device is the device to run it on\n",
    "    shots is the number of shots to run. Taking shots = 1 only works in simulation and calculates the cost from\n",
    "    the quantum state \n",
    "    \"\"\"\n",
    "    std_cost=0 # to add later\n",
    "    circuits = [\"trial_circuit\"] \n",
    "    Q_program.add_circuit(\"trial_circuit\", trial_circuit_ry(n, max_depth, theta, entangler_map,None,False))\n",
    "    Q_program.execute(circuits, device, shots)\n",
    "        \n",
    "    if shots==1:  \n",
    "        state = Q_program.get_data(\"trial_circuit\")['quantum_state']\n",
    "        # H = make_Hamiltonian(pauli_list)\n",
    "        H = pauli_list_temp\n",
    "        cost = (np.inner(np.conjugate(state),np.dot(H,state))).real   \n",
    "    else:\n",
    "        data = Q_program.get_counts(\"trial_circuit\")\n",
    "        cost = Energy_Estimate(data, pauli_list_temp)\n",
    "    \n",
    "    return cost, std_cost"
   ]
  },
  {
   "cell_type": "markdown",
   "metadata": {},
   "source": [
    "## MaxCut on 4 Qubits\n",
    "\n",
    "    Graph:   \n",
    "             0---1 \n",
    "             | \\ |\n",
    "             3---2\n",
    "           \n",
    "The ground state is degenerate and is either $|0101\\rangle$ or $|1010\\rangle$."
   ]
  },
  {
   "cell_type": "code",
   "execution_count": 3,
   "metadata": {
    "collapsed": true
   },
   "outputs": [],
   "source": [
    "n =4\n",
    "w = np.zeros([n,n])\n",
    "w[0,1] = 1;\n",
    "w[0,2] = 1;\n",
    "w[0,3] = 1;\n",
    "w[1,0] = 1;\n",
    "w[1,2] = 1;\n",
    "w[2,0] = 1;\n",
    "w[2,1] = 1;\n",
    "w[2,3] = 1;\n",
    "w[3,0] = 1;\n",
    "w[3,2] = 1;"
   ]
  },
  {
   "cell_type": "markdown",
   "metadata": {},
   "source": [
    "### Brute force approach\n",
    "\n",
    "Try all possible $2^n$ combinations. For n = 4 as in this example this is only 16 combinations but for n = 1000 this becomes very large and impractical for a classical computer. "
   ]
  },
  {
   "cell_type": "code",
   "execution_count": 4,
   "metadata": {},
   "outputs": [
    {
     "name": "stdout",
     "output_type": "stream",
     "text": [
      "case = [0, 0, 0, 0] cost = 0.0\n",
      "case = [1, 0, 0, 0] cost = 3.0\n",
      "case = [0, 1, 0, 0] cost = 2.0\n",
      "case = [1, 1, 0, 0] cost = 3.0\n",
      "case = [0, 0, 1, 0] cost = 3.0\n",
      "case = [1, 0, 1, 0] cost = 4.0\n",
      "case = [0, 1, 1, 0] cost = 3.0\n",
      "case = [1, 1, 1, 0] cost = 2.0\n",
      "case = [0, 0, 0, 1] cost = 2.0\n",
      "case = [1, 0, 0, 1] cost = 3.0\n",
      "case = [0, 1, 0, 1] cost = 4.0\n",
      "case = [1, 1, 0, 1] cost = 3.0\n",
      "case = [0, 0, 1, 1] cost = 3.0\n",
      "case = [1, 0, 1, 1] cost = 2.0\n",
      "case = [0, 1, 1, 1] cost = 3.0\n",
      "case = [1, 1, 1, 1] cost = 0.0\n",
      "\n",
      "Best solution = [1, 0, 1, 0] cost = 4.0\n"
     ]
    }
   ],
   "source": [
    "best_cost = 0\n",
    "for b in range(2**n):\n",
    "    x = [int(t) for t in reversed(list(bin(b)[2:].zfill(n)))]\n",
    "    cost = 0\n",
    "    for i in range(n):\n",
    "        for j in range(n):\n",
    "            cost = cost + w[i,j]*x[i]*(1-x[j])\n",
    "    if best_cost < cost:\n",
    "        best_cost = cost\n",
    "        xbest = x \n",
    "    \n",
    "    print(\"case = \" + str(x)+ \" cost = \" + str(cost))\n",
    "    \n",
    "print(\"\\nBest solution = \" +str(xbest)+ \" cost = \" + str(best_cost))    "
   ]
  },
  {
   "cell_type": "markdown",
   "metadata": {},
   "source": [
    "### Using a quantum trial function"
   ]
  },
  {
   "cell_type": "code",
   "execution_count": 5,
   "metadata": {
    "collapsed": true
   },
   "outputs": [],
   "source": [
    "pauli_list = []\n",
    "for i in range(n):\n",
    "        for j in range(i):\n",
    "            if w[i,j] != 0:\n",
    "                wp = np.zeros(n)\n",
    "                vp = np.zeros(n)\n",
    "                vp[i] = 1\n",
    "                vp[j] = 1\n",
    "                pauli_list.append((w[i,j],Pauli(vp,wp)))"
   ]
  },
  {
   "cell_type": "code",
   "execution_count": 6,
   "metadata": {},
   "outputs": [
    {
     "name": "stdout",
     "output_type": "stream",
     "text": [
      "-3.0\n"
     ]
    }
   ],
   "source": [
    "#Making the Hamiltonian in its full form and getting the lowest eigenvalue and egienvector\n",
    "H = make_Hamiltonian(pauli_list)\n",
    "w, v = la.eigh(H, eigvals=(0, 1))\n",
    "exact = w[0]\n",
    "print(exact)"
   ]
  },
  {
   "cell_type": "code",
   "execution_count": 7,
   "metadata": {},
   "outputs": [
    {
     "data": {
      "text/plain": [
       "True"
      ]
     },
     "execution_count": 7,
     "metadata": {},
     "output_type": "execute_result"
    }
   ],
   "source": [
    "#Setting up a quantum program and connecting to the Quantum Experience API\n",
    "Q_program = QuantumProgram()\n",
    "# set the APIToken and API url\n",
    "Q_program.set_api(Qconfig.APItoken, Qconfig.config[\"url\"])"
   ]
  },
  {
   "cell_type": "code",
   "execution_count": 8,
   "metadata": {},
   "outputs": [
    {
     "name": "stdout",
     "output_type": "stream",
     "text": [
      "Energy at theta+ for step # 0\n",
      "-0.201829118378\n",
      "Energy at theta- for step # 0\n",
      "-0.520996913728\n",
      "Energy at theta+ for step # 20\n",
      "-0.634921959747\n",
      "Energy at theta- for step # 20\n",
      "-1.17555285032\n",
      "Energy at theta+ for step # 40\n",
      "-2.25025948963\n",
      "Energy at theta- for step # 40\n",
      "-2.39083952035\n",
      "Energy at theta+ for step # 60\n",
      "-2.86038517984\n",
      "Energy at theta- for step # 60\n",
      "-2.83037275546\n",
      "Energy at theta+ for step # 80\n",
      "-2.93259090283\n",
      "Energy at theta- for step # 80\n",
      "-2.91817339472\n",
      "Final Energy is: -2.98653271876\n"
     ]
    },
    {
     "data": {
      "text/plain": [
       "<matplotlib.text.Text at 0x10fd68978>"
      ]
     },
     "execution_count": 8,
     "metadata": {},
     "output_type": "execute_result"
    },
    {
     "data": {
      "image/png": "[encoded data removed]",
      "text/plain": [
       "<matplotlib.figure.Figure at 0x10bbeeb38>"
      ]
     },
     "metadata": {},
     "output_type": "display_data"
    }
   ],
   "source": [
    "# Testing a trial funciton ry state input\n",
    "\n",
    "# Quantum circuit parameters\n",
    "entangler_map = {0: [1], 1: [2], 2: [3]} # the map of two-qubit gates with control at key and target at values\n",
    "device = 'local_qasm_simulator' # the device to run on\n",
    "\n",
    "# Numerical parameters \n",
    "SPSA_parameters = [1,.1,.602,.101,0] # [a,c,alpha,gamma,A]\n",
    "max_trials = 100;\n",
    "max_depth = 3\n",
    "n = 4 # the number of qubits \n",
    "initial_theta=np.random.randn(max_depth*n)\n",
    "shots = 1 \n",
    "save_step = 20\n",
    "\n",
    "if shots == 1:\n",
    "    obj_funct_partial = partial(obj_funct, Q_program, H, n, max_depth, device, shots)\n",
    "else:\n",
    "    obj_funct_partial = partial(obj_funct, Q_program, pauli_list, n, max_depth, device, shots)\n",
    "\n",
    "output = SPSA_optimization(obj_funct_partial, initial_theta, SPSA_parameters, max_trials, save_step)\n",
    "plt.plot(output[2],label='C(theta_plus)')\n",
    "plt.plot(output[3],label='C(theta_minus)')\n",
    "plt.plot(np.ones(max_trials//save_step)*output[0], label='Final Cost')\n",
    "plt.plot(np.ones(max_trials//save_step)*exact, label='Exact Cost')\n",
    "plt.legend()\n",
    "plt.xlabel('Trial state')\n",
    "plt.ylabel('Cost')"
   ]
  },
  {
   "cell_type": "code",
   "execution_count": 9,
   "metadata": {},
   "outputs": [
    {
     "data": {
      "image/png": "[encoded data removed]",
      "text/plain": [
       "<matplotlib.figure.Figure at 0x10fd5f128>"
      ]
     },
     "metadata": {},
     "output_type": "display_data"
    }
   ],
   "source": [
    "shots = 5000\n",
    "circuits = [\"final_circuit\"]   \n",
    "Q_program.add_circuit(\"final_circuit\", trial_circuit_ry(n, max_depth, output[1], entangler_map,None,True))\n",
    "Q_program.execute(circuits, device, shots)\n",
    "data = Q_program.get_counts(\"final_circuit\")\n",
    "plot_histogram(data,5)"
   ]
  },
  {
   "cell_type": "markdown",
   "metadata": {},
   "source": [
    "## Traveling Salesman for 4 cities (9 qubits)\n",
    "\n",
    "For the second problem we consider the traveling salesman problem on 4 cities. In this case there are (N-1)! two different combinations."
   ]
  },
  {
   "cell_type": "code",
   "execution_count": 10,
   "metadata": {},
   "outputs": [
    {
     "data": {
      "image/png": "[encoded data removed]",
      "text/plain": [
       "<matplotlib.figure.Figure at 0x110201710>"
      ]
     },
     "metadata": {},
     "output_type": "display_data"
    }
   ],
   "source": [
    "# choosing the cities \n",
    "N = 4\n",
    "xc = (np.random.rand(N)-0.5)*10\n",
    "yc = (np.random.rand(N)-0.5)*10\n",
    "\n",
    "plt.scatter(xc, yc)\n",
    "plt.show()"
   ]
  },
  {
   "cell_type": "code",
   "execution_count": 11,
   "metadata": {
    "collapsed": true
   },
   "outputs": [],
   "source": [
    "# getting the distances \n",
    "w = np.zeros([N,N])\n",
    "for i in range(N):\n",
    "    for j in range(N):\n",
    "        w[i,j]= np.sqrt((xc[i]-xc[j])**2+(yc[i]-yc[j])**2)"
   ]
  },
  {
   "cell_type": "markdown",
   "metadata": {},
   "source": [
    "### Brute force approach\n",
    "\n",
    "The brute force approach is to try all permutations. The number of permutations of N cities is (N-1)! which for \n",
    "\n",
    "N = 4 # paths = 6\n",
    "\n",
    "N = 8 # paths = 5040\n",
    "\n",
    "N = 16 # paths = 1.3076744e+12"
   ]
  },
  {
   "cell_type": "code",
   "execution_count": 69,
   "metadata": {},
   "outputs": [
    {
     "data": {
      "image/png": "[encoded data removed]",
      "text/plain": [
       "<matplotlib.figure.Figure at 0x1104f0320>"
      ]
     },
     "metadata": {},
     "output_type": "display_data"
    },
    {
     "name": "stdout",
     "output_type": "stream",
     "text": [
      "order = (0, 1, 2, 3) Distance = 15.0360772665\n"
     ]
    },
    {
     "data": {
      "image/png": "[encoded data removed]",
      "text/plain": [
       "<matplotlib.figure.Figure at 0x10fe476d8>"
      ]
     },
     "metadata": {},
     "output_type": "display_data"
    },
    {
     "name": "stdout",
     "output_type": "stream",
     "text": [
      "order = (0, 1, 3, 2) Distance = 13.2111098383\n"
     ]
    },
    {
     "data": {
      "image/png": "[encoded data removed]",
      "text/plain": [
       "<matplotlib.figure.Figure at 0x10ff32588>"
      ]
     },
     "metadata": {},
     "output_type": "display_data"
    },
    {
     "name": "stdout",
     "output_type": "stream",
     "text": [
      "order = (0, 2, 1, 3) Distance = 13.6311476207\n"
     ]
    },
    {
     "data": {
      "image/png": "[encoded data removed]",
      "text/plain": [
       "<matplotlib.figure.Figure at 0x11002f4a8>"
      ]
     },
     "metadata": {},
     "output_type": "display_data"
    },
    {
     "name": "stdout",
     "output_type": "stream",
     "text": [
      "order = (0, 2, 3, 1) Distance = 13.2111098383\n"
     ]
    },
    {
     "data": {
      "image/png": "[encoded data removed]",
      "text/plain": [
       "<matplotlib.figure.Figure at 0x11098e4a8>"
      ]
     },
     "metadata": {},
     "output_type": "display_data"
    },
    {
     "name": "stdout",
     "output_type": "stream",
     "text": [
      "order = (0, 3, 1, 2) Distance = 13.6311476207\n"
     ]
    },
    {
     "data": {
      "image/png": "[encoded data removed]",
      "text/plain": [
       "<matplotlib.figure.Figure at 0x110054668>"
      ]
     },
     "metadata": {},
     "output_type": "display_data"
    },
    {
     "name": "stdout",
     "output_type": "stream",
     "text": [
      "order = (0, 3, 2, 1) Distance = 15.0360772665\n",
      "Best order = (0, 1, 3, 2) and distance = 13.2111098383\n"
     ]
    }
   ],
   "source": [
    "a=list(permutations(range(1,N)))\n",
    "last_best_distance = 10000000\n",
    "for i in a:\n",
    "    distance = 0 \n",
    "    pre_j = 0\n",
    "    for j in i:\n",
    "        distance = distance + w[j,pre_j]\n",
    "        pre_j = j\n",
    "    distance = distance + w[0,pre_j]\n",
    "    order = (0,) + i\n",
    "    if distance < last_best_distance:\n",
    "        best_order = order\n",
    "        last_best_distance = distance\n",
    "    plt.scatter(xc, yc)\n",
    "    xbest = np.array([xc[i] for i in order])\n",
    "    ybest = np.array([yc[i] for i in order])\n",
    "    plt.plot(xc[0], yc[0], 'r*')\n",
    "    plt.plot(xbest, ybest)\n",
    "    plt.show()\n",
    "    print(\"order = \" + str(order) + \" Distance = \" + str(distance))\n",
    "\n",
    "best_distance_brute = last_best_distance\n",
    "best_order_brute = best_order\n",
    "print(\"Best order = \" + str(best_order_brute) + \" and distance = \" + str(best_distance_brute))"
   ]
  },
  {
   "cell_type": "markdown",
   "metadata": {},
   "source": [
    "### Mapping to binary bits"
   ]
  },
  {
   "cell_type": "markdown",
   "metadata": {},
   "source": [
    "Recall the cost function is of the form \n",
    "\n",
    "$$C(\\textbf{x})=\\sum_{(i,j)\\in E}w_{ij}\\sum_{p=1}^{N-2} x_{i,p}x_{j,p+1}+\\sum_{(0,j)\\in E}w_{0j} x_{j,1}+\\sum_{(i,0)\\in E}w_{i0} x_{i,N-1}+ A\\sum_{p=1}^{N-1}\\left(1- \\sum_{i=1}^{N-1} x_{i,p}\\right)^2+A\\sum_i\\left(1- \\sum_{p=1}^{N-1} x_{i,p}\\right)^2 $$"
   ]
  },
  {
   "cell_type": "code",
   "execution_count": 95,
   "metadata": {},
   "outputs": [],
   "source": [
    "n=(N-1)**2 # number of qubits\n",
    "A = np.max(w)*100 # A parameter of cost function\n",
    "\n",
    "wsave = w[1:N,1:N]\n",
    "shift = np.zeros([N-1,N-1])\n",
    "shift = la.toeplitz([0,1,0], [1,1,0])/2\n",
    "\n",
    "test1 = np.zeros([N-1])\n",
    "test1[0] = 1;\n",
    "test2 = np.zeros([N-1])\n",
    "test2[N-2] = 1;\n",
    "\n",
    "Q = np.kron(wsave,shift) + np.kron(A*np.ones((N-1, N-1)), np.identity(N-1)) + np.kron(np.identity(N-1),A*np.ones((N-1, N-1)))\n",
    "G = np.kron(w[0,1:N],test1) + np.kron(test2,w[1:N,0]) - 4*A*np.kron(np.ones(N-1),np.ones(N-1))\n",
    "M = 2*A*(N-1)\n",
    "\n",
    "fun = lambda x: np.dot(np.around(x),np.dot(Q,np.around(x)))+np.dot(G,np.around(x))+M\n",
    "\n",
    "def get_order_tsp(x):\n",
    "    order = [0]\n",
    "    for p in range(N-1):\n",
    "        for j in range(N-1):\n",
    "            if x[(N-1)*j+p]==1:\n",
    "                order.append(j+1)\n",
    "    return order\n",
    "\n",
    "def get_x_tsp(order):\n",
    "    x = np.zeros((len(order)-1)**2)\n",
    "    for j in range(1,len(order)):\n",
    "        p=order[j]\n",
    "        x[(N-1)*(j-1)+(p-1)]=1\n",
    "    return x"
   ]
  },
  {
   "cell_type": "code",
   "execution_count": 96,
   "metadata": {},
   "outputs": [
    {
     "data": {
      "text/plain": [
       "-6.2172489379008766e-14"
      ]
     },
     "execution_count": 96,
     "metadata": {},
     "output_type": "execute_result"
    }
   ],
   "source": [
    "xopt =get_x_tsp(best_order_brute)\n",
    "fun(xopt)-best_distance_brute"
   ]
  },
  {
   "cell_type": "code",
   "execution_count": 99,
   "metadata": {},
   "outputs": [
    {
     "name": "stdout",
     "output_type": "stream",
     "text": [
      "distance = 15.0360772665 order = [0, 3, 2, 1] temp = 0.00045173345977048254\n"
     ]
    }
   ],
   "source": [
    "# stupid simulated annealing\n",
    "initial_x = np.random.randint(2, size=n)\n",
    "\n",
    "cost = fun(initial_x)\n",
    "x = np.copy(initial_x)\n",
    "alpha = 0.999\n",
    "temp = 10\n",
    "for j in range(10000):\n",
    "    flip=np.random.randint(len(x))\n",
    "    new_x = np.copy(x)\n",
    "    new_x[flip]=(x[flip]+1)%2\n",
    "    new_cost=fun(new_x)\n",
    "    if new_cost < cost:\n",
    "        x = np.copy(new_x)\n",
    "        cost = new_cost\n",
    "    temp= temp*alpha\n",
    "print(\"distance = \" + str(cost) + \" order = \" + str(get_order_tsp(x)) + \" temp = \" + str(temp))"
   ]
  },
  {
   "cell_type": "code",
   "execution_count": 86,
   "metadata": {},
   "outputs": [
    {
     "data": {
      "text/plain": [
       "array([[ 0.        ,  3.56032249,  2.42892165,  6.14637302],\n",
       "       [ 3.56032249,  0.        ,  1.5816845 ,  3.47416845],\n",
       "       [ 2.42892165,  1.5816845 ,  0.        ,  3.74769725],\n",
       "       [ 6.14637302,  3.47416845,  3.74769725,  0.        ]])"
      ]
     },
     "execution_count": 86,
     "metadata": {},
     "output_type": "execute_result"
    }
   ],
   "source": [
    "w"
   ]
  },
  {
   "cell_type": "code",
   "execution_count": 94,
   "metadata": {},
   "outputs": [
    {
     "data": {
      "text/plain": [
       "13.211109838260263"
      ]
     },
     "execution_count": 94,
     "metadata": {},
     "output_type": "execute_result"
    }
   ],
   "source": [
    "w[0,2]+w[2,3]+w[3,1]+w[1,0]"
   ]
  },
  {
   "cell_type": "code",
   "execution_count": 103,
   "metadata": {},
   "outputs": [
    {
     "name": "stdout",
     "output_type": "stream",
     "text": [
      "13.2111098383\n",
      "14810.7806905\n",
      "3687.82381384\n",
      "12.0797089906\n",
      "12.0797089906\n",
      "12.0797089906\n",
      "12.0797089906\n",
      "12.0797089906\n",
      "12.0797089906\n",
      "12.0797089906\n",
      "12.0797089906\n",
      "12.0797089906\n",
      "12.0797089906\n",
      "12.0797089906\n",
      "12.0797089906\n",
      "12.0797089906\n",
      "12.0797089906\n",
      "12.0797089906\n",
      "12.0797089906\n",
      "12.0797089906\n",
      "12.0797089906\n",
      "12.0797089906\n",
      "12.0797089906\n",
      "12.0797089906\n",
      "12.0797089906\n",
      "12.0797089906\n",
      "12.0797089906\n",
      "12.0797089906\n",
      "12.0797089906\n",
      "12.0797089906\n",
      "12.0797089906\n",
      "12.0797089906\n",
      "12.0797089906\n",
      "12.0797089906\n",
      "12.0797089906\n",
      "12.0797089906\n",
      "12.0797089906\n",
      "12.0797089906\n",
      "12.0797089906\n",
      "12.0797089906\n",
      "12.0797089906\n",
      "12.0797089906\n",
      "12.0797089906\n",
      "12.0797089906\n",
      "12.0797089906\n",
      "12.0797089906\n",
      "12.0797089906\n",
      "12.0797089906\n",
      "12.0797089906\n",
      "12.0797089906\n",
      "12.0797089906\n",
      "12.0797089906\n",
      "12.0797089906\n",
      "12.0797089906\n",
      "12.0797089906\n",
      "12.0797089906\n",
      "12.0797089906\n",
      "12.0797089906\n",
      "12.0797089906\n",
      "12.0797089906\n",
      "12.0797089906\n",
      "12.0797089906\n",
      "12.0797089906\n",
      "12.0797089906\n",
      "12.0797089906\n",
      "12.0797089906\n",
      "12.0797089906\n",
      "12.0797089906\n",
      "12.0797089906\n",
      "12.0797089906\n",
      "12.0797089906\n",
      "12.0797089906\n",
      "12.0797089906\n",
      "12.0797089906\n",
      "12.0797089906\n",
      "12.0797089906\n",
      "12.0797089906\n",
      "12.0797089906\n",
      "12.0797089906\n",
      "12.0797089906\n",
      "12.0797089906\n",
      "12.0797089906\n",
      "12.0797089906\n",
      "12.0797089906\n",
      "12.0797089906\n",
      "12.0797089906\n",
      "12.0797089906\n",
      "12.0797089906\n",
      "12.0797089906\n",
      "12.0797089906\n",
      "12.0797089906\n",
      "12.0797089906\n",
      "12.0797089906\n",
      "12.0797089906\n",
      "12.0797089906\n",
      "12.0797089906\n",
      "12.0797089906\n",
      "12.0797089906\n",
      "12.0797089906\n",
      "12.0797089906\n",
      "12.0797089906\n",
      "12.0797089906\n",
      "12.0797089906\n",
      "12.0797089906\n",
      "12.0797089906\n",
      "12.0797089906\n",
      "12.0797089906\n",
      "12.0797089906\n",
      "12.0797089906\n",
      "12.0797089906\n",
      "12.0797089906\n",
      "12.0797089906\n",
      "12.0797089906\n",
      "12.0797089906\n",
      "12.0797089906\n",
      "12.0797089906\n",
      "12.0797089906\n",
      "12.0797089906\n",
      "12.0797089906\n",
      "12.0797089906\n",
      "12.0797089906\n",
      "12.0797089906\n",
      "12.0797089906\n",
      "12.0797089906\n",
      "12.0797089906\n",
      "12.0797089906\n",
      "12.0797089906\n",
      "12.0797089906\n",
      "12.0797089906\n",
      "12.0797089906\n",
      "12.0797089906\n",
      "12.0797089906\n",
      "12.0797089906\n",
      "12.0797089906\n",
      "12.0797089906\n",
      "12.0797089906\n",
      "12.0797089906\n",
      "12.0797089906\n",
      "12.0797089906\n",
      "12.0797089906\n",
      "12.0797089906\n",
      "12.0797089906\n",
      "12.0797089906\n",
      "12.0797089906\n",
      "12.0797089906\n",
      "12.0797089906\n",
      "12.0797089906\n",
      "12.0797089906\n",
      "12.0797089906\n",
      "12.0797089906\n",
      "12.0797089906\n",
      "12.0797089906\n",
      "12.0797089906\n",
      "12.0797089906\n",
      "12.0797089906\n",
      "12.0797089906\n",
      "12.0797089906\n",
      "12.0797089906\n",
      "12.0797089906\n",
      "12.0797089906\n",
      "12.0797089906\n",
      "12.0797089906\n",
      "12.0797089906\n",
      "12.0797089906\n",
      "12.0797089906\n",
      "12.0797089906\n",
      "12.0797089906\n",
      "12.0797089906\n",
      "12.0797089906\n",
      "12.0797089906\n",
      "12.0797089906\n",
      "12.0797089906\n",
      "12.0797089906\n",
      "12.0797089906\n",
      "12.0797089906\n",
      "12.0797089906\n",
      "12.0797089906\n",
      "12.0797089906\n",
      "12.0797089906\n",
      "12.0797089906\n",
      "12.0797089906\n",
      "12.0797089906\n",
      "12.0797089906\n",
      "12.0797089906\n",
      "12.0797089906\n",
      "12.0797089906\n",
      "12.0797089906\n",
      "12.0797089906\n",
      "12.0797089906\n",
      "12.0797089906\n",
      "12.0797089906\n",
      "12.0797089906\n",
      "12.0797089906\n",
      "12.0797089906\n",
      "12.0797089906\n",
      "12.0797089906\n",
      "12.0797089906\n",
      "12.0797089906\n",
      "12.0797089906\n",
      "12.0797089906\n",
      "12.0797089906\n",
      "12.0797089906\n",
      "12.0797089906\n"
     ]
    }
   ],
   "source": [
    "Iv = np.ones(n)\n",
    "zo = np.zeros(n)\n",
    "\n",
    "print(np.dot(xopt,np.dot(Q,xopt))+np.dot(G,xopt)+M)\n",
    "print(np.dot(Iv,np.dot(Q,Iv))+np.dot(G,Iv)+M)\n",
    "print(np.dot(zo,np.dot(Q,zo))+np.dot(G,zo)+M)\n",
    "for i in range(100000):\n",
    "    rd =  np.random.randint(2, size=n)\n",
    "    if np.dot(rd,np.dot(Q,rd))+np.dot(G,rd)+M < (best_distance_brute-0.0001):\n",
    "        print(np.dot(rd,np.dot(Q,rd))+np.dot(G,rd)+M)"
   ]
  },
  {
   "cell_type": "code",
   "execution_count": null,
   "metadata": {},
   "outputs": [],
   "source": [
    "Qz = (Q/4)\n",
    "Gz =( -G/2-np.dot(Iv,Q/4)-np.dot(Q/4,Iv))\n",
    "Mz = (M+np.dot(G/2,Iv)+np.dot(Iv,np.dot(Q/4,Iv)))\n",
    "\n",
    "Mz = Mz + np.trace(Qz)\n",
    "Qz = Qz - np.diag(np.diag(Qz))\n",
    "\n",
    "#x = (1-z)/2\n",
    "# z = -2x+1\n",
    "z= -2*xopt+Iv\n",
    "print(np.dot(z,np.dot(Qz,z))+np.dot(Gz,z)+Mz)\n",
    "print(np.dot(-Iv,np.dot(Qz,-Iv))+np.dot(Gz,-Iv)+Mz)\n",
    "print(np.dot(Iv,np.dot(Qz,Iv))+np.dot(Gz,Iv)+Mz)\n",
    "for i in range(100):\n",
    "    rd =  1-2*np.random.randint(2, size=n)\n",
    "    if np.dot(rd,np.dot(Qz,rd))+np.dot(Gz,rd)+Mz<0:\n",
    "        print(np.dot(rd,np.dot(Qz,rd))+np.dot(Gz,rd)+Mz)"
   ]
  },
  {
   "cell_type": "code",
   "execution_count": null,
   "metadata": {},
   "outputs": [],
   "source": [
    "pauli_list = []\n",
    "for i in range(n):\n",
    "    if Gz[i] != 0:\n",
    "        wp = np.zeros(n)\n",
    "        vp = np.zeros(n)\n",
    "        vp[i] = 1\n",
    "        pauli_list.append((Gz[i],Pauli(vp,wp)))\n",
    "for i in range(n):\n",
    "    for j in range(i):\n",
    "        if Qz[i,j] != 0:\n",
    "            wp = np.zeros(n)\n",
    "            vp = np.zeros(n)\n",
    "            vp[i] = 1\n",
    "            vp[j] = 1\n",
    "            pauli_list.append((2*Qz[i,j],Pauli(vp,wp)))"
   ]
  },
  {
   "cell_type": "code",
   "execution_count": null,
   "metadata": {},
   "outputs": [],
   "source": [
    "H = make_Hamiltonian(pauli_list)\n",
    "we, v = la.eigh(H, eigvals=(0,0))\n",
    "exact = we[0]\n",
    "print(exact)\n",
    "print(exact+Mz)"
   ]
  },
  {
   "cell_type": "code",
   "execution_count": null,
   "metadata": {},
   "outputs": [],
   "source": [
    "for i in range(2**n):\n",
    "    if v[i] == np.array([ 1.+0.j]):\n",
    "        print(i)"
   ]
  },
  {
   "cell_type": "code",
   "execution_count": null,
   "metadata": {},
   "outputs": [],
   "source": [
    "bin(161).zfill(n)"
   ]
  },
  {
   "cell_type": "code",
   "execution_count": null,
   "metadata": {},
   "outputs": [],
   "source": [
    "xopt"
   ]
  },
  {
   "cell_type": "code",
   "execution_count": null,
   "metadata": {},
   "outputs": [],
   "source": [
    "bin(161)[2:].zfill(n)"
   ]
  },
  {
   "cell_type": "code",
   "execution_count": null,
   "metadata": {},
   "outputs": [],
   "source": [
    "#Setting up a quantum program and connecting to the Quantum Experience API\n",
    "Q_program = QuantumProgram()\n",
    "# set the APIToken and API url\n",
    "Q_program.set_api(Qconfig.APItoken, Qconfig.config[\"url\"])"
   ]
  },
  {
   "cell_type": "code",
   "execution_count": null,
   "metadata": {},
   "outputs": [],
   "source": [
    "# Testing a trial funciton ry state input\n",
    "\n",
    "# Quantum circuit parameters\n",
    "entangler_map = {0: [1], 1: [2], 2: [3], 3: [4], 4: [5], 5: [6], 6: [7], 7: [8]} # the map of two-qubit gates with control at key and target at values\n",
    "device = 'local_qasm_simulator' # the device to run on\n",
    "\n",
    "# Numerical parameters \n",
    "SPSA_parameters = [100,.1,.602,.101,0] # [a,c,alpha,gamma,A]\n",
    "max_trials = 100;\n",
    "max_depth = 3\n",
    "save_step = 20\n",
    "n = 9 # the number of qubits \n",
    "initial_theta=np.random.randn(max_depth*n)\n",
    "shots = 1 \n",
    "\n",
    "if shots == 1:\n",
    "    obj_funct_partial = partial(obj_funct, Q_program, H, n, max_depth, device, shots)\n",
    "else:\n",
    "    obj_funct_partial = partial(obj_funct, Q_program, pauli_list, n, max_depth, device, shots)\n",
    "\n",
    "output = SPSA_optimization(obj_funct_partial, initial_theta, SPSA_parameters, max_trials, save_step)\n",
    "plt.plot(output[2],label='C(theta_plus)')\n",
    "plt.plot(output[3],label='C(theta_minus)')\n",
    "plt.plot(np.ones(max_trials//save_step)*output[0],label='Final Cost')\n",
    "plt.plot(np.ones(max_trials//save_step)*exact,label='Exact Cost')\n",
    "plt.legend()\n",
    "plt.xlabel('Trial state')\n",
    "plt.ylabel('Cost')"
   ]
  },
  {
   "cell_type": "code",
   "execution_count": null,
   "metadata": {},
   "outputs": [],
   "source": [
    "shots = 5000\n",
    "circuits = [\"final_circuit\"]   \n",
    "Q_program.add_circuit(\"final_circuit\", trial_circuit_ry(n, max_depth, output[1], entangler_map,None,True))\n",
    "Q_program.execute(circuits, device, shots)\n",
    "data = Q_program.get_counts(\"final_circuit\")\n",
    "plot_histogram(data,5)"
   ]
  },
  {
   "cell_type": "code",
   "execution_count": null,
   "metadata": {
    "collapsed": true
   },
   "outputs": [],
   "source": []
  }
 ],
 "metadata": {
  "anaconda-cloud": {},
  "kernelspec": {
   "display_name": "Python 3",
   "language": "python",
   "name": "python3"
  },
  "language_info": {
   "codemirror_mode": {
    "name": "ipython",
    "version": 3
   },
   "file_extension": ".py",
   "mimetype": "text/x-python",
   "name": "python",
   "nbconvert_exporter": "python",
   "pygments_lexer": "ipython3",
   "version": "3.6.1"
  }
 },
 "nbformat": 4,
 "nbformat_minor": 1
}
