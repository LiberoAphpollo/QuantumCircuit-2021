{
 "cells": [
  {
   "cell_type": "code",
   "execution_count": null,
   "metadata": {
    "collapsed": true
   },
   "outputs": [],
   "source": []
  },
  {
   "cell_type": "code",
   "execution_count": 1,
   "metadata": {},
   "outputs": [],
   "source": [
    "# Checking the version of PYTHON; we only support 3 at the moment\n",
    "import sys\n",
    "if sys.version_info < (3,0):\n",
    "    raise Exception(\"Please use Python version 3 or greater.\")\n",
    "    \n",
    "# useful additional packages \n",
    "import matplotlib.pyplot as plt\n",
    "%matplotlib inline\n",
    "import numpy as np\n",
    "from scipy import linalg as la\n",
    "from itertools import permutations\n",
    "from functools import partial, reduce\n",
    "import networkx as nx\n",
    "\n",
    "import sys\n",
    "sys.path.append(\"../../\")\n",
    "# importing the QISKit\n",
    "from qiskit import QuantumProgram, QuantumCircuit\n",
    "import Qconfig\n",
    "\n",
    "from re import match\n",
    "import itertools as it\n",
    "from functools import reduce\n",
    "from tools.vizualization import plot_state\n",
    "from tools.qi import *\n",
    "from tools.pauli import pauli_group\n",
    "import tools.tomography as tomo"
   ]
  },
  {
   "cell_type": "code",
   "execution_count": 26,
   "metadata": {
    "scrolled": true
   },
   "outputs": [],
   "source": [
    "X0 = np.array([[0.5, 0.5], [0.5, 0.5]])\n",
    "X1 = np.array([[0.5, -0.5], [-0.5, 0.5]])\n",
    "Y0 = np.array([[0.5, -0.5j], [0.5j, 0.5]])\n",
    "Y1 = np.array([[0.5, 0.5j], [-0.5j, 0.5]])\n",
    "Z0 = np.array([[1, 0], [0, 0]])\n",
    "Z1 = np.array([[0, 0], [0, 1]])\n",
    "\n",
    "pauli_basis = {'X': [X0, X1], 'Y': [Y0, Y1], 'Z': [Z0, Z1]}"
   ]
  },
  {
   "cell_type": "code",
   "execution_count": 3,
   "metadata": {},
   "outputs": [],
   "source": [
    "def process_tomo_data(Q_program, name, meas_qubits, basis=None):\n",
    "    if basis is None:\n",
    "        basis = pauli_basis\n",
    "    labels = tomo.process_tomography_labels(name, meas_qubits)\n",
    "    counts = [tomo.marginal_counts(Q_program.get_counts(circ), meas_qubits) for circ in labels]\n",
    "    meas_basis = counts_basis(len(meas_qubits), basis)\n",
    "    prep_basis = counts_basis(len(meas_qubits), basis)\n",
    "    ret = [ {'prep_basis': i, 'meas_basis': j} \n",
    "           for i in prep_basis for j in meas_basis]\n",
    "    for i in range(len(counts)):\n",
    "        ret[i]['counts'] = counts[i]\n",
    "    return ret"
   ]
  },
  {
   "cell_type": "code",
   "execution_count": 5,
   "metadata": {
    "collapsed": true
   },
   "outputs": [],
   "source": [
    "def state_linear_inv(qp, name, meas_qubits):\n",
    "    if isinstance(meas_qubits, int):\n",
    "        meas_qubits = [meas_qubits]\n",
    "    state_dat = state_tomo_data(qp, name, meas_qubits)\n",
    "    ks = tomo.__counts_keys(len(meas_qubits))\n",
    "    state_cts = np.array([dat['counts'][k] for dat in state_dat for k in ks])\n",
    "    state_ops = [dat['meas_basis'][k] for dat in state_dat for k in ks]\n",
    "    return tomo_linear_inv(state_cts, state_ops)\n",
    "\n",
    "def process_linear_inv(qp, name, meas_qubits):\n",
    "    if isinstance(meas_qubits, int):\n",
    "        meas_qubits = [meas_qubits]\n",
    "    proc_dat = process_tomo_data(qp, name, meas_qubits)\n",
    "    ks = tomo.__counts_keys(len(meas_qubits))\n",
    "    proc_cts = np.array([dat['counts'][k] for dat in proc_dat for k in ks])\n",
    "    proc_ops = [np.kron(dat['prep_basis'][k].T, dat['meas_basis'][k]) for dat in proc_dat for k in ks]\n",
    "    return tomo_linear_inv(proc_cts, proc_ops, trace=2**len(meas_qubits))"
   ]
  },
  {
   "cell_type": "code",
   "execution_count": 14,
   "metadata": {},
   "outputs": [],
   "source": [
    "state_data = tomo.state_tomography_data(qp, 'x', [0])"
   ]
  },
  {
   "cell_type": "code",
   "execution_count": 19,
   "metadata": {},
   "outputs": [
    {
     "data": {
      "text/plain": [
       "array([dict_values([4893, 5107]), dict_values([4979, 5021]),\n",
       "       dict_values([0, 10000])], dtype=object)"
      ]
     },
     "execution_count": 19,
     "metadata": {},
     "output_type": "execute_result"
    }
   ],
   "source": [
    "cts = []\n",
    "ops = []\n",
    "[dat['counts'].values() for dat in state_data])"
   ]
  },
  {
   "cell_type": "code",
   "execution_count": 20,
   "metadata": {
    "collapsed": true
   },
   "outputs": [],
   "source": [
    "def __state_least_sq_fit(state_data, weights=None, beta=0.5):\n",
    "    ks = state_data[0]['counts'].keys()\n",
    "    \n",
    "    # Get counts and shots\n",
    "    ns = np.array([dat['counts'][k] for dat in state_dat for k in ks])\n",
    "    shots = np.array([dat['shots'] for dat in state_dat for k in ks])\n",
    "    \n",
    "    # convert to freqs\n",
    "    freqs = (ns + beta) / (shots + 2 * beta)\n",
    "    \n",
    "    # Use standard least squares fitting weights\n",
    "    if weights is None:\n",
    "        weights = np.sqrt(shots / (freqs * (1 - freqs)))\n",
    "    \n",
    "    # Get measurement basis ops\n",
    "    ops = [dat['meas_basis'][k] for dat in state_dat for k in ks]\n",
    "    \n",
    "    return tomo_linear_inv(freqs, ops, weights, trace=1)"
   ]
  },
  {
   "cell_type": "code",
   "execution_count": 6,
   "metadata": {},
   "outputs": [
    {
     "ename": "NameError",
     "evalue": "name 'pauli_basis' is not defined",
     "output_type": "error",
     "traceback": [
      "\u001b[0;31m-----------------------------------------------------------------------\u001b[0m",
      "\u001b[0;31mNameError\u001b[0m                             Traceback (most recent call last)",
      "\u001b[0;32m<ipython-input-6-d0a5785a0dc0>\u001b[0m in \u001b[0;36m<module>\u001b[0;34m()\u001b[0m\n\u001b[0;32m----> 1\u001b[0;31m \u001b[0mcounts_basis\u001b[0m\u001b[0;34m(\u001b[0m\u001b[0;36m1\u001b[0m\u001b[0;34m,\u001b[0m \u001b[0mpauli_basis\u001b[0m\u001b[0;34m)\u001b[0m\u001b[0;34m\u001b[0m\u001b[0m\n\u001b[0m",
      "\u001b[0;31mNameError\u001b[0m: name 'pauli_basis' is not defined"
     ]
    }
   ],
   "source": [
    "def reconstruct_state(state_data=None, method='wizard'):\n",
    "    \"\"\"\n",
    "    Returns the reconstructed density matrix.\n",
    "    \"\"\"\n",
    "    m = len(meas_qubits)\n",
    "    counts = np.array([__none_to_zero(Q_program.get_counts(c).get(s))\n",
    "                        for c in tomo_circuits\n",
    "                        for s in tomo_outcome_strings(meas_qubits, nq)])\n",
    "    if method == 'leastsq_wizard':\n",
    "        return fit_state(counts / shots, nqubit_basis(m), normalize_flag=True, wizard_flag=True)\n",
    "    elif method == 'least_sq':\n",
    "        return fit_state(counts / shots, nqubit_basis(m), normalize_flag=True, wizard_flag=False)\n",
    "    else:\n",
    "        print(\"error: unknown reconstruction method\")\n"
   ]
  },
  {
   "cell_type": "code",
   "execution_count": 95,
   "metadata": {},
   "outputs": [
    {
     "data": {
      "text/plain": [
       "['id_pX0_mX0',\n",
       " 'id_pX0_mY0',\n",
       " 'id_pX0_mZ0',\n",
       " 'id_pY0_mX0',\n",
       " 'id_pY0_mY0',\n",
       " 'id_pY0_mZ0',\n",
       " 'id_pZ0_mX0',\n",
       " 'id_pZ0_mY0',\n",
       " 'id_pZ0_mZ0']"
      ]
     },
     "execution_count": 95,
     "metadata": {},
     "output_type": "execute_result"
    }
   ],
   "source": [
    "tomo.process_tomography_labels('id', [0])"
   ]
  },
  {
   "cell_type": "code",
   "execution_count": 68,
   "metadata": {},
   "outputs": [],
   "source": [
    "state_dat = state_tomo_data(qp, 'id', [0])\n",
    "ks = tomo.__counts_keys(1)\n",
    "state_cts = np.array([dat['counts'][k] for dat in state_dat for k in ks])\n",
    "state_ops = [dat['meas_basis'][k] for dat in state_dat for k in ks]\n",
    "beta = 0.5\n",
    "state_fs = (state_cts + beta) / (10000 + 2 * beta)\n",
    "state_ws = np.sqrt(10000 / (state_fs * (1-state_fs)))"
   ]
  },
  {
   "cell_type": "code",
   "execution_count": 67,
   "metadata": {},
   "outputs": [
    {
     "name": "stdout",
     "output_type": "stream",
     "text": [
      "[[ 1.0000+0.j      0.0026+0.0012j]\n",
      " [ 0.0026-0.0012j  0.0000+0.j    ]]\n",
      "[[ 0.99995+0.j  0.00000+0.j]\n",
      " [ 0.00000+0.j  0.00000+0.j]]\n",
      "[[ 1.0000+0.j      0.0026+0.0012j]\n",
      " [ 0.0026-0.0012j  0.0000+0.j    ]]\n"
     ]
    }
   ],
   "source": [
    "print(chop(tomo_linear_inv(state_cts / 10000, state_ops),1e-5))\n",
    "print(chop(tomo_linear_inv(state_fs, state_ops, weights=state_ws),1e-2))\n",
    "print(chop(tomo_linear_inv(state_cts, state_ops),1e-5))"
   ]
  },
  {
   "cell_type": "code",
   "execution_count": 90,
   "metadata": {},
   "outputs": [],
   "source": [
    "proc_dat = process_tomo_data(qp, 'z', [0])\n",
    "ks = tomo.__counts_keys(1)\n",
    "proc_cts = np.array([dat['counts'][k] for dat in proc_dat for k in ks])\n",
    "proc_ops = [np.kron(np.conj(dat['prep_basis'][k]), dat['meas_basis'][k]) for dat in proc_dat for k in ks]\n",
    "beta = 0.5\n",
    "proc_fs = (proc_cts + beta) / (10000 + 2 * beta)\n",
    "proc_ws = np.sqrt(10000 / (proc_fs * (1-proc_fs)))"
   ]
  },
  {
   "cell_type": "code",
   "execution_count": 91,
   "metadata": {},
   "outputs": [],
   "source": [
    "choi1 = chop(tomo_linear_inv(proc_cts / 10000, proc_ops, trace=2),1e-5)\n",
    "choi2 = chop(tomo_linear_inv(proc_fs, proc_ops, weights=proc_ws, trace=2),1e-4)\n",
    "choi3 = chop(tomo_linear_inv(proc_cts, proc_ops, trace=2),1e-5)"
   ]
  },
  {
   "cell_type": "code",
   "execution_count": 92,
   "metadata": {},
   "outputs": [
    {
     "data": {
      "image/png": "[encoded data removed]",
      "text/plain": [
       "<matplotlib.figure.Figure at 0x10ce56b38>"
      ]
     },
     "metadata": {},
     "output_type": "display_data"
    }
   ],
   "source": [
    "plot_state(choi2, method='paulivec')"
   ]
  },
  {
   "cell_type": "code",
   "execution_count": 4,
   "metadata": {
    "scrolled": true
   },
   "outputs": [
    {
     "name": "stdout",
     "output_type": "stream",
     "text": [
      ">> quantum_registers created: q1 1\n",
      ">> classical_registers created: c1 1\n",
      ">> created state tomography circuits for \"id\"\n",
      ">> created state tomography circuits for \"x\"\n",
      ">> created state tomography circuits for \"y\"\n",
      "running on backend: local_qasm_cpp_simulator\n"
     ]
    },
    {
     "data": {
      "text/plain": [
       "{'result': 'all done', 'status': 'COMPLETED'}"
      ]
     },
     "execution_count": 4,
     "metadata": {},
     "output_type": "execute_result"
    }
   ],
   "source": [
    "qp = QuantumProgram()\n",
    "qp.set_api(Qconfig.APItoken, Qconfig.config[\"url\"]) # set the APIToken and API url\n",
    "\n",
    "# Creating registers\n",
    "q1 = qp.create_quantum_registers(\"q1\", 1)\n",
    "c1 = qp.create_classical_registers(\"c1\", 1)\n",
    "\n",
    "# quantum circuit to make X, Y, Z gates \n",
    "gi = qp.create_circuit(\"id\", [q1], [c1])\n",
    "gx = qp.create_circuit(\"x\", [q1], [c1])\n",
    "gx.x(q1[0])\n",
    "gy = qp.create_circuit(\"y\", [q1], [c1])\n",
    "gy.y(q1[0])\n",
    "\n",
    "c1s = ['id', 'x', 'y']\n",
    "for c in c1s:\n",
    "    ls = tomo.build_state_tomography_circuits(qp, c, [0], q1, c1)\n",
    "    #lp = tomo.build_process_tomography_circuits(qp, c, 0, q1, c1)\n",
    "    qp.compile(ls, backend='local_qasm_cpp_simulator', shots=1000)\n",
    "qp.run()"
   ]
  },
  {
   "cell_type": "code",
   "execution_count": 7,
   "metadata": {},
   "outputs": [],
   "source": [
    "datx = tomo.state_tomography_data(qp, 'x', [0])\n",
    "datid = tomo.state_tomography_data(qp, 'id', [0])\n",
    "daty = tomo.state_tomography_data(qp, 'y', [0])"
   ]
  },
  {
   "cell_type": "code",
   "execution_count": 8,
   "metadata": {},
   "outputs": [
    {
     "data": {
      "text/plain": [
       "array([[  9.99500500e-01 -4.93639214e-25j,\n",
       "          3.99600400e-03 -5.99400599e-03j],\n",
       "       [  3.99600400e-03 +5.99400599e-03j,\n",
       "          4.99500500e-04 +4.93639214e-25j]])"
      ]
     },
     "execution_count": 8,
     "metadata": {},
     "output_type": "execute_result"
    }
   ],
   "source": [
    "tomo.fit_state(datid, method='leastsq')"
   ]
  },
  {
   "cell_type": "code",
   "execution_count": 10,
   "metadata": {},
   "outputs": [
    {
     "data": {
      "text/plain": [
       "array([[  9.99500500e-01+0.j        ,   3.99600400e-03-0.00599401j],\n",
       "       [  3.99600400e-03+0.00599401j,   4.99500500e-04+0.j        ]])"
      ]
     },
     "execution_count": 10,
     "metadata": {},
     "output_type": "execute_result"
    }
   ],
   "source": [
    "tomo.fit_state(datid, method='wizard')"
   ]
  },
  {
   "cell_type": "code",
   "execution_count": null,
   "metadata": {
    "collapsed": true
   },
   "outputs": [],
   "source": []
  }
 ],
 "metadata": {
  "kernelspec": {
   "display_name": "Python 3",
   "language": "python",
   "name": "python3"
  },
  "language_info": {
   "codemirror_mode": {
    "name": "ipython",
    "version": 3
   },
   "file_extension": ".py",
   "mimetype": "text/x-python",
   "name": "python",
   "nbconvert_exporter": "python",
   "pygments_lexer": "ipython3",
   "version": "3.6.0"
  }
 },
 "nbformat": 4,
 "nbformat_minor": 2
}
