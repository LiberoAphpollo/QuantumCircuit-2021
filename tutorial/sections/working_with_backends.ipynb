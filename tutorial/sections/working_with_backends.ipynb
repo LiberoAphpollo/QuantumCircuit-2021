{
 "cells": [
  {
   "cell_type": "markdown",
   "metadata": {},
   "source": [
    "<img src=\"../images/QISKit-c.gif\" alt=\"Note: In order for images to show up in this jupyter notebook you need to select File => Trusted Notebook\" width=\"250 px\" align=\"left\">"
   ]
  },
  {
   "cell_type": "markdown",
   "metadata": {},
   "source": [
    "## _*Working with the different backends*_ \n",
    "\n",
    "For more information about how to use the IBM Q experience (QX), consult the [tutorials](https://quantumexperience.ng.bluemix.net/qstage/#/tutorial?sectionId=c59b3710b928891a1420190148a72cce&pageIndex=0), or check out the [community](https://quantumexperience.ng.bluemix.net/qstage/#/community).\n",
    "\n",
    "***\n",
    "### Contributors\n",
    "Jay Gambetta"
   ]
  },
  {
   "cell_type": "code",
   "execution_count": 1,
   "metadata": {
    "collapsed": true
   },
   "outputs": [],
   "source": [
    "# Checking the version of PYTHON; we only support 3 at the moment\n",
    "import sys\n",
    "if sys.version_info < (3,0):\n",
    "    raise Exception(\"Please use Python version 3 or greater.\")\n",
    "    \n",
    "import sys\n",
    "sys.path.append(\"../../qiskit-sdk-py-dev/\")\n",
    "# importing the QISKit\n",
    "from qiskit import QuantumCircuit, QuantumProgram\n",
    "import Qconfig"
   ]
  },
  {
   "cell_type": "markdown",
   "metadata": {},
   "source": [
    "### ALL Backends\n",
    "\n",
    "Questions for Paco\n",
    "\n",
    "1. Why is the backend for the ibmqx_qasm_simulator saying Simulator"
   ]
  },
  {
   "cell_type": "code",
   "execution_count": 2,
   "metadata": {},
   "outputs": [
    {
     "data": {
      "text/plain": [
       "['ibmqx2',\n",
       " 'ibmqx3',\n",
       " 'Simulator',\n",
       " 'local_unitary_simulator',\n",
       " 'local_qasm_simulator',\n",
       " 'local_qasm_cpp_simulator']"
      ]
     },
     "execution_count": 2,
     "metadata": {},
     "output_type": "execute_result"
    }
   ],
   "source": [
    "Q_program = QuantumProgram()\n",
    "Q_program.set_api(Qconfig.APItoken, Qconfig.config[\"url\"]) # set the APIToken and API url\n",
    "Q_program.available_backends()"
   ]
  },
  {
   "cell_type": "markdown",
   "metadata": {},
   "source": [
    "### Backend status\n",
    "\n",
    "Questions for Paco\n",
    "\n",
    "1. Why does the Simulator return false when the experiment is calibrating?\n",
    "\n",
    "Question for Erick?\n",
    "\n",
    "1. Can we make the local_qasm_cpp_simulator return false if not compiled"
   ]
  },
  {
   "cell_type": "code",
   "execution_count": 3,
   "metadata": {},
   "outputs": [
    {
     "data": {
      "text/plain": [
       "{'available': True}"
      ]
     },
     "execution_count": 3,
     "metadata": {},
     "output_type": "execute_result"
    }
   ],
   "source": [
    "Q_program.get_backend_status(\"ibmqx2\")"
   ]
  },
  {
   "cell_type": "code",
   "execution_count": 4,
   "metadata": {},
   "outputs": [
    {
     "data": {
      "text/plain": [
       "{'available': True}"
      ]
     },
     "execution_count": 4,
     "metadata": {},
     "output_type": "execute_result"
    }
   ],
   "source": [
    "Q_program.get_backend_status(\"ibmqx3\")"
   ]
  },
  {
   "cell_type": "code",
   "execution_count": 5,
   "metadata": {},
   "outputs": [
    {
     "data": {
      "text/plain": [
       "{'available': True}"
      ]
     },
     "execution_count": 5,
     "metadata": {},
     "output_type": "execute_result"
    }
   ],
   "source": [
    "Q_program.get_backend_status(\"Simulator\")"
   ]
  },
  {
   "cell_type": "code",
   "execution_count": 6,
   "metadata": {},
   "outputs": [
    {
     "data": {
      "text/plain": [
       "{'available': True}"
      ]
     },
     "execution_count": 6,
     "metadata": {},
     "output_type": "execute_result"
    }
   ],
   "source": [
    "Q_program.get_backend_status(\"local_unitary_simulator\")"
   ]
  },
  {
   "cell_type": "code",
   "execution_count": 7,
   "metadata": {},
   "outputs": [
    {
     "data": {
      "text/plain": [
       "{'available': True}"
      ]
     },
     "execution_count": 7,
     "metadata": {},
     "output_type": "execute_result"
    }
   ],
   "source": [
    "Q_program.get_backend_status(\"local_qasm_simulator\")"
   ]
  },
  {
   "cell_type": "code",
   "execution_count": 8,
   "metadata": {},
   "outputs": [
    {
     "data": {
      "text/plain": [
       "{'available': True}"
      ]
     },
     "execution_count": 8,
     "metadata": {},
     "output_type": "execute_result"
    }
   ],
   "source": [
    "Q_program.get_backend_status(\"local_qasm_cpp_simulator\")"
   ]
  },
  {
   "cell_type": "markdown",
   "metadata": {},
   "source": [
    "### Backend configuration\n",
    "\n",
    "I really dont like the way i have done this and it seems that this is not loading the JSON file we have. There is information missing and when add new files we want this to propagate into this. \n",
    "\n",
    "IBMQX2 and IBMQX3\n",
    "\n",
    "Experimental Missing information \n",
    "1. \"version\": \"1\"\n",
    "2. \"gateset\": \"SU2+CNOT\",\n",
    "\n",
    "Added information \n",
    "1.  'topologyId': '250e969c6b9e68aa2a045ffbceb3ac33',\n",
    "2.  'status': 'on',\n",
    "3.  'serialNumber': 'Real5Qv2',\n",
    "\n",
    "Incorect information \n",
    "1. 'description': 'Device Real5Qv2',\n",
    "2. check dates \n",
    "3. url\n",
    "\n",
    "Online Simulator needs work to look like configuration file. "
   ]
  },
  {
   "cell_type": "code",
   "execution_count": 9,
   "metadata": {},
   "outputs": [
    {
     "data": {
      "text/plain": [
       "{'chipName': 'sparrow',\n",
       " 'couplingMap': [[0, 1], [0, 2], [1, 2], [3, 2], [3, 4], [4, 2]],\n",
       " 'description': 'Device Real5Qv2',\n",
       " 'id': '28147a578bdc88ec8087af46ede526e1',\n",
       " 'nQubits': 5,\n",
       " 'name': 'ibmqx2',\n",
       " 'onlineDate': '2017-06-15T11:00:00.000Z',\n",
       " 'serialNumber': 'Real5Qv2',\n",
       " 'simulator': False,\n",
       " 'status': 'on',\n",
       " 'topologyId': '250e969c6b9e68aa2a045ffbceb3ac33',\n",
       " 'url': 'https://github.com/IBM/qiskit-qx-info/tree/master/backends/ibmqx2'}"
      ]
     },
     "execution_count": 9,
     "metadata": {},
     "output_type": "execute_result"
    }
   ],
   "source": [
    "Q_program.get_backend_configuration(\"ibmqx2\")"
   ]
  },
  {
   "cell_type": "code",
   "execution_count": 10,
   "metadata": {},
   "outputs": [
    {
     "data": {
      "text/plain": [
       "{'chipName': 'lark',\n",
       " 'couplingMap': [[0, 1],\n",
       "  [1, 2],\n",
       "  [2, 3],\n",
       "  [3, 14],\n",
       "  [4, 3],\n",
       "  [4, 5],\n",
       "  [6, 7],\n",
       "  [6, 11],\n",
       "  [7, 10],\n",
       "  [8, 7],\n",
       "  [9, 8],\n",
       "  [9, 10],\n",
       "  [11, 10],\n",
       "  [12, 5],\n",
       "  [12, 11],\n",
       "  [12, 13],\n",
       "  [13, 4],\n",
       "  [13, 14],\n",
       "  [15, 0],\n",
       "  [15, 14]],\n",
       " 'description': '16 transmon ladder',\n",
       " 'id': '2bcc3cdb587d1bef305ac14447b9b0a6',\n",
       " 'nQubits': 16,\n",
       " 'name': 'ibmqx3',\n",
       " 'onlineDate': '2017-06-07T11:00:00.000Z',\n",
       " 'serialNumber': 'ibmqx3',\n",
       " 'simulator': False,\n",
       " 'status': 'on',\n",
       " 'topologyId': 'db99eef232f426b45d2d147359580bc6',\n",
       " 'url': 'https://github.com/IBM/qiskit-qx-info/tree/master/backends/ibmqx3',\n",
       " 'version': '1.0'}"
      ]
     },
     "execution_count": 10,
     "metadata": {},
     "output_type": "execute_result"
    }
   ],
   "source": [
    "Q_program.get_backend_configuration(\"ibmqx3\")"
   ]
  },
  {
   "cell_type": "code",
   "execution_count": 11,
   "metadata": {},
   "outputs": [
    {
     "data": {
      "text/plain": [
       "{'description': 'Simulator',\n",
       " 'id': '08b5bbcb470910474d96f5e0511e99d6',\n",
       " 'name': 'Simulator',\n",
       " 'serialNumber': 'Simulator',\n",
       " 'simulator': True,\n",
       " 'status': 'on',\n",
       " 'topologyId': '4cfbd99fee9fc80b91888e8c914666a5'}"
      ]
     },
     "execution_count": 11,
     "metadata": {},
     "output_type": "execute_result"
    }
   ],
   "source": [
    "Q_program.get_backend_configuration(\"Simulator\")"
   ]
  },
  {
   "cell_type": "code",
   "execution_count": 12,
   "metadata": {},
   "outputs": [
    {
     "data": {
      "text/plain": [
       "{'couplingMap': 'all-to-all',\n",
       " 'description': 'A python simulator for qasm files',\n",
       " 'gateset': 'SU2+CNOT',\n",
       " 'nQubits': 10,\n",
       " 'name': 'local_qasm_simulator',\n",
       " 'simulator': True,\n",
       " 'url': 'https://github.com/IBM/qiskit-sdk-py'}"
      ]
     },
     "execution_count": 12,
     "metadata": {},
     "output_type": "execute_result"
    }
   ],
   "source": [
    "Q_program.get_backend_configuration(\"local_qasm_simulator\")"
   ]
  },
  {
   "cell_type": "code",
   "execution_count": 13,
   "metadata": {},
   "outputs": [
    {
     "data": {
      "text/plain": [
       "{'couplingMap': 'all-to-all',\n",
       " 'description': 'A cpp simulator for qasm files',\n",
       " 'gateset': 'SU2+CNOT',\n",
       " 'nQubits': 10,\n",
       " 'name': 'local_unitary_simulator',\n",
       " 'simulator': True,\n",
       " 'url': 'https://github.com/IBM/qiskit-sdk-py'}"
      ]
     },
     "execution_count": 13,
     "metadata": {},
     "output_type": "execute_result"
    }
   ],
   "source": [
    "Q_program.get_backend_configuration(\"local_unitary_simulator\")"
   ]
  },
  {
   "cell_type": "code",
   "execution_count": 14,
   "metadata": {},
   "outputs": [
    {
     "data": {
      "text/plain": [
       "{'couplingMap': 'all-to-all',\n",
       " 'description': 'A python simulator for qasm files',\n",
       " 'gateset': 'SU2+CNOT',\n",
       " 'nQubits': 10,\n",
       " 'name': 'local_qasm_cpp_simulator',\n",
       " 'simulator': True,\n",
       " 'url': 'https://github.com/IBM/qiskit-sdk-py'}"
      ]
     },
     "execution_count": 14,
     "metadata": {},
     "output_type": "execute_result"
    }
   ],
   "source": [
    "Q_program.get_backend_configuration(\"local_qasm_cpp_simulator\")"
   ]
  },
  {
   "cell_type": "markdown",
   "metadata": {},
   "source": [
    "### Backend calibrations\n",
    "\n",
    "Questions for Paco\n",
    "\n",
    "1. For the online simulator can we return {'calibrations;: 'NA'}"
   ]
  },
  {
   "cell_type": "code",
   "execution_count": 15,
   "metadata": {},
   "outputs": [
    {
     "data": {
      "text/plain": [
       "{'device': 'ibmqx2',\n",
       " 'lastUpdateDate': '2017-07-13T23:47:06.000Z',\n",
       " 'multiQubitGates': [{'gateError': {'date': '2017-07-13T23:47:06Z',\n",
       "    'value': 0.030989012233945484},\n",
       "   'name': 'CX0_1',\n",
       "   'qubits': [0, 1],\n",
       "   'type': 'CX'},\n",
       "  {'gateError': {'date': '2017-07-13T23:47:06Z', 'value': 0.03146570838575927},\n",
       "   'name': 'CX0_2',\n",
       "   'qubits': [0, 2],\n",
       "   'type': 'CX'},\n",
       "  {'gateError': {'date': '2017-07-13T23:47:06Z',\n",
       "    'value': 0.030036093630332633},\n",
       "   'name': 'CX1_2',\n",
       "   'qubits': [1, 2],\n",
       "   'type': 'CX'},\n",
       "  {'gateError': {'date': '2017-07-13T23:47:06Z',\n",
       "    'value': 0.038566799312737904},\n",
       "   'name': 'CX3_2',\n",
       "   'qubits': [3, 2],\n",
       "   'type': 'CX'},\n",
       "  {'gateError': {'date': '2017-07-13T23:47:06Z',\n",
       "    'value': 0.024128447277721038},\n",
       "   'name': 'CX3_4',\n",
       "   'qubits': [3, 4],\n",
       "   'type': 'CX'},\n",
       "  {'gateError': {'date': '2017-07-13T23:47:06Z', 'value': 0.02338321658437531},\n",
       "   'name': 'CX4_2',\n",
       "   'qubits': [4, 2],\n",
       "   'type': 'CX'}],\n",
       " 'qubits': [{'gateError': {'date': '2017-07-13T23:47:06Z',\n",
       "    'value': 0.001545458810288558},\n",
       "   'name': 'Q0',\n",
       "   'readoutError': {'date': '2017-07-13T23:47:06Z', 'value': 0.031}},\n",
       "  {'gateError': {'date': '2017-07-13T23:47:06Z',\n",
       "    'value': 0.0013737021608475342},\n",
       "   'name': 'Q1',\n",
       "   'readoutError': {'date': '2017-07-13T23:47:06Z', 'value': 0.025}},\n",
       "  {'gateError': {'date': '2017-07-13T23:47:06Z',\n",
       "    'value': 0.002060787371647721},\n",
       "   'name': 'Q2',\n",
       "   'readoutError': {'date': '2017-07-13T23:47:06Z', 'value': 0.016}},\n",
       "  {'gateError': {'date': '2017-07-13T23:47:06Z',\n",
       "    'value': 0.001803112096824766},\n",
       "   'name': 'Q3',\n",
       "   'readoutError': {'date': '2017-07-13T23:47:06Z', 'value': 0.018}},\n",
       "  {'gateError': {'date': '2017-07-13T23:47:06Z',\n",
       "    'value': 0.0011160854878761173},\n",
       "   'name': 'Q4',\n",
       "   'readoutError': {'date': '2017-07-13T23:47:06Z', 'value': 0.042}}]}"
      ]
     },
     "execution_count": 15,
     "metadata": {},
     "output_type": "execute_result"
    }
   ],
   "source": [
    "Q_program.get_backend_calibration(\"ibmqx2\")"
   ]
  },
  {
   "cell_type": "code",
   "execution_count": 16,
   "metadata": {},
   "outputs": [
    {
     "data": {
      "text/plain": [
       "{'device': 'ibmqx3',\n",
       " 'lastUpdateDate': '2017-07-13T11:42:19.000Z',\n",
       " 'multiQubitGates': [{'gateError': {'date': '2017-07-13T11:42:19Z',\n",
       "    'value': 0.05583271336961587},\n",
       "   'name': 'CX0_1',\n",
       "   'qubits': [0, 1],\n",
       "   'type': 'CX'},\n",
       "  {'gateError': {'date': '2017-07-13T11:42:19Z', 'value': 0.05782996123380624},\n",
       "   'name': 'CX1_2',\n",
       "   'qubits': [1, 2],\n",
       "   'type': 'CX'},\n",
       "  {'gateError': {'date': '2017-07-13T11:06:15Z', 'value': 0.03769412064408556},\n",
       "   'name': 'CX2_3',\n",
       "   'qubits': [2, 3],\n",
       "   'type': 'CX'},\n",
       "  {'gateError': {'date': '2017-07-13T11:06:15Z', 'value': 0.03629397011062385},\n",
       "   'name': 'CX3_14',\n",
       "   'qubits': [3, 14],\n",
       "   'type': 'CX'},\n",
       "  {'gateError': {'date': '2017-07-13T11:06:15Z', 'value': 0.0410578192204695},\n",
       "   'name': 'CX4_3',\n",
       "   'qubits': [4, 3],\n",
       "   'type': 'CX'},\n",
       "  {'gateError': {'date': '2017-07-13T11:06:15Z', 'value': 0.03795586611126939},\n",
       "   'name': 'CX4_5',\n",
       "   'qubits': [4, 5],\n",
       "   'type': 'CX'},\n",
       "  {'gateError': {'date': '2017-07-13T11:06:15Z', 'value': 0.03150430406135127},\n",
       "   'name': 'CX6_7',\n",
       "   'qubits': [6, 7],\n",
       "   'type': 'CX'},\n",
       "  {'gateError': {'date': '2017-07-13T11:06:15Z', 'value': 0.02889539730425611},\n",
       "   'name': 'CX6_11',\n",
       "   'qubits': [6, 11],\n",
       "   'type': 'CX'},\n",
       "  {'gateError': {'date': '2017-07-13T11:06:15Z',\n",
       "    'value': 0.037506676445034026},\n",
       "   'name': 'CX7_10',\n",
       "   'qubits': [7, 10],\n",
       "   'type': 'CX'},\n",
       "  {'gateError': {'date': '2017-07-13T11:42:19Z', 'value': 0.09069071697167314},\n",
       "   'name': 'CX8_7',\n",
       "   'qubits': [8, 7],\n",
       "   'type': 'CX'},\n",
       "  {'gateError': {'date': '2017-07-13T11:42:19Z', 'value': 0.0582539006977682},\n",
       "   'name': 'CX9_8',\n",
       "   'qubits': [9, 8],\n",
       "   'type': 'CX'},\n",
       "  {'gateError': {'date': '2017-07-13T11:42:19Z', 'value': 0.0705644174459838},\n",
       "   'name': 'CX9_10',\n",
       "   'qubits': [9, 10],\n",
       "   'type': 'CX'},\n",
       "  {'gateError': {'date': '2017-07-13T11:06:15Z',\n",
       "    'value': 0.034631844379046955},\n",
       "   'name': 'CX11_10',\n",
       "   'qubits': [11, 10],\n",
       "   'type': 'CX'},\n",
       "  {'gateError': {'date': '2017-07-13T11:06:15Z',\n",
       "    'value': 0.048944838510221356},\n",
       "   'name': 'CX12_5',\n",
       "   'qubits': [12, 5],\n",
       "   'type': 'CX'},\n",
       "  {'gateError': {'date': '2017-07-13T11:06:15Z', 'value': 0.04192140432093905},\n",
       "   'name': 'CX12_11',\n",
       "   'qubits': [12, 11],\n",
       "   'type': 'CX'},\n",
       "  {'gateError': {'date': '2017-07-13T11:06:15Z', 'value': 0.04063887189086693},\n",
       "   'name': 'CX12_13',\n",
       "   'qubits': [12, 13],\n",
       "   'type': 'CX'},\n",
       "  {'gateError': {'date': '2017-07-13T11:06:15Z', 'value': 0.03874504655274502},\n",
       "   'name': 'CX13_4',\n",
       "   'qubits': [13, 4],\n",
       "   'type': 'CX'},\n",
       "  {'gateError': {'date': '2017-07-13T11:42:19Z',\n",
       "    'value': 0.045218913460183696},\n",
       "   'name': 'CX13_14',\n",
       "   'qubits': [13, 14],\n",
       "   'type': 'CX'},\n",
       "  {'gateError': {'date': '2017-07-13T11:06:15Z', 'value': 0.04861470824137107},\n",
       "   'name': 'CX15_0',\n",
       "   'qubits': [15, 0],\n",
       "   'type': 'CX'},\n",
       "  {'gateError': {'date': '2017-07-13T11:42:19Z',\n",
       "    'value': 0.048823225857482555},\n",
       "   'name': 'CX15_14',\n",
       "   'qubits': [15, 14],\n",
       "   'type': 'CX'}],\n",
       " 'qubits': [{'gateError': {'date': '2017-07-13T10:32:19Z',\n",
       "    'value': 0.0017272311698829368},\n",
       "   'name': 'Q0',\n",
       "   'readoutError': {'date': '2017-07-13T10:26:32Z',\n",
       "    'value': 0.07220000000000004}},\n",
       "  {'gateError': {'date': '2017-07-13T10:32:19Z', 'value': 0.00429235797347316},\n",
       "   'name': 'Q1',\n",
       "   'readoutError': {'date': '2017-07-13T10:26:32Z',\n",
       "    'value': 0.04590000000000005}},\n",
       "  {'gateError': {'date': '2017-07-13T10:32:19Z',\n",
       "    'value': 0.003562022924563868},\n",
       "   'name': 'Q2',\n",
       "   'readoutError': {'date': '2017-07-13T10:26:32Z',\n",
       "    'value': 0.043099999999999916}},\n",
       "  {'gateError': {'date': '2017-07-13T10:32:19Z',\n",
       "    'value': 0.0018067903666996732},\n",
       "   'name': 'Q3',\n",
       "   'readoutError': {'date': '2017-07-13T10:26:32Z',\n",
       "    'value': 0.05579999999999996}},\n",
       "  {'gateError': {'date': '2017-07-13T10:32:19Z',\n",
       "    'value': 0.001498365723548778},\n",
       "   'name': 'Q4',\n",
       "   'readoutError': {'date': '2017-07-13T10:26:32Z',\n",
       "    'value': 0.09660000000000002}},\n",
       "  {'gateError': {'date': '2017-07-13T10:32:19Z',\n",
       "    'value': 0.0021873798815711942},\n",
       "   'name': 'Q5',\n",
       "   'readoutError': {'date': '2017-07-13T10:26:32Z',\n",
       "    'value': 0.043399999999999994}},\n",
       "  {'gateError': {'date': '2017-07-13T10:32:19Z',\n",
       "    'value': 0.0018752855858468753},\n",
       "   'name': 'Q6',\n",
       "   'readoutError': {'date': '2017-07-13T10:26:32Z',\n",
       "    'value': 0.03249999999999997}},\n",
       "  {'gateError': {'date': '2017-07-13T10:32:19Z',\n",
       "    'value': 0.001837296934623034},\n",
       "   'name': 'Q7',\n",
       "   'readoutError': {'date': '2017-07-13T10:26:32Z',\n",
       "    'value': 0.05479999999999996}},\n",
       "  {'gateError': {'date': '2017-07-13T10:32:19Z', 'value': 0.00385751120299771},\n",
       "   'name': 'Q8',\n",
       "   'readoutError': {'date': '2017-07-13T10:26:32Z',\n",
       "    'value': 0.08779999999999999}},\n",
       "  {'gateError': {'date': '2017-07-13T10:32:19Z',\n",
       "    'value': 0.0018439448073913622},\n",
       "   'name': 'Q9',\n",
       "   'readoutError': {'date': '2017-07-13T10:26:32Z',\n",
       "    'value': 0.10029999999999994}},\n",
       "  {'gateError': {'date': '2017-07-13T10:32:19Z',\n",
       "    'value': 0.0016359815947737943},\n",
       "   'name': 'Q10',\n",
       "   'readoutError': {'date': '2017-07-13T10:26:32Z',\n",
       "    'value': 0.10210000000000008}},\n",
       "  {'gateError': {'date': '2017-07-13T10:32:19Z',\n",
       "    'value': 0.002330610106836606},\n",
       "   'name': 'Q11',\n",
       "   'readoutError': {'date': '2017-07-13T10:26:32Z',\n",
       "    'value': 0.047700000000000076}},\n",
       "  {'gateError': {'date': '2017-07-13T10:32:19Z',\n",
       "    'value': 0.0020156852293270466},\n",
       "   'name': 'Q12',\n",
       "   'readoutError': {'date': '2017-07-13T10:26:32Z',\n",
       "    'value': 0.08450000000000002}},\n",
       "  {'gateError': {'date': '2017-07-13T10:32:19Z',\n",
       "    'value': 0.002521808738559561},\n",
       "   'name': 'Q13',\n",
       "   'readoutError': {'date': '2017-07-13T10:26:32Z',\n",
       "    'value': 0.07089999999999996}},\n",
       "  {'gateError': {'date': '2017-07-13T10:32:19Z',\n",
       "    'value': 0.0024253725819637917},\n",
       "   'name': 'Q14',\n",
       "   'readoutError': {'date': '2017-07-13T10:26:32Z',\n",
       "    'value': 0.09109999999999996}},\n",
       "  {'gateError': {'date': '2017-07-13T10:32:19Z',\n",
       "    'value': 0.0049068579319110905},\n",
       "   'name': 'Q15',\n",
       "   'readoutError': {'date': '2017-07-13T10:26:32Z',\n",
       "    'value': 0.10360000000000003}}]}"
      ]
     },
     "execution_count": 16,
     "metadata": {},
     "output_type": "execute_result"
    }
   ],
   "source": [
    "Q_program.get_backend_calibration(\"ibmqx3\")"
   ]
  },
  {
   "cell_type": "code",
   "execution_count": 17,
   "metadata": {},
   "outputs": [
    {
     "data": {
      "text/plain": [
       "{'device': 'chip_simulator'}"
      ]
     },
     "execution_count": 17,
     "metadata": {},
     "output_type": "execute_result"
    }
   ],
   "source": [
    "Q_program.get_backend_calibration(\"Simulator\")"
   ]
  },
  {
   "cell_type": "code",
   "execution_count": 18,
   "metadata": {},
   "outputs": [
    {
     "data": {
      "text/plain": [
       "{'calibrations': 'NA'}"
      ]
     },
     "execution_count": 18,
     "metadata": {},
     "output_type": "execute_result"
    }
   ],
   "source": [
    "Q_program.get_backend_calibration(\"local_unitary_simulator\")"
   ]
  },
  {
   "cell_type": "code",
   "execution_count": 19,
   "metadata": {},
   "outputs": [
    {
     "data": {
      "text/plain": [
       "{'calibrations': 'NA'}"
      ]
     },
     "execution_count": 19,
     "metadata": {},
     "output_type": "execute_result"
    }
   ],
   "source": [
    "Q_program.get_backend_calibration(\"local_qasm_simulator\")"
   ]
  },
  {
   "cell_type": "code",
   "execution_count": 20,
   "metadata": {},
   "outputs": [
    {
     "data": {
      "text/plain": [
       "{'calibrations': 'NA'}"
      ]
     },
     "execution_count": 20,
     "metadata": {},
     "output_type": "execute_result"
    }
   ],
   "source": [
    "Q_program.get_backend_calibration(\"local_qasm_cpp_simulator\")"
   ]
  },
  {
   "cell_type": "markdown",
   "metadata": {},
   "source": [
    "### Backend extra parameters "
   ]
  },
  {
   "cell_type": "code",
   "execution_count": 21,
   "metadata": {},
   "outputs": [
    {
     "data": {
      "text/plain": [
       "{'device': 'ibmqx2',\n",
       " 'fridgeParameters': {'Temperature': {'date': '2017-07-13T23:47:06Z',\n",
       "   'unit': 'K',\n",
       "   'value': 0.0159},\n",
       "  'cooldownDate': '2017-05-07'},\n",
       " 'lastUpdateDate': '2017-07-13T23:47:06.000Z',\n",
       " 'qubits': [{'T1': {'date': '2017-07-13T23:47:06Z',\n",
       "    'unit': 'µs',\n",
       "    'value': 50.2},\n",
       "   'T2': {'date': '2017-07-13T23:47:06Z', 'unit': 'µs', 'value': 43.7},\n",
       "   'frequency': {'date': '2017-07-13T23:47:06Z',\n",
       "    'unit': 'GHz',\n",
       "    'value': 5.27217},\n",
       "   'gateTime': {'date': '2017-07-13T23:47:06Z', 'unit': 'ns', 'value': 90},\n",
       "   'name': 'Q0'},\n",
       "  {'T1': {'date': '2017-07-13T23:47:06Z', 'unit': 'µs', 'value': 65.9},\n",
       "   'T2': {'date': '2017-07-13T23:47:06Z', 'unit': 'µs', 'value': 40.5},\n",
       "   'frequency': {'date': '2017-07-13T23:47:06Z',\n",
       "    'unit': 'GHz',\n",
       "    'value': 5.21461},\n",
       "   'gateTime': {'date': '2017-07-13T23:47:06Z', 'unit': 'ns', 'value': 90},\n",
       "   'name': 'Q1'},\n",
       "  {'T1': {'date': '2017-07-13T23:47:06Z', 'unit': 'µs', 'value': 53.9},\n",
       "   'T2': {'date': '2017-07-13T23:47:06Z', 'unit': 'µs', 'value': 93.6},\n",
       "   'frequency': {'date': '2017-07-13T23:47:06Z',\n",
       "    'unit': 'GHz',\n",
       "    'value': 5.0289},\n",
       "   'gateTime': {'date': '2017-07-13T23:47:06Z', 'unit': 'ns', 'value': 90},\n",
       "   'name': 'Q2'},\n",
       "  {'T1': {'date': '2017-07-13T23:47:06Z', 'unit': 'µs', 'value': 44.4},\n",
       "   'T2': {'date': '2017-07-13T23:47:06Z', 'unit': 'µs', 'value': 49.1},\n",
       "   'frequency': {'date': '2017-07-13T23:47:06Z',\n",
       "    'unit': 'GHz',\n",
       "    'value': 5.29704},\n",
       "   'gateTime': {'date': '2017-07-13T23:47:06Z', 'unit': 'ns', 'value': 90},\n",
       "   'name': 'Q3'},\n",
       "  {'T1': {'date': '2017-07-13T23:47:06Z', 'unit': 'µs', 'value': 71.4},\n",
       "   'T2': {'date': '2017-07-13T23:47:06Z', 'unit': 'µs', 'value': 96.9},\n",
       "   'frequency': {'date': '2017-07-13T23:47:06Z',\n",
       "    'unit': 'GHz',\n",
       "    'value': 5.05575},\n",
       "   'gateTime': {'date': '2017-07-13T23:47:06Z', 'unit': 'ns', 'value': 90},\n",
       "   'name': 'Q4'}]}"
      ]
     },
     "execution_count": 21,
     "metadata": {},
     "output_type": "execute_result"
    }
   ],
   "source": [
    "Q_program.get_backend_parameters(\"ibmqx2\")"
   ]
  },
  {
   "cell_type": "code",
   "execution_count": 22,
   "metadata": {},
   "outputs": [
    {
     "data": {
      "text/plain": [
       "{'device': 'ibmqx3',\n",
       " 'fridgeParameters': {'Temperature': {'date': '2017-07-13T08:20:58-04:00',\n",
       "   'unit': 'K',\n",
       "   'value': 0.0147122},\n",
       "  'cooldownDate': '2017-05-08'},\n",
       " 'lastUpdateDate': '2017-07-13T10:28:37.000Z',\n",
       " 'qubits': [{'T1': {'date': '2017-07-13T10:27:09Z',\n",
       "    'unit': 'µs',\n",
       "    'value': 47.9},\n",
       "   'T2': {'date': '2017-07-13T10:28:37Z', 'unit': 'µs', 'value': 44.1},\n",
       "   'frequency': {'date': '2017-07-13T10:05:03Z',\n",
       "    'units': 'GHz',\n",
       "    'value': 5.2488185},\n",
       "   'gateTime': {'date': '2017-07-13T10:05:03Z', 'unit': 'ns', 'value': 90},\n",
       "   'name': 'Q0'},\n",
       "  {'T1': {'date': '2017-07-13T10:27:09Z', 'unit': 'µs', 'value': 25.5},\n",
       "   'T2': {'date': '2017-07-13T10:28:37Z', 'unit': 'µs', 'value': 31.7},\n",
       "   'frequency': {'date': '2017-07-13T10:05:03Z',\n",
       "    'units': 'GHz',\n",
       "    'value': 5.3794616},\n",
       "   'gateTime': {'date': '2017-07-13T10:05:03Z', 'unit': 'ns', 'value': 90},\n",
       "   'name': 'Q1'},\n",
       "  {'T1': {'date': '2017-07-13T10:27:09Z', 'unit': 'µs', 'value': 38.2},\n",
       "   'T2': {'date': '2017-07-13T10:28:37Z', 'unit': 'µs', 'value': 41.5},\n",
       "   'frequency': {'date': '2017-07-13T10:05:03Z',\n",
       "    'units': 'GHz',\n",
       "    'value': 5.2683125},\n",
       "   'gateTime': {'date': '2017-07-13T10:05:03Z', 'unit': 'ns', 'value': 90},\n",
       "   'name': 'Q2'},\n",
       "  {'T1': {'date': '2017-07-13T10:27:09Z', 'unit': 'µs', 'value': 40.8},\n",
       "   'T2': {'date': '2017-07-13T10:28:37Z', 'unit': 'µs', 'value': 59.9},\n",
       "   'frequency': {'date': '2017-07-13T10:05:03Z',\n",
       "    'units': 'GHz',\n",
       "    'value': 5.0665195},\n",
       "   'gateTime': {'date': '2017-07-13T10:05:03Z', 'unit': 'ns', 'value': 90},\n",
       "   'name': 'Q3'},\n",
       "  {'T1': {'date': '2017-07-13T10:27:09Z', 'unit': 'µs', 'value': 47},\n",
       "   'T2': {'date': '2017-07-13T10:28:37Z', 'unit': 'µs', 'value': 76.3},\n",
       "   'frequency': {'date': '2017-07-13T10:05:03Z',\n",
       "    'units': 'GHz',\n",
       "    'value': 4.9722953},\n",
       "   'gateTime': {'date': '2017-07-13T10:05:03Z', 'unit': 'ns', 'value': 90},\n",
       "   'name': 'Q4'},\n",
       "  {'T1': {'date': '2017-07-13T10:27:09Z', 'unit': 'µs', 'value': 49.6},\n",
       "   'T2': {'date': '2017-07-13T10:28:37Z', 'unit': 'µs', 'value': 84.8},\n",
       "   'frequency': {'date': '2017-07-13T10:05:03Z',\n",
       "    'units': 'GHz',\n",
       "    'value': 5.1427411},\n",
       "   'gateTime': {'date': '2017-07-13T10:05:03Z', 'unit': 'ns', 'value': 90},\n",
       "   'name': 'Q5'},\n",
       "  {'T1': {'date': '2017-07-13T10:27:09Z', 'unit': 'µs', 'value': 48.5},\n",
       "   'T2': {'date': '2017-07-13T10:28:37Z', 'unit': 'µs', 'value': 36.6},\n",
       "   'frequency': {'date': '2017-07-13T10:05:03Z',\n",
       "    'units': 'GHz',\n",
       "    'value': 5.2955387},\n",
       "   'gateTime': {'date': '2017-07-13T10:05:03Z', 'unit': 'ns', 'value': 90},\n",
       "   'name': 'Q6'},\n",
       "  {'T1': {'date': '2017-07-13T10:27:09Z', 'unit': 'µs', 'value': 39},\n",
       "   'T2': {'date': '2017-07-13T10:28:37Z', 'unit': 'µs', 'value': 53.1},\n",
       "   'frequency': {'date': '2017-07-13T10:05:03Z',\n",
       "    'units': 'GHz',\n",
       "    'value': 5.248949},\n",
       "   'gateTime': {'date': '2017-07-13T10:05:03Z', 'unit': 'ns', 'value': 90},\n",
       "   'name': 'Q7'},\n",
       "  {'T1': {'date': '2017-07-13T10:27:09Z', 'unit': 'µs', 'value': 34.1},\n",
       "   'T2': {'date': '2017-07-13T10:28:37Z', 'unit': 'µs', 'value': 45.6},\n",
       "   'frequency': {'date': '2017-07-13T10:05:03Z',\n",
       "    'units': 'GHz',\n",
       "    'value': 5.0967252},\n",
       "   'gateTime': {'date': '2017-07-13T10:05:03Z', 'unit': 'ns', 'value': 90},\n",
       "   'name': 'Q8'},\n",
       "  {'T1': {'date': '2017-07-13T10:27:09Z', 'unit': 'µs', 'value': 43.5},\n",
       "   'T2': {'date': '2017-07-13T10:28:37Z', 'unit': 'µs', 'value': 72.2},\n",
       "   'frequency': {'date': '2017-07-13T10:05:03Z',\n",
       "    'units': 'GHz',\n",
       "    'value': 5.1463432},\n",
       "   'gateTime': {'date': '2017-07-13T10:05:03Z', 'unit': 'ns', 'value': 90},\n",
       "   'name': 'Q9'},\n",
       "  {'T1': {'date': '2017-07-13T10:27:09Z', 'unit': 'µs', 'value': 50},\n",
       "   'T2': {'date': '2017-07-13T10:28:37Z', 'unit': 'µs', 'value': 55.7},\n",
       "   'frequency': {'date': '2017-07-13T10:05:03Z',\n",
       "    'units': 'GHz',\n",
       "    'value': 5.0301322},\n",
       "   'gateTime': {'date': '2017-07-13T10:05:03Z', 'unit': 'ns', 'value': 90},\n",
       "   'name': 'Q10'},\n",
       "  {'T1': {'date': '2017-07-13T10:27:09Z', 'unit': 'µs', 'value': 40.4},\n",
       "   'T2': {'date': '2017-07-13T10:28:37Z', 'unit': 'µs', 'value': 58},\n",
       "   'frequency': {'date': '2017-07-13T10:05:03Z',\n",
       "    'units': 'GHz',\n",
       "    'value': 5.1068019},\n",
       "   'gateTime': {'date': '2017-07-13T10:05:03Z', 'unit': 'ns', 'value': 90},\n",
       "   'name': 'Q11'},\n",
       "  {'T1': {'date': '2017-07-13T10:27:09Z', 'unit': 'µs', 'value': 28.2},\n",
       "   'T2': {'date': '2017-07-13T10:28:37Z', 'unit': 'µs', 'value': 35.1},\n",
       "   'frequency': {'date': '2017-07-13T10:05:03Z',\n",
       "    'units': 'GHz',\n",
       "    'value': 4.938457},\n",
       "   'gateTime': {'date': '2017-07-13T10:05:03Z', 'unit': 'ns', 'value': 90},\n",
       "   'name': 'Q12'},\n",
       "  {'T1': {'date': '2017-07-13T10:27:09Z', 'unit': 'µs', 'value': 24.6},\n",
       "   'T2': {'date': '2017-07-13T10:28:37Z', 'unit': 'µs', 'value': 36.6},\n",
       "   'frequency': {'date': '2017-07-13T10:05:03Z',\n",
       "    'units': 'GHz',\n",
       "    'value': 5.0807123},\n",
       "   'gateTime': {'date': '2017-07-13T10:05:03Z', 'unit': 'ns', 'value': 90},\n",
       "   'name': 'Q13'},\n",
       "  {'T1': {'date': '2017-07-13T10:27:09Z', 'unit': 'µs', 'value': 48.4},\n",
       "   'T2': {'date': '2017-07-13T10:28:37Z', 'unit': 'µs', 'value': 32.8},\n",
       "   'frequency': {'date': '2017-07-13T10:05:03Z',\n",
       "    'units': 'GHz',\n",
       "    'value': 4.8442788},\n",
       "   'gateTime': {'date': '2017-07-13T10:05:03Z', 'unit': 'ns', 'value': 90},\n",
       "   'name': 'Q14'},\n",
       "  {'T1': {'date': '2017-07-13T10:27:09Z', 'unit': 'µs', 'value': 38.4},\n",
       "   'T2': {'date': '2017-07-13T10:28:37Z', 'unit': 'µs', 'value': 12.8},\n",
       "   'frequency': {'date': '2017-07-13T10:05:03Z',\n",
       "    'units': 'GHz',\n",
       "    'value': 5.0842564},\n",
       "   'gateTime': {'date': '2017-07-13T10:05:03Z', 'unit': 'ns', 'value': 90},\n",
       "   'name': 'Q15'}]}"
      ]
     },
     "execution_count": 22,
     "metadata": {},
     "output_type": "execute_result"
    }
   ],
   "source": [
    "Q_program.get_backend_parameters(\"ibmqx3\")"
   ]
  },
  {
   "cell_type": "code",
   "execution_count": 23,
   "metadata": {},
   "outputs": [
    {
     "data": {
      "text/plain": [
       "{'device': 'chip_simulator'}"
      ]
     },
     "execution_count": 23,
     "metadata": {},
     "output_type": "execute_result"
    }
   ],
   "source": [
    "Q_program.get_backend_parameters(\"Simulator\")"
   ]
  },
  {
   "cell_type": "code",
   "execution_count": 24,
   "metadata": {},
   "outputs": [
    {
     "data": {
      "text/plain": [
       "{'parameters': 'NA'}"
      ]
     },
     "execution_count": 24,
     "metadata": {},
     "output_type": "execute_result"
    }
   ],
   "source": [
    "Q_program.get_backend_parameters(\"local_unitary_simulator\")"
   ]
  },
  {
   "cell_type": "code",
   "execution_count": 25,
   "metadata": {},
   "outputs": [
    {
     "data": {
      "text/plain": [
       "{'parameters': 'NA'}"
      ]
     },
     "execution_count": 25,
     "metadata": {},
     "output_type": "execute_result"
    }
   ],
   "source": [
    "Q_program.get_backend_parameters(\"local_qasm_simulator\")"
   ]
  },
  {
   "cell_type": "code",
   "execution_count": 26,
   "metadata": {},
   "outputs": [
    {
     "data": {
      "text/plain": [
       "{'parameters': 'NA'}"
      ]
     },
     "execution_count": 26,
     "metadata": {},
     "output_type": "execute_result"
    }
   ],
   "source": [
    "Q_program.get_backend_parameters(\"local_qasm_cpp_simulator\")"
   ]
  },
  {
   "cell_type": "markdown",
   "metadata": {},
   "source": [
    "### Information on device status\n",
    "You can find the status of the device"
   ]
  },
  {
   "cell_type": "code",
   "execution_count": 27,
   "metadata": {
    "collapsed": true
   },
   "outputs": [],
   "source": [
    "api=Q_program.get_api()"
   ]
  }
 ],
 "metadata": {
  "anaconda-cloud": {},
  "kernelspec": {
   "display_name": "Python 3",
   "language": "python",
   "name": "python3"
  },
  "language_info": {
   "codemirror_mode": {
    "name": "ipython",
    "version": 3
   },
   "file_extension": ".py",
   "mimetype": "text/x-python",
   "name": "python",
   "nbconvert_exporter": "python",
   "pygments_lexer": "ipython3",
   "version": "3.6.1"
  }
 },
 "nbformat": 4,
 "nbformat_minor": 1
}
