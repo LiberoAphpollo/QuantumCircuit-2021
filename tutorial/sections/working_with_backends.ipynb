{
 "cells": [
  {
   "cell_type": "markdown",
   "metadata": {},
   "source": [
    "<img src=\"../images/QISKit-c.gif\" alt=\"Note: In order for images to show up in this jupyter notebook you need to select File => Trusted Notebook\" width=\"250 px\" align=\"left\">"
   ]
  },
  {
   "cell_type": "markdown",
   "metadata": {},
   "source": [
    "## _*Working with the different backends*_ \n",
    "\n",
    "For more information about how to use the IBM Q experience (QX), consult the [tutorials](https://quantumexperience.ng.bluemix.net/qstage/#/tutorial?sectionId=c59b3710b928891a1420190148a72cce&pageIndex=0), or check out the [community](https://quantumexperience.ng.bluemix.net/qstage/#/community).\n",
    "\n",
    "***\n",
    "### Contributors\n",
    "Jay Gambetta, Lev Bishop"
   ]
  },
  {
   "cell_type": "markdown",
   "metadata": {},
   "source": [
    "## The backend. \n",
    "\n",
    "At the core of QISKit is the ability to access different backends to run your quantum programs. These backends are real devices, online simulators, and local simulations. As we continue to increase the flexibility of QISKit we expect there to be many different backends. \n",
    "\n",
    "These include new hardware with different number of qubits, connectivity, and gate sets and simulators with different properties. \n",
    "\n",
    "Current hardware \n",
    "* [IBMQX2](https://github.com/IBM/qiskit-qx-info/tree/master/backends/ibmqx2) - a 5 qubit transmon bowtie chip\n",
    "* [IBMQX3](https://github.com/IBM/qiskit-qx-info/tree/master/backends/ibmqx3) - a 16 qubit ladder chip\n",
    "\n",
    "Current simulators \n",
    "\n",
    "* QASM simulator – simulates a quantum circuit and predicts the outcomes of a quantum experiment (samples over many shots)\n",
    "* QASM simulators with noise – simulates a quantum circuit with additional noise inputs\n",
    "* Unitary simulator – predicts the unitary of a quantum circuit (ignoring measurement and if operations)\n",
    "\n"
   ]
  },
  {
   "cell_type": "code",
   "execution_count": 6,
   "metadata": {
    "collapsed": true
   },
   "outputs": [],
   "source": [
    "# Checking the version of PYTHON; we only support 3 at the moment\n",
    "import sys\n",
    "if sys.version_info < (3,0):\n",
    "    raise Exception(\"Please use Python version 3 or greater.\")\n",
    "    \n",
    "import sys\n",
    "sys.path.append(\"../../\")\n",
    "# importing the QISKit\n",
    "from qiskit import QuantumProgram\n",
    "import Qconfig"
   ]
  },
  {
   "cell_type": "code",
   "execution_count": 7,
   "metadata": {},
   "outputs": [
    {
     "data": {
      "text/plain": [
       "True"
      ]
     },
     "execution_count": 7,
     "metadata": {},
     "output_type": "execute_result"
    }
   ],
   "source": [
    "Q_program = QuantumProgram()\n",
    "Q_program.set_api(Qconfig.APItoken, Qconfig.config[\"url\"]) # set the APIToken and API url"
   ]
  },
  {
   "cell_type": "markdown",
   "metadata": {},
   "source": [
    "### List and status \n",
    "\n",
    "To list all the backends that are avaiable for use we have provided the command \n",
    "\n",
    "```Q_program.available_backends()```"
   ]
  },
  {
   "cell_type": "code",
   "execution_count": 8,
   "metadata": {},
   "outputs": [
    {
     "data": {
      "text/plain": [
       "['ibmqx2',\n",
       " 'ibmqx3',\n",
       " 'Simulator',\n",
       " 'local_unitary_simulator',\n",
       " 'local_qasm_simulator',\n",
       " 'local_qasm_cpp_simulator']"
      ]
     },
     "execution_count": 8,
     "metadata": {},
     "output_type": "execute_result"
    }
   ],
   "source": [
    "Q_program.available_backends()"
   ]
  },
  {
   "cell_type": "markdown",
   "metadata": {},
   "source": [
    "and the status can be obtained using \n",
    "\n",
    "```Q_program.get_backend_status(\"ibmqx2\")```"
   ]
  },
  {
   "cell_type": "code",
   "execution_count": 10,
   "metadata": {},
   "outputs": [
    {
     "data": {
      "text/plain": [
       "{'available': True}"
      ]
     },
     "execution_count": 10,
     "metadata": {},
     "output_type": "execute_result"
    }
   ],
   "source": [
    "Q_program.get_backend_status(\"ibmqx2\")"
   ]
  },
  {
   "cell_type": "markdown",
   "metadata": {},
   "source": [
    "### Configuration\n",
    "\n",
    "To get more informaiton about the backend \n",
    "\n",
    "```Q_program.get_backend_configuration(\"ibmqx2\")```"
   ]
  },
  {
   "cell_type": "code",
   "execution_count": 13,
   "metadata": {},
   "outputs": [
    {
     "data": {
      "text/plain": [
       "{'chipName': 'sparrow',\n",
       " 'couplingMap': [[0, 1], [0, 2], [1, 2], [3, 2], [3, 4], [4, 2]],\n",
       " 'description': 'Device Real5Qv2',\n",
       " 'id': '28147a578bdc88ec8087af46ede526e1',\n",
       " 'nQubits': 5,\n",
       " 'name': 'ibmqx2',\n",
       " 'onlineDate': '2017-06-15T11:00:00.000Z',\n",
       " 'serialNumber': 'Real5Qv2',\n",
       " 'simulator': False,\n",
       " 'status': 'on',\n",
       " 'topologyId': '250e969c6b9e68aa2a045ffbceb3ac33',\n",
       " 'url': 'https://github.com/IBM/qiskit-qx-info/tree/master/backends/ibmqx2'}"
      ]
     },
     "execution_count": 13,
     "metadata": {},
     "output_type": "execute_result"
    }
   ],
   "source": [
    "Q_program.get_backend_configuration(\"ibmqx2\")"
   ]
  },
  {
   "cell_type": "markdown",
   "metadata": {},
   "source": [
    "This information contains \n",
    "    - \"name\": \"backend_name\",    \n",
    "        Backend name used to run quantum programs\n",
    "    - \"version\": \"1\",    \n",
    "        A version number that will iterate when changes are made to the device\n",
    "    - \"url\": \"https://ibm.biz/qiskit-ibmqx2\",    \n",
    "        A url address to find more information about the device\n",
    "    - \"simulator\": false,    \n",
    "        Flag for labeling if the backend is simulator or not\n",
    "    - \"description\": \"5 qubit transmon bowtie chip 2\",   \n",
    "        A human readable description of the device\n",
    "    - \"nQubits\": 5,    \n",
    "        The number of qubits in the device\n",
    "    - \"couplingMap\": [ [0, 1], [0, 2], [1, 2], [3, 2], [4, 2], [4,3] ],    \n",
    "        The connectivity map of the deive [i,j] represents control qubit i coupled to target qubit j\n",
    "    - \"gateset\": \"SU2+CNOT\",    \n",
    "        The gate set of the device. Here SU2 are special unitary rotations on the qubits and CNOT\n",
    "    - \"onlineDate\": \"2017-01-10\",\n",
    "        The date the device went online. \n",
    "    - \"chipName\": \"Sparrow\"\n",
    "        A code name for the device\n",
    "        \n",
    "The information for the simulators is obtained using the same command"
   ]
  },
  {
   "cell_type": "code",
   "execution_count": 14,
   "metadata": {},
   "outputs": [
    {
     "data": {
      "text/plain": [
       "{'couplingMap': 'all-to-all',\n",
       " 'description': 'A python simulator for qasm files',\n",
       " 'gateset': 'SU2+CNOT',\n",
       " 'nQubits': 10,\n",
       " 'name': 'local_qasm_simulator',\n",
       " 'simulator': True,\n",
       " 'url': 'https://github.com/IBM/qiskit-sdk-py'}"
      ]
     },
     "execution_count": 14,
     "metadata": {},
     "output_type": "execute_result"
    }
   ],
   "source": [
    "Q_program.get_backend_configuration(\"local_qasm_simulator\")"
   ]
  },
  {
   "cell_type": "markdown",
   "metadata": {},
   "source": [
    "This information contains \n",
    "    - \"name\": \"backend_name\",    \n",
    "        Backend name used to run quantum programs\n",
    "    - \"url\": \"https://ibm.biz/qiskit-ibmqx2\",    \n",
    "        A url address to find more information about the simulator\n",
    "    - \"simulator\": true,    \n",
    "        Flag for labeling if the backend is simulator or not\n",
    "    - \"description\": \"A python simulator for qasm files\",   \n",
    "        A human readable description of the simulator\n",
    "    - \"nQubits\": 5,    \n",
    "        The number of qubits the simulator can support\n",
    "    - \"couplingMap\": all-to-all\",    \n",
    "        The connectivity map of the deive all-to-all means that every two qubit gate is possible \n",
    "    - \"gateset\": \"SU2+CNOT\",    \n",
    "        The gate set of the device. Here SU2 are special unitary rotations on the qubits and CNOT"
   ]
  },
  {
   "cell_type": "markdown",
   "metadata": {},
   "source": [
    "### Extra information - calibrations\n",
    "\n",
    "For the online devices calibrations are run every 12 hours and the last calibration data can be access using \n",
    "\n",
    "```Q_program.get_backend_calibration(\"ibmqx2\")```"
   ]
  },
  {
   "cell_type": "code",
   "execution_count": 15,
   "metadata": {},
   "outputs": [
    {
     "data": {
      "text/plain": [
       "{'device': 'ibmqx2',\n",
       " 'lastUpdateDate': '2017-07-13T23:47:06.000Z',\n",
       " 'multiQubitGates': [{'gateError': {'date': '2017-07-13T23:47:06Z',\n",
       "    'value': 0.030989012233945484},\n",
       "   'name': 'CX0_1',\n",
       "   'qubits': [0, 1],\n",
       "   'type': 'CX'},\n",
       "  {'gateError': {'date': '2017-07-13T23:47:06Z', 'value': 0.03146570838575927},\n",
       "   'name': 'CX0_2',\n",
       "   'qubits': [0, 2],\n",
       "   'type': 'CX'},\n",
       "  {'gateError': {'date': '2017-07-13T23:47:06Z',\n",
       "    'value': 0.030036093630332633},\n",
       "   'name': 'CX1_2',\n",
       "   'qubits': [1, 2],\n",
       "   'type': 'CX'},\n",
       "  {'gateError': {'date': '2017-07-13T23:47:06Z',\n",
       "    'value': 0.038566799312737904},\n",
       "   'name': 'CX3_2',\n",
       "   'qubits': [3, 2],\n",
       "   'type': 'CX'},\n",
       "  {'gateError': {'date': '2017-07-13T23:47:06Z',\n",
       "    'value': 0.024128447277721038},\n",
       "   'name': 'CX3_4',\n",
       "   'qubits': [3, 4],\n",
       "   'type': 'CX'},\n",
       "  {'gateError': {'date': '2017-07-13T23:47:06Z', 'value': 0.02338321658437531},\n",
       "   'name': 'CX4_2',\n",
       "   'qubits': [4, 2],\n",
       "   'type': 'CX'}],\n",
       " 'qubits': [{'gateError': {'date': '2017-07-13T23:47:06Z',\n",
       "    'value': 0.001545458810288558},\n",
       "   'name': 'Q0',\n",
       "   'readoutError': {'date': '2017-07-13T23:47:06Z', 'value': 0.031}},\n",
       "  {'gateError': {'date': '2017-07-13T23:47:06Z',\n",
       "    'value': 0.0013737021608475342},\n",
       "   'name': 'Q1',\n",
       "   'readoutError': {'date': '2017-07-13T23:47:06Z', 'value': 0.025}},\n",
       "  {'gateError': {'date': '2017-07-13T23:47:06Z',\n",
       "    'value': 0.002060787371647721},\n",
       "   'name': 'Q2',\n",
       "   'readoutError': {'date': '2017-07-13T23:47:06Z', 'value': 0.016}},\n",
       "  {'gateError': {'date': '2017-07-13T23:47:06Z',\n",
       "    'value': 0.001803112096824766},\n",
       "   'name': 'Q3',\n",
       "   'readoutError': {'date': '2017-07-13T23:47:06Z', 'value': 0.018}},\n",
       "  {'gateError': {'date': '2017-07-13T23:47:06Z',\n",
       "    'value': 0.0011160854878761173},\n",
       "   'name': 'Q4',\n",
       "   'readoutError': {'date': '2017-07-13T23:47:06Z', 'value': 0.042}}]}"
      ]
     },
     "execution_count": 15,
     "metadata": {},
     "output_type": "execute_result"
    }
   ],
   "source": [
    "Q_program.get_backend_calibration(\"ibmqx2\")"
   ]
  },
  {
   "cell_type": "markdown",
   "metadata": {},
   "source": [
    "### Extra information - parameters \n",
    "\n",
    "```Q_program.get_backend_parameters(\"ibmqx2\")```"
   ]
  },
  {
   "cell_type": "code",
   "execution_count": 16,
   "metadata": {},
   "outputs": [
    {
     "data": {
      "text/plain": [
       "{'device': 'ibmqx2',\n",
       " 'fridgeParameters': {'Temperature': {'date': '2017-07-13T23:47:06Z',\n",
       "   'unit': 'K',\n",
       "   'value': 0.0159},\n",
       "  'cooldownDate': '2017-05-07'},\n",
       " 'lastUpdateDate': '2017-07-13T23:47:06.000Z',\n",
       " 'qubits': [{'T1': {'date': '2017-07-13T23:47:06Z',\n",
       "    'unit': 'µs',\n",
       "    'value': 50.2},\n",
       "   'T2': {'date': '2017-07-13T23:47:06Z', 'unit': 'µs', 'value': 43.7},\n",
       "   'frequency': {'date': '2017-07-13T23:47:06Z',\n",
       "    'unit': 'GHz',\n",
       "    'value': 5.27217},\n",
       "   'gateTime': {'date': '2017-07-13T23:47:06Z', 'unit': 'ns', 'value': 90},\n",
       "   'name': 'Q0'},\n",
       "  {'T1': {'date': '2017-07-13T23:47:06Z', 'unit': 'µs', 'value': 65.9},\n",
       "   'T2': {'date': '2017-07-13T23:47:06Z', 'unit': 'µs', 'value': 40.5},\n",
       "   'frequency': {'date': '2017-07-13T23:47:06Z',\n",
       "    'unit': 'GHz',\n",
       "    'value': 5.21461},\n",
       "   'gateTime': {'date': '2017-07-13T23:47:06Z', 'unit': 'ns', 'value': 90},\n",
       "   'name': 'Q1'},\n",
       "  {'T1': {'date': '2017-07-13T23:47:06Z', 'unit': 'µs', 'value': 53.9},\n",
       "   'T2': {'date': '2017-07-13T23:47:06Z', 'unit': 'µs', 'value': 93.6},\n",
       "   'frequency': {'date': '2017-07-13T23:47:06Z',\n",
       "    'unit': 'GHz',\n",
       "    'value': 5.0289},\n",
       "   'gateTime': {'date': '2017-07-13T23:47:06Z', 'unit': 'ns', 'value': 90},\n",
       "   'name': 'Q2'},\n",
       "  {'T1': {'date': '2017-07-13T23:47:06Z', 'unit': 'µs', 'value': 44.4},\n",
       "   'T2': {'date': '2017-07-13T23:47:06Z', 'unit': 'µs', 'value': 49.1},\n",
       "   'frequency': {'date': '2017-07-13T23:47:06Z',\n",
       "    'unit': 'GHz',\n",
       "    'value': 5.29704},\n",
       "   'gateTime': {'date': '2017-07-13T23:47:06Z', 'unit': 'ns', 'value': 90},\n",
       "   'name': 'Q3'},\n",
       "  {'T1': {'date': '2017-07-13T23:47:06Z', 'unit': 'µs', 'value': 71.4},\n",
       "   'T2': {'date': '2017-07-13T23:47:06Z', 'unit': 'µs', 'value': 96.9},\n",
       "   'frequency': {'date': '2017-07-13T23:47:06Z',\n",
       "    'unit': 'GHz',\n",
       "    'value': 5.05575},\n",
       "   'gateTime': {'date': '2017-07-13T23:47:06Z', 'unit': 'ns', 'value': 90},\n",
       "   'name': 'Q4'}]}"
      ]
     },
     "execution_count": 16,
     "metadata": {},
     "output_type": "execute_result"
    }
   ],
   "source": [
    "Q_program.get_backend_parameters(\"ibmqx2\")"
   ]
  }
 ],
 "metadata": {
  "anaconda-cloud": {},
  "kernelspec": {
   "display_name": "Python 3",
   "language": "python",
   "name": "python3"
  },
  "language_info": {
   "codemirror_mode": {
    "name": "ipython",
    "version": 3
   },
   "file_extension": ".py",
   "mimetype": "text/x-python",
   "name": "python",
   "nbconvert_exporter": "python",
   "pygments_lexer": "ipython3",
   "version": "3.6.1"
  }
 },
 "nbformat": 4,
 "nbformat_minor": 1
}
