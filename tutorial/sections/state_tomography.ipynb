{
 "cells": [
  {
   "cell_type": "markdown",
   "metadata": {},
   "source": [
    "<img src=\"../images/QISKit-c.gif\" alt=\"Note: In order for images to show up in this jupyter notebook you need to select File => Trusted Notebook\" width=\"250 px\" align=\"left\">"
   ]
  },
  {
   "cell_type": "markdown",
   "metadata": {},
   "source": [
    "## _*Quantum State Tomography*_ \n",
    "\n",
    "The latest version of this notebook is available on https://github.com/IBM/qiskit-sdk-py/tree/master/scripts.\n",
    "\n",
    "For more information about how to use the IBM Q experience (QX), consult the [IBM Q experience tutorials](https://quantumexperience.ng.bluemix.net/qstage/#/tutorial?sectionId=c59b3710b928891a1420190148a72cce&pageIndex=0), or check out the [community](https://quantumexperience.ng.bluemix.net/qstage/#/community).\n",
    "\n",
    "***\n",
    "### Contributors\n",
    "Christopher J. Wood, Jay M. Gambetta"
   ]
  },
  {
   "cell_type": "markdown",
   "metadata": {},
   "source": [
    "## Introduction\n",
    "\n",
    "In this notebook we demonstrate how to design and run experiments to perform quantum state tomography using QISKit, and demonstrate this using both simulators, and the IBM Quantum Experience. \n",
    "\n",
    "Methods implemented. \n",
    "* Linear Inversion\n",
    "* Fast maximum likelihood see [J Smolin, JM Gambetta, G Smith, Phys. Rev. Lett. 108, 070502](https://journals.aps.org/prl/abstract/10.1103/PhysRevLett.108.070502) or arxiv: [1106.5458](https://arxiv.org/abs/1106.5458)."
   ]
  },
  {
   "cell_type": "code",
   "execution_count": 1,
   "metadata": {
    "collapsed": true
   },
   "outputs": [],
   "source": [
    "# Checking the version of PYTHON; we only support 3 at the moment\n",
    "import sys\n",
    "if sys.version_info < (3,0):\n",
    "    raise Exception(\"Please use Python version 3 or greater.\")\n",
    "    \n",
    "# useful additional packages \n",
    "import matplotlib.pyplot as plt\n",
    "%matplotlib inline\n",
    "import numpy as np\n",
    "from scipy import linalg as la\n",
    "from itertools import permutations\n",
    "from functools import partial\n",
    "import networkx as nx\n",
    "\n",
    "import sys\n",
    "sys.path.append(\"../../\")\n",
    "# importing the QISKit\n",
    "from qiskit import QuantumCircuit, QuantumProgram\n",
    "import Qconfig\n",
    "\n",
    "# import basic plot tools\n",
    "from qiskit.basicplotter import plot_histogram"
   ]
  },
  {
   "cell_type": "code",
   "execution_count": 2,
   "metadata": {
    "collapsed": true
   },
   "outputs": [],
   "source": [
    "# import state tomography functions\n",
    "from tools.tomography import plot_state, build_tomo_circuits, build_tomo_keys, state_tomography, fidelity"
   ]
  },
  {
   "cell_type": "markdown",
   "metadata": {},
   "source": [
    "### Ideal quantum state\n",
    "\n",
    "As an example we will prepare and measure a 2-qubit entangled Bell-state $\\frac{1}{\\sqrt2}\\left(|00\\rangle+|11\\rangle\\right)$."
   ]
  },
  {
   "cell_type": "code",
   "execution_count": 3,
   "metadata": {},
   "outputs": [
    {
     "name": "stdout",
     "output_type": "stream",
     "text": [
      "\"qasm_simulator\" or \"./qasm_simulator\" \n"
     ]
    },
    {
     "data": {
      "text/plain": [
       "True"
      ]
     },
     "execution_count": 3,
     "metadata": {},
     "output_type": "execute_result"
    }
   ],
   "source": [
    "Q_program = QuantumProgram()\n",
    "Q_program.set_api(Qconfig.APItoken, Qconfig.config[\"url\"]) # set the APIToken and API url"
   ]
  },
  {
   "cell_type": "code",
   "execution_count": 4,
   "metadata": {},
   "outputs": [
    {
     "name": "stdout",
     "output_type": "stream",
     "text": [
      ">> quantum_registers created: q 2\n",
      ">> classical_registers created: c 2\n"
     ]
    },
    {
     "data": {
      "text/plain": [
       "<qiskit.extensions.standard.x.XGate at 0x10fe63160>"
      ]
     },
     "execution_count": 4,
     "metadata": {},
     "output_type": "execute_result"
    }
   ],
   "source": [
    "# Creating registers\n",
    "q2 = Q_program.create_quantum_registers(\"q\", 2)\n",
    "c2 = Q_program.create_classical_registers(\"c\", 2)\n",
    "\n",
    "\n",
    "# quantum circuit to make an entangled bell state \n",
    "bell = Q_program.create_circuit(\"bell\", [\"q\"], [\"c\"])\n",
    "bell.h(q2[0])\n",
    "bell.cx(q2[0], q2[1])\n",
    "\n",
    "\n",
    "# quantum circuit to make a mixed state \n",
    "mixed1 = Q_program.create_circuit(\"mixed1\", [\"q\"], [\"c\"])\n",
    "mixed2 = Q_program.create_circuit(\"mixed2\", [\"q\"], [\"c\"])\n",
    "mixed2.x(q2[0])\n",
    "mixed2.x(q2[1])\n"
   ]
  },
  {
   "cell_type": "code",
   "execution_count": 5,
   "metadata": {},
   "outputs": [
    {
     "name": "stdout",
     "output_type": "stream",
     "text": [
      "running on backend: local_qasm_simulator\n",
      "running on backend: local_qasm_simulator\n",
      "running on backend: local_qasm_simulator\n"
     ]
    }
   ],
   "source": [
    "device = 'local_qasm_simulator' # the device to run on\n",
    "Q_program.execute([\"bell\"], device, 1)\n",
    "state = Q_program.get_data(\"bell\")[\"quantum_state\"]\n",
    "rho=np.outer(state, state.conj())\n",
    "\n",
    "Q_program.execute([\"mixed1\"], device, 1)\n",
    "state1 = Q_program.get_data(\"mixed1\")[\"quantum_state\"]\n",
    "rhomixed1=np.outer(state1, state1.conj())\n",
    "\n",
    "Q_program.execute([\"mixed2\"], device, 1)\n",
    "state2 = Q_program.get_data(\"mixed2\")[\"quantum_state\"]\n",
    "rhomixed2=np.outer(state2, state2.conj())\n",
    "\n",
    "rhomixed = (rhomixed1+rhomixed2)/2"
   ]
  },
  {
   "cell_type": "code",
   "execution_count": 6,
   "metadata": {},
   "outputs": [
    {
     "data": {
      "image/png": "[encoded data removed]",
      "text/plain": [
       "<matplotlib.figure.Figure at 0x1109d8cc0>"
      ]
     },
     "metadata": {},
     "output_type": "display_data"
    }
   ],
   "source": [
    "plot_state(rho,2,\"paulivec\")"
   ]
  },
  {
   "cell_type": "code",
   "execution_count": 6,
   "metadata": {},
   "outputs": [
    {
     "data": {
      "image/png": "[encoded data removed]",
      "text/plain": [
       "<matplotlib.figure.Figure at 0x10baeb550>"
      ]
     },
     "metadata": {},
     "output_type": "display_data"
    }
   ],
   "source": [
    "plot_state(rho,2,\"paulivec\")"
   ]
  },
  {
   "cell_type": "markdown",
   "metadata": {},
   "source": [
    "### Building tomography measurement circuits\n",
    "\n",
    "Next we must construct a family of circuits which implement a tomographically complete set of measurements of the qubit. The `statetomo.py` example library contains functions to generate these measurement circuits for general n-qubit systems. We do this by measuring in the X, Y, and Z for each qubit. This results in $3^n$ measurement circuits which must be executed to gather count statistics for the tomographic reconstruction.\n",
    "\n",
    "The function to build the circuits is:\n",
    "```\n",
    "build_tomo_circuits(QP, 'prep', 'qr', 'cr', qubits)\n",
    "```\n",
    "The function to construct an array of the the corresponding labels for these circuits is:\n",
    "```\n",
    "build_tomo_keys('prep', qubits)\n",
    "```\n",
    "where \n",
    "- `QP` is the quantum program.\n",
    "- `'prep'` is the name of the preparation circuit    \n",
    "- `'qr'` is the name of the quantum registers to be measured\n",
    "- `'cr'` is the name of the classical registers to store outcomes\n",
    "- `qubits` is a list of the qubits to be measured. Eg `[i,j]` for `qr[i]`, and `qr[j]`."
   ]
  },
  {
   "cell_type": "code",
   "execution_count": null,
   "metadata": {
    "collapsed": true
   },
   "outputs": [],
   "source": [
    "# Qubits being measured\n",
    "meas_qubits = [0,1]\n",
    "# Construct the state tomography measurement circuits in QP\n",
    "build_tomo_circuits(Q_program, \"bell\", \"q\", \"c\", meas_qubits)\n",
    "# construct list of tomo circuit labels \n",
    "circuits = build_tomo_keys(\"bell\", meas_qubits)\n",
    "print(circuits)"
   ]
  },
  {
   "cell_type": "markdown",
   "metadata": {},
   "source": [
    "### Testing experiments on a simulator\n",
    "\n",
    "Now that we have prepared the required circuits for state preparation and measurement, we should test them on a simulator before trying to run them on the real device.\n",
    "\n",
    "We specify the device, and a number of experiment shots to perform to gather measurement statistics. The larger the number of shots, the more accurate our measurmeent probabilities will be compared to the *true* value."
   ]
  },
  {
   "cell_type": "code",
   "execution_count": 5,
   "metadata": {
    "scrolled": true
   },
   "outputs": [
    {
     "ename": "NameError",
     "evalue": "name 'circuits' is not defined",
     "output_type": "error",
     "traceback": [
      "\u001b[0;31m--------------------------------------------------------------------------\u001b[0m",
      "\u001b[0;31mNameError\u001b[0m                                Traceback (most recent call last)",
      "\u001b[0;32m<ipython-input-5-ba60b3e6b5f5>\u001b[0m in \u001b[0;36m<module>\u001b[0;34m()\u001b[0m\n\u001b[1;32m      6\u001b[0m \u001b[0;34m\u001b[0m\u001b[0m\n\u001b[1;32m      7\u001b[0m \u001b[0;31m# Run the simulation\u001b[0m\u001b[0;34m\u001b[0m\u001b[0;34m\u001b[0m\u001b[0m\n\u001b[0;32m----> 8\u001b[0;31m \u001b[0mresult\u001b[0m \u001b[0;34m=\u001b[0m \u001b[0mQ_program\u001b[0m\u001b[0;34m.\u001b[0m\u001b[0mexecute\u001b[0m\u001b[0;34m(\u001b[0m\u001b[0mcircuits\u001b[0m\u001b[0;34m,\u001b[0m \u001b[0mdevice\u001b[0m\u001b[0;34m,\u001b[0m \u001b[0mshots\u001b[0m\u001b[0;34m)\u001b[0m\u001b[0;34m\u001b[0m\u001b[0m\n\u001b[0m\u001b[1;32m      9\u001b[0m \u001b[0mprint\u001b[0m\u001b[0;34m(\u001b[0m\u001b[0mresult\u001b[0m\u001b[0;34m)\u001b[0m\u001b[0;34m\u001b[0m\u001b[0m\n",
      "\u001b[0;31mNameError\u001b[0m: name 'circuits' is not defined"
     ]
    }
   ],
   "source": [
    "# Use the local simulator\n",
    "device = 'local_qasm_simulator'\n",
    "\n",
    "# Take 1000 shots for each measurement basis\n",
    "shots = 1000\n",
    "\n",
    "# Run the simulation\n",
    "result = Q_program.execute(circuits, device, shots)\n",
    "print(result)"
   ]
  },
  {
   "cell_type": "markdown",
   "metadata": {},
   "source": [
    "Before doing the tomographic reconstruction we can view the count statistics from the simulation:"
   ]
  },
  {
   "cell_type": "code",
   "execution_count": null,
   "metadata": {
    "collapsed": true
   },
   "outputs": [],
   "source": [
    "for c in circuits:\n",
    "    print('Circuit:', c)\n",
    "    print('Counts:', Q_program.get_counts(c))"
   ]
  },
  {
   "cell_type": "markdown",
   "metadata": {},
   "source": [
    "### Reconstructing state from count data\n",
    "\n",
    "To reconstruct the maximum likelihod estimate of the measured quantum state we use the following function:\n",
    "```\n",
    "state_tomography(QP, circuits, shots, total_qubits, meas_qubits)\n",
    "```\n",
    "where\n",
    "- `QP` is the quantum program containing the measurement results\n",
    "- `circuits` is the array of tomographic measurement circuits measured\n",
    "- `shots` is the total number of shots for each measurement circuit\n",
    "- `total_qubits` is the total number of qubits in the system (the length of shot outcome bitstrings)\n",
    "- `meas_qubits` is an array of the measurement qubit indices"
   ]
  },
  {
   "cell_type": "code",
   "execution_count": null,
   "metadata": {
    "collapsed": true
   },
   "outputs": [],
   "source": [
    "total_qubits = 2\n",
    "rho_fit = state_tomography(Q_program, circuits, shots, total_qubits, meas_qubits)\n",
    "print('rho =', rho_fit)"
   ]
  },
  {
   "cell_type": "code",
   "execution_count": null,
   "metadata": {
    "collapsed": true
   },
   "outputs": [],
   "source": [
    "plot_state(rho_fit,2,\"city\")"
   ]
  },
  {
   "cell_type": "markdown",
   "metadata": {},
   "source": [
    "We can compare the reconstructed state to the target state vector. We use the Fidelity function, which for a comparing a density matrix $\\rho$ to a pure state $|\\psi\\rangle$ is given by $F = \\sqrt{\\langle \\psi| \\rho |\\psi\\rangle}$. This may be done by the function `fidelity(rho, psi)`. Finally we may wish to visualize the reconstructed state. This can be done by using various plotting libraries. One conveient one is the following which uses the [QuTiP (Quantum Toolbox in Python)](http://qutip.org/) library."
   ]
  },
  {
   "cell_type": "code",
   "execution_count": null,
   "metadata": {
    "collapsed": true
   },
   "outputs": [],
   "source": [
    "# target state is (|00>+|11>)/sqrt(2)\n",
    "target = np.array([1., 0., 0., 1.]/np.sqrt(2.))\n",
    "\n",
    "# calculate fidelity\n",
    "F_fit = fidelity(rho_fit, target)\n",
    "F_fit"
   ]
  },
  {
   "cell_type": "markdown",
   "metadata": {},
   "source": [
    "Note that since our simulator is *perfect* the output state should be *exactly* the Bell-state, so we should obtain F = 1. Why is it not in our case? Since we can never directly *see* the final state we must obtain information about it via measurements. We would only obtain the *true* probabilities for the state in the limit of infinite measurement shots. Hence we have statistical error in our reconstruction due to having imperfect information about the state itself. Try running with different number of shots on the simulator and see how it effects the fidelity of the reconstruction.\n",
    "\n",
    "### Running on a real device\n",
    "\n",
    "Now that we've checked our simple tomography experiment worked, lets try it out on the IBM Quantum Experience! To do this we must have attached our API key, and it is good practice to set a limit on the number of credits to use:"
   ]
  },
  {
   "cell_type": "code",
   "execution_count": 4,
   "metadata": {},
   "outputs": [
    {
     "ename": "NameError",
     "evalue": "name 'circuits' is not defined",
     "output_type": "error",
     "traceback": [
      "\u001b[0;31m--------------------------------------------------------------------------\u001b[0m",
      "\u001b[0;31mNameError\u001b[0m                                Traceback (most recent call last)",
      "\u001b[0;32m<ipython-input-4-abcb4e859a5e>\u001b[0m in \u001b[0;36m<module>\u001b[0;34m()\u001b[0m\n\u001b[1;32m      8\u001b[0m \u001b[0;34m\u001b[0m\u001b[0m\n\u001b[1;32m      9\u001b[0m \u001b[0;31m# Run the simulation\u001b[0m\u001b[0;34m\u001b[0m\u001b[0;34m\u001b[0m\u001b[0m\n\u001b[0;32m---> 10\u001b[0;31m \u001b[0mresult\u001b[0m \u001b[0;34m=\u001b[0m \u001b[0mQ_program\u001b[0m\u001b[0;34m.\u001b[0m\u001b[0mexecute\u001b[0m\u001b[0;34m(\u001b[0m\u001b[0mcircuits\u001b[0m\u001b[0;34m,\u001b[0m \u001b[0mdevice\u001b[0m\u001b[0;34m,\u001b[0m \u001b[0mshots\u001b[0m\u001b[0;34m,\u001b[0m \u001b[0mmax_credits\u001b[0m\u001b[0;34m,\u001b[0m \u001b[0mwait\u001b[0m\u001b[0;34m=\u001b[0m\u001b[0;36m20\u001b[0m\u001b[0;34m,\u001b[0m \u001b[0mtimeout\u001b[0m\u001b[0;34m=\u001b[0m\u001b[0;36m240\u001b[0m\u001b[0;34m)\u001b[0m\u001b[0;34m\u001b[0m\u001b[0m\n\u001b[0m\u001b[1;32m     11\u001b[0m \u001b[0mprint\u001b[0m\u001b[0;34m(\u001b[0m\u001b[0mresult\u001b[0m\u001b[0;34m)\u001b[0m\u001b[0;34m\u001b[0m\u001b[0m\n",
      "\u001b[0;31mNameError\u001b[0m: name 'circuits' is not defined"
     ]
    }
   ],
   "source": [
    "# Use the IBM Quantum Experience\n",
    "device = 'ibmqx2'\n",
    "# Take 1000 shots for each measurement basis\n",
    "# Note: reduce this number for larger number of qubits\n",
    "shots = 1000\n",
    "# set max credits\n",
    "max_credits = 5\n",
    "\n",
    "# Run the simulation\n",
    "result = Q_program.execute(circuits, device, shots, max_credits, wait=20, timeout=240)\n",
    "print(result)"
   ]
  },
  {
   "cell_type": "markdown",
   "metadata": {},
   "source": [
    "As before we can check our results, and check our tomographically reconstructed state."
   ]
  },
  {
   "cell_type": "code",
   "execution_count": null,
   "metadata": {
    "collapsed": true
   },
   "outputs": [],
   "source": [
    "# print measurement results\n",
    "for c in circuits:\n",
    "    print('Circuit:', c)\n",
    "    print('Counts:', Q_program.get_counts(c))"
   ]
  },
  {
   "cell_type": "markdown",
   "metadata": {},
   "source": [
    "Notice that for measurement results the bitstrings are now actually those for 5 qubits, even though we only measured one. This is because the QX is a 5-qubit quantum processor. To reconstruct the single qubit state from these results we use `total_qubits=5`. Note also that the qubit ordering in this bitstrings is `q[4]q[3]q[2]q[1]q[0]`"
   ]
  },
  {
   "cell_type": "code",
   "execution_count": null,
   "metadata": {
    "collapsed": true,
    "scrolled": false
   },
   "outputs": [],
   "source": [
    "rho_fit_real = state_tomography(Q_program, circuits, shots, 5, meas_qubits)\n",
    "# target state is (|00>+|11>)/sqrt(2)\n",
    "target = np.array([1., 0., 0., 1.]/np.sqrt(2.))\n",
    "\n",
    "F_fit_real = fidelity(rho_fit_real, target)\n",
    "F_fit_real"
   ]
  },
  {
   "cell_type": "code",
   "execution_count": null,
   "metadata": {
    "collapsed": true
   },
   "outputs": [],
   "source": [
    "plot_state(rho_fit_real,2,\"city\")"
   ]
  },
  {
   "cell_type": "code",
   "execution_count": null,
   "metadata": {
    "collapsed": true
   },
   "outputs": [],
   "source": []
  }
 ],
 "metadata": {
  "anaconda-cloud": {},
  "kernelspec": {
   "display_name": "Python 3",
   "language": "python",
   "name": "python3"
  },
  "language_info": {
   "codemirror_mode": {
    "name": "ipython",
    "version": 3
   },
   "file_extension": ".py",
   "mimetype": "text/x-python",
   "name": "python",
   "nbconvert_exporter": "python",
   "pygments_lexer": "ipython3",
   "version": "3.6.1"
  }
 },
 "nbformat": 4,
 "nbformat_minor": 1
}
