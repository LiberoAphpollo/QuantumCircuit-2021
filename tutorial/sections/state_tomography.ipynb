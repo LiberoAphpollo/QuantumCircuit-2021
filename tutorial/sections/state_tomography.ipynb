{
 "cells": [
  {
   "cell_type": "markdown",
   "metadata": {},
   "source": [
    "<img src=\"../images/QISKit-c.gif\" alt=\"Note: In order for images to show up in this jupyter notebook you need to select File => Trusted Notebook\" width=\"250 px\" align=\"left\">"
   ]
  },
  {
   "cell_type": "markdown",
   "metadata": {},
   "source": [
    "## _*Quantum State Tomography*_ \n",
    "\n",
    "The latest version of this notebook is available on https://github.com/IBM/qiskit-sdk-py/tree/master/scripts.\n",
    "\n",
    "For more information about how to use the IBM Q experience (QX), consult the [IBM Q experience tutorials](https://quantumexperience.ng.bluemix.net/qstage/#/tutorial?sectionId=c59b3710b928891a1420190148a72cce&pageIndex=0), or check out the [community](https://quantumexperience.ng.bluemix.net/qstage/#/community).\n",
    "\n",
    "***\n",
    "### Contributors\n",
    "Christopher J. Wood, Jay M. Gambetta"
   ]
  },
  {
   "cell_type": "markdown",
   "metadata": {},
   "source": [
    "## Introduction\n",
    "\n",
    "In this notebook we demonstrate how to design and run experiments to perform quantum state tomography using QISKit, and demonstrate this using both simulators, and the IBM Quantum Experience. \n",
    "\n",
    "The functions used in this notebook to implement state tomography may be imported from the `tools.tomography` module.\n",
    "\n",
    "#### Experiment Design\n",
    "\n",
    "The tomography experiments demonstrated in this notebook append a state preparation circuit with to perform measurements of all qubits in each of the X, Y, and Z Pauli bases. For $n$-qubits this gives a total of $3^n$ measurement circuits which must be run, and the resulting counts for the $6^n$ measurement outcomes accross all circuits give a tomographically overcomplete basis for reconstruction of the quantum state.\n",
    "\n",
    "#### State Reconstruction Methods\n",
    "\n",
    "State reconstruction may be done using a variety of methods. In this notebook implement two simple cases, they are: \n",
    "* Linear Inversion\n",
    "* Fast maximum likelihood (*see [J Smolin, JM Gambetta, G Smith, Phys. Rev. Lett. 108, 070502](https://journals.aps.org/prl/abstract/10.1103/PhysRevLett.108.070502), open access: [arXiv:1106.5458](https://arxiv.org/abs/1106.5458)*)."
   ]
  },
  {
   "cell_type": "code",
   "execution_count": 1,
   "metadata": {},
   "outputs": [],
   "source": [
    "# Checking the version of PYTHON; we only support 3 at the moment\n",
    "import sys\n",
    "if sys.version_info < (3,0):\n",
    "    raise Exception(\"Please use Python version 3 or greater.\")\n",
    "import numpy as np\n",
<<<<<<< HEAD
    "    \n",
=======
    "from scipy import linalg as la\n",
    "\n",
    "import sys\n",
    "sys.path.append(\"../../\")\n",
>>>>>>> IBMQuantum/Dev
    "# importing the QISKit\n",
    "sys.path.append(\"../../\")\n",
    "from qiskit import QuantumCircuit, QuantumProgram\n",
    "import Qconfig\n",
    "\n",
    "# import tomography libary\n",
    "import tools.tomography as tomo\n",
    "\n",
    "# useful additional packages \n",
    "from qiskit.basicplotter import plot_histogram\n",
    "from tools.vizualization import plot_state\n",
    "from tools.qi import state_fidelity\n"
   ]
  },
  {
   "cell_type": "markdown",
   "metadata": {},
   "source": [
    "## State tomography of an entangled Bell-state\n",
    "\n",
    "We will demonstrate preparation, measurement, and tomographic reconstruction of a 2-qubit Bell state $\\frac{1}{\\sqrt2}\\left(|00\\rangle+|11\\rangle\\right)$.\n",
    "\n",
    "### State preparation\n",
    "\n",
    "We begin with constructing a circuit to prepare the target state, this circuit requires a 2-qubit quantum register, and a 2-bit classical register to store measurement outcomes."
   ]
  },
  {
   "cell_type": "code",
   "execution_count": 2,
   "metadata": {},
<<<<<<< HEAD
   "outputs": [
    {
     "data": {
      "text/plain": [
       "<qiskit.extensions.standard.cx.CnotGate at 0x1116e9780>"
      ]
     },
     "execution_count": 2,
     "metadata": {},
     "output_type": "execute_result"
    }
   ],
=======
   "outputs": [],
>>>>>>> IBMQuantum/Dev
   "source": [
    "Q_program = QuantumProgram()\n",
    "Q_program.set_api(Qconfig.APItoken, Qconfig.config[\"url\"]) # set the APIToken and API url\n",
    "\n",
    "# Creating registers\n",
    "qr = Q_program.create_quantum_register(\"qr\", 2)\n",
    "cr = Q_program.create_classical_register(\"cr\", 2)\n",
    "\n",
    "# quantum circuit to make an entangled bell state \n",
    "bell = Q_program.create_circuit(\"bell\", [qr], [cr])\n",
    "bell.h(qr[0])\n",
    "bell.cx(qr[0], qr[1])"
   ]
  },
  {
<<<<<<< HEAD
   "cell_type": "markdown",
   "metadata": {},
   "source": [
    "#### Visualization of the ideal state\n",
    "\n",
    "Before we perform tomographic measurement, lets visualize the ideal output state from the preparation circuit. We may do this by executing the circuit on the `local_qasm_simulator` backend. Since this is a simulation, it gives us direct access to the final state vector if we only perform a single shot."
=======
   "cell_type": "code",
   "execution_count": 10,
   "metadata": {},
   "outputs": [
    {
     "data": {
      "text/plain": [
       "<qiskit.extensions.standard.x.XGate at 0x1144920b8>"
      ]
     },
     "execution_count": 10,
     "metadata": {},
     "output_type": "execute_result"
    }
   ],
   "source": [
    "# Creating registers\n",
    "q = Q_program.create_quantum_register(\"q\", 2)\n",
    "c = Q_program.create_classical_register(\"c\", 2)\n",
    "\n",
    "\n",
    "# quantum circuit to make an entangled bell state \n",
    "bell = Q_program.create_circuit(\"bell\", [q], [c])\n",
    "bell.h(q[0])\n",
    "bell.cx(q[0], q[1])\n",
    "\n",
    "\n",
    "# quantum circuit to make a mixed state \n",
    "mixed1 = Q_program.create_circuit(\"mixed1\", [q], [c])\n",
    "mixed2 = Q_program.create_circuit(\"mixed2\", [q], [c])\n",
    "mixed2.x(q[0])\n",
    "mixed2.x(q[1])\n"
>>>>>>> IBMQuantum/Dev
   ]
  },
  {
   "cell_type": "code",
<<<<<<< HEAD
   "execution_count": 3,
   "metadata": {},
   "outputs": [],
   "source": [
    "Q_program.execute([\"bell\"], backend='local_qasm_simulator', shots=1)\n",
    "state = Q_program.get_data(\"bell\")[\"quantum_state\"] # get the final state vector\n",
    "rho=np.outer(state, state.conj()) # construct the density matrix from the state vector"
   ]
  },
  {
   "cell_type": "markdown",
   "metadata": {},
   "source": [
    "We may visualize the final state using the `plot_state` function. This can either return a *city plot*, which is a 2D-bar plot of real and imaginary matrix elements of a density matrix $\\rho$."
=======
   "execution_count": 11,
   "metadata": {},
   "outputs": [
    {
     "ename": "KeyError",
     "evalue": "'execution'",
     "output_type": "error",
     "traceback": [
      "\u001b[0;31m---------------------------------------------------------------------------\u001b[0m",
      "\u001b[0;31mKeyError\u001b[0m                                  Traceback (most recent call last)",
      "\u001b[0;32m<ipython-input-11-1eee3b7c8806>\u001b[0m in \u001b[0;36m<module>\u001b[0;34m()\u001b[0m\n\u001b[0;32m----> 1\u001b[0;31m \u001b[0mQ_program\u001b[0m\u001b[0;34m.\u001b[0m\u001b[0mget_data\u001b[0m\u001b[0;34m(\u001b[0m\u001b[0;34m\"bell\"\u001b[0m\u001b[0;34m)\u001b[0m\u001b[0;34m\u001b[0m\u001b[0m\n\u001b[0m",
      "\u001b[0;32m~/gitshare/qiskit-sdk-py-dev/qiskit/_quantumprogram.py\u001b[0m in \u001b[0;36mget_data\u001b[0;34m(self, name, backend)\u001b[0m\n\u001b[1;32m   1192\u001b[0m             \u001b[0mbackend\u001b[0m \u001b[0;34m=\u001b[0m \u001b[0mself\u001b[0m\u001b[0;34m.\u001b[0m\u001b[0m__last_backend\u001b[0m\u001b[0;34m\u001b[0m\u001b[0m\n\u001b[1;32m   1193\u001b[0m         \u001b[0;32mif\u001b[0m \u001b[0mname\u001b[0m \u001b[0;32min\u001b[0m \u001b[0mself\u001b[0m\u001b[0;34m.\u001b[0m\u001b[0m__quantum_program\u001b[0m\u001b[0;34m:\u001b[0m\u001b[0;34m\u001b[0m\u001b[0m\n\u001b[0;32m-> 1194\u001b[0;31m             \u001b[0;32mreturn\u001b[0m \u001b[0mself\u001b[0m\u001b[0;34m.\u001b[0m\u001b[0m__quantum_program\u001b[0m\u001b[0;34m[\u001b[0m\u001b[0mname\u001b[0m\u001b[0;34m]\u001b[0m\u001b[0;34m[\u001b[0m\u001b[0;34m'execution'\u001b[0m\u001b[0;34m]\u001b[0m\u001b[0;34m[\u001b[0m\u001b[0mbackend\u001b[0m\u001b[0;34m]\u001b[0m\u001b[0;34m[\u001b[0m\u001b[0;34m'data'\u001b[0m\u001b[0;34m]\u001b[0m\u001b[0;34m\u001b[0m\u001b[0m\n\u001b[0m\u001b[1;32m   1195\u001b[0m         \u001b[0;32melse\u001b[0m\u001b[0;34m:\u001b[0m\u001b[0;34m\u001b[0m\u001b[0m\n\u001b[1;32m   1196\u001b[0m             \u001b[0;32mraise\u001b[0m \u001b[0mKeyError\u001b[0m\u001b[0;34m(\u001b[0m\u001b[0;34m'circuit \"{0}\" not found in program'\u001b[0m\u001b[0;34m.\u001b[0m\u001b[0mformat\u001b[0m\u001b[0;34m(\u001b[0m\u001b[0mname\u001b[0m\u001b[0;34m)\u001b[0m\u001b[0;34m)\u001b[0m\u001b[0;34m\u001b[0m\u001b[0m\n",
      "\u001b[0;31mKeyError\u001b[0m: 'execution'"
     ]
    }
   ],
   "source": [
    "Q_program.get_data(\"bell\")"
   ]
  },
  {
   "cell_type": "code",
   "execution_count": 12,
   "metadata": {},
   "outputs": [
    {
     "ename": "AssertionError",
     "evalue": "Invalid circuit! Has the Qasm parsing been called?. e.g: unroller.execute()",
     "output_type": "error",
     "traceback": [
      "\u001b[0;31m---------------------------------------------------------------------------\u001b[0m",
      "\u001b[0;31mAssertionError\u001b[0m                            Traceback (most recent call last)",
      "\u001b[0;32m<ipython-input-12-64b1eafc8f48>\u001b[0m in \u001b[0;36m<module>\u001b[0;34m()\u001b[0m\n\u001b[1;32m      1\u001b[0m \u001b[0mbackend\u001b[0m \u001b[0;34m=\u001b[0m \u001b[0;34m'local_qasm_simulator'\u001b[0m \u001b[0;31m# the device to run on\u001b[0m\u001b[0;34m\u001b[0m\u001b[0m\n\u001b[0;32m----> 2\u001b[0;31m \u001b[0mQ_program\u001b[0m\u001b[0;34m.\u001b[0m\u001b[0mexecute\u001b[0m\u001b[0;34m(\u001b[0m\u001b[0;34m[\u001b[0m\u001b[0;34m\"bell\"\u001b[0m\u001b[0;34m]\u001b[0m\u001b[0;34m,\u001b[0m \u001b[0mbackend\u001b[0m\u001b[0;34m=\u001b[0m\u001b[0mbackend\u001b[0m\u001b[0;34m,\u001b[0m \u001b[0mshots\u001b[0m\u001b[0;34m=\u001b[0m\u001b[0;36m1\u001b[0m\u001b[0;34m)\u001b[0m\u001b[0;34m\u001b[0m\u001b[0m\n\u001b[0m\u001b[1;32m      3\u001b[0m \u001b[0mstate\u001b[0m \u001b[0;34m=\u001b[0m \u001b[0mQ_program\u001b[0m\u001b[0;34m.\u001b[0m\u001b[0mget_data\u001b[0m\u001b[0;34m(\u001b[0m\u001b[0;34m\"bell\"\u001b[0m\u001b[0;34m)\u001b[0m\u001b[0;34m[\u001b[0m\u001b[0;34m\"quantum_state\"\u001b[0m\u001b[0;34m]\u001b[0m\u001b[0;34m\u001b[0m\u001b[0m\n\u001b[1;32m      4\u001b[0m \u001b[0mrho\u001b[0m\u001b[0;34m=\u001b[0m\u001b[0mnp\u001b[0m\u001b[0;34m.\u001b[0m\u001b[0mouter\u001b[0m\u001b[0;34m(\u001b[0m\u001b[0mstate\u001b[0m\u001b[0;34m,\u001b[0m \u001b[0mstate\u001b[0m\u001b[0;34m.\u001b[0m\u001b[0mconj\u001b[0m\u001b[0;34m(\u001b[0m\u001b[0;34m)\u001b[0m\u001b[0;34m)\u001b[0m\u001b[0;34m\u001b[0m\u001b[0m\n\u001b[1;32m      5\u001b[0m \u001b[0;34m\u001b[0m\u001b[0m\n",
      "\u001b[0;32m~/gitshare/qiskit-sdk-py-dev/qiskit/_quantumprogram.py\u001b[0m in \u001b[0;36mexecute\u001b[0;34m(self, name_of_circuits, backend, config, wait, timeout, silent, basis_gates, coupling_map, initial_layout, shots, max_credits, seed)\u001b[0m\n\u001b[1;32m   1136\u001b[0m                      \u001b[0mcoupling_map\u001b[0m\u001b[0;34m=\u001b[0m\u001b[0mcoupling_map\u001b[0m\u001b[0;34m,\u001b[0m \u001b[0minitial_layout\u001b[0m\u001b[0;34m=\u001b[0m\u001b[0minitial_layout\u001b[0m\u001b[0;34m,\u001b[0m\u001b[0;34m\u001b[0m\u001b[0m\n\u001b[1;32m   1137\u001b[0m                      shots=shots, max_credits=max_credits, seed=seed)\n\u001b[0;32m-> 1138\u001b[0;31m         \u001b[0moutput\u001b[0m \u001b[0;34m=\u001b[0m \u001b[0mself\u001b[0m\u001b[0;34m.\u001b[0m\u001b[0mrun\u001b[0m\u001b[0;34m(\u001b[0m\u001b[0mwait\u001b[0m\u001b[0;34m=\u001b[0m\u001b[0mwait\u001b[0m\u001b[0;34m,\u001b[0m \u001b[0mtimeout\u001b[0m\u001b[0;34m=\u001b[0m\u001b[0mtimeout\u001b[0m\u001b[0;34m,\u001b[0m \u001b[0msilent\u001b[0m\u001b[0;34m=\u001b[0m\u001b[0msilent\u001b[0m\u001b[0;34m)\u001b[0m\u001b[0;34m\u001b[0m\u001b[0m\n\u001b[0m\u001b[1;32m   1139\u001b[0m         \u001b[0;32mreturn\u001b[0m \u001b[0moutput\u001b[0m\u001b[0;34m\u001b[0m\u001b[0m\n\u001b[1;32m   1140\u001b[0m \u001b[0;34m\u001b[0m\u001b[0m\n",
      "\u001b[0;32m~/gitshare/qiskit-sdk-py-dev/qiskit/_quantumprogram.py\u001b[0m in \u001b[0;36mrun\u001b[0;34m(self, wait, timeout, silent)\u001b[0m\n\u001b[1;32m    970\u001b[0m                 \u001b[0mjobs\u001b[0m \u001b[0;34m=\u001b[0m \u001b[0;34m[\u001b[0m\u001b[0;34m]\u001b[0m\u001b[0;34m\u001b[0m\u001b[0m\n\u001b[1;32m    971\u001b[0m                 \u001b[0;32mfor\u001b[0m \u001b[0mjob\u001b[0m \u001b[0;32min\u001b[0m \u001b[0mself\u001b[0m\u001b[0;34m.\u001b[0m\u001b[0m__to_execute\u001b[0m\u001b[0;34m[\u001b[0m\u001b[0mbackend\u001b[0m\u001b[0;34m]\u001b[0m\u001b[0;34m:\u001b[0m\u001b[0;34m\u001b[0m\u001b[0m\n\u001b[0;32m--> 972\u001b[0;31m                     jobs.append({\"compiled_circuit\": self._dag2json(job[\"compiled_circuit\"]),\n\u001b[0m\u001b[1;32m    973\u001b[0m                                  \"config\": job[\"config\"]})\n\u001b[1;32m    974\u001b[0m                 \u001b[0;32mif\u001b[0m \u001b[0;32mnot\u001b[0m \u001b[0msilent\u001b[0m\u001b[0;34m:\u001b[0m\u001b[0;34m\u001b[0m\u001b[0m\n",
      "\u001b[0;32m~/gitshare/qiskit-sdk-py-dev/qiskit/_quantumprogram.py\u001b[0m in \u001b[0;36m_dag2json\u001b[0;34m(self, dag_circuit)\u001b[0m\n\u001b[1;32m    884\u001b[0m         \u001b[0mbasis_gates\u001b[0m \u001b[0;34m=\u001b[0m \u001b[0;34m\"u1,u2,u3,cx,id\"\u001b[0m  \u001b[0;31m# QE target basis\u001b[0m\u001b[0;34m\u001b[0m\u001b[0m\n\u001b[1;32m    885\u001b[0m         \u001b[0munroller\u001b[0m \u001b[0;34m=\u001b[0m \u001b[0munroll\u001b[0m\u001b[0;34m.\u001b[0m\u001b[0mUnroller\u001b[0m\u001b[0;34m(\u001b[0m\u001b[0mqasm\u001b[0m\u001b[0;34m.\u001b[0m\u001b[0mQasm\u001b[0m\u001b[0;34m(\u001b[0m\u001b[0mdata\u001b[0m\u001b[0;34m=\u001b[0m\u001b[0mcircuit_string\u001b[0m\u001b[0;34m)\u001b[0m\u001b[0;34m.\u001b[0m\u001b[0mparse\u001b[0m\u001b[0;34m(\u001b[0m\u001b[0;34m)\u001b[0m\u001b[0;34m,\u001b[0m \u001b[0munroll\u001b[0m\u001b[0;34m.\u001b[0m\u001b[0mJsonBackend\u001b[0m\u001b[0;34m(\u001b[0m\u001b[0mbasis_gates\u001b[0m\u001b[0;34m.\u001b[0m\u001b[0msplit\u001b[0m\u001b[0;34m(\u001b[0m\u001b[0;34m\",\"\u001b[0m\u001b[0;34m)\u001b[0m\u001b[0;34m)\u001b[0m\u001b[0;34m)\u001b[0m\u001b[0;34m\u001b[0m\u001b[0m\n\u001b[0;32m--> 886\u001b[0;31m         \u001b[0mjson_circuit\u001b[0m \u001b[0;34m=\u001b[0m \u001b[0munroller\u001b[0m\u001b[0;34m.\u001b[0m\u001b[0mexecute\u001b[0m\u001b[0;34m(\u001b[0m\u001b[0;34m)\u001b[0m\u001b[0;34m\u001b[0m\u001b[0m\n\u001b[0m\u001b[1;32m    887\u001b[0m         \u001b[0;32mreturn\u001b[0m \u001b[0mjson_circuit\u001b[0m\u001b[0;34m\u001b[0m\u001b[0m\n\u001b[1;32m    888\u001b[0m \u001b[0;34m\u001b[0m\u001b[0m\n",
      "\u001b[0;32m~/gitshare/qiskit-sdk-py-dev/qiskit/unroll/_unroller.py\u001b[0m in \u001b[0;36mexecute\u001b[0;34m(self)\u001b[0m\n\u001b[1;32m    338\u001b[0m         \u001b[0;32mif\u001b[0m \u001b[0mself\u001b[0m\u001b[0;34m.\u001b[0m\u001b[0mbackend\u001b[0m \u001b[0;32mis\u001b[0m \u001b[0;32mnot\u001b[0m \u001b[0;32mNone\u001b[0m\u001b[0;34m:\u001b[0m\u001b[0;34m\u001b[0m\u001b[0m\n\u001b[1;32m    339\u001b[0m             \u001b[0mself\u001b[0m\u001b[0;34m.\u001b[0m\u001b[0m_process_node\u001b[0m\u001b[0;34m(\u001b[0m\u001b[0mself\u001b[0m\u001b[0;34m.\u001b[0m\u001b[0mast\u001b[0m\u001b[0;34m)\u001b[0m\u001b[0;34m\u001b[0m\u001b[0m\n\u001b[0;32m--> 340\u001b[0;31m             \u001b[0;32mreturn\u001b[0m \u001b[0mself\u001b[0m\u001b[0;34m.\u001b[0m\u001b[0mbackend\u001b[0m\u001b[0;34m.\u001b[0m\u001b[0mget_output\u001b[0m\u001b[0;34m(\u001b[0m\u001b[0;34m)\u001b[0m\u001b[0;34m\u001b[0m\u001b[0m\n\u001b[0m\u001b[1;32m    341\u001b[0m         \u001b[0;32melse\u001b[0m\u001b[0;34m:\u001b[0m\u001b[0;34m\u001b[0m\u001b[0m\n\u001b[1;32m    342\u001b[0m             \u001b[0;32mraise\u001b[0m \u001b[0mUnrollerException\u001b[0m\u001b[0;34m(\u001b[0m\u001b[0;34m\"backend not attached\"\u001b[0m\u001b[0;34m)\u001b[0m\u001b[0;34m\u001b[0m\u001b[0m\n",
      "\u001b[0;32m~/gitshare/qiskit-sdk-py-dev/qiskit/unroll/_jsonbackend.py\u001b[0m in \u001b[0;36mget_output\u001b[0;34m(self)\u001b[0m\n\u001b[1;32m    286\u001b[0m     \u001b[0;32mdef\u001b[0m \u001b[0mget_output\u001b[0m\u001b[0;34m(\u001b[0m\u001b[0mself\u001b[0m\u001b[0;34m)\u001b[0m\u001b[0;34m:\u001b[0m\u001b[0;34m\u001b[0m\u001b[0m\n\u001b[1;32m    287\u001b[0m         \u001b[0;34m\"\"\"Returns the generated circuit.\"\"\"\u001b[0m\u001b[0;34m\u001b[0m\u001b[0m\n\u001b[0;32m--> 288\u001b[0;31m         \u001b[0;32massert\u001b[0m \u001b[0mself\u001b[0m\u001b[0;34m.\u001b[0m\u001b[0m_is_circuit_valid\u001b[0m\u001b[0;34m(\u001b[0m\u001b[0;34m)\u001b[0m\u001b[0;34m,\u001b[0m \u001b[0;34m\"Invalid circuit! \"\u001b[0m\u001b[0;31m \u001b[0m\u001b[0;31m\\\u001b[0m\u001b[0;34m\u001b[0m\u001b[0m\n\u001b[0m\u001b[1;32m    289\u001b[0m             \u001b[0;34m\"Has the Qasm parsing been called?. e.g: unroller.execute()\"\u001b[0m\u001b[0;34m\u001b[0m\u001b[0m\n\u001b[1;32m    290\u001b[0m         \u001b[0;31m# Convert simple quotes from the json strings to double quotes.\u001b[0m\u001b[0;34m\u001b[0m\u001b[0;34m\u001b[0m\u001b[0m\n",
      "\u001b[0;31mAssertionError\u001b[0m: Invalid circuit! Has the Qasm parsing been called?. e.g: unroller.execute()"
     ]
    }
   ],
   "source": [
    "backend = 'local_qasm_simulator' # the device to run on\n",
    "Q_program.execute([\"bell\"], backend=backend, shots=1)\n",
    "state = Q_program.get_data(\"bell\")[\"quantum_state\"]\n",
    "rho=np.outer(state, state.conj())\n",
    "\n",
    "Q_program.execute([\"mixed1\"], backend=backend, shots=1)\n",
    "state1 = Q_program.get_data(\"mixed1\")[\"quantum_state\"]\n",
    "rhomixed1=np.outer(state1, state1.conj())\n",
    "\n",
    "Q_program.execute([\"mixed2\"], backend=backend, shots=1)\n",
    "state2 = Q_program.get_data(\"mixed2\")[\"quantum_state\"]\n",
    "rhomixed2=np.outer(state2, state2.conj())\n",
    "\n",
    "rhomixed = (rhomixed1+rhomixed2)/2"
>>>>>>> IBMQuantum/Dev
   ]
  },
  {
   "cell_type": "code",
   "execution_count": 5,
   "metadata": {},
   "outputs": [
    {
     "data": {
      "image/png": "iVBORw0KGgoAAAANSUhEUgAAAZEAAAEXCAYAAABsyHmSAAAABHNCSVQICAgIfAhkiAAAAAlwSFlz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\nPydqol7R+2+BAAAAAElFTkSuQmCC\n",
      "text/plain": [
       "<matplotlib.figure.Figure at 0x11888ae48>"
      ]
     },
     "metadata": {},
     "output_type": "display_data"
    }
   ],
   "source": [
    "# plot the state\n",
    "plot_state(rho,\"paulivec\")"
   ]
  },
  {
   "cell_type": "markdown",
   "metadata": {},
   "source": [
    "We can compare the ideal entangled state to a non-entangled mixed state $\\frac{1}{2}(|00\\rangle\\langle00| +|11\\rangle\\langle11|)$:"
   ]
  },
  {
   "cell_type": "code",
   "execution_count": 6,
   "metadata": {},
   "outputs": [
    {
     "data": {
      "image/png": "iVBORw0KGgoAAAANSUhEUgAAAZEAAAEXCAYAAABsyHmSAAAABHNCSVQICAgIfAhkiAAAAAlwSFlz\nAAALEgAACxIB0t1+/AAAH+JJREFUeJzt3Xm4HFW57/HvLwkhExoQDFOQKcqJCEJCwAFNFBBQTgQB\nUQRBNEFFEC8IxxEVvFxFOCII5CIqDieCExyMgjLKOSKTBg1DiFEORC4IAhJAMeS9f6y1sejsobp2\n9d7V7t/nefrp7urqt9/q6q631lrdVYoIzMzMqhg13AmYmVn3chExM7PKXETMzKwyFxEzM6vMRcTM\nzCpzETEzs8oaU0QkXSDpQUm/7eNxSTpT0jJJt0nacahzNDOz52pMEQG+BuzZz+N7AdPyZR5wzhDk\nZGZm/WhMEYmI64A/9zPLXODCSG4AJkvaaGiyMzOz3owZ7gTasAlwb+H+fXna/a0zSppHaq0wfvz4\nGVOnTq30gn9d9bc1po3RaFbFM8+ZNm7M2pXir169mlGj6qvjTY7X5NzqjufcmhGvybkNJl6nt0sA\nS5cufSgiNigzbzcVkdIiYgGwAGDmzJlx8803V4qz/WkHrTFt/tQ9OO/eK54zbfFxCyvFv+aaa5g9\ne3al53ZbvCbnVnc859aMeE3ObTDxOr1dApB0T9l5G9OdVcIKoNik2DRPMzOzYdJNReRS4ND8K61d\ngMciYo2uLDMzGzqN6c6S9B/AbGB9SfcBnwTWAoiIc4FFwN7AMuBJ4PDhydTMzHo0pohExNsGeDyA\n9w9ROmZmVkI3dWeZmVnDuIiYmVllLiJmZlaZi4iZmVXmImJmZpW5iJiZWWUuImZmVpmLiJmZVeYi\nYmZmlbmImJlZZS4iZmZWmYuImZlV5iJiZmaVuYiYmVllLiJmZlaZi4iZmVXmImJmZpW5iJiZWWUu\nImZmVpmLiJmZVeYiYmZmlbmImJlZZS4iZmZWmYuImZlV5iJiZmaVuYiYmVllLiJmZlaZi4iZmVXm\nImJmZpW5iJiZWWUuImZmVpmLiJmZVeYiYmZmlbmImJlZZS4iZmZWmYuImZlV5iJiZmaVuYiYmVll\nLiJmZlaZi4iZmVXmImJmZpW5iJiZWWUuImZmVpmLiJmZVeYiYmZmlbmImJlZZY0pIpL2lHSXpGWS\nTuzl8dmSHpP063z5xHDkaWZm/zBmuBMAkDQaOBvYHbgPuEnSpRFxe8usP4+INw15gmZm1qumtERm\nAcsiYnlEPA0sBOYOc05mZjYARcRw54Ck/YE9I+Ld+f4hwM4RcVRhntnA90ktlRXAcRGxpI9484B5\nAFOmTJmxcOHCSnnd/sDyNaZtMPb5/Onpx54zbfqULSvFX7lyJZMmTar03G6L1+Tc6o7n3JoRr8m5\nDSZep7dLAHPmzLklImaWmbcR3Vkl3QpsFhErJe0N/BCY1tuMEbEAWAAwc+bMmD17dqUXPOa0c9eY\nNn/qHpx37xXPmbb4rdWK1DXXXEPV3LotXpNzqzuec2tGvCbnNph4nd4utat0d5akbSR9XNLZhfvb\n1ZTHCmBq4f6medqzIuIvEbEy314ErCVp/Zpe38zMKihVRCQdAFwHbAIckidPAk6vKY+bgGmStpA0\nFjgIuLQlhw0lKd+elXN/uKbXNzOzCsp2Z30a2D0iFkt6a562GNi+jiQiYpWko4DLgdHABRGxRNKR\n+fFzgf2B90paBTwFHBRNGNAxMxvByhaRFwK35dtRuK5tI567qBa1TDu3cPss4Ky6Xs/MzAav7JjI\nLfyjG6vHQcCN9aZjZmbdpGxL5GjgCklHABMlXQ68GNijY5mZmVnjlSoiEXGnpG2ANwGXAfcCl/X8\nWsrMzEam0v8TiYgngYs6mIuZmXWZUkVE0s/pYxA9Il5Ta0ZmZtY1yrZEzm+5vyFwBPDNetMxM7Nu\nUnZM5Out0yR9D/gq6T8kZmY2Ag3mKL4rgLoOe2JmZl2o7JjIu1omTQD2A26oPSMzM+saZcdEWv9o\n+ATw38AZ9aZjZmbdpOyYyJxOJ2JmZt2nzyIiqdQZTSJizTOkmJnZiNBfS2QZ6b8h6meeIB1118zM\nRqA+i0hENOX862Zm1lAuFGZmVlnZn/iOAd4HvBZYn0IXlw97YmY2cpVtiZwBzCedIncG8D3Siaqu\n6lBeZmbWBcoWkf2AvSLii8CqfP1mwD/9NTMbwcoWkQmkc4gAPCVpQkTcCezQmbTMzKwblP3H+h3A\nTqTT4d4MnCTpL6TjZ5mZ2QhVtogcAzyTb38IOAdYB5jXiaTMzKw7lD3syU2F23cDu3UsIzMz6xql\nxkQkLZZ0vKSpnU7IzMy6R9mB9ZNIYyJ3SLpW0nxJ63UuLTMz6walikhE/CAiDgQ2Ai4A9gXulXRp\nJ5MzM7NmKzuwDkBEPC7p28CjwFhg745kZWZmXaHsmIgkvV7SV4AHSN1bPwa26GBuZmbWcGVbIn8E\nVgILgVdFxB2dS8nMzLpF2SIyNyJu7GgmZmbWdcoOrLuAmJnZGnw+ETMzq8xFxMzMKnMRMTOzykr/\nT0TSS4DtgUnF6RFxQd1JmZlZdyh7etyPAJ8AFgNPFh4K0j/YzcxsBCrbEvkgMCsibutkMmZm1l3K\njok8BdzZyUTMzKz7lC0iHwe+JGkjSaOKl04mZ2ZmzVa2O+tr+frdhWkijYmMrjMhMzPrHmWLiA+0\naGZmayh7etx7AHL31RTggYhY3cnEzMys+coeCv55ki4E/gqsAJ6S9HVJz+9odmZm1mhlB8bPBCYC\n2wLjgZcBE/J0MzMbocqOiewJbBkRPX80XCrpcOB3nUnLzMy6QdmWyF+BDVqmrQ/8rd50zMysm5Qt\nIucDP5V0pKS9JB0JXA4sqCsRSXtKukvSMkkn9vK4JJ2ZH79N0o51vbaZmVVTtjvrFNIpct8ObJxv\nf46ajpslaTRwNrA7cB9wk6RLI+L2wmx7AdPyZWfgnHxtZmbDpOxPfHsOtNipgy3OApZFxHIASQuB\nuUCxiMwFLsy53CBpsqSNIuL+DuVkZmYDUNom9/KAdEhEfCPffldfAeo4FLyk/YE9I+LdPa8N7BwR\nRxXmuQw4NSKuz/evBE6IiJt7iTcPmAcwZcqUGQsXLhxsis9auXIlkyZNGnjGIY7V9HhNzq3ueM6t\nGfGanFvd8erObc6cObdExMxSM0dErxdgUeH21X1crurr+e1cgP2B8wv3DwHOapnnMuDVhftXAjMH\nij1jxoyo09VXX93IWE2P1+Tc6o7n3JoRr8m51R2v7tyAm6Pk9rvP7qyI2Ltwe047VayCFcDUwv1N\n87R25zEzsyFU9h/rv+pj+hpdSRXdBEyTtIWkscBBwKUt81wKHJp/pbUL8Fh4PMTMbFiV/XXW1q0T\nJAnYso4kImKVpKNIPxseDVwQEUvyT4mJiHOBRcDewDLS2RUPr+O1zcysun6LSD5eFsDYwu0emwNL\n6kokIhaRCkVx2rmF2wG8v67XMzOzwRuoJfK7Pm4H8F/AxbVnZGZmXaPfIhIRnwKQdENEXD40KZmZ\nWbco+2fDy/OA90tIx8xS4bGrOpSbmZk1XKkiIunVpK6rtYHnAX8B1gHupabBdTMz6z5lD8B4BvC5\niFgPeDxffwb4cscyMzOzxitbRF4MfLFl2qnAsfWmY2Zm3aRsEXmM1I0FcL+k6cC6QH0HazEzs65T\ntoh8n/RHP0hH8r0auAX4bieSMjOz7lD211kfLNw+TdINpIH1n3QqMTMza76yx846s3g/Iq6PiB+T\nBtzNzGyEKtuddVgf0w+pKQ8zM+tCAx07q+dkVGN6OTHVlsBDHcnKzMy6wkBjIj0tjbE8t9URwAPA\nOzuRlJmZdYeBjp01B0DSyRHxsaFJyczMukXZMZHrJL24OEHSSyTt3oGczMysS5QtImcDj7dMezxP\nNzOzEapsEXlhL6eivR/YsOZ8zMysi5QtIsslva5l2mzg9/WmY2Zm3aTsOdZPAr4v6SukMxxuRTrH\nuc9zbmY2gpVqiUTEJcAewETgjfn6DXm6mZmNUGVbIkTEjcCNHczFzMy6TNljZ60t6RRJyyU9lqft\nIemozqZnZmZN1s6ZDbcFDib9Wx1gCfDeTiRlZmbdoWx31r7A1hHxhKTVABGxQtImnUvNzMyarmxL\n5GlaCo6kDYCHa8/IzMy6RtkicjHwdUlbAEjaCDgLWNipxMzMrPnKFpGPkP5Y+BtgMnA38EfgUx3K\ny8zMukDZ0+M+DRwLHJu7sR6KiBjgaWZm9k+u9P9EJE0DDgQ2Bv4o6aKIuLtjmZmZWeOV/Z/I24Ff\nAdsBTwAvA27N083MbIQq2xI5Gdg7Iq7rmSBpV+AbwLc7kZiZmTVf2YH1dYBftEy7gXQMLTMzG6HK\nFpHTgc9KGgcgaTxwSp5uZmYjVNnurPeRTkB1jKRHgHUBAfdLevbQJxGxWf0pmplZU5UtIu/oaBZm\nZtaVyv5P5NrepktaKyL+Xm9KZmbWLcr+xPen+VAnxWnbATd3JCszM+sKZQfWbwUWSzpQyYnANcA5\nHcvMzMwar2x31gmSLgMuBD5HOm7WrIhY1snkzMys2cq2RAC2AJ4H/In0/5BxHcnIzMy6Rtkxke+S\njuS7Z0TsBCwArpN0fCeTMzOzZivbEnkQ2CEibgKIiLOBXYD9O5WYmZk1X9kxkff1Mm2ppFfWn5KZ\nmXWLflsiks5suX9EyywX1Z6RmZl1jYG6sw5ruf/5lvu715eKmZl1m4G6szTA/UGTtB7wHWBz4A/A\ngRHxSC/z/QF4HHgGWBURM+vOxczM2jNQS6T1FLidOCXuicCVETENuDLf78uciHi5C4iZWTMM1BIZ\nI2kO/2iBtN4fXUMOc4HZ+fbXSf+EP6GGuGZm1mGK6LtxkbuQ+m19RMQWg0pAejQiJufbAh7pud8y\n3++Bx0jdWedFxIJ+Ys4D5gFMmTJlxsKFCweT4nOsXLmSSZMmNS5W0+M1Obe64zm3ZsRrcm51x6s7\ntzlz5txSuscnIjp+AX4G/LaXy1zg0ZZ5H+kjxib5+oXAYuA1ZV57xowZUaerr766kbGaHq/JudUd\nz7k1I16Tc6s7Xt25ATdHye172fOJDEpE7NbXY5IekLRRRNyfjxT8YB8xVuTrByX9AJgFXNfbvGZm\nNjTaOXZWp1wKvDPffidwSesMkiZKWqfnNrAHqSVjZmbDqAlF5FRgd0l3A7vl+0jaWNKiPM8U4HpJ\ni4EbgR9FxE+GJVszM3vWkHRn9SciHgZe38v0PwJ759vLge2HODUzMxtAE1oiZmbWpVxEzMysMhcR\nMzOrzEXEzMwqcxExM7PKXETMzKwyFxEzM6vMRcTMzCpzETEzs8pcRMzMrDIXETMzq8xFxMzMKnMR\nMTOzylxEzMysMhcRMzOrzEXEzMwqcxExM7PKXETMzKwyFxEzM6vMRcTMzCpzETEzs8pcRMzMrDIX\nETMzq8xFxMzMKnMRMTOzylxEzMysMhcRMzOrzEXEzMwqcxExM7PKXETMzKwyFxEzM6vMRcTMzCpz\nETEzs8pcRMzMrDIXETMzq8xFxMzMKnMRMTOzylxEzMysMhcRMzOrzEXEzMwqcxExM7PKXETMzKwy\nFxEzM6vMRcTMzCpzETEzs8pcRMzMrLJhLyKSDpC0RNJqSTP7mW9PSXdJWibpxKHM0czMejfsRQT4\nLbAfcF1fM0gaDZwN7AVMB94mafrQpGdmZn0ZM9wJRMQdAJL6m20WsCwilud5FwJzgds7nqCZmfVp\n2ItISZsA9xbu3wfs3NfMkuYB8/LdlZLuqjGX9YGHGhir6fGanFvd8ZxbM+I1Obe649Wd24vKzjgk\nRUTSz4ANe3nooxFxSd2vFxELgAV1xwWQdHNE9Dl2M1yxmh6vybnVHc+5NSNek3OrO17dubVjSIpI\nROw2yBArgKmF+5vmaWZmNoyaMLBexk3ANElbSBoLHARcOsw5mZmNeMNeRCTtK+k+4BXAjyRdnqdv\nLGkRQESsAo4CLgfuAC6KiCXDlHKd3WR1d7k1OV6Tc6s7nnNrRrwm51Z3vI5035ehiBiu1zYzsy43\n7C0RMzPrXi4iZmZWmYtIl9IA/878ZzOSlnckLat1PxeRYTLYDUUUBrOautGRVNvnKyKizuWUNLqp\n71vUOFApaT1Jk+paVklr17weNs/XjVsXkjaXtEW+3aj88g+Ppgx3HuAiMiBJo+r4AEmaIOktkqbC\n4IqApN0lHSXpRcVYyirktraknSWt2+5z+xMRq+uII+l1krapc+MaEc/UFS9/oTeo6XOyt6TxNRbg\nY4EDcxEeXUO8jwJ7wLPHtKssP//LkjbN+Q1qmSV9TNKsOnLLTgK+JEl9fVbKrnNJ+0naoJ3nDOCj\nwCcGeM0hKXwuIgOIiNWFjfRg3q/Xkn6m/HFJx+UN43r5NZ4tAiVjvQKYDZwu6QuS5kpaN7I2YwH8\nK/B54Phc6LaRNKGN569B0nxJhw0mRsG7gH/LNXLQn9n8/p8qaUxNX7T5wLv6ay2VeZ28bMcDr4yI\n1cXn9NyukO/DpPW6eUQ8U3idqiYDH5I0qifeIIwDngY+A7XsdPwL8L4ca1C5SVoLOBB4DfCBvuYr\nsyMiaQxwMfChvp7TznrNuc0DjpD05sHkVgcXkT5I2kHSYkmflrQjPPdDXuGLGMD/Af5EOu7X+4FP\nSTpS0kxJE0p+IKeTitE3gWuAdYDDgfMkfULSrpLWavMDtCnwXWAz0p7rZ4BjJL1B0ovyh7aKd0na\nKOc9Ol9X2WifCmwF7F1T6+Y9pPd/x5r20O8Ejpa0a6GIPydmyfUh0n+hzpe0dXGHoOd2uxuGiPh3\n0ufkYkkb5mmrJa2TW8fzJU1sI+SHgbWAhZLW7smvnZwKuT1B2rC+UtKpPdMH0fo/HthJ0hcKsaru\nJLwb+G9gV1LR3K51hrwjsk6JWIcBTwFzJc3tbYY21+sRwPXAW4DPK3cJtuR2bJvrtbqI8KWXC/BS\n4ATgq8B/AT8CPgi8qEKsrYA/ANvl+1sAhwJfBn4AfAc4B9iqRKyJ+TnHFmLtA3wM+DpwGXAhMLpk\nbtsCTwCHFpb7RGARcC1wAenLOaXNZV4v5/LFPh7fuGScnv8yHQncA+xSeGx0z+Nt5DUT+H/Ap4Hr\nWh4bla83q7COP0w6rcG0wrRN8+UU4HltxPoK8J/A+vn+JOBV+T34QoXcRgPfyss8N3/efkRqpVzY\nRpyx+XpD4BJg377WV9m8Cp/Bi0ktsKrf17Xy9ctIRXNO1Vg5zq3AYfn2hcBXW96DXYEHSsb6NbA3\nqTD9CngBaYehZ/lfCZzRZm6H5NuLgM/l2+Py9atJRz2vvPxtvVdD9ULddMlfukOBGcD2wJtIfZDf\nB34BfCN/IMYN9KUpbARPIm38x7U8/mJSd80FPV+EEvm9FlgMzC5MGwVsQ2qVHNzGsi4AlgFXApu3\nPLYLcAZwVRu5qXB74xz730jngXk1qXB+G3gQWLvN9XIaqcX0ikGs26/1bIhJLYhTWh5/HvCXdnPL\nz/1W/mx8ELiCtPPxIHBOGzEmAhuQjlr9FeDq/Jn7Hakor7Hh7iPOWNLOxQfy8x4FVgM/BT4JvJ3U\n8tygzWXcjHSE19uA3wMfJ42RvLDC+7Ve3oAeBTwDLAH+HTiANndacrwXkAruTcAteRm3BSa1GWdj\n4OHC/e2B5cDcwrSFwOdLxnqs57sB/Az4cM86ytffBc5rI7c/F+7PybnNKkz7DhV2Nqpe/I/1Xkja\nBPgJ6YP9C1IXw3LSF3NLYAfShvydEXF3yZibkQrFkog4JjeD/07aM3458NeIOL+NHOcDHwHeDPw2\nIv5eeGxUlOz2kfQw8HrgONKG84BiDEmvB3aIiNPK5pafvwswhdRHvTvp/XsK+Dlpg/iDyOeH6SfG\n+qR+7oNJ3Xb75Of+lbRRvAq4LPI5aUrm9RDw2ohYIml34EvAIcDNERGSjgX+NSLmlIg1HngnsBFp\nXOn5wObAj/PlVtJhep6O1HXTX6w3kI4Jt3Fe5gdIG+z/m5fxBklrR8TfSi7nfNLOyd9Ixe0eUjfq\ne0itpafKxCnEO5i0UV4/Xy4hjY+MB9bO+S4Fzip+FvuJdyVpPGQ6aT3+hrTzNpV06oeJwPcjHZF7\noFhvIH0PtszxriAVurHAn0l7/78mvY8DjpXkrrWdIuL1kkZHxDOSjia10HeOiHslPUL6XvxhgFgn\nA9MjYr98/83AWcDu8Y9zKf05x7qnZG47RsQehdxOI7V0ZkbEk2Vzq81QVatuvADrkgZNfwv8EjgZ\neB2wXV6R7cY7kNSVcj6poDxManpfmz8AAz1/Iqn109M0XkHqt30PqRk/mdwlUzKffYA78+3NSOdp\nmZ/vj8nXyym595vn3wW4n1R8F5NacOeQxnAmtPl+fTXH+CLwXlLX3TRgN9IX+j+BK9qIN7ewvGuR\nNlpfptClQzrR2VtKxnsHqW/6ovxezsrr4iHa7BIDvkAqaAeRWqcbAp8j7VG3tSed4x3Hmi1Lkbpm\nFpBarmPaiHcMqYW1HYVWB6noHUAqdp8tGWsbUqvobfn+uMJjG5J2Ok4GXlUy3r35O7UXqeu4p1tn\nS1JL7Crgy20s68HAhsXvQb59Canb+K3A7SVj/bF1OfJ7dUO+fQBwWxu5nQBs3fMZ7nn/SNuB+Tm3\nJe1+XgZzGbIX6vZL3oCdAtyVv9g7lXzePqTm6s+BG0mF4+/A/84bxFLdCXmD9z3Shv4aUp/22/OG\n5tekroAfkvZAyi7TVcCJhfuHk7oCNsr3p1Fo1peM+er8Ze75Eo4i7RXeAZzcRpzR+Qvzmj4en0jq\nqtiujZifAo7uiV9YxvtIBWEyha6CEvHeSC9FO6+Ti0h76AMWdVLL4/4+HvsP4PQ218G2wJPAcYV1\n0DPeMz1vcA5qI95WpA31SwvTRtHSlQs8v2S8iaTuoBPy/TG0UdBaYk0nFaR3FKapl9zWLxlva9L4\n5ezWWMBOpJ2GvwBHloi1Tf6uj++Jla/HkXaO9iV1L/6vNtbrE8Dxhdx61uueOdZ9wPurvJdVL0P2\nQv8sl/zl2RmYXHLeX5IGXQ8ldQNMJvX7nlmYb8DBSFI/+VH5g7nGHj1poO87wL+UXI4x+cuybr6/\nVt7o/Yg8yAecDnyrzffmENKGeRyFwX3S+NJS8t5niVgbk/rdf00aZ9iftGfZVmumJbf9SS228RQ2\n7qSfS15H6sIstbx5Y3MP8LpCfOXL1Lyx+XDJWBNJrapPF9ZFT5GbRerqKdU6ys/pGee6gvxDkJbl\nPQJ4hBLjXIUN3ydJY3ptjxX1EXc2qZtpdi/rqZ3W9ALSDspVfSxrqbG8Xpb1u70tK2lH5BlyYSix\nXn8AnJTvjyms1wOAu0nFfsBYLev18j6W9Ts5t3Fl4tV1GbIX8uU5H9LppD27kwYZZxQlf4XVS4xx\n5NZUywfxVaQ9rV2A/6GNQWxSX/ZvSF1CX80b7S3I3TGkvf1rKFGACzHXJW3kf0MaYziN1KW4SZsb\niE1I3ZJLSF2JPblNyI+fR9qjfXkb739/G5tdSP3xY0vm95q8fLN7eex44NttLOvDpHG2bwIXF6b3\ndFHuC3ypzc/LZqRB4S/m+xNIxXgv0p/eDqvwGZxPKsTb00bh6GNZv9GyrD0b67eTW5+DXNYJpML3\nMdK4T9lYva7X/P27DPhxjev1MNJpMtp+HwdzGdIXG8kX1mxe70zqFtutpvht/9y1n1gfAFYC91R8\nfuuG/wt5wz+dPn7yWzLu5qS+8rtyQWj7V1q95HZ6zu2NtNHqyrH62rDumTf8H28zXp8bVWBiyRj9\njXP1bFjvpo1xrkLs3sb0riS1Asp27/Y3rrctsE4b+ZRZ1qXAfjUt67V5eUsta8n1WmqHquSy3kkb\nLda6LkP6Yr48+4HoWeln0uZe0hDlNz5vHAedW2HDv5Q02F56DKOfmKNI3TylWzQD5HYXqYW0bYUY\nvW1srs7xBvtjiW1Jv/gq3dqk5nEuahrTy7FqHddr+LIOtF4n095/asosa+nxvDov/onvMMr/+F0d\nJX4SOdQkvQB4Mtr8KWg/8UaRBibviohH64hZl5zbLNKe3oC5SdqH9NPeKaRxpK1I/y85jVRIHo2I\nP5WIM5o0AL8zqa/7CdLPcV9O+u/FWqRWw6ci4lcl4o3JcXaIiEfykQZGkf7ftDQijpV0Ouk/GAeX\niDeKVPi/RyqUi4BVpP88jYqIo/N8fR5bqiXeBqRfD/0M+J+IeLLl8V1J434nxQA/227yspZcr8vy\ncg75eq3dcFQuX3zp1gvN/rFE7eNcLfFrGdNriVVpXK/Jy9pt63WwF7dEzAahZ880H9PscuArEXHS\nIOL0/HR2sAc3bI3/AVK3zMMR8aKq+RXu70z6j80JEfGzmnIcTWqZD2qj1KRlbfp6rYMPwGhWUcuB\nEW8n/eJrH0m7tRurEGd1/ONou3We8+R84AbSjxza1rJRHR0RvyQd1mV6PenVenj+xixr09drHdwS\nMatB4RAUZ5IOfnfmcOfUqgPjXCNpTG/ELGvbr+8iYlafJm9szDrBRcTMzCrzmIiZmVXmImJmZpW5\niJiZWWUuImYNJelr+aRGSNpV0l3DnZNZKxcRsxpI+oOkpyStlPRALgCT6oofET+PiJfUFc+sLi4i\nZvXZJyImATuSTnv8sWHOx6zjXETMahYRK0jnWN9W0uGS7pD0uKTl+dznAEg6TNL1xedKCklbt8aU\nNFvSfZ3P3qw9LiJmNZM0lXQI8F8BDwJvIh3l93DgDEk7DmN6ZrUaM9wJmP0T+aGkVcBjpHNlfLbl\nUBTXSrqCdBTXW4cjQbO6uYiY1efNrUd5lbQX6TS6Lya1/CeQzqpo9k/B3VlmHZKPo/U90smqpkTE\nZNLJjnqO4PoEqaj0zL/hkCdpNkguImadM5Z05sM/Aatyq2SPwuOLgZdKermkcaSz6Jl1FRcRsw6J\niMeBo0mnSn2EdD7xSwuPLwU+TTpd7N3A9b2EMWs0H8XXzMwqc0vEzMwqcxExM7PKXETMzKwyFxEz\nM6vMRcTMzCpzETEzs8pcRMzMrDIXETMzq+z/AxruJzuHUygxAAAAAElFTkSuQmCC\n",
      "text/plain": [
       "<matplotlib.figure.Figure at 0x11c591400>"
      ]
     },
     "metadata": {},
     "output_type": "display_data"
    }
   ],
   "source": [
    "rho_mixed = np.array([[1,0,0,0],[0,0,0,0],[0,0,0,0],[0,0,0,1]])/2\n",
    "plot_state(rho_mixed,\"paulivec\")"
   ]
  },
  {
   "cell_type": "markdown",
   "metadata": {},
   "source": [
    "### Building tomography measurement circuits\n",
    "\n",
    "Next we must construct a family of circuits which implement a tomographically complete set of measurements of the qubit. The `statetomo.py` example library contains functions to generate these measurement circuits for general n-qubit systems. We do this by measuring in the X, Y, and Z for each qubit. This results in $3^n$ measurement circuits which must be executed to gather count statistics for the tomographic reconstruction.\n",
    "\n",
    "The function to build the circuits is:\n",
    "```python\n",
    "tomo.build_state_tomography_circuits(QP, 'prep', qr, cr, qubits)\n",
    "```\n",
    "The function to construct an array of the the corresponding labels for these circuits is:\n",
    "```python\n",
    "tomo.state_tomography_labels('prep', qubits)\n",
    "```\n",
    "where \n",
    "- `QP` is the quantum program.\n",
    "- `'prep'` is the name of the preparation circuit    \n",
    "- `'qr'` is the name of the quantum registers to be measured\n",
    "- `'cr'` is the name of the classical registers to store outcomes\n",
    "- `qubits` is a list of the qubits to be measured. Eg `[i,j]` for `qr[i]`, and `qr[j]`."
   ]
  },
  {
   "cell_type": "code",
   "execution_count": 4,
   "metadata": {},
   "outputs": [
    {
     "name": "stdout",
     "output_type": "stream",
     "text": [
      ">> created state tomography circuits for \"bell\"\n",
      "['bell_measX0X1', 'bell_measX0Y1', 'bell_measX0Z1', 'bell_measY0X1', 'bell_measY0Y1', 'bell_measY0Z1', 'bell_measZ0X1', 'bell_measZ0Y1', 'bell_measZ0Z1']\n"
     ]
    }
   ],
   "source": [
    "# Qubits being measured\n",
    "meas_qubits = [0,1]\n",
    "# Construct the state tomography measurement circuits in QP\n",
    "tomo_labels = tomo.build_state_tomography_circuits(Q_program, \"bell\", meas_qubits, qr, cr)\n",
    "print(tomo_labels)\n"
   ]
  },
  {
   "cell_type": "markdown",
   "metadata": {},
   "source": [
    "### Testing experiments on a simulator\n",
    "\n",
    "Now that we have prepared the required circuits for state preparation and measurement, we should test them on a simulator before trying to run them on the real device.\n",
    "\n",
    "We specify the device, and a number of experiment shots to perform to gather measurement statistics. The larger the number of shots, the more accurate our measurmeent probabilities will be compared to the *true* value."
   ]
  },
  {
   "cell_type": "code",
   "execution_count": 6,
   "metadata": {
    "scrolled": true
   },
   "outputs": [
    {
     "name": "stdout",
     "output_type": "stream",
     "text": [
      "{'status': 'COMPLETED', 'result': 'all done'}\n"
     ]
    }
   ],
   "source": [
    "# Use the local simulator\n",
    "backend = 'local_qasm_simulator'\n",
    "\n",
    "# Take 1000 shots for each measurement basis\n",
    "shots = 5000\n",
    "\n",
    "# Run the simulation\n",
    "result = Q_program.execute(tomo_labels, backend=backend, shots=shots)\n",
    "print(result)"
   ]
  },
  {
   "cell_type": "markdown",
   "metadata": {},
   "source": [
    "Before doing the tomographic reconstruction we can view the count statistics from the simulation:"
   ]
  },
  {
   "cell_type": "code",
   "execution_count": 7,
   "metadata": {},
   "outputs": [
    {
     "name": "stdout",
     "output_type": "stream",
     "text": [
      "[{'counts': {'00': 2522, '01': 0, '10': 0, '11': 2478}, 'meas_basis': {'00': array([[ 0.25,  0.25,  0.25,  0.25],\n",
      "       [ 0.25,  0.25,  0.25,  0.25],\n",
      "       [ 0.25,  0.25,  0.25,  0.25],\n",
      "       [ 0.25,  0.25,  0.25,  0.25]]), '01': array([[ 0.25, -0.25,  0.25, -0.25],\n",
      "       [-0.25,  0.25, -0.25,  0.25],\n",
      "       [ 0.25, -0.25,  0.25, -0.25],\n",
      "       [-0.25,  0.25, -0.25,  0.25]]), '10': array([[ 0.25,  0.25, -0.25, -0.25],\n",
      "       [ 0.25,  0.25, -0.25, -0.25],\n",
      "       [-0.25, -0.25,  0.25,  0.25],\n",
      "       [-0.25, -0.25,  0.25,  0.25]]), '11': array([[ 0.25, -0.25, -0.25,  0.25],\n",
      "       [-0.25,  0.25,  0.25, -0.25],\n",
      "       [-0.25,  0.25,  0.25, -0.25],\n",
      "       [ 0.25, -0.25, -0.25,  0.25]])}, 'shots': 5000}, {'counts': {'00': 1292, '01': 1236, '10': 1230, '11': 1242}, 'meas_basis': {'00': array([[ 0.25+0.j  ,  0.00-0.25j,  0.25+0.j  ,  0.00-0.25j],\n",
      "       [ 0.00+0.25j,  0.25+0.j  ,  0.00+0.25j,  0.25+0.j  ],\n",
      "       [ 0.25+0.j  ,  0.00-0.25j,  0.25+0.j  ,  0.00-0.25j],\n",
      "       [ 0.00+0.25j,  0.25+0.j  ,  0.00+0.25j,  0.25+0.j  ]]), '01': array([[ 0.25+0.j  ,  0.00+0.25j,  0.25+0.j  ,  0.00+0.25j],\n",
      "       [ 0.00-0.25j,  0.25+0.j  ,  0.00-0.25j,  0.25+0.j  ],\n",
      "       [ 0.25+0.j  ,  0.00+0.25j,  0.25+0.j  ,  0.00+0.25j],\n",
      "       [ 0.00-0.25j,  0.25+0.j  ,  0.00-0.25j,  0.25+0.j  ]]), '10': array([[ 0.25+0.j  ,  0.00-0.25j, -0.25+0.j  ,  0.00+0.25j],\n",
      "       [ 0.00+0.25j,  0.25+0.j  , -0.00-0.25j, -0.25+0.j  ],\n",
      "       [-0.25+0.j  ,  0.00+0.25j,  0.25+0.j  ,  0.00-0.25j],\n",
      "       [-0.00-0.25j, -0.25+0.j  ,  0.00+0.25j,  0.25+0.j  ]]), '11': array([[ 0.25+0.j  ,  0.00+0.25j, -0.25+0.j  , -0.00-0.25j],\n",
      "       [ 0.00-0.25j,  0.25+0.j  ,  0.00+0.25j, -0.25+0.j  ],\n",
      "       [-0.25+0.j  , -0.00-0.25j,  0.25+0.j  ,  0.00+0.25j],\n",
      "       [ 0.00+0.25j, -0.25+0.j  ,  0.00-0.25j,  0.25+0.j  ]])}, 'shots': 5000}, {'counts': {'00': 1292, '01': 1236, '10': 1230, '11': 1242}, 'meas_basis': {'00': array([[ 0.5,  0. ,  0.5,  0. ],\n",
      "       [ 0. ,  0. ,  0. ,  0. ],\n",
      "       [ 0.5,  0. ,  0.5,  0. ],\n",
      "       [ 0. ,  0. ,  0. ,  0. ]]), '01': array([[ 0. ,  0. ,  0. ,  0. ],\n",
      "       [ 0. ,  0.5,  0. ,  0.5],\n",
      "       [ 0. ,  0. ,  0. ,  0. ],\n",
      "       [ 0. ,  0.5,  0. ,  0.5]]), '10': array([[ 0.5,  0. , -0.5, -0. ],\n",
      "       [ 0. ,  0. , -0. , -0. ],\n",
      "       [-0.5, -0. ,  0.5,  0. ],\n",
      "       [-0. , -0. ,  0. ,  0. ]]), '11': array([[ 0. ,  0. , -0. , -0. ],\n",
      "       [ 0. ,  0.5, -0. , -0.5],\n",
      "       [-0. , -0. ,  0. ,  0. ],\n",
      "       [-0. , -0.5,  0. ,  0.5]])}, 'shots': 5000}, {'counts': {'00': 1292, '01': 1236, '10': 1230, '11': 1242}, 'meas_basis': {'00': array([[ 0.25+0.j  ,  0.25+0.j  ,  0.00-0.25j,  0.00-0.25j],\n",
      "       [ 0.25+0.j  ,  0.25+0.j  ,  0.00-0.25j,  0.00-0.25j],\n",
      "       [ 0.00+0.25j,  0.00+0.25j,  0.25+0.j  ,  0.25+0.j  ],\n",
      "       [ 0.00+0.25j,  0.00+0.25j,  0.25+0.j  ,  0.25+0.j  ]]), '01': array([[ 0.25+0.j  , -0.25+0.j  ,  0.00-0.25j,  0.00+0.25j],\n",
      "       [-0.25+0.j  ,  0.25+0.j  ,  0.00+0.25j,  0.00-0.25j],\n",
      "       [ 0.00+0.25j, -0.00-0.25j,  0.25+0.j  , -0.25+0.j  ],\n",
      "       [-0.00-0.25j,  0.00+0.25j, -0.25+0.j  ,  0.25+0.j  ]]), '10': array([[ 0.25+0.j  ,  0.25+0.j  ,  0.00+0.25j,  0.00+0.25j],\n",
      "       [ 0.25+0.j  ,  0.25+0.j  ,  0.00+0.25j,  0.00+0.25j],\n",
      "       [ 0.00-0.25j,  0.00-0.25j,  0.25+0.j  ,  0.25+0.j  ],\n",
      "       [ 0.00-0.25j,  0.00-0.25j,  0.25+0.j  ,  0.25+0.j  ]]), '11': array([[ 0.25+0.j  , -0.25+0.j  ,  0.00+0.25j, -0.00-0.25j],\n",
      "       [-0.25+0.j  ,  0.25+0.j  , -0.00-0.25j,  0.00+0.25j],\n",
      "       [ 0.00-0.25j,  0.00+0.25j,  0.25+0.j  , -0.25+0.j  ],\n",
      "       [ 0.00+0.25j,  0.00-0.25j, -0.25+0.j  ,  0.25+0.j  ]])}, 'shots': 5000}, {'counts': {'00': 0, '01': 2478, '10': 2522, '11': 0}, 'meas_basis': {'00': array([[ 0.25+0.j  ,  0.00-0.25j,  0.00-0.25j, -0.25+0.j  ],\n",
      "       [ 0.00+0.25j,  0.25+0.j  ,  0.25+0.j  ,  0.00-0.25j],\n",
      "       [ 0.00+0.25j,  0.25-0.j  ,  0.25+0.j  ,  0.00-0.25j],\n",
      "       [-0.25+0.j  ,  0.00+0.25j,  0.00+0.25j,  0.25+0.j  ]]), '01': array([[ 0.25+0.j  ,  0.00+0.25j,  0.00-0.25j,  0.25+0.j  ],\n",
      "       [ 0.00-0.25j,  0.25+0.j  , -0.25+0.j  ,  0.00-0.25j],\n",
      "       [ 0.00+0.25j, -0.25+0.j  ,  0.25+0.j  ,  0.00+0.25j],\n",
      "       [ 0.25-0.j  ,  0.00+0.25j,  0.00-0.25j,  0.25+0.j  ]]), '10': array([[ 0.25+0.j  ,  0.00-0.25j,  0.00+0.25j,  0.25-0.j  ],\n",
      "       [ 0.00+0.25j,  0.25+0.j  , -0.25+0.j  ,  0.00+0.25j],\n",
      "       [ 0.00-0.25j, -0.25+0.j  ,  0.25+0.j  ,  0.00-0.25j],\n",
      "       [ 0.25+0.j  ,  0.00-0.25j,  0.00+0.25j,  0.25+0.j  ]]), '11': array([[ 0.25+0.j  ,  0.00+0.25j,  0.00+0.25j, -0.25+0.j  ],\n",
      "       [ 0.00-0.25j,  0.25+0.j  ,  0.25-0.j  ,  0.00+0.25j],\n",
      "       [ 0.00-0.25j,  0.25+0.j  ,  0.25+0.j  ,  0.00+0.25j],\n",
      "       [-0.25+0.j  ,  0.00-0.25j,  0.00-0.25j,  0.25+0.j  ]])}, 'shots': 5000}, {'counts': {'00': 1292, '01': 1236, '10': 1230, '11': 1242}, 'meas_basis': {'00': array([[ 0.5+0.j ,  0.0+0.j ,  0.0-0.5j,  0.0+0.j ],\n",
      "       [ 0.0+0.j ,  0.0+0.j ,  0.0+0.j ,  0.0+0.j ],\n",
      "       [ 0.0+0.5j,  0.0+0.j ,  0.5+0.j ,  0.0+0.j ],\n",
      "       [ 0.0+0.j ,  0.0+0.j ,  0.0+0.j ,  0.0+0.j ]]), '01': array([[ 0.0+0.j ,  0.0+0.j ,  0.0+0.j ,  0.0+0.j ],\n",
      "       [ 0.0+0.j ,  0.5+0.j ,  0.0+0.j ,  0.0-0.5j],\n",
      "       [ 0.0+0.j ,  0.0+0.j ,  0.0+0.j ,  0.0+0.j ],\n",
      "       [ 0.0+0.j ,  0.0+0.5j,  0.0+0.j ,  0.5+0.j ]]), '10': array([[ 0.5+0.j ,  0.0+0.j ,  0.0+0.5j,  0.0+0.j ],\n",
      "       [ 0.0+0.j ,  0.0+0.j ,  0.0+0.j ,  0.0+0.j ],\n",
      "       [ 0.0-0.5j,  0.0+0.j ,  0.5+0.j ,  0.0+0.j ],\n",
      "       [ 0.0+0.j ,  0.0+0.j ,  0.0+0.j ,  0.0+0.j ]]), '11': array([[ 0.0+0.j ,  0.0+0.j ,  0.0+0.j ,  0.0+0.j ],\n",
      "       [ 0.0+0.j ,  0.5+0.j ,  0.0+0.j ,  0.0+0.5j],\n",
      "       [ 0.0+0.j ,  0.0+0.j ,  0.0+0.j ,  0.0+0.j ],\n",
      "       [ 0.0+0.j ,  0.0-0.5j,  0.0+0.j ,  0.5+0.j ]])}, 'shots': 5000}, {'counts': {'00': 1292, '01': 1236, '10': 1230, '11': 1242}, 'meas_basis': {'00': array([[ 0.5,  0.5,  0. ,  0. ],\n",
      "       [ 0.5,  0.5,  0. ,  0. ],\n",
      "       [ 0. ,  0. ,  0. ,  0. ],\n",
      "       [ 0. ,  0. ,  0. ,  0. ]]), '01': array([[ 0.5, -0.5,  0. , -0. ],\n",
      "       [-0.5,  0.5, -0. ,  0. ],\n",
      "       [ 0. , -0. ,  0. , -0. ],\n",
      "       [-0. ,  0. , -0. ,  0. ]]), '10': array([[ 0. ,  0. ,  0. ,  0. ],\n",
      "       [ 0. ,  0. ,  0. ,  0. ],\n",
      "       [ 0. ,  0. ,  0.5,  0.5],\n",
      "       [ 0. ,  0. ,  0.5,  0.5]]), '11': array([[ 0. , -0. ,  0. , -0. ],\n",
      "       [-0. ,  0. , -0. ,  0. ],\n",
      "       [ 0. , -0. ,  0.5, -0.5],\n",
      "       [-0. ,  0. , -0.5,  0.5]])}, 'shots': 5000}, {'counts': {'00': 1292, '01': 1236, '10': 1230, '11': 1242}, 'meas_basis': {'00': array([[ 0.5+0.j ,  0.0-0.5j,  0.0+0.j ,  0.0-0.j ],\n",
      "       [ 0.0+0.5j,  0.5+0.j ,  0.0+0.j ,  0.0+0.j ],\n",
      "       [ 0.0+0.j ,  0.0-0.j ,  0.0+0.j ,  0.0-0.j ],\n",
      "       [ 0.0+0.j ,  0.0+0.j ,  0.0+0.j ,  0.0+0.j ]]), '01': array([[ 0.5+0.j ,  0.0+0.5j,  0.0+0.j ,  0.0+0.j ],\n",
      "       [ 0.0-0.5j,  0.5+0.j ,  0.0-0.j ,  0.0+0.j ],\n",
      "       [ 0.0+0.j ,  0.0+0.j ,  0.0+0.j ,  0.0+0.j ],\n",
      "       [ 0.0-0.j ,  0.0+0.j ,  0.0-0.j ,  0.0+0.j ]]), '10': array([[ 0.0+0.j ,  0.0-0.j ,  0.0+0.j ,  0.0-0.j ],\n",
      "       [ 0.0+0.j ,  0.0+0.j ,  0.0+0.j ,  0.0+0.j ],\n",
      "       [ 0.0+0.j ,  0.0-0.j ,  0.5+0.j ,  0.0-0.5j],\n",
      "       [ 0.0+0.j ,  0.0+0.j ,  0.0+0.5j,  0.5+0.j ]]), '11': array([[ 0.0+0.j ,  0.0+0.j ,  0.0+0.j ,  0.0+0.j ],\n",
      "       [ 0.0-0.j ,  0.0+0.j ,  0.0-0.j ,  0.0+0.j ],\n",
      "       [ 0.0+0.j ,  0.0+0.j ,  0.5+0.j ,  0.0+0.5j],\n",
      "       [ 0.0-0.j ,  0.0+0.j ,  0.0-0.5j,  0.5+0.j ]])}, 'shots': 5000}, {'counts': {'00': 2522, '01': 0, '10': 0, '11': 2478}, 'meas_basis': {'00': array([[1, 0, 0, 0],\n",
      "       [0, 0, 0, 0],\n",
      "       [0, 0, 0, 0],\n",
      "       [0, 0, 0, 0]]), '01': array([[0, 0, 0, 0],\n",
      "       [0, 1, 0, 0],\n",
      "       [0, 0, 0, 0],\n",
      "       [0, 0, 0, 0]]), '10': array([[0, 0, 0, 0],\n",
      "       [0, 0, 0, 0],\n",
      "       [0, 0, 1, 0],\n",
      "       [0, 0, 0, 0]]), '11': array([[0, 0, 0, 0],\n",
      "       [0, 0, 0, 0],\n",
      "       [0, 0, 0, 0],\n",
      "       [0, 0, 0, 1]])}, 'shots': 5000}]\n"
     ]
    }
   ],
   "source": [
    "bell_tomo_dat = tomo.state_tomography_data(Q_program, 'bell', meas_qubits)\n",
    "print(bell_tomo_dat)"
   ]
  },
  {
   "cell_type": "markdown",
   "metadata": {},
   "source": [
    "### Reconstructing state from count data\n",
    "\n",
    "To reconstruct the maximum likelihod estimate of the measured quantum state we use the following function:\n",
    "```\n",
    "fit_state(tomo_data, method, options)\n",
    "```\n",
    "where\n",
    "- `QP` is the quantum program containing the measurement results\n",
    "- `circuits` is the array of tomographic measurement circuits measured\n",
    "- `shots` is the total number of shots for each measurement circuit\n",
    "- `total_qubits` is the total number of qubits in the system (the length of shot outcome bitstrings)\n",
    "- `meas_qubits` is an array of the measurement qubit indices"
   ]
  },
  {
   "cell_type": "code",
<<<<<<< HEAD
   "execution_count": 8,
   "metadata": {},
=======
   "execution_count": 11,
   "metadata": {
    "collapsed": true
   },
>>>>>>> IBMQuantum/Dev
   "outputs": [],
   "source": [
    "rho_fit = tomo.fit_state(bell_tomo_dat, method='wizard')"
   ]
  },
  {
   "cell_type": "markdown",
   "metadata": {},
   "source": [
    "We can compare the reconstructed state to the target state vector. We use the Fidelity function, which for a comparing a density matrix $\\rho$ to a pure state $|\\psi\\rangle$ is given by $F = \\sqrt{\\langle \\psi| \\rho |\\psi\\rangle}$. This may be done by the function **`state_fidelity`** from the **`qiskit.tools.qi`** module."
   ]
  },
  {
   "cell_type": "code",
   "execution_count": 9,
   "metadata": {},
   "outputs": [
    {
     "data": {
      "image/png": "iVBORw0KGgoAAAANSUhEUgAAAZEAAAEXCAYAAABsyHmSAAAABHNCSVQICAgIfAhkiAAAAAlwSFlz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\n",
      "text/plain": [
       "<matplotlib.figure.Figure at 0x1122b7358>"
      ]
     },
     "metadata": {},
     "output_type": "display_data"
    },
    {
     "name": "stdout",
     "output_type": "stream",
     "text": [
      "Fidelity with ideal state\n",
      "F = 0.998177201663\n"
     ]
    }
   ],
   "source": [
    "# target state is (|00>+|11>)/sqrt(2)\n",
    "target = np.array([1., 0., 0., 1.]/np.sqrt(2.))\n",
    "\n",
    "# calculate fidelity\n",
    "F_fit = state_fidelity(rho_fit, [0.707107, 0, 0, 0.707107])\n",
    "plot_state(rho_fit, 'paulivec')\n",
    "print(\"Fidelity with ideal state\")\n",
    "print(\"F =\", F_fit)"
   ]
  },
  {
   "cell_type": "markdown",
   "metadata": {},
   "source": [
    "Note that since our simulator is *perfect* the output state should be *exactly* the Bell-state, so we should obtain F = 1. Why is it not in our case? Since we can never directly *see* the final state we must obtain information about it via measurements. We would only obtain the *true* probabilities for the state in the limit of infinite measurement shots. Hence we have statistical error in our reconstruction due to having imperfect information about the state itself. Try running with different number of shots on the simulator and see how it effects the fidelity of the reconstruction.\n",
    "\n",
    "### Running on a real device\n",
    "\n",
    "Now that we've checked our simple tomography experiment worked, lets try it out on the IBM Quantum Experience! To do this we must have attached our API key, and it is good practice to set a limit on the number of credits to use:"
   ]
  },
  {
   "cell_type": "code",
   "execution_count": 14,
   "metadata": {},
   "outputs": [
    {
     "name": "stdout",
     "output_type": "stream",
     "text": [
      "running on backend: ibmqx2\n",
      "status = RUNNING (20 seconds)\n",
      "status = RUNNING (40 seconds)\n"
     ]
    },
    {
     "ename": "KeyError",
     "evalue": "'data'",
     "output_type": "error",
     "traceback": [
      "\u001b[0;31m--------------------------------------------------------------------\u001b[0m",
      "\u001b[0;31mKeyError\u001b[0m                           Traceback (most recent call last)",
      "\u001b[0;32m<ipython-input-14-f9bde0b4a36e>\u001b[0m in \u001b[0;36m<module>\u001b[0;34m()\u001b[0m\n\u001b[1;32m      8\u001b[0m \u001b[0;34m\u001b[0m\u001b[0m\n\u001b[1;32m      9\u001b[0m \u001b[0;31m# Run the simulation\u001b[0m\u001b[0;34m\u001b[0m\u001b[0;34m\u001b[0m\u001b[0m\n\u001b[0;32m---> 10\u001b[0;31m \u001b[0mresult\u001b[0m \u001b[0;34m=\u001b[0m \u001b[0mQ_program\u001b[0m\u001b[0;34m.\u001b[0m\u001b[0mexecute\u001b[0m\u001b[0;34m(\u001b[0m\u001b[0mtomo_labels\u001b[0m\u001b[0;34m,\u001b[0m \u001b[0mbackend\u001b[0m\u001b[0;34m=\u001b[0m\u001b[0mbackend\u001b[0m\u001b[0;34m,\u001b[0m \u001b[0mshots\u001b[0m\u001b[0;34m=\u001b[0m\u001b[0mshots\u001b[0m\u001b[0;34m,\u001b[0m \u001b[0mmax_credits\u001b[0m\u001b[0;34m=\u001b[0m\u001b[0mmax_credits\u001b[0m\u001b[0;34m,\u001b[0m \u001b[0msilent\u001b[0m\u001b[0;34m=\u001b[0m\u001b[0;32mFalse\u001b[0m\u001b[0;34m,\u001b[0m\u001b[0mwait\u001b[0m\u001b[0;34m=\u001b[0m\u001b[0;36m20\u001b[0m\u001b[0;34m,\u001b[0m \u001b[0mtimeout\u001b[0m\u001b[0;34m=\u001b[0m\u001b[0;36m240\u001b[0m\u001b[0;34m)\u001b[0m\u001b[0;34m\u001b[0m\u001b[0m\n\u001b[0m\u001b[1;32m     11\u001b[0m \u001b[0mprint\u001b[0m\u001b[0;34m(\u001b[0m\u001b[0mresult\u001b[0m\u001b[0;34m)\u001b[0m\u001b[0;34m\u001b[0m\u001b[0m\n",
      "\u001b[0;32m/Users/cjwood/Documents/IBM-Git/qiskit-sdk-py-dev/qiskit/_quantumprogram.py\u001b[0m in \u001b[0;36mexecute\u001b[0;34m(self, name_of_circuits, backend, config, wait, timeout, silent, basis_gates, coupling_map, initial_layout, shots, max_credits, seed)\u001b[0m\n\u001b[1;32m   1103\u001b[0m                      \u001b[0mcoupling_map\u001b[0m\u001b[0;34m=\u001b[0m\u001b[0mcoupling_map\u001b[0m\u001b[0;34m,\u001b[0m \u001b[0minitial_layout\u001b[0m\u001b[0;34m=\u001b[0m\u001b[0minitial_layout\u001b[0m\u001b[0;34m,\u001b[0m\u001b[0;34m\u001b[0m\u001b[0m\n\u001b[1;32m   1104\u001b[0m                      shots=shots, max_credits=max_credits, seed=seed)\n\u001b[0;32m-> 1105\u001b[0;31m         \u001b[0moutput\u001b[0m \u001b[0;34m=\u001b[0m \u001b[0mself\u001b[0m\u001b[0;34m.\u001b[0m\u001b[0mrun\u001b[0m\u001b[0;34m(\u001b[0m\u001b[0mwait\u001b[0m\u001b[0;34m=\u001b[0m\u001b[0mwait\u001b[0m\u001b[0;34m,\u001b[0m \u001b[0mtimeout\u001b[0m\u001b[0;34m=\u001b[0m\u001b[0mtimeout\u001b[0m\u001b[0;34m,\u001b[0m \u001b[0msilent\u001b[0m\u001b[0;34m=\u001b[0m\u001b[0msilent\u001b[0m\u001b[0;34m)\u001b[0m\u001b[0;34m\u001b[0m\u001b[0m\n\u001b[0m\u001b[1;32m   1106\u001b[0m         \u001b[0;32mreturn\u001b[0m \u001b[0moutput\u001b[0m\u001b[0;34m\u001b[0m\u001b[0m\n\u001b[1;32m   1107\u001b[0m \u001b[0;34m\u001b[0m\u001b[0m\n",
      "\u001b[0;32m/Users/cjwood/Documents/IBM-Git/qiskit-sdk-py-dev/qiskit/_quantumprogram.py\u001b[0m in \u001b[0;36mrun\u001b[0;34m(self, wait, timeout, silent)\u001b[0m\n\u001b[1;32m    969\u001b[0m                 \u001b[0;31m# results filled in\u001b[0m\u001b[0;34m\u001b[0m\u001b[0;34m\u001b[0m\u001b[0m\n\u001b[1;32m    970\u001b[0m                 \u001b[0;32mif\u001b[0m \u001b[0mbackend\u001b[0m \u001b[0;32min\u001b[0m \u001b[0mself\u001b[0m\u001b[0;34m.\u001b[0m\u001b[0m__ONLINE_BACKENDS\u001b[0m\u001b[0;34m:\u001b[0m\u001b[0;34m\u001b[0m\u001b[0m\n\u001b[0;32m--> 971\u001b[0;31m                     \u001b[0mself\u001b[0m\u001b[0;34m.\u001b[0m\u001b[0m__quantum_program\u001b[0m\u001b[0;34m[\u001b[0m\u001b[0mname\u001b[0m\u001b[0;34m]\u001b[0m\u001b[0;34m[\u001b[0m\u001b[0;34m\"execution\"\u001b[0m\u001b[0;34m]\u001b[0m\u001b[0;34m[\u001b[0m\u001b[0mbackend\u001b[0m\u001b[0;34m]\u001b[0m\u001b[0;34m[\u001b[0m\u001b[0;34m\"data\"\u001b[0m\u001b[0;34m]\u001b[0m \u001b[0;34m=\u001b[0m \u001b[0mjob_result\u001b[0m\u001b[0;34m[\u001b[0m\u001b[0;34m\"qasms\"\u001b[0m\u001b[0;34m]\u001b[0m\u001b[0;34m[\u001b[0m\u001b[0mindex\u001b[0m\u001b[0;34m]\u001b[0m\u001b[0;34m[\u001b[0m\u001b[0;34m\"data\"\u001b[0m\u001b[0;34m]\u001b[0m\u001b[0;34m\u001b[0m\u001b[0m\n\u001b[0m\u001b[1;32m    972\u001b[0m                     \u001b[0mself\u001b[0m\u001b[0;34m.\u001b[0m\u001b[0m__quantum_program\u001b[0m\u001b[0;34m[\u001b[0m\u001b[0mname\u001b[0m\u001b[0;34m]\u001b[0m\u001b[0;34m[\u001b[0m\u001b[0;34m\"execution\"\u001b[0m\u001b[0;34m]\u001b[0m\u001b[0;34m[\u001b[0m\u001b[0mbackend\u001b[0m\u001b[0;34m]\u001b[0m\u001b[0;34m[\u001b[0m\u001b[0;34m\"status\"\u001b[0m\u001b[0;34m]\u001b[0m \u001b[0;34m=\u001b[0m \u001b[0mjob_result\u001b[0m\u001b[0;34m[\u001b[0m\u001b[0;34m\"qasms\"\u001b[0m\u001b[0;34m]\u001b[0m\u001b[0;34m[\u001b[0m\u001b[0mindex\u001b[0m\u001b[0;34m]\u001b[0m\u001b[0;34m[\u001b[0m\u001b[0;34m\"status\"\u001b[0m\u001b[0;34m]\u001b[0m\u001b[0;34m\u001b[0m\u001b[0m\n\u001b[1;32m    973\u001b[0m                 \u001b[0;32melse\u001b[0m\u001b[0;34m:\u001b[0m\u001b[0;34m\u001b[0m\u001b[0m\n",
      "\u001b[0;31mKeyError\u001b[0m: 'data'"
     ]
    }
   ],
   "source": [
    "# Use the IBM Quantum Experience\n",
    "backend = 'ibmqx2'\n",
    "# Take 1000 shots for each measurement basis\n",
    "# Note: reduce this number for larger number of qubits\n",
    "shots = 1000\n",
    "# set max credits\n",
    "max_credits = 5\n",
    "\n",
    "# Run the simulation\n",
    "result = Q_program.execute(tomo_labels, backend=backend, shots=shots, max_credits=max_credits, silent=False,wait=20, timeout=240)\n",
    "print(result)"
   ]
  },
  {
   "cell_type": "markdown",
   "metadata": {},
   "source": [
    "As before we can check our results, and check our tomographically reconstructed state."
   ]
  },
  {
   "cell_type": "code",
   "execution_count": null,
   "metadata": {
    "collapsed": true
   },
   "outputs": [],
   "source": [
    "bell_tomo_qx = tomo.state_tomography_data(Q_program, 'bell', meas_qubits)"
   ]
  },
  {
   "cell_type": "markdown",
   "metadata": {},
   "source": [
    "Notice that for measurement results the bitstrings are now actually those for 5 qubits, even though we only measured one. This is because the QX is a 5-qubit quantum processor. To reconstruct the single qubit state from these results we use `total_qubits=5`. Note also that the qubit ordering in this bitstrings is `q[4]q[3]q[2]q[1]q[0]`"
   ]
  },
  {
   "cell_type": "code",
   "execution_count": 49,
   "metadata": {
    "collapsed": true,
    "scrolled": false
   },
   "outputs": [
    {
     "data": {
      "image/png": "iVBORw0KGgoAAAANSUhEUgAAAZEAAAEXCAYAAABsyHmSAAAABHNCSVQICAgIfAhkiAAAAAlwSFlz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\n+nsAAAAASUVORK5CYII=\n",
      "text/plain": [
       "<matplotlib.figure.Figure at 0x10ea13cc0>"
      ]
     },
     "metadata": {},
     "output_type": "display_data"
    },
    {
     "name": "stdout",
     "output_type": "stream",
     "text": [
      "Fidelity with ideal state\n",
      "F = 0.946485921001\n"
     ]
    }
   ],
   "source": [
    "rho_fit_real = tomo.fit_state(bell_tomo_qx, method='wizard')\n",
    "# target state is (|00>+|11>)/sqrt(2)\n",
    "target = np.array([1., 0., 0., 1.]/np.sqrt(2.))\n",
    "\n",
    "F_fit_real = state_fidelity(rho_fit_real, [0.707107, 0, 0, 0.707107])\n",
    "plot_state(rho_fit_real, 'paulivec')\n",
    "print(\"Fidelity with ideal state\")\n",
    "print(\"F =\", F_fit_real)"
   ]
<<<<<<< HEAD
=======
  },
  {
   "cell_type": "code",
   "execution_count": null,
   "metadata": {
    "collapsed": true
   },
   "outputs": [],
   "source": [
    "plot_state(rho_fit_real,\"city\")"
   ]
  },
  {
   "cell_type": "code",
   "execution_count": null,
   "metadata": {
    "collapsed": true
   },
   "outputs": [],
   "source": [
    "plot_state(rho_fit_real,\"qsphere\")"
   ]
  },
  {
   "cell_type": "code",
   "execution_count": null,
   "metadata": {
    "collapsed": true
   },
   "outputs": [],
   "source": []
>>>>>>> IBMQuantum/Dev
  }
 ],
 "metadata": {
  "anaconda-cloud": {},
  "kernelspec": {
   "display_name": "Python 3",
   "language": "python",
   "name": "python3"
  },
  "language_info": {
   "codemirror_mode": {
    "name": "ipython",
    "version": 3
   },
   "file_extension": ".py",
   "mimetype": "text/x-python",
   "name": "python",
   "nbconvert_exporter": "python",
   "pygments_lexer": "ipython3",
   "version": "3.6.0"
  }
 },
 "nbformat": 4,
 "nbformat_minor": 1
}
