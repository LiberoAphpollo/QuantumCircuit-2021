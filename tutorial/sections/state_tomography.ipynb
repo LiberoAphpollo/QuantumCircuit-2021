{
 "cells": [
  {
   "cell_type": "markdown",
   "metadata": {},
   "source": [
    "<img src=\"../images/QISKit-c.gif\" alt=\"Note: In order for images to show up in this jupyter notebook you need to select File => Trusted Notebook\" width=\"250 px\" align=\"left\">"
   ]
  },
  {
   "cell_type": "markdown",
   "metadata": {},
   "source": [
    "## _*Quantum State Tomography*_ \n",
    "\n",
    "The latest version of this notebook is available on https://github.com/IBM/qiskit-sdk-py/tree/master/scripts.\n",
    "\n",
    "For more information about how to use the IBM Q experience (QX), consult the [IBM Q experience tutorials](https://quantumexperience.ng.bluemix.net/qstage/#/tutorial?sectionId=c59b3710b928891a1420190148a72cce&pageIndex=0), or check out the [community](https://quantumexperience.ng.bluemix.net/qstage/#/community).\n",
    "\n",
    "***\n",
    "### Contributors\n",
    "Christopher J. Wood, Jay M. Gambetta"
   ]
  },
  {
   "cell_type": "markdown",
   "metadata": {},
   "source": [
    "## Introduction\n",
    "\n",
    "In this notebook we demonstrate how to design and run experiments to perform quantum state tomography using QISKit, and demonstrate this using both simulators, and the IBM Quantum Experience. \n",
    "\n",
    "The functions used in this notebook to implement state tomography may be imported from the `tools.tomography` module.\n",
    "\n",
    "#### Experiment Design\n",
    "\n",
    "The tomography experiments demonstrated in this notebook append a state preparation circuit with to perform measurements of all qubits in each of the X, Y, and Z Pauli bases. For $n$-qubits this gives a total of $3^n$ measurement circuits which must be run, and the resulting counts for the $6^n$ measurement outcomes accross all circuits give a tomographically overcomplete basis for reconstruction of the quantum state.\n",
    "\n",
    "#### State Reconstruction Methods\n",
    "\n",
    "State reconstruction may be done using a variety of methods. In this notebook implement two simple cases, they are: \n",
    "* Linear Inversion\n",
    "* Fast maximum likelihood (*see [J Smolin, JM Gambetta, G Smith, Phys. Rev. Lett. 108, 070502](https://journals.aps.org/prl/abstract/10.1103/PhysRevLett.108.070502), open access: [arXiv:1106.5458](https://arxiv.org/abs/1106.5458)*)."
   ]
  },
  {
   "cell_type": "code",
   "execution_count": 1,
   "metadata": {
    "collapsed": true
   },
   "outputs": [],
   "source": [
    "# Checking the version of PYTHON; we only support 3 at the moment\n",
    "import sys\n",
    "if sys.version_info < (3,0):\n",
    "    raise Exception(\"Please use Python version 3 or greater.\")\n",
    "import numpy as np\n",
    "    \n",
    "# importing the QISKit\n",
    "sys.path.append(\"../../\")\n",
    "from qiskit import QuantumCircuit, QuantumProgram\n",
    "import Qconfig\n",
    "\n",
    "# import tomography libary\n",
    "import tools.tomography as tomo\n",
    "\n",
    "# useful additional packages \n",
    "from tools.visualization import plot_state, plot_histogram\n",
    "from tools.qi import state_fidelity, concurrence, purity"
   ]
  },
  {
   "cell_type": "markdown",
   "metadata": {},
   "source": [
    "## State tomography of an entangled Bell-state\n",
    "\n",
    "We will demonstrate preparation, measurement, and tomographic reconstruction of a 2-qubit Bell state $\\frac{1}{\\sqrt2}\\left(|00\\rangle+|11\\rangle\\right)$.\n",
    "\n",
    "### State preparation\n",
    "\n",
    "We begin with constructing a circuit to prepare the target state, this circuit requires a 2-qubit quantum register, and a 2-bit classical register to store measurement outcomes."
   ]
  },
  {
   "cell_type": "code",
   "execution_count": 2,
   "metadata": {},
   "outputs": [
    {
     "data": {
      "text/plain": [
       "<qiskit.extensions.standard.cx.CnotGate at 0x1074fb908>"
      ]
     },
     "execution_count": 2,
     "metadata": {},
     "output_type": "execute_result"
    }
   ],
   "source": [
    "Q_program = QuantumProgram()\n",
    "Q_program.set_api(Qconfig.APItoken, Qconfig.config[\"url\"]) # set the APIToken and API url\n",
    "\n",
    "# Creating registers\n",
    "qr = Q_program.create_quantum_register(\"qr\", 2)\n",
    "cr = Q_program.create_classical_register(\"cr\", 2)\n",
    "\n",
    "# quantum circuit to make an entangled bell state \n",
    "bell = Q_program.create_circuit(\"bell\", [qr], [cr])\n",
    "bell.h(qr[0])\n",
    "bell.cx(qr[0], qr[1])"
   ]
  },
  {
   "cell_type": "markdown",
   "metadata": {},
   "source": [
    "#### Visualization of the ideal state\n",
    "\n",
    "Before we perform tomographic measurement, lets visualize the ideal output state from the preparation circuit. We may do this by executing the circuit on the `local_qasm_simulator` backend. Since this is a simulation, it gives us direct access to the final state vector if we only perform a single shot."
   ]
  },
  {
   "cell_type": "code",
   "execution_count": 3,
   "metadata": {
    "collapsed": true
   },
   "outputs": [],
   "source": [
    "result = Q_program.execute([\"bell\"], backend='local_qasm_simulator', shots=1)\n",
    "state = result.get_data(\"bell\")[\"quantum_state\"] # get the final state vector\n",
    "rho=np.outer(state, state.conj()) # construct the density matrix from the state vector"
   ]
  },
  {
   "cell_type": "markdown",
   "metadata": {},
   "source": [
    "We may visualize the final state using the `plot_state` function. This can either return a *city plot*, which is a 2D-bar plot of real and imaginary matrix elements of a density matrix $\\rho$."
   ]
  },
  {
   "cell_type": "code",
   "execution_count": 4,
   "metadata": {},
   "outputs": [
    {
     "data": {
      "image/png": "[encoded data removed]",
      "text/plain": [
       "<matplotlib.figure.Figure at 0x103e53da0>"
      ]
     },
     "metadata": {},
     "output_type": "display_data"
    }
   ],
   "source": [
    "# plot the state\n",
    "plot_state(rho,\"paulivec\")"
   ]
  },
  {
   "cell_type": "markdown",
   "metadata": {},
   "source": [
    "We can compare the ideal entangled state to a non-entangled mixed state $\\frac{1}{2}(|00\\rangle\\langle00| +|11\\rangle\\langle11|)$:"
   ]
  },
  {
   "cell_type": "code",
   "execution_count": 5,
   "metadata": {},
   "outputs": [
    {
     "data": {
      "image/png": "[encoded data removed]",
      "text/plain": [
       "<matplotlib.figure.Figure at 0x107eee908>"
      ]
     },
     "metadata": {},
     "output_type": "display_data"
    }
   ],
   "source": [
    "rho_mixed = np.array([[1,0,0,0],[0,0,0,0],[0,0,0,0],[0,0,0,1]])/2\n",
    "plot_state(rho_mixed,\"paulivec\")"
   ]
  },
  {
   "cell_type": "markdown",
   "metadata": {},
   "source": [
    "### Building tomography measurement circuits\n",
    "\n",
    "Next we must construct a family of circuits which implement a tomographically complete set of measurements of the qubit. The `statetomo.py` example library contains functions to generate these measurement circuits for general n-qubit systems. We do this by measuring in the X, Y, and Z for each qubit. This results in $3^n$ measurement circuits which must be executed to gather count statistics for the tomographic reconstruction.\n",
    "\n",
    "The function to build the circuits is:\n",
    "```python\n",
    "tomo.build_state_tomography_circuits(QP, 'prep', qr, cr, qubits)\n",
    "```\n",
    "The function to construct an array of the the corresponding labels for these circuits is:\n",
    "```python\n",
    "tomo.state_tomography_labels('prep', qubits)\n",
    "```\n",
    "where \n",
    "- `QP` is the quantum program.\n",
    "- `'prep'` is the name of the preparation circuit    \n",
    "- `'qr'` is the name of the quantum registers to be measured\n",
    "- `'cr'` is the name of the classical registers to store outcomes\n",
    "- `qubits` is a list of the qubits to be measured. Eg `[i,j]` for `qr[i]`, and `qr[j]`."
   ]
  },
  {
   "cell_type": "code",
   "execution_count": 6,
   "metadata": {},
   "outputs": [
    {
     "name": "stdout",
     "output_type": "stream",
     "text": [
      ">> created state tomography circuits for \"bell\"\n",
      "['bell_measX0X1', 'bell_measX0Y1', 'bell_measX0Z1', 'bell_measY0X1', 'bell_measY0Y1', 'bell_measY0Z1', 'bell_measZ0X1', 'bell_measZ0Y1', 'bell_measZ0Z1']\n"
     ]
    }
   ],
   "source": [
    "# Qubits being measured\n",
    "meas_qubits = [0,1]\n",
    "# Construct the state tomography measurement circuits in QP\n",
    "tomo_labels = tomo.build_state_tomography_circuits(Q_program, \"bell\", meas_qubits, qr, cr)\n",
    "print(tomo_labels)\n"
   ]
  },
  {
   "cell_type": "markdown",
   "metadata": {},
   "source": [
    "### Testing experiments on a simulator\n",
    "\n",
    "Now that we have prepared the required circuits for state preparation and measurement, we should test them on a simulator before trying to run them on the real device.\n",
    "\n",
    "We specify the device, and a number of experiment shots to perform to gather measurement statistics. The larger the number of shots, the more accurate our measurmeent probabilities will be compared to the *true* value."
   ]
  },
  {
   "cell_type": "code",
   "execution_count": 7,
   "metadata": {
    "collapsed": true,
    "scrolled": true
   },
   "outputs": [],
   "source": [
    "# Use the local simulator\n",
    "backend = 'local_qasm_simulator'\n",
    "\n",
    "# Take 1000 shots for each measurement basis\n",
    "shots = 5000\n",
    "\n",
    "# Run the simulation\n",
    "result = Q_program.execute(tomo_labels, backend=backend, shots=shots)"
   ]
  },
  {
   "cell_type": "markdown",
   "metadata": {},
   "source": [
    "Before doing the tomographic reconstruction we can view the count statistics from the simulation:"
   ]
  },
  {
   "cell_type": "code",
   "execution_count": 8,
   "metadata": {},
   "outputs": [
    {
     "name": "stdout",
     "output_type": "stream",
     "text": [
      "[{'counts': {'00': 2488, '01': 0, '10': 0, '11': 2512}, 'meas_basis': {'00': array([[ 0.25,  0.25,  0.25,  0.25],\n",
      "       [ 0.25,  0.25,  0.25,  0.25],\n",
      "       [ 0.25,  0.25,  0.25,  0.25],\n",
      "       [ 0.25,  0.25,  0.25,  0.25]]), '01': array([[ 0.25, -0.25,  0.25, -0.25],\n",
      "       [-0.25,  0.25, -0.25,  0.25],\n",
      "       [ 0.25, -0.25,  0.25, -0.25],\n",
      "       [-0.25,  0.25, -0.25,  0.25]]), '10': array([[ 0.25,  0.25, -0.25, -0.25],\n",
      "       [ 0.25,  0.25, -0.25, -0.25],\n",
      "       [-0.25, -0.25,  0.25,  0.25],\n",
      "       [-0.25, -0.25,  0.25,  0.25]]), '11': array([[ 0.25, -0.25, -0.25,  0.25],\n",
      "       [-0.25,  0.25,  0.25, -0.25],\n",
      "       [-0.25,  0.25,  0.25, -0.25],\n",
      "       [ 0.25, -0.25, -0.25,  0.25]])}, 'shots': 5000}, {'counts': {'00': 1254, '01': 1291, '10': 1234, '11': 1221}, 'meas_basis': {'00': array([[ 0.25+0.j  ,  0.25+0.j  ,  0.00-0.25j,  0.00-0.25j],\n",
      "       [ 0.25+0.j  ,  0.25+0.j  ,  0.00-0.25j,  0.00-0.25j],\n",
      "       [ 0.00+0.25j,  0.00+0.25j,  0.25+0.j  ,  0.25+0.j  ],\n",
      "       [ 0.00+0.25j,  0.00+0.25j,  0.25+0.j  ,  0.25+0.j  ]]), '01': array([[ 0.25+0.j  , -0.25+0.j  ,  0.00-0.25j,  0.00+0.25j],\n",
      "       [-0.25+0.j  ,  0.25+0.j  ,  0.00+0.25j,  0.00-0.25j],\n",
      "       [ 0.00+0.25j, -0.00-0.25j,  0.25+0.j  , -0.25+0.j  ],\n",
      "       [-0.00-0.25j,  0.00+0.25j, -0.25+0.j  ,  0.25+0.j  ]]), '10': array([[ 0.25+0.j  ,  0.25+0.j  ,  0.00+0.25j,  0.00+0.25j],\n",
      "       [ 0.25+0.j  ,  0.25+0.j  ,  0.00+0.25j,  0.00+0.25j],\n",
      "       [ 0.00-0.25j,  0.00-0.25j,  0.25+0.j  ,  0.25+0.j  ],\n",
      "       [ 0.00-0.25j,  0.00-0.25j,  0.25+0.j  ,  0.25+0.j  ]]), '11': array([[ 0.25+0.j  , -0.25+0.j  ,  0.00+0.25j, -0.00-0.25j],\n",
      "       [-0.25+0.j  ,  0.25+0.j  , -0.00-0.25j,  0.00+0.25j],\n",
      "       [ 0.00-0.25j,  0.00+0.25j,  0.25+0.j  , -0.25+0.j  ],\n",
      "       [ 0.00+0.25j,  0.00-0.25j, -0.25+0.j  ,  0.25+0.j  ]])}, 'shots': 5000}, {'counts': {'00': 1254, '01': 1291, '10': 1234, '11': 1221}, 'meas_basis': {'00': array([[ 0.5,  0.5,  0. ,  0. ],\n",
      "       [ 0.5,  0.5,  0. ,  0. ],\n",
      "       [ 0. ,  0. ,  0. ,  0. ],\n",
      "       [ 0. ,  0. ,  0. ,  0. ]]), '01': array([[ 0.5, -0.5,  0. , -0. ],\n",
      "       [-0.5,  0.5, -0. ,  0. ],\n",
      "       [ 0. , -0. ,  0. , -0. ],\n",
      "       [-0. ,  0. , -0. ,  0. ]]), '10': array([[ 0. ,  0. ,  0. ,  0. ],\n",
      "       [ 0. ,  0. ,  0. ,  0. ],\n",
      "       [ 0. ,  0. ,  0.5,  0.5],\n",
      "       [ 0. ,  0. ,  0.5,  0.5]]), '11': array([[ 0. , -0. ,  0. , -0. ],\n",
      "       [-0. ,  0. , -0. ,  0. ],\n",
      "       [ 0. , -0. ,  0.5, -0.5],\n",
      "       [-0. ,  0. , -0.5,  0.5]])}, 'shots': 5000}, {'counts': {'00': 1254, '01': 1291, '10': 1234, '11': 1221}, 'meas_basis': {'00': array([[ 0.25+0.j  ,  0.00-0.25j,  0.25+0.j  ,  0.00-0.25j],\n",
      "       [ 0.00+0.25j,  0.25+0.j  ,  0.00+0.25j,  0.25+0.j  ],\n",
      "       [ 0.25+0.j  ,  0.00-0.25j,  0.25+0.j  ,  0.00-0.25j],\n",
      "       [ 0.00+0.25j,  0.25+0.j  ,  0.00+0.25j,  0.25+0.j  ]]), '01': array([[ 0.25+0.j  ,  0.00+0.25j,  0.25+0.j  ,  0.00+0.25j],\n",
      "       [ 0.00-0.25j,  0.25+0.j  ,  0.00-0.25j,  0.25+0.j  ],\n",
      "       [ 0.25+0.j  ,  0.00+0.25j,  0.25+0.j  ,  0.00+0.25j],\n",
      "       [ 0.00-0.25j,  0.25+0.j  ,  0.00-0.25j,  0.25+0.j  ]]), '10': array([[ 0.25+0.j  ,  0.00-0.25j, -0.25+0.j  ,  0.00+0.25j],\n",
      "       [ 0.00+0.25j,  0.25+0.j  , -0.00-0.25j, -0.25+0.j  ],\n",
      "       [-0.25+0.j  ,  0.00+0.25j,  0.25+0.j  ,  0.00-0.25j],\n",
      "       [-0.00-0.25j, -0.25+0.j  ,  0.00+0.25j,  0.25+0.j  ]]), '11': array([[ 0.25+0.j  ,  0.00+0.25j, -0.25+0.j  , -0.00-0.25j],\n",
      "       [ 0.00-0.25j,  0.25+0.j  ,  0.00+0.25j, -0.25+0.j  ],\n",
      "       [-0.25+0.j  , -0.00-0.25j,  0.25+0.j  ,  0.00+0.25j],\n",
      "       [ 0.00+0.25j, -0.25+0.j  ,  0.00-0.25j,  0.25+0.j  ]])}, 'shots': 5000}, {'counts': {'00': 0, '01': 2512, '10': 2488, '11': 0}, 'meas_basis': {'00': array([[ 0.25+0.j  ,  0.00-0.25j,  0.00-0.25j, -0.25+0.j  ],\n",
      "       [ 0.00+0.25j,  0.25+0.j  ,  0.25+0.j  ,  0.00-0.25j],\n",
      "       [ 0.00+0.25j,  0.25-0.j  ,  0.25+0.j  ,  0.00-0.25j],\n",
      "       [-0.25+0.j  ,  0.00+0.25j,  0.00+0.25j,  0.25+0.j  ]]), '01': array([[ 0.25+0.j  ,  0.00+0.25j,  0.00-0.25j,  0.25+0.j  ],\n",
      "       [ 0.00-0.25j,  0.25+0.j  , -0.25+0.j  ,  0.00-0.25j],\n",
      "       [ 0.00+0.25j, -0.25+0.j  ,  0.25+0.j  ,  0.00+0.25j],\n",
      "       [ 0.25-0.j  ,  0.00+0.25j,  0.00-0.25j,  0.25+0.j  ]]), '10': array([[ 0.25+0.j  ,  0.00-0.25j,  0.00+0.25j,  0.25-0.j  ],\n",
      "       [ 0.00+0.25j,  0.25+0.j  , -0.25+0.j  ,  0.00+0.25j],\n",
      "       [ 0.00-0.25j, -0.25+0.j  ,  0.25+0.j  ,  0.00-0.25j],\n",
      "       [ 0.25+0.j  ,  0.00-0.25j,  0.00+0.25j,  0.25+0.j  ]]), '11': array([[ 0.25+0.j  ,  0.00+0.25j,  0.00+0.25j, -0.25+0.j  ],\n",
      "       [ 0.00-0.25j,  0.25+0.j  ,  0.25-0.j  ,  0.00+0.25j],\n",
      "       [ 0.00-0.25j,  0.25+0.j  ,  0.25+0.j  ,  0.00+0.25j],\n",
      "       [-0.25+0.j  ,  0.00-0.25j,  0.00-0.25j,  0.25+0.j  ]])}, 'shots': 5000}, {'counts': {'00': 1254, '01': 1291, '10': 1234, '11': 1221}, 'meas_basis': {'00': array([[ 0.5+0.j ,  0.0-0.5j,  0.0+0.j ,  0.0-0.j ],\n",
      "       [ 0.0+0.5j,  0.5+0.j ,  0.0+0.j ,  0.0+0.j ],\n",
      "       [ 0.0+0.j ,  0.0-0.j ,  0.0+0.j ,  0.0-0.j ],\n",
      "       [ 0.0+0.j ,  0.0+0.j ,  0.0+0.j ,  0.0+0.j ]]), '01': array([[ 0.5+0.j ,  0.0+0.5j,  0.0+0.j ,  0.0+0.j ],\n",
      "       [ 0.0-0.5j,  0.5+0.j ,  0.0-0.j ,  0.0+0.j ],\n",
      "       [ 0.0+0.j ,  0.0+0.j ,  0.0+0.j ,  0.0+0.j ],\n",
      "       [ 0.0-0.j ,  0.0+0.j ,  0.0-0.j ,  0.0+0.j ]]), '10': array([[ 0.0+0.j ,  0.0-0.j ,  0.0+0.j ,  0.0-0.j ],\n",
      "       [ 0.0+0.j ,  0.0+0.j ,  0.0+0.j ,  0.0+0.j ],\n",
      "       [ 0.0+0.j ,  0.0-0.j ,  0.5+0.j ,  0.0-0.5j],\n",
      "       [ 0.0+0.j ,  0.0+0.j ,  0.0+0.5j,  0.5+0.j ]]), '11': array([[ 0.0+0.j ,  0.0+0.j ,  0.0+0.j ,  0.0+0.j ],\n",
      "       [ 0.0-0.j ,  0.0+0.j ,  0.0-0.j ,  0.0+0.j ],\n",
      "       [ 0.0+0.j ,  0.0+0.j ,  0.5+0.j ,  0.0+0.5j],\n",
      "       [ 0.0-0.j ,  0.0+0.j ,  0.0-0.5j,  0.5+0.j ]])}, 'shots': 5000}, {'counts': {'00': 1254, '01': 1291, '10': 1234, '11': 1221}, 'meas_basis': {'00': array([[ 0.5,  0. ,  0.5,  0. ],\n",
      "       [ 0. ,  0. ,  0. ,  0. ],\n",
      "       [ 0.5,  0. ,  0.5,  0. ],\n",
      "       [ 0. ,  0. ,  0. ,  0. ]]), '01': array([[ 0. ,  0. ,  0. ,  0. ],\n",
      "       [ 0. ,  0.5,  0. ,  0.5],\n",
      "       [ 0. ,  0. ,  0. ,  0. ],\n",
      "       [ 0. ,  0.5,  0. ,  0.5]]), '10': array([[ 0.5,  0. , -0.5, -0. ],\n",
      "       [ 0. ,  0. , -0. , -0. ],\n",
      "       [-0.5, -0. ,  0.5,  0. ],\n",
      "       [-0. , -0. ,  0. ,  0. ]]), '11': array([[ 0. ,  0. , -0. , -0. ],\n",
      "       [ 0. ,  0.5, -0. , -0.5],\n",
      "       [-0. , -0. ,  0. ,  0. ],\n",
      "       [-0. , -0.5,  0. ,  0.5]])}, 'shots': 5000}, {'counts': {'00': 1254, '01': 1291, '10': 1234, '11': 1221}, 'meas_basis': {'00': array([[ 0.5+0.j ,  0.0+0.j ,  0.0-0.5j,  0.0+0.j ],\n",
      "       [ 0.0+0.j ,  0.0+0.j ,  0.0+0.j ,  0.0+0.j ],\n",
      "       [ 0.0+0.5j,  0.0+0.j ,  0.5+0.j ,  0.0+0.j ],\n",
      "       [ 0.0+0.j ,  0.0+0.j ,  0.0+0.j ,  0.0+0.j ]]), '01': array([[ 0.0+0.j ,  0.0+0.j ,  0.0+0.j ,  0.0+0.j ],\n",
      "       [ 0.0+0.j ,  0.5+0.j ,  0.0+0.j ,  0.0-0.5j],\n",
      "       [ 0.0+0.j ,  0.0+0.j ,  0.0+0.j ,  0.0+0.j ],\n",
      "       [ 0.0+0.j ,  0.0+0.5j,  0.0+0.j ,  0.5+0.j ]]), '10': array([[ 0.5+0.j ,  0.0+0.j ,  0.0+0.5j,  0.0+0.j ],\n",
      "       [ 0.0+0.j ,  0.0+0.j ,  0.0+0.j ,  0.0+0.j ],\n",
      "       [ 0.0-0.5j,  0.0+0.j ,  0.5+0.j ,  0.0+0.j ],\n",
      "       [ 0.0+0.j ,  0.0+0.j ,  0.0+0.j ,  0.0+0.j ]]), '11': array([[ 0.0+0.j ,  0.0+0.j ,  0.0+0.j ,  0.0+0.j ],\n",
      "       [ 0.0+0.j ,  0.5+0.j ,  0.0+0.j ,  0.0+0.5j],\n",
      "       [ 0.0+0.j ,  0.0+0.j ,  0.0+0.j ,  0.0+0.j ],\n",
      "       [ 0.0+0.j ,  0.0-0.5j,  0.0+0.j ,  0.5+0.j ]])}, 'shots': 5000}, {'counts': {'00': 2488, '01': 0, '10': 0, '11': 2512}, 'meas_basis': {'00': array([[1, 0, 0, 0],\n",
      "       [0, 0, 0, 0],\n",
      "       [0, 0, 0, 0],\n",
      "       [0, 0, 0, 0]]), '01': array([[0, 0, 0, 0],\n",
      "       [0, 1, 0, 0],\n",
      "       [0, 0, 0, 0],\n",
      "       [0, 0, 0, 0]]), '10': array([[0, 0, 0, 0],\n",
      "       [0, 0, 0, 0],\n",
      "       [0, 0, 1, 0],\n",
      "       [0, 0, 0, 0]]), '11': array([[0, 0, 0, 0],\n",
      "       [0, 0, 0, 0],\n",
      "       [0, 0, 0, 0],\n",
      "       [0, 0, 0, 1]])}, 'shots': 5000}]\n"
     ]
    }
   ],
   "source": [
    "bell_tomo_dat = tomo.state_tomography_data(result, 'bell', meas_qubits)\n",
    "print(bell_tomo_dat)"
   ]
  },
  {
   "cell_type": "markdown",
   "metadata": {},
   "source": [
    "### Reconstructing state from count data\n",
    "\n",
    "To reconstruct the maximum likelihod estimate of the measured quantum state we use the following function:\n",
    "```\n",
    "fit_state(tomo_data, method, options)\n",
    "```\n",
    "where\n",
    "- `QP` is the quantum program containing the measurement results\n",
    "- `circuits` is the array of tomographic measurement circuits measured\n",
    "- `shots` is the total number of shots for each measurement circuit\n",
    "- `total_qubits` is the total number of qubits in the system (the length of shot outcome bitstrings)\n",
    "- `meas_qubits` is an array of the measurement qubit indices"
   ]
  },
  {
   "cell_type": "code",
   "execution_count": 9,
   "metadata": {
    "collapsed": true
   },
   "outputs": [],
   "source": [
    "rho_fit = tomo.fit_tomography_data(bell_tomo_dat, method='wizard')"
   ]
  },
  {
   "cell_type": "markdown",
   "metadata": {},
   "source": [
    "We can compare the reconstructed state to the target state vector. We use the Fidelity function, which for a comparing a density matrix $\\rho$ to a pure state $|\\psi\\rangle$ is given by $F = \\sqrt{\\langle \\psi| \\rho |\\psi\\rangle}$. This may be done by the function **`state_fidelity`** from the **`qiskit.tools.qi`** module."
   ]
  },
  {
   "cell_type": "code",
   "execution_count": 10,
   "metadata": {},
   "outputs": [
    {
     "data": {
      "image/png": "[encoded data removed]",
      "text/plain": [
       "<matplotlib.figure.Figure at 0x1085c5be0>"
      ]
     },
     "metadata": {},
     "output_type": "display_data"
    },
    {
     "name": "stdout",
     "output_type": "stream",
     "text": [
      "Fidelity with ideal state\n",
      "F = 0.998658517827\n",
      "concurrence =  0.919084885431\n",
      "purity =  0.994806992083\n"
     ]
    }
   ],
   "source": [
    "# target state is (|00>+|11>)/sqrt(2)\n",
    "target = np.array([1., 0., 0., 1.]/np.sqrt(2.))\n",
    "\n",
    "# calculate fidelity\n",
    "F_fit = state_fidelity(rho_fit, [0.707107, 0, 0, 0.707107])\n",
    "plot_state(rho_fit, 'paulivec')\n",
    "print(\"Fidelity with ideal state\")\n",
    "print(\"F =\", F_fit)\n",
    "\n",
    "# calculate concurrence and purity\n",
    "con = concurrence(rho_fit)\n",
    "pur = purity(rho_fit)\n",
    "print(\"concurrence = \", str(con))\n",
    "print(\"purity = \", str(pur))"
   ]
  },
  {
   "cell_type": "markdown",
   "metadata": {},
   "source": [
    "Note that since our simulator is *perfect* the output state should be *exactly* the Bell-state, so we should obtain F = 1. Why is it not in our case? Since we can never directly *see* the final state we must obtain information about it via measurements. We would only obtain the *true* probabilities for the state in the limit of infinite measurement shots. Hence we have statistical error in our reconstruction due to having imperfect information about the state itself. Try running with different number of shots on the simulator and see how it effects the fidelity of the reconstruction.\n",
    "\n",
    "### Running on a real device\n",
    "\n",
    "Now that we've checked our simple tomography experiment worked, lets try it out on the IBM Quantum Experience! To do this we must have attached our API key, and it is good practice to set a limit on the number of credits to use:"
   ]
  },
  {
   "cell_type": "code",
   "execution_count": 11,
   "metadata": {},
   "outputs": [
    {
     "name": "stdout",
     "output_type": "stream",
     "text": [
      "running on backend: ibmqx2\n",
      "status = RUNNING (20 seconds)\n",
      "status = RUNNING (40 seconds)\n"
     ]
    }
   ],
   "source": [
    "# Use the IBM Quantum Experience\n",
    "backend = 'ibmqx2'\n",
    "# Take 1000 shots for each measurement basis\n",
    "# Note: reduce this number for larger number of qubits\n",
    "shots = 1000\n",
    "# set max credits\n",
    "max_credits = 5\n",
    "\n",
    "# Run the simulation\n",
    "result = Q_program.execute(tomo_labels, backend=backend, shots=shots, max_credits=max_credits, silent=False,wait=20, timeout=240)"
   ]
  },
  {
   "cell_type": "markdown",
   "metadata": {},
   "source": [
    "As before we can check our results, and check our tomographically reconstructed state."
   ]
  },
  {
   "cell_type": "code",
   "execution_count": 12,
   "metadata": {
    "collapsed": true
   },
   "outputs": [],
   "source": [
    "bell_tomo_qx = tomo.state_tomography_data(result, 'bell', meas_qubits)"
   ]
  },
  {
   "cell_type": "markdown",
   "metadata": {},
   "source": [
    "Notice that for measurement results the bitstrings are now actually those for 5 qubits, even though we only measured one. This is because the QX is a 5-qubit quantum processor. To reconstruct the single qubit state from these results we use `total_qubits=5`. Note also that the qubit ordering in this bitstrings is `q[4]q[3]q[2]q[1]q[0]`"
   ]
  },
  {
   "cell_type": "code",
   "execution_count": 13,
   "metadata": {
    "scrolled": false
   },
   "outputs": [
    {
     "data": {
      "image/png": "[encoded data removed]",
      "text/plain": [
       "<matplotlib.figure.Figure at 0x1083c47b8>"
      ]
     },
     "metadata": {},
     "output_type": "display_data"
    },
    {
     "name": "stdout",
     "output_type": "stream",
     "text": [
      "Fidelity with ideal state\n",
      "F = 0.932563430987\n",
      "concurrence =  0.531205553774\n",
      "purity =  0.779151726414\n"
     ]
    }
   ],
   "source": [
    "rho_fit_real = tomo.fit_tomography_data(bell_tomo_qx, method='wizard')\n",
    "# target state is (|00>+|11>)/sqrt(2)\n",
    "target = np.array([1., 0., 0., 1.]/np.sqrt(2.))\n",
    "\n",
    "F_fit_real = state_fidelity(rho_fit_real, [0.707107, 0, 0, 0.707107])\n",
    "plot_state(rho_fit_real, 'paulivec')\n",
    "print(\"Fidelity with ideal state\")\n",
    "print(\"F =\", F_fit_real)\n",
    "\n",
    "# calculate concurrence and purity\n",
    "con = concurrence(rho_fit_real)\n",
    "pur = purity(rho_fit_real)\n",
    "print(\"concurrence = \", str(con))\n",
    "print(\"purity = \", str(pur))"
   ]
  },
  {
   "cell_type": "code",
   "execution_count": null,
   "metadata": {
    "collapsed": true
   },
   "outputs": [],
   "source": []
  }
 ],
 "metadata": {
  "anaconda-cloud": {},
  "kernelspec": {
   "display_name": "Python 3",
   "language": "python",
   "name": "python3"
  },
  "language_info": {
   "codemirror_mode": {
    "name": "ipython",
    "version": 3
   },
   "file_extension": ".py",
   "mimetype": "text/x-python",
   "name": "python",
   "nbconvert_exporter": "python",
   "pygments_lexer": "ipython3",
   "version": "3.6.1"
  }
 },
 "nbformat": 4,
 "nbformat_minor": 1
}
