{
 "cells": [
  {
   "cell_type": "markdown",
   "metadata": {},
   "source": [
    "<img src=\"../images/QISKit-c.gif\" alt=\"Note: In order for images to show up in this jupyter notebook you need to select File => Trusted Notebook\" width=\"250 px\" align=\"left\">"
   ]
  },
  {
   "cell_type": "markdown",
   "metadata": {},
   "source": [
    "## *Quantum_chemistry*\n",
    "\n"
   ]
  },
  {
   "cell_type": "markdown",
   "metadata": {},
   "source": [
    "## Introduction\n"
   ]
  },
  {
   "cell_type": "code",
   "execution_count": 1,
   "metadata": {},
   "outputs": [],
   "source": [
    "# Checking the version of PYTHON; we only support 3 at the moment\n",
    "import sys\n",
    "if sys.version_info < (3,0):\n",
    "    raise Exception(\"Please use Python version 3 or greater.\")\n",
    "    \n",
    "    \n",
    "# useful additional packages \n",
    "import matplotlib.pyplot as plt\n",
    "%matplotlib inline\n",
    "import numpy as np\n",
    "from scipy import linalg as la\n",
    "import matplotlib.pyplot as plt\n",
    "\n",
    "import sys\n",
    "sys.path.append(\"../../\")\n",
    "# importing the QISKit\n",
    "from qiskit import QuantumCircuit, QuantumProgram\n",
    "import Qconfig\n",
    "import math\n",
    "\n",
    "# import basic plot tools\n",
    "from qiskit.basicplotter import plot_histogram\n",
    "\n",
    "# import optimization tools\n",
    "from tools.optimizationtools import trial_circuit_pauli,trial_funtion_optimization\n",
    "from tools.optimizationtools import cost_function, make_Hamiltonian, parse_hamiltonian_file, text_to_ham\n",
    "\n",
    "\n",
    "Hamtext=parse_hamiltonian_file(\"H2Equilibrium.txt\")"
   ]
  },
  {
   "cell_type": "code",
   "execution_count": 20,
   "metadata": {
    "collapsed": true
   },
   "outputs": [],
   "source": [
    "# Set parameters \n",
    "n=2\n",
    "m=2 #depth (number of layers of sq gates - # entanglers is this number -1)\n",
    "device='local_qasm_simulator'\n",
    "file_name='H2Equilibrium.txt'\n",
    "theta=np.zeros(2*n*m)\n",
    "entangler_map={0: [1]} # the map of two-qubit gates with control at key and target at values\n",
    "shots=1000\n",
    "\n"
   ]
  },
  {
   "cell_type": "code",
   "execution_count": 27,
   "metadata": {},
   "outputs": [],
   "source": [
    "def eval_hamiltonian(n,m,theta,file_name,device):\n",
    "\n",
    "\n",
    "    ham_array=parse_hamiltonian_file(file_name);\n",
    "    \n",
    "    avg_energy=0\n",
    "    var_energy=0\n",
    "    std_energy=0\n",
    "    \n",
    "    \n",
    "    circuits=[]\n",
    "    trial_circuit=[]\n",
    "    print(ham_array)\n",
    "    print(math.ceil(len(ham_array)/2))\n",
    "    Q_program = QuantumProgram()\n",
    "    Q_program.set_api(Qconfig.APItoken,Qconfig.config[\"url\"])\n",
    "    \n",
    "    \n",
    "    # STACK QUANTUM CIRCUITS ASSOCIATED TO EACH PAULI TERM AND EXECUTE THEM \n",
    "    \n",
    "    for i in range(math.ceil(len(ham_array)/2)):     \n",
    "\n",
    "\n",
    "        trial_circuit.append(trial_circuit_pauli(n,m,theta,entangler_map,ham_array[i*2]))\n",
    "        circuits.append(\"trial_circuit_label\"+str(i))\n",
    "        Q_program.add_circuit(circuits[i],trial_circuit[i])\n",
    "        print(Q_program.get_qasm(circuits[i]))\n",
    "       \n",
    "        \n",
    "    \n",
    "    Q_program.execute(circuits,device,shots)\n",
    "\n",
    "    \n",
    "    \n",
    "    \n",
    "    # COMPUTE MEAN ENERGY AND STANDARD ERROR ASSOCIATED TO EACH PAULI TERM AND THEN SUM THEM INTO AVG_ENERGY\n",
    "    \n",
    "    pauli_energy=np.zeros(math.ceil(len(ham_array)/2))\n",
    "    pauli_var=np.zeros(math.ceil(len(ham_array)/2))\n",
    "\n",
    "    \n",
    "    for i in range(math.ceil(len(ham_array)/2)):#loop over Pauli terms\n",
    "       \n",
    "        countsloop=Q_program.get_counts(circuits[i])\n",
    "        print(countsloop)\n",
    "        \n",
    "            \n",
    "        for j in countsloop:  #loop over counts of a Pauli measurement outcome\n",
    "            pauli_avg_count=float(ham_array[2*i+1])\n",
    "            for k in range(n):  # loop over qubits \n",
    "                \n",
    "                if ham_array[2*i][k]!='I' and j[(n-1)-k]==\"1\":\n",
    "                    pauli_avg_count=-pauli_avg_count # put minus sign on given counts of given Pauli\n",
    "            \n",
    "            pauli_energy[i]+=pauli_avg_count*countsloop[j]/shots\n",
    "           \n",
    "        for j in countsloop:  #loop over counts of a Pauli measurement outcome\n",
    "            pauli_avg_count=float(ham_array[2*i+1])\n",
    "            for k in range(n):  # loop over qubits \n",
    "                \n",
    "                if ham_array[2*i][k]!='I' and j[(n-1)-k]==\"1\":\n",
    "                    pauli_avg_count=-pauli_avg_count # put minus sign on given counts of given Pauli\n",
    "            \n",
    "            pauli_var[i]+=countsloop[j]*math.pow((pauli_avg_count-pauli_energy[i]),2)/shots\n",
    "        \n",
    "   \n",
    "\n",
    "    \n",
    "    for i in range(math.ceil(len(ham_array)/2)): \n",
    "        avg_energy+=pauli_energy[i]\n",
    "        var_energy+=pauli_var[i]\n",
    "        \n",
    "        \n",
    "    std_energy=np.sqrt(var_energy)/np.sqrt(shots)\n",
    "    \n",
    "    \n",
    "    \n",
    "    \n",
    "    \n",
    "    return avg_energy,std_energy\n",
    "                        "
   ]
  },
  {
   "cell_type": "code",
   "execution_count": 28,
   "metadata": {},
   "outputs": [
    {
     "name": "stdout",
     "output_type": "stream",
     "text": [
      "['II', -1.0523760606256514, 'ZI', 0.39793570529466216, 'IZ', 0.39793570529466227, 'XX', 0.18093133934472627]\n",
      "4\n",
      "OPENQASM 2.0;\n",
      "include \"qelib1.inc\";\n",
      "qreg q[2];\n",
      "creg c[2];\n",
      "h q[0];\n",
      "h q[1];\n",
      "barrier q[0],q[1];\n",
      "barrier q[0],q[1];\n",
      "ry(0.000000000000000) q[0];\n",
      "rz(0.000000000000000) q[0];\n",
      "ry(0.000000000000000) q[1];\n",
      "rz(0.000000000000000) q[1];\n",
      "cz q[0],q[1];\n",
      "measure q[0] -> c[0];\n",
      "measure q[1] -> c[1];\n",
      "\n",
      "OPENQASM 2.0;\n",
      "include \"qelib1.inc\";\n",
      "qreg q[2];\n",
      "creg c[2];\n",
      "h q[0];\n",
      "h q[1];\n",
      "barrier q[0],q[1];\n",
      "barrier q[0],q[1];\n",
      "ry(0.000000000000000) q[0];\n",
      "rz(0.000000000000000) q[0];\n",
      "ry(0.000000000000000) q[1];\n",
      "rz(0.000000000000000) q[1];\n",
      "cz q[0],q[1];\n",
      "measure q[0] -> c[0];\n",
      "measure q[1] -> c[1];\n",
      "\n",
      "OPENQASM 2.0;\n",
      "include \"qelib1.inc\";\n",
      "qreg q[2];\n",
      "creg c[2];\n",
      "h q[0];\n",
      "h q[1];\n",
      "barrier q[0],q[1];\n",
      "barrier q[0],q[1];\n",
      "ry(0.000000000000000) q[0];\n",
      "rz(0.000000000000000) q[0];\n",
      "ry(0.000000000000000) q[1];\n",
      "rz(0.000000000000000) q[1];\n",
      "cz q[0],q[1];\n",
      "measure q[0] -> c[0];\n",
      "measure q[1] -> c[1];\n",
      "\n",
      "OPENQASM 2.0;\n",
      "include \"qelib1.inc\";\n",
      "qreg q[2];\n",
      "creg c[2];\n",
      "h q[0];\n",
      "h q[1];\n",
      "barrier q[0],q[1];\n",
      "barrier q[0],q[1];\n",
      "ry(0.000000000000000) q[0];\n",
      "rz(0.000000000000000) q[0];\n",
      "ry(0.000000000000000) q[1];\n",
      "rz(0.000000000000000) q[1];\n",
      "cz q[0],q[1];\n",
      "ry(-1.570796326794897) q[0];\n",
      "ry(-1.570796326794897) q[1];\n",
      "measure q[0] -> c[0];\n",
      "measure q[1] -> c[1];\n",
      "\n",
      "{'10': 251, '11': 245, '01': 259, '00': 245}\n",
      "{'01': 266, '11': 252, '00': 247, '10': 235}\n",
      "{'10': 259, '01': 238, '11': 260, '00': 243}\n",
      "{'00': 251, '11': 235, '10': 266, '01': 248}\n"
     ]
    },
    {
     "data": {
      "text/plain": [
       "(-1.0868893803191086, 0.018681066585464059)"
      ]
     },
     "execution_count": 28,
     "metadata": {},
     "output_type": "execute_result"
    }
   ],
   "source": [
    "eval_hamiltonian(n,m,theta,'H2Equilibrium.txt',device)"
   ]
  },
  {
   "cell_type": "markdown",
   "metadata": {},
   "source": [
    "### Optimizing the potential energy surface "
   ]
  },
  {
   "cell_type": "code",
   "execution_count": 6,
   "metadata": {},
   "outputs": [
    {
     "name": "stdout",
     "output_type": "stream",
     "text": [
      "[ 2.645885    1.76392333  1.3229425   1.058354    0.88196167  0.75596714\n",
      "  0.66147125  0.58797444  0.529177    0.48107     0.44098083  0.40705923\n",
      "  0.37798357  0.35278467  0.33073562  0.31128059  0.29398722  0.27851421\n",
      "  0.2645885   0.25198905  0.240535    0.23007696  0.22049042  0.2116708\n",
      "  0.20352962  0.19599148  0.18899179  0.18247483  0.17639233  0.17070226\n",
      "  0.16536781  0.16035667  0.15564029  0.15119343  0.14699361  0.14302081\n",
      "  0.13925711  0.13568641  0.13229425]\n",
      "[ 0.15748025 -0.60180521 -0.91414947 -1.05515961 -1.11628663 -1.13618916\n",
      " -1.13414709 -1.12056012 -1.10114996 -1.07919329 -1.0567411  -1.03518696\n",
      " -1.01546874 -0.99814919 -0.98347336 -0.9714276  -0.96181708 -0.9543389\n",
      " -0.94864106 -0.94437519 -0.94122469 -0.93892324 -0.93725423 -0.93605388\n",
      " -0.93519571 -0.9345834  -0.93415102 -0.93384712 -0.93363208 -0.93348288\n",
      " -0.93338099 -0.93331063 -0.93326066 -0.93322776 -0.93320777 -0.93319224\n",
      " -0.93318187 -0.93317572 -0.93317176]\n"
     ]
    },
    {
     "name": "stderr",
     "output_type": "stream",
     "text": [
      "/Users/amezzac/anaconda/lib/python3.6/site-packages/ipykernel_launcher.py:30: ComplexWarning: Casting complex values to real discards the imaginary part\n"
     ]
    },
    {
     "data": {
      "text/plain": [
       "[<matplotlib.lines.Line2D at 0x11a8d85c0>]"
      ]
     },
     "execution_count": 6,
     "metadata": {},
     "output_type": "execute_result"
    },
    {
     "data": {
      "image/png": "[encoded data removed]",
      "text/plain": [
       "<matplotlib.figure.Figure at 0x116d3a1d0>"
      ]
     },
     "metadata": {},
     "output_type": "display_data"
    }
   ],
   "source": [
    "# Parameters\n",
    "\n",
    "molecule='H2' #name of the molecule folder\n",
    "Z1=1\n",
    "Z2=1\n",
    "min_distance=.2\n",
    "max_distance=4\n",
    "number_of_points=39\n",
    "\n",
    "\n",
    "####################\n",
    "\n",
    "mol_distance=np.zeros(number_of_points)\n",
    "coulomb_repulsion=np.zeros(number_of_points)\n",
    "electr_energy=np.zeros(number_of_points)\n",
    "\n",
    "for i in range(number_of_points):\n",
    "\n",
    "    \n",
    "    # %%%%%%%%%%%%% Coulomb Repulsion For Diatomic molecules %%%%%%%%%%%%%%%%%%%%%%\n",
    "        mol_distance=np.around((min_distance+(max_distance-min_distance)*i/(number_of_points-1)),2)\n",
    "        #print(mol_distance)\n",
    "        distance=mol_distance/0.529177\n",
    "        coulomb_repulsion[i]=Z1*Z2/distance\n",
    "        \n",
    "    # exact diagonalization\n",
    "        ham_text=molecule+'/PESMap'+str(i)+'atdistance'+str(mol_distance)+'.txt'\n",
    "        text_to_ham(ham_text)\n",
    "        eigen=la.eig(text_to_ham(ham_text))\n",
    "        electr_energy[i]=np.amin(eigen[0])\n",
    "        \n",
    "\n",
    "print(coulomb_repulsion)\n",
    "print(electr_energy+coulomb_repulsion)\n",
    "plt.plot(electr_energy+coulomb_repulsion)   \n",
    "        "
   ]
  },
  {
   "cell_type": "code",
   "execution_count": null,
   "metadata": {
    "collapsed": true
   },
   "outputs": [],
   "source": []
  },
  {
   "cell_type": "code",
   "execution_count": null,
   "metadata": {
    "collapsed": true
   },
   "outputs": [],
   "source": []
  }
 ],
 "metadata": {
  "anaconda-cloud": {},
  "kernelspec": {
   "display_name": "Python 3",
   "language": "python",
   "name": "python3"
  },
  "language_info": {
   "codemirror_mode": {
    "name": "ipython",
    "version": 3
   },
   "file_extension": ".py",
   "mimetype": "text/x-python",
   "name": "python",
   "nbconvert_exporter": "python",
   "pygments_lexer": "ipython3",
   "version": "3.6.1"
  }
 },
 "nbformat": 4,
 "nbformat_minor": 1
}
