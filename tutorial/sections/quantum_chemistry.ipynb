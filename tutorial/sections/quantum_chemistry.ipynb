{
 "cells": [
  {
   "cell_type": "markdown",
   "metadata": {},
   "source": [
    "<img src=\"../images/QISKit-c.gif\" alt=\"Note: In order for images to show up in this jupyter notebook you need to select File => Trusted Notebook\" width=\"250 px\" align=\"left\">"
   ]
  },
  {
   "cell_type": "markdown",
   "metadata": {},
   "source": [
    "## *Quantum_chemistry*\n",
    "\n"
   ]
  },
  {
   "cell_type": "markdown",
   "metadata": {},
   "source": [
    "## Introduction\n"
   ]
  },
  {
   "cell_type": "code",
   "execution_count": 1,
   "metadata": {},
   "outputs": [],
   "source": [
    "# Checking the version of PYTHON; we only support 3 at the moment\n",
    "import sys\n",
    "if sys.version_info < (3,0):\n",
    "    raise Exception(\"Please use Python version 3 or greater.\")\n",
    "    \n",
    "    \n",
    "# useful additional packages \n",
    "import matplotlib.pyplot as plt\n",
    "%matplotlib inline\n",
    "import numpy as np\n",
    "from scipy import linalg as la\n",
    "\n",
    "import sys\n",
    "sys.path.append(\"../../\")\n",
    "# importing the QISKit\n",
    "from qiskit import QuantumCircuit, QuantumProgram\n",
    "import Qconfig\n",
    "\n",
    "# import basic plot tools\n",
    "from qiskit.basicplotter import plot_histogram\n",
    "\n",
    "# import optimization tools\n",
    "from tools.optimizationtools import trial_circuit_pauli\n",
    "from tools.optimizationtools import cost_function, make_Hamiltonian, parse_hamiltonian_file\n",
    "#from tools.optimizationtools import funcx\n",
    "#from tools.optimizationtools import parse_hamiltonian_file\n",
    "#parse_hamiltonian_file('LiH6Qubits.txt')\n",
    "\n",
    "Hamtext=parse_hamiltonian_file(\"H2Equilibrium.txt\")"
   ]
  },
  {
   "cell_type": "code",
   "execution_count": 2,
   "metadata": {},
   "outputs": [],
   "source": [
    "# Set parameters \n",
    "n=2\n",
    "m=2 #depth (number of layers of sq gates - # entanglers is this number -1)\n",
    "device='local_qasm_simulatcvgbhbor'\n",
    "file_name='H2Equilibrium.txt'\n",
    "theta=np.zeros(2*n*m)\n",
    "entangler_map={0: [1]} # the map of two-qubit gates with control at key and target at values"
   ]
  },
  {
   "cell_type": "code",
   "execution_count": 3,
   "metadata": {},
   "outputs": [],
   "source": [
    "def eval_hamiltonian(n,m,theta,file_name,device):\n",
    "\n",
    "\n",
    "    ham_array=parse_hamiltonian_file(file_name);\n",
    "    \n",
    "    avg_energy=0\n",
    "    \n",
    "    i=0\n",
    "    while i<len(ham_array):\n",
    "        Q_program = QuantumProgram()\n",
    "        trial_circuit=trial_circuit_pauli(n,m,theta,entangler_map,ham_array[i])\n",
    "        Q_program.add_circuit('trial_circuit_label',trial_circuit)\n",
    "        Q_program.execute('trial_circuit_label', device, 1024)\n",
    "        Q_program.get_counts('trial_circuit_label')\n",
    "        print(Q_program.get_counts('trial_circuit_label'))\n",
    "        print(Q_program.get_qasm('trial_circuit_label'))\n",
    "        i+=2      \n",
    "        \n",
    "        #ADD COUNTS TO AVG_ENERGY\n",
    "    \n",
    "    \n",
    "    return avg_energy\n",
    "                         "
   ]
  },
  {
   "cell_type": "code",
   "execution_count": 4,
   "metadata": {},
   "outputs": [
    {
     "name": "stdout",
     "output_type": "stream",
     "text": [
      "{'status': 'Error', 'result': 'Error in circuit name'}\n",
      "OPENQASM 2.0;\n",
      "include \"qelib1.inc\";\n",
      "qreg q[2];\n",
      "creg c[2];\n",
      "h q[0];\n",
      "h q[1];\n",
      "barrier q[0],q[1];\n",
      "ry(0.000000000000000) q[0];\n",
      "ry(0.000000000000000) q[0];\n",
      "ry(0.000000000000000) q[1];\n",
      "ry(0.000000000000000) q[1];\n",
      "cz q[0],q[1];\n",
      "barrier q[0],q[1];\n",
      "ry(0.000000000000000) q[0];\n",
      "ry(0.000000000000000) q[0];\n",
      "ry(0.000000000000000) q[1];\n",
      "ry(0.000000000000000) q[1];\n",
      "cz q[0],q[1];\n",
      "measure q[0] -> c[0];\n",
      "measure q[1] -> c[1];\n",
      "\n",
      "{'status': 'Error', 'result': 'Error in circuit name'}\n",
      "OPENQASM 2.0;\n",
      "include \"qelib1.inc\";\n",
      "qreg q[2];\n",
      "creg c[2];\n",
      "h q[0];\n",
      "h q[1];\n",
      "barrier q[0],q[1];\n",
      "ry(0.000000000000000) q[0];\n",
      "ry(0.000000000000000) q[0];\n",
      "ry(0.000000000000000) q[1];\n",
      "ry(0.000000000000000) q[1];\n",
      "cz q[0],q[1];\n",
      "barrier q[0],q[1];\n",
      "ry(0.000000000000000) q[0];\n",
      "ry(0.000000000000000) q[0];\n",
      "ry(0.000000000000000) q[1];\n",
      "ry(0.000000000000000) q[1];\n",
      "cz q[0],q[1];\n",
      "measure q[0] -> c[0];\n",
      "measure q[1] -> c[1];\n",
      "\n",
      "{'status': 'Error', 'result': 'Error in circuit name'}\n",
      "OPENQASM 2.0;\n",
      "include \"qelib1.inc\";\n",
      "qreg q[2];\n",
      "creg c[2];\n",
      "h q[0];\n",
      "h q[1];\n",
      "barrier q[0],q[1];\n",
      "ry(0.000000000000000) q[0];\n",
      "ry(0.000000000000000) q[0];\n",
      "ry(0.000000000000000) q[1];\n",
      "ry(0.000000000000000) q[1];\n",
      "cz q[0],q[1];\n",
      "barrier q[0],q[1];\n",
      "ry(0.000000000000000) q[0];\n",
      "ry(0.000000000000000) q[0];\n",
      "ry(0.000000000000000) q[1];\n",
      "ry(0.000000000000000) q[1];\n",
      "cz q[0],q[1];\n",
      "measure q[0] -> c[0];\n",
      "measure q[1] -> c[1];\n",
      "\n",
      "{'status': 'Error', 'result': 'Error in circuit name'}\n",
      "OPENQASM 2.0;\n",
      "include \"qelib1.inc\";\n",
      "qreg q[2];\n",
      "creg c[2];\n",
      "h q[0];\n",
      "h q[1];\n",
      "barrier q[0],q[1];\n",
      "ry(0.000000000000000) q[0];\n",
      "ry(0.000000000000000) q[0];\n",
      "ry(0.000000000000000) q[1];\n",
      "ry(0.000000000000000) q[1];\n",
      "cz q[0],q[1];\n",
      "barrier q[0],q[1];\n",
      "ry(0.000000000000000) q[0];\n",
      "ry(0.000000000000000) q[0];\n",
      "ry(0.000000000000000) q[1];\n",
      "ry(0.000000000000000) q[1];\n",
      "cz q[0],q[1];\n",
      "measure q[0] -> c[0];\n",
      "measure q[1] -> c[1];\n",
      "\n",
      "{'status': 'Error', 'result': 'Error in circuit name'}\n",
      "OPENQASM 2.0;\n",
      "include \"qelib1.inc\";\n",
      "qreg q[2];\n",
      "creg c[2];\n",
      "h q[0];\n",
      "h q[1];\n",
      "barrier q[0],q[1];\n",
      "ry(0.000000000000000) q[0];\n",
      "ry(0.000000000000000) q[0];\n",
      "ry(0.000000000000000) q[1];\n",
      "ry(0.000000000000000) q[1];\n",
      "cz q[0],q[1];\n",
      "barrier q[0],q[1];\n",
      "ry(0.000000000000000) q[0];\n",
      "ry(0.000000000000000) q[0];\n",
      "ry(0.000000000000000) q[1];\n",
      "ry(0.000000000000000) q[1];\n",
      "cz q[0],q[1];\n",
      "ry(0.785398163397448) q[0];\n",
      "ry(0.785398163397448) q[1];\n",
      "measure q[0] -> c[0];\n",
      "measure q[1] -> c[1];\n",
      "\n"
     ]
    },
    {
     "data": {
      "text/plain": [
       "0"
      ]
     },
     "execution_count": 4,
     "metadata": {},
     "output_type": "execute_result"
    }
   ],
   "source": [
    "eval_hamiltonian(n,m,theta,'H2Equilibrium.txt',device)"
   ]
  },
  {
   "cell_type": "code",
   "execution_count": null,
   "metadata": {
    "collapsed": true
   },
   "outputs": [],
   "source": [
    "min_distance=.2\n",
    "max_distance=4\n",
    "number_of_points=39\n",
    "\n",
    "for i in range(number_of_points)\n",
    "\n",
    "    distance=min_distance\n",
    "    \n",
    "    # %%%%%%%%%%%%% Coulomb Repulsion For Diatomic molecules %%%%%%%%%%%%%%%%%%%%%%\n",
    "    \n",
    "        tempDCoulomb=tempD/0.529177;\n",
    "        \n",
    "        \n",
    "        \n",
    "        Z1=1;\n",
    "        Z2=1;\n",
    "        CoulombRepulsion{ii+1}=8.9876*10^9*Z1*Z2*(1.60217653*10^(-19))^2/tempDCoulomb/(5.29177249*10^(-11));\n",
    "        CoulombRepulsion{ii+1}=CoulombRepulsion{ii+1}*2.293710449e+17;\n",
    "        \n",
    "        \n",
    "        "
   ]
  },
  {
   "cell_type": "code",
   "execution_count": null,
   "metadata": {
    "collapsed": true
   },
   "outputs": [],
   "source": []
  }
 ],
 "metadata": {
  "anaconda-cloud": {},
  "kernelspec": {
   "display_name": "Python 3",
   "language": "python",
   "name": "python3"
  },
  "language_info": {
   "codemirror_mode": {
    "name": "ipython",
    "version": 3
   },
   "file_extension": ".py",
   "mimetype": "text/x-python",
   "name": "python",
   "nbconvert_exporter": "python",
   "pygments_lexer": "ipython3",
   "version": "3.6.1"
  }
 },
 "nbformat": 4,
 "nbformat_minor": 1
}
