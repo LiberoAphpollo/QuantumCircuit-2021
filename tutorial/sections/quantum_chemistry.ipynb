{
 "cells": [
  {
   "cell_type": "markdown",
   "metadata": {},
   "source": [
    "<img src=\"../images/QISKit-c.gif\" alt=\"Note: In order for images to show up in this jupyter notebook you need to select File => Trusted Notebook\" width=\"250 px\" align=\"left\">"
   ]
  },
  {
   "cell_type": "markdown",
   "metadata": {},
   "source": [
    "## *Quantum_chemistry*\n",
    "\n"
   ]
  },
  {
   "cell_type": "markdown",
   "metadata": {},
   "source": [
    "## Introduction\n"
   ]
  },
  {
   "cell_type": "code",
   "execution_count": 1,
   "metadata": {},
   "outputs": [],
   "source": [
    "# Checking the version of PYTHON; we only support 3 at the moment\n",
    "import sys\n",
    "if sys.version_info < (3,0):\n",
    "    raise Exception(\"Please use Python version 3 or greater.\")\n",
    "    \n",
    "    \n",
    "# useful additional packages \n",
    "import matplotlib.pyplot as plt\n",
    "%matplotlib inline\n",
    "import numpy as np\n",
    "from scipy import linalg as la\n",
    "import matplotlib.pyplot as plt\n",
    "\n",
    "import sys\n",
    "sys.path.append(\"../../\")\n",
    "# importing the QISKit\n",
    "from qiskit import QuantumCircuit, QuantumProgram\n",
    "import Qconfig\n",
    "import math\n",
    "\n",
    "# import basic plot tools\n",
    "from qiskit.basicplotter import plot_histogram\n",
    "\n",
    "# import optimization tools\n",
    "from tools.optimizationtools import trial_circuit_pauli,trial_funtion_optimization, SPSA_optimization\n",
    "from tools.optimizationtools import cost_function, make_Hamiltonian, parse_hamiltonian_file, text_to_ham\n",
    "from functools import partial\n",
    "\n",
    "\n",
    "Hamtext=parse_hamiltonian_file(\"H2Equilibrium.txt\")"
   ]
  },
  {
   "cell_type": "code",
   "execution_count": 2,
   "metadata": {
    "collapsed": true
   },
   "outputs": [],
   "source": [
    "def eval_hamiltonian(n,m,file_name,device,shots,theta):\n",
    "\n",
    "\n",
    "    ham_array=parse_hamiltonian_file(file_name);\n",
    "    \n",
    "    avg_energy=0\n",
    "    var_energy=0\n",
    "    std_energy=0\n",
    "    \n",
    "    \n",
    "    circuits=[]\n",
    "    trial_circuit=[]\n",
    "    \n",
    "    Q_program = QuantumProgram()\n",
    "    Q_program.set_api(Qconfig.APItoken,Qconfig.config[\"url\"])\n",
    "    \n",
    "    \n",
    "    # STACK QUANTUM CIRCUITS ASSOCIATED TO EACH PAULI TERM AND EXECUTE THEM \n",
    "    \n",
    "    for i in range(math.ceil(len(ham_array)/2)):     \n",
    "\n",
    "\n",
    "        trial_circuit.append(trial_circuit_pauli(n,m,theta,entangler_map,ham_array[i*2]))\n",
    "        circuits.append(\"trial_circuit_label\"+str(i))\n",
    "        Q_program.add_circuit(circuits[i],trial_circuit[i])\n",
    "        \n",
    "        \n",
    "    # EXECUTE THE CIRCUITS STACKED \n",
    "    Q_program.execute(circuits,device,shots)\n",
    "    \n",
    "    \n",
    "    # COMPUTE MEAN ENERGY AND STANDARD ERROR ASSOCIATED TO EACH PAULI TERM AND THEN SUM THEM INTO AVG_ENERGY\n",
    "    \n",
    "    pauli_energy=np.zeros(math.ceil(len(ham_array)/2))\n",
    "    pauli_var=np.zeros(math.ceil(len(ham_array)/2))\n",
    "\n",
    "    \n",
    "    for i in range(math.ceil(len(ham_array)/2)):#loop over Pauli terms\n",
    "       \n",
    "        countsloop=Q_program.get_counts(circuits[i])\n",
    "        #print(countsloop)\n",
    "        \n",
    "            \n",
    "        for j in countsloop:  #loop over counts of a Pauli measurement outcome\n",
    "            pauli_avg_count=float(ham_array[2*i+1])\n",
    "            for k in range(n):  # loop over qubits \n",
    "                \n",
    "                if ham_array[2*i][k]!='I' and j[(n-1)-k]==\"1\":\n",
    "                    pauli_avg_count=-pauli_avg_count # put minus sign on given counts of given Pauli\n",
    "            \n",
    "            pauli_energy[i]+=pauli_avg_count*countsloop[j]/shots\n",
    "           \n",
    "        for j in countsloop:  #loop over counts of a Pauli measurement outcome\n",
    "            pauli_avg_count=float(ham_array[2*i+1])\n",
    "            for k in range(n):  # loop over qubits \n",
    "                \n",
    "                if ham_array[2*i][k]!='I' and j[(n-1)-k]==\"1\":\n",
    "                    pauli_avg_count=-pauli_avg_count # put minus sign on given counts of given Pauli\n",
    "            \n",
    "            pauli_var[i]+=countsloop[j]*math.pow((pauli_avg_count-pauli_energy[i]),2)/(shots-1)\n",
    "        \n",
    "   \n",
    "\n",
    "    \n",
    "    for i in range(math.ceil(len(ham_array)/2)): \n",
    "        avg_energy+=pauli_energy[i]\n",
    "        var_energy+=pauli_var[i]\n",
    "        \n",
    "        \n",
    "    std_energy=np.sqrt(var_energy)/np.sqrt(shots)\n",
    "    \n",
    "    \n",
    "    \n",
    "    \n",
    "    \n",
    "    return avg_energy,std_energy\n",
    "                        "
   ]
  },
  {
   "cell_type": "markdown",
   "metadata": {},
   "source": [
    "## Optimization of H2 at bond length"
   ]
  },
  {
   "cell_type": "code",
   "execution_count": 33,
   "metadata": {},
   "outputs": [
    {
     "name": "stdout",
     "output_type": "stream",
     "text": [
      "running on backend: ibmqx2\n",
      "status = RUNNING (5 seconds)\n",
      "status = RUNNING (10 seconds)\n",
      "status = RUNNING (15 seconds)\n",
      "status = RUNNING (20 seconds)\n"
     ]
    },
    {
     "ename": "KeyboardInterrupt",
     "evalue": "",
     "output_type": "error",
     "traceback": [
      "\u001b[0;31m---------------------------------------------------------------------------\u001b[0m",
      "\u001b[0;31mKeyboardInterrupt\u001b[0m                         Traceback (most recent call last)",
      "\u001b[0;32m<ipython-input-33-d0fb892834b8>\u001b[0m in \u001b[0;36m<module>\u001b[0;34m()\u001b[0m\n\u001b[1;32m     15\u001b[0m \u001b[0;31m# Optimization\u001b[0m\u001b[0;34m\u001b[0m\u001b[0;34m\u001b[0m\u001b[0m\n\u001b[1;32m     16\u001b[0m \u001b[0meval_hamiltonian_partial\u001b[0m\u001b[0;34m=\u001b[0m\u001b[0mpartial\u001b[0m\u001b[0;34m(\u001b[0m\u001b[0meval_hamiltonian\u001b[0m\u001b[0;34m,\u001b[0m\u001b[0mn\u001b[0m\u001b[0;34m,\u001b[0m\u001b[0mm\u001b[0m\u001b[0;34m,\u001b[0m\u001b[0;34m'H2Equilibrium.txt'\u001b[0m\u001b[0;34m,\u001b[0m\u001b[0mdevice\u001b[0m\u001b[0;34m,\u001b[0m\u001b[0mshots\u001b[0m\u001b[0;34m)\u001b[0m\u001b[0;34m\u001b[0m\u001b[0m\n\u001b[0;32m---> 17\u001b[0;31m \u001b[0moutput\u001b[0m\u001b[0;34m=\u001b[0m\u001b[0mSPSA_optimization\u001b[0m\u001b[0;34m(\u001b[0m\u001b[0meval_hamiltonian_partial\u001b[0m\u001b[0;34m,\u001b[0m\u001b[0mtheta\u001b[0m\u001b[0;34m,\u001b[0m\u001b[0mSPSA_params\u001b[0m\u001b[0;34m,\u001b[0m\u001b[0mmax_trials\u001b[0m\u001b[0;34m)\u001b[0m\u001b[0;34m;\u001b[0m\u001b[0;34m\u001b[0m\u001b[0m\n\u001b[0m\u001b[1;32m     18\u001b[0m \u001b[0mplt\u001b[0m\u001b[0;34m.\u001b[0m\u001b[0mplot\u001b[0m\u001b[0;34m(\u001b[0m\u001b[0moutput\u001b[0m\u001b[0;34m[\u001b[0m\u001b[0;36m1\u001b[0m\u001b[0;34m]\u001b[0m\u001b[0;34m,\u001b[0m\u001b[0mlabel\u001b[0m\u001b[0;34m=\u001b[0m\u001b[0;34m'E(theta_plus)'\u001b[0m\u001b[0;34m)\u001b[0m\u001b[0;34m\u001b[0m\u001b[0m\n\u001b[1;32m     19\u001b[0m \u001b[0mplt\u001b[0m\u001b[0;34m.\u001b[0m\u001b[0mplot\u001b[0m\u001b[0;34m(\u001b[0m\u001b[0moutput\u001b[0m\u001b[0;34m[\u001b[0m\u001b[0;36m2\u001b[0m\u001b[0;34m]\u001b[0m\u001b[0;34m,\u001b[0m\u001b[0mlabel\u001b[0m\u001b[0;34m=\u001b[0m\u001b[0;34m'E(theta_minus)'\u001b[0m\u001b[0;34m)\u001b[0m\u001b[0;34m\u001b[0m\u001b[0m\n",
      "\u001b[0;32m/Users/amezzac/GitHub/qiskit-sdk-py-dev/tools/optimizationtools.py\u001b[0m in \u001b[0;36mSPSA_optimization\u001b[0;34m(obj_fun, initial_theta, SPSA_parameters, max_trials)\u001b[0m\n\u001b[1;32m    267\u001b[0m         \u001b[0mtheta_minus\u001b[0m\u001b[0;34m.\u001b[0m\u001b[0mappend\u001b[0m\u001b[0;34m(\u001b[0m\u001b[0mtheta\u001b[0m\u001b[0;34m[\u001b[0m\u001b[0mk\u001b[0m\u001b[0;34m]\u001b[0m\u001b[0;34m-\u001b[0m\u001b[0mc_spsa\u001b[0m\u001b[0;34m*\u001b[0m\u001b[0mDelta\u001b[0m\u001b[0;34m)\u001b[0m\u001b[0;34m\u001b[0m\u001b[0m\n\u001b[1;32m    268\u001b[0m \u001b[0;34m\u001b[0m\u001b[0m\n\u001b[0;32m--> 269\u001b[0;31m         \u001b[0mcost_plus\u001b[0m\u001b[0;34m.\u001b[0m\u001b[0mappend\u001b[0m\u001b[0;34m(\u001b[0m\u001b[0mobj_fun\u001b[0m\u001b[0;34m(\u001b[0m\u001b[0mtheta_plus\u001b[0m\u001b[0;34m[\u001b[0m\u001b[0mk\u001b[0m\u001b[0;34m]\u001b[0m\u001b[0;34m)\u001b[0m\u001b[0;34m[\u001b[0m\u001b[0;36m0\u001b[0m\u001b[0;34m]\u001b[0m\u001b[0;34m)\u001b[0m\u001b[0;34m\u001b[0m\u001b[0m\n\u001b[0m\u001b[1;32m    270\u001b[0m         \u001b[0mcost_minus\u001b[0m\u001b[0;34m.\u001b[0m\u001b[0mappend\u001b[0m\u001b[0;34m(\u001b[0m\u001b[0mobj_fun\u001b[0m\u001b[0;34m(\u001b[0m\u001b[0mtheta_minus\u001b[0m\u001b[0;34m[\u001b[0m\u001b[0mk\u001b[0m\u001b[0;34m]\u001b[0m\u001b[0;34m)\u001b[0m\u001b[0;34m[\u001b[0m\u001b[0;36m0\u001b[0m\u001b[0;34m]\u001b[0m\u001b[0;34m)\u001b[0m\u001b[0;34m\u001b[0m\u001b[0m\n\u001b[1;32m    271\u001b[0m \u001b[0;34m\u001b[0m\u001b[0m\n",
      "\u001b[0;32m<ipython-input-2-c3a8d1ebd185>\u001b[0m in \u001b[0;36meval_hamiltonian\u001b[0;34m(n, m, file_name, device, shots, theta)\u001b[0m\n\u001b[1;32m     27\u001b[0m \u001b[0;34m\u001b[0m\u001b[0m\n\u001b[1;32m     28\u001b[0m     \u001b[0;31m# EXECUTE THE CIRCUITS STACKED\u001b[0m\u001b[0;34m\u001b[0m\u001b[0;34m\u001b[0m\u001b[0m\n\u001b[0;32m---> 29\u001b[0;31m     \u001b[0mQ_program\u001b[0m\u001b[0;34m.\u001b[0m\u001b[0mexecute\u001b[0m\u001b[0;34m(\u001b[0m\u001b[0mcircuits\u001b[0m\u001b[0;34m,\u001b[0m\u001b[0mdevice\u001b[0m\u001b[0;34m,\u001b[0m\u001b[0mshots\u001b[0m\u001b[0;34m)\u001b[0m\u001b[0;34m\u001b[0m\u001b[0m\n\u001b[0m\u001b[1;32m     30\u001b[0m \u001b[0;34m\u001b[0m\u001b[0m\n\u001b[1;32m     31\u001b[0m \u001b[0;34m\u001b[0m\u001b[0m\n",
      "\u001b[0;32m/Users/amezzac/GitHub/qiskit-sdk-py-dev/qiskit/_quantumprogram.py\u001b[0m in \u001b[0;36mexecute\u001b[0;34m(self, name_of_circuits, device, shots, max_credits, wait, timeout, basis_gates, coupling_map, seed)\u001b[0m\n\u001b[1;32m    637\u001b[0m         self.compile(name_of_circuits, device, shots, max_credits,\n\u001b[1;32m    638\u001b[0m                      basis_gates, coupling_map, seed)\n\u001b[0;32m--> 639\u001b[0;31m         \u001b[0moutput\u001b[0m \u001b[0;34m=\u001b[0m \u001b[0mself\u001b[0m\u001b[0;34m.\u001b[0m\u001b[0mrun\u001b[0m\u001b[0;34m(\u001b[0m\u001b[0mwait\u001b[0m\u001b[0;34m,\u001b[0m \u001b[0mtimeout\u001b[0m\u001b[0;34m)\u001b[0m\u001b[0;34m\u001b[0m\u001b[0m\n\u001b[0m\u001b[1;32m    640\u001b[0m         \u001b[0;32mreturn\u001b[0m \u001b[0moutput\u001b[0m\u001b[0;34m\u001b[0m\u001b[0m\n\u001b[1;32m    641\u001b[0m \u001b[0;34m\u001b[0m\u001b[0m\n",
      "\u001b[0;32m/Users/amezzac/GitHub/qiskit-sdk-py-dev/qiskit/_quantumprogram.py\u001b[0m in \u001b[0;36mrun\u001b[0;34m(self, wait, timeout)\u001b[0m\n\u001b[1;32m    501\u001b[0m                     \u001b[0mself\u001b[0m\u001b[0;34m.\u001b[0m\u001b[0m__to_execute\u001b[0m \u001b[0;34m=\u001b[0m \u001b[0;34m{\u001b[0m\u001b[0;34m}\u001b[0m\u001b[0;34m\u001b[0m\u001b[0m\n\u001b[1;32m    502\u001b[0m                     \u001b[0;32mreturn\u001b[0m \u001b[0;34m{\u001b[0m\u001b[0;34m\"status\"\u001b[0m\u001b[0;34m:\u001b[0m \u001b[0;34m\"Error\"\u001b[0m\u001b[0;34m,\u001b[0m \u001b[0;34m\"result\"\u001b[0m\u001b[0;34m:\u001b[0m \u001b[0moutput\u001b[0m\u001b[0;34m[\u001b[0m\u001b[0;34m'error'\u001b[0m\u001b[0;34m]\u001b[0m\u001b[0;34m}\u001b[0m\u001b[0;34m\u001b[0m\u001b[0m\n\u001b[0;32m--> 503\u001b[0;31m                 \u001b[0mjob_result\u001b[0m \u001b[0;34m=\u001b[0m \u001b[0mself\u001b[0m\u001b[0;34m.\u001b[0m\u001b[0mwait_for_job\u001b[0m\u001b[0;34m(\u001b[0m\u001b[0moutput\u001b[0m\u001b[0;34m[\u001b[0m\u001b[0;34m'id'\u001b[0m\u001b[0;34m]\u001b[0m\u001b[0;34m,\u001b[0m \u001b[0mwait\u001b[0m\u001b[0;34m=\u001b[0m\u001b[0mwait\u001b[0m\u001b[0;34m,\u001b[0m \u001b[0mtimeout\u001b[0m\u001b[0;34m=\u001b[0m\u001b[0mtimeout\u001b[0m\u001b[0;34m)\u001b[0m\u001b[0;34m\u001b[0m\u001b[0m\n\u001b[0m\u001b[1;32m    504\u001b[0m \u001b[0;34m\u001b[0m\u001b[0m\n\u001b[1;32m    505\u001b[0m                 \u001b[0;32mif\u001b[0m \u001b[0mjob_result\u001b[0m\u001b[0;34m[\u001b[0m\u001b[0;34m'status'\u001b[0m\u001b[0;34m]\u001b[0m \u001b[0;34m==\u001b[0m \u001b[0;34m'Error'\u001b[0m\u001b[0;34m:\u001b[0m\u001b[0;34m\u001b[0m\u001b[0m\n",
      "\u001b[0;32m/Users/amezzac/GitHub/qiskit-sdk-py-dev/qiskit/_quantumprogram.py\u001b[0m in \u001b[0;36mwait_for_job\u001b[0;34m(self, jobid, wait, timeout)\u001b[0m\n\u001b[1;32m    565\u001b[0m             \u001b[0;32mif\u001b[0m \u001b[0mtimer\u001b[0m \u001b[0;34m==\u001b[0m \u001b[0mtimeout\u001b[0m\u001b[0;34m:\u001b[0m\u001b[0;34m\u001b[0m\u001b[0m\n\u001b[1;32m    566\u001b[0m                 \u001b[0;32mreturn\u001b[0m \u001b[0;34m{\u001b[0m\u001b[0;34m\"status\"\u001b[0m\u001b[0;34m:\u001b[0m \u001b[0;34m\"Error\"\u001b[0m\u001b[0;34m,\u001b[0m \u001b[0;34m\"result\"\u001b[0m\u001b[0;34m:\u001b[0m \u001b[0;34m\"Time Out\"\u001b[0m\u001b[0;34m}\u001b[0m\u001b[0;34m\u001b[0m\u001b[0m\n\u001b[0;32m--> 567\u001b[0;31m             \u001b[0mtime\u001b[0m\u001b[0;34m.\u001b[0m\u001b[0msleep\u001b[0m\u001b[0;34m(\u001b[0m\u001b[0mwait\u001b[0m\u001b[0;34m)\u001b[0m\u001b[0;34m\u001b[0m\u001b[0m\n\u001b[0m\u001b[1;32m    568\u001b[0m             \u001b[0mtimer\u001b[0m \u001b[0;34m+=\u001b[0m \u001b[0mwait\u001b[0m\u001b[0;34m\u001b[0m\u001b[0m\n\u001b[1;32m    569\u001b[0m             \u001b[0mprint\u001b[0m\u001b[0;34m(\u001b[0m\u001b[0;34m\"status = %s (%d seconds)\"\u001b[0m \u001b[0;34m%\u001b[0m \u001b[0;34m(\u001b[0m\u001b[0mjob\u001b[0m\u001b[0;34m[\u001b[0m\u001b[0;34m'status'\u001b[0m\u001b[0;34m]\u001b[0m\u001b[0;34m,\u001b[0m \u001b[0mtimer\u001b[0m\u001b[0;34m)\u001b[0m\u001b[0;34m)\u001b[0m\u001b[0;34m\u001b[0m\u001b[0m\n",
      "\u001b[0;31mKeyboardInterrupt\u001b[0m: "
     ]
    }
   ],
   "source": [
    "n=2\n",
    "m=2\n",
    "device='ibmqx2'\n",
    "SPSA_params=[1,.1,.602,.101,0]\n",
    "theta=np.zeros(2*n*m)\n",
    "entangler_map={0: [1]} # the map of two-qubit gates with control at key and target at values\n",
    "shots=1000\n",
    "max_trials=35\n",
    "\n",
    "#Exact Energy\n",
    "text_to_ham('H2Equilibrium.txt')\n",
    "eigen=la.eig(text_to_ham('H2Equilibrium.txt'))\n",
    "exact=np.amin(eigen[0])\n",
    "        \n",
    "# Optimization\n",
    "eval_hamiltonian_partial=partial(eval_hamiltonian,n,m,'H2Equilibrium.txt',device,shots)\n",
    "output=SPSA_optimization(eval_hamiltonian_partial,theta,SPSA_params,max_trials);\n",
    "plt.plot(output[1],label='E(theta_plus)')\n",
    "plt.plot(output[2],label='E(theta_minus)')\n",
    "plt.plot(np.ones(max_trials)*output[0],label='Final Energy')\n",
    "plt.plot(np.ones(max_trials)*exact,label='Exact Energy')\n",
    "plt.legend()"
   ]
  },
  {
   "cell_type": "markdown",
   "metadata": {},
   "source": [
    "## Optimizing the potential energy surface "
   ]
  },
  {
   "cell_type": "code",
   "execution_count": 24,
   "metadata": {},
   "outputs": [
    {
     "name": "stderr",
     "output_type": "stream",
     "text": [
      "/Users/amezzac/anaconda/lib/python3.6/site-packages/ipykernel_launcher.py:56: ComplexWarning: Casting complex values to real discards the imaginary part\n"
     ]
    },
    {
     "data": {
      "text/plain": [
       "<matplotlib.legend.Legend at 0x114f61fd0>"
      ]
     },
     "execution_count": 24,
     "metadata": {},
     "output_type": "execute_result"
    },
    {
     "data": {
      "image/png": "[encoded data removed]",
      "text/plain": [
       "<matplotlib.figure.Figure at 0x1153fa668>"
      ]
     },
     "metadata": {},
     "output_type": "display_data"
    }
   ],
   "source": [
    "# MOLECULE PARAMETERS\n",
    "\n",
    "molecule='LiH' #name of the molecule: options are H2 or LiH\n",
    "\n",
    "if molecule=='H2':\n",
    "    n=2 # qubits\n",
    "    Z1=1\n",
    "    Z2=1\n",
    "    min_distance=.2\n",
    "    max_distance=4\n",
    "    number_of_points=39\n",
    "elif molecule=='LiH':\n",
    "    n=4 # qubits\n",
    "    Z1=1\n",
    "    Z2=3\n",
    "    min_distance=.5\n",
    "    max_distance=5\n",
    "    number_of_points=46\n",
    "    \n",
    "    \n",
    "# OPTIMIZATION PARAMETERS \n",
    "\n",
    "run_optimization='No' # Choose 'Yes' or 'No'\n",
    "\n",
    "m=2 # depth (number of layers of sq gates - # entanglers is this number -1)\n",
    "device='local_qasm_simulator'\n",
    "theta=np.zeros(2*n*m)  # initial angles \n",
    "entangler_map={0: [1]} # the map of two-qubit gates with control at key and target at values\n",
    "shots=1000\n",
    "max_trials=1\n",
    "SPSA_params=[1,.1,.602,.101,0]\n",
    "\n",
    "\n",
    "\n",
    "####################     COMPUTING FOR THE POTENTIAL ENERGY SURFACE      ###################\n",
    "\n",
    "mol_distance=np.zeros(number_of_points)\n",
    "coulomb_repulsion=np.zeros(number_of_points)\n",
    "electr_energy=np.zeros(number_of_points)\n",
    "electr_energy_optimized=np.zeros(number_of_points)\n",
    "\n",
    "for i in range(number_of_points):\n",
    "\n",
    "    \n",
    "    # %%%%%%%%%%%%% Coulomb Repulsion For Diatomic molecules %%%%%%%%%%%%%%%%%%%%%%\n",
    "        mol_distance[i]=np.around((min_distance+(max_distance-min_distance)*i/(number_of_points-1)),2)\n",
    "        #print(mol_distance)\n",
    "        distance=mol_distance[i]/0.529177\n",
    "        coulomb_repulsion[i]=Z1*Z2/distance\n",
    "        \n",
    "    # exact diagonalization\n",
    "        ham_text=molecule+'/PESMap'+str(i)+'atdistance'+str(mol_distance[i])+'.txt'\n",
    "        text_to_ham(ham_text)\n",
    "        eigen=la.eig(text_to_ham(ham_text))\n",
    "        electr_energy[i]=np.amin(eigen[0])\n",
    "        \n",
    "    # optimization\n",
    "    \n",
    "        if run_optimization=='Yes':\n",
    "            print('\\nOPTIMIZING HAMILTONIAN # '+str(i)+' AT INTERATOMIC DISTANCE '+str(mol_distance)+' ANGSTROM\\n')\n",
    "            eval_hamiltonian_partial=partial(eval_hamiltonian,n,m,ham_text,device,shots)\n",
    "            electr_energy_optimized[i]=SPSA_optimization(eval_hamiltonian_partial,theta,SPSA_params,max_trials)[0]\n",
    "            plt.plot(electr_energy_optimized+coulomb_repulsion,label='Optimized') \n",
    "\n",
    "\n",
    "plt.plot(mol_distance,electr_energy+coulomb_repulsion,label='Exact')\n",
    "plt.xlabel('Atomic distance (Angstrom)')\n",
    "plt.ylabel('Energy')\n",
    "plt.legend()\n",
    "        "
   ]
  },
  {
   "cell_type": "code",
   "execution_count": null,
   "metadata": {
    "collapsed": true
   },
   "outputs": [],
   "source": []
  }
 ],
 "metadata": {
  "anaconda-cloud": {},
  "kernelspec": {
   "display_name": "Python 3",
   "language": "python",
   "name": "python3"
  },
  "language_info": {
   "codemirror_mode": {
    "name": "ipython",
    "version": 3
   },
   "file_extension": ".py",
   "mimetype": "text/x-python",
   "name": "python",
   "nbconvert_exporter": "python",
   "pygments_lexer": "ipython3",
   "version": "3.6.1"
  }
 },
 "nbformat": 4,
 "nbformat_minor": 1
}
