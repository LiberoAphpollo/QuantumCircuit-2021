{
 "cells": [
  {
   "cell_type": "markdown",
   "metadata": {},
   "source": [
    "<img src=\"../images/QISKit-c.gif\" alt=\"Note: In order for images to show up in this jupyter notebook you need to select File => Trusted Notebook\" width=\"250 px\" align=\"left\">"
   ]
  },
  {
   "cell_type": "markdown",
   "metadata": {},
   "source": [
    "## _*Quantum Teleportation*_ \n",
    "\n",
    "The latest version of this notebook is available on https://github.com/IBM/qiskit-sdk-py/tree/master/scripts.\n",
    "\n",
    "For more information about how to use the IBM Q experience (QX), consult the [IBM Q experience tutorials](https://quantumexperience.ng.bluemix.net/qstage/#/tutorial?sectionId=c59b3710b928891a1420190148a72cce&pageIndex=0), or check out the [community](https://quantumexperience.ng.bluemix.net/qstage/#/community).\n",
    "***\n",
    "### Contributor\n",
    "Anna Phan"
   ]
  },
  {
   "cell_type": "markdown",
   "metadata": {},
   "source": [
    "## Introduction\n",
    "\n",
    "Quantum teleportation is a protocol to transmit quantum states from one location to another, assisted by previously shared entangled states and a classical communication channel. It was devised by Charles H. Bennett (IBM), Gilles Brassard, Claude Crépeau, Richard Jozsa, Asher Peres and William K. Wootters in [1993](https://journals.aps.org/prl/abstract/10.1103/PhysRevLett.70.1895). It was first demonstrated with photons in [1997](http://www.nature.com/nature/journal/v390/n6660/abs/390575a0.html), and has since been realised in [atoms](http://www.nature.com/nphys/journal/v9/n7/abs/nphys2631.html), [ions](http://www.nature.com/nature/journal/v429/n6993/full/nature02570.html, http://www.nature.com/nature/journal/v429/n6993/full/nature02608.html), [electrons](http://science.sciencemag.org/content/345/6196/532) and [superconducting circuits](http://www.nature.com/nature/journal/v500/n7462/full/nature12422.html). The [record](http://www.nature.com/nature/journal/v489/n7415/full/nature11472.html) distance for quantum teleportation is 143km in 2012 via satellite."
   ]
  },
  {
   "cell_type": "markdown",
   "metadata": {},
   "source": [
    "The protocol starts out with a shared entangled state between the sender (Alice) and the receiver (Bob):\n",
    "$$|\\psi\\rangle_{AB} = \\frac{1}{\\sqrt{2}}(|0\\rangle_A \\otimes |0\\rangle_B + |1\\rangle_A \\otimes |1\\rangle_B)$$\n",
    "The first qubit, denoted by subscript $A$, belongs to Alice and the second qubit, $B$, belongs to Bob."
   ]
  },
  {
   "cell_type": "markdown",
   "metadata": {},
   "source": [
    "Alice has a quantum state, that she wants to convey to Bob:\n",
    "$$|\\psi\\rangle_{C} = \\alpha|0\\rangle_C + \\beta|1\\rangle_C$$"
   ]
  },
  {
   "cell_type": "markdown",
   "metadata": {},
   "source": [
    "At this point, Alice has two quantum states ($C$, the one she wants to teleport, and $A$, one of the entangled pair), and Bob has one quantum state. The total state of the system is given by:\n",
    "$$|\\psi\\rangle_{AB} \\otimes |\\psi\\rangle_C = \\frac{1}{\\sqrt{2}}(|0\\rangle_A \\otimes |0\\rangle_B + |1\\rangle_A \\otimes |1\\rangle_B) \\otimes (\\alpha|0_C\\rangle + \\beta|1_C\\rangle)$$\n",
    "or, in the Bell basis:\n",
    "$$|\\psi\\rangle_{AB} \\otimes |\\psi\\rangle_C = \\frac{1}{2}[\n",
    "|\\Phi^+\\rangle_{AC}\\otimes(\\alpha|0\\rangle_B + \\beta|1\\rangle_B) + \n",
    "|\\Phi^-\\rangle_{AC}\\otimes(\\alpha|0\\rangle_B - \\beta|1\\rangle_B) + \\\\\n",
    "|\\Psi^+\\rangle_{AC}\\otimes(\\alpha|0\\rangle_B + \\beta|1\\rangle_B) + \n",
    "|\\Psi^-\\rangle_{AC}\\otimes(\\alpha|0\\rangle_B - \\beta|1\\rangle_B) ]$$\n",
    "where:\n",
    "$$|0\\rangle \\otimes |0\\rangle = \\frac{1}{\\sqrt{2}}(|\\Phi^+\\rangle + |\\Phi^-\\rangle), \n",
    "|0\\rangle \\otimes |1\\rangle = \\frac{1}{\\sqrt{2}}(|\\Psi^+\\rangle + |\\Psi^-\\rangle)\\\\\n",
    "|1\\rangle \\otimes |0\\rangle = \\frac{1}{\\sqrt{2}}(|\\Psi^+\\rangle - |\\Psi^-\\rangle), \n",
    "|1\\rangle \\otimes |1\\rangle = \\frac{1}{\\sqrt{2}}(|\\Phi^+\\rangle - |\\Phi^-\\rangle)$$"
   ]
  },
  {
   "cell_type": "markdown",
   "metadata": {},
   "source": [
    "Alice now measures the her two quantum states, $A$ and $C$ in the Bell basis. This will collapse the three state system into the one of the following four states with equal probability:\n",
    "- $|\\Phi^+\\rangle_{AC}\\otimes(\\alpha|0\\rangle_B + \\beta|1\\rangle_B)$\n",
    "- $|\\Phi^-\\rangle_{AC}\\otimes(\\alpha|0\\rangle_B - \\beta|1\\rangle_B)$\n",
    "- $|\\Psi^+\\rangle_{AC}\\otimes(\\alpha|0\\rangle_B + \\beta|1\\rangle_B)$ \n",
    "- $|\\Psi^-\\rangle_{AC}\\otimes(\\alpha|0\\rangle_B - \\beta|1\\rangle_B)$"
   ]
  },
  {
   "cell_type": "markdown",
   "metadata": {},
   "source": [
    "Alice's two states are now entangled to each other, and the entanglement originally shared between Alice's and Bob's states is now broken. Note how Bob's qubit is now in a state that resembles the state to be teleported. \n",
    "\n",
    "The result of Alice's measurement tells her which of the above four states the system is in, $|\\Phi^+\\rangle_{AC}, |\\Phi^-\\rangle_{AC}, |\\Psi^-\\rangle_{AC}$ or $|\\Psi^-\\rangle_{AC}$. She now sends her result to Bob through a classical channel. Two classical bits can communicate which of the four results she obtained."
   ]
  },
  {
   "cell_type": "markdown",
   "metadata": {},
   "source": [
    "After Bob receives the message from Alice, he will know which of the four states his particle is in. Using this information, he performs a unitary operation on his particle to transform it to the desired state $\\alpha|0\\rangle_B - \\beta|1\\rangle_B$:\n",
    "- If he receives $|\\Phi^+\\rangle_{AC}$: Bob applies $I = \\begin{bmatrix} 1 & 0 \\\\ 0 & 1 \\end{bmatrix}$ to his quantum state. \n",
    "- If he receives $|\\Phi^-\\rangle_{AC}$: Bob applies $X = \\begin{bmatrix} 0 & 1 \\\\ 1 & 0 \\end{bmatrix}$ to his quantum state. \n",
    "- If he receives $|\\Psi^+\\rangle_{AC}$: Bob applies $Z = \\begin{bmatrix} 1 & 0 \\\\ 0 & -1 \\end{bmatrix}$ to his quantum state. \n",
    "- If he receives $|\\Psi^-\\rangle_{AC}$: Bob applies $XZ = \\begin{bmatrix} 0 & -1 \\\\ 1 & 0 \\end{bmatrix}$ to his quantum state. "
   ]
  },
  {
   "cell_type": "markdown",
   "metadata": {},
   "source": [
    "Teleportation of $|\\psi\\rangle = \\alpha|0\\rangle + \\beta|1\\rangle$ is thus achieved. "
   ]
  },
  {
   "cell_type": "markdown",
   "metadata": {},
   "source": [
    "## Implementation\n",
    "The first step is to import the required packages to run the Quantum Experience and set up our quantum program."
   ]
  },
  {
   "cell_type": "code",
   "execution_count": 9,
   "metadata": {},
   "outputs": [
    {
     "data": {
      "text/plain": [
       "True"
      ]
     },
     "execution_count": 9,
     "metadata": {},
     "output_type": "execute_result"
    }
   ],
   "source": [
    "# Checking the version of Python; the Quantum Experience currently only supports version 3\n",
    "import sys\n",
    "if sys.version_info < (3,0):\n",
    "    raise Exception(\"Please use Python version 3 or greater.\")\n",
    "\n",
    "import numpy as np\n",
    "\n",
    "\n",
    "# Importing QISKit\n",
    "import sys\n",
    "sys.path.append(\"../../\")\n",
    "from qiskit import QuantumCircuit, QuantumProgram\n",
    "import Qconfig\n",
    "\n",
    "# Import basic plotting tools\n",
    "from qiskit.basicplotter import plot_histogram\n",
    "\n",
    "# Quantum program setup \n",
    "Q_program = QuantumProgram()\n",
    "Q_program.set_api(Qconfig.APItoken, Qconfig.config[\"url\"]) # set the APIToken and API url"
   ]
  },
  {
   "cell_type": "markdown",
   "metadata": {},
   "source": [
    "Recall from [superposition and entanglement](superposition_and_entanglement.ipynb) and [entanglement revisited](entanglement_revisited.ipynb), the steps to make the shared entangled state $|\\psi\\rangle = \\frac{1}{\\sqrt{2}}(|0_A 0_B\\rangle + |1_A 1_B\\rangle)$ are:\n",
    "1. Start with an initial state $|0_A 0_B\\rangle$\n",
    "2. Apply $H = \\frac{1}{\\sqrt{2}}\\begin{pmatrix} 1 & 1 \\\\ 1 & -1 \\end{pmatrix}$ on $q_A$ \n",
    "3. Then a $CNOT = \\begin{pmatrix} 1 & 0 & 0 & 0\\\\ 0 & 0 & 0 & 1\\\\0& 0& 1 & 0\\\\0 & 1 & 0 & 0 \\end{pmatrix}$ from $q_A$ to $q_B$\n",
    "\n",
    "With $q_A = q_1$ and $q_B = q_2$, this looks like::"
   ]
  },
  {
   "cell_type": "code",
   "execution_count": 21,
   "metadata": {},
   "outputs": [
    {
     "name": "stdout",
     "output_type": "stream",
     "text": [
      ">> quantum_registers created: q 3\n",
      ">> classical_registers created: c0 1\n",
      ">> classical_registers created: c1 1\n",
      ">> classical_registers created: c2 1\n"
     ]
    },
    {
     "data": {
      "text/plain": [
       "<qiskit.extensions.standard.cx.CnotGate at 0x1157efe48>"
      ]
     },
     "execution_count": 21,
     "metadata": {},
     "output_type": "execute_result"
    }
   ],
   "source": [
    "# Creating registers\n",
    "q = Q_program.create_quantum_registers(\"q\", 3)\n",
    "c0 = Q_program.create_classical_registers(\"c0\", 1)\n",
    "c1 = Q_program.create_classical_registers(\"c1\", 1)\n",
    "c2 = Q_program.create_classical_registers(\"c2\", 1)\n",
    "\n",
    "# Quantum circuit to make the shared entangled state \n",
    "teleport = Q_program.create_circuit(\"teleport\", [\"q\"], [\"c0\",\"c1\",\"c2\"])\n",
    "teleport.h(q[1])\n",
    "teleport.cx(q[1], q[2])"
   ]
  },
  {
   "cell_type": "markdown",
   "metadata": {},
   "source": [
    "Alice then prepares her quantum state to be teleported, $|\\psi\\rangle_{C} = \\alpha|0\\rangle_C + \\beta|1\\rangle_C$. In this experiment, $\\alpha = \\cos(\\frac{\\theta}{2})$ and $\\beta = \\sin(\\frac{\\theta}{2})$ where $\\theta = \\frac{\\pi}{4}$. This state can be created by applying a rotation around the y axis:\n",
    "$R_y(\\theta) = \\frac{1}{\\sqrt{2}}\\begin{bmatrix} 1 & 1 \\\\ 1 & -1 \\end{bmatrix}$ on $q_C$\n",
    "\n",
    "With $q_C = q_0$, this looks like:"
   ]
  },
  {
   "cell_type": "code",
   "execution_count": 22,
   "metadata": {},
   "outputs": [
    {
     "data": {
      "text/plain": [
       "<qiskit.extensions.standard.ry.RYGate at 0x11594c080>"
      ]
     },
     "execution_count": 22,
     "metadata": {},
     "output_type": "execute_result"
    }
   ],
   "source": [
    "teleport.ry(np.pi/4,q[0])"
   ]
  },
  {
   "cell_type": "markdown",
   "metadata": {},
   "source": [
    "Alice now applies $CNOT$ to her two quantum states $q_A(q_1)$ and $q_C(q_0)$, followed by an H, to entangle them and project them into the Bell basis:"
   ]
  },
  {
   "cell_type": "code",
   "execution_count": 23,
   "metadata": {},
   "outputs": [
    {
     "data": {
      "text/plain": [
       "<qiskit.extensions.standard.barrier.Barrier at 0x1159580b8>"
      ]
     },
     "execution_count": 23,
     "metadata": {},
     "output_type": "execute_result"
    }
   ],
   "source": [
    "teleport.cx(q[0], q[1])\n",
    "teleport.h(q[0])\n",
    "teleport.barrier()"
   ]
  },
  {
   "cell_type": "markdown",
   "metadata": {},
   "source": [
    "She now measures her two quantum states $q_A(q_1)$ and $q_C(q_0)$:"
   ]
  },
  {
   "cell_type": "code",
   "execution_count": 24,
   "metadata": {},
   "outputs": [
    {
     "name": "stdout",
     "output_type": "stream",
     "text": [
      "OPENQASM 2.0;\n",
      "include \"qelib1.inc\";\n",
      "qreg q[3];\n",
      "creg c0[1];\n",
      "creg c1[1];\n",
      "creg c2[1];\n",
      "h q[1];\n",
      "cx q[1],q[2];\n",
      "ry(0.785398163397448) q[0];\n",
      "cx q[0],q[1];\n",
      "h q[0];\n",
      "barrier q[0],q[1],q[2];\n",
      "measure q[0] -> c0[0];\n",
      "measure q[1] -> c1[0];\n",
      "\n"
     ]
    }
   ],
   "source": [
    "teleport.measure(q[0], c0[0])\n",
    "teleport.measure(q[1], c1[0])\n",
    "\n",
    "circuits = [\"teleport\"]\n",
    "print(Q_program.get_qasms(circuits)[0])"
   ]
  },
  {
   "cell_type": "markdown",
   "metadata": {},
   "source": [
    "Depending on the results of these measurements, Bob has to apply an $X$ or $Z$ or both to his quantum state $q_B(q_2)$:"
   ]
  },
  {
   "cell_type": "code",
   "execution_count": 25,
   "metadata": {},
   "outputs": [
    {
     "data": {
      "text/plain": [
       "<qiskit.extensions.standard.x.XGate at 0x115958588>"
      ]
     },
     "execution_count": 25,
     "metadata": {},
     "output_type": "execute_result"
    }
   ],
   "source": [
    "teleport.z(q[2]).c_if(c0, 1)\n",
    "teleport.x(q[2]).c_if(c1, 1)"
   ]
  },
  {
   "cell_type": "markdown",
   "metadata": {},
   "source": [
    "His state is now the same as the state Alice prepared earlier, which can be verified by measurement:"
   ]
  },
  {
   "cell_type": "code",
   "execution_count": 26,
   "metadata": {},
   "outputs": [
    {
     "data": {
      "text/plain": [
       "<qiskit._measure.Measure at 0x11594ca58>"
      ]
     },
     "execution_count": 26,
     "metadata": {},
     "output_type": "execute_result"
    }
   ],
   "source": [
    "teleport.measure(q[2], c2[0])"
   ]
  },
  {
   "cell_type": "markdown",
   "metadata": {},
   "source": [
    "Let's now create, execute the quantum circuits on the simulator (there is currently an [issue](https://github.com/IBM/qiskit-sdk-py/issues/2) running this code on the real device), and plot the results:"
   ]
  },
  {
   "cell_type": "code",
   "execution_count": 28,
   "metadata": {},
   "outputs": [
    {
     "name": "stdout",
     "output_type": "stream",
     "text": [
      "OPENQASM 2.0;\n",
      "include \"qelib1.inc\";\n",
      "qreg q[3];\n",
      "creg c0[1];\n",
      "creg c1[1];\n",
      "creg c2[1];\n",
      "h q[1];\n",
      "cx q[1],q[2];\n",
      "ry(0.785398163397448) q[0];\n",
      "cx q[0],q[1];\n",
      "h q[0];\n",
      "barrier q[0],q[1],q[2];\n",
      "measure q[0] -> c0[0];\n",
      "measure q[1] -> c1[0];\n",
      "if(c0==1) z q[2];\n",
      "if(c1==1) x q[2];\n",
      "measure q[2] -> c2[0];\n",
      "\n"
     ]
    }
   ],
   "source": [
    "circuits = [\"teleport\"]\n",
    "print(Q_program.get_qasms(circuits)[0])"
   ]
  },
  {
   "cell_type": "code",
   "execution_count": 34,
   "metadata": {},
   "outputs": [
    {
     "data": {
      "text/plain": [
       "['ibmqx2', 'ibmqx3', 'Simulator', 'real']"
      ]
     },
     "execution_count": 34,
     "metadata": {},
     "output_type": "execute_result"
    }
   ],
   "source": [
    "Q_program.online_device_names()"
   ]
  },
  {
   "cell_type": "code",
   "execution_count": 35,
   "metadata": {},
   "outputs": [
    {
     "name": "stdout",
     "output_type": "stream",
     "text": [
      "running on backend: Simulator\n"
     ]
    },
    {
     "data": {
      "text/plain": [
       "{'result': 'all done', 'status': 'COMPLETED'}"
      ]
     },
     "execution_count": 35,
     "metadata": {},
     "output_type": "execute_result"
    }
   ],
   "source": [
    "# device = 'ibmqx2' # the device to run on\n",
    "device = 'Simulator' \n",
    "shots = 1024 # the number of shots in the experiment \n",
    "\n",
    "Q_program.execute(circuits, device, shots, max_credits=3, wait=10, timeout=240)"
   ]
  },
  {
   "cell_type": "markdown",
   "metadata": {},
   "source": [
    "Need to manipulate the data to understand these results better, first only plotting the results of Alice's measurement: "
   ]
  },
  {
   "cell_type": "code",
   "execution_count": 36,
   "metadata": {
    "scrolled": true
   },
   "outputs": [
    {
     "data": {
      "image/png": "[encoded data removed]",
      "text/plain": [
       "<matplotlib.figure.Figure at 0x119789390>"
      ]
     },
     "metadata": {},
     "output_type": "display_data"
    }
   ],
   "source": [
    "data = Q_program.get_counts(\"teleport\")\n",
    "alice = {}\n",
    "alice['00'] = data['000'] + data['001']\n",
    "alice['01'] = data['010'] + data['011']\n",
    "alice['10'] = data['100'] + data['101']\n",
    "alice['11'] = data['110'] + data['111']\n",
    "plot_histogram(alice)"
   ]
  },
  {
   "cell_type": "markdown",
   "metadata": {},
   "source": [
    "As expected, the probabilities are roughly equal.  "
   ]
  },
  {
   "cell_type": "markdown",
   "metadata": {},
   "source": [
    "Now, manipulate the data to plot the result of Bob's measurement:"
   ]
  },
  {
   "cell_type": "code",
   "execution_count": 32,
   "metadata": {},
   "outputs": [
    {
     "data": {
      "image/png": "[encoded data removed]",
      "text/plain": [
       "<matplotlib.figure.Figure at 0x1163df940>"
      ]
     },
     "metadata": {},
     "output_type": "display_data"
    }
   ],
   "source": [
    "bob = {}\n",
    "bob['0'] = data['000'] + data['010'] +  data['100'] + data['110']\n",
    "bob['1'] = data['001'] + data['011'] +  data['101'] + data['111']\n",
    "plot_histogram(bob)"
   ]
  },
  {
   "cell_type": "markdown",
   "metadata": {},
   "source": [
    "As expected $|\\alpha|^2 = |\\cos(\\frac{\\pi}{8})|^2 \\approx 0.854$ (the probably of measuring 0) and $|\\beta|^2 = |\\sin(\\frac{\\pi}{8})|^2 \\approx 0.156$ (the probability of measuring 1)."
   ]
  },
  {
   "cell_type": "code",
   "execution_count": null,
   "metadata": {
    "collapsed": true
   },
   "outputs": [],
   "source": []
  }
 ],
 "metadata": {
  "kernelspec": {
   "display_name": "Python 3",
   "language": "python",
   "name": "python3"
  },
  "language_info": {
   "codemirror_mode": {
    "name": "ipython",
    "version": 3
   },
   "file_extension": ".py",
   "mimetype": "text/x-python",
   "name": "python",
   "nbconvert_exporter": "python",
   "pygments_lexer": "ipython3",
   "version": "3.6.1"
  }
 },
 "nbformat": 4,
 "nbformat_minor": 2
}
