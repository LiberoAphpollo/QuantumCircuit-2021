{
 "cells": [
  {
   "cell_type": "markdown",
   "metadata": {},
   "source": [
    "<img src=\"../../images/QISKit-c.gif\" alt=\"Note: In order for images to show up in this jupyter notebook you need to select File => Trusted Notebook\" width=\"250 px\" align=\"left\">"
   ]
  },
  {
   "cell_type": "markdown",
   "metadata": {},
   "source": [
    "## _*Entanglement Revisited*_ \n",
    "\n",
    "For more information about how to use the IBM Q experience (QX), consult the [tutorials](https://quantumexperience.ng.bluemix.net/qstage/#/tutorial?sectionId=c59b3710b928891a1420190148a72cce&pageIndex=0), or check out the [community](https://quantumexperience.ng.bluemix.net/qstage/#/community).\n",
    "\n",
    "***\n",
    "### Contributors\n",
    "Jay Gambetta, Antonio Córcoles"
   ]
  },
  {
   "cell_type": "markdown",
   "metadata": {},
   "source": [
    "## Entanglement\n",
    "\n",
    "In [superposition and entanglement](superposition_and_entanglement.ipynb), we introduced you to the quantum concept of entanglement. We made the quantum state $|\\psi\\rangle= (|00\\rangle+|11\\rangle)/\\sqrt{2}$ and showed that (accounting for experimental noise) the system has perfect correlations in both the computational and the superposition bases. This means if $q_0$ is measured in state $|0\\rangle$, we know $q_1$ is in the same state; likewise, if $q_0$ is measured in state $|+\\rangle$, we know $q_1$ is also in the same state.\n",
    "\n",
    "To understand the implications of this in more detail in this notebook we look at the following topics\n",
    "* [Two qubit correlated observables](#section1)\n",
    "* [CHSH Inequality](#section2)\n",
    "* [Two, three, and four qubit GHZ states](#section3)\n",
    "* [Mermin's Test and the Three Box Game](#section4)\n"
   ]
  },
  {
   "cell_type": "markdown",
   "metadata": {},
   "source": [
    "## Two qubit correlated observables<a id='section1'></a>\n",
    "\n",
    "Let's introduce the concept of an observable. An observable is a Hermitian matrix where the real eigenvalues represent the outcome of the experiment, and the eigenvectors are the states to which the system is projected under measurement. That is, an observable $A$ is given by\n",
    "  \n",
    "\n",
    "$$  A = \\sum_j a_j|a_j\\rangle\\langle a_j|$$ \n",
    "\n",
    "where $|a_j\\rangle$ is the eigenvector of the observable with result $a_j$. The expectation value of this observable is given by \n",
    "\n",
    "$$\\langle  A \\rangle  = \\sum_j a_j |\\langle \\psi  |a_j\\rangle|^2  = \\sum_j a_j \\mathrm{Pr}(a_j|\\psi).$$\n",
    "\n",
    "We can see there is the standard relationship between average (expectation value) and probability. \n",
    "\n",
    "For a two-qubit system, the following are important two-outcome ($\\pm1$) single-qubit observables:  \n",
    "\n",
    "$$ Z= |0\\rangle\\langle 0| - |1\\rangle\\langle 1|$$ \n",
    "$$ X= |+\\rangle\\langle +| - |-\\rangle\\langle -|$$ \n",
    "\n",
    "These are also commonly referred to as the Pauli $Z$ and $X$ operators. These can be further extended to the two-qubit space to give \n",
    "\n",
    "$$\\langle  I\\otimes  Z\\rangle =\\mathrm{Pr}(00|\\psi) - \\mathrm{Pr}(01|\\psi) +  \\mathrm{Pr}(10|\\psi)- \\mathrm{Pr}(11|\\psi)$$ \n",
    "$$\\langle  Z\\otimes  I\\rangle =\\mathrm{Pr}(00|\\psi) + \\mathrm{Pr}(01|\\psi) -  \\mathrm{Pr}(10|\\psi)- \\mathrm{Pr}(11|\\psi)$$ \n",
    "$$\\langle  Z\\otimes  Z\\rangle =\\mathrm{Pr}(00|\\psi) - \\mathrm{Pr}(01|\\psi) -  \\mathrm{Pr}(10|\\psi)+ \\mathrm{Pr}(11|\\psi)$$ \n",
    "\n",
    "$$\\langle  I\\otimes  X\\rangle =\\mathrm{Pr}(++|\\psi) - \\mathrm{Pr}(+-|\\psi) +  \\mathrm{Pr}(-+|\\psi)- \\mathrm{Pr}(--|\\psi)$$ \n",
    "$$\\langle  X\\otimes  I\\rangle =\\mathrm{Pr}(++|\\psi) + \\mathrm{Pr}(+-|\\psi) -  \\mathrm{Pr}(-+|\\psi)- \\mathrm{Pr}(--|\\psi)$$ \n",
    "$$\\langle  X\\otimes  X\\rangle =\\mathrm{Pr}(++|\\psi) - \\mathrm{Pr}(+-|\\psi) -  \\mathrm{Pr}(-+|\\psi)+ \\mathrm{Pr}(--|\\psi)$$ \n",
    "\n",
    "\n",
    "$$\\langle  Z\\otimes  X\\rangle =\\mathrm{Pr}(0+|\\psi) - \\mathrm{Pr}(0-|\\psi) -  \\mathrm{Pr}(1+|\\psi)+ \\mathrm{Pr}(1-|\\psi)$$ \n",
    "$$\\langle  X\\otimes  Z\\rangle =\\mathrm{Pr}(+0|\\psi) - \\mathrm{Pr}(+1|\\psi) -  \\mathrm{Pr}(-0|\\psi)+ \\mathrm{Pr}(-1|\\psi)$$ "
   ]
  },
  {
   "cell_type": "code",
   "execution_count": 1,
   "metadata": {
    "collapsed": false
   },
   "outputs": [],
   "source": [
    "# Checking the version of PYTHON; we only support 3 at the moment\n",
    "import sys\n",
    "if sys.version_info < (3,0):\n",
    "    raise Exception(\"Please use Python version 3 or greater.\")\n",
    "    \n",
    "# useful additional packages \n",
    "import matplotlib.pyplot as plt\n",
    "import numpy as np\n",
    "import scipy as sp\n",
    "import scipy.linalg\n",
    "%matplotlib inline\n",
    "import time\n",
    "\n",
    "import sys\n",
    "sys.path.append(\"../../\")\n",
    "# importing the QISKit\n",
    "from qiskit import QuantumCircuit, QuantumProgram\n",
    "import Qconfig\n",
    "\n",
    "# import basic plot tools\n",
    "from qiskit.basicplotter import plot_histogram"
   ]
  },
  {
   "cell_type": "markdown",
   "metadata": {},
   "source": [
    "Recall that to make the Bell state $|\\psi\\rangle= (|00\\rangle+|11\\rangle)/\\sqrt{2}$ from the initial state $|00\\rangle$, the quantum circuit first applies a Hadamard on $q_0$, followed by a CNOT from $q_0$ to $q_1$. On the Quantum Experience, this can done by using the below script to measure the above expectation values; we run four different experiments with measurements in the standard basis, superposition basis, and a combination of both."
   ]
  },
  {
   "cell_type": "code",
   "execution_count": 2,
   "metadata": {
    "collapsed": false
   },
   "outputs": [
    {
     "name": "stdout",
     "output_type": "stream",
     "text": [
      ">> quantum_registers created: q 2\n",
      ">> classical_registers created: c 2\n"
     ]
    },
    {
     "data": {
      "text/plain": [
       "<qiskit._measure.Measure at 0x118d28128>"
      ]
     },
     "execution_count": 2,
     "metadata": {},
     "output_type": "execute_result"
    }
   ],
   "source": [
    "device = 'ibmqx2' # the device to run on\n",
    "shots = 1024    # the number of shots in the experiment. \n",
    "# device = 'simulator' # the device test purpose\n",
    "\n",
    "QPS_SPECS = {\n",
    "    \"name\": \"Entanglement\",\n",
    "    \"circuits\": [{\n",
    "        \"name\": \"bell\",\n",
    "        \"quantum_registers\": [{\n",
    "            \"name\":\"q\",\n",
    "            \"size\":2\n",
    "        }],\n",
    "        \"classical_registers\": [{\n",
    "            \"name\":\"c\",\n",
    "            \"size\":2\n",
    "        }]}],\n",
    "}\n",
    "\n",
    "Q_program = QuantumProgram(specs=QPS_SPECS)\n",
    "Q_program.set_api(Qconfig.APItoken, Qconfig.config[\"url\"])\n",
    "\n",
    "# quantum circuit to make Bell state \n",
    "bell = Q_program.get_circuit(\"bell\")\n",
    "q = Q_program.get_quantum_registers(\"q\")\n",
    "c = Q_program.get_classical_registers('c')\n",
    "\n",
    "bell.h(q[0])\n",
    "bell.cx(q[0],q[1])\n",
    "\n",
    "# quantum circuit to measure q in standard basis \n",
    "measureZZ = Q_program.create_circuit(\"measureZZ\", [\"q\"], [\"c\"])\n",
    "measureZZ.measure(q[0], c[0])\n",
    "measureZZ.measure(q[1], c[1])\n",
    "\n",
    "# quantum circuit to measure q in superposition basis \n",
    "measureXX = Q_program.create_circuit(\"measureXX\", [\"q\"], [\"c\"])\n",
    "measureXX.h(q[0])\n",
    "measureXX.h(q[1])\n",
    "measureXX.measure(q[0], c[0])\n",
    "measureXX.measure(q[1], c[1])\n",
    "\n",
    "# quantum circuit to measure ZX\n",
    "measureZX = Q_program.create_circuit(\"measureZX\", [\"q\"], [\"c\"])\n",
    "measureZX.h(q[0])\n",
    "measureZX.measure(q[0], c[0])\n",
    "measureZX.measure(q[1], c[1])\n",
    "\n",
    "# quantum circuit to measure XZ\n",
    "measureXZ = Q_program.create_circuit(\"measureXZ\", [\"q\"], [\"c\"])\n",
    "measureXZ.h(q[1])\n",
    "measureXZ.measure(q[0], c[0])\n",
    "measureXZ.measure(q[1], c[1])"
   ]
  },
  {
   "cell_type": "code",
   "execution_count": 3,
   "metadata": {
    "collapsed": false
   },
   "outputs": [
    {
     "data": {
      "text/plain": [
       "['OPENQASM 2.0;\\ninclude \"qelib1.inc\";\\nqreg q[2];\\ncreg c[2];\\nh q[0];\\ncx q[0],q[1];\\nmeasure q[0] -> c[0];\\nmeasure q[1] -> c[1];\\n',\n",
       " 'OPENQASM 2.0;\\ninclude \"qelib1.inc\";\\nqreg q[2];\\ncreg c[2];\\nh q[0];\\ncx q[0],q[1];\\nh q[0];\\nmeasure q[0] -> c[0];\\nmeasure q[1] -> c[1];\\n',\n",
       " 'OPENQASM 2.0;\\ninclude \"qelib1.inc\";\\nqreg q[2];\\ncreg c[2];\\nh q[0];\\ncx q[0],q[1];\\nh q[0];\\nh q[1];\\nmeasure q[0] -> c[0];\\nmeasure q[1] -> c[1];\\n',\n",
       " 'OPENQASM 2.0;\\ninclude \"qelib1.inc\";\\nqreg q[2];\\ncreg c[2];\\nh q[0];\\ncx q[0],q[1];\\nh q[1];\\nmeasure q[0] -> c[0];\\nmeasure q[1] -> c[1];\\n']"
      ]
     },
     "execution_count": 3,
     "metadata": {},
     "output_type": "execute_result"
    }
   ],
   "source": [
    "Q_program.add_circuit(\"bell_measureZX\", bell+measureZX )\n",
    "Q_program.add_circuit(\"bell_measureXZ\", bell+measureXZ )\n",
    "Q_program.add_circuit(\"bell_measureZZ\", bell+measureZZ )\n",
    "Q_program.add_circuit(\"bell_measureXX\", bell+measureXX )\n",
    "\n",
    "circuits = [\"bell_measureZZ\", \"bell_measureZX\", \"bell_measureXX\", \"bell_measureXZ\"]\n",
    "Q_program.get_qasms(circuits)"
   ]
  },
  {
   "cell_type": "code",
   "execution_count": 4,
   "metadata": {
    "collapsed": false
   },
   "outputs": [
    {
     "name": "stdout",
     "output_type": "stream",
     "text": [
      "running on backend: ibmqx2\n",
      "status = RUNNING (10 seconds)\n",
      "status = RUNNING (20 seconds)\n"
     ]
    },
    {
     "data": {
      "text/plain": [
       "{'result': 'all done', 'status': 'COMPLETED'}"
      ]
     },
     "execution_count": 4,
     "metadata": {},
     "output_type": "execute_result"
    }
   ],
   "source": [
    "Q_program.execute(circuits, device, shots, max_credits=3, wait=10, timeout=240)"
   ]
  },
  {
   "cell_type": "code",
   "execution_count": 5,
   "metadata": {
    "collapsed": false
   },
   "outputs": [],
   "source": [
    "### THIS IS A KNOWN BUG AND WHEN WE FIX THE RETURN FROM THE REAL DEVICE WE WILL ONLY HAVE ONE SET OF OBSERVABLES\n",
    "\n",
    "obsevable_first ={'00000': 1, '00001': -1, '00010': 1, '00011': -1}\n",
    "obsevable_second ={'00000': 1, '00001': 1, '00010': -1, '00011': -1}\n",
    "obsevable_correlated ={'00000': 1, '00001': -1, '00010': -1, '00011': 1}\n",
    "\n",
    "obsevable_first_ideal ={'00': 1, '01': -1, '10': 1, '11': -1}\n",
    "obsevable_second_ideal ={'00': 1, '01': 1, '10': -1, '11': -1}\n",
    "obsevable_correlated_ideal ={'00': 1, '01': -1, '10': -1, '11': 1}"
   ]
  },
  {
   "cell_type": "code",
   "execution_count": 6,
   "metadata": {
    "collapsed": false
   },
   "outputs": [
    {
     "name": "stdout",
     "output_type": "stream",
     "text": [
      "IZ = 0.0546875\n",
      "ZI = 0.04296875\n",
      "ZZ = 0.828125\n",
      "IX = 0.1171875\n",
      "XI = 0.1328125\n",
      "XX = 0.87109375\n",
      "ZX = -0.037109375\n",
      "XZ = 0.033203125\n"
     ]
    }
   ],
   "source": [
    "print(\"IZ = \" + str(Q_program.average_data(\"bell_measureZZ\",obsevable_first)))\n",
    "print(\"ZI = \" + str(Q_program.average_data(\"bell_measureZZ\",obsevable_second)))\n",
    "print(\"ZZ = \" + str(Q_program.average_data(\"bell_measureZZ\",obsevable_correlated)))\n",
    "\n",
    "print(\"IX = \" + str(Q_program.average_data(\"bell_measureXX\",obsevable_first)))\n",
    "print(\"XI = \" + str(Q_program.average_data(\"bell_measureXX\",obsevable_second)))\n",
    "print(\"XX = \" + str(Q_program.average_data(\"bell_measureXX\",obsevable_correlated)))\n",
    "\n",
    "print(\"ZX = \" + str(Q_program.average_data(\"bell_measureZX\",obsevable_correlated)))\n",
    "print(\"XZ = \" + str(Q_program.average_data(\"bell_measureXZ\",obsevable_correlated)))"
   ]
  },
  {
   "cell_type": "markdown",
   "metadata": {},
   "source": [
    "Here we see that for the state $|\\psi\\rangle= (|00\\rangle+|11\\rangle)/\\sqrt{2}$, expectation values (within experimental errors) are\n",
    "\n",
    "\n",
    "Observable    | Expected value |Observable    | Expected value|Observable    | Expected value\n",
    "------------- | -------------  | ------------- | ------------- | ------------- | -------------\n",
    "ZZ  | 1   |XX  | 1  | ZX  | 0 \n",
    "ZI  | 0   |XI  | 0  | XZ  | 0\n",
    "IZ  | 0   |IX  | 0  |   |\n",
    "\n",
    "How do we explain this situation? Here we introduce the concept of a *hidden variable model*. If we assume there is a hidden variable $\\lambda$ and follow the following two assumptions: \n",
    "\n",
    "* _Locality_: No information can travel faster than the speed of light. There is a hidden variable $\\lambda$ that defines all the correlations so that  $$\\langle A\\otimes B\\rangle = \\sum_\\lambda P(\\lambda) A(\\lambda) B(\\lambda)$$ \n",
    "                      \n",
    "* _Realism_: All observables have a definite value independent of the measurement ($A(\\lambda)=\\pm1$ etc).\n",
    "\n",
    "then can we describe these observations? --- The answer is yes! \n",
    "\n",
    "Assume $\\lambda$ has two bits, each occurring randomly with probably 1/4. The following predefined table would then explain all the above observables:\n",
    "\n",
    "$\\lambda$    | Z (qubit 1) |Z (qubit 2)    | X (qubit 1)| X (qubit 2)   \n",
    "------------- | -------------  | ------------- | ------------- | ------------- \n",
    "00  | 1 | 1 | 1 | 1  \n",
    "01  | 1 | 1 |-1 |-1  \n",
    "10  |-1 |-1 |-1 |-1    \n",
    "11  |-1 |-1 | 1 | 1  \n",
    "\n",
    "Thus, with a purely classical hidden variable model, we are able to reconcile the measured observations we had for this particular Bell state. However, there are some states where this model will not hold. This was first observed by John Stewart Bell in 1964.  He proposed a theorem that suggests that there are no hidden variables in quantum mechanics. At the core of Bell's theorem is the famous Bell inequality. Here, we'll use a refined version of this inequality (known as the CHSH inequality, derived by John Clauser, Michael Horne, Abner Shimony, and Richard Holt in 1969) to demonstrate Bell's proposal."
   ]
  },
  {
   "cell_type": "markdown",
   "metadata": {},
   "source": [
    "## CHSH Inequality <a id='section2'></a>\n",
    "\n",
    "\n",
    "In the CHSH inequality, we measure the correlator of four observables: $A$ and $A'$ on $q_0$, and $B$ and $B'$ on $q_1$, which have eigenvalues $\\pm 1$. The CHSH inequality says that no local hidden variable theory can have  \n",
    "\n",
    "$$|C|>2$$ \n",
    "\n",
    "where \n",
    "\n",
    "$$C = \\langle B\\otimes A\\rangle + \\langle B\\otimes A'\\rangle+\\langle B'\\otimes A'\\rangle-\\langle B'\\otimes A\\rangle.$$\n",
    "\n",
    "What would this look like with some hidden variable model under the locality and realism assumptions from above? $C$ then becomes \n",
    "\n",
    "$$C = \\sum_\\lambda P(\\lambda) \\{ B(\\lambda) [ A(\\lambda)+A'(\\lambda)] + B'(\\lambda) [ A'(\\lambda)-A(\\lambda)]$$\n",
    "                      \n",
    "and $[A(\\lambda)+A'(\\lambda)]=2$ (or 0) while $[A'(\\lambda)-A(\\lambda)]=0$ (or 2) respectively. That is, $|C|=2$, and noise will only make this smaller. \n",
    " \n",
    "If we measure a number greater than 2, the above assumptions cannot be valid. This test and thought process is precisely one of those astonishing counterintuitive ideas one must accept in the quantum world. For simplicity, we choose these observables to be \n",
    "\n",
    " $$C = \\langle Z\\otimes Z\\rangle + \\langle Z\\otimes X\\rangle+\\langle X\\otimes X\\rangle-\\langle X\\otimes Z\\rangle.$$\n",
    "\n",
    "$Z$ is measured in the computational basis, and $X$ in the superposition basis ($H$ is applied before measurement) The input state $$|\\psi(\\theta)\\rangle = I\\otimes Y(\\theta)\\frac{|00\\rangle + |11\\rangle}{\\sqrt(2)} = \\frac{\\cos(\\theta/2)|00\\rangle + \\cos(\\theta/2)|11\\rangle+\\sin(\\theta/2)|01\\rangle-\\sin(\\theta/2)|10\\rangle}{\\sqrt{2}}$$ is swept vs. $\\theta$ (think of this as allowing us to prepare a varying set of states varying in the angle $\\theta$).\n",
    " \n",
    "Note that the following demonstration of CHSH is not loophole-free. "
   ]
  },
  {
   "cell_type": "code",
   "execution_count": 7,
   "metadata": {
    "collapsed": true
   },
   "outputs": [],
   "source": [
    "CHSH = lambda x : x[0]+x[1]+x[2]-x[3]"
   ]
  },
  {
   "cell_type": "code",
   "execution_count": 8,
   "metadata": {
    "collapsed": true
   },
   "outputs": [],
   "source": [
    "device = 'local_qasm_simulator'\n",
    "shots = 1024\n",
    "\n",
    "program = []\n",
    "xdata=[]\n",
    "\n",
    "program_end = [measureZZ, measureZX, measureXX, measureXZ]\n",
    "\n",
    "k = 0\n",
    "for jj in range(30):\n",
    "    theta = 2.0*np.pi*jj/30\n",
    "    bell_middle = QuantumCircuit(q,c)\n",
    "    bell_middle.ry(theta,q[0])\n",
    "    for i in range(4):\n",
    "        program.append(\"circuit\"+str(k))\n",
    "        Q_program.add_circuit(\"circuit\"+str(k), bell+bell_middle+program_end[i] )\n",
    "        k += 1\n",
    "        \n",
    "    xdata.append(theta)"
   ]
  },
  {
   "cell_type": "code",
   "execution_count": 9,
   "metadata": {
    "collapsed": false
   },
   "outputs": [
    {
     "data": {
      "text/plain": [
       "['OPENQASM 2.0;\\ninclude \"qelib1.inc\";\\nqreg q[2];\\ncreg c[2];\\nh q[0];\\ncx q[0],q[1];\\nry(0.000000000000000) q[0];\\nmeasure q[0] -> c[0];\\nmeasure q[1] -> c[1];\\n',\n",
       " 'OPENQASM 2.0;\\ninclude \"qelib1.inc\";\\nqreg q[2];\\ncreg c[2];\\nh q[0];\\ncx q[0],q[1];\\nry(0.000000000000000) q[0];\\nh q[0];\\nmeasure q[0] -> c[0];\\nmeasure q[1] -> c[1];\\n',\n",
       " 'OPENQASM 2.0;\\ninclude \"qelib1.inc\";\\nqreg q[2];\\ncreg c[2];\\nh q[0];\\ncx q[0],q[1];\\nry(0.000000000000000) q[0];\\nh q[0];\\nh q[1];\\nmeasure q[0] -> c[0];\\nmeasure q[1] -> c[1];\\n',\n",
       " 'OPENQASM 2.0;\\ninclude \"qelib1.inc\";\\nqreg q[2];\\ncreg c[2];\\nh q[0];\\ncx q[0],q[1];\\nry(0.000000000000000) q[0];\\nh q[1];\\nmeasure q[0] -> c[0];\\nmeasure q[1] -> c[1];\\n',\n",
       " 'OPENQASM 2.0;\\ninclude \"qelib1.inc\";\\nqreg q[2];\\ncreg c[2];\\nh q[0];\\ncx q[0],q[1];\\nry(0.209439510239320) q[0];\\nmeasure q[0] -> c[0];\\nmeasure q[1] -> c[1];\\n',\n",
       " 'OPENQASM 2.0;\\ninclude \"qelib1.inc\";\\nqreg q[2];\\ncreg c[2];\\nh q[0];\\ncx q[0],q[1];\\nry(0.209439510239320) q[0];\\nh q[0];\\nmeasure q[0] -> c[0];\\nmeasure q[1] -> c[1];\\n',\n",
       " 'OPENQASM 2.0;\\ninclude \"qelib1.inc\";\\nqreg q[2];\\ncreg c[2];\\nh q[0];\\ncx q[0],q[1];\\nry(0.209439510239320) q[0];\\nh q[0];\\nh q[1];\\nmeasure q[0] -> c[0];\\nmeasure q[1] -> c[1];\\n',\n",
       " 'OPENQASM 2.0;\\ninclude \"qelib1.inc\";\\nqreg q[2];\\ncreg c[2];\\nh q[0];\\ncx q[0],q[1];\\nry(0.209439510239320) q[0];\\nh q[1];\\nmeasure q[0] -> c[0];\\nmeasure q[1] -> c[1];\\n']"
      ]
     },
     "execution_count": 9,
     "metadata": {},
     "output_type": "execute_result"
    }
   ],
   "source": [
    "Q_program.get_qasms(program[0:8])"
   ]
  },
  {
   "cell_type": "code",
   "execution_count": 10,
   "metadata": {
    "collapsed": false
   },
   "outputs": [
    {
     "name": "stdout",
     "output_type": "stream",
     "text": [
      "running on backend: local_qasm_simulator\n"
     ]
    },
    {
     "data": {
      "text/plain": [
       "{'result': 'all done', 'status': 'COMPLETED'}"
      ]
     },
     "execution_count": 10,
     "metadata": {},
     "output_type": "execute_result"
    }
   ],
   "source": [
    "Q_program.execute(program, device, shots, max_credits=3, wait=10, timeout=240)"
   ]
  },
  {
   "cell_type": "code",
   "execution_count": 11,
   "metadata": {
    "collapsed": false
   },
   "outputs": [],
   "source": [
    "CHSH_data_sim = []\n",
    "k = 0\n",
    "for j in range(len(xdata)):\n",
    "    temp=[]\n",
    "    for i in range(4): \n",
    "        temp.append(Q_program.average_data(\"circuit\"+str(k),obsevable_correlated_ideal))\n",
    "        k += 1\n",
    "    CHSH_data_sim.append(CHSH(temp))"
   ]
  },
  {
   "cell_type": "code",
   "execution_count": 12,
   "metadata": {
    "collapsed": false
   },
   "outputs": [],
   "source": [
    "device = 'ibmqx2'\n",
    "shots = 1024\n",
    "\n",
    "program_real = []\n",
    "xdata_real=[]\n",
    "\n",
    "k = 0\n",
    "for jj in range(10):\n",
    "    theta = 2.0*np.pi*jj/10\n",
    "    bell_middle = QuantumCircuit(q,c)\n",
    "    bell_middle.ry(theta,q[0])\n",
    "    for i in range(4):\n",
    "        program_real.append(\"circuit_real\"+str(k))\n",
    "        Q_program.add_circuit(\"circuit_real\"+str(k), bell+bell_middle+program_end[i] )\n",
    "        k += 1\n",
    "        \n",
    "    xdata_real.append(theta)"
   ]
  },
  {
   "cell_type": "code",
   "execution_count": 13,
   "metadata": {
    "collapsed": false
   },
   "outputs": [
    {
     "name": "stdout",
     "output_type": "stream",
     "text": [
      "running on backend: ibmqx2\n",
      "status = RUNNING (10 seconds)\n",
      "status = RUNNING (20 seconds)\n",
      "status = RUNNING (30 seconds)\n",
      "status = RUNNING (40 seconds)\n",
      "status = RUNNING (50 seconds)\n",
      "status = RUNNING (60 seconds)\n"
     ]
    },
    {
     "data": {
      "text/plain": [
       "{'result': 'all done', 'status': 'COMPLETED'}"
      ]
     },
     "execution_count": 13,
     "metadata": {},
     "output_type": "execute_result"
    }
   ],
   "source": [
    "Q_program.execute(program_real, device, shots, max_credits=3, wait=10, timeout=240)"
   ]
  },
  {
   "cell_type": "code",
   "execution_count": 14,
   "metadata": {
    "collapsed": false
   },
   "outputs": [
    {
     "data": {
      "text/plain": [
       "['OPENQASM 2.0;\\ninclude \"qelib1.inc\";\\nqreg q[2];\\ncreg c[2];\\nh q[0];\\ncx q[0],q[1];\\nry(0.000000000000000) q[0];\\nmeasure q[0] -> c[0];\\nmeasure q[1] -> c[1];\\n',\n",
       " 'OPENQASM 2.0;\\ninclude \"qelib1.inc\";\\nqreg q[2];\\ncreg c[2];\\nh q[0];\\ncx q[0],q[1];\\nry(0.000000000000000) q[0];\\nh q[0];\\nmeasure q[0] -> c[0];\\nmeasure q[1] -> c[1];\\n',\n",
       " 'OPENQASM 2.0;\\ninclude \"qelib1.inc\";\\nqreg q[2];\\ncreg c[2];\\nh q[0];\\ncx q[0],q[1];\\nry(0.000000000000000) q[0];\\nh q[0];\\nh q[1];\\nmeasure q[0] -> c[0];\\nmeasure q[1] -> c[1];\\n',\n",
       " 'OPENQASM 2.0;\\ninclude \"qelib1.inc\";\\nqreg q[2];\\ncreg c[2];\\nh q[0];\\ncx q[0],q[1];\\nry(0.000000000000000) q[0];\\nh q[1];\\nmeasure q[0] -> c[0];\\nmeasure q[1] -> c[1];\\n',\n",
       " 'OPENQASM 2.0;\\ninclude \"qelib1.inc\";\\nqreg q[2];\\ncreg c[2];\\nh q[0];\\ncx q[0],q[1];\\nry(0.628318530717959) q[0];\\nmeasure q[0] -> c[0];\\nmeasure q[1] -> c[1];\\n',\n",
       " 'OPENQASM 2.0;\\ninclude \"qelib1.inc\";\\nqreg q[2];\\ncreg c[2];\\nh q[0];\\ncx q[0],q[1];\\nry(0.628318530717959) q[0];\\nh q[0];\\nmeasure q[0] -> c[0];\\nmeasure q[1] -> c[1];\\n',\n",
       " 'OPENQASM 2.0;\\ninclude \"qelib1.inc\";\\nqreg q[2];\\ncreg c[2];\\nh q[0];\\ncx q[0],q[1];\\nry(0.628318530717959) q[0];\\nh q[0];\\nh q[1];\\nmeasure q[0] -> c[0];\\nmeasure q[1] -> c[1];\\n',\n",
       " 'OPENQASM 2.0;\\ninclude \"qelib1.inc\";\\nqreg q[2];\\ncreg c[2];\\nh q[0];\\ncx q[0],q[1];\\nry(0.628318530717959) q[0];\\nh q[1];\\nmeasure q[0] -> c[0];\\nmeasure q[1] -> c[1];\\n']"
      ]
     },
     "execution_count": 14,
     "metadata": {},
     "output_type": "execute_result"
    }
   ],
   "source": [
    "Q_program.get_qasms(program_real[0:8])"
   ]
  },
  {
   "cell_type": "code",
   "execution_count": 15,
   "metadata": {
    "collapsed": false
   },
   "outputs": [],
   "source": [
    "CHSH_data_real = []\n",
    "k = 0\n",
    "for j in range(len(xdata_real)):\n",
    "    temp=[]\n",
    "    for i in range(4): \n",
    "        temp.append(Q_program.average_data(\"circuit_real\"+str(k),obsevable_correlated))\n",
    "        k += 1\n",
    "    CHSH_data_real.append(CHSH(temp))"
   ]
  },
  {
   "cell_type": "code",
   "execution_count": 16,
   "metadata": {
    "collapsed": false
   },
   "outputs": [
    {
     "data": {
      "image/png": "[encoded data removed]",
      "text/plain": [
       "<matplotlib.figure.Figure at 0x1199cf2e8>"
      ]
     },
     "metadata": {},
     "output_type": "display_data"
    }
   ],
   "source": [
    "plt.plot(xdata, CHSH_data_sim, 'r-', xdata_real, CHSH_data_real, 'bo')\n",
    "plt.plot([0, 2*np.pi], [2, 2], 'b-')\n",
    "plt.plot([0, 2*np.pi], [-2, -2], 'b-')\n",
    "plt.grid()\n",
    "plt.ylabel('CHSH', fontsize=20)\n",
    "plt.xlabel(r'$Y(\\theta)$', fontsize=20)\n",
    "plt.show()"
   ]
  },
  {
   "cell_type": "markdown",
   "metadata": {},
   "source": [
    "The resulting graph created by running the previous cell compares the simulated data (sinusoidal line) and the data from the real experiment. The graph also gives lines at $\\pm 2$ for reference. Did you violate the hidden variable model?"
   ]
  },
  {
   "cell_type": "markdown",
   "metadata": {
    "collapsed": false
   },
   "source": [
    "Here is the saved CHSH data. "
   ]
  },
  {
   "cell_type": "code",
   "execution_count": 17,
   "metadata": {
    "collapsed": false
   },
   "outputs": [
    {
     "name": "stdout",
     "output_type": "stream",
     "text": [
      "[1.69921875, 2.4375, 2.193359375, 0.99609375, -0.34375, -1.80078125, -2.421875, -2.08984375, -1.072265625, 0.341796875]\n"
     ]
    }
   ],
   "source": [
    "print(CHSH_data_real)"
   ]
  },
  {
   "cell_type": "markdown",
   "metadata": {},
   "source": [
    "Despite the presence of loopholes in our demonstration, we can see that this experiment is compatible with quantum mechanics as a theory with no local hidden variables. See the original experimental demonstrations of this test with superconducting qubits [here](https://arstechnica.com/science/2017/05/quantum-volume-one-number-to-benchmark-a-quantum-computer/) and [here](https://journals.aps.org/pra/abstract/10.1103/PhysRevA.81.062325)."
   ]
  },
  {
   "cell_type": "markdown",
   "metadata": {},
   "source": [
    "## Two, three, and four qubit GHZ states<a id='section3'></a>\n",
    "\n",
    "What does entanglement look like going beyond two qubits? An important set of maximally entangled states are known as GHZ states (named after Greenberger, Horne, and Zeilinger). These are the states of the form \n",
    "$|\\psi\\rangle = \\left (|0...0\\rangle+|1...1\\rangle\\right)/\\sqrt{2}$. The Bell state previously described is merely a two-qubit version of a GHZ state. The next cells prepare GHZ states of two, three, and four qubits. "
   ]
  },
  {
   "cell_type": "code",
   "execution_count": 18,
   "metadata": {
    "collapsed": false
   },
   "outputs": [
    {
     "name": "stdout",
     "output_type": "stream",
     "text": [
      ">> quantum_registers created: q 2\n",
      ">> classical_registers created: c 2\n",
      "running on backend: ibmqx2\n",
      "status = RUNNING (10 seconds)\n",
      "status = RUNNING (20 seconds)\n",
      "status = RUNNING (30 seconds)\n",
      "status = RUNNING (40 seconds)\n",
      "status = RUNNING (50 seconds)\n",
      "status = RUNNING (60 seconds)\n",
      "status = RUNNING (70 seconds)\n",
      "status = RUNNING (80 seconds)\n",
      "status = RUNNING (90 seconds)\n"
     ]
    },
    {
     "data": {
      "image/png": "[encoded data removed]",
      "text/plain": [
       "<matplotlib.figure.Figure at 0x119d620f0>"
      ]
     },
     "metadata": {},
     "output_type": "display_data"
    },
    {
     "data": {
      "image/png": "[encoded data removed]",
      "text/plain": [
       "<matplotlib.figure.Figure at 0x11977e0f0>"
      ]
     },
     "metadata": {},
     "output_type": "display_data"
    }
   ],
   "source": [
    "# 2 - qubits \n",
    "shots = 8192\n",
    "device = 'ibmqx2'\n",
    "# device = 'simulator' # the device test purpose \n",
    "\n",
    "# quantum circuit to make GHZ state\n",
    "q = Q_program.create_quantum_registers(\"q\", 2)\n",
    "c = Q_program.create_classical_registers(\"c\", 2)\n",
    "ghz = Q_program.create_circuit(\"ghz\", [\"q\"], [\"c\"])\n",
    "ghz.h(q[0])\n",
    "ghz.cx(q[0],q[1])\n",
    "\n",
    "# quantum circuit to measure q in standard basis \n",
    "measureZZ = Q_program.create_circuit(\"measureZZ\", [\"q\"], [\"c\"])\n",
    "measureZZ.measure(q[0], c[0])\n",
    "measureZZ.measure(q[1], c[1])\n",
    "\n",
    "measureXX = Q_program.create_circuit(\"measureXX\", [\"q\"], [\"c\"])\n",
    "measureXX.h(q[0])\n",
    "measureXX.h(q[1])\n",
    "measureXX.measure(q[0], c[0])\n",
    "measureXX.measure(q[1], c[1])\n",
    "\n",
    "Q_program.add_circuit(\"ghz_measureZZ\", ghz+measureZZ )\n",
    "Q_program.add_circuit(\"ghz_measureXX\", ghz+measureXX )\n",
    "circuits = [\"ghz_measureZZ\", \"ghz_measureXX\"]\n",
    "Q_program.get_qasms(circuits)\n",
    "\n",
    "Q_program.execute(circuits, device, shots, max_credits=5, wait=10, timeout=240)\n",
    "plot_histogram(Q_program.get_counts(\"ghz_measureZZ\"))\n",
    "plot_histogram(Q_program.get_counts(\"ghz_measureXX\"))"
   ]
  },
  {
   "cell_type": "code",
   "execution_count": 19,
   "metadata": {
    "collapsed": false
   },
   "outputs": [
    {
     "name": "stdout",
     "output_type": "stream",
     "text": [
      ">> quantum_registers created: q 3\n",
      ">> classical_registers created: c 3\n",
      "running on backend: ibmqx2\n",
      "status = RUNNING (10 seconds)\n",
      "status = RUNNING (20 seconds)\n",
      "status = RUNNING (30 seconds)\n",
      "status = RUNNING (40 seconds)\n",
      "status = RUNNING (50 seconds)\n",
      "status = RUNNING (60 seconds)\n",
      "status = RUNNING (70 seconds)\n",
      "status = RUNNING (80 seconds)\n",
      "status = RUNNING (90 seconds)\n",
      "status = RUNNING (100 seconds)\n",
      "status = RUNNING (110 seconds)\n",
      "status = RUNNING (120 seconds)\n"
     ]
    },
    {
     "data": {
      "image/png": "[encoded data removed]",
      "text/plain": [
       "<matplotlib.figure.Figure at 0x11986a240>"
      ]
     },
     "metadata": {},
     "output_type": "display_data"
    },
    {
     "data": {
      "image/png": "[encoded data removed]",
      "text/plain": [
       "<matplotlib.figure.Figure at 0x119e9d080>"
      ]
     },
     "metadata": {},
     "output_type": "display_data"
    }
   ],
   "source": [
    "# 3 - qubits \n",
    "shots = 8192\n",
    "# quantum circuit to make GHZ state \n",
    "q = Q_program.create_quantum_registers(\"q\", 3)\n",
    "c = Q_program.create_classical_registers(\"c\", 3)\n",
    "ghz = Q_program.create_circuit(\"ghz\", [\"q\"], [\"c\"])\n",
    "ghz.h(q[0])\n",
    "ghz.cx(q[0],q[1])\n",
    "ghz.cx(q[1],q[2])\n",
    "\n",
    "# quantum circuit to measure q in standard basis \n",
    "measureZZZ = Q_program.create_circuit(\"measureZZZ\", [\"q\"], [\"c\"])\n",
    "measureZZZ.measure(q[0], c[0])\n",
    "measureZZZ.measure(q[1], c[1])\n",
    "measureZZZ.measure(q[2], c[2])\n",
    "\n",
    "measureXXX = Q_program.create_circuit(\"measureXXX\", [\"q\"], [\"c\"])\n",
    "measureXXX.h(q[0])\n",
    "measureXXX.h(q[1])\n",
    "measureXXX.h(q[2])\n",
    "measureXXX.measure(q[0], c[0])\n",
    "measureXXX.measure(q[1], c[1])\n",
    "measureXXX.measure(q[2], c[2])\n",
    "\n",
    "Q_program.add_circuit(\"ghz_measureZZZ\", ghz+measureZZZ )\n",
    "Q_program.add_circuit(\"ghz_measureXXX\", ghz+measureXXX )\n",
    "circuits = [\"ghz_measureZZZ\", \"ghz_measureXXX\"]\n",
    "Q_program.get_qasms(circuits)\n",
    "Q_program.execute(circuits, device, shots, max_credits=5, wait=10, timeout=240)\n",
    "plot_histogram(Q_program.get_counts(\"ghz_measureZZZ\"))\n",
    "plot_histogram(Q_program.get_counts(\"ghz_measureXXX\"))"
   ]
  },
  {
   "cell_type": "code",
   "execution_count": 20,
   "metadata": {
    "collapsed": false
   },
   "outputs": [
    {
     "name": "stdout",
     "output_type": "stream",
     "text": [
      ">> quantum_registers created: q 4\n",
      ">> classical_registers created: c 4\n",
      "running on backend: ibmqx2\n",
      "status = RUNNING (10 seconds)\n",
      "status = RUNNING (20 seconds)\n",
      "status = RUNNING (30 seconds)\n",
      "status = RUNNING (40 seconds)\n",
      "status = RUNNING (50 seconds)\n",
      "status = RUNNING (60 seconds)\n",
      "status = RUNNING (70 seconds)\n",
      "status = RUNNING (80 seconds)\n",
      "status = RUNNING (90 seconds)\n",
      "status = RUNNING (100 seconds)\n",
      "status = RUNNING (110 seconds)\n",
      "status = RUNNING (120 seconds)\n",
      "status = RUNNING (130 seconds)\n",
      "status = RUNNING (140 seconds)\n",
      "status = RUNNING (150 seconds)\n",
      "status = RUNNING (160 seconds)\n",
      "status = RUNNING (170 seconds)\n",
      "status = RUNNING (180 seconds)\n"
     ]
    },
    {
     "data": {
      "image/png": "[encoded data removed]",
      "text/plain": [
       "<matplotlib.figure.Figure at 0x119ebd908>"
      ]
     },
     "metadata": {},
     "output_type": "display_data"
    },
    {
     "data": {
      "image/png": "[encoded data removed]",
      "text/plain": [
       "<matplotlib.figure.Figure at 0x119ebd080>"
      ]
     },
     "metadata": {},
     "output_type": "display_data"
    }
   ],
   "source": [
    "# 4 - qubits \n",
    "shots = 8192\n",
    "# quantum circuit to make GHZ state \n",
    "q = Q_program.create_quantum_registers(\"q\", 4)\n",
    "c = Q_program.create_classical_registers(\"c\", 4)\n",
    "ghz = Q_program.create_circuit(\"ghz\", [\"q\"], [\"c\"])\n",
    "ghz.h(q[0])\n",
    "ghz.cx(q[0],q[1])\n",
    "ghz.cx(q[1],q[2])\n",
    "ghz.h(q[3])\n",
    "ghz.h(q[2])\n",
    "ghz.cx(q[3],q[2])\n",
    "ghz.h(q[3])\n",
    "ghz.h(q[2])\n",
    "\n",
    "# quantum circuit to measure q in standard basis \n",
    "measureZZZZ = Q_program.create_circuit(\"measureZZZZ\", [\"q\"], [\"c\"])\n",
    "measureZZZZ.measure(q[0], c[0])\n",
    "measureZZZZ.measure(q[1], c[1])\n",
    "measureZZZZ.measure(q[2], c[2])\n",
    "measureZZZZ.measure(q[3], c[3])\n",
    "\n",
    "measureXXXX = Q_program.create_circuit(\"measureXXXX\", [\"q\"], [\"c\"])\n",
    "measureXXXX.h(q[0])\n",
    "measureXXXX.h(q[1])\n",
    "measureXXXX.h(q[2])\n",
    "measureXXXX.h(q[3])\n",
    "measureXXXX.measure(q[0], c[0])\n",
    "measureXXXX.measure(q[1], c[1])\n",
    "measureXXXX.measure(q[2], c[2])\n",
    "measureXXXX.measure(q[3], c[3])\n",
    "\n",
    "Q_program.add_circuit(\"ghz_measureZZZZ\", ghz+measureZZZZ )\n",
    "Q_program.add_circuit(\"ghz_measureXXXX\", ghz+measureXXXX )\n",
    "circuits = [\"ghz_measureZZZZ\", \"ghz_measureXXXX\"]\n",
    "Q_program.get_qasms(circuits)\n",
    "Q_program.execute(circuits, device, shots, max_credits=5, wait=10, timeout=240)\n",
    "plot_histogram(Q_program.get_counts(\"ghz_measureZZZZ\"))\n",
    "plot_histogram(Q_program.get_counts(\"ghz_measureXXXX\"))"
   ]
  },
  {
   "cell_type": "markdown",
   "metadata": {},
   "source": [
    "## Mermin's Test and the Three Box Game<a id='section4'></a>\n",
    "In case the violation of Bell's inequality (CHSH) by two qubits is not enough to convince you to believe in quantum mechanics, we can generalize to a more stringent set of tests with three qubits, which can give a single-shot violation (rather than taking averaged statistics). A well-known three-qubit case is Mermin's inequality, which is a test we can perform on GHZ states. "
   ]
  },
  {
   "cell_type": "markdown",
   "metadata": {},
   "source": [
    "An example of a three-qubit GHZ state is $|\\psi\\rangle = \\left (|000\\rangle+|111\\rangle\\right)/\\sqrt{2}$. You can see this is a further generalization of a Bell state and, if measured, should give $|000\\rangle$ half the time and $|111 \\rangle$ the other half of the time."
   ]
  },
  {
   "cell_type": "code",
   "execution_count": 21,
   "metadata": {
    "collapsed": false
   },
   "outputs": [
    {
     "name": "stdout",
     "output_type": "stream",
     "text": [
      ">> quantum_registers created: q 3\n",
      ">> classical_registers created: c 3\n",
      "running on backend: ibmqx2\n",
      "status = RUNNING (10 seconds)\n",
      "status = RUNNING (20 seconds)\n",
      "status = RUNNING (30 seconds)\n",
      "status = RUNNING (40 seconds)\n",
      "status = RUNNING (50 seconds)\n",
      "status = RUNNING (60 seconds)\n",
      "status = RUNNING (70 seconds)\n",
      "status = RUNNING (80 seconds)\n",
      "status = RUNNING (90 seconds)\n",
      "status = RUNNING (100 seconds)\n",
      "status = RUNNING (110 seconds)\n"
     ]
    },
    {
     "data": {
      "image/png": "[encoded data removed]",
      "text/plain": [
       "<matplotlib.figure.Figure at 0x119c02160>"
      ]
     },
     "metadata": {},
     "output_type": "display_data"
    }
   ],
   "source": [
    "# quantum circuit to make GHZ state \n",
    "q = Q_program.create_quantum_registers(\"q\", 3)\n",
    "c = Q_program.create_classical_registers(\"c\", 3)\n",
    "ghz = Q_program.create_circuit(\"ghz\", [\"q\"], [\"c\"])\n",
    "ghz.h(q[0])\n",
    "ghz.cx(q[0],q[1])\n",
    "ghz.cx(q[0],q[2])\n",
    "\n",
    "# quantum circuit to measure q in standard basis \n",
    "measureZZZ = Q_program.create_circuit(\"measureZZZ\", [\"q\"], [\"c\"])\n",
    "measureZZZ.measure(q[0], c[0])\n",
    "measureZZZ.measure(q[1], c[1])\n",
    "measureZZZ.measure(q[2], c[2])\n",
    "\n",
    "Q_program.add_circuit(\"ghz_measureZZZ\", ghz+measureZZZ )\n",
    "circuits = [\"ghz_measureZZZ\"]\n",
    "Q_program.get_qasms(circuits)\n",
    "Q_program.execute(circuits, device, shots, max_credits=5, wait=10, timeout=240)\n",
    "plot_histogram(Q_program.get_counts(\"ghz_measureZZZ\"))"
   ]
  },
  {
   "cell_type": "markdown",
   "metadata": {},
   "source": [
    "Suppose we have three independent systems, $\\{A, B, C\\}$, for which we can query two particular questions (observables) $X$ and $Y$. In each case, either query can give $+1$ or $-1$. Consider whether it is possible to choose some state of the three boxes such that we can satisfy the following four conditions: $X_A Y_B Y_C = 1$, $Y_A X_B Y_C =1$, $Y_A Y_B X_C = 1$, and $X_A X_B X_C = -1$. Classically, this can be shown to be impossible... but a three-qubit GHZ state can in fact satisfy all four conditions."
   ]
  },
  {
   "cell_type": "code",
   "execution_count": 22,
   "metadata": {
    "collapsed": true
   },
   "outputs": [],
   "source": [
    "MerminM = lambda x : x[0]*x[1]*x[2]*x[3]"
   ]
  },
  {
   "cell_type": "code",
   "execution_count": 23,
   "metadata": {
    "collapsed": true
   },
   "outputs": [],
   "source": [
    "observable ={'00000': 1, '00001': -1, '00010': -1, '00011': 1, '00100': -1, '00101': 1, '00110': 1, '00111': -1}"
   ]
  },
  {
   "cell_type": "code",
   "execution_count": 24,
   "metadata": {
    "collapsed": false
   },
   "outputs": [
    {
     "name": "stdout",
     "output_type": "stream",
     "text": [
      "running on backend: ibmqx2\n",
      "status = RUNNING (10 seconds)\n",
      "status = RUNNING (20 seconds)\n",
      "status = RUNNING (30 seconds)\n",
      "status = RUNNING (40 seconds)\n",
      "status = RUNNING (50 seconds)\n",
      "status = RUNNING (60 seconds)\n",
      "status = RUNNING (70 seconds)\n",
      "status = RUNNING (80 seconds)\n",
      "status = RUNNING (90 seconds)\n",
      "status = RUNNING (100 seconds)\n",
      "status = RUNNING (110 seconds)\n",
      "status = RUNNING (120 seconds)\n",
      "status = RUNNING (130 seconds)\n",
      "status = RUNNING (140 seconds)\n"
     ]
    },
    {
     "data": {
      "text/plain": [
       "{'result': 'all done', 'status': 'COMPLETED'}"
      ]
     },
     "execution_count": 24,
     "metadata": {},
     "output_type": "execute_result"
    }
   ],
   "source": [
    "# quantum circuit to measure q XXX \n",
    "measureXXX = Q_program.create_circuit(\"measureXXX\", [\"q\"], [\"c\"])\n",
    "measureXXX.h(q[0])\n",
    "measureXXX.h(q[1])\n",
    "measureXXX.h(q[2])\n",
    "measureXXX.measure(q[0], c[0])\n",
    "measureXXX.measure(q[1], c[1])\n",
    "measureXXX.measure(q[2], c[2])\n",
    "\n",
    "# quantum circuit to measure q XYY\n",
    "measureXYY = Q_program.create_circuit(\"measureXYY\", [\"q\"], [\"c\"])\n",
    "measureXYY.s(q[1]).inverse()\n",
    "measureXYY.s(q[2]).inverse()\n",
    "measureXYY.h(q[0])\n",
    "measureXYY.h(q[1])\n",
    "measureXYY.h(q[2])\n",
    "measureXYY.measure(q[0], c[0])\n",
    "measureXYY.measure(q[1], c[1])\n",
    "measureXYY.measure(q[2], c[2])\n",
    "\n",
    "# quantum circuit to measure q YXY\n",
    "measureYXY = Q_program.create_circuit(\"measureYXY\", [\"q\"], [\"c\"])\n",
    "measureYXY.s(q[0]).inverse()\n",
    "measureYXY.s(q[2]).inverse()\n",
    "measureYXY.h(q[0])\n",
    "measureYXY.h(q[1])\n",
    "measureYXY.h(q[2])\n",
    "measureYXY.measure(q[0], c[0])\n",
    "measureYXY.measure(q[1], c[1])\n",
    "measureYXY.measure(q[2], c[2])\n",
    "\n",
    "# quantum circuit to measure q YYX\n",
    "measureYYX = Q_program.create_circuit(\"measureYYX\", [\"q\"], [\"c\"])\n",
    "measureYYX.s(q[0]).inverse()\n",
    "measureYYX.s(q[1]).inverse()\n",
    "measureYYX.h(q[0])\n",
    "measureYYX.h(q[1])\n",
    "measureYYX.h(q[2])\n",
    "measureYYX.measure(q[0], c[0])\n",
    "measureYYX.measure(q[1], c[1])\n",
    "measureYYX.measure(q[2], c[2])\n",
    "\n",
    "Q_program.add_circuit(\"ghz_measureXXX\", ghz+measureXXX )\n",
    "Q_program.add_circuit(\"ghz_measureYYX\", ghz+measureYYX )\n",
    "Q_program.add_circuit(\"ghz_measureYXY\", ghz+measureYXY )\n",
    "Q_program.add_circuit(\"ghz_measureXYY\", ghz+measureXYY )\n",
    "\n",
    "circuits = [\"ghz_measureXXX\", \"ghz_measureYYX\", \"ghz_measureYXY\", \"ghz_measureXYY\"]\n",
    "Q_program.get_qasms(circuits)\n",
    "Q_program.execute(circuits, device, shots, max_credits=5, wait=10, timeout=240)"
   ]
  },
  {
   "cell_type": "code",
   "execution_count": 25,
   "metadata": {
    "collapsed": false
   },
   "outputs": [
    {
     "name": "stdout",
     "output_type": "stream",
     "text": [
      "-0.1829908221290566\n"
     ]
    }
   ],
   "source": [
    "temp=[]\n",
    "temp.append(Q_program.average_data(\"ghz_measureXXX\",observable))\n",
    "temp.append(Q_program.average_data(\"ghz_measureYYX\",observable))\n",
    "temp.append(Q_program.average_data(\"ghz_measureYXY\",observable))\n",
    "temp.append(Q_program.average_data(\"ghz_measureXYY\",observable))\n",
    "print(MerminM(temp))"
   ]
  },
  {
   "cell_type": "markdown",
   "metadata": {},
   "source": [
    "The above shows that the average statistics are not consistent with a local hidden variable theory. To demonstrate with single shots, we can run 50 single experiments, with each experiment chosen randomly, and the outcomes saved. If there was a local hidden variable theory, all the outcomes would be $+1$."
   ]
  },
  {
   "cell_type": "code",
   "execution_count": null,
   "metadata": {
    "collapsed": true
   },
   "outputs": [],
   "source": []
  }
 ],
 "metadata": {
  "anaconda-cloud": {},
  "kernelspec": {
   "display_name": "Python 3",
   "language": "python",
   "name": "python3"
  },
  "language_info": {
   "codemirror_mode": {
    "name": "ipython",
    "version": 3
   },
   "file_extension": ".py",
   "mimetype": "text/x-python",
   "name": "python",
   "nbconvert_exporter": "python",
   "pygments_lexer": "ipython3",
   "version": "3.6.0"
  }
 },
 "nbformat": 4,
 "nbformat_minor": 0
}
