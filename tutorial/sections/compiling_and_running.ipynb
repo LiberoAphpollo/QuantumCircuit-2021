{
 "cells": [
  {
   "cell_type": "markdown",
   "metadata": {},
   "source": [
    "<img src=\"../images/QISKit-c.gif\" alt=\"Note: In order for images to show up in this jupyter notebook you need to select File => Trusted Notebook\" width=\"250 px\" align=\"left\">"
   ]
  },
  {
   "cell_type": "markdown",
   "metadata": {},
   "source": [
    "## _*Compiling and running a quantum program*_ \n",
    "\n",
    "For more information about how to use the IBM Q experience (QX), consult the [tutorials](https://quantumexperience.ng.bluemix.net/qstage/#/tutorial?sectionId=c59b3710b928891a1420190148a72cce&pageIndex=0), or check out the [community](https://quantumexperience.ng.bluemix.net/qstage/#/community).\n",
    "\n",
    "***\n",
    "### Contributors\n",
    "Andrew Cross"
   ]
  },
  {
   "cell_type": "markdown",
   "metadata": {},
   "source": [
    "The qubits in the QX devices are arranged in a plane and connected to their neighbors. Because each qubit is not connected to all of the others, some circuits cannot execute without rewriting them to use the interactions that are available. A standard way to do this is to insert \"swap\" gates, which exchange the states of pairs of qubits, to move distant qubits near one another. QISKit includes methods to do this for you.\n",
    "\n",
    "Circuit rewriting occurs in QISKit whenever you specify a \"coupling graph\", but by default your circuits are not changed. The coupling graph is a Python dictionary whose keys are qubits that can be used as controls and whose values are lists of possible targets for CNOT gates. In other words, the coupling graph represents the qubit layout as an adjacency list for a directed graph. \n",
    "\n",
    "The compile() method of QuantumProgram currently applies a fixed sequence of passes:\n",
    "\n",
    "* swap_mapper: uses a greedy randomized algorithm to find a swap circuit for each layer of the input circuit\n",
    "* direction_mapper: changes the direction of CNOT gates as needed\n",
    "* cx_cancellation: simplifies adjacent pairs of CNOT gates\n",
    "* optimize_1q_gates: replaces sequences of single qubit gates by their compositions\n",
    "\n",
    "Here is an example of this process applied to the quantum Fourier transform (QFT)."
   ]
  },
  {
   "cell_type": "code",
   "execution_count": 1,
   "metadata": {},
   "outputs": [],
   "source": [
    "# Checking the version of PYTHON; we only support 3 at the moment\n",
    "import sys\n",
    "if sys.version_info < (3,0):\n",
    "    raise Exception(\"Please use Python version 3 or greater.\")\n",
    "    \n",
    "# Import the QuantumProgram and our configuration\n",
    "sys.path.append(\"../../\")\n",
    "import math\n",
    "from qiskit import QuantumProgram\n",
    "import Qconfig\n",
    "\n",
    "\n",
    "# Define methods for making QFT circuits\n",
    "def input_state(circ, q, n):\n",
    "    \"\"\"n-qubit input state for QFT that produces output 1.\"\"\"\n",
    "    for j in range(n):\n",
    "        circ.h(q[j])\n",
    "        circ.u1(math.pi/float(2**(j)), q[j]).inverse()\n",
    "\n",
    "\n",
    "def qft(circ, q, n):\n",
    "    \"\"\"n-qubit QFT on q in circ.\"\"\"\n",
    "    for j in range(n):\n",
    "        for k in range(j):\n",
    "            circ.cu1(math.pi/float(2**(j-k)), q[j], q[k])\n",
    "        circ.h(q[j])"
   ]
  },
  {
   "cell_type": "markdown",
   "metadata": {},
   "source": [
    "Start by creating a quantum circuit on 3 qubits that prepares an input state, does the QFT, and measures each qubit. The input state is chosen so that the ideal measurement outcome after the QFT is \"001\". The OPENQASM output is expressed in terms of Hadamard (h), u1(theta):=diag(1,$e^{i\\theta}$), and controlled-u1 (cu1) gates."
   ]
  },
  {
   "cell_type": "code",
   "execution_count": 2,
   "metadata": {},
   "outputs": [
    {
     "name": "stdout",
     "output_type": "stream",
     "text": [
      ">> quantum_registers created: q 3\n",
      ">> classical_registers created: c 3\n",
      "OPENQASM 2.0;\n",
      "include \"qelib1.inc\";\n",
      "qreg q[3];\n",
      "creg c[3];\n",
      "h q[0];\n",
      "u1(-3.141592653589793) q[0];\n",
      "h q[1];\n",
      "u1(-1.570796326794897) q[1];\n",
      "h q[2];\n",
      "u1(-0.785398163397448) q[2];\n",
      "h q[0];\n",
      "cu1(1.570796326794897) q[1],q[0];\n",
      "h q[1];\n",
      "cu1(0.785398163397448) q[2],q[0];\n",
      "cu1(1.570796326794897) q[2],q[1];\n",
      "h q[2];\n",
      "measure q[0] -> c[0];\n",
      "measure q[1] -> c[1];\n",
      "measure q[2] -> c[2];\n",
      "\n"
     ]
    }
   ],
   "source": [
    "qp = QuantumProgram()\n",
    "q = qp.create_quantum_registers(\"q\", 3)\n",
    "c = qp.create_classical_registers(\"c\", 3)\n",
    "qft3 = qp.create_circuit(\"qft3\", [q], [c])\n",
    "input_state(qft3, q, 3)\n",
    "qft(qft3, q, 3)\n",
    "for i in range(3):\n",
    "    qft3.measure(q[i], c[i])\n",
    "print(qft3.qasm())"
   ]
  },
  {
   "cell_type": "markdown",
   "metadata": {},
   "source": [
    "If we execute this circuit on the local simulator, we indeed see that the outcome is always \"001\"."
   ]
  },
  {
   "cell_type": "code",
   "execution_count": 3,
   "metadata": {},
   "outputs": [
    {
     "name": "stdout",
     "output_type": "stream",
     "text": [
      "running on backend: local_qasm_simulator\n"
     ]
    },
    {
     "data": {
      "text/plain": [
       "{'001': 1024}"
      ]
     },
     "execution_count": 3,
     "metadata": {},
     "output_type": "execute_result"
    }
   ],
   "source": [
    "qp.execute([\"qft3\"], backend=\"local_qasm_simulator\", shots=1024)\n",
    "qp.get_counts(\"qft3\")"
   ]
  },
  {
   "cell_type": "markdown",
   "metadata": {},
   "source": [
    "After calling execute, we can request the \"compiled\" OPENQASM that was sent to the local simulator. The default behavior is that the circuit is not changed. Looking at the output below, you can see that each gate is expanded according to its definition into gates u1, u2, u3, and cx. There are no further simplifications. For example, the first three gates on q[2] could be combined into a single gate but they are not."
   ]
  },
  {
   "cell_type": "code",
   "execution_count": 4,
   "metadata": {},
   "outputs": [
    {
     "name": "stdout",
     "output_type": "stream",
     "text": [
      "OPENQASM 2.0;\n",
      "qreg q[3];\n",
      "creg c[3];\n",
      "gate u2(phi,lambda) q\n",
      "{\n",
      "  U((3.141592653589793/2),phi,lambda) q;\n",
      "}\n",
      "gate u1(lambda) q\n",
      "{\n",
      "  U(0,0,lambda) q;\n",
      "}\n",
      "gate cx c,t\n",
      "{\n",
      "  CX c,t;\n",
      "}\n",
      "u2(0.0,3.141592653589793) q[2];\n",
      "u1(-0.785398163397448) q[2];\n",
      "u1(0.392699081698724) q[2];\n",
      "u2(0.0,3.141592653589793) q[1];\n",
      "u1(-1.570796326794897) q[1];\n",
      "u1(0.7853981633974485) q[1];\n",
      "u2(0.0,3.141592653589793) q[0];\n",
      "u1(-3.141592653589793) q[0];\n",
      "u2(0.0,3.141592653589793) q[0];\n",
      "cx q[1],q[0];\n",
      "u1(-0.7853981633974485) q[0];\n",
      "cx q[1],q[0];\n",
      "u1(0.7853981633974485) q[0];\n",
      "cx q[2],q[0];\n",
      "u1(-0.392699081698724) q[0];\n",
      "cx q[2],q[0];\n",
      "u1(0.392699081698724) q[0];\n",
      "measure q[0] -> c[0];\n",
      "u1(0.7853981633974485) q[2];\n",
      "u2(0.0,3.141592653589793) q[1];\n",
      "cx q[2],q[1];\n",
      "u1(-0.7853981633974485) q[1];\n",
      "cx q[2],q[1];\n",
      "u1(0.7853981633974485) q[1];\n",
      "measure q[1] -> c[1];\n",
      "u2(0.0,3.141592653589793) q[2];\n",
      "measure q[2] -> c[2];\n",
      "\n"
     ]
    }
   ],
   "source": [
    "print(qp.get_ran_qasm(\"qft3\"))"
   ]
  },
  {
   "cell_type": "markdown",
   "metadata": {},
   "source": [
    "Now we will allow QISKit to rewrite the circuit for us. The ibmqx2 backend has subsets of 3 fully-connected qubits. We will get the best results if we use one of these, since there won't be any need to swap. \n",
    "\n",
    "To get QISKit to rewrite the circuit in this way, we need to provide the \"coupling map\" and an initial layout. The coupling map below has entries such as \"0: [1, 2]\". This means that it is valid to apply a CNOT gate from q[0] to q[1] and from q[0] to q[2] (where q[0] is the control qubit). The initial layout has entries like \"(\"q\", 0): (\"q\", 2)\", which means that we should place q[0] from our input circuit at qubit q[2] on the device. Our choice places the qubits of the QFT circuit onto one of the triangles in the coupling graph.\n",
    "\n",
    "QISKit will only attempt to rewrite the circuit if coupling_map is not None. The initial_layout is always optional. If one is not given, QISKit will layout the qubits somewhat arbitrarily and attempt to adjust the layout so the first layer of gates does not require swapping. Note that the mapper will currently fail and raise an exception if the graph induced by the layout is not connected.\n",
    "\n",
    "We will run on the local simulator for convenience but you can change the backend to \"ibmqx2\" to select the device."
   ]
  },
  {
   "cell_type": "code",
   "execution_count": 5,
   "metadata": {},
   "outputs": [
    {
     "name": "stdout",
     "output_type": "stream",
     "text": [
      "pre-mapping properties: {'size': 27, 'depth': 16, 'width': 3, 'bits': 3, 'factors': 1, 'operations': {'u2': 6, 'u1': 12, 'cx': 6, 'measure': 3}}\n",
      "initial layout: {('q', 0): ('q', 2), ('q', 1): ('q', 3), ('q', 2): ('q', 4)}\n",
      "final layout: {('q', 0): ('q', 2), ('q', 1): ('q', 3), ('q', 2): ('q', 4)}\n",
      "post-mapping properties: {'size': 22, 'depth': 14, 'width': 5, 'bits': 3, 'factors': 3, 'operations': {'u2': 4, 'u3': 2, 'cx': 6, 'u1': 7, 'measure': 3}}\n",
      "running on backend: local_qasm_simulator\n"
     ]
    },
    {
     "data": {
      "text/plain": [
       "{'001': 1024}"
      ]
     },
     "execution_count": 5,
     "metadata": {},
     "output_type": "execute_result"
    }
   ],
   "source": [
    "# Coupling map for ibmqx2 \"bowtie\"\n",
    "coupling_map = {0: [1, 2],\n",
    "                1: [2],\n",
    "                2: [],\n",
    "                3: [2, 4],\n",
    "                4: [2]}\n",
    "# Place the qubits on a triangle in the bow-tie\n",
    "initial_layout={(\"q\", 0): (\"q\", 2), (\"q\", 1): (\"q\", 3), (\"q\", 2): (\"q\", 4)}\n",
    "qp.execute([\"qft3\"], backend=\"local_qasm_simulator\", coupling_map=coupling_map, initial_layout=initial_layout)\n",
    "qp.get_counts(\"qft3\")"
   ]
  },
  {
   "cell_type": "markdown",
   "metadata": {},
   "source": [
    "This time QISKit has printed a few additional lines of information. You can turn this off by passing \"silent=True\". We can see that the chosen layout is the layout we requested. The number of CNOT gates was unchanged but several single qubit gates were eliminated. We can confirm this by looking at the \"compiled\" OPENQASM. Notice that the \"cx q[2], q[1];\" gate was mapped to \"cx q[3], q[4];\" instead of \"cx q[4], q[3];\" because the latter is not in the coupling map. Hadamard gates were inserted to exchange the control and target, and the resulting single qubit gates were simplified."
   ]
  },
  {
   "cell_type": "code",
   "execution_count": 6,
   "metadata": {},
   "outputs": [
    {
     "name": "stdout",
     "output_type": "stream",
     "text": [
      "OPENQASM 2.0;\n",
      "qreg q[5];\n",
      "creg c[3];\n",
      "gate u2(phi,lambda) q\n",
      "{\n",
      "  U((3.141592653589793/2),phi,lambda) q;\n",
      "}\n",
      "gate u1(lambda) q\n",
      "{\n",
      "  U(0,0,lambda) q;\n",
      "}\n",
      "gate cx c,t\n",
      "{\n",
      "  CX c,t;\n",
      "}\n",
      "u2(-0.392699081698724,3.141592653589793) q[4];\n",
      "u2(-0.7853981633974485,3.141592653589793) q[3];\n",
      "u3(3.141592653589793,1.5707963267948966,4.71238898038469) q[2];\n",
      "cx q[3],q[2];\n",
      "u1(-0.7853981633974485) q[2];\n",
      "cx q[3],q[2];\n",
      "u1(6.283185307179586) q[3];\n",
      "u1(0.7853981633974485) q[2];\n",
      "cx q[4],q[2];\n",
      "u1(-0.392699081698724) q[2];\n",
      "cx q[4],q[2];\n",
      "u2(0.0,3.9269908169872414) q[4];\n",
      "cx q[3],q[4];\n",
      "u1(6.283185307179586) q[4];\n",
      "u3(0.7853981633974485,1.5707963267948966,4.71238898038469) q[3];\n",
      "cx q[3],q[4];\n",
      "u1(6.283185307179586) q[4];\n",
      "measure q[4] -> c[2];\n",
      "u2(0.7853981633974485,3.141592653589793) q[3];\n",
      "measure q[3] -> c[1];\n",
      "u1(0.392699081698724) q[2];\n",
      "measure q[2] -> c[0];\n",
      "\n"
     ]
    }
   ],
   "source": [
    "print(qp.get_ran_qasm(\"qft3\"))"
   ]
  },
  {
   "cell_type": "markdown",
   "metadata": {},
   "source": [
    "Finally, let's layout the qubits onto a segment of the ibmqx3 16 qubit device."
   ]
  },
  {
   "cell_type": "code",
   "execution_count": 7,
   "metadata": {},
   "outputs": [
    {
     "name": "stdout",
     "output_type": "stream",
     "text": [
      "pre-mapping properties: {'size': 27, 'depth': 16, 'width': 3, 'bits': 3, 'factors': 1, 'operations': {'u2': 6, 'u1': 12, 'cx': 6, 'measure': 3}}\n",
      "initial layout: {('q', 0): ('q', 0), ('q', 1): ('q', 1), ('q', 2): ('q', 2)}\n",
      "final layout: {('q', 0): ('q', 0), ('q', 1): ('q', 1), ('q', 2): ('q', 2)}\n",
      "post-mapping properties: {'size': 31, 'depth': 20, 'width': 3, 'bits': 3, 'factors': 1, 'operations': {'u2': 10, 'u3': 4, 'cx': 9, 'u1': 5, 'measure': 3}}\n",
      "running on backend: local_qasm_simulator\n"
     ]
    },
    {
     "data": {
      "text/plain": [
       "{'001': 1024}"
      ]
     },
     "execution_count": 7,
     "metadata": {},
     "output_type": "execute_result"
    }
   ],
   "source": [
    "# Place the qubits on a linear segment of the ibmqx3\n",
    "coupling_map = {0: [1], 1: [2], 2: [3], 3: [14], 4: [3], 4: [5], 6: [7, 11], 7: [10], 8: [7], 9: [8, 10], 11: [10], 12: [5, 11, 13], 13: [4, 14], 15: [0, 14]}\n",
    "initial_layout={(\"q\", 0): (\"q\", 0), (\"q\", 1): (\"q\", 1), (\"q\", 2): (\"q\", 2)}\n",
    "qp.execute([\"qft3\"], backend=\"local_qasm_simulator\", coupling_map=coupling_map, initial_layout=initial_layout)\n",
    "qp.get_counts(\"qft3\")"
   ]
  },
  {
   "cell_type": "markdown",
   "metadata": {},
   "source": [
    "Because the qubits are now on a line, a swap gate is needed to interact the qubits at the endpoints of the line. As you can see, the number of cx gates increases, as does the circuit depth. We can look at the \"compiled\" OPENQASM to see the additional swap."
   ]
  },
  {
   "cell_type": "code",
   "execution_count": 8,
   "metadata": {},
   "outputs": [
    {
     "name": "stdout",
     "output_type": "stream",
     "text": [
      "OPENQASM 2.0;\n",
      "qreg q[3];\n",
      "creg c[3];\n",
      "gate u2(phi,lambda) q\n",
      "{\n",
      "  U((3.141592653589793/2),phi,lambda) q;\n",
      "}\n",
      "gate u1(lambda) q\n",
      "{\n",
      "  U(0,0,lambda) q;\n",
      "}\n",
      "gate cx c,t\n",
      "{\n",
      "  CX c,t;\n",
      "}\n",
      "u2(-0.392699081698724,3.141592653589793) q[2];\n",
      "u3(0.7853981633974485,1.5707963267948966,4.71238898038469) q[1];\n",
      "u2(3.141592653589793,3.141592653589793) q[0];\n",
      "cx q[0],q[1];\n",
      "u1(6.283185307179586) q[1];\n",
      "u3(0.7853981633974485,1.5707963267948966,4.71238898038469) q[0];\n",
      "cx q[0],q[1];\n",
      "u1(6.283185307179586) q[1];\n",
      "cx q[1],q[2];\n",
      "u2(0.0,3.141592653589793) q[1];\n",
      "u2(0.0,3.141592653589793) q[2];\n",
      "cx q[1],q[2];\n",
      "u2(0.0,3.141592653589793) q[2];\n",
      "u2(0.0,3.141592653589793) q[1];\n",
      "cx q[1],q[2];\n",
      "u2(0.0,3.141592653589793) q[1];\n",
      "u3(-0.7853981633974485,1.5707963267948966,4.71238898038469) q[0];\n",
      "cx q[0],q[1];\n",
      "u1(6.283185307179586) q[1];\n",
      "u3(0.392699081698724,1.5707963267948966,4.71238898038469) q[0];\n",
      "cx q[0],q[1];\n",
      "u2(0.7853981633974485,3.141592653589793) q[1];\n",
      "cx q[1],q[2];\n",
      "u1(-0.7853981633974485) q[2];\n",
      "cx q[1],q[2];\n",
      "u2(0.0,3.141592653589793) q[1];\n",
      "measure q[1] -> c[2];\n",
      "u1(0.7853981633974485) q[2];\n",
      "measure q[2] -> c[1];\n",
      "u2(0.392699081698724,3.141592653589793) q[0];\n",
      "measure q[0] -> c[0];\n",
      "\n"
     ]
    }
   ],
   "source": [
    "print(qp.get_ran_qasm(\"qft3\"))"
   ]
  },
  {
   "cell_type": "code",
   "execution_count": null,
   "metadata": {
    "collapsed": true
   },
   "outputs": [],
   "source": []
  },
  {
   "cell_type": "code",
   "execution_count": 9,
   "metadata": {},
   "outputs": [
    {
     "name": "stdout",
     "output_type": "stream",
     "text": [
      ">> quantum_registers created: q 4\n",
      ">> classical_registers created: c 4\n",
      "OPENQASM 2.0;\n",
      "include \"qelib1.inc\";\n",
      "qreg q[4];\n",
      "creg c[4];\n",
      "h q[0];\n",
      "cx q[0],q[1];\n",
      "cx q[1],q[2];\n",
      "cx q[2],q[3];\n",
      "measure q[0] -> c[0];\n",
      "measure q[1] -> c[1];\n",
      "measure q[2] -> c[2];\n",
      "\n"
     ]
    }
   ],
   "source": [
    "qp = QuantumProgram()\n",
    "\n",
    "q = qp.create_quantum_registers(\"q\", 4)\n",
    "c = qp.create_classical_registers(\"c\", 4)\n",
    "circuit = qp.create_circuit(\"circuit\", [q], [c])\n",
    "circuit.h(q[0])\n",
    "circuit.cx(q[0], q[1])\n",
    "circuit.cx(q[1], q[2])\n",
    "circuit.cx(q[2], q[3])\n",
    "for i in range(3):\n",
    "    circuit.measure(q[i], c[i])\n",
    "\n",
    "print(qp.get_qasm(\"circuit\"))"
   ]
  },
  {
   "cell_type": "code",
   "execution_count": 10,
   "metadata": {},
   "outputs": [],
   "source": [
    "qp.get_execution_list(verbose=True)"
   ]
  },
  {
   "cell_type": "code",
   "execution_count": 11,
   "metadata": {},
   "outputs": [
    {
     "name": "stdout",
     "output_type": "stream",
     "text": [
      "local_qasm_simulator:\n",
      "  circuit:\n",
      "    shots = 1024\n",
      "    max_credits = 3\n",
      "    seed (simulator only) = 0\n"
     ]
    }
   ],
   "source": [
    "qp.compile([\"circuit\"], backend=\"local_qasm_simulator\")\n",
    "qp.get_execution_list()"
   ]
  },
  {
   "cell_type": "code",
   "execution_count": 12,
   "metadata": {},
   "outputs": [
    {
     "name": "stdout",
     "output_type": "stream",
     "text": [
      "local_qasm_simulator:\n",
      "  circuit:\n",
      "    shots = 1024\n",
      "    max_credits = 3\n",
      "    seed (simulator only) = 0\n",
      "    compiled_circuit =\n",
      "// *******************************************\n",
      "{\n",
      "    \"header\": {\n",
      "        \"clbit_labels\": [\n",
      "            [\n",
      "                \"c\",\n",
      "                4\n",
      "            ]\n",
      "        ],\n",
      "        \"number_of_clbits\": 4,\n",
      "        \"number_of_qubits\": 4,\n",
      "        \"qubit_labels\": [\n",
      "            [\n",
      "                \"q\",\n",
      "                0\n",
      "            ],\n",
      "            [\n",
      "                \"q\",\n",
      "                1\n",
      "            ],\n",
      "            [\n",
      "                \"q\",\n",
      "                2\n",
      "            ],\n",
      "            [\n",
      "                \"q\",\n",
      "                3\n",
      "            ]\n",
      "        ]\n",
      "    },\n",
      "    \"operations\": [\n",
      "        {\n",
      "            \"name\": \"u2\",\n",
      "            \"params\": [\n",
      "                0.0,\n",
      "                3.141592653589793\n",
      "            ],\n",
      "            \"qubits\": [\n",
      "                0\n",
      "            ]\n",
      "        },\n",
      "        {\n",
      "            \"name\": \"cx\",\n",
      "            \"params\": [],\n",
      "            \"qubits\": [\n",
      "                0,\n",
      "                1\n",
      "            ]\n",
      "        },\n",
      "        {\n",
      "            \"name\": \"cx\",\n",
      "            \"params\": [],\n",
      "            \"qubits\": [\n",
      "                1,\n",
      "                2\n",
      "            ]\n",
      "        },\n",
      "        {\n",
      "            \"name\": \"cx\",\n",
      "            \"params\": [],\n",
      "            \"qubits\": [\n",
      "                2,\n",
      "                3\n",
      "            ]\n",
      "        },\n",
      "        {\n",
      "            \"clbits\": [\n",
      "                2\n",
      "            ],\n",
      "            \"name\": \"measure\",\n",
      "            \"qubits\": [\n",
      "                2\n",
      "            ]\n",
      "        },\n",
      "        {\n",
      "            \"clbits\": [\n",
      "                1\n",
      "            ],\n",
      "            \"name\": \"measure\",\n",
      "            \"qubits\": [\n",
      "                1\n",
      "            ]\n",
      "        },\n",
      "        {\n",
      "            \"clbits\": [\n",
      "                0\n",
      "            ],\n",
      "            \"name\": \"measure\",\n",
      "            \"qubits\": [\n",
      "                0\n",
      "            ]\n",
      "        }\n",
      "    ]\n",
      "}\n",
      "// *******************************************\n"
     ]
    }
   ],
   "source": [
    "qp.get_execution_list(verbose=True)"
   ]
  },
  {
   "cell_type": "code",
   "execution_count": 13,
   "metadata": {},
   "outputs": [
    {
     "data": {
      "text/plain": [
       "{'result': 'all done', 'status': 'COMPLETED'}"
      ]
     },
     "execution_count": 13,
     "metadata": {},
     "output_type": "execute_result"
    }
   ],
   "source": [
    "qp.compile([\"circuit\"], backend=\"ibmqx2\")"
   ]
  },
  {
   "cell_type": "code",
   "execution_count": 14,
   "metadata": {},
   "outputs": [
    {
     "name": "stdout",
     "output_type": "stream",
     "text": [
      "local_qasm_simulator:\n",
      "  circuit:\n",
      "    shots = 1024\n",
      "    max_credits = 3\n",
      "    seed (simulator only) = 0\n",
      "ibmqx2:\n",
      "  circuit:\n",
      "    shots = 1024\n",
      "    max_credits = 3\n",
      "    seed (simulator only) = 0\n"
     ]
    }
   ],
   "source": [
    "qp.get_execution_list()"
   ]
  },
  {
   "cell_type": "code",
   "execution_count": 15,
   "metadata": {},
   "outputs": [],
   "source": [
    "qp.delete_execution_list()\n",
    "qp.get_execution_list()"
   ]
  },
  {
   "cell_type": "code",
   "execution_count": 16,
   "metadata": {},
   "outputs": [
    {
     "data": {
      "text/plain": [
       "{'result': 'all done', 'status': 'COMPLETED'}"
      ]
     },
     "execution_count": 16,
     "metadata": {},
     "output_type": "execute_result"
    }
   ],
   "source": [
    "coupling_map = {0: [2], 1: [2], 3: [2]} \n",
    "shots = 100\n",
    "initial_layout = {(\"q\", 0): (\"q\", 0), (\"q\", 1): (\"q\", 1), (\"q\", 2): (\"q\", 2), (\"q\", 3): (\"q\", 3)}\n",
    "qp.compile([\"circuit\"], backend=\"local_qasm_simulator\", coupling_map=coupling_map, \n",
    "                  initial_layout=initial_layout, shots=shots)"
   ]
  },
  {
   "cell_type": "code",
   "execution_count": 17,
   "metadata": {},
   "outputs": [
    {
     "name": "stdout",
     "output_type": "stream",
     "text": [
      "local_qasm_simulator:\n",
      "  circuit:\n",
      "    shots = 100\n",
      "    max_credits = 3\n",
      "    seed (simulator only) = 0\n"
     ]
    }
   ],
   "source": [
    "qp.get_execution_list()"
   ]
  },
  {
   "cell_type": "code",
   "execution_count": 18,
   "metadata": {},
   "outputs": [
    {
     "name": "stdout",
     "output_type": "stream",
     "text": [
      "local_qasm_simulator:\n",
      "  circuit:\n",
      "    shots = 100\n",
      "    max_credits = 3\n",
      "    seed (simulator only) = 0\n",
      "  circuit:\n",
      "    shots = 1024\n",
      "    max_credits = 3\n",
      "    seed (simulator only) = 0\n"
     ]
    }
   ],
   "source": [
    "qp.compile([\"circuit\"], backend=\"local_qasm_simulator\") # Compile your program\n",
    "\n",
    "qp.get_execution_list()\n"
   ]
  },
  {
   "cell_type": "code",
   "execution_count": 19,
   "metadata": {},
   "outputs": [
    {
     "name": "stdout",
     "output_type": "stream",
     "text": [
      "{}\n"
     ]
    },
    {
     "data": {
      "text/plain": [
       "'No compiled configurations for this circuit'"
      ]
     },
     "execution_count": 19,
     "metadata": {},
     "output_type": "execute_result"
    }
   ],
   "source": [
    "qp.get_compiled_configurations(\"circuit\", backend=\"local_qasm_simulator\")"
   ]
  },
  {
   "cell_type": "code",
   "execution_count": null,
   "metadata": {
    "collapsed": true
   },
   "outputs": [],
   "source": [
    "qp.delete_execution_list()"
   ]
  }
 ],
 "metadata": {
  "kernelspec": {
   "display_name": "Python 3",
   "language": "python",
   "name": "python3"
  },
  "language_info": {
   "codemirror_mode": {
    "name": "ipython",
    "version": 3
   },
   "file_extension": ".py",
   "mimetype": "text/x-python",
   "name": "python",
   "nbconvert_exporter": "python",
   "pygments_lexer": "ipython3",
   "version": "3.6.1"
  }
 },
 "nbformat": 4,
 "nbformat_minor": 2
}
