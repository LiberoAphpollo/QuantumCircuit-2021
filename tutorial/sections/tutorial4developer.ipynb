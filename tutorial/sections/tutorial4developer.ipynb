{
 "cells": [
  {
   "cell_type": "markdown",
   "metadata": {},
   "source": [
    "<img src=\"../../images/QISKit-c.gif\" alt=\"Note: In order for images to show up in this jupyter notebook you need to select File => Trusted Notebook\" width=\"250 px\" align=\"left\">"
   ]
  },
  {
   "cell_type": "markdown",
   "metadata": {},
   "source": [
    "## _*Getting Started with QISKit SDK*_ \n",
    "\n",
    "For more information about how to use the Quantum Experience, consult the [Quantum Experience tutorials](https://quantumexperience.ng.bluemix.net/qstage/#/tutorial?sectionId=c59b3710b928891a1420190148a72cce&pageIndex=0) or check out QX [community forum](https://quantumexperience.ng.bluemix.net/qstage/#/community).\n",
    "\n",
    "***\n",
    "### Contributors\n",
    "Ismael Faro, Jay M. Gambetta"
   ]
  },
  {
   "cell_type": "markdown",
   "metadata": {},
   "source": [
    "## Quantum QISKit SDK tutorial\n",
    "\n",
    "This tutorial aims to explain how to use the QISKit SDK, but from a developer's point-of-view. We review the steps it takes to install and start to use the SDK tools.\n",
    "\n",
    "QISKIt is a Python software development kit (SDK) that you can use to create your quantum computing programs, based on circuits defined through the [OpenQASM 2.0 specification](https://github.com/IBM/qiskit-openqasm), compiled and then executed on several Backends (Real Quantum Processors online, Simulators online and Simulators on local). For the online Backends QISKit uses our [python API connector](https://github.com/IBM/qiskit-api-py) to the [IBM Quantum Experience project](http://quantumexperience.ng.bluemix.net/).\n",
    "\n",
    "Once you get through this, we have other tutorials that introduce you to more complex concepts directly related with quantum computing.\n",
    "\n",
    "More examples:\n",
    "- Get a basic familiarity with the important concepts of [superposition and entanglement](superposition_and_entanglement.ipynb).\n",
    "- Go beyond and explore a bit more in-depth in [superposition revisited](entanglement_revisited.ipynb).\n",
    "\n"
   ]
  },
  {
   "cell_type": "markdown",
   "metadata": {},
   "source": [
    "## Install QISKit\n",
    "\n",
    "The easiest way to install QISKit is by using the Anaconda python distribution.\n",
    "\n",
    "- Install Anaconda: https://www.continuum.io/downloads\n",
    "\n",
    "After that, install QISKit from the git repository\n",
    "\n",
    "- Clone the repo:\n",
    "\n",
    "```sh\n",
    "git clone https://github.ibm.com/IBMQuantum/qiskit-sdk-py-dev\n",
    "cd qiskit-sdk-py-dev\n",
    "```\n",
    "\n",
    "- Create the environment with the dependencies:\n",
    "\n",
    "```sh\n",
    "make env\n",
    "```\n",
    "\n",
    "## Use QISKit Python SDK\n",
    "\n",
    "You can use the examples in an easy way with Jupyter or Python\n",
    "\n",
    "Add your personal API token to the file \"Qconfig.py\" (get it from [IBM Quantum Experience](https://quantumexperience.ng.bluemix.net) > Account):\n",
    "\n",
    "```sh\n",
    "cp tutorial/Qconfig.py.default Qconfig.py\n",
    "```\n",
    "Run Jupyter notebook.\n",
    "\n",
    "```sh\n",
    "make run\n",
    "```"
   ]
  },
  {
   "cell_type": "markdown",
   "metadata": {},
   "source": [
    "## Basic Concept\n",
    "\n",
    "### Create a Program\n",
    "\n",
    "First you need to import the QuantumProgram package from QISKit"
   ]
  },
  {
   "cell_type": "code",
   "execution_count": null,
   "metadata": {
    "collapsed": false
   },
   "outputs": [],
   "source": [
    "import sys\n",
    "sys.path.append(\"../../\") # solve the relative dependencies if you clone QISKit from the Git repo and use like a global.\n",
    "\n",
    "from qiskit import QuantumProgram\n",
    "import Qconfig"
   ]
  },
  {
   "cell_type": "markdown",
   "metadata": {},
   "source": [
    "The basic elements that you need to create your first program are, the QuantumProgram,  a Circuit, a Quantum Register and a Classical Register."
   ]
  },
  {
   "cell_type": "code",
   "execution_count": null,
   "metadata": {
    "collapsed": false
   },
   "outputs": [],
   "source": [
    "# Creating Programs\n",
    "# create your first QuantumProgram object instance.\n",
    "Q_program = QuantumProgram()\n",
    "\n",
    "# Creating Registers\n",
    "# create your first Quantum Register called \"qr\" with 2 qubits \n",
    "qr = Q_program.create_quantum_registers(\"qr\", 2)\n",
    "# create your first Classical Register  called \"cr\" with 2 bits\n",
    "cr = Q_program.create_classical_registers(\"cr\", 2)\n",
    "\n",
    "# Creating Circuits\n",
    "# create your first Quantum Circuit called \"qc\" related to your Quantum Register \"qr\"\n",
    "# and your Classical Register \"cr\"\n",
    "qc = Q_program.create_circuit(\"qc\", [\"qr\"], [\"cr\"])"
   ]
  },
  {
   "cell_type": "markdown",
   "metadata": {},
   "source": [
    "Another option to create your QuantumProgram instance is by defining a Dictionary with all the necessary components of your program."
   ]
  },
  {
   "cell_type": "code",
   "execution_count": null,
   "metadata": {
    "collapsed": false
   },
   "outputs": [],
   "source": [
    "Q_SPECS = {\n",
    "    \"name\": \"Program-tutorial\",\n",
    "    \"circuits\": [{\n",
    "        \"name\": \"Circuit\",\n",
    "        \"quantum_registers\": [{\n",
    "            \"name\":\"qr\",\n",
    "            \"size\": 4\n",
    "        }],\n",
    "        \"classical_registers\": [{\n",
    "            \"name\":\"cr\",\n",
    "            \"size\": 4\n",
    "        }]}],\n",
    "}"
   ]
  },
  {
   "cell_type": "markdown",
   "metadata": {},
   "source": [
    "The required elements for a Program are a \"name\", and a \"circuits\" array; within \"circuits\" the required fields are \"name\" and it can have several Quantum registers and several Classical Registers. Every register needs to have a name and the number of the elements (qubits or bits).\n",
    "\n",
    "After that, you can use this dictionary definition as the specs of one QuantumProgram object to initialize it."
   ]
  },
  {
   "cell_type": "code",
   "execution_count": null,
   "metadata": {
    "collapsed": false
   },
   "outputs": [],
   "source": [
    "Q_program = QuantumProgram(specs=Q_SPECS)"
   ]
  },
  {
   "cell_type": "markdown",
   "metadata": {},
   "source": [
    "You can also get every component from your new_Q_program to use."
   ]
  },
  {
   "cell_type": "code",
   "execution_count": null,
   "metadata": {
    "collapsed": false
   },
   "outputs": [],
   "source": [
    "#get the components.\n",
    "\n",
    "#get the circuit by Name\n",
    "circuit = Q_program.circuit(\"Circuit\")\n",
    "\n",
    "#get the Quantum Register by Name\n",
    "quantum_r = Q_program.quantum_registers(\"qr\")\n",
    "\n",
    "#get the Quantum Register by Name\n",
    "classical_r = Q_program.classical_registers('cr')"
   ]
  },
  {
   "cell_type": "markdown",
   "metadata": {
    "collapsed": false
   },
   "source": [
    "### Add Gates to your Circuit\n",
    "After you create the circuit with its registers you can add gates to manipulate the registers. The next is the example of the all the gates that you can use.\n",
    "\n",
    "You can find extensive information about these gates and how use it into our [Quantum Experience User Guide](https://quantumexperience.ng.bluemix.net/qstage/#/tutorial?sectionId=71972f437b08e12d1f465a8857f4514c&pageIndex=2) "
   ]
  },
  {
   "cell_type": "code",
   "execution_count": null,
   "metadata": {
    "collapsed": false
   },
   "outputs": [],
   "source": [
    "# H (Hadamard) gate to the Qbit 0 in the Quantum Register \"qr\" \n",
    "circuit.h(quantum_r[0])\n",
    "\n",
    "# Pauli X gate to the Qbit 1 in the Quantum Register \"qr\" \n",
    "circuit.x(quantum_r[1])\n",
    "\n",
    "# Pauli Y gate to the Qbit 2 in the Quantum Register \"qr\" \n",
    "circuit.y(quantum_r[2])\n",
    "\n",
    "# Pauli Z gate to the Qbit 3 in the Quantum Register \"qr\" \n",
    "circuit.z(quantum_r[3])\n",
    "\n",
    "# Cnot (Controlled-NOT)gate from Qbit 0 to the Qbit 2\n",
    "circuit.cx(quantum_r[0], quantum_r[2])\n",
    "\n",
    "# add a barrier to your circuit\n",
    "circuit.barrier()\n",
    "\n",
    "# first physical gate: u1(lambda) to Qbit 0\n",
    "circuit.u1(0.3, quantum_r[0])\n",
    "\n",
    "# second physical gate: u2(phi,lambda) to Qbit 1\n",
    "circuit.u2(0.3, 0.2, quantum_r[1])\n",
    "\n",
    "# second physical gate: u3(theta,phi,lambda) to Qbit 2\n",
    "circuit.u3(0.3, 0.2, 0.1, quantum_r[2])\n",
    "\n",
    "# S Phase gate to Qbit 0\n",
    "circuit.s(quantum_r[0])\n",
    "\n",
    "# T Phase gate to Qbit 1\n",
    "circuit.t(quantum_r[1])\n",
    "\n",
    "# identity gate to Qbit 1\n",
    "circuit.iden(quantum_r[1])\n",
    "\n",
    "# Classical if, from Qbit2 gate Z to classical bit 1\n",
    "# circuit.z(quantum_r[2]).c_if(classical_r, 1)\n",
    "\n",
    "# measure gate from the Qbit 0 to Classical bit 0\n",
    "circuit.measure(quantum_r[0], classical_r[0])\n"
   ]
  },
  {
   "cell_type": "markdown",
   "metadata": {},
   "source": [
    "### extract QASM\n",
    "\n",
    "You can obtain a QASM representation of your code."
   ]
  },
  {
   "cell_type": "code",
   "execution_count": null,
   "metadata": {
    "collapsed": false
   },
   "outputs": [],
   "source": [
    "# QASM from a circuit\n",
    "\n",
    "QASM_source = circuit.qasm()\n",
    "\n",
    "print (QASM_source)"
   ]
  },
  {
   "cell_type": "code",
   "execution_count": null,
   "metadata": {
    "collapsed": false
   },
   "outputs": [],
   "source": [
    "# Qasm from a program\n",
    "\n",
    "QASM_source = new_Q_program.program_to_text()\n",
    "\n",
    "print(QASM_source)"
   ]
  },
  {
   "cell_type": "markdown",
   "metadata": {
    "collapsed": false
   },
   "source": [
    "Note: the above two codes do not have the same notation. The second one returns a conversion where every single qubit gate {x, y, z, h, s, t} is replaced with the arbitrary u1, u2 and u3 gate representation."
   ]
  },
  {
   "cell_type": "markdown",
   "metadata": {
    "collapsed": false
   },
   "source": [
    "### Compile & Run or Execute"
   ]
  },
  {
   "cell_type": "code",
   "execution_count": null,
   "metadata": {
    "collapsed": false
   },
   "outputs": [],
   "source": [
    "device = 'simulator' #Backend where to execute your program, in this case it is the online simulator\n",
    "circuits = [\"Circuit\"]  #Group of circuits to execute\n",
    "\n",
    "Q_program.set_api(Qconfig.APItoken, Qconfig.config[\"url\"]) #set the APIToken and API url"
   ]
  },
  {
   "cell_type": "code",
   "execution_count": null,
   "metadata": {
    "collapsed": false
   },
   "outputs": [],
   "source": [
    "Q_program.compile(circuits, device) #Compile your program\n",
    "\n",
    "result = Q_program.run(wait=2, timeout=240) #Run your program in the device and check the execution result every 2 seconds \n",
    "\n",
    "print(result)"
   ]
  },
  {
   "cell_type": "markdown",
   "metadata": {
    "collapsed": false
   },
   "source": [
    "When you run a program the possible results will be:\n",
    "\n",
    "```\n",
    "JOB_STATUS = {\n",
    "    inProgress: 'RUNNING',\n",
    "    errorOnCreate: 'ERROR_CREATING_JOB',\n",
    "    errorExecuting: 'ERROR_RUNNING_JOB',\n",
    "    completed: 'COMPLETED'\n",
    "  };\n",
    "```\n",
    "\n",
    "The *run()* command waiting until timeout or when receive the \"COMPLETED\" or some error message.\n",
    "\n",
    "You can use the *execute()* to combine the compile and run in a single step."
   ]
  },
  {
   "cell_type": "code",
   "execution_count": null,
   "metadata": {
    "collapsed": false
   },
   "outputs": [],
   "source": [
    "result = Q_program.execute(circuits, device, wait=2, timeout=240)"
   ]
  },
  {
   "cell_type": "markdown",
   "metadata": {},
   "source": [
    "#### Compile parameters\n",
    "Q_program.compile(circuits, device=\"simulator\", shots=1024, max_credits=3, basis_gates=None, coupling_map=None)\n",
    "     - circuits: Array of circuit to compile\n",
    "     - device: Backend \n",
    "         [\"ibmqx_qasm_simulator\",   # Online simulator\n",
    "         \"ibmqx2\",                  # Online RealChip, 5Qbits\n",
    "         \"ibmqx3\",                  # Online RealChip, 16Qbits\n",
    "         \"local_unitary_simulator\", # Local unitary Simulator \n",
    "         \"local_qasm_simulator\"]    # Local Simulator \n",
    "     - shots: Number of shots, only for real chips and qasm simulators\n",
    "     - max_credits: Maximum number of the credits to spend in the executions. If the executions are more expensives, the job is aborted, only the real chips\n",
    "     - basis_gates: are the base gates, by default are: u1,u2,u3,cx,id\n",
    "     - coupling_map: Object that represent the physical/topological Layout of a chip.\n",
    "#### Run parameters\n",
    "Q_program.run(wait=5, timeout=60)\n",
    "     - wait: Time to wait to check if the execution is COMPLETED.\n",
    "     - timeout: Timeout of the execution.\n",
    "#### Execute parameters \n",
    "*the Execute has the combined parameters of Compile and Run*\n",
    "\n",
    "Q_program.execute(circuits, device, shots=1024,\n",
    "                max_credits=3, basis_gates=None, wait=5, timeout=60, basis_gates=None, coupling_map=None,)"
   ]
  },
  {
   "cell_type": "markdown",
   "metadata": {},
   "source": [
    "### Execute on a real device"
   ]
  },
  {
   "cell_type": "code",
   "execution_count": null,
   "metadata": {
    "collapsed": false
   },
   "outputs": [],
   "source": [
    "device = 'IBMQX5qv2'   #Backend where execute your program, in this case in the Real Quantum Chip online \n",
    "circuits = [\"Circuit\"]   #Group of circuits to exec\n",
    "shots = 1024           #Number of Shots to run the program (experiment), Maximum 8192 shots.\n",
    "max_credits=3          #Maximum number of the credits to spend in the executions. \n",
    "\n",
    "result = Q_program.execute(circuits, device, shots, max_credits=3, wait=10, timeout=240)"
   ]
  },
  {
   "cell_type": "markdown",
   "metadata": {},
   "source": [
    "### Result\n",
    "You can access to the result via the element: qasms[n].result.data.counts "
   ]
  },
  {
   "cell_type": "code",
   "execution_count": null,
   "metadata": {
    "collapsed": false
   },
   "outputs": [],
   "source": [
    "result['qasms'][0]['result']['data']['counts']"
   ]
  },
  {
   "cell_type": "markdown",
   "metadata": {
    "collapsed": false
   },
   "source": [
    "or you can use the function tool get_counts(n) to obtain it directly"
   ]
  },
  {
   "cell_type": "code",
   "execution_count": null,
   "metadata": {
    "collapsed": false
   },
   "outputs": [],
   "source": [
    "Q_program.get_counts(0) "
   ]
  },
  {
   "cell_type": "markdown",
   "metadata": {},
   "source": []
  }
 ],
 "metadata": {
  "anaconda-cloud": {},
  "kernelspec": {
   "display_name": "Python 3",
   "language": "python",
   "name": "python3"
  },
  "language_info": {
   "codemirror_mode": {
    "name": "ipython",
    "version": 3
   },
   "file_extension": ".py",
   "mimetype": "text/x-python",
   "name": "python",
   "nbconvert_exporter": "python",
   "pygments_lexer": "ipython3",
   "version": "3.6.0"
  }
 },
 "nbformat": 4,
 "nbformat_minor": 0
}
