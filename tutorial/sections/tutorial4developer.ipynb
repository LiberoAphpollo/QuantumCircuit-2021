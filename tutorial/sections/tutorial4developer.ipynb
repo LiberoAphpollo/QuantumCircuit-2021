{
 "cells": [
  {
   "cell_type": "markdown",
   "metadata": {},
   "source": [
    "<img src=\"../images/QISKit-c.gif\" alt=\"Note: In order for images to show up in this jupyter notebook you need to select File => Trusted Notebook\" width=\"250 px\" align=\"left\">"
   ]
  },
  {
   "cell_type": "markdown",
   "metadata": {},
   "source": [
    "## _*Tutorial for Developers*_ \n",
    "\n",
    "For more information about how to use the Quantum Experience consult the [Quantum Experience tutorials](https://quantumexperience.ng.bluemix.net/qstage/#/tutorial?sectionId=c59b3710b928891a1420190148a72cce&pageIndex=0) or check-out the [community](https://quantumexperience.ng.bluemix.net/qstage/#/community).\n",
    "\n",
    "***\n",
    "### Contributors\n",
    "Ismael Faro, Jay M. Gambetta"
   ]
  },
  {
   "cell_type": "markdown",
   "metadata": {},
   "source": [
    "## Quantum QISKit SDK tutorial\n",
    "\n",
    "This tutorial focus is to explain how use the QISKit SDK, from a developer point of view. We review how install, and start to use the SDK tools.\n",
    "\n",
    "QISKIt is a Python software development kit (SDK), that you can use to create your Quantum programs, based in circuits over [OpenQASM 2.0](https://github.com/IBM/qiskit-openqasm) Specs, compile and execute it in several Backends (Real Chips, Simulators online and Simulators in local). For the online Backend QISKit use our [python API connector](https://github.com/IBM/qiskit-api-py) to the [IBM Quantum Experience API project (http://quantumexperience.ng.bluemix.net/).\n",
    "\n",
    "We have other tutorials that introduce you to more complex concepts directly related with the Quantum.\n",
    "\n",
    "more examples:\n",
    "[superposition and entanglement](superposition_and_entanglement.ipynb) we introduced you to the concept of entanglement.\n",
    "\n"
   ]
  },
  {
   "cell_type": "markdown",
   "metadata": {},
   "source": [
    "## Install QISKit\n",
    "\n",
    "the most easy way to install QISKit is using Anaconda python distribution.\n",
    "\n",
    "- Install Anaconda: https://www.continuum.io/downloads\n",
    "\n",
    "After that you need to install your QISKit from the git repository\n",
    "\n",
    "- Clone the repo:\n",
    "\n",
    "```sh\n",
    "git clone https://github.ibm.com/IBMQuantum/qiskit-sdk-py-dev\n",
    "cd qiskit-sdk-py-dev\n",
    "```\n",
    "\n",
    "- Create the environment with the dependencies:\n",
    "\n",
    "```sh\n",
    "make env\n",
    "```\n",
    "\n",
    "## Use\n",
    "\n",
    "You can use the examples in an easy way with Jupyter or Python\n",
    "\n",
    "Add your API token to the file \"Qconfig.py\" (get it from [IBM Quantum Experience](https://quantumexperience.ng.bluemix.net) > Account):\n",
    "\n",
    "```sh\n",
    "cp tutorial/Qconfig.py.default Qconfig.py\n",
    "```\n",
    "Run Jupyter notebook.\n",
    "- Run it:\n",
    "\n",
    "```sh\n",
    "make run\n",
    "```"
   ]
  },
  {
   "cell_type": "markdown",
   "metadata": {},
   "source": [
    "## Basic Concept\n",
    "\n",
    "### Create a Program\n",
    "\n",
    "Firts you need to import the QuantumProgram from QISKit"
   ]
  },
  {
   "cell_type": "code",
   "execution_count": 1,
   "metadata": {
    "collapsed": false
   },
   "outputs": [],
   "source": [
    "import sys\n",
    "sys.path.append(\"../../\") # solve the relative dependencies if you clone QISKit from the Git repo and use like a global.\n",
    "\n",
    "from qiskit import QuantumProgram\n",
    "import Qconfig"
   ]
  },
  {
   "cell_type": "markdown",
   "metadata": {},
   "source": [
    "The basic elements that you need to create your first program are, the QuantumProgram,  one Circuit, one Quantum Register and One Classical Register."
   ]
  },
  {
   "cell_type": "code",
   "execution_count": 2,
   "metadata": {
    "collapsed": false
   },
   "outputs": [
    {
     "name": "stdout",
     "output_type": "stream",
     "text": [
      ">> quantum_registers created: qr 2\n",
      ">> classical_registers created: cr 2\n"
     ]
    }
   ],
   "source": [
    "# Creating Programs\n",
    "# create your first QuantumProgram object instance.\n",
    "Q_program = QuantumProgram()\n",
    "\n",
    "# Creating Registers\n",
    "# create your first Quantum Register called \"qr\" with 2 Qbit \n",
    "qr = Q_program.create_quantum_registers(\"qr\", 2)\n",
    "# create your first Classical Register  called \"cr\" with 2 bit\n",
    "cr = Q_program.create_classical_registers(\"cr\", 2)\n",
    "\n",
    "# Creating Circuits\n",
    "# create your first Quantum Circuit called \"qc\" related with your Quantum Register \"qr\"\n",
    "# and your Classical Register \"cr\"\n",
    "qc = Q_program.create_circuit(\"qc\", [\"qr\"], [\"cr\"])"
   ]
  },
  {
   "cell_type": "markdown",
   "metadata": {},
   "source": [
    "As another option to create your QuantumProgram instance you can define a Dictionary with all the component of your program."
   ]
  },
  {
   "cell_type": "code",
   "execution_count": 3,
   "metadata": {
    "collapsed": false
   },
   "outputs": [],
   "source": [
    "Q_SPECS = {\n",
    "    \"name\": \"Program-tutorial\",\n",
    "    \"circuits\": [{\n",
    "        \"name\": \"Circuit\",\n",
    "        \"quantum_registers\": [{\n",
    "            \"name\":\"qr\",\n",
    "            \"size\": 4\n",
    "        }],\n",
    "        \"classical_registers\": [{\n",
    "            \"name\":\"cr\",\n",
    "            \"size\": 4\n",
    "        }]}],\n",
    "}"
   ]
  },
  {
   "cell_type": "markdown",
   "metadata": {},
   "source": [
    "One Program must to have a name, and one circuits array, any circuit must have a name and it can have several Quantum registers and several Classical Registers. Every register needs to have a name and the number of the elements (qubits or bits).\n",
    "\n",
    "After that, you can use this dictionary definition like the specs of one QuantumProgram object to initialize it."
   ]
  },
  {
   "cell_type": "code",
   "execution_count": 4,
   "metadata": {
    "collapsed": false
   },
   "outputs": [
    {
     "name": "stdout",
     "output_type": "stream",
     "text": [
      ">> quantum_registers created: qr 4\n",
      ">> classical_registers created: cr 4\n"
     ]
    }
   ],
   "source": [
    "new_Q_program = QuantumProgram(specs=Q_SPECS)"
   ]
  },
  {
   "cell_type": "markdown",
   "metadata": {},
   "source": [
    "You can get every component from your new_Q_program to use."
   ]
  },
  {
   "cell_type": "code",
   "execution_count": 5,
   "metadata": {
    "collapsed": false
   },
   "outputs": [],
   "source": [
    "#get the components.\n",
    "\n",
    "#get the circuit by Name\n",
    "circuit = new_Q_program.circuit(\"Circuit\")\n",
    "\n",
    "#get the Quantum Register by Name\n",
    "quantum_r = new_Q_program.quantum_registers(\"qr\")\n",
    "\n",
    "#get the Quantum Register by Name\n",
    "classical_r = new_Q_program.classical_registers('cr')"
   ]
  },
  {
   "cell_type": "markdown",
   "metadata": {
    "collapsed": false
   },
   "source": [
    "### add gates to your circuit\n",
    "After you create the circuit with its registers you can add gates to manipulate the registers. The next is the example of the all the gates that you can use.\n",
    "\n",
    "You can find extensive information about these gates and how use it into our [Quantum Experience User Guide](https://quantumexperience.ng.bluemix.net/qstage/#/tutorial?sectionId=71972f437b08e12d1f465a8857f4514c&pageIndex=2) "
   ]
  },
  {
   "cell_type": "code",
   "execution_count": 6,
   "metadata": {
    "collapsed": false
   },
   "outputs": [
    {
     "data": {
      "text/plain": [
       "<qiskit._measure.Measure at 0x10ce97748>"
      ]
     },
     "execution_count": 6,
     "metadata": {},
     "output_type": "execute_result"
    }
   ],
   "source": [
    "# H (Hadamard) gate to the Qbit 0 in the Quantum Register \"qr\" \n",
    "circuit.h(quantum_r[0])\n",
    "\n",
    "# Pauli X gate to the Qbit 1 in the Quantum Register \"qr\" \n",
    "circuit.x(quantum_r[1])\n",
    "\n",
    "# Pauli Y gate to the Qbit 2 in the Quantum Register \"qr\" \n",
    "circuit.y(quantum_r[2])\n",
    "\n",
    "# Pauli Z gate to the Qbit 3 in the Quantum Register \"qr\" \n",
    "circuit.z(quantum_r[3])\n",
    "\n",
    "# Cnot (Controlled-NOT)gate from Qbit 0 to the Qbit 2\n",
    "circuit.cx(quantum_r[0], quantum_r[2])\n",
    "\n",
    "# add a barrier to your circuit\n",
    "circuit.barrier()\n",
    "\n",
    "# first physical gate: u1(lambda) to Qbit 0\n",
    "circuit.u1(0.3, quantum_r[0])\n",
    "\n",
    "# second physical gate: u2(phi,lambda) to Qbit 1\n",
    "circuit.u2(0.3, 0.2, quantum_r[1])\n",
    "\n",
    "# second physical gate: u3(theta,phi,lambda) to Qbit 2\n",
    "circuit.u3(0.3, 0.2, 0.1, quantum_r[2])\n",
    "\n",
    "# S Phase gate to Qbit 0\n",
    "circuit.s(quantum_r[0])\n",
    "\n",
    "# T Phase gate to Qbit 1\n",
    "circuit.t(quantum_r[1])\n",
    "\n",
    "# identity gate to Qbit 1\n",
    "circuit.iden(quantum_r[1])\n",
    "\n",
    "# Classical if, from Qbit2 gate Z to classical bit 1\n",
    "# circuit.z(quantum_r[2]).c_if(classical_r, 1)\n",
    "\n",
    "# measure gate from the Qbit 0 to Classical bit 0\n",
    "circuit.measure(quantum_r[0], classical_r[0])\n"
   ]
  },
  {
   "cell_type": "markdown",
   "metadata": {},
   "source": [
    "### extract QASM\n",
    "\n",
    "You can obtain a QASM representation of your code."
   ]
  },
  {
   "cell_type": "code",
   "execution_count": 7,
   "metadata": {
    "collapsed": false
   },
   "outputs": [
    {
     "name": "stdout",
     "output_type": "stream",
     "text": [
      "OPENQASM 2.0;\n",
      "include \"qelib1.inc\";\n",
      "qreg qr[4];\n",
      "creg cr[4];\n",
      "h qr[0];\n",
      "x qr[1];\n",
      "y qr[2];\n",
      "z qr[3];\n",
      "cx qr[0],qr[2];\n",
      "barrier qr[0],qr[1],qr[2],qr[3];\n",
      "u1(0.300000000000000) qr[0];\n",
      "u2(0.300000000000000,0.200000000000000) qr[1];\n",
      "u3(0.300000000000000,0.200000000000000,0.100000000000000) qr[2];\n",
      "u1(1.570796326794897) qr[0];\n",
      "u1(0.785398163397448) qr[1];\n",
      "id qr[1];\n",
      "measure qr[0] -> cr[0];\n",
      "\n"
     ]
    }
   ],
   "source": [
    "# QASM from a circuit\n",
    "\n",
    "QASM_source = circuit.qasm()\n",
    "\n",
    "print (QASM_source)"
   ]
  },
  {
   "cell_type": "code",
   "execution_count": 8,
   "metadata": {
    "collapsed": false
   },
   "outputs": [
    {
     "name": "stdout",
     "output_type": "stream",
     "text": [
      "OPENQASM 2.0;\n",
      "include \"qelib1.inc\";\n",
      "qreg qr[4];\n",
      "creg cr[4];\n",
      "u1(3.141592653589793) qr[3];\n",
      "u3(3.141592653589793,1.5707963267948966,1.5707963267948966) qr[2];\n",
      "u3(3.141592653589793,0.0,3.141592653589793) qr[1];\n",
      "u2(0.0,3.141592653589793) qr[0];\n",
      "cx qr[0],qr[2];\n",
      "barrier qr[0],qr[1],qr[2],qr[3];\n",
      "u2(0.3,0.2) qr[1];\n",
      "u1(0.785398163397448) qr[1];\n",
      "id qr[1];\n",
      "u1(0.3) qr[0];\n",
      "u1(1.570796326794897) qr[0];\n",
      "measure qr[0] -> cr[0];\n",
      "u3(0.3,0.2,0.1) qr[2];\n"
     ]
    }
   ],
   "source": [
    "# Qasm from a program\n",
    "\n",
    "QASM_source = new_Q_program.program_to_text()\n",
    "\n",
    "print(QASM_source)"
   ]
  },
  {
   "cell_type": "markdown",
   "metadata": {
    "collapsed": false
   },
   "source": [
    "Note: you can appreciate that the both codes don't have the same notation, the second one return a conversion from every H, X, Y, Z gate the u1, u2 and u3 representation."
   ]
  },
  {
   "cell_type": "markdown",
   "metadata": {
    "collapsed": false
   },
   "source": [
    "### Compile & run or Execute"
   ]
  },
  {
   "cell_type": "code",
   "execution_count": 9,
   "metadata": {
    "collapsed": false
   },
   "outputs": [
    {
     "data": {
      "text/plain": [
       "True"
      ]
     },
     "execution_count": 9,
     "metadata": {},
     "output_type": "execute_result"
    }
   ],
   "source": [
    "device = 'simulator' #Backend where execute your program, in this case it is the online simulator\n",
    "circuits = [circuit]  #Group of circuits to exec\n",
    "\n",
    "Q_program.set_api(Qconfig.APItoken, Qconfig.config[\"url\"]) #set the APIToken and API url"
   ]
  },
  {
   "cell_type": "code",
   "execution_count": 10,
   "metadata": {
    "collapsed": false
   },
   "outputs": [
    {
     "name": "stdout",
     "output_type": "stream",
     "text": [
      "status = RUNNING (2 seconds)\n",
      "status = RUNNING (4 seconds)\n",
      "{'status': 'COMPLETED', 'maxCredits': 3, 'qasms': [{'executionId': 'faa11aff490be561d7426b5ebaf48704', 'status': 'DONE', 'result': {'data': {'time': 0.10461997985839844, 'counts': {'0000': 516, '0001': 508}}, 'date': '2017-05-15T04:29:29.178Z'}, 'qasm': '\\ninclude \"qelib1.inc\";\\nqreg qr[4];\\ncreg cr[4];\\nu1(3.141592653589793) qr[3];\\nu3(3.141592653589793,1.5707963267948966,1.5707963267948966) qr[2];\\nu3(3.141592653589793,0.0,3.141592653589793) qr[1];\\nu2(0.0,3.141592653589793) qr[0];\\ncx qr[0],qr[2];\\nbarrier qr[0],qr[1],qr[2],qr[3];\\nu2(0.3,0.2) qr[1];\\nu1(0.785398163397448) qr[1];\\nid qr[1];\\nu1(0.3) qr[0];\\nu1(1.570796326794897) qr[0];\\nmeasure qr[0] -> cr[0];\\nu3(0.3,0.2,0.1) qr[2];\\n'}], 'creationDate': '2017-05-15T04:29:28.922Z', 'usedCredits': 0, 'id': '8707a08fb2a1d73c48e7765a1b9e01b1', 'userId': '6099d7c6f80f6767a307d0f4364d5307', 'deleted': False, 'backend': {'name': 'simulator'}, 'shots': 1024}\n"
     ]
    }
   ],
   "source": [
    "Q_program.compile(circuits, device) #Compile your program\n",
    "\n",
    "result = Q_program.run(wait=2, timeout=240) #Run your program in the device and check the execution result every 2 seconds \n",
    "\n",
    "print(result)"
   ]
  },
  {
   "cell_type": "markdown",
   "metadata": {
    "collapsed": false
   },
   "source": [
    "When you run a program the result can be:\n",
    "\n",
    "```JSON\n",
    "JOB_STATUS = {\n",
    "    inProgress: 'RUNNING',\n",
    "    errorOnCreate: 'ERROR_CREATING_JOB',\n",
    "    errorExecuting: 'ERROR_RUNNING_JOB',\n",
    "    completed: 'COMPLETED'\n",
    "  };\n",
    "```\n",
    "\n",
    "The *run()* command waiting until timeout or when receive the \"COMPLETED\" or some error message.\n",
    "\n",
    "You can use the *execute()* to make the compile and run in a unique step."
   ]
  },
  {
   "cell_type": "code",
   "execution_count": 11,
   "metadata": {
    "collapsed": false
   },
   "outputs": [
    {
     "name": "stdout",
     "output_type": "stream",
     "text": [
      "status = RUNNING (2 seconds)\n",
      "status = RUNNING (4 seconds)\n"
     ]
    }
   ],
   "source": [
    "result = Q_program.execute(circuits, device, wait=2, timeout=240)"
   ]
  },
  {
   "cell_type": "markdown",
   "metadata": {},
   "source": [
    "#### Compile parameters\n",
    "Q_program.compile(circuits, device=\"simulator\", shots=1024, max_credits=3, basis_gates=None, coupling_map=None)\n",
    "     - circuits: Array of circuit to compile\n",
    "     - device: Backend \n",
    "         [\"ibmqx_qasm_simulator\",   # Online simulator\n",
    "         \"ibmqx2\",                  # Online RealChip, 5Qbits\n",
    "         \"ibmqx3\",                  # Online RealChip, 16Qbits\n",
    "         \"local_unitary_simulator\", # Local unitary Simulator \n",
    "         \"local_qasm_simulator\"]    # Local Simulator \n",
    "     - shots: Number of shots, only for real chips and qasm simulators\n",
    "     - max_credits: Maximum number of the credits to spend in the executions. If the executions are more expensives, the job is aborted, only the real chips\n",
    "     - basis_gates: are the base gates, by default are: u1,u2,u3,cx,id\n",
    "     - coupling_map: Object that represent the physical/topological Layout of a chip.\n",
    "#### Run parameters\n",
    "Q_program.run(wait=5, timeout=60)\n",
    "     - wait: Time to wait to check if the execution is COMPLETED.\n",
    "     - timeout: Timeout of the execution.\n",
    "#### Execute parameters \n",
    "*the Execute has the combined parameters of Compile and Run*\n",
    "\n",
    "Q_program.execute(circuits, device, shots=1024,\n",
    "                max_credits=3, basis_gates=None, wait=5, timeout=60, basis_gates=None, coupling_map=None,)"
   ]
  },
  {
   "cell_type": "markdown",
   "metadata": {},
   "source": [
    "### Execute in a real device"
   ]
  },
  {
   "cell_type": "code",
   "execution_count": 12,
   "metadata": {
    "collapsed": false
   },
   "outputs": [
    {
     "name": "stdout",
     "output_type": "stream",
     "text": [
      "status = RUNNING (10 seconds)\n",
      "status = RUNNING (20 seconds)\n",
      "status = RUNNING (30 seconds)\n",
      "status = RUNNING (40 seconds)\n",
      "status = RUNNING (50 seconds)\n",
      "status = RUNNING (60 seconds)\n",
      "status = RUNNING (70 seconds)\n",
      "status = RUNNING (80 seconds)\n",
      "status = RUNNING (90 seconds)\n",
      "status = RUNNING (100 seconds)\n",
      "status = RUNNING (110 seconds)\n",
      "status = RUNNING (120 seconds)\n",
      "status = RUNNING (130 seconds)\n",
      "status = RUNNING (140 seconds)\n",
      "status = RUNNING (150 seconds)\n",
      "status = RUNNING (160 seconds)\n"
     ]
    }
   ],
   "source": [
    "device = 'qx5qv2'      #Backed where execute your program, in this case in the Real Quantum Chip online \n",
    "circuits = [circuit]   #Group of circuits to exec\n",
    "shots = 1024           #Number of Shots to run the program (experiment), Maximum 8192 shots.\n",
    "max_credits=3          #Maximum number of the credits to spend in the executions. \n",
    "\n",
    "result = Q_program.execute(circuits, device, shots, max_credits=3, wait=10, timeout=240)"
   ]
  },
  {
   "cell_type": "markdown",
   "metadata": {},
   "source": [
    "### Result\n",
    "You can access to the result in the element: qasms[n].result.data.counts "
   ]
  },
  {
   "cell_type": "code",
   "execution_count": 13,
   "metadata": {
    "collapsed": false
   },
   "outputs": [
    {
     "data": {
      "text/plain": [
       "{'00000': 555, '00001': 469}"
      ]
     },
     "execution_count": 13,
     "metadata": {},
     "output_type": "execute_result"
    }
   ],
   "source": [
    "result['qasms'][0]['result']['data']['counts']"
   ]
  },
  {
   "cell_type": "markdown",
   "metadata": {
    "collapsed": false
   },
   "source": [
    "or you can use the function tool get_data(n) to obtain it directly"
   ]
  },
  {
   "cell_type": "code",
   "execution_count": 14,
   "metadata": {
    "collapsed": false
   },
   "outputs": [
    {
     "data": {
      "text/plain": [
       "{'00000': 555, '00001': 469}"
      ]
     },
     "execution_count": 14,
     "metadata": {},
     "output_type": "execute_result"
    }
   ],
   "source": [
    "Q_program.get_data(result,0) "
   ]
  },
  {
   "cell_type": "markdown",
   "metadata": {},
   "source": []
  }
 ],
 "metadata": {
  "anaconda-cloud": {},
  "kernelspec": {
   "display_name": "Python 3",
   "language": "python",
   "name": "python3"
  },
  "language_info": {
   "codemirror_mode": {
    "name": "ipython",
    "version": 3
   },
   "file_extension": ".py",
   "mimetype": "text/x-python",
   "name": "python",
   "nbconvert_exporter": "python",
   "pygments_lexer": "ipython3",
   "version": "3.6.0"
  }
 },
 "nbformat": 4,
 "nbformat_minor": 0
}
