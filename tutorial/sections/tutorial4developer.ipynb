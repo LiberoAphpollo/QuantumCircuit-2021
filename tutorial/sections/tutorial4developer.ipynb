{
 "cells": [
  {
   "cell_type": "markdown",
   "metadata": {},
   "source": [
    "<img src=\"../../images/QISKit-c.gif\" alt=\"Note: In order for images to show up in this jupyter notebook you need to select File => Trusted Notebook\" width=\"250 px\" align=\"left\">"
   ]
  },
  {
   "cell_type": "markdown",
   "metadata": {},
   "source": [
    "## _*Getting Started with QISKit SDK*_ \n",
    "\n",
    "For more information about how to use the IBM Q experience (QX), consult the [tutorials](https://quantumexperience.ng.bluemix.net/qstage/#/tutorial?sectionId=c59b3710b928891a1420190148a72cce&pageIndex=0), or check out the [community](https://quantumexperience.ng.bluemix.net/qstage/#/community).\n",
    "\n",
    "***\n",
    "### Contributors\n",
    "Ismael Faro, Jay Gambetta, Andrew Cross"
   ]
  },
  {
   "cell_type": "markdown",
   "metadata": {},
   "source": [
    "## Quantum QISKit SDK Tutorial\n",
    "\n",
    "This tutorial aims to explain how to use the QISKit SDK from a developer's point of view. We review the steps it takes to install and start to use the SDK tools.\n",
    "\n",
    "QISKIt is a Python software development kit (SDK) that you can use to create your quantum computing programs based on circuits defined through the [OpenQASM 2.0 specification](https://github.com/IBM/qiskit-openqasm), compiled, and executed on several backends (Real Quantum Processors online, Simulators online and Simulators on local). For the online backends QISKit uses our [python API connector](https://github.com/IBM/qiskit-api-py) to the [IBM Q experience project](http://quantumexperience.ng.bluemix.net/).\n",
    "\n",
    "In addition to this tutorial, we have other tutorials that introduce you to more complex concepts directly related to quantum computing.\n",
    "\n",
    "More examples:\n",
    "- Familiarize yourself with the important concepts of [superposition and entanglement](superposition_and_entanglement.ipynb).\n",
    "- Go beyond and explore a bit more in-depth in [entanglement revisited](entanglement_revisited.ipynb).\n",
    "\n"
   ]
  },
  {
   "cell_type": "markdown",
   "metadata": {},
   "source": [
    "## Install QISKit\n",
    "\n",
    "The easiest way to install QISKit is with the Anaconda Python distribution.\n",
    "\n",
    "- Install Anaconda: https://www.continuum.io/downloads\n",
    "\n",
    "Next, install QISKit from the git repository\n",
    "\n",
    "- Clone the repo:\n",
    "\n",
    "```sh\n",
    "git clone https://github.ibm.com/IBMQuantum/qiskit-sdk-py-dev\n",
    "cd qiskit-sdk-py-dev\n",
    "```\n",
    "\n",
    "- Create the environment with the dependencies:\n",
    "\n",
    "```sh\n",
    "make env\n",
    "```\n",
    "\n",
    "## Use QISKit Python SDK\n",
    "\n",
    "You can try out the examples easily with Jupyter or Python.\n",
    "\n",
    "Add your personal API token to the file \"Qconfig.py\" (get it from your [IBM Q experience](https://quantumexperience.ng.bluemix.net) > Account):\n",
    "\n",
    "```sh\n",
    "cp tutorial/Qconfig.py.default Qconfig.py\n",
    "```\n",
    "Run Jupyter notebook.\n",
    "\n",
    "```sh\n",
    "make run\n",
    "```"
   ]
  },
  {
   "cell_type": "markdown",
   "metadata": {},
   "source": [
    "## Basic Concept\n",
    "\n",
    "The basic concept of our quantum program is an array of quantum circuits. The program consists of three stages: [Build](#sectionB), [Compile](#sectionC), and [Run](#sectionR). Build allows you to make different quantum circuits that represent the problem you are solving; Compile allows you to rewrite them to run on different backends (simulators/real chips of different [quantum volumes](http://ibm.biz/qiskit-quantum-volume), sizes, fidelity, etc); and Run launches the jobs.  After the jobs have been run, the data is collected. There are methods for putting this data together, depending on the program. This either gives you the answer you wanted, or allows you to make a better program for the next instance.\n",
    "\n",
    "### Building your program: Create it  <a id='sectionB'></a>\n",
    "\n",
    "First you need to import the QuantumProgram package from QISKit."
   ]
  },
  {
   "cell_type": "code",
   "execution_count": 1,
   "metadata": {
    "collapsed": false
   },
   "outputs": [],
   "source": [
    "import sys\n",
    "sys.path.append(\"../../\") # solve the relative dependencies if you clone QISKit from the Git repo and use like a global.\n",
    "\n",
    "from qiskit import QuantumProgram\n",
    "import Qconfig"
   ]
  },
  {
   "cell_type": "markdown",
   "metadata": {},
   "source": [
    "The basic elements needed for your first program are the QuantumProgram, a Circuit, a Quantum Register, and a Classical Register."
   ]
  },
  {
   "cell_type": "code",
   "execution_count": 2,
   "metadata": {
    "collapsed": false
   },
   "outputs": [
    {
     "name": "stdout",
     "output_type": "stream",
     "text": [
      ">> quantum_registers created: qr 2\n",
      ">> classical_registers created: cr 2\n"
     ]
    }
   ],
   "source": [
    "# Creating Programs\n",
    "# create your first QuantumProgram object instance.\n",
    "Q_program = QuantumProgram()\n",
    "\n",
    "# Creating Registers\n",
    "# create your first Quantum Register called \"qr\" with 2 qubits \n",
    "qr = Q_program.create_quantum_registers(\"qr\", 2)\n",
    "# create your first Classical Register  called \"cr\" with 2 bits\n",
    "cr = Q_program.create_classical_registers(\"cr\", 2)\n",
    "\n",
    "# Creating Circuits\n",
    "# create your first Quantum Circuit called \"qc\" related to your Quantum Register \"qr\"\n",
    "# and your Classical Register \"cr\"\n",
    "qc = Q_program.create_circuit(\"qc\", [\"qr\"], [\"cr\"])"
   ]
  },
  {
   "cell_type": "markdown",
   "metadata": {},
   "source": [
    "Another option for creating your QuantumProgram instance is to define a Dictionary with all the necessary components of your program."
   ]
  },
  {
   "cell_type": "code",
   "execution_count": 3,
   "metadata": {
    "collapsed": false
   },
   "outputs": [],
   "source": [
    "Q_SPECS = {\n",
    "    \"circuits\": [{\n",
    "        \"name\": \"Circuit\",\n",
    "        \"quantum_registers\": [{\n",
    "            \"name\":\"qr\",\n",
    "            \"size\": 4\n",
    "        }],\n",
    "        \"classical_registers\": [{\n",
    "            \"name\":\"cr\",\n",
    "            \"size\": 4\n",
    "        }]}],\n",
    "}"
   ]
  },
  {
   "cell_type": "markdown",
   "metadata": {},
   "source": [
    "The required elements for a Program is a \"circuits\" array. Within \"circuits\", the required field is \"name\"; it can have several Quantum Registers and several Classical Registers. Every register must have a name and the number of each element (qubits or bits).\n",
    "\n",
    "After that, you can use this dictionary definition as the specs of one QuantumProgram object to initialize it."
   ]
  },
  {
   "cell_type": "code",
   "execution_count": 4,
   "metadata": {
    "collapsed": false
   },
   "outputs": [
    {
     "name": "stdout",
     "output_type": "stream",
     "text": [
      ">> quantum_registers created: qr 4\n",
      ">> classical_registers created: cr 4\n"
     ]
    }
   ],
   "source": [
    "Q_program = QuantumProgram(specs=Q_SPECS)"
   ]
  },
  {
   "cell_type": "markdown",
   "metadata": {},
   "source": [
    "You can also get every component from your new_Q_program to use."
   ]
  },
  {
   "cell_type": "code",
   "execution_count": 5,
   "metadata": {
    "collapsed": false
   },
   "outputs": [],
   "source": [
    "# get the components.\n",
    "\n",
    "# get the circuit by Name\n",
    "circuit = Q_program.get_circuit(\"Circuit\")\n",
    "\n",
    "# get the Quantum Register by Name\n",
    "quantum_r = Q_program.get_quantum_registers(\"qr\")\n",
    "\n",
    "# get the Classical Register by Name\n",
    "classical_r = Q_program.get_classical_registers('cr')"
   ]
  },
  {
   "cell_type": "markdown",
   "metadata": {
    "collapsed": false
   },
   "source": [
    "### Building your program: Add Gates to your Circuit\n",
    "After you create the circuit with its registers, you can add gates to manipulate the registers. Below is a list of the gates you can use in the QX.\n",
    "\n",
    "You can find extensive information about these gates and how use them in our [Quantum Experience User Guide](https://quantumexperience.ng.bluemix.net/qstage/#/tutorial?sectionId=71972f437b08e12d1f465a8857f4514c&pageIndex=2). "
   ]
  },
  {
   "cell_type": "code",
   "execution_count": 6,
   "metadata": {
    "collapsed": false
   },
   "outputs": [
    {
     "data": {
      "text/plain": [
       "<qiskit._measure.Measure at 0x10c22fef0>"
      ]
     },
     "execution_count": 6,
     "metadata": {},
     "output_type": "execute_result"
    }
   ],
   "source": [
    "# H (Hadamard) gate to the qubit 0 in the Quantum Register \"qr\" \n",
    "circuit.h(quantum_r[0])\n",
    "\n",
    "# Pauli X gate to the qubit 1 in the Quantum Register \"qr\" \n",
    "circuit.x(quantum_r[1])\n",
    "\n",
    "# Pauli Y gate to the qubit 2 in the Quantum Register \"qr\" \n",
    "circuit.y(quantum_r[2])\n",
    "\n",
    "# Pauli Z gate to the qubit 3 in the Quantum Register \"qr\" \n",
    "circuit.z(quantum_r[3])\n",
    "\n",
    "# CNOT (Controlled-NOT) gate from qubit 0 to the Qbit 2\n",
    "circuit.cx(quantum_r[0], quantum_r[2])\n",
    "\n",
    "# add a barrier to your circuit\n",
    "circuit.barrier()\n",
    "\n",
    "# first physical gate: u1(lambda) to qubit 0\n",
    "circuit.u1(0.3, quantum_r[0])\n",
    "\n",
    "# second physical gate: u2(phi,lambda) to qubit 1\n",
    "circuit.u2(0.3, 0.2, quantum_r[1])\n",
    "\n",
    "# second physical gate: u3(theta,phi,lambda) to qubit 2\n",
    "circuit.u3(0.3, 0.2, 0.1, quantum_r[2])\n",
    "\n",
    "# S Phase gate to qubit 0\n",
    "circuit.s(quantum_r[0])\n",
    "\n",
    "# T Phase gate to qubit 1\n",
    "circuit.t(quantum_r[1])\n",
    "\n",
    "# identity gate to qubit 1\n",
    "circuit.iden(quantum_r[1])\n",
    "\n",
    "# Note: if is not implemented in the local simulator right now,\n",
    "#       so we comment it out here. You can uncomment it and\n",
    "#       run in the online simulator if you'd like.\n",
    "\n",
    "# Classical if, from qubit2 gate Z to classical bit 1\n",
    "# circuit.z(quantum_r[2]).c_if(classical_r, 0)\n",
    "\n",
    "# measure gate from the qubit 0 to classical bit 0\n",
    "circuit.measure(quantum_r[0], classical_r[0])\n"
   ]
  },
  {
   "cell_type": "markdown",
   "metadata": {},
   "source": [
    "### Extract QASM\n",
    "\n",
    "You can obtain a QASM representation of your code."
   ]
  },
  {
   "cell_type": "code",
   "execution_count": 7,
   "metadata": {
    "collapsed": false
   },
   "outputs": [
    {
     "name": "stdout",
     "output_type": "stream",
     "text": [
      "OPENQASM 2.0;\n",
      "include \"qelib1.inc\";\n",
      "qreg qr[4];\n",
      "creg cr[4];\n",
      "h qr[0];\n",
      "x qr[1];\n",
      "y qr[2];\n",
      "z qr[3];\n",
      "cx qr[0],qr[2];\n",
      "barrier qr[0],qr[1],qr[2],qr[3];\n",
      "u1(0.300000000000000) qr[0];\n",
      "u2(0.300000000000000,0.200000000000000) qr[1];\n",
      "u3(0.300000000000000,0.200000000000000,0.100000000000000) qr[2];\n",
      "s qr[0];\n",
      "t qr[1];\n",
      "id qr[1];\n",
      "measure qr[0] -> cr[0];\n",
      "\n"
     ]
    }
   ],
   "source": [
    "# QASM from a program\n",
    "\n",
    "QASM_source = Q_program.get_qasm(\"Circuit\")\n",
    "\n",
    "print(QASM_source)"
   ]
  },
  {
   "cell_type": "markdown",
   "metadata": {
    "collapsed": false
   },
   "source": [
    "### Compile and Run or Execute <a id='sectionC'></a>"
   ]
  },
  {
   "cell_type": "code",
   "execution_count": 8,
   "metadata": {
    "collapsed": false
   },
   "outputs": [
    {
     "data": {
      "text/plain": [
       "True"
      ]
     },
     "execution_count": 8,
     "metadata": {},
     "output_type": "execute_result"
    }
   ],
   "source": [
    "device = 'simulator' # Backend where to execute your program, in this case it is the online simulator\n",
    "circuits = [\"Circuit\"]  # Group of circuits to execute\n",
    "\n",
    "Q_program.set_api(Qconfig.APItoken, Qconfig.config[\"url\"]) #set the APIToken and API url"
   ]
  },
  {
   "cell_type": "code",
   "execution_count": 9,
   "metadata": {
    "collapsed": false
   },
   "outputs": [
    {
     "name": "stdout",
     "output_type": "stream",
     "text": [
      "running on backend: simulator\n",
      "{'status': 'COMPLETED', 'result': 'all done'}\n"
     ]
    }
   ],
   "source": [
    "Q_program.compile(circuits, device) # Compile your program\n",
    "\n",
    "result = Q_program.run(wait=2, timeout=240) # Run your program in the device and check the execution result every 2 seconds \n",
    "\n",
    "print(result)"
   ]
  },
  {
   "cell_type": "markdown",
   "metadata": {},
   "source": [
    "When you run a program, the possible results will be:\n",
    "\n",
    "```\n",
    "JOB_STATUS = {\n",
    "    inProgress: 'RUNNING',\n",
    "    errorOnCreate: 'ERROR_CREATING_JOB',\n",
    "    errorExecuting: 'ERROR_RUNNING_JOB',\n",
    "    completed: 'COMPLETED'\n",
    "  };\n",
    "```\n",
    "\n",
    "The *run()* command waits until the job either times out, returns an error message, or completes successfully. "
   ]
  },
  {
   "cell_type": "code",
   "execution_count": 10,
   "metadata": {
    "collapsed": false
   },
   "outputs": [
    {
     "data": {
      "text/plain": [
       "{'0000': 502, '0001': 522}"
      ]
     },
     "execution_count": 10,
     "metadata": {},
     "output_type": "execute_result"
    }
   ],
   "source": [
    "Q_program.get_counts(\"Circuit\")"
   ]
  },
  {
   "cell_type": "markdown",
   "metadata": {},
   "source": [
    "In addition to getting the number of times each output was seen, you can ask for the compiled QASM.\n",
    "For this simulation, each single-qubit gate is expressed as a u1, u2, or u3 gate."
   ]
  },
  {
   "cell_type": "code",
   "execution_count": 11,
   "metadata": {
    "collapsed": false
   },
   "outputs": [
    {
     "name": "stdout",
     "output_type": "stream",
     "text": [
      "OPENQASM 2.0;\n",
      "include \"qelib1.inc\";\n",
      "qreg qr[4];\n",
      "creg cr[4];\n",
      "u1(3.141592653589793) qr[3];\n",
      "u3(3.141592653589793,1.5707963267948966,1.5707963267948966) qr[2];\n",
      "u3(3.141592653589793,0.0,3.141592653589793) qr[1];\n",
      "u2(0.0,3.141592653589793) qr[0];\n",
      "cx qr[0],qr[2];\n",
      "barrier qr[0],qr[1],qr[2],qr[3];\n",
      "u1(0.3) qr[0];\n",
      "u1(1.5707963267948966) qr[0];\n",
      "measure qr[0] -> cr[0];\n",
      "u2(0.3,0.2) qr[1];\n",
      "u1(0.7853981633974483) qr[1];\n",
      "id qr[1];\n",
      "u3(0.3,0.2,0.1) qr[2];\n",
      "\n"
     ]
    }
   ],
   "source": [
    "compiled_qasm = Q_program.get_compiled_qasm(\"Circuit\")\n",
    "\n",
    "print(compiled_qasm)"
   ]
  },
  {
   "cell_type": "markdown",
   "metadata": {
    "collapsed": false
   },
   "source": [
    "You can use *execute()* to combine the compile and run in a single step."
   ]
  },
  {
   "cell_type": "code",
   "execution_count": 12,
   "metadata": {
    "collapsed": false
   },
   "outputs": [
    {
     "name": "stdout",
     "output_type": "stream",
     "text": [
      "running on backend: simulator\n"
     ]
    }
   ],
   "source": [
    "result = Q_program.execute(circuits, device, wait=2, timeout=240)"
   ]
  },
  {
   "cell_type": "markdown",
   "metadata": {},
   "source": [
    "#### Compile Parameters\n",
    "Q_program.compile(circuits, device=\"simulator\", shots=1024, max_credits=3, basis_gates=None, coupling_map=None, seed=None)\n",
    "     - circuits: Array of circuits to compile\n",
    "     - device: Backend \n",
    "        [\"simulator\",               # online default simulator links to ibmqx_qasm_simulator\n",
    "         \"real\",                    # online default real chip links to ibmqx2\n",
    "         \"ibmqx_qasm_simulator\"     # qasm simulator \n",
    "         \"ibmqx2\",                  # online real chip with 5 qubits\n",
    "         \"ibmqx3\",                  # online real chip with 16 qubits\n",
    "         \"local_unitary_simulator\", # local unitary simulator \n",
    "         \"local_qasm_simulator\"]    # local simulator \n",
    "     - shots: Number of shots, only for real chips and qasm simulators\n",
    "     - max_credits: Maximum number of the credits to spend in the executions. If the executions cost more than your available credits, the job is aborted\n",
    "     - basis_gates: the base gates by default are: u1, u2, u3, cx, id\n",
    "     - coupling_map: Object that represents the physical/topological layout of a chip.\n",
    "     - seed: For the qasm simulator if you want to set the initial seed. \n",
    "#### Run Parameters\n",
    "Q_program.run(wait=5, timeout=60)\n",
    "     - wait: Time to wait before checking if the execution is COMPLETED.\n",
    "     - timeout: Timeout of the execution.\n",
    "#### Execute Parameters \n",
    "*the Execute has the combined parameters of Compile and Run*\n",
    "\n",
    "Q_program.execute(circuits, device, shots=1024,\n",
    "                max_credits=3, basis_gates=None, wait=5, timeout=60, basis_gates=None, coupling_map=None,)"
   ]
  },
  {
   "cell_type": "markdown",
   "metadata": {},
   "source": [
    "### Execute on a Real Device<a id='sectionR'></a>"
   ]
  },
  {
   "cell_type": "code",
   "execution_count": 13,
   "metadata": {
    "collapsed": false
   },
   "outputs": [
    {
     "name": "stdout",
     "output_type": "stream",
     "text": [
      "running on backend: ibmqx2\n",
      "status = RUNNING (10 seconds)\n",
      "status = RUNNING (20 seconds)\n"
     ]
    }
   ],
   "source": [
    "device = 'ibmqx2'   # Backend where you execute your program; in this case, on the Real Quantum Chip online \n",
    "circuits = [\"Circuit\"]   # Group of circuits to execute\n",
    "shots = 1024           # Number of shots to run the program (experiment); maximum is 8192 shots.\n",
    "max_credits = 3          # Maximum number of credits to spend on executions. \n",
    "\n",
    "result = Q_program.execute(circuits, device, shots, max_credits=3, wait=10, timeout=240)"
   ]
  },
  {
   "cell_type": "markdown",
   "metadata": {},
   "source": [
    "### Result\n",
    "You can access the result via the function get_counts(\"circuit_name\"). By default, the last device is used, but you can be more specific by using get_counts(\"circuit_name\", device=\"device_name\")."
   ]
  },
  {
   "cell_type": "code",
   "execution_count": 14,
   "metadata": {
    "collapsed": false
   },
   "outputs": [
    {
     "data": {
      "text/plain": [
       "{'00000': 505, '00001': 519}"
      ]
     },
     "execution_count": 14,
     "metadata": {},
     "output_type": "execute_result"
    }
   ],
   "source": [
    "Q_program.get_counts(\"Circuit\")"
   ]
  },
  {
   "cell_type": "markdown",
   "metadata": {},
   "source": [
    "### Execute on a local simulator"
   ]
  },
  {
   "cell_type": "code",
   "execution_count": 15,
   "metadata": {
    "collapsed": false
   },
   "outputs": [
    {
     "name": "stdout",
     "output_type": "stream",
     "text": [
      "running on backend: local_qasm_simulator\n"
     ]
    },
    {
     "data": {
      "text/plain": [
       "{'0000': 493, '0001': 531}"
      ]
     },
     "execution_count": 15,
     "metadata": {},
     "output_type": "execute_result"
    }
   ],
   "source": [
    "Q_program.compile(circuits, \"local_qasm_simulator\") #Compile your program\n",
    "\n",
    "result = Q_program.run(wait=2, timeout=240) #Run your program in the device and check the execution result every 2 seconds \n",
    "\n",
    "Q_program.get_counts(\"Circuit\")"
   ]
  },
  {
   "cell_type": "markdown",
   "metadata": {},
   "source": []
  }
 ],
 "metadata": {
  "anaconda-cloud": {},
  "kernelspec": {
   "display_name": "Python 3",
   "language": "python",
   "name": "python3"
  },
  "language_info": {
   "codemirror_mode": {
    "name": "ipython",
    "version": 3
   },
   "file_extension": ".py",
   "mimetype": "text/x-python",
   "name": "python",
   "nbconvert_exporter": "python",
   "pygments_lexer": "ipython3",
   "version": "3.6.0"
  }
 },
 "nbformat": 4,
 "nbformat_minor": 0
}
