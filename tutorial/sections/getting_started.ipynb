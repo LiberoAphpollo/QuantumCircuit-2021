{
 "cells": [
  {
   "cell_type": "markdown",
   "metadata": {},
   "source": [
    "<img src=\"../images/QISKit-c.gif\" alt=\"Note: In order for images to show up in this jupyter notebook you need to select File => Trusted Notebook\" width=\"250 px\" align=\"left\">"
   ]
  },
  {
   "cell_type": "markdown",
   "metadata": {},
   "source": [
    "## _*Getting Started with QISKit SDK*_ \n",
    "\n",
    "For more information about how to use the IBM Q experience (QX), consult the [tutorials](https://quantumexperience.ng.bluemix.net/qstage/#/tutorial?sectionId=c59b3710b928891a1420190148a72cce&pageIndex=0), or check out the [community](https://quantumexperience.ng.bluemix.net/qstage/#/community).\n",
    "\n",
    "***\n",
    "### Contributors\n",
    "Ismael Faro, Jay Gambetta, Andrew Cross"
   ]
  },
  {
   "cell_type": "markdown",
   "metadata": {},
   "source": [
    "## QISKit SDK Tutorial\n",
    "\n",
    "This tutorial aims to explain how to use the QISKit SDK from a developer's point of view. We review the steps it takes to install and start to use the SDK tools.\n",
    "\n",
    "QISKit is a Python software development kit (SDK) that you can use to create your quantum computing programs based on circuits defined through the [OpenQASM 2.0 specification](https://github.com/IBM/qiskit-openqasm), compile them, and execute them on several backends (Real Quantum Processors online, Simulators online, and Simulators on local). For the online backends, QISKit uses our [python API connector](https://github.com/IBM/qiskit-api-py) to the [IBM Q experience project](http://quantumexperience.ng.bluemix.net/).\n",
    "\n",
    "In addition to this tutorial, we have other tutorials that introduce you to more complex concepts directly related to quantum computing.\n",
    "\n",
    "More examples:\n",
    "- Familiarize yourself with the important concepts of [superposition and entanglement](superposition_and_entanglement.ipynb).\n",
    "- Go beyond and explore a bit more in-depth in [entanglement revisited](entanglement_revisited.ipynb).\n",
    "\n"
   ]
  },
  {
   "cell_type": "markdown",
   "metadata": {},
   "source": [
    "## Install QISKit\n",
    "\n",
    "The easiest way to install QISKit is with the Anaconda Python distribution.\n",
    "\n",
    "- Install Anaconda: https://www.continuum.io/downloads\n",
    "\n",
    "Next, install QISKit from the git repository.\n",
    "\n",
    "- Clone the repo:\n",
    "\n",
    "```sh\n",
    "git clone https://github.ibm.com/IBMQuantum/qiskit-sdk-py-dev\n",
    "cd qiskit-sdk-py-dev\n",
    "```\n",
    "\n",
    "- Create the environment with the dependencies:\n",
    "\n",
    "```sh\n",
    "make env\n",
    "```\n",
    "\n",
    "## Use QISKit Python SDK\n",
    "\n",
    "You can try out the examples easily with Jupyter or Python.\n",
    "\n",
    "Add your personal API token to the file \"Qconfig.py\" (get it from your [IBM Q experience](https://quantumexperience.ng.bluemix.net) > Account):\n",
    "\n",
    "```sh\n",
    "cp tutorial/Qconfig.py.default Qconfig.py\n",
    "```\n",
    "Run Jupyter notebook.\n",
    "\n",
    "```sh\n",
    "make run_tutorial\n",
    "```"
   ]
  },
  {
   "cell_type": "markdown",
   "metadata": {},
   "source": [
    "## Basic Concept\n",
    "\n",
    "The basic concept of our quantum program is an array of quantum circuits. The program workflow consists of three stages: [Build](#sectionB), [Compile](#sectionC), and [Run](#sectionR). Build allows you to make different quantum circuits that represent the problem you are solving; Compile allows you to rewrite them to run on different backends (simulators/real chips of different [quantum volumes](http://ibm.biz/qiskit-quantum-volume), sizes, fidelity, etc); and Run launches the jobs.  After the jobs have been run, the data is collected. There are methods for putting this data together, depending on the program. This either gives you the answer you wanted, or allows you to make a better program for the next instance.\n",
    "\n",
    "### Building your program: Create it  <a id='sectionB'></a>\n",
    "\n",
    "First you need to import the QuantumProgram package from QISKit."
   ]
  },
  {
   "cell_type": "code",
   "execution_count": 1,
   "metadata": {
    "collapsed": true
   },
   "outputs": [],
   "source": [
    "import sys\n",
    "sys.path.append(\"../../\") # solve the relative dependencies if you clone QISKit from the Git repo and use like a global.\n",
    "\n",
    "from qiskit import QuantumProgram\n",
    "import Qconfig"
   ]
  },
  {
   "cell_type": "markdown",
   "metadata": {},
   "source": [
    "The basic elements needed for your first program are the QuantumProgram, a Circuit, a Quantum Register, and a Classical Register."
   ]
  },
  {
   "cell_type": "code",
   "execution_count": 2,
   "metadata": {
    "collapsed": true
   },
   "outputs": [],
   "source": [
    "# Creating Programs\n",
    "# create your first QuantumProgram object instance.\n",
    "qp = QuantumProgram()\n",
    "\n",
    "# Creating Registers\n",
    "# create your first Quantum Register called \"qr\" with 2 qubits \n",
    "qr = qp.create_quantum_register(\"qr\", 2)\n",
    "# create your first Classical Register  called \"cr\" with 2 bits\n",
    "cr = qp.create_classical_register(\"cr\", 2)\n",
    "\n",
    "# Creating Circuits\n",
    "# create your first Quantum Circuit called \"qc\" involving your Quantum Register \"qr\"\n",
    "# and your Classical Register \"cr\"\n",
    "qc = qp.create_circuit(\"qc\", [qr], [cr])"
   ]
  },
  {
   "cell_type": "markdown",
   "metadata": {},
   "source": [
    "Another option for creating your QuantumProgram instance is to define a dictionary with all the necessary components of your program."
   ]
  },
  {
   "cell_type": "code",
   "execution_count": 3,
   "metadata": {
    "collapsed": true
   },
   "outputs": [],
   "source": [
    "Q_SPECS = {\n",
    "    \"circuits\": [{\n",
    "        \"name\": \"Circuit\",\n",
    "        \"quantum_registers\": [{\n",
    "            \"name\": \"qr\",\n",
    "            \"size\": 4\n",
    "        }],\n",
    "        \"classical_registers\": [{\n",
    "            \"name\": \"cr\",\n",
    "            \"size\": 4\n",
    "        }]}],\n",
    "}"
   ]
  },
  {
   "cell_type": "markdown",
   "metadata": {},
   "source": [
    "The required element for a Program is a \"circuits\" array. Within \"circuits\", the required field is \"name\"; it can have several Quantum Registers and Classical Registers. Every register must have a name and the number of each element (qubits or bits).\n",
    "\n",
    "After that, you can use this dictionary definition as the specs of one QuantumProgram object to initialize it."
   ]
  },
  {
   "cell_type": "code",
   "execution_count": 4,
   "metadata": {
    "collapsed": true
   },
   "outputs": [],
   "source": [
    "qp = QuantumProgram(specs=Q_SPECS)"
   ]
  },
  {
   "cell_type": "markdown",
   "metadata": {},
   "source": [
    "You can also get every component from your new qp to use."
   ]
  },
  {
   "cell_type": "code",
   "execution_count": 5,
   "metadata": {
    "collapsed": true
   },
   "outputs": [],
   "source": [
    "# Get the components.\n",
    "\n",
    "# get the circuit by Name\n",
    "circuit = qp.get_circuit(\"Circuit\")\n",
    "\n",
    "# get the Quantum Register by Name\n",
    "quantum_r = qp.get_quantum_register(\"qr\")\n",
    "\n",
    "# get the Classical Register by Name\n",
    "classical_r = qp.get_classical_register('cr')"
   ]
  },
  {
   "cell_type": "markdown",
   "metadata": {},
   "source": [
    "### Building your program: Add Gates to your Circuit\n",
    "After you create the circuit with its registers, you can add gates to manipulate the registers. Below is a list of the gates you can use in the QX.\n",
    "\n",
    "You can find extensive information about these gates and how use them in our [Quantum Experience User Guide](https://quantumexperience.ng.bluemix.net/qstage/#/tutorial?sectionId=71972f437b08e12d1f465a8857f4514c&pageIndex=2). "
   ]
  },
  {
   "cell_type": "code",
   "execution_count": 6,
   "metadata": {
    "collapsed": false
   },
   "outputs": [
    {
     "data": {
      "text/plain": [
       "<qiskit._measure.Measure at 0x10cccb940>"
      ]
     },
     "execution_count": 6,
     "metadata": {},
     "output_type": "execute_result"
    }
   ],
   "source": [
    "# H (Hadamard) gate to qubit 0 in the Quantum Register \"qr\" \n",
    "circuit.h(quantum_r[0])\n",
    "\n",
    "# Pauli X gate to qubit 1 in the Quantum Register \"qr\" \n",
    "circuit.x(quantum_r[1])\n",
    "\n",
    "# Pauli Y gate to qubit 2 in the Quantum Register \"qr\" \n",
    "circuit.y(quantum_r[2])\n",
    "\n",
    "# Pauli Z gate to qubit 3 in the Quantum Register \"qr\" \n",
    "circuit.z(quantum_r[3])\n",
    "\n",
    "# CNOT (Controlled-NOT) gate from qubit 0 to qubit 2\n",
    "circuit.cx(quantum_r[0], quantum_r[2])\n",
    "\n",
    "# add a barrier to your circuit\n",
    "circuit.barrier()\n",
    "\n",
    "# first physical gate: u1(lambda) to qubit 0\n",
    "circuit.u1(0.3, quantum_r[0])\n",
    "\n",
    "# second physical gate: u2(phi,lambda) to qubit 1\n",
    "circuit.u2(0.3, 0.2, quantum_r[1])\n",
    "\n",
    "# second physical gate: u3(theta,phi,lambda) to qubit 2\n",
    "circuit.u3(0.3, 0.2, 0.1, quantum_r[2])\n",
    "\n",
    "# S Phase gate to qubit 0\n",
    "circuit.s(quantum_r[0])\n",
    "\n",
    "# T Phase gate to qubit 1\n",
    "circuit.t(quantum_r[1])\n",
    "\n",
    "# identity gate to qubit 1\n",
    "circuit.iden(quantum_r[1])\n",
    "\n",
    "# Note: \"if\" is not implemented in the local simulator right now,\n",
    "#       so we comment it out here. You can uncomment it and\n",
    "#       run in the online simulator if you'd like.\n",
    "\n",
    "# Classical if, from qubit2 gate Z to classical bit 1\n",
    "# circuit.z(quantum_r[2]).c_if(classical_r, 0)\n",
    "\n",
    "# measure gate from qubit 0 to classical bit 0\n",
    "circuit.measure(quantum_r[0], classical_r[0])\n"
   ]
  },
  {
   "cell_type": "markdown",
   "metadata": {},
   "source": [
    "If you want to see what circuits are in your program you can use the get_circuit_names()"
   ]
  },
  {
   "cell_type": "code",
   "execution_count": 7,
   "metadata": {},
   "outputs": [
    {
     "data": {
      "text/plain": [
       "['Circuit']"
      ]
     },
     "execution_count": 7,
     "metadata": {},
     "output_type": "execute_result"
    }
   ],
   "source": [
    "qp.get_circuit_names()"
   ]
  },
  {
   "cell_type": "markdown",
   "metadata": {},
   "source": [
    "### Extract QASM\n",
    "\n",
    "You can obtain a QASM representation of your code."
   ]
  },
  {
   "cell_type": "code",
   "execution_count": 8,
   "metadata": {},
   "outputs": [
    {
     "name": "stdout",
     "output_type": "stream",
     "text": [
      "OPENQASM 2.0;\n",
      "include \"qelib1.inc\";\n",
      "qreg qr[4];\n",
      "creg cr[4];\n",
      "h qr[0];\n",
      "x qr[1];\n",
      "y qr[2];\n",
      "z qr[3];\n",
      "cx qr[0],qr[2];\n",
      "barrier qr[0],qr[1],qr[2],qr[3];\n",
      "u1(0.300000000000000) qr[0];\n",
      "u2(0.300000000000000,0.200000000000000) qr[1];\n",
      "u3(0.300000000000000,0.200000000000000,0.100000000000000) qr[2];\n",
      "s qr[0];\n",
      "t qr[1];\n",
      "id qr[1];\n",
      "measure qr[0] -> cr[0];\n",
      "\n"
     ]
    }
   ],
   "source": [
    "# QASM from a program\n",
    "\n",
    "QASM_source = qp.get_qasm(\"Circuit\")\n",
    "\n",
    "print(QASM_source)"
   ]
  },
  {
   "cell_type": "markdown",
   "metadata": {},
   "source": [
    "### Compile and Run or Execute <a id='sectionC'></a>"
   ]
  },
  {
   "cell_type": "markdown",
   "metadata": {},
   "source": [
    "First we show how to run the above quantum circuit on our local simulator."
   ]
  },
  {
   "cell_type": "code",
   "execution_count": 9,
   "metadata": {
    "collapsed": true
   },
   "outputs": [],
   "source": [
    "backend = 'local_qasm_simulator' \n",
    "qp.set_api(Qconfig.APItoken, Qconfig.config[\"url\"]) # set the APIToken and API url\n",
    "circuits = [\"Circuit\"]  # Group of circuits to execute"
   ]
  },
  {
   "cell_type": "code",
   "execution_count": 10,
   "metadata": {},
   "outputs": [
    {
     "name": "stdout",
     "output_type": "stream",
     "text": [
      "{'status': 'COMPLETED', 'result': 'all done'}\n"
     ]
    }
   ],
   "source": [
    "qp.compile(circuits, backend) # Compile your program\n",
    "\n",
    "# Run your program in the device and check the execution result every 2 seconds \n",
    "out = qp.run(wait=2, timeout=240)\n",
    "\n",
    "print(out)"
   ]
  },
  {
   "cell_type": "markdown",
   "metadata": {},
   "source": [
    "When you run a program, the possible results will be:\n",
    "\n",
    "```\n",
    "JOB_STATUS = {\n",
    "    inProgress: 'RUNNING',\n",
    "    errorOnCreate: 'ERROR_CREATING_JOB',\n",
    "    errorExecuting: 'ERROR_RUNNING_JOB',\n",
    "    completed: 'COMPLETED'\n",
    "  };\n",
    "```\n",
    "\n",
    "The *run()* command waits until the job either times out, returns an error message, or completes successfully. "
   ]
  },
  {
   "cell_type": "code",
   "execution_count": 11,
   "metadata": {},
   "outputs": [
    {
     "data": {
      "text/plain": [
       "{'0000': 519, '0001': 505}"
      ]
     },
     "execution_count": 11,
     "metadata": {},
     "output_type": "execute_result"
    }
   ],
   "source": [
    "qp.get_counts(\"Circuit\")"
   ]
  },
  {
   "cell_type": "markdown",
   "metadata": {},
   "source": [
    "In addition to getting the number of times each output was seen, you can get the ran QASM.\n",
    "For this simulation, the compiled circuit is not much different from the input circuit. Each single-qubit gate has been expressed as a u1, u2, or u3 gate."
   ]
  },
  {
   "cell_type": "code",
   "execution_count": 12,
   "metadata": {},
   "outputs": [
    {
     "name": "stdout",
     "output_type": "stream",
     "text": [
      "OPENQASM 2.0;\n",
      "qreg qr[4];\n",
      "creg cr[4];\n",
      "gate u2(phi,lambda) q\n",
      "{\n",
      "  U((3.141592653589793/2),phi,lambda) q;\n",
      "}\n",
      "gate u3(theta,phi,lambda) q\n",
      "{\n",
      "  U(theta,phi,lambda) q;\n",
      "}\n",
      "gate u1(lambda) q\n",
      "{\n",
      "  U(0,0,lambda) q;\n",
      "}\n",
      "gate cx c,t\n",
      "{\n",
      "  CX c,t;\n",
      "}\n",
      "gate id a\n",
      "{\n",
      "  U(0,0,0) a;\n",
      "}\n",
      "u1(3.141592653589793) qr[3];\n",
      "u3(3.141592653589793,1.5707963267948966,1.5707963267948966) qr[2];\n",
      "u3(3.141592653589793,0.0,3.141592653589793) qr[1];\n",
      "u2(0.0,3.141592653589793) qr[0];\n",
      "cx qr[0],qr[2];\n",
      "barrier qr[0],qr[1],qr[2],qr[3];\n",
      "u1(0.3) qr[0];\n",
      "u1(1.5707963267948966) qr[0];\n",
      "measure qr[0] -> cr[0];\n",
      "u2(0.3,0.2) qr[1];\n",
      "u1(0.7853981633974483) qr[1];\n",
      "id qr[1];\n",
      "u3(0.3,0.2,0.1) qr[2];\n",
      "\n"
     ]
    }
   ],
   "source": [
    "ran_qasm = qp.get_ran_qasm(\"Circuit\")\n",
    "\n",
    "print(ran_qasm)"
   ]
  },
  {
   "cell_type": "markdown",
   "metadata": {},
   "source": [
    "You can use *execute()* to combine the compile and run in a single step."
   ]
  },
  {
   "cell_type": "code",
   "execution_count": 13,
   "metadata": {},
   "outputs": [
    {
     "name": "stdout",
     "output_type": "stream",
     "text": [
      "{'status': 'COMPLETED', 'result': 'all done'}\n"
     ]
    }
   ],
   "source": [
    "out = qp.execute(circuits, backend, wait=2, timeout=240)\n",
    "print(out)"
   ]
  },
  {
   "cell_type": "markdown",
   "metadata": {},
   "source": [
    "#### Compile Parameters\n",
    "qp.compile(circuits, backend=\"ibmqx2\", shots=1024, max_credits=3, basis_gates=None, coupling_map=None, seed=None)\n",
    "     - circuits: Array of circuits to compile\n",
    "     - backend: Backend \n",
    "        [\"simulator\",               # online default simulator links to ibmqx_qasm_simulator\n",
    "         \"ibmqx_qasm_simulator\"     # qasm simulator \n",
    "         \"ibmqx2\",                  # online real chip with 5 qubits\n",
    "         \"ibmqx3\",                  # online real chip with 16 qubits\n",
    "         \"local_unitary_simulator\", # local unitary simulator \n",
    "         \"local_qasm_simulator\"]    # local simulator \n",
    "     - shots: Number of shots, only for real chips and qasm simulators\n",
    "     - max_credits: Maximum number of credits to spend in the executions. If the executions cost more than your available credits, the job is aborted\n",
    "     - basis_gates: the base gates by default are: u1, u2, u3, cx, id\n",
    "     - coupling_map: Object that represents the physical/topological layout of a chip.\n",
    "     - seed: For the qasm simulator if you want to set the initial seed. \n",
    "#### Run Parameters\n",
    "qp.run(wait=5, timeout=60)\n",
    "     - wait: Time to wait before checking if the execution is COMPLETED.\n",
    "     - timeout: Timeout of the execution.\n",
    "#### Execute Parameters \n",
    "*Execute has the combined parameters of compile and run.*\n",
    "\n",
    "qp.execute(circuits, device, shots=1024,\n",
    "                max_credits=3, basis_gates=None, wait=5, timeout=60, basis_gates=None, coupling_map=None,)"
   ]
  },
  {
   "cell_type": "markdown",
   "metadata": {},
   "source": [
    "### Execute on a Real Device<a id='sectionR'></a>"
   ]
  },
  {
   "cell_type": "code",
   "execution_count": 14,
   "metadata": {},
   "outputs": [
    {
     "name": "stdout",
     "output_type": "stream",
     "text": [
      "running on backend: ibmqx2\n",
      "status = RUNNING (10 seconds)\n",
      "status = RUNNING (20 seconds)\n",
      "status = RUNNING (30 seconds)\n",
      "status = RUNNING (40 seconds)\n",
      "status = RUNNING (50 seconds)\n",
      "status = RUNNING (60 seconds)\n",
      "status = RUNNING (70 seconds)\n",
      "status = RUNNING (80 seconds)\n",
      "status = RUNNING (90 seconds)\n",
      "status = RUNNING (100 seconds)\n",
      "{'status': 'COMPLETED', 'result': 'all done'}\n"
     ]
    }
   ],
   "source": [
    "backend = 'ibmqx2'   # Backend where you execute your program; in this case, on the Real Quantum Chip online \n",
    "circuits = [\"Circuit\"]   # Group of circuits to execute\n",
    "shots = 1024           # Number of shots to run the program (experiment); maximum is 8192 shots.\n",
    "max_credits = 3          # Maximum number of credits to spend on executions. \n",
    "\n",
    "out = qp.execute(circuits, backend, shots=shots, max_credits=3, wait=10, timeout=240, silent=False)\n",
    "print(out)"
   ]
  },
  {
   "cell_type": "markdown",
   "metadata": {},
   "source": [
    "It can also be run in silent mode, which you can enable by setting to silent=True"
   ]
  },
  {
   "cell_type": "code",
   "execution_count": 15,
   "metadata": {},
   "outputs": [
    {
     "name": "stdout",
     "output_type": "stream",
     "text": [
      "{'status': 'COMPLETED', 'result': 'all done'}\n"
     ]
    }
   ],
   "source": [
    "out = qp.execute(circuits, backend, shots=shots, max_credits=3, wait=10, timeout=240, silent=True)\n",
    "print(out)"
   ]
  },
  {
   "cell_type": "markdown",
   "metadata": {},
   "source": [
    "### Result\n",
    "You can access the result via the function *get_counts(\"circuit_name\")*. By default, the last device is used, but you can be more specific by using *get_counts(\"circuit_name\", device=\"device_name\")*."
   ]
  },
  {
   "cell_type": "code",
   "execution_count": 16,
   "metadata": {},
   "outputs": [
    {
     "data": {
      "text/plain": [
       "{'00000': 563, '00001': 461}"
      ]
     },
     "execution_count": 16,
     "metadata": {},
     "output_type": "execute_result"
    }
   ],
   "source": [
    "qp.get_counts(\"Circuit\")"
   ]
  },
  {
   "cell_type": "code",
   "execution_count": null,
   "metadata": {
    "collapsed": true
   },
   "outputs": [],
   "source": []
  }
 ],
 "metadata": {
  "anaconda-cloud": {},
  "kernelspec": {
   "display_name": "Python 3",
   "language": "python",
   "name": "python3"
  },
  "language_info": {
   "codemirror_mode": {
    "name": "ipython",
    "version": 3
   },
   "file_extension": ".py",
   "mimetype": "text/x-python",
   "name": "python",
   "nbconvert_exporter": "python",
   "pygments_lexer": "ipython3",
   "version": "3.6.0"
  }
 },
 "nbformat": 4,
 "nbformat_minor": 1
}
