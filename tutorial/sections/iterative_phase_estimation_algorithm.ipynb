{
 "cells": [
  {
   "cell_type": "markdown",
   "metadata": {},
   "source": [
    "<img src=\"./images/QIBM-logo.gif\" alt=\"Note: In order for images to show up in this jupyter notebook you need to select File => Trusted Notebook\" width=\"250 px\" align=\"left\">"
   ]
  },
  {
   "cell_type": "markdown",
   "metadata": {},
   "source": [
    "## Iterative Phase Estimation Algorithm\n",
    "\n",
    "© IBM Research\n",
    "\n",
    "The latest version of this notebook is available on https://github.ibm.com/QuantumSDK/qx-sdk/scripts/.\n",
    "\n",
    "For more information about how to use the Quantum Experience consult the [Quantum Experience tutorials](https://quantumexperience.ng.bluemix.net/qstage/#/tutorial?sectionId=c59b3710b928891a1420190148a72cce&pageIndex=0) or check-out the [community](https://quantumexperience.ng.bluemix.net/qstage/#/community).\n",
    "\n",
    "***\n",
    "### Contributors\n",
    "Antonio Córcoles, Jay Gambetta"
   ]
  },
  {
   "cell_type": "markdown",
   "metadata": {},
   "source": [
    "## Phase Estimation\n",
    "\n",
    "The Quantum Phase Estimation (QPE) algorithm solves the problem of finding unknown eigenvalues of a unitary operator. The attractiveness of the QPE algorithm lies in no small part in the fact that it is a key ingredient of some other very powerful algorithms like order finding and Shor's. \n",
    "\n",
    "In the standard textbook QPE, as described in Nielsen & Chuang <i>Quantum Computation and Quantum Information</i>, each bit of the phase is encoded in a different qubit on a register by using the phase kickback property of controlled-Unitary operations. This is followed by an inverse Quantum Fourier Transform operation which yields an n-bit approximation to the phase by reading the n-qubit register."
   ]
  },
  {
   "cell_type": "markdown",
   "metadata": {},
   "source": [
    "## Iterative Phase Estimation\n",
    "The QPE algorithm can however be realized in a much smaller qubit system by iterating the steps on a system of just two qubits. This is called the Iterative Phase Estimation Algorithm (IPEA).\n",
    "\n",
    "Consider the problem of finding $\\varphi$ given $|\\Psi\\rangle$ and $U$ in $U |\\Psi\\rangle = e^{i \\phi} | \\Psi \\rangle$, with $\\phi = 2 \\pi \\varphi$. Let's assume for now that $\\varphi$ can be written as $\\varphi = \\varphi_1/2 + \\varphi_2/4 + ... + \\varphi_m/2^m = 0.\\varphi_1 \\varphi_2 ... \\varphi_m$, where we have defined the notation $0.\\varphi_1 \\varphi_2 ... \\varphi_m$. Now, if we have two qubits, $q_0$ and $q_1$, and we initialize them as $q_0 \\rightarrow |+\\rangle$ and $q_1 \\rightarrow |\\Psi \\rangle$, then, after applying a control-U between $q_0$ and $q_1$ $2^t$ times the state of $q_0$ can be written as $|0\\rangle + e^{i 2 \\pi 2^{t} \\varphi} | 1 \\rangle$. That is, the phase of $U$ has been kicked back into $q_0$ as many times as the control operation has been performed.\n",
    "\n",
    "For $t=0$, we have a total phase in $q_0$ of $e^{i 2 \\pi 2^{0} \\varphi} = e^{i 2 \\pi \\varphi} = e^{i 2 \\pi 0.\\varphi_1 \\varphi_2 ... \\varphi_m}$\n",
    "\n",
    "For $t=1$, the phase would be $e^{i 2 \\pi 2^{1} \\varphi} = e^{i 2 \\pi \\varphi_1} e^{i 2 \\pi 0.\\varphi_2 \\varphi_3 ... \\varphi_m}$\n",
    "\n",
    "For $t=2$, $e^{i 2 \\pi 2^{2} \\varphi} = e^{i 2 \\pi 2 \\varphi_1} e^{i 2 \\pi \\varphi_2} e^{i 2 \\pi 0.\\varphi_3 \\varphi_4 ... \\varphi_m}$\n",
    "\n",
    "And for $t=m-1$, $e^{i 2 \\pi 2^{m-1} \\varphi} = e^{i 2 \\pi 2^{m-2} \\varphi_1} e^{i 2 \\pi 2^{m-3} \\varphi_2} ... e^{i 2 \\pi 2^{-1} \\varphi_m} = e^{i 2 \\pi 0.\\varphi_m}$. Now, note that if we perform a Hadamard operation on the state $|0\\rangle + e^{i 2 \\pi 0.\\varphi_m}|1\\rangle$ and perform a measurement in the standard basis, we obtain $|0\\rangle$ if $\\varphi_m = 0$ and $|1\\rangle$ if $\\varphi_m = 1$. \n",
    "\n",
    "So, in the first step of the IPEA we directly measure the least significant bit of the phase $\\varphi$, $\\varphi_m$, by initializing the 2-qubit register as described above, performing $2^{m-1}$ control-$U$ operations between the qubits, and measuring $q_0$ in the diagonal basis.\n",
    "\n",
    "For the second step, we initialize the register in the same way and apply $2^{m-2}$ control-$U$ operations. The phase in $q_0$ after these operations is now $e^{i 2 \\pi 0.\\varphi_{m-1}\\varphi_{m}}= e^{i 2 \\pi 0.\\varphi_{m-1}} e^{i 2 \\pi \\varphi_m/4}$. We see that prior to extracting the phase bit $\\varphi_{m-1}$, we need to perform a phase correction of $\\varphi_m /2$. This is equivalent to a rotation around the $Z-$axis of angle $-\\varphi_m /4$.\n",
    "\n",
    "Therefore, the $k$th step of the IPEA, giving $\\varphi_{m-k+1}$, consists of the register initialization ($q_0$ in $|+\\rangle$, $q_1$ in $|\\Psi\\rangle$), the application of control-$U$ $2^{m-k}$ times, a rotation around $Z$ of angle $\\omega_k = -2 \\pi 0.0\\varphi_{k+1} ... \\varphi_m$, a Hadamard transform to $q_0$ and a measurement of $q_0$ in the standard basis. Note that $q_1$ remains in the state $|\\Psi\\rangle$ throughout the algorithm."
   ]
  },
  {
   "cell_type": "markdown",
   "metadata": {},
   "source": [
    "## IPEA circuit\n",
    "\n",
    "Let's first initialize the API and import the necessary packages"
   ]
  },
  {
   "cell_type": "code",
   "execution_count": 4,
   "metadata": {
    "collapsed": true
   },
   "outputs": [],
   "source": [
    "import sys\n",
    "if sys.version_info < (3,0):\n",
    "    raise Exception(\"Please use Python version 3 or greater.\")\n",
    "\n",
    "import matplotlib.pyplot as plt\n",
    "import numpy as np\n",
    "import scipy as sp\n",
    "\n",
    "from IBMQuantumExperience import IBMQuantumExperience\n",
    "from Qhelpers.basicPlotter import plotHistogram\n",
    "from Qhelpers.misc import combineJobs\n",
    "from Qhelpers.misc import getData\n",
    "\n",
    "import Qconfig\n",
    "api = IBMQuantumExperience.IBMQuantumExperience(Qconfig.APItoken, Qconfig.config)"
   ]
  },
  {
   "cell_type": "markdown",
   "metadata": {},
   "source": [
    "Now you can try the following circuit in the quantum simulator for a phase of $-5\\pi/8 = 2 \\pi \\varphi$ and $m=4$. Note that the IPEA cannot be run in the real device in this form due to the current lack of feedback capability."
   ]
  },
  {
   "cell_type": "code",
   "execution_count": 5,
   "metadata": {},
   "outputs": [
    {
     "name": "stdout",
     "output_type": "stream",
     "text": [
      "status = {'RUNNING': 1} (0 seconds)\n",
      "status = {'COMPLETED': 1} (20 seconds)\n"
     ]
    },
    {
     "data": {
      "image/png": "[encoded data removed]",
      "text/plain": [
       "<matplotlib.figure.Figure at 0x1124fa908>"
      ]
     },
     "metadata": {},
     "output_type": "display_data"
    }
   ],
   "source": [
    "ipea = \"\"\"\n",
    "IBMQASM 2.0;\n",
    "include \"qelib1.inc\";\n",
    "qreg q[2];\n",
    "creg c[4];\n",
    "gate cu1fixed (a) c,t {\n",
    "u1 (-a) t;\n",
    "cx c,t;\n",
    "u1 (a) t;\n",
    "cx c,t;\n",
    "}\n",
    "gate cu c,t {\n",
    "cu1fixed (-5*pi/8) c,t;\n",
    "}\n",
    "\n",
    "h q[0];\n",
    "cu q[0],q[1];\n",
    "cu q[0],q[1];\n",
    "cu q[0],q[1];\n",
    "cu q[0],q[1];\n",
    "cu q[0],q[1];\n",
    "cu q[0],q[1];\n",
    "cu q[0],q[1];\n",
    "cu q[0],q[1];\n",
    "h q[0];\n",
    "measure q[0] -> c[0];\n",
    "reset q[0];\n",
    "h q[0];\n",
    "cu q[0],q[1];\n",
    "cu q[0],q[1];\n",
    "cu q[0],q[1];\n",
    "cu q[0],q[1];\n",
    "if(c==1) u1(-pi/2) q[0];\n",
    "h q[0];\n",
    "measure q[0] -> c[1];\n",
    "reset q[0];\n",
    "h q[0];\n",
    "cu q[0],q[1];\n",
    "cu q[0],q[1];\n",
    "if(c==1) u1(-pi/4) q[0];\n",
    "if(c==2) u1(-pi/2) q[0];\n",
    "if(c==3) u1(-3*pi/4) q[0];\n",
    "h q[0];\n",
    "measure q[0] -> c[2];\n",
    "reset q[0];\n",
    "h q[0];\n",
    "cu q[0],q[1];\n",
    "if(c==1) u1(-pi/8) q[0];\n",
    "if(c==2) u1(-2*pi/8) q[0];\n",
    "if(c==3) u1(-3*pi/8) q[0];\n",
    "if(c==4) u1(-4*pi/8) q[0];\n",
    "if(c==5) u1(-5*pi/8) q[0];\n",
    "if(c==6) u1(-6*pi/8) q[0];\n",
    "if(c==7) u1(-7*pi/8) q[0];\n",
    "h q[0];\n",
    "measure q[0] -> c[3];\n",
    "\"\"\"\n",
    "\n",
    "qasms = [{'qasm' : ipea}]\n",
    "device = 'sim'\n",
    "shots = 1024\n",
    "out = api.runJob(qasms,device,shots,maxCredits=3)\n",
    "jobids = [out['id']]\n",
    "results = combineJobs(jobids, api, wait=20, timeout=240)\n",
    "data = getData(results,0)\n",
    "plotHistogram(data)"
   ]
  },
  {
   "cell_type": "markdown",
   "metadata": {},
   "source": [
    "The results are given in terms of $\\varphi = 0.\\varphi_1 \\varphi_2 \\varphi_3 \\varphi_4$, with the least significant digit ($\\varphi_4$) as the leftmost bit in the classical register. The result is $\\varphi = 11/16$, from which $\\phi = 2\\pi \\varphi = 11 \\pi/8 = 2 \\pi - 5\\pi/8$, as encoded in the circuit. "
   ]
  },
  {
   "cell_type": "markdown",
   "metadata": {},
   "source": [
    "## IPEA in the real device\n",
    "\n",
    "As we have mentioned before, we currently lack the ability of using measurement feedback or feedforward, along with qubit resetting, on the real device in the Quantum Experience. However, we still can implement a segmentized version of the IPEA by extracting the information about the phase one bit at a time.\n",
    "\n",
    "Try the following four circuits in the real device. They estimate the same phase as in the previous example (-5$\\pi/8$), one bit at a time, from least ($\\varphi_4$) to most ($\\varphi_1$) significant bit."
   ]
  },
  {
   "cell_type": "code",
   "execution_count": 7,
   "metadata": {},
   "outputs": [
    {
     "name": "stdout",
     "output_type": "stream",
     "text": [
      "status = {'RUNNING': 1} (0 seconds)\n",
      "status = {'COMPLETED': 1} (20 seconds)\n"
     ]
    },
    {
     "data": {
      "image/png": "[encoded data removed]",
      "text/plain": [
       "<matplotlib.figure.Figure at 0x112f15dd8>"
      ]
     },
     "metadata": {},
     "output_type": "display_data"
    }
   ],
   "source": [
    "ipea_Real_Step1 = \"\"\"\n",
    "IBMQASM 2.0;\n",
    "include \"qelib1.inc\";\n",
    "qreg q[5];\n",
    "creg c[5];\n",
    "\n",
    "h q[0];\n",
    "u1(5*pi/8) q[2];\n",
    "cx q[0],q[2];\n",
    "u1(-5*pi/8) q[2];\n",
    "cx q[0],q[2];\n",
    "u1(5*pi/8) q[2];\n",
    "cx q[0],q[2];\n",
    "u1(-5*pi/8) q[2];\n",
    "cx q[0],q[2];\n",
    "u1(5*pi/8) q[2];\n",
    "cx q[0],q[2];\n",
    "u1(-5*pi/8) q[2];\n",
    "cx q[0],q[2];\n",
    "u1(5*pi/8) q[2];\n",
    "cx q[0],q[2];\n",
    "u1(-5*pi/8) q[2];\n",
    "cx q[0],q[2];\n",
    "u1(5*pi/8) q[2];\n",
    "cx q[0],q[2];\n",
    "u1(-5*pi/8) q[2];\n",
    "cx q[0],q[2];\n",
    "u1(5*pi/8) q[2];\n",
    "cx q[0],q[2];\n",
    "u1(-5*pi/8) q[2];\n",
    "cx q[0],q[2];\n",
    "u1(5*pi/8) q[2];\n",
    "cx q[0],q[2];\n",
    "u1(-5*pi/8) q[2];\n",
    "cx q[0],q[2];\n",
    "u1(5*pi/8) q[2];\n",
    "cx q[0],q[2];\n",
    "u1(-5*pi/8) q[2];\n",
    "cx q[0],q[2];\n",
    "h q[0];\n",
    "measure q[0] -> c[0];\n",
    "\"\"\"\n",
    "\n",
    "qasms = [{'qasm' : ipea_Real_Step1}]\n",
    "device = 'real'\n",
    "shots = 1024\n",
    "out = api.runJob(qasms,device,shots,maxCredits=3)\n",
    "jobids = [out['id']]\n",
    "results = combineJobs(jobids, api, wait=20, timeout=240)\n",
    "data = getData(results,0)\n",
    "plotHistogram(data)"
   ]
  },
  {
   "cell_type": "code",
   "execution_count": 9,
   "metadata": {},
   "outputs": [
    {
     "name": "stdout",
     "output_type": "stream",
     "text": [
      "status = {'RUNNING': 1} (0 seconds)\n",
      "status = {'COMPLETED': 1} (20 seconds)\n"
     ]
    },
    {
     "data": {
      "image/png": "[encoded data removed]",
      "text/plain": [
       "<matplotlib.figure.Figure at 0x116444e80>"
      ]
     },
     "metadata": {},
     "output_type": "display_data"
    }
   ],
   "source": [
    "ipea_Real_Step2 = \"\"\"\n",
    "IBMQASM 2.0;\n",
    "include \"qelib1.inc\";\n",
    "qreg q[5];\n",
    "creg c[5];\n",
    "\n",
    "h q[0];\n",
    "u1(5*pi/8) q[2];\n",
    "cx q[0],q[2];\n",
    "u1(-5*pi/8) q[2];\n",
    "cx q[0],q[2];\n",
    "u1(5*pi/8) q[2];\n",
    "cx q[0],q[2];\n",
    "u1(-5*pi/8) q[2];\n",
    "cx q[0],q[2];\n",
    "u1(5*pi/8) q[2];\n",
    "cx q[0],q[2];\n",
    "u1(-5*pi/8) q[2];\n",
    "cx q[0],q[2];\n",
    "u1(5*pi/8) q[2];\n",
    "cx q[0],q[2];\n",
    "u1(-5*pi/8) q[2];\n",
    "cx q[0],q[2];\n",
    "u1(-pi/2) q[0];\n",
    "h q[0];\n",
    "measure q[0] -> c[0];\n",
    "\"\"\"\n",
    "\n",
    "qasms = [{'qasm' : ipea_Real_Step2}]\n",
    "device = 'real'\n",
    "shots = 1024\n",
    "out = api.runJob(qasms,device,shots,maxCredits=3)\n",
    "jobids = [out['id']]\n",
    "results = combineJobs(jobids, api, wait=20, timeout=240)\n",
    "data = getData(results,0)\n",
    "plotHistogram(data)"
   ]
  },
  {
   "cell_type": "code",
   "execution_count": 10,
   "metadata": {},
   "outputs": [
    {
     "name": "stdout",
     "output_type": "stream",
     "text": [
      "status = {'RUNNING': 1} (0 seconds)\n",
      "status = {'COMPLETED': 1} (20 seconds)\n"
     ]
    },
    {
     "data": {
      "image/png": "[encoded data removed]",
      "text/plain": [
       "<matplotlib.figure.Figure at 0x1166ae048>"
      ]
     },
     "metadata": {},
     "output_type": "display_data"
    }
   ],
   "source": [
    "ipea_Real_Step3 = \"\"\"\n",
    "IBMQASM 2.0;\n",
    "include \"qelib1.inc\";\n",
    "qreg q[5];\n",
    "creg c[5];\n",
    "\n",
    "h q[0];\n",
    "u1(5*pi/8) q[2];\n",
    "cx q[0],q[2];\n",
    "u1(-5*pi/8) q[2];\n",
    "cx q[0],q[2];\n",
    "u1(5*pi/8) q[2];\n",
    "cx q[0],q[2];\n",
    "u1(-5*pi/8) q[2];\n",
    "cx q[0],q[2];\n",
    "u1(-3*pi/4) q[0];\n",
    "h q[0];\n",
    "measure q[0] -> c[0];\n",
    "\"\"\"\n",
    "\n",
    "qasms = [{'qasm' : ipea_Real_Step3}]\n",
    "device = 'real'\n",
    "shots = 1024\n",
    "out = api.runJob(qasms,device,shots,maxCredits=3)\n",
    "jobids = [out['id']]\n",
    "results = combineJobs(jobids, api, wait=20, timeout=240)\n",
    "data = getData(results,0)\n",
    "plotHistogram(data)"
   ]
  },
  {
   "cell_type": "code",
   "execution_count": 11,
   "metadata": {},
   "outputs": [
    {
     "name": "stdout",
     "output_type": "stream",
     "text": [
      "status = {'RUNNING': 1} (0 seconds)\n",
      "status = {'COMPLETED': 1} (20 seconds)\n"
     ]
    },
    {
     "data": {
      "image/png": "[encoded data removed]",
      "text/plain": [
       "<matplotlib.figure.Figure at 0x116589c88>"
      ]
     },
     "metadata": {},
     "output_type": "display_data"
    }
   ],
   "source": [
    "ipea_Real_Step4 = \"\"\"\n",
    "IBMQASM 2.0;\n",
    "include \"qelib1.inc\";\n",
    "qreg q[5];\n",
    "creg c[5];\n",
    "\n",
    "h q[0];\n",
    "u1(5*pi/8) q[2];\n",
    "cx q[0],q[2];\n",
    "u1(-5*pi/8) q[2];\n",
    "cx q[0],q[2];\n",
    "u1(-3*pi/8) q[0];\n",
    "h q[0];\n",
    "measure q[0] -> c[0];\n",
    "\"\"\"\n",
    "\n",
    "qasms = [{'qasm' : ipea_Real_Step4}]\n",
    "device = 'real'\n",
    "shots = 1024\n",
    "out = api.runJob(qasms,device,shots,maxCredits=3)\n",
    "jobids = [out['id']]\n",
    "results = combineJobs(jobids, api, wait=20, timeout=240)\n",
    "data = getData(results,0)\n",
    "plotHistogram(data)"
   ]
  },
  {
   "cell_type": "markdown",
   "metadata": {},
   "source": [
    "We have left aside the case when $\\varphi$ does not accept a decomposition of the form $\\varphi = \\varphi_1/2 + \\varphi_2/4 + ... + \\varphi_m/2^m$. In that case, it can be shown that we can still use the IPEA to obtain $\\varphi$ to an accuracy of $2^{-m}$ with greater than a constant probability independent of $m$ (around $81\\%$ [1])."
   ]
  },
  {
   "cell_type": "markdown",
   "metadata": {},
   "source": [
    "[1] M. Dobsicek *et al. Phys. Rev. A* **76**, 030306 (2007)"
   ]
  }
 ],
 "metadata": {
  "anaconda-cloud": {},
  "kernelspec": {
   "display_name": "Python 3",
   "language": "python",
   "name": "python3"
  },
  "language_info": {
   "codemirror_mode": {
    "name": "ipython",
    "version": 3
   },
   "file_extension": ".py",
   "mimetype": "text/x-python",
   "name": "python",
   "nbconvert_exporter": "python",
   "pygments_lexer": "ipython3",
   "version": "3.6.1"
  },
  "latex_envs": {
   "bibliofile": "biblio.bib",
   "cite_by": "apalike",
   "current_citInitial": 1,
   "eqLabelWithNumbers": true,
   "eqNumInitial": 0
  },
  "nav_menu": {},
  "toc": {
   "navigate_menu": true,
   "number_sections": true,
   "sideBar": true,
   "threshold": 6,
   "toc_cell": false,
   "toc_section_display": "block",
   "toc_window_display": false
  }
 },
 "nbformat": 4,
 "nbformat_minor": 1
}
