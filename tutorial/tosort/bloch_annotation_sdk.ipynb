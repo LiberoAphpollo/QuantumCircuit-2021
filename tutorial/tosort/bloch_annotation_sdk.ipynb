{
 "cells": [
  {
   "cell_type": "markdown",
   "metadata": {},
   "source": [
    "<img src=\"../images/QISKit-c.gif\" alt=\"Note: In order for images to show up in this jupyter notebook you need to select File => Trusted Notebook\" width=\"250 px\" align=\"left\">"
   ]
  },
  {
   "cell_type": "markdown",
   "metadata": {},
   "source": [
    "## _*Bloch circuit annotation*_ <br />\n",
    "© IBM Research\n",
    "\n",
    "boilerplate\n",
    "***\n",
    "### Contributors\n",
    "Andrew Cross"
   ]
  },
  {
   "cell_type": "markdown",
   "metadata": {},
   "source": [
    "## Introduction\n",
    "\n",
    "State tomography is a method for estimating the density matrix of a quantum state. A single-qubit state $\\rho=(I+a_xX+a_yY+a_zZ)/2$ is fully determined by the expectation value of each Pauli operator. For example, $\\langle X\\rangle = \\mathrm{Tr}(X\\rho) = a_x$. The resulting vector $(a_x,a_y,a_z)$ is called the Bloch vector. Since $\\rho$ is positive and $\\mathrm{Tr}(\\rho)=1$, $\\mathrm{Tr}(\\rho^2)\\leq 1$. This implies that the Bloch vector lies on or within the unit sphere.\n",
    "\n",
    "This notebook shows how to annotate a circuit with \"bloch\" gates to carry out single-qubit state tomography at select circuit locations. If the input circuit contains $m$ \"bloch\" gates, the make_bloch_circuits helper function makes a dictionary of $3m$ QASM strings to estimate the expectation values of $X$, $Y$, and $Z$ at each of the $m$ circuit locations. If you like, \"bloch\" gates can be viewed as a debugging tool for your quantum circuits.\n",
    "\n",
    "For each occurrence of \"bloch\", the helper function (a) replaces the \"bloch\" gate with single-qubit gates and measurements, (b) deletes the future light cone of that \"bloch\" gate, and (c) removes all other \"bloch\" gates. All of the classical registers are renamed with \"aaa\" prepended. State tomography measurements are written to c[0]. If you run on the real hardware, there is only one creg, so you will need to delete \"creg c[5];\" from your input QASM as well as any measurements.\n",
    "\n",
    "The examples below creates a Bell state $|\\psi\\rangle:=\\frac{1}{\\sqrt{2}}\\left(|00\\rangle+|11\\rangle\\right)$. We annotate the circuit to show that qubit q[0] begins in the state $|0\\rangle$ on the north pole of the Bloch sphere and rotates to $|+\\rangle$ on the equator. Qubits q[0] and q[1] interact via a CNOT and become the maximally entangled state $|\\psi\\rangle$. When you observe either q[0] or q[1] in isolation, they each appear to be in the maximally mixed state $\\rho=I/2$ at the center of the Bloch sphere."
   ]
  },
  {
   "cell_type": "code",
   "execution_count": 2,
   "metadata": {
    "collapsed": false
   },
   "outputs": [],
   "source": [
    "import sys\n",
    "sys.path.append(\"..\")\n",
    "from qhelpers.basicplotter import plot_bloch_vector\n",
    "from qhelpers import bloch\n",
    "from IBMQuantumExperience import IBMQuantumExperience\n",
    "import Qconfig\n",
    "\n",
    "api = IBMQuantumExperience.IBMQuantumExperience(Qconfig.APItoken, Qconfig.config)"
   ]
  },
  {
   "cell_type": "code",
   "execution_count": 4,
   "metadata": {
    "collapsed": false,
    "scrolled": false
   },
   "outputs": [
    {
     "name": "stderr",
     "output_type": "stream",
     "text": [
      "Generating LALR tables\n",
      "Generating LALR tables\n",
      "Generating LALR tables\n",
      "Generating LALR tables\n"
     ]
    },
    {
     "name": "stdout",
     "output_type": "stream",
     "text": [
      "bloch #0 -- qubit q[0], parameters ['1.0']\n",
      "bloch #1 -- qubit q[0], parameters ['2.0']\n",
      "bloch #2 -- qubit q[0], parameters ['3.0']\n",
      "bloch #3 -- qubit q[1], parameters ['4.0']\n",
      "[{'key': ['1.0'], 'x': 'IBMQASM 2.0;\\ninclude \"qelib1.inc\";\\nqreg q[5];\\ncreg aaac[5];\\ncreg c[5];\\nu2(0.0,3.141592653589793) q[2];\\nmeasure q[2] -> aaac[0];\\nif(aaac==1) u3(3.141592653589793,0.0,3.141592653589793) q[2];\\nu2(0.0,3.141592653589793) q[0];\\nmeasure q[0] -> c[0];\\n', 'y': 'IBMQASM 2.0;\\ninclude \"qelib1.inc\";\\nqreg q[5];\\ncreg aaac[5];\\ncreg c[5];\\nu2(0.0,3.141592653589793) q[2];\\nmeasure q[2] -> aaac[0];\\nif(aaac==1) u3(3.141592653589793,0.0,3.141592653589793) q[2];\\nu1(-1.5707963267948966) q[0];\\nu2(0.0,3.141592653589793) q[0];\\nmeasure q[0] -> c[0];\\n', 'z': 'IBMQASM 2.0;\\ninclude \"qelib1.inc\";\\nqreg q[5];\\ncreg aaac[5];\\ncreg c[5];\\nu2(0.0,3.141592653589793) q[2];\\nmeasure q[2] -> aaac[0];\\nif(aaac==1) u3(3.141592653589793,0.0,3.141592653589793) q[2];\\nmeasure q[0] -> c[0];\\n'}, {'key': ['2.0'], 'x': 'IBMQASM 2.0;\\ninclude \"qelib1.inc\";\\nqreg q[5];\\ncreg aaac[5];\\ncreg c[5];\\nu2(0.0,3.141592653589793) q[2];\\nmeasure q[2] -> aaac[0];\\nif(aaac==1) u3(3.141592653589793,0.0,3.141592653589793) q[2];\\nu2(0.0,3.141592653589793) q[0];\\nu2(0.0,3.141592653589793) q[0];\\nmeasure q[0] -> c[0];\\n', 'y': 'IBMQASM 2.0;\\ninclude \"qelib1.inc\";\\nqreg q[5];\\ncreg aaac[5];\\ncreg c[5];\\nu2(0.0,3.141592653589793) q[2];\\nmeasure q[2] -> aaac[0];\\nif(aaac==1) u3(3.141592653589793,0.0,3.141592653589793) q[2];\\nu2(0.0,3.141592653589793) q[0];\\nu1(-1.5707963267948966) q[0];\\nu2(0.0,3.141592653589793) q[0];\\nmeasure q[0] -> c[0];\\n', 'z': 'IBMQASM 2.0;\\ninclude \"qelib1.inc\";\\nqreg q[5];\\ncreg aaac[5];\\ncreg c[5];\\nu2(0.0,3.141592653589793) q[2];\\nmeasure q[2] -> aaac[0];\\nif(aaac==1) u3(3.141592653589793,0.0,3.141592653589793) q[2];\\nu2(0.0,3.141592653589793) q[0];\\nmeasure q[0] -> c[0];\\n'}, {'key': ['3.0'], 'x': 'IBMQASM 2.0;\\ninclude \"qelib1.inc\";\\nqreg q[5];\\ncreg aaac[5];\\ncreg c[5];\\nu2(0.0,3.141592653589793) q[2];\\nmeasure q[2] -> aaac[0];\\nif(aaac==1) u3(3.141592653589793,0.0,3.141592653589793) q[2];\\nu2(0.0,3.141592653589793) q[0];\\ncx q[0],q[1];\\nu2(0.0,3.141592653589793) q[0];\\nmeasure q[0] -> c[0];\\n', 'y': 'IBMQASM 2.0;\\ninclude \"qelib1.inc\";\\nqreg q[5];\\ncreg aaac[5];\\ncreg c[5];\\nu2(0.0,3.141592653589793) q[2];\\nmeasure q[2] -> aaac[0];\\nif(aaac==1) u3(3.141592653589793,0.0,3.141592653589793) q[2];\\nu2(0.0,3.141592653589793) q[0];\\ncx q[0],q[1];\\nu1(-1.5707963267948966) q[0];\\nu2(0.0,3.141592653589793) q[0];\\nmeasure q[0] -> c[0];\\n', 'z': 'IBMQASM 2.0;\\ninclude \"qelib1.inc\";\\nqreg q[5];\\ncreg aaac[5];\\ncreg c[5];\\nu2(0.0,3.141592653589793) q[2];\\nmeasure q[2] -> aaac[0];\\nif(aaac==1) u3(3.141592653589793,0.0,3.141592653589793) q[2];\\nu2(0.0,3.141592653589793) q[0];\\ncx q[0],q[1];\\nmeasure q[0] -> c[0];\\n'}, {'key': ['4.0'], 'x': 'IBMQASM 2.0;\\ninclude \"qelib1.inc\";\\nqreg q[5];\\ncreg aaac[5];\\ncreg c[5];\\nu2(0.0,3.141592653589793) q[2];\\nmeasure q[2] -> aaac[0];\\nif(aaac==1) u3(3.141592653589793,0.0,3.141592653589793) q[2];\\nu2(0.0,3.141592653589793) q[0];\\ncx q[0],q[1];\\nu2(0.0,3.141592653589793) q[1];\\nmeasure q[1] -> c[0];\\n', 'y': 'IBMQASM 2.0;\\ninclude \"qelib1.inc\";\\nqreg q[5];\\ncreg aaac[5];\\ncreg c[5];\\nu2(0.0,3.141592653589793) q[2];\\nmeasure q[2] -> aaac[0];\\nif(aaac==1) u3(3.141592653589793,0.0,3.141592653589793) q[2];\\nu2(0.0,3.141592653589793) q[0];\\ncx q[0],q[1];\\nu1(-1.5707963267948966) q[1];\\nu2(0.0,3.141592653589793) q[1];\\nmeasure q[1] -> c[0];\\n', 'z': 'IBMQASM 2.0;\\ninclude \"qelib1.inc\";\\nqreg q[5];\\ncreg aaac[5];\\ncreg c[5];\\nu2(0.0,3.141592653589793) q[2];\\nmeasure q[2] -> aaac[0];\\nif(aaac==1) u3(3.141592653589793,0.0,3.141592653589793) q[2];\\nu2(0.0,3.141592653589793) q[0];\\ncx q[0],q[1];\\nmeasure q[1] -> c[0];\\n'}]\n"
     ]
    }
   ],
   "source": [
    "device = \"simulator\"  # simulator or real\n",
    "shots = 1024\n",
    "# Simulator inputs can contain cregs, measurements, and ifs\n",
    "mysrcsim=\"\"\"\n",
    "OPENQASM 2.0;\n",
    "include \"qelib1.inc\";\n",
    "opaque bloch(p) q;\n",
    "qreg q[5];\n",
    "creg c[5];\n",
    "bloch(1) q[0];\n",
    "h q[0];\n",
    "bloch(2) q[0];\n",
    "cx q[0],q[1];\n",
    "bloch(3) q[0];\n",
    "bloch(4) q[1];\n",
    "h q[2];\n",
    "measure q[2] -> c[0];\n",
    "if(c==1) x q[2];\n",
    "\"\"\"\n",
    "\n",
    "# Real device inputs cannot contain any cregs - your job will fail\n",
    "mysrcreal=\"\"\"\n",
    "OPENQASM 2.0;\n",
    "include \"qelib1.inc\";\n",
    "opaque bloch(p) q;\n",
    "qreg q[5];\n",
    "bloch(1) q[0];\n",
    "h q[0];\n",
    "bloch(2) q[0];\n",
    "cx q[0],q[1];\n",
    "bloch(3) q[0];\n",
    "bloch(4) q[1];\n",
    "\"\"\"\n",
    "\n",
    "# Generate and execute each experiment on the Quantum Experience\n",
    "exps = bloch.make_bloch_circuits(mysrcsim)\n",
    "print(exps)\n",
    "#blochvecs = []\n",
    "#for i in range(len(exps)):\n",
    "#    results = []\n",
    "#    for m in [\"x\",\"y\",\"z\"]:\n",
    "#        expname=basename+\"_%d_%s\"%(i,m)\n",
    "#        print(\"device=%s, shots=%s, expname=%s\"%(device,shots,expname))\n",
    "#        #print(\"%s\\n\"%exps[i][m])\n",
    "#        out = api.runExperiment(exps[i][m],device,shots,expname)\n",
    "#        #print(\"%s\"%out)\n",
    "#        results.append(out[\"result\"][\"measure\"])\n",
    "#    xdat = dict(zip(results[0][\"labels\"],results[0][\"values\"]))\n",
    "#    ydat = dict(zip(results[1][\"labels\"],results[1][\"values\"]))\n",
    "#    zdat = dict(zip(results[2][\"labels\"],results[2][\"values\"]))\n",
    "#    #print(\"xdat=%s, ez=%f\"%(xdat,bloch.ez(xdat,0)))\n",
    "#    #print(\"ydat=%s, ez=%f\"%(ydat,bloch.ez(ydat,0)))\n",
    "#    #print(\"zdat=%s, ez=%f\"%(zdat,bloch.ez(zdat,0)))\n",
    "#    blochvecs.append((bloch.ez(xdat,0),bloch.ez(ydat,0),bloch.ez(zdat,0)))\n",
    "\n",
    "## Report and plot the results\n",
    "#print(\"bloch vectors =\\n%s\"%blochvecs)\n",
    "#for i in range(len(blochvecs)):\n",
    "#    print(\"bloch #%s, params=%s\"%(i,\",\".join(exps[i][\"key\"])))\n",
    "#    plot_bloch_vector(blochvecs[i])\n"
   ]
  },
  {
   "cell_type": "code",
   "execution_count": null,
   "metadata": {
    "collapsed": true
   },
   "outputs": [],
   "source": []
  }
 ],
 "metadata": {
  "anaconda-cloud": {},
  "kernelspec": {
   "display_name": "Python 3",
   "language": "python",
   "name": "python3"
  },
  "language_info": {
   "codemirror_mode": {
    "name": "ipython",
    "version": 3
   },
   "file_extension": ".py",
   "mimetype": "text/x-python",
   "name": "python",
   "nbconvert_exporter": "python",
   "pygments_lexer": "ipython3",
   "version": "3.6.0"
  }
 },
 "nbformat": 4,
 "nbformat_minor": 1
}
