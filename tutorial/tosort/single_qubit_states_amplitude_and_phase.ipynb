{
 "cells": [
  {
   "cell_type": "markdown",
   "metadata": {},
   "source": [
    "<img src=\"../images/QISKit-c.gif\" alt=\"Note: In order for images to show up in this jupyter notebook you need to select File => Trusted Notebook\" width=\"250 px\" align=\"left\">"
   ]
  },
  {
   "cell_type": "markdown",
   "metadata": {},
   "source": [
    "## _*Single qubit states: amplitude and phase*_ \n",
    "\n",
    "The latest version of this notebook is available on https://github.com/IBM/qiskit-sdk-py/tree/master/scripts.\n",
    "\n",
    "For more information about how to use the Quantum Experience consult the [Quantum Experience tutorials](https://quantumexperience.ng.bluemix.net/qstage/#/tutorial?sectionId=c59b3710b928891a1420190148a72cce&pageIndex=0) or check-out the [community](https://quantumexperience.ng.bluemix.net/qstage/#/community).\n",
    "\n",
    "***\n",
    "### Contributors\n",
    "Jay Gambetta"
   ]
  },
  {
   "cell_type": "markdown",
   "metadata": {},
   "source": [
    "## Introduction\n",
    "In [superposition and entanglement](scripts/superposition_and_entanglement.ipynb) we looked at the concept of computational states, and superpostion states. Here we continue the developement of the understanding of a quantum state by introducing the concept of amplitude and phase. "
   ]
  },
  {
   "cell_type": "markdown",
   "metadata": {},
   "source": [
    "## A qubit \n",
    "\n",
    "The fundamental unit of quantum information is a qubit. It is a two-dimensional vector space of the complex numbers $\\mathbb{C}^2$. A qubit has some similariers to a classical bit, but overall very different. Like a bit, a qubit can have two possible values - normally a 0 or a 1 which we denote $|0\\rangle$ and $|1\\rangle$. The difference is that wheras a bit must be either 0 or 1, a qubit can be 0, 1, or a superpostion of both. An arbitrary pure state of the qubit can be written as \n",
    "\n",
    "$$ |\\psi\\rangle = \\alpha |0\\rangle + \\beta |1\\rangle$$\n",
    "\n",
    "where $\\alpha$ and $\\beta$ are complesx numbers with the only constraint that $|\\alpha|^2 + |\\beta|^2=1$ from conservation of probability. This allow us to define a pure state for a qubit by \n",
    "\n",
    "$$ |\\psi\\rangle = \\cos(\\theta/2)|0\\rangle + e^{i\\phi} \\sin(\\theta/2) |1\\rangle$$\n",
    "\n",
    "where $0\\leq \\phi < 2\\pi$ and $0 \\leq \\theta \\leq \\pi$. \n",
    "\n",
    "\n",
    "Quantum gates for a qubit are  represented $2\\times2$ unitary matrix $U$. The action on the quantum gate is found by\n",
    "\n",
    "$$ |\\psi'\\rangle = U |\\psi \\rangle $$ and the most general unitary must be able to take $|0\\rangle to the above state. \n",
    "This gives \n",
    "\n",
    "$$U = \\begin{pmatrix} \\cos(\\theta/2) & a \\\\ e^{i\\phi}\\sin(\\theta/2) & b \\end{pmatrix}$$ \n",
    "\n",
    "where $a$ and $b$ are complex numbers constrained such that $U^\\dagger U = I$ for all $0\\leq \\theta \\leq \\pi$ and $0\\leq\\phi < 2\\pi$. This gives 3 constraints and as such $a\\rightarrow -e^{i\\lambda} \\sin(\\theta/2)$ and $b \\rightarrow e^{i\\lambda + i \\phi} \\cos(\\theta/2)$ where $0\\leq \\lambda < 2\\pi$\n",
    "\n",
    "$$U = \\begin{pmatrix} \\cos(\\theta/2) & a \\\\ e^{i\\phi}\\sin(\\theta/2) & b \\end{pmatrix}$$ \n",
    "\n",
    "\n"
   ]
  },
  {
   "cell_type": "code",
   "execution_count": null,
   "metadata": {
    "collapsed": true
   },
   "outputs": [],
   "source": []
  }
 ],
 "metadata": {
  "anaconda-cloud": {},
  "kernelspec": {
   "display_name": "Python 3",
   "language": "python",
   "name": "python3"
  },
  "language_info": {
   "codemirror_mode": {
    "name": "ipython",
    "version": 3
   },
   "file_extension": ".py",
   "mimetype": "text/x-python",
   "name": "python",
   "nbconvert_exporter": "python",
   "pygments_lexer": "ipython3",
   "version": "3.6.0"
  }
 },
 "nbformat": 4,
 "nbformat_minor": 0
}
