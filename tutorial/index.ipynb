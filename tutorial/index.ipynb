{
 "cells": [
  {
   "cell_type": "markdown",
   "metadata": {},
   "source": [
    "<img src=\"./images/QISKit-c.gif\" alt=\"Note: In order for images to show up in this jupyter notebook you need to select File => Trusted Notebook\" width=\"250 px\" align=\"left\">"
   ]
  },
  {
   "cell_type": "markdown",
   "metadata": {},
   "source": [
    "## _*QISKit *_ \n",
    "\n",
    "The latest version of this notebook is available on https://github.com/IBM/qiskit-sdk-py/tree/master/scripts.\n",
    "\n",
    "For more information about how to use the Quantum Experience consult the [Quantum Experience tutorials](https://quantumexperience.ng.bluemix.net/qstage/#/tutorial?sectionId=c59b3710b928891a1420190148a72cce&pageIndex=0) or check-out the [community](https://quantumexperience.ng.bluemix.net/qstage/#/community).\n",
    "\n",
    "***\n",
    "### Contributors\n",
    "Jay M. Gambetta, Antonio Córcoles, Andrew Cross, Ismael Faro, Andreas Fuhrer "
   ]
  },
  {
   "cell_type": "markdown",
   "metadata": {},
   "source": [
    "## Introduction\n",
    "QISKit is a simple set of tools for exporing quantum information science. We have put together a set of Jupyter notebooks to demonstrate how to use our tools and explore the quantum world.\n",
    "\n",
    "Currently we have organized these notebooks into the following topics:\n",
    "\n",
    "1. Introducing the tools. \n",
    "2. Exploring quantum physics \n",
    "3. Verification tools for quantum science \n",
    "4. Appications of short depth quantum circuits on quantum computers "
   ]
  },
  {
   "cell_type": "markdown",
   "metadata": {},
   "source": [
    "## Introducing the tools\n",
    "\n",
    "These notebooks give an introduction to using the QISKit tools\n",
    "* [Getting Started with QISKit SDK, Tutorial for Developers](sections/tutorial4developer.ipynb) shows how to use the the QISKit SDK tools.  \n",
    "* Running the Local simulator \n",
    "* Running on a real chip\n",
    "* load/save a quantum program\n",
    "* Visualizing a quanutm state"
   ]
  },
  {
   "cell_type": "markdown",
   "metadata": {},
   "source": [
    "## Exploring quantum physics \n",
    "\n",
    "The next set of notebooks show how you explore some simple concepts of quantum information science. Currently we have:\n",
    "\n",
    "* [Superposition and entanglement](sections/superposition_and_entanglement.ipynb) -  illustrates how to make simple quantum states on one and two qubits and shows concepts such as a quantum superpositions and entanglement. \n",
    "* [Single qubit states: amplitude and phase] TODO WITH JAY illustrates more complicated single qubit states.  \n",
    "* [Entanglement revisited](sections/entanglement_revisited.ipynb) - illustrates the CHSH inequality and extensions for three qubits (Mermin). \n",
    "* Quantum sphere TODO WITH JAY\n",
    "* Quantum teleportation TODO WITH JAY\n",
    "* Quantum superdense coding TODO WITH JAY"
   ]
  },
  {
   "cell_type": "markdown",
   "metadata": {
    "collapsed": true
   },
   "source": [
    "## Verification tools for quantum science\n",
    "\n",
    "The next set of notebooks show how you explore tools for verification of quantum systems. Currently we have:\n",
    "\n",
    "* quantum state tomography TODO WITH JAY\n",
    "* quantum process tomography TODO WITH JAY\n",
    "* pauli randomized benchmarking TODO WITH JAY\n",
    "* standard randomized benchmarking TODO WITH JAY\n",
    "* purity randomized benchmarking TODO WITH JAY\n",
    "* leakage randomized benchmarking TODO WITH JAY\n",
    "* simultaneous randomized benchmarking TODO WITH JAY\n",
    "* gate set tomography TODO WITH JAY"
   ]
  },
  {
   "cell_type": "markdown",
   "metadata": {},
   "source": [
    "## Appications of quantum science\n",
    "\n",
    "The next set of notebooks show how you explore applications of short depth quantum computers. Currently we have:\n",
    "\n",
    "* [Quantum optimization](sections/classical_optimization.ipynb) -  illustrates how to use a quantum computer to look at optimization problems. \n",
    "* Quantum chemistry by VQE TODO WITH JAY\n",
    "* Iterative Phase estimation TODO WITH JAY"
   ]
  },
  {
   "cell_type": "code",
   "execution_count": null,
   "metadata": {
    "collapsed": true
   },
   "outputs": [],
   "source": []
  }
 ],
 "metadata": {
  "anaconda-cloud": {},
  "kernelspec": {
   "display_name": "Python [default]",
   "language": "python",
   "name": "python3"
  },
  "language_info": {
   "codemirror_mode": {
    "name": "ipython",
    "version": 3
   },
   "file_extension": ".py",
   "mimetype": "text/x-python",
   "name": "python",
   "nbconvert_exporter": "python",
   "pygments_lexer": "ipython3",
   "version": "3.5.2"
  }
 },
 "nbformat": 4,
 "nbformat_minor": 1
}
