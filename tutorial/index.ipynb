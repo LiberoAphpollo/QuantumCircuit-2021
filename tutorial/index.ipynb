{
 "cells": [
  {
   "cell_type": "markdown",
   "metadata": {},
   "source": [
    "<img src=\"images/QISKit-c.gif\" alt=\"Note: In order for images to show up in this jupyter notebook you need to select File => Trusted Notebook\" width=\"250 px\" align=\"left\">"
   ]
  },
  {
   "cell_type": "markdown",
   "metadata": {},
   "source": [
    "## _*QISKit (Quantum Information Software Kit) *_ \n",
    "\n",
    "The latest version of this notebook is available on https://github.com/IBM/qiskit-sdk-py/tree/master/scripts.\n",
    "\n",
    "For more information about how to use the IBM Q experience (QX), consult the [tutorials](https://quantumexperience.ng.bluemix.net/qstage/#/tutorial?sectionId=c59b3710b928891a1420190148a72cce&pageIndex=0), or check out the [community](https://quantumexperience.ng.bluemix.net/qstage/#/community).\n",
    "\n",
    "***\n",
    "### Contributors (alphabetical)\n",
    "Jerry Chow, Antonio Córcoles, Abigail Cross, Andrew Cross, Ismael Faro, Andreas Fuhrer, Jay M. Gambetta, Antonio Mezzacapo, Ramis Movassagh, Anna Phan, Rudy Raymond, Kristan Temme, Chris Wood\n",
    "\n",
    "In future releases, anyone who contributes to the tutorial can include their name here."
   ]
  },
  {
   "cell_type": "markdown",
   "metadata": {},
   "source": [
    "## Introduction\n",
    "Welcome to QISKit! Interested in quantum computing and programming a real live quantum processor? QISKit is a simple set of tools for anyone to get started with quantum information science. We have put together these Jupyter notebooks to demonstrate how to use our tools and explore the quantum world.\n",
    "\n",
    "The notebooks are organized into the following topics:\n",
    "\n",
    "1. [Introducing the tools](#section1)\n",
    "2. [Exploring quantum physics](#section2)\n",
    "3. [Verification tools for quantum science](#section3)\n",
    "4. [Applications of short-depth quantum circuits on quantum computers](#section4)\n",
    "5. [Quantum games](#section5) "
   ]
  },
  {
   "cell_type": "markdown",
   "metadata": {},
   "source": [
    "## 1. Introducing the tools<a id='section1'></a>\n",
    "\n",
    "In this first topic, we break down the tools in this QISKit SDK, and introduce all the different parts to make this useful. Our list of introductory notebooks:\n",
    "* [Getting Started with QISKit SDK](sections/getting_started.ipynb) -  how to use the the QISKit SDK tools. \n",
    "* [Understanding the Different Backends](sections/working_with_backends.ipynb) -  how to get information about the connected backends.\n",
    "* [Compiling and Running a Quantum Program](sections/compiling_and_running.ipynb) - how to rewrite circuits to different backends.\n",
    "* Loading and Saving a Quantum Program [coming soon]\n",
    "* [Visualizing a Quantum State](sections/visualizing_quantum_state.ipynb) -  illustrates the different tools we have for visualizing a quantum state"
   ]
  },
  {
   "cell_type": "markdown",
   "metadata": {},
   "source": [
    "## 2. Exploring quantum information concepts<a id='section2'></a> \n",
    "\n",
    "The next set of notebooks shows how you can explore some simple concepts of quantum information science. \n",
    "\n",
    "* [Superposition and Entanglement](sections/superposition_and_entanglement.ipynb) -  how to make simple quantum states on one and two qubits, and demonstrates concepts such as quantum superpositions and entanglement. \n",
    "* [Single-qubit States: Amplitude and Phase](sections/single_qubit_states_amplitude_and_phase.ipynb) - discusses more complicated single-qubit states.  \n",
    "* [Single-qubit Quantum Random Access Coding](sections/single-qubit_quantum_random_access_coding.ipynb) - how superpositions of one-qubit quantum states can be used to encode two and three bits into one qubit, and how measurements can be used to decode any one bit with a success probability of more than half.   \n",
    "* [Two-qubit Quantum Random Access Coding](sections/two-qubit_state_quantum_random_access_coding.ipynb) - how superposition and entanglement can be used to encode seven bits of information into two qubits, such that any one of seven bits can be recovered probabilistically.\n",
    "* [Entanglement Revisited](sections/entanglement_revisited.ipynb) - the CHSH inequality, and extensions for three qubits (Mermin). \n",
    "* [Quantum Teleportation](sections/quantum_teleportation.ipynb) -  introduces quantum teleportation.\n",
    "* [Quantum Superdense Coding](sections/superdense_coding.ipynb) - introduces the concept of superdense coding."
   ]
  },
  {
   "cell_type": "markdown",
   "metadata": {
    "collapsed": true
   },
   "source": [
    "## 3. Verification tools for quantum information science<a id='section3'></a>\n",
    "\n",
    "The third set of notebooks allows you to explore tools for verification of quantum systems with commonly used techniques such as tomography and randomized benchmarking.\n",
    "\n",
    "### Error Amplications methods\n",
    "* [Relaxation and decoherence](sections/Relaxation_and_decoherence.ipynb) - a simple notebook showing how to measure coherence \n",
    "\n",
    "### Tomography methods\n",
    "* [Quantum state tomography](sections/state_tomography.ipynb) -  how to run quantum state tomography\n",
    "* [Quantum process tomography](sections/process_tomography.ipynb) - how to run quantum process tomography\n",
    "\n",
    "### Randomization methods\n",
    "* Pauli randomized benchmarking [coming soon]\n",
    "* Standard randomized benchmarking [coming soon]\n",
    "* Purity randomized benchmarking [coming soon]\n",
    "* Leakage randomized benchmarking [coming soon]\n",
    "* Simultaneous randomized benchmarking [coming soon]\n"
   ]
  },
  {
   "cell_type": "markdown",
   "metadata": {},
   "source": [
    "## 4. Applications of quantum information science<a id='section4'></a>\n",
    "\n",
    "To fully grasp the possibilities, this set of notebooks shows how you can explore applications of short-depth quantum computers.\n",
    "\n",
    "### Sampling \n",
    "* [Quantum optimization](sections/classical_optimization.ipynb) by variational quantum eigensolver method -  illustrates how to use a quantum computer to look at optimization problems. \n",
    "* [Quantum chemistry](sections/quantum_chemistry.ipynb) by variational quantum eigensolver method -  discusses using a quantum computer to look at chemistry problems. \n",
    "\n",
    "### Non-Sampling \n",
    "* [Iterative phase estimation](sections/iterative_phase_estimation_algorithm.ipynb)"
   ]
  },
  {
   "cell_type": "markdown",
   "metadata": {
    "collapsed": true
   },
   "source": [
    "## 5. Quantum Games<a id='section5'></a>\n",
    "\n",
    "The notebooks below show how quantum algorithms can be used to play games and solve puzzles in different ways that cannot be done with their classical counterparts.\n",
    "\n",
    "* [Quantum counterfeit coin finding](sections/Quantum_counterfeit_coin_problem.ipynb) algorithm: can you solve [the counterfeit coin riddle](https://ed.ted.com/lessons/can-you-solve-the-counterfeit-coin-riddle-jennifer-lu)? You are given a quantum computer and quantum beam balance, and your task is to find a counterfeit coin hidden in a set of coins. Armed with the knowledge of the Bernstein-Vazirani algorithm, you can easily find the counterfeit coin using the beam balance only once.\n"
   ]
  },
  {
   "cell_type": "code",
   "execution_count": null,
   "metadata": {
    "collapsed": true
   },
   "outputs": [],
   "source": []
  }
 ],
 "metadata": {
  "anaconda-cloud": {},
  "kernelspec": {
   "display_name": "Python 3",
   "language": "python",
   "name": "python3"
  },
  "language_info": {
   "codemirror_mode": {
    "name": "ipython",
    "version": 3
   },
   "file_extension": ".py",
   "mimetype": "text/x-python",
   "name": "python",
   "nbconvert_exporter": "python",
   "pygments_lexer": "ipython3",
   "version": "3.6.1"
  }
 },
 "nbformat": 4,
 "nbformat_minor": 1
}
