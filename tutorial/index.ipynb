{
 "cells": [
  {
   "cell_type": "markdown",
   "metadata": {},
   "source": [
    "<img src=\"../images/QISKit-c.gif\" alt=\"Note: In order for images to show up in this jupyter notebook you need to select File => Trusted Notebook\" width=\"250 px\" align=\"left\">"
   ]
  },
  {
   "cell_type": "markdown",
   "metadata": {},
   "source": [
    "## _*QISKit (Quantum Information Software Kit) *_ \n",
    "\n",
    "The latest version of this notebook is available on https://github.com/IBM/qiskit-sdk-py/tree/master/scripts.\n",
    "\n",
    "For more information about how to use the IBM Q experience (QX), consult the [tutorials](https://quantumexperience.ng.bluemix.net/qstage/#/tutorial?sectionId=c59b3710b928891a1420190148a72cce&pageIndex=0), or check out the [community](https://quantumexperience.ng.bluemix.net/qstage/#/community).\n",
    "\n",
    "***\n",
    "### Contributors (alphabetical)\n",
    "Antonio Córcoles, Jerry Chow, Abigail Cross, Andrew Cross, Ismael Faro, Andreas Fuhrer, Jay Gambetta\n",
    "\n",
    "In future releases, anyone who contributes to the tutorial can include their name here."
   ]
  },
  {
   "cell_type": "markdown",
   "metadata": {},
   "source": [
    "## Introduction\n",
    "Welcome to QISKit! Interested in quantum computing and programming a real live quantum processor? QISKit is a simple set of tools for anyone to get started exploring quantum information science. We have put together a set of Jupyter notebooks to demonstrate how to use our tools and explore the quantum world.\n",
    "\n",
    "The notebooks are organized into the following topics:\n",
    "\n",
    "1. [Introducing the tools](#section1)\n",
    "2. [Exploring quantum physics](#section2)\n",
    "3. [Verification tools for quantum science](#section3)\n",
    "4. [Appications of short depth quantum circuits on quantum computers](#section4)\n",
    "5. [Quantum games](#section5) "
   ]
  },
  {
   "cell_type": "markdown",
   "metadata": {},
   "source": [
    "## 1. Introducing the tools<a id='section1'></a>\n",
    "\n",
    "In this first topic, we break down the tools in this QISKit SDK, and introduce all the different parts to make this useful. Our list of introductory notebooks:\n",
    "* [Getting Started with QISKit SDK](sections/tutorial4developer.ipynb) shows how to use the the QISKit SDK tools.  \n",
    "* Loading and Saving a Quantum Program [coming soon]\n",
    "* Visualizing a Quantum State [coming soon]"
   ]
  },
  {
   "cell_type": "markdown",
   "metadata": {},
   "source": [
    "## 2. Exploring quantum information concepts<a id='section2'></a> \n",
    "\n",
    "The next set of notebooks shows how you can explore some simple concepts of quantum information science. \n",
    "\n",
    "* [Superposition and entanglement](sections/superposition_and_entanglement.ipynb) -  illustrates how to make simple quantum states on one and two qubits, and demonstrates concepts such as quantum superpositions and entanglement. \n",
    "* Single-qubit states: amplitude and phase [coming soon] illustrates more complicated single qubit states.  \n",
    "* [Entanglement revisited](sections/entanglement_revisited.ipynb) - illustrates the CHSH inequality, and extensions for three qubits (Mermin). \n",
    "* Quantum teleportation [coming soon]\n",
    "* Quantum superdense coding [coming soon]"
   ]
  },
  {
   "cell_type": "markdown",
   "metadata": {
    "collapsed": true
   },
   "source": [
    "## 3. Verification tools for quantum information science<a id='section3'></a>\n",
    "\n",
    "The third set of notebooks allows you to explore tools for verification of quantum systems with commonly-used techniques such as tomography and randomized benchmarking.\n",
    "\n",
    "* Quantum state tomography [coming soon]\n",
    "* Quantum process tomography [coming soon]\n",
    "* Pauli randomized benchmarking [coming soon]\n",
    "* Standard randomized benchmarking [coming soon]\n",
    "* Purity randomized benchmarking [coming soon]\n",
    "* Leakage randomized benchmarking [coming soon]\n",
    "* Simultaneous randomized benchmarking [coming soon]\n",
    "* Gate set tomography [coming soon]"
   ]
  },
  {
   "cell_type": "markdown",
   "metadata": {},
   "source": [
    "## 4. Applications of quantum information science<a id='section4'></a>\n",
    "\n",
    "To fully grasp the possibilities, this set of notebooks shows how you can explore applications of short depth quantum computers.\n",
    "\n",
    "### Sampling \n",
    "* Quantum optimization [coming soon] -  illustrates how to use a quantum computer to look at optimization problems. \n",
    "* Quantum chemistry by variational quantum eigensolver method [coming soon] -  illustrates how to use a quantum computer to look at chemistry problems. \n",
    "\n",
    "### Non Sampling \n",
    "* Iterative phase estimation [coming soon]"
   ]
  },
  {
   "cell_type": "markdown",
   "metadata": {
    "collapsed": true
   },
   "source": [
    "## 5. Quantum Games<a id='section5'></a>\n",
    "\n",
    "[coming soon]"
   ]
  },
  {
   "cell_type": "code",
   "execution_count": null,
   "metadata": {
    "collapsed": true
   },
   "outputs": [],
   "source": []
  }
 ],
 "metadata": {
  "anaconda-cloud": {},
  "kernelspec": {
   "display_name": "Python 3",
   "language": "python",
   "name": "python3"
  },
  "language_info": {
   "codemirror_mode": {
    "name": "ipython",
    "version": 3
   },
   "file_extension": ".py",
   "mimetype": "text/x-python",
   "name": "python",
   "nbconvert_exporter": "python",
   "pygments_lexer": "ipython3",
   "version": "3.6.0"
  }
 },
 "nbformat": 4,
 "nbformat_minor": 1
}
